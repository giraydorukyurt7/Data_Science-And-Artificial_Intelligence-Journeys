{
 "cells": [
  {
   "cell_type": "markdown",
   "metadata": {},
   "source": [
    "---\n",
    "---\n",
    "---\n",
    "# CONVOLUTION NEURAL NETWORKS (CNN)\n",
    "---\n",
    "---\n",
    "---"
   ]
  },
  {
   "cell_type": "markdown",
   "metadata": {},
   "source": [
    "---\n",
    "---\n",
    "# CNN İLE KATI ATIK TESPİTİ\n",
    "---\n",
    "---"
   ]
  },
  {
   "cell_type": "markdown",
   "metadata": {},
   "source": [
    "---\n",
    "1-) Business Problem (İş Problemi)\n",
    "\n",
    "2-) Data Understanding (Veriyi Anlamak)\n",
    "\n",
    "3-) Data Preparation (Veriyi Hazırlamak)\n",
    "\n",
    "4-) Modelling (Modelleme)\n",
    "\n",
    "5-) Evalation (Değerlendirme)\n",
    "\n",
    "6-) Saving Model and Using it to Predict (Modelin Kaydedilmesi ve Tahmin İçin Kullanılması)\n",
    "\n",
    "---"
   ]
  },
  {
   "cell_type": "markdown",
   "metadata": {},
   "source": [
    "1-) Business Problem (İş Problemi)\n",
    "\n",
    "* Plastik\n",
    "* Karton\n",
    "* Cam\n",
    "* vb..."
   ]
  },
  {
   "cell_type": "markdown",
   "metadata": {},
   "source": [
    "2-) Data Understanding (Veriyi Anlamak)\n",
    "\n",
    "![](CNN_Story_Of_The_Dataset.png)"
   ]
  },
  {
   "cell_type": "code",
   "execution_count": 4,
   "metadata": {},
   "outputs": [],
   "source": [
    "# GEREKLİ KÜTÜPHANELER\n",
    "\n",
    "# Veriyi Okuma ve işleme için;\n",
    "import cv2\n",
    "import urllib\n",
    "import numpy             as np\n",
    "import pandas            as pd\n",
    "import seaborn           as sns\n",
    "import random\n",
    "import os\n",
    "import glob\n",
    "from imutils        import paths\n",
    "import matplotlib.pyplot as plt\n",
    "from sklearn.utils  import shuffle\n",
    "from urllib.request import urlopen\n",
    "\n",
    "# Warning kapatmak için;\n",
    "import warnings\n",
    "warnings.filterwarnings(\"ignore\")\n",
    "\n",
    "# Model Değerlendirme için;\n",
    "from sklearn.metrics import confusion_matrix,classification_report\n",
    "\n",
    "# Model için;\n",
    "import tensorflow as tf\n",
    "from tensorflow.keras.models              import Sequential\n",
    "from tensorflow.keras.preprocessing       import image\n",
    "from tensorflow.keras.utils               import to_categorical\n",
    "from tensorflow.keras.callbacks           import ModelCheckpoint,EarlyStopping\n",
    "from tensorflow.keras.layers              import Conv2D,Flatten,MaxPooling2D,Dense,Dropout,SpatialDropout2D\n",
    "from tensorflow.keras.preprocessing.image import ImageDataGenerator,img_to_array,load_img,array_to_img"
   ]
  },
  {
   "cell_type": "code",
   "execution_count": null,
   "metadata": {},
   "outputs": [],
   "source": []
  }
 ],
 "metadata": {
  "kernelspec": {
   "display_name": "Python 3",
   "language": "python",
   "name": "python3"
  },
  "language_info": {
   "codemirror_mode": {
    "name": "ipython",
    "version": 3
   },
   "file_extension": ".py",
   "mimetype": "text/x-python",
   "name": "python",
   "nbconvert_exporter": "python",
   "pygments_lexer": "ipython3",
   "version": "3.12.4"
  }
 },
 "nbformat": 4,
 "nbformat_minor": 2
}
