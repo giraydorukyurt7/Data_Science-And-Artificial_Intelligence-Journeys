{
 "cells": [
  {
   "cell_type": "markdown",
   "metadata": {},
   "source": [
    "---\n",
    "---\n",
    "---\n",
    "# RECURRENT NEURAL NETWORKS (RNN)\n",
    "---\n",
    "---\n",
    "---"
   ]
  },
  {
   "cell_type": "markdown",
   "metadata": {},
   "source": [
    "---\n",
    "---\n",
    "# RNN APPLICATION: PASSENGER NUMBER ESTIMATION\n",
    "---\n",
    "---"
   ]
  },
  {
   "cell_type": "markdown",
   "metadata": {},
   "source": [
    "---\n",
    "1-) Business Problem (İş Problemi)\n",
    "\n",
    "2-) Data Understanding (Veriyi Anlamak)\n",
    "\n",
    "3-) Data Preparation (Veriyi Hazırlamak)\n",
    "\n",
    "4-) Modelling (Modelleme)\n",
    "\n",
    "5-) Evalation (Değerlendirme)\n",
    "\n",
    "6-) Using it to Predict (Tahmin İçin Kullanılması)\n",
    "\n",
    "---"
   ]
  },
  {
   "cell_type": "markdown",
   "metadata": {},
   "source": [
    "1-) Business Problem (İş Problemi)\n",
    "\n",
    "Amaç; geçmiş yıllarda havayolunu kullanan yolcu bilgilerini kullanarak gelecek yılları tahmin etmek.\n",
    "\n",
    "Aylık yolcu sayıları verilmiştir.\n",
    "\n",
    "---\n",
    "\n",
    "* Month: aylık olarak yer alan tarih değişkenidir.\n",
    "* Passengers: İlgili işlem tarihindeki aylık yolcu sayısı."
   ]
  },
  {
   "cell_type": "markdown",
   "metadata": {},
   "source": [
    "2-) Data Understanding (Veriyi Anlamak)\n",
    "\n",
    "2.1-) Data Understanding (Veriyi Anlamak)\n",
    "\n",
    "![](CNN_Story_Of_The_Dataset.png)"
   ]
  },
  {
   "cell_type": "code",
   "execution_count": 1,
   "metadata": {},
   "outputs": [
    {
     "name": "stdout",
     "output_type": "stream",
     "text": [
      "WARNING:tensorflow:From C:\\Users\\Giray\\AppData\\Local\\Temp\\ipykernel_18828\\910732380.py:28: The name tf.logging.set_verbosity is deprecated. Please use tf.compat.v1.logging.set_verbosity instead.\n",
      "\n"
     ]
    }
   ],
   "source": [
    "# GEREKLİ KÜTÜPHANELER\n",
    "\n",
    "# Veriyi Okuma ve işleme için;\n",
    "import numpy             as np\n",
    "import pandas            as pd\n",
    "import datetime          as dt\n",
    "import tensorflow        as tf\n",
    "import matplotlib.pyplot as plt\n",
    "import random\n",
    "\n",
    "# Model Değerlendirme için;\n",
    "from sklearn.preprocessing import MinMaxScaler\n",
    "from sklearn.metrics       import mean_squared_error\n",
    "\n",
    "# Model için;\n",
    "\n",
    "from tensorflow.keras.models              import Sequential\n",
    "from tensorflow.keras.layers              import Dense,SimpleRNN,Dropout\n",
    "from tensorflow.keras.callbacks           import ModelCheckpoint,EarlyStopping\n",
    "\n",
    "# Warning kapatmak için;\n",
    "import warnings\n",
    "warnings.filterwarnings(\"ignore\")\n",
    "\n",
    "# Tensorflow Warning Engelleme için;\n",
    "import os\n",
    "os.environ['TF_CPP_MIN_LOG_LEVEL'] = \"3\"\n",
    "tf.compat.v1.logging.set_verbosity(tf.compat.v1.logging.ERROR)"
   ]
  },
  {
   "cell_type": "code",
   "execution_count": null,
   "metadata": {},
   "outputs": [],
   "source": []
  }
 ],
 "metadata": {
  "kernelspec": {
   "display_name": "Python 3",
   "language": "python",
   "name": "python3"
  },
  "language_info": {
   "codemirror_mode": {
    "name": "ipython",
    "version": 3
   },
   "file_extension": ".py",
   "mimetype": "text/x-python",
   "name": "python",
   "nbconvert_exporter": "python",
   "pygments_lexer": "ipython3",
   "version": "3.12.4"
  }
 },
 "nbformat": 4,
 "nbformat_minor": 2
}
