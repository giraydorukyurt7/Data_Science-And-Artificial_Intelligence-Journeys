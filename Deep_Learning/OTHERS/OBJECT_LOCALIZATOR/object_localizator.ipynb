{
 "cells": [
  {
   "cell_type": "markdown",
   "id": "5b69a268",
   "metadata": {},
   "source": [
    "---\n",
    "# Object Detection/Localizator\n",
    "---\n",
    "## Tasks Outline:\n",
    "\n",
    "#### Idea: start with the most basic task, gradually make it more complex \n",
    "* Step 1) identify actual boxes\n",
    "* Step 2) locate an actual object (a Pokemon)\n",
    "* Step 3) different sized objects\n",
    "* Step 4) flipped objects\n",
    "* Step 5) add actual backgrounds \n",
    "* Step 6) object may not appear \n",
    "* Step 7) multiple classes of objects"
   ]
  },
  {
   "cell_type": "markdown",
   "id": "e9b6c9c8",
   "metadata": {},
   "source": [
    "---\n",
    "---\n",
    "# Step 1) identify actual boxes\n",
    "---\n",
    "---"
   ]
  },
  {
   "cell_type": "code",
   "execution_count": 3,
   "id": "0cfd7c1b",
   "metadata": {},
   "outputs": [
    {
     "name": "stdout",
     "output_type": "stream",
     "text": [
      "2.10.0\n"
     ]
    }
   ],
   "source": [
    "import tensorflow as tf\n",
    "print(tf.__version__)\n",
    "\n",
    "import numpy as np\n",
    "import matplotlib.pyplot as plt\n",
    "\n",
    "from tensorflow.keras.layers import Flatten, Dense\n",
    "from tensorflow.keras.models import Model\n",
    "from tensorflow.keras.optimizers import Adam, SGD\n"
   ]
  },
  {
   "cell_type": "code",
   "execution_count": 5,
   "id": "70f6daaa",
   "metadata": {},
   "outputs": [],
   "source": [
    "vgg = tf.keras.applications.VGG16(input_shape=[100, 100, 3],\n",
    "                                  include_top=False,\n",
    "                                  weights='imagenet')"
   ]
  },
  {
   "cell_type": "code",
   "execution_count": 6,
   "id": "aeeee1f8",
   "metadata": {},
   "outputs": [],
   "source": [
    "x = Flatten()(vgg.output)\n",
    "x = Dense(4, activation='sigmoid')(x)\n",
    "model = Model(vgg.input, x)"
   ]
  },
  {
   "cell_type": "code",
   "execution_count": null,
   "id": "39a0c0df",
   "metadata": {},
   "outputs": [],
   "source": [
    "def image_generator(batch_size=64):\n",
    "    # generate image and targets\n",
    "    while True:\n",
    "        for _ in range(50): # Each epoch will have 50 batches. (No important reason)\n",
    "            X = np.zeros((batch_size, 100, 100, 3)) #100x100 images with rgb\n",
    "            Y = np.zeros((batch_size, 4))\n",
    "\n",
    "            for i, in range(batch_size): #make boxes and store their location in the target\n",
    "                row0 = np.random.randint(90)\n",
    "                col0 = np.random.randint(90)\n",
    "                row1 = np.random.randint(row0, 90) #row0<row1\n",
    "                col1 = np.random.randint(col0, 90) #col0<col1\n",
    "                \n",
    "                X[i,row0:row1,col0:col1,:]=1 #i'th element in the batch, between row&cols and every RGB = 1\n",
    "                Y[i,0] = row0/100.\n",
    "                Y[i,1] = col0/100.\n",
    "                Y[i,2] = (row1-row0)/100.\n",
    "                Y[i,3] = (col1-col0)/100.\n",
    "            yield X, Y\n"
   ]
  }
 ],
 "metadata": {
  "kernelspec": {
   "display_name": "tensorflow_env (3.7.9)",
   "language": "python",
   "name": "python3"
  },
  "language_info": {
   "codemirror_mode": {
    "name": "ipython",
    "version": 3
   },
   "file_extension": ".py",
   "mimetype": "text/x-python",
   "name": "python",
   "nbconvert_exporter": "python",
   "pygments_lexer": "ipython3",
   "version": "3.7.9"
  }
 },
 "nbformat": 4,
 "nbformat_minor": 5
}
