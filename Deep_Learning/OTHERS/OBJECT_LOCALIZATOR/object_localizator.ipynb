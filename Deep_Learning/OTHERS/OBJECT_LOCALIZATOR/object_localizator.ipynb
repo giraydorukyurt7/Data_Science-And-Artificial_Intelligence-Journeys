{
 "cells": [
  {
   "cell_type": "markdown",
   "id": "5b69a268",
   "metadata": {},
   "source": [
    "---\n",
    "# Object Detection/Localizator\n",
    "---\n",
    "## Tasks Outline:\n",
    "\n",
    "#### Idea: start with the most basic task, gradually make it more complex \n",
    "* Step 1) identify actual boxes\n",
    "* Step 2) locate an actual object (a Pokemon)\n",
    "* Step 3) different sized objects\n",
    "* Step 4) flipped objects\n",
    "* Step 5) add actual backgrounds \n",
    "* Step 6) object may not appear \n",
    "* Step 7) multiple classes of objects"
   ]
  },
  {
   "cell_type": "markdown",
   "id": "e9b6c9c8",
   "metadata": {},
   "source": [
    "---\n",
    "---\n",
    "# Step 1) identify actual boxes\n",
    "---\n",
    "---"
   ]
  },
  {
   "cell_type": "code",
   "execution_count": null,
   "id": "0cfd7c1b",
   "metadata": {
    "vscode": {
     "languageId": "plaintext"
    }
   },
   "outputs": [],
   "source": []
  }
 ],
 "metadata": {
  "language_info": {
   "name": "python"
  }
 },
 "nbformat": 4,
 "nbformat_minor": 5
}
