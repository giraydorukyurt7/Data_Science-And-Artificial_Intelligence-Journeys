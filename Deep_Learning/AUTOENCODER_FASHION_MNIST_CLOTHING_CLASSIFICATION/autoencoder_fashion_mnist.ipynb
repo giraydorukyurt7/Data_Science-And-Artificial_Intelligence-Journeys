{
 "cells": [
  {
   "cell_type": "markdown",
   "metadata": {},
   "source": [
    "# 0-) IMPORTS"
   ]
  },
  {
   "cell_type": "code",
   "execution_count": 1,
   "metadata": {},
   "outputs": [],
   "source": [
    "import numpy             as np\n",
    "import matplotlib.pyplot as plt\n",
    "import tensorflow        as tf\n",
    "\n",
    "from tensorflow.keras.datasets import fashion_mnist\n",
    "from tensorflow.keras.layers import Input, Dense\n",
    "from tensorflow.keras.models import Model\n",
    "from tensorflow.keras.optimizers             import Adam\n",
    "from tensorflow.keras.callbacks import EarlyStopping"
   ]
  },
  {
   "cell_type": "markdown",
   "metadata": {},
   "source": [
    "# 1-) DATA ANALYSIS"
   ]
  },
  {
   "cell_type": "code",
   "execution_count": 2,
   "metadata": {},
   "outputs": [],
   "source": [
    "(X_train,_),(X_test,_) = fashion_mnist.load_data()"
   ]
  },
  {
   "cell_type": "code",
   "execution_count": 3,
   "metadata": {},
   "outputs": [],
   "source": [
    "#Normalization\n",
    "X_train = X_train.astype(\"float32\")/255.0\n",
    "X_test  = X_test.astype(\"float32\")/255.0"
   ]
  },
  {
   "cell_type": "code",
   "execution_count": 4,
   "metadata": {},
   "outputs": [
    {
     "data": {
      "image/png": "[encoded data removed]",
      "text/plain": [
       "<Figure size 640x480 with 10 Axes>"
      ]
     },
     "metadata": {},
     "output_type": "display_data"
    }
   ],
   "source": [
    "#Visualization\n",
    "plt.figure()\n",
    "for i in range(10):\n",
    "    plt.subplot(2,5,i+1)\n",
    "    plt.imshow(X_train[i],cmap=\"gray\")\n",
    "    plt.axis(\"off\")\n",
    "plt.show()"
   ]
  },
  {
   "cell_type": "code",
   "execution_count": 5,
   "metadata": {},
   "outputs": [
    {
     "name": "stdout",
     "output_type": "stream",
     "text": [
      "(60000, 28, 28)\n",
      "(10000, 28, 28)\n",
      "60000\n",
      "10000\n"
     ]
    }
   ],
   "source": [
    "print(X_train.shape)\n",
    "print(X_test.shape)\n",
    "print(len(X_train))\n",
    "print(len(X_test))"
   ]
  },
  {
   "cell_type": "code",
   "execution_count": 6,
   "metadata": {},
   "outputs": [
    {
     "name": "stdout",
     "output_type": "stream",
     "text": [
      "(60000, 784)\n",
      "(10000, 784)\n",
      "60000\n",
      "10000\n"
     ]
    }
   ],
   "source": [
    "#Flatten to vector\n",
    "X_train = X_train.reshape((len(X_train),np.prod(X_train.shape[1:])))\n",
    "X_test  = X_test.reshape((len(X_test),np.prod(X_test.shape[1:])))\n",
    "\n",
    "print(X_train.shape)\n",
    "print(X_test.shape)\n",
    "print(len(X_train))\n",
    "print(len(X_test))"
   ]
  },
  {
   "cell_type": "markdown",
   "metadata": {},
   "source": [
    "# 2-) MODELLING"
   ]
  },
  {
   "cell_type": "markdown",
   "metadata": {},
   "source": [
    "## A-) ENCODER AND DECODER"
   ]
  },
  {
   "cell_type": "markdown",
   "metadata": {},
   "source": [
    "### a-) Autoencoder Parameters"
   ]
  },
  {
   "cell_type": "code",
   "execution_count": 7,
   "metadata": {},
   "outputs": [],
   "source": [
    "input_dim    = X_train.shape[1] #784\n",
    "encoding_dim = 64 # Latent size"
   ]
  },
  {
   "cell_type": "markdown",
   "metadata": {},
   "source": [
    "### b-) Encoder Layer And Decoder Layer"
   ]
  },
  {
   "cell_type": "code",
   "execution_count": 11,
   "metadata": {},
   "outputs": [
    {
     "name": "stdout",
     "output_type": "stream",
     "text": [
      "Model: \"model_1\"\n",
      "_________________________________________________________________\n",
      " Layer (type)                Output Shape              Param #   \n",
      "=================================================================\n",
      " input_2 (InputLayer)        [(None, 784)]             0         \n",
      "                                                                 \n",
      " dense_6 (Dense)             (None, 512)               401920    \n",
      "                                                                 \n",
      " dense_7 (Dense)             (None, 256)               131328    \n",
      "                                                                 \n",
      " dense_8 (Dense)             (None, 128)               32896     \n",
      "                                                                 \n",
      " dense_9 (Dense)             (None, 64)                8256      \n",
      "                                                                 \n",
      " dense_10 (Dense)            (None, 128)               8320      \n",
      "                                                                 \n",
      " dense_11 (Dense)            (None, 256)               33024     \n",
      "                                                                 \n",
      " dense_12 (Dense)            (None, 512)               131584    \n",
      "                                                                 \n",
      " dense_13 (Dense)            (None, 784)               402192    \n",
      "                                                                 \n",
      "=================================================================\n",
      "Total params: 1,149,520\n",
      "Trainable params: 1,149,520\n",
      "Non-trainable params: 0\n",
      "_________________________________________________________________\n"
     ]
    }
   ],
   "source": [
    "#encoder\n",
    "input_image = Input(shape=(input_dim,)) #784\n",
    "encoded     = Dense(512, activation=\"relu\")(input_image)\n",
    "encoded     = Dense(256, activation=\"relu\")(encoded)\n",
    "encoded     = Dense(128, activation=\"relu\")(encoded)\n",
    "encoded     = Dense(encoding_dim, activation=\"relu\")(encoded) #Latent space\n",
    "\n",
    "#decoder\n",
    "decoded     = Dense(128, activation=\"relu\")(encoded)\n",
    "decoded     = Dense(256, activation=\"relu\")(decoded)\n",
    "decoded     = Dense(512, activation=\"relu\")(decoded)\n",
    "decoded = Dense(input_dim, activation=\"sigmoid\")(decoded)# 784\n",
    "\n",
    "#Autoencoder = Encoder+Decoder\n",
    "autoencoder = Model(input_image,decoded)\n",
    "\n",
    "#Compile\n",
    "autoencoder.compile(optimizer = Adam(),\n",
    "                    loss      = \"binary_crossentropy\")\n",
    "\n",
    "autoencoder.summary()"
   ]
  },
  {
   "cell_type": "markdown",
   "metadata": {},
   "source": [
    "## C-) Model Training"
   ]
  },
  {
   "cell_type": "code",
   "execution_count": 12,
   "metadata": {},
   "outputs": [],
   "source": [
    "early_stopping = EarlyStopping(\n",
    "    monitor=\"val_loss\",         # Metric to monitor\n",
    "    patience=10,                 # Number of epochs with no improvement after which training will be stopped\n",
    "    verbose=1,                  # Verbosity mode, 1 will print messages when stopping\n",
    "    mode=\"min\",                 # We want to stop when the monitored metric has stopped decreasing\n",
    "    restore_best_weights=True)  # Restores model weights from the epoch with the best value of the monitored metric"
   ]
  },
  {
   "cell_type": "code",
   "execution_count": 13,
   "metadata": {},
   "outputs": [
    {
     "name": "stdout",
     "output_type": "stream",
     "text": [
      "Epoch 1/1000\n",
      "938/938 [==============================] - 5s 5ms/step - loss: 0.3186 - val_loss: 0.2988\n",
      "Epoch 2/1000\n",
      "938/938 [==============================] - 5s 5ms/step - loss: 0.2895 - val_loss: 0.2890\n",
      "Epoch 3/1000\n",
      "938/938 [==============================] - 5s 5ms/step - loss: 0.2829 - val_loss: 0.2841\n",
      "Epoch 4/1000\n",
      "938/938 [==============================] - 5s 5ms/step - loss: 0.2791 - val_loss: 0.2809\n",
      "Epoch 5/1000\n",
      "938/938 [==============================] - 5s 5ms/step - loss: 0.2765 - val_loss: 0.2778\n",
      "Epoch 6/1000\n",
      "938/938 [==============================] - 4s 5ms/step - loss: 0.2746 - val_loss: 0.2763\n",
      "Epoch 7/1000\n",
      "938/938 [==============================] - 5s 5ms/step - loss: 0.2734 - val_loss: 0.2758\n",
      "Epoch 8/1000\n",
      "938/938 [==============================] - 5s 5ms/step - loss: 0.2722 - val_loss: 0.2742\n",
      "Epoch 9/1000\n",
      "938/938 [==============================] - 5s 5ms/step - loss: 0.2713 - val_loss: 0.2751\n",
      "Epoch 10/1000\n",
      "938/938 [==============================] - 5s 5ms/step - loss: 0.2705 - val_loss: 0.2727\n",
      "Epoch 11/1000\n",
      "938/938 [==============================] - 5s 5ms/step - loss: 0.2698 - val_loss: 0.2723\n",
      "Epoch 12/1000\n",
      "938/938 [==============================] - 5s 5ms/step - loss: 0.2692 - val_loss: 0.2718\n",
      "Epoch 13/1000\n",
      "938/938 [==============================] - 5s 5ms/step - loss: 0.2687 - val_loss: 0.2713\n",
      "Epoch 14/1000\n",
      "938/938 [==============================] - 5s 5ms/step - loss: 0.2682 - val_loss: 0.2705\n",
      "Epoch 15/1000\n",
      "938/938 [==============================] - 5s 5ms/step - loss: 0.2678 - val_loss: 0.2705\n",
      "Epoch 16/1000\n",
      "938/938 [==============================] - 5s 5ms/step - loss: 0.2673 - val_loss: 0.2701\n",
      "Epoch 17/1000\n",
      "938/938 [==============================] - 5s 5ms/step - loss: 0.2670 - val_loss: 0.2700\n",
      "Epoch 18/1000\n",
      "938/938 [==============================] - 5s 5ms/step - loss: 0.2667 - val_loss: 0.2701\n",
      "Epoch 19/1000\n",
      "938/938 [==============================] - 5s 5ms/step - loss: 0.2664 - val_loss: 0.2694\n",
      "Epoch 20/1000\n",
      "938/938 [==============================] - 5s 5ms/step - loss: 0.2661 - val_loss: 0.2688\n",
      "Epoch 21/1000\n",
      "938/938 [==============================] - 5s 5ms/step - loss: 0.2659 - val_loss: 0.2686\n",
      "Epoch 22/1000\n",
      "938/938 [==============================] - 5s 5ms/step - loss: 0.2657 - val_loss: 0.2687\n",
      "Epoch 23/1000\n",
      "938/938 [==============================] - 5s 5ms/step - loss: 0.2654 - val_loss: 0.2690\n",
      "Epoch 24/1000\n",
      "938/938 [==============================] - 5s 5ms/step - loss: 0.2653 - val_loss: 0.2687\n",
      "Epoch 25/1000\n",
      "938/938 [==============================] - 5s 5ms/step - loss: 0.2651 - val_loss: 0.2687\n",
      "Epoch 26/1000\n",
      "938/938 [==============================] - 5s 5ms/step - loss: 0.2648 - val_loss: 0.2682\n",
      "Epoch 27/1000\n",
      "938/938 [==============================] - 5s 5ms/step - loss: 0.2647 - val_loss: 0.2683\n",
      "Epoch 28/1000\n",
      "938/938 [==============================] - 5s 5ms/step - loss: 0.2645 - val_loss: 0.2676\n",
      "Epoch 29/1000\n",
      "938/938 [==============================] - 5s 5ms/step - loss: 0.2644 - val_loss: 0.2678\n",
      "Epoch 30/1000\n",
      "938/938 [==============================] - 5s 5ms/step - loss: 0.2643 - val_loss: 0.2673\n",
      "Epoch 31/1000\n",
      "938/938 [==============================] - 5s 5ms/step - loss: 0.2641 - val_loss: 0.2671\n",
      "Epoch 32/1000\n",
      "938/938 [==============================] - 5s 5ms/step - loss: 0.2639 - val_loss: 0.2671\n",
      "Epoch 33/1000\n",
      "938/938 [==============================] - 5s 5ms/step - loss: 0.2637 - val_loss: 0.2678\n",
      "Epoch 34/1000\n",
      "938/938 [==============================] - 5s 5ms/step - loss: 0.2637 - val_loss: 0.2669\n",
      "Epoch 35/1000\n",
      "938/938 [==============================] - 5s 5ms/step - loss: 0.2635 - val_loss: 0.2670\n",
      "Epoch 36/1000\n",
      "938/938 [==============================] - 5s 5ms/step - loss: 0.2634 - val_loss: 0.2668\n",
      "Epoch 37/1000\n",
      "938/938 [==============================] - 5s 5ms/step - loss: 0.2633 - val_loss: 0.2671\n",
      "Epoch 38/1000\n",
      "938/938 [==============================] - 5s 5ms/step - loss: 0.2632 - val_loss: 0.2664\n",
      "Epoch 39/1000\n",
      "938/938 [==============================] - 5s 5ms/step - loss: 0.2631 - val_loss: 0.2666\n",
      "Epoch 40/1000\n",
      "938/938 [==============================] - 5s 5ms/step - loss: 0.2630 - val_loss: 0.2663\n",
      "Epoch 41/1000\n",
      "938/938 [==============================] - 5s 5ms/step - loss: 0.2629 - val_loss: 0.2666\n",
      "Epoch 42/1000\n",
      "938/938 [==============================] - 5s 5ms/step - loss: 0.2628 - val_loss: 0.2663\n",
      "Epoch 43/1000\n",
      "938/938 [==============================] - 5s 5ms/step - loss: 0.2627 - val_loss: 0.2658\n",
      "Epoch 44/1000\n",
      "938/938 [==============================] - 5s 5ms/step - loss: 0.2625 - val_loss: 0.2660\n",
      "Epoch 45/1000\n",
      "938/938 [==============================] - 5s 5ms/step - loss: 0.2625 - val_loss: 0.2667\n",
      "Epoch 46/1000\n",
      "938/938 [==============================] - 5s 5ms/step - loss: 0.2624 - val_loss: 0.2659\n",
      "Epoch 47/1000\n",
      "938/938 [==============================] - 5s 5ms/step - loss: 0.2624 - val_loss: 0.2658\n",
      "Epoch 48/1000\n",
      "938/938 [==============================] - 5s 5ms/step - loss: 0.2622 - val_loss: 0.2656\n",
      "Epoch 49/1000\n",
      "938/938 [==============================] - 5s 5ms/step - loss: 0.2621 - val_loss: 0.2658\n",
      "Epoch 50/1000\n",
      "938/938 [==============================] - 5s 5ms/step - loss: 0.2621 - val_loss: 0.2664\n",
      "Epoch 51/1000\n",
      "938/938 [==============================] - 4s 5ms/step - loss: 0.2621 - val_loss: 0.2658\n",
      "Epoch 52/1000\n",
      "938/938 [==============================] - 5s 5ms/step - loss: 0.2620 - val_loss: 0.2651\n",
      "Epoch 53/1000\n",
      "938/938 [==============================] - 5s 5ms/step - loss: 0.2619 - val_loss: 0.2660\n",
      "Epoch 54/1000\n",
      "938/938 [==============================] - 5s 5ms/step - loss: 0.2618 - val_loss: 0.2655\n",
      "Epoch 55/1000\n",
      "938/938 [==============================] - 5s 5ms/step - loss: 0.2618 - val_loss: 0.2650\n",
      "Epoch 56/1000\n",
      "938/938 [==============================] - 5s 5ms/step - loss: 0.2617 - val_loss: 0.2650\n",
      "Epoch 57/1000\n",
      "938/938 [==============================] - 5s 5ms/step - loss: 0.2616 - val_loss: 0.2654\n",
      "Epoch 58/1000\n",
      "938/938 [==============================] - 5s 5ms/step - loss: 0.2616 - val_loss: 0.2653\n",
      "Epoch 59/1000\n",
      "938/938 [==============================] - 5s 5ms/step - loss: 0.2615 - val_loss: 0.2651\n",
      "Epoch 60/1000\n",
      "938/938 [==============================] - 5s 5ms/step - loss: 0.2614 - val_loss: 0.2648\n",
      "Epoch 61/1000\n",
      "938/938 [==============================] - 5s 5ms/step - loss: 0.2614 - val_loss: 0.2649\n",
      "Epoch 62/1000\n",
      "938/938 [==============================] - 5s 5ms/step - loss: 0.2614 - val_loss: 0.2652\n",
      "Epoch 63/1000\n",
      "938/938 [==============================] - 5s 5ms/step - loss: 0.2612 - val_loss: 0.2652\n",
      "Epoch 64/1000\n",
      "938/938 [==============================] - 5s 5ms/step - loss: 0.2612 - val_loss: 0.2649\n",
      "Epoch 65/1000\n",
      "938/938 [==============================] - 5s 5ms/step - loss: 0.2612 - val_loss: 0.2650\n",
      "Epoch 66/1000\n",
      "938/938 [==============================] - 5s 5ms/step - loss: 0.2611 - val_loss: 0.2647\n",
      "Epoch 67/1000\n",
      "938/938 [==============================] - 5s 5ms/step - loss: 0.2610 - val_loss: 0.2644\n",
      "Epoch 68/1000\n",
      "938/938 [==============================] - 5s 5ms/step - loss: 0.2610 - val_loss: 0.2645\n",
      "Epoch 69/1000\n",
      "938/938 [==============================] - 5s 5ms/step - loss: 0.2610 - val_loss: 0.2649\n",
      "Epoch 70/1000\n",
      "938/938 [==============================] - 5s 5ms/step - loss: 0.2609 - val_loss: 0.2645\n",
      "Epoch 71/1000\n",
      "938/938 [==============================] - 5s 5ms/step - loss: 0.2609 - val_loss: 0.2645\n",
      "Epoch 72/1000\n",
      "938/938 [==============================] - 5s 5ms/step - loss: 0.2608 - val_loss: 0.2644\n",
      "Epoch 73/1000\n",
      "938/938 [==============================] - 5s 5ms/step - loss: 0.2608 - val_loss: 0.2645\n",
      "Epoch 74/1000\n",
      "938/938 [==============================] - 5s 5ms/step - loss: 0.2608 - val_loss: 0.2645\n",
      "Epoch 75/1000\n",
      "938/938 [==============================] - 5s 5ms/step - loss: 0.2607 - val_loss: 0.2644\n",
      "Epoch 76/1000\n",
      "938/938 [==============================] - 5s 5ms/step - loss: 0.2607 - val_loss: 0.2643\n",
      "Epoch 77/1000\n",
      "938/938 [==============================] - 5s 5ms/step - loss: 0.2607 - val_loss: 0.2645\n",
      "Epoch 78/1000\n",
      "938/938 [==============================] - 5s 5ms/step - loss: 0.2606 - val_loss: 0.2642\n",
      "Epoch 79/1000\n",
      "938/938 [==============================] - 5s 5ms/step - loss: 0.2606 - val_loss: 0.2647\n",
      "Epoch 80/1000\n",
      "938/938 [==============================] - 5s 5ms/step - loss: 0.2605 - val_loss: 0.2642\n",
      "Epoch 81/1000\n",
      "938/938 [==============================] - 5s 5ms/step - loss: 0.2605 - val_loss: 0.2645\n",
      "Epoch 82/1000\n",
      "938/938 [==============================] - 5s 5ms/step - loss: 0.2605 - val_loss: 0.2647\n",
      "Epoch 83/1000\n",
      "938/938 [==============================] - 5s 5ms/step - loss: 0.2604 - val_loss: 0.2640\n",
      "Epoch 84/1000\n",
      "938/938 [==============================] - 4s 5ms/step - loss: 0.2605 - val_loss: 0.2639\n",
      "Epoch 85/1000\n",
      "938/938 [==============================] - 4s 5ms/step - loss: 0.2604 - val_loss: 0.2642\n",
      "Epoch 86/1000\n",
      "938/938 [==============================] - 4s 5ms/step - loss: 0.2603 - val_loss: 0.2640\n",
      "Epoch 87/1000\n",
      "938/938 [==============================] - 4s 5ms/step - loss: 0.2603 - val_loss: 0.2640\n",
      "Epoch 88/1000\n",
      "938/938 [==============================] - 4s 5ms/step - loss: 0.2603 - val_loss: 0.2641\n",
      "Epoch 89/1000\n",
      "938/938 [==============================] - 4s 5ms/step - loss: 0.2602 - val_loss: 0.2641\n",
      "Epoch 90/1000\n",
      "938/938 [==============================] - 4s 5ms/step - loss: 0.2602 - val_loss: 0.2643\n",
      "Epoch 91/1000\n",
      "938/938 [==============================] - 4s 5ms/step - loss: 0.2602 - val_loss: 0.2640\n",
      "Epoch 92/1000\n",
      "938/938 [==============================] - 4s 5ms/step - loss: 0.2602 - val_loss: 0.2640\n",
      "Epoch 93/1000\n",
      "938/938 [==============================] - 4s 5ms/step - loss: 0.2601 - val_loss: 0.2637\n",
      "Epoch 94/1000\n",
      "938/938 [==============================] - 4s 5ms/step - loss: 0.2602 - val_loss: 0.2639\n",
      "Epoch 95/1000\n",
      "938/938 [==============================] - 4s 5ms/step - loss: 0.2601 - val_loss: 0.2636\n",
      "Epoch 96/1000\n",
      "938/938 [==============================] - 4s 5ms/step - loss: 0.2601 - val_loss: 0.2636\n",
      "Epoch 97/1000\n",
      "938/938 [==============================] - 4s 5ms/step - loss: 0.2601 - val_loss: 0.2640\n",
      "Epoch 98/1000\n",
      "938/938 [==============================] - 4s 5ms/step - loss: 0.2601 - val_loss: 0.2640\n",
      "Epoch 99/1000\n",
      "938/938 [==============================] - 4s 5ms/step - loss: 0.2600 - val_loss: 0.2638\n",
      "Epoch 100/1000\n",
      "938/938 [==============================] - 4s 5ms/step - loss: 0.2600 - val_loss: 0.2640\n",
      "Epoch 101/1000\n",
      "938/938 [==============================] - 4s 5ms/step - loss: 0.2600 - val_loss: 0.2636\n",
      "Epoch 102/1000\n",
      "938/938 [==============================] - 4s 5ms/step - loss: 0.2599 - val_loss: 0.2635\n",
      "Epoch 103/1000\n",
      "938/938 [==============================] - 4s 5ms/step - loss: 0.2600 - val_loss: 0.2638\n",
      "Epoch 104/1000\n",
      "938/938 [==============================] - 4s 5ms/step - loss: 0.2599 - val_loss: 0.2639\n",
      "Epoch 105/1000\n",
      "938/938 [==============================] - 4s 5ms/step - loss: 0.2599 - val_loss: 0.2636\n",
      "Epoch 106/1000\n",
      "938/938 [==============================] - 4s 5ms/step - loss: 0.2599 - val_loss: 0.2633\n",
      "Epoch 107/1000\n",
      "938/938 [==============================] - 4s 5ms/step - loss: 0.2599 - val_loss: 0.2637\n",
      "Epoch 108/1000\n",
      "938/938 [==============================] - 4s 5ms/step - loss: 0.2598 - val_loss: 0.2635\n",
      "Epoch 109/1000\n",
      "938/938 [==============================] - 4s 5ms/step - loss: 0.2598 - val_loss: 0.2634\n",
      "Epoch 110/1000\n",
      "938/938 [==============================] - 4s 5ms/step - loss: 0.2598 - val_loss: 0.2638\n",
      "Epoch 111/1000\n",
      "938/938 [==============================] - 4s 5ms/step - loss: 0.2598 - val_loss: 0.2639\n",
      "Epoch 112/1000\n",
      "938/938 [==============================] - 4s 5ms/step - loss: 0.2598 - val_loss: 0.2636\n",
      "Epoch 113/1000\n",
      "938/938 [==============================] - 4s 5ms/step - loss: 0.2598 - val_loss: 0.2640\n",
      "Epoch 114/1000\n",
      "938/938 [==============================] - 4s 5ms/step - loss: 0.2597 - val_loss: 0.2632\n",
      "Epoch 115/1000\n",
      "938/938 [==============================] - 4s 5ms/step - loss: 0.2597 - val_loss: 0.2633\n",
      "Epoch 116/1000\n",
      "938/938 [==============================] - 4s 5ms/step - loss: 0.2597 - val_loss: 0.2635\n",
      "Epoch 117/1000\n",
      "938/938 [==============================] - 4s 5ms/step - loss: 0.2597 - val_loss: 0.2634\n",
      "Epoch 118/1000\n",
      "938/938 [==============================] - 4s 5ms/step - loss: 0.2597 - val_loss: 0.2644\n",
      "Epoch 119/1000\n",
      "938/938 [==============================] - 4s 5ms/step - loss: 0.2597 - val_loss: 0.2635\n",
      "Epoch 120/1000\n",
      "938/938 [==============================] - 4s 5ms/step - loss: 0.2597 - val_loss: 0.2638\n",
      "Epoch 121/1000\n",
      "938/938 [==============================] - 4s 5ms/step - loss: 0.2596 - val_loss: 0.2633\n",
      "Epoch 122/1000\n",
      "938/938 [==============================] - 4s 5ms/step - loss: 0.2597 - val_loss: 0.2638\n",
      "Epoch 123/1000\n",
      "938/938 [==============================] - 4s 5ms/step - loss: 0.2596 - val_loss: 0.2633\n",
      "Epoch 124/1000\n",
      "936/938 [============================>.] - ETA: 0s - loss: 0.2596Restoring model weights from the end of the best epoch: 114.\n",
      "938/938 [==============================] - 4s 5ms/step - loss: 0.2596 - val_loss: 0.2634\n",
      "Epoch 124: early stopping\n"
     ]
    }
   ],
   "source": [
    "history = autoencoder.fit(x=X_train,\n",
    "                          y=X_train,\n",
    "                          epochs=1000,\n",
    "                          batch_size=64,\n",
    "                          shuffle=True,\n",
    "                          validation_data=(X_test,\n",
    "                                           X_test),\n",
    "                          verbose=1,\n",
    "                          callbacks=[early_stopping])"
   ]
  },
  {
   "cell_type": "markdown",
   "metadata": {},
   "source": [
    "# 3-) TESTING"
   ]
  },
  {
   "cell_type": "code",
   "execution_count": 16,
   "metadata": {},
   "outputs": [
    {
     "name": "stdout",
     "output_type": "stream",
     "text": [
      "<keras.engine.input_layer.InputLayer object at 0x00000207AA555448>\n",
      "<keras.layers.core.dense.Dense object at 0x00000207AA555408>\n",
      "<keras.layers.core.dense.Dense object at 0x00000207AA555988>\n",
      "<keras.layers.core.dense.Dense object at 0x000002068CC68688>\n",
      "<keras.layers.core.dense.Dense object at 0x00000207AA553148>\n",
      "<keras.layers.core.dense.Dense object at 0x00000207A9224108>\n",
      "<keras.layers.core.dense.Dense object at 0x00000207AA553C88>\n",
      "<keras.layers.core.dense.Dense object at 0x00000207AA565B48>\n",
      "<keras.layers.core.dense.Dense object at 0x00000207AA578508>\n"
     ]
    }
   ],
   "source": [
    "for layer in autoencoder.layers:\n",
    "    print(layer)"
   ]
  },
  {
   "cell_type": "code",
   "execution_count": 19,
   "metadata": {},
   "outputs": [],
   "source": [
    "# seperate model as encoder and decoder\n",
    "\n",
    "#Encoder\n",
    "encoder = Model(input_image, encoded)\n",
    "\n",
    "#Decoder\n",
    "encoded_input = Input(shape=(encoding_dim,))\n",
    "decoder_layer1 = autoencoder.layers[-4](encoded_input)\n",
    "decoder_layer2 = autoencoder.layers[-3](decoder_layer1)\n",
    "decoder_layer3 = autoencoder.layers[-2](decoder_layer2)\n",
    "decoder_output = autoencoder.layers[-1](decoder_layer3)\n",
    "\n",
    "decoder = Model(encoded_input, decoder_output)"
   ]
  },
  {
   "cell_type": "code",
   "execution_count": 21,
   "metadata": {},
   "outputs": [
    {
     "name": "stdout",
     "output_type": "stream",
     "text": [
      "313/313 [==============================] - 0s 906us/step\n",
      "313/313 [==============================] - 0s 939us/step\n"
     ]
    }
   ],
   "source": [
    "#compress and reconstruct\n",
    "encoded_images = encoder.predict(X_test) #Compress to latent\n",
    "decoded_images = decoder.predict(encoded_images) #Reconstruct from latent"
   ]
  },
  {
   "cell_type": "code",
   "execution_count": 23,
   "metadata": {},
   "outputs": [
    {
     "data": {
      "image/png": "[encoded data removed]",
      "text/plain": [
       "<Figure size 1500x500 with 20 Axes>"
      ]
     },
     "metadata": {},
     "output_type": "display_data"
    }
   ],
   "source": [
    "#visualize\n",
    "n = 10\n",
    "\n",
    "plt.figure(figsize=(15,5))\n",
    "for i in range(n):\n",
    "    #original image\n",
    "    ax = plt.subplot(2,n,i+1)\n",
    "    plt.imshow(X_test[i].reshape(28,28), cmap=\"gray\")\n",
    "    ax.get_xaxis().set_visible(False)\n",
    "    ax.get_yaxis().set_visible(False)\n",
    "    #Decoded image\n",
    "    ax = plt.subplot(2,n,i+1+n)\n",
    "    plt.imshow(decoded_images[i].reshape(28,28), cmap=\"gray\")\n",
    "    ax.get_xaxis().set_visible(False)\n",
    "    ax.get_yaxis().set_visible(False)\n",
    "plt.show()"
   ]
  },
  {
   "cell_type": "code",
   "execution_count": 26,
   "metadata": {},
   "outputs": [],
   "source": [
    "#peak-snr\n",
    "def calculate_psnr(original, reconstructed):\n",
    "    mse = np.mean((original-reconstructed)**2)\n",
    "    if mse == 0:\n",
    "        return float(\"inf\") #if exact same psnr=infinity\n",
    "    max_pixel =1.0\n",
    "    psnr = 20*np.log10(max_pixel/np.sqrt(mse))\n",
    "    return psnr"
   ]
  },
  {
   "cell_type": "code",
   "execution_count": 27,
   "metadata": {},
   "outputs": [],
   "source": [
    "psnr_score = []\n",
    "\n",
    "for i in range(100): #for 100 images\n",
    "    original_img = X_test[i]\n",
    "    reconstructed_img = decoded_images[i]\n",
    "    score = calculate_psnr(original_img,reconstructed_img)\n",
    "    psnr_score.append(score)"
   ]
  },
  {
   "cell_type": "code",
   "execution_count": 30,
   "metadata": {},
   "outputs": [
    {
     "name": "stdout",
     "output_type": "stream",
     "text": [
      "Average PSNR: 23.736482695846625\n"
     ]
    }
   ],
   "source": [
    "average_psnr = np.mean(psnr_score)\n",
    "print(f\"Average PSNR: {average_psnr}\")"
   ]
  }
 ],
 "metadata": {
  "kernelspec": {
   "display_name": "tensorflow_env",
   "language": "python",
   "name": "python3"
  },
  "language_info": {
   "codemirror_mode": {
    "name": "ipython",
    "version": 3
   },
   "file_extension": ".py",
   "mimetype": "text/x-python",
   "name": "python",
   "nbconvert_exporter": "python",
   "pygments_lexer": "ipython3",
   "version": "3.7.9"
  }
 },
 "nbformat": 4,
 "nbformat_minor": 2
}
