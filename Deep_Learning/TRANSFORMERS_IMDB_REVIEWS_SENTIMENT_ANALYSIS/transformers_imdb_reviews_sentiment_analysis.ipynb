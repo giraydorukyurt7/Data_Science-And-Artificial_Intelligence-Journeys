{
 "cells": [
  {
   "cell_type": "markdown",
   "metadata": {},
   "source": [
    "# 0-) IMPORTS"
   ]
  },
  {
   "cell_type": "code",
   "execution_count": 2,
   "metadata": {},
   "outputs": [],
   "source": [
    "import numpy             as np\n",
    "import matplotlib.pyplot as plt\n",
    "import tensorflow        as tf\n",
    "\n",
    "from tensorflow.keras import layers, models\n",
    "from tensorflow.keras.datasets import imdb\n",
    "from tensorflow.keras.preprocessing.sequence import pad_sequences\n",
    "from tensorflow.keras.optimizers             import Adam"
   ]
  },
  {
   "cell_type": "markdown",
   "metadata": {},
   "source": [
    "# 1-) DATA ANALYSIS"
   ]
  },
  {
   "cell_type": "code",
   "execution_count": 3,
   "metadata": {},
   "outputs": [],
   "source": [
    "max_features = 10000 #Most used 10000 words.\n",
    "maxlen       = 100   #Max word of comments."
   ]
  },
  {
   "cell_type": "code",
   "execution_count": 4,
   "metadata": {},
   "outputs": [],
   "source": [
    "(X_train,y_train),(X_test,y_test) = imdb.load_data(num_words=max_features)"
   ]
  },
  {
   "cell_type": "code",
   "execution_count": 5,
   "metadata": {},
   "outputs": [
    {
     "name": "stdout",
     "output_type": "stream",
     "text": [
      "(25000,)\n",
      "(25000,)\n",
      "(25000,)\n",
      "(25000,)\n",
      "25000\n",
      "25000\n",
      "25000\n",
      "25000\n"
     ]
    }
   ],
   "source": [
    "print(X_train.shape)\n",
    "print(y_train.shape)\n",
    "print(X_test.shape)\n",
    "print(y_test.shape)\n",
    "\n",
    "print(len(X_train))\n",
    "print(len(y_train))\n",
    "print(len(X_test))\n",
    "print(len(y_test))"
   ]
  },
  {
   "cell_type": "code",
   "execution_count": 6,
   "metadata": {},
   "outputs": [],
   "source": [
    "# Set max len to 100 words\n",
    "X_train = pad_sequences(X_train, maxlen=maxlen)\n",
    "X_test  = pad_sequences(X_test , maxlen=maxlen)"
   ]
  },
  {
   "cell_type": "code",
   "execution_count": 7,
   "metadata": {},
   "outputs": [
    {
     "name": "stdout",
     "output_type": "stream",
     "text": [
      "(25000, 100)\n",
      "(25000,)\n",
      "(25000, 100)\n",
      "(25000,)\n",
      "25000\n",
      "25000\n",
      "25000\n",
      "25000\n"
     ]
    }
   ],
   "source": [
    "print(X_train.shape)\n",
    "print(y_train.shape)\n",
    "print(X_test.shape)\n",
    "print(y_test.shape)\n",
    "\n",
    "print(len(X_train))\n",
    "print(len(y_train))\n",
    "print(len(X_test))\n",
    "print(len(y_test))"
   ]
  },
  {
   "cell_type": "code",
   "execution_count": 8,
   "metadata": {},
   "outputs": [],
   "source": [
    "word_index = imdb.get_word_index()"
   ]
  },
  {
   "cell_type": "code",
   "execution_count": 9,
   "metadata": {},
   "outputs": [],
   "source": [
    "reverse_word_index = {index+3: word for word, index in word_index.items()}"
   ]
  },
  {
   "cell_type": "code",
   "execution_count": 10,
   "metadata": {},
   "outputs": [],
   "source": [
    "reverse_word_index[0] = \"<PAD>\"\n",
    "reverse_word_index[1] = \"<START>\"\n",
    "reverse_word_index[2] = \"<UNKNOWN>\"\n",
    "reverse_word_index[3] = \"<UNUSED>\""
   ]
  },
  {
   "cell_type": "code",
   "execution_count": 11,
   "metadata": {},
   "outputs": [],
   "source": [
    "#write examples\n",
    "def decode_review(encoded_review):\n",
    "    return \" \".join([reverse_word_index.get(i,\"?\") for i in encoded_review])"
   ]
  },
  {
   "cell_type": "code",
   "execution_count": 12,
   "metadata": {},
   "outputs": [
    {
     "name": "stdout",
     "output_type": "stream",
     "text": [
      "Comment: what i understand the film has been altered behind his back to the current state it's in seagal will apparently not be working with these people again or with <UNKNOWN> <UNKNOWN> who continue to deliver <UNKNOWN> sub <UNKNOWN> image that's saying something material br br overall this is one to avoid if you are not a seagal fan seagal fans can also be safe in the knowledge that the big man probably won't want to do anything this bad again unfortunately his next film which has already been shot with the same people promises to be even worse than this\n",
      "Label  : 0\n",
      "\n",
      "Comment: itchy and a little girl called anne marie who comes slightly later two i love the period of history in which this film is set it is set during the <UNKNOWN> in the united states three the don <UNKNOWN> animation as usual is superb the backgrounds are good too four there is a strange excitement in this film that keeps me on the edge of my seat five the songs in this are lovely my favourite song starts with i need brazil the <UNKNOWN> the thrill br br so watch this lovely film when you can you won't be disappointed\n",
      "Label  : 1\n",
      "\n",
      "Comment: to understand br br after reading a few others comments i'm a bit confused one says that at the end spoiler the mother and her son appear as she's been the one telling her son about her story the movie i saw did not have the mother or son at the end merely a painting of a girl with a fox can someone <UNKNOWN> me on that anyway i really enjoyed this movie although some scenes can be a bit slow which might be difficult for high energy kids to sit through still worth it if they can sit still\n",
      "Label  : 1\n",
      "\n",
      "Comment: a bad movie i could blame it on the screenwriter or director but in this case it's all him the <UNKNOWN> of this movie is all his fault it proves that not even heston can make a shakespeare story interesting i wasted 2 and a half hours of my life on this <UNKNOWN> fest and i'll never get that time back this is by far the worst heston movie that i've ever seen if you are a shakespeare fan maybe you'll find this movie entertaining but if you're not don't waste your time you'll regret it in the long run\n",
      "Label  : 0\n",
      "\n",
      "Comment: you had for the weak minded and strong <UNKNOWN> gypo was completely <UNKNOWN> when in an act of total desperation in order to keep from getting shot he <UNKNOWN> <UNKNOWN> an innocent man <UNKNOWN> donald meek in his crime of <UNKNOWN> on his friend frankie <UNKNOWN> which is quickly exposed as a total <UNKNOWN> by non other then the guilt ridden gypo himself the <UNKNOWN> is then cast as <UNKNOWN> are drawn for who would be the one to put a bullet in <UNKNOWN> head for the final gut <UNKNOWN> chapter of this heart wrenching and unforgettable crime punishment classic\n",
      "Label  : 1\n",
      "\n"
     ]
    }
   ],
   "source": [
    "random_indices = np.random.choice(len(X_train), size=5, replace=False)\n",
    "for i in random_indices:\n",
    "    print(f\"Comment: {decode_review(X_train[i])}\")\n",
    "    print(f\"Label  : {y_train[i]}\")\n",
    "    print()"
   ]
  },
  {
   "cell_type": "markdown",
   "metadata": {},
   "source": [
    "# 2-) MODELLING"
   ]
  },
  {
   "cell_type": "markdown",
   "metadata": {},
   "source": [
    "## A-) Transformer Layer"
   ]
  },
  {
   "cell_type": "code",
   "execution_count": 13,
   "metadata": {},
   "outputs": [],
   "source": [
    "class TransformerBlock(layers.Layer):\n",
    "    # Create Transformer layer\n",
    "    # Connects self-attention network with feed forward network.\n",
    "    \n",
    "    # embed_size: embedding vector size from input\n",
    "    # heads: number of header that will be used in multi head attention mechanism\n",
    "    def __init__(self, embed_size, heads, dropout_rate = 0.3):\n",
    "        super(TransformerBlock, self).__init__() #Inherit features of layer.layer superclass by calling __init__() method.\n",
    "        \n",
    "        #Attention mechanism\n",
    "        self.attention = layers.MultiHeadAttention(num_heads = heads,     #Number of attention calculation at once\n",
    "                                                   key_dim   = embed_size)#Key size that will be used for every attention header\n",
    "        #Normalization\n",
    "        self.norm1  = layers.LayerNormalization(epsilon = 1e-6) #Epsilon: used for numerical stability\n",
    "        self.norm2  = layers.LayerNormalization(epsilon = 1e-6) #Epsilon: used for numerical stability\n",
    "        \n",
    "        #FEED FORWARD\n",
    "        self.feed_forward = models.Sequential([layers.Dense(embed_size*heads, activation='relu'), # Multiply embed_size by heads\n",
    "                                               layers.Dense(embed_size)                           # Turn embed_size to original   \n",
    "        ])\n",
    "        \n",
    "        #Dropout\n",
    "        self.dropout1     = layers.Dropout(dropout_rate)\n",
    "        self.dropout2     = layers.Dropout(dropout_rate)\n",
    "\n",
    "    #call    :define how input is processed\n",
    "    #x       :input vector\n",
    "    #training:Dropout yes/no\n",
    "    def call(self, x, training):\n",
    "        #self attention mechanism, learn relationship between every word\n",
    "        attention = self.attention(x,x)\n",
    "        \n",
    "        #Residual block (skip connection)\n",
    "        #Sumup attention output with original input\n",
    "        x = self.norm1(x+self.dropout1(attention, training=training))\n",
    "        \n",
    "        #Feed forward network\n",
    "        feed_forward = self.feed_forward(x)\n",
    "        #Residual block\n",
    "        return self.norm2(x+self.dropout2(feed_forward, training=training))"
   ]
  },
  {
   "cell_type": "markdown",
   "metadata": {},
   "source": [
    "## B-) Create Transformer Model"
   ]
  },
  {
   "cell_type": "code",
   "execution_count": 14,
   "metadata": {},
   "outputs": [],
   "source": [
    "# Model class that uses transformer architecture\n",
    "\n",
    "#Inputs-->transformer blocks-->classify output\n",
    "class TransformerModel(models.Model):\n",
    "    \n",
    "    #num_layers: Transofrmer layer count\n",
    "    # embed_size: embedding vector size from input\n",
    "    # heads: number of header that will be used \n",
    "    #        in multi head attention mechanism for every transformer block\n",
    "    # input_dim: number of possible token(words) in the entry.\n",
    "    # output_size: class size of output\n",
    "    def __init__(self, num_layers, embed_size,heads,input_dim,output_dim,dropout_rate=0.1):\n",
    "        super(TransformerModel, self).__init__() #Inherit features of models.Model superclass by calling __init__() method.\n",
    "\n",
    "        #transform inputs(words,symbols) to number vectors\n",
    "        self.embedding = layers.Embedding(input_dim=input_dim,\n",
    "                                          output_dim=embed_size)\n",
    "        #Loop for creating multiple transformer layers.\n",
    "        #num_layers: Number of transformer layers.\n",
    "        self.transformer_blocks = [TransformerBlock(embed_size=embed_size,\n",
    "                                                    heads=heads,\n",
    "                                                    dropout_rate=dropout_rate) for _ in range(num_layers)]\n",
    "        #Pooling layer\n",
    "        self.global_avg_pooling = layers.GlobalAveragePooling1D()\n",
    "        \n",
    "        self.dropout = layers.Dropout(dropout_rate)\n",
    "\n",
    "        #Fully connected layer\n",
    "        self.fc = layers.Dense(output_dim, activation=\"sigmoid\")\n",
    "    \n",
    "    #call    :define how input is processed\n",
    "    #x       :input vector\n",
    "    #training:Dropout yes/no\n",
    "    def call(self,x,training):\n",
    "        #The token array is passed through the embedded layer.\n",
    "        #As a result, tokens are converted into fixed-size vectors.\n",
    "        x = self.embedding(x)\n",
    "        \n",
    "        #Run every transformer block\n",
    "        for transformer in self.transformer_blocks:\n",
    "            x = transformer(x, training=training)\n",
    "        \n",
    "        #Pooling Layer\n",
    "        x = self.global_avg_pooling(x)\n",
    "\n",
    "        x = self.dropout(x, training=training)\n",
    "        #By passing it to FC the output is calculated.\n",
    "        return self.fc(x)"
   ]
  },
  {
   "cell_type": "markdown",
   "metadata": {},
   "source": [
    "## C-) Model Training"
   ]
  },
  {
   "cell_type": "code",
   "execution_count": 15,
   "metadata": {},
   "outputs": [],
   "source": [
    "# Hyper parameters\n",
    "num_layers   = 4 #number of transformer layers\n",
    "embed_size   = 64\n",
    "num_head     = 4 #Number of multi-head(attention head)\n",
    "input_dim    = max_features\n",
    "output_dim   = 1 #positive/negative\n",
    "dropout_rate = 0.1"
   ]
  },
  {
   "cell_type": "code",
   "execution_count": 17,
   "metadata": {},
   "outputs": [
    {
     "name": "stderr",
     "output_type": "stream",
     "text": [
      "c:\\Users\\Giray\\AppData\\Local\\Programs\\Python\\Python312\\Lib\\site-packages\\keras\\src\\layers\\layer.py:393: UserWarning: `build()` was called on layer 'transformer_model_1', however the layer does not have a `build()` method implemented and it looks like it has unbuilt state. This will cause the layer to be marked as built, despite not being actually built, which may cause failures down the line. Make sure to implement a proper `build()` method.\n",
      "  warnings.warn(\n"
     ]
    },
    {
     "data": {
      "text/html": [
       "<pre style=\"white-space:pre;overflow-x:auto;line-height:normal;font-family:Menlo,'DejaVu Sans Mono',consolas,'Courier New',monospace\"><span style=\"font-weight: bold\">Model: \"transformer_model_1\"</span>\n",
       "</pre>\n"
      ],
      "text/plain": [
       "\u001b[1mModel: \"transformer_model_1\"\u001b[0m\n"
      ]
     },
     "metadata": {},
     "output_type": "display_data"
    },
    {
     "data": {
      "text/html": [
       "<pre style=\"white-space:pre;overflow-x:auto;line-height:normal;font-family:Menlo,'DejaVu Sans Mono',consolas,'Courier New',monospace\">┏━━━━━━━━━━━━━━━━━━━━━━━━━━━━━━━━━┳━━━━━━━━━━━━━━━━━━━━━━━━┳━━━━━━━━━━━━━━━┓\n",
       "┃<span style=\"font-weight: bold\"> Layer (type)                    </span>┃<span style=\"font-weight: bold\"> Output Shape           </span>┃<span style=\"font-weight: bold\">       Param # </span>┃\n",
       "┡━━━━━━━━━━━━━━━━━━━━━━━━━━━━━━━━━╇━━━━━━━━━━━━━━━━━━━━━━━━╇━━━━━━━━━━━━━━━┩\n",
       "│ embedding_1 (<span style=\"color: #0087ff; text-decoration-color: #0087ff\">Embedding</span>)         │ ?                      │   <span style=\"color: #00af00; text-decoration-color: #00af00\">0</span> (unbuilt) │\n",
       "├─────────────────────────────────┼────────────────────────┼───────────────┤\n",
       "│ transformer_block_4             │ ?                      │   <span style=\"color: #00af00; text-decoration-color: #00af00\">0</span> (unbuilt) │\n",
       "│ (<span style=\"color: #0087ff; text-decoration-color: #0087ff\">TransformerBlock</span>)              │                        │               │\n",
       "├─────────────────────────────────┼────────────────────────┼───────────────┤\n",
       "│ transformer_block_5             │ ?                      │   <span style=\"color: #00af00; text-decoration-color: #00af00\">0</span> (unbuilt) │\n",
       "│ (<span style=\"color: #0087ff; text-decoration-color: #0087ff\">TransformerBlock</span>)              │                        │               │\n",
       "├─────────────────────────────────┼────────────────────────┼───────────────┤\n",
       "│ transformer_block_6             │ ?                      │   <span style=\"color: #00af00; text-decoration-color: #00af00\">0</span> (unbuilt) │\n",
       "│ (<span style=\"color: #0087ff; text-decoration-color: #0087ff\">TransformerBlock</span>)              │                        │               │\n",
       "├─────────────────────────────────┼────────────────────────┼───────────────┤\n",
       "│ transformer_block_7             │ ?                      │   <span style=\"color: #00af00; text-decoration-color: #00af00\">0</span> (unbuilt) │\n",
       "│ (<span style=\"color: #0087ff; text-decoration-color: #0087ff\">TransformerBlock</span>)              │                        │               │\n",
       "├─────────────────────────────────┼────────────────────────┼───────────────┤\n",
       "│ global_average_pooling1d_1      │ ?                      │             <span style=\"color: #00af00; text-decoration-color: #00af00\">0</span> │\n",
       "│ (<span style=\"color: #0087ff; text-decoration-color: #0087ff\">GlobalAveragePooling1D</span>)        │                        │               │\n",
       "├─────────────────────────────────┼────────────────────────┼───────────────┤\n",
       "│ dropout_17 (<span style=\"color: #0087ff; text-decoration-color: #0087ff\">Dropout</span>)            │ ?                      │             <span style=\"color: #00af00; text-decoration-color: #00af00\">0</span> │\n",
       "├─────────────────────────────────┼────────────────────────┼───────────────┤\n",
       "│ dense_17 (<span style=\"color: #0087ff; text-decoration-color: #0087ff\">Dense</span>)                │ ?                      │   <span style=\"color: #00af00; text-decoration-color: #00af00\">0</span> (unbuilt) │\n",
       "└─────────────────────────────────┴────────────────────────┴───────────────┘\n",
       "</pre>\n"
      ],
      "text/plain": [
       "┏━━━━━━━━━━━━━━━━━━━━━━━━━━━━━━━━━┳━━━━━━━━━━━━━━━━━━━━━━━━┳━━━━━━━━━━━━━━━┓\n",
       "┃\u001b[1m \u001b[0m\u001b[1mLayer (type)                   \u001b[0m\u001b[1m \u001b[0m┃\u001b[1m \u001b[0m\u001b[1mOutput Shape          \u001b[0m\u001b[1m \u001b[0m┃\u001b[1m \u001b[0m\u001b[1m      Param #\u001b[0m\u001b[1m \u001b[0m┃\n",
       "┡━━━━━━━━━━━━━━━━━━━━━━━━━━━━━━━━━╇━━━━━━━━━━━━━━━━━━━━━━━━╇━━━━━━━━━━━━━━━┩\n",
       "│ embedding_1 (\u001b[38;5;33mEmbedding\u001b[0m)         │ ?                      │   \u001b[38;5;34m0\u001b[0m (unbuilt) │\n",
       "├─────────────────────────────────┼────────────────────────┼───────────────┤\n",
       "│ transformer_block_4             │ ?                      │   \u001b[38;5;34m0\u001b[0m (unbuilt) │\n",
       "│ (\u001b[38;5;33mTransformerBlock\u001b[0m)              │                        │               │\n",
       "├─────────────────────────────────┼────────────────────────┼───────────────┤\n",
       "│ transformer_block_5             │ ?                      │   \u001b[38;5;34m0\u001b[0m (unbuilt) │\n",
       "│ (\u001b[38;5;33mTransformerBlock\u001b[0m)              │                        │               │\n",
       "├─────────────────────────────────┼────────────────────────┼───────────────┤\n",
       "│ transformer_block_6             │ ?                      │   \u001b[38;5;34m0\u001b[0m (unbuilt) │\n",
       "│ (\u001b[38;5;33mTransformerBlock\u001b[0m)              │                        │               │\n",
       "├─────────────────────────────────┼────────────────────────┼───────────────┤\n",
       "│ transformer_block_7             │ ?                      │   \u001b[38;5;34m0\u001b[0m (unbuilt) │\n",
       "│ (\u001b[38;5;33mTransformerBlock\u001b[0m)              │                        │               │\n",
       "├─────────────────────────────────┼────────────────────────┼───────────────┤\n",
       "│ global_average_pooling1d_1      │ ?                      │             \u001b[38;5;34m0\u001b[0m │\n",
       "│ (\u001b[38;5;33mGlobalAveragePooling1D\u001b[0m)        │                        │               │\n",
       "├─────────────────────────────────┼────────────────────────┼───────────────┤\n",
       "│ dropout_17 (\u001b[38;5;33mDropout\u001b[0m)            │ ?                      │             \u001b[38;5;34m0\u001b[0m │\n",
       "├─────────────────────────────────┼────────────────────────┼───────────────┤\n",
       "│ dense_17 (\u001b[38;5;33mDense\u001b[0m)                │ ?                      │   \u001b[38;5;34m0\u001b[0m (unbuilt) │\n",
       "└─────────────────────────────────┴────────────────────────┴───────────────┘\n"
      ]
     },
     "metadata": {},
     "output_type": "display_data"
    },
    {
     "data": {
      "text/html": [
       "<pre style=\"white-space:pre;overflow-x:auto;line-height:normal;font-family:Menlo,'DejaVu Sans Mono',consolas,'Courier New',monospace\"><span style=\"font-weight: bold\"> Total params: </span><span style=\"color: #00af00; text-decoration-color: #00af00\">0</span> (0.00 B)\n",
       "</pre>\n"
      ],
      "text/plain": [
       "\u001b[1m Total params: \u001b[0m\u001b[38;5;34m0\u001b[0m (0.00 B)\n"
      ]
     },
     "metadata": {},
     "output_type": "display_data"
    },
    {
     "data": {
      "text/html": [
       "<pre style=\"white-space:pre;overflow-x:auto;line-height:normal;font-family:Menlo,'DejaVu Sans Mono',consolas,'Courier New',monospace\"><span style=\"font-weight: bold\"> Trainable params: </span><span style=\"color: #00af00; text-decoration-color: #00af00\">0</span> (0.00 B)\n",
       "</pre>\n"
      ],
      "text/plain": [
       "\u001b[1m Trainable params: \u001b[0m\u001b[38;5;34m0\u001b[0m (0.00 B)\n"
      ]
     },
     "metadata": {},
     "output_type": "display_data"
    },
    {
     "data": {
      "text/html": [
       "<pre style=\"white-space:pre;overflow-x:auto;line-height:normal;font-family:Menlo,'DejaVu Sans Mono',consolas,'Courier New',monospace\"><span style=\"font-weight: bold\"> Non-trainable params: </span><span style=\"color: #00af00; text-decoration-color: #00af00\">0</span> (0.00 B)\n",
       "</pre>\n"
      ],
      "text/plain": [
       "\u001b[1m Non-trainable params: \u001b[0m\u001b[38;5;34m0\u001b[0m (0.00 B)\n"
      ]
     },
     "metadata": {},
     "output_type": "display_data"
    }
   ],
   "source": [
    "#Create model\n",
    "model = TransformerModel(num_layers   = num_layers,\n",
    "                         embed_size   = embed_size,\n",
    "                         heads        = num_head,\n",
    "                         input_dim    = input_dim,\n",
    "                         output_dim   = output_dim,\n",
    "                         dropout_rate = dropout_rate)\n",
    "#Build model\n",
    "model.build(input_shape = (None, maxlen))\n",
    "#Compile model\n",
    "model.compile(optimizer = Adam(learning_rate=1e-4),\n",
    "              loss      = \"binary_crossentropy\",\n",
    "              metrics   = [tf.keras.metrics.Precision(name=\"precision\"),\n",
    "                           tf.keras.metrics.Recall(name=\"recall\"),\n",
    "                           tf.keras.metrics.AUC(name=\"auc\"),\n",
    "                           \"accuracy\"])\n",
    "model.summary()\n"
   ]
  },
  {
   "cell_type": "code",
   "execution_count": 18,
   "metadata": {},
   "outputs": [
    {
     "name": "stdout",
     "output_type": "stream",
     "text": [
      "Epoch 1/20\n",
      "\u001b[1m49/49\u001b[0m \u001b[32m━━━━━━━━━━━━━━━━━━━━\u001b[0m\u001b[37m\u001b[0m \u001b[1m97s\u001b[0m 2s/step - accuracy: 0.5437 - auc: 0.5574 - loss: 0.7071 - precision: 0.5414 - recall: 0.5383 - val_accuracy: 0.7003 - val_auc: 0.7895 - val_loss: 0.6095 - val_precision: 0.7737 - val_recall: 0.5662\n",
      "Epoch 2/20\n",
      "\u001b[1m49/49\u001b[0m \u001b[32m━━━━━━━━━━━━━━━━━━━━\u001b[0m\u001b[37m\u001b[0m \u001b[1m88s\u001b[0m 2s/step - accuracy: 0.7278 - auc: 0.8045 - loss: 0.5619 - precision: 0.7348 - recall: 0.7126 - val_accuracy: 0.7986 - val_auc: 0.8875 - val_loss: 0.4332 - val_precision: 0.7640 - val_recall: 0.8643\n",
      "Epoch 3/20\n",
      "\u001b[1m49/49\u001b[0m \u001b[32m━━━━━━━━━━━━━━━━━━━━\u001b[0m\u001b[37m\u001b[0m \u001b[1m90s\u001b[0m 2s/step - accuracy: 0.8307 - auc: 0.9109 - loss: 0.3793 - precision: 0.8259 - recall: 0.8373 - val_accuracy: 0.8326 - val_auc: 0.9158 - val_loss: 0.3696 - val_precision: 0.8255 - val_recall: 0.8434\n",
      "Epoch 4/20\n",
      "\u001b[1m49/49\u001b[0m \u001b[32m━━━━━━━━━━━━━━━━━━━━\u001b[0m\u001b[37m\u001b[0m \u001b[1m91s\u001b[0m 2s/step - accuracy: 0.8728 - auc: 0.9451 - loss: 0.3011 - precision: 0.8722 - recall: 0.8749 - val_accuracy: 0.8429 - val_auc: 0.9238 - val_loss: 0.3593 - val_precision: 0.8518 - val_recall: 0.8302\n",
      "Epoch 5/20\n",
      "\u001b[1m49/49\u001b[0m \u001b[32m━━━━━━━━━━━━━━━━━━━━\u001b[0m\u001b[37m\u001b[0m \u001b[1m88s\u001b[0m 2s/step - accuracy: 0.8970 - auc: 0.9595 - loss: 0.2586 - precision: 0.8963 - recall: 0.8965 - val_accuracy: 0.8425 - val_auc: 0.9255 - val_loss: 0.3683 - val_precision: 0.8643 - val_recall: 0.8126\n",
      "Epoch 6/20\n",
      "\u001b[1m49/49\u001b[0m \u001b[32m━━━━━━━━━━━━━━━━━━━━\u001b[0m\u001b[37m\u001b[0m \u001b[1m85s\u001b[0m 2s/step - accuracy: 0.9090 - auc: 0.9685 - loss: 0.2277 - precision: 0.9106 - recall: 0.9048 - val_accuracy: 0.8422 - val_auc: 0.9246 - val_loss: 0.3842 - val_precision: 0.8248 - val_recall: 0.8690\n",
      "Epoch 7/20\n",
      "\u001b[1m49/49\u001b[0m \u001b[32m━━━━━━━━━━━━━━━━━━━━\u001b[0m\u001b[37m\u001b[0m \u001b[1m85s\u001b[0m 2s/step - accuracy: 0.9256 - auc: 0.9764 - loss: 0.1957 - precision: 0.9271 - recall: 0.9237 - val_accuracy: 0.8434 - val_auc: 0.9225 - val_loss: 0.4004 - val_precision: 0.8336 - val_recall: 0.8582\n",
      "Epoch 8/20\n",
      "\u001b[1m49/49\u001b[0m \u001b[32m━━━━━━━━━━━━━━━━━━━━\u001b[0m\u001b[37m\u001b[0m \u001b[1m88s\u001b[0m 2s/step - accuracy: 0.9281 - auc: 0.9777 - loss: 0.1902 - precision: 0.9288 - recall: 0.9265 - val_accuracy: 0.8366 - val_auc: 0.9181 - val_loss: 0.4389 - val_precision: 0.8139 - val_recall: 0.8728\n",
      "Epoch 9/20\n",
      "\u001b[1m49/49\u001b[0m \u001b[32m━━━━━━━━━━━━━━━━━━━━\u001b[0m\u001b[37m\u001b[0m \u001b[1m89s\u001b[0m 2s/step - accuracy: 0.9376 - auc: 0.9824 - loss: 0.1681 - precision: 0.9347 - recall: 0.9409 - val_accuracy: 0.8356 - val_auc: 0.9153 - val_loss: 0.4636 - val_precision: 0.8489 - val_recall: 0.8166\n",
      "Epoch 10/20\n",
      "\u001b[1m49/49\u001b[0m \u001b[32m━━━━━━━━━━━━━━━━━━━━\u001b[0m\u001b[37m\u001b[0m \u001b[1m91s\u001b[0m 2s/step - accuracy: 0.9430 - auc: 0.9846 - loss: 0.1547 - precision: 0.9435 - recall: 0.9416 - val_accuracy: 0.8300 - val_auc: 0.9119 - val_loss: 0.5048 - val_precision: 0.8005 - val_recall: 0.8791\n",
      "Epoch 11/20\n",
      "\u001b[1m49/49\u001b[0m \u001b[32m━━━━━━━━━━━━━━━━━━━━\u001b[0m\u001b[37m\u001b[0m \u001b[1m91s\u001b[0m 2s/step - accuracy: 0.9446 - auc: 0.9861 - loss: 0.1486 - precision: 0.9400 - recall: 0.9509 - val_accuracy: 0.8310 - val_auc: 0.9082 - val_loss: 0.5353 - val_precision: 0.8211 - val_recall: 0.8464\n",
      "Epoch 12/20\n",
      "\u001b[1m49/49\u001b[0m \u001b[32m━━━━━━━━━━━━━━━━━━━━\u001b[0m\u001b[37m\u001b[0m \u001b[1m90s\u001b[0m 2s/step - accuracy: 0.9574 - auc: 0.9887 - loss: 0.1282 - precision: 0.9571 - recall: 0.9577 - val_accuracy: 0.8212 - val_auc: 0.9039 - val_loss: 0.5809 - val_precision: 0.8605 - val_recall: 0.7668\n",
      "Epoch 13/20\n",
      "\u001b[1m49/49\u001b[0m \u001b[32m━━━━━━━━━━━━━━━━━━━━\u001b[0m\u001b[37m\u001b[0m \u001b[1m91s\u001b[0m 2s/step - accuracy: 0.9642 - auc: 0.9915 - loss: 0.1114 - precision: 0.9644 - recall: 0.9643 - val_accuracy: 0.8235 - val_auc: 0.8967 - val_loss: 0.6250 - val_precision: 0.8260 - val_recall: 0.8197\n",
      "Epoch 14/20\n",
      "\u001b[1m49/49\u001b[0m \u001b[32m━━━━━━━━━━━━━━━━━━━━\u001b[0m\u001b[37m\u001b[0m \u001b[1m91s\u001b[0m 2s/step - accuracy: 0.9664 - auc: 0.9907 - loss: 0.1111 - precision: 0.9660 - recall: 0.9668 - val_accuracy: 0.8218 - val_auc: 0.8934 - val_loss: 0.6676 - val_precision: 0.8442 - val_recall: 0.7892\n",
      "Epoch 15/20\n",
      "\u001b[1m49/49\u001b[0m \u001b[32m━━━━━━━━━━━━━━━━━━━━\u001b[0m\u001b[37m\u001b[0m \u001b[1m91s\u001b[0m 2s/step - accuracy: 0.9648 - auc: 0.9920 - loss: 0.1047 - precision: 0.9649 - recall: 0.9647 - val_accuracy: 0.8182 - val_auc: 0.8883 - val_loss: 0.7065 - val_precision: 0.8449 - val_recall: 0.7794\n",
      "Epoch 16/20\n",
      "\u001b[1m49/49\u001b[0m \u001b[32m━━━━━━━━━━━━━━━━━━━━\u001b[0m\u001b[37m\u001b[0m \u001b[1m91s\u001b[0m 2s/step - accuracy: 0.9685 - auc: 0.9926 - loss: 0.0972 - precision: 0.9701 - recall: 0.9674 - val_accuracy: 0.8183 - val_auc: 0.8836 - val_loss: 0.7405 - val_precision: 0.8339 - val_recall: 0.7950\n",
      "Epoch 17/20\n",
      "\u001b[1m49/49\u001b[0m \u001b[32m━━━━━━━━━━━━━━━━━━━━\u001b[0m\u001b[37m\u001b[0m \u001b[1m93s\u001b[0m 2s/step - accuracy: 0.9749 - auc: 0.9933 - loss: 0.0862 - precision: 0.9754 - recall: 0.9742 - val_accuracy: 0.8163 - val_auc: 0.8787 - val_loss: 0.7901 - val_precision: 0.8019 - val_recall: 0.8402\n",
      "Epoch 18/20\n",
      "\u001b[1m49/49\u001b[0m \u001b[32m━━━━━━━━━━━━━━━━━━━━\u001b[0m\u001b[37m\u001b[0m \u001b[1m92s\u001b[0m 2s/step - accuracy: 0.9762 - auc: 0.9944 - loss: 0.0781 - precision: 0.9770 - recall: 0.9753 - val_accuracy: 0.8155 - val_auc: 0.8738 - val_loss: 0.8214 - val_precision: 0.8191 - val_recall: 0.8098\n",
      "Epoch 19/20\n",
      "\u001b[1m49/49\u001b[0m \u001b[32m━━━━━━━━━━━━━━━━━━━━\u001b[0m\u001b[37m\u001b[0m \u001b[1m92s\u001b[0m 2s/step - accuracy: 0.9843 - auc: 0.9951 - loss: 0.0635 - precision: 0.9857 - recall: 0.9825 - val_accuracy: 0.8152 - val_auc: 0.8703 - val_loss: 0.8551 - val_precision: 0.8123 - val_recall: 0.8198\n",
      "Epoch 20/20\n",
      "\u001b[1m49/49\u001b[0m \u001b[32m━━━━━━━━━━━━━━━━━━━━\u001b[0m\u001b[37m\u001b[0m \u001b[1m90s\u001b[0m 2s/step - accuracy: 0.9848 - auc: 0.9954 - loss: 0.0587 - precision: 0.9860 - recall: 0.9839 - val_accuracy: 0.8122 - val_auc: 0.8687 - val_loss: 0.8832 - val_precision: 0.7868 - val_recall: 0.8565\n"
     ]
    }
   ],
   "source": [
    "#Train model\n",
    "history = model.fit(X_train,y_train, epochs=20, batch_size=512, validation_data=(X_test,y_test))"
   ]
  },
  {
   "cell_type": "markdown",
   "metadata": {},
   "source": [
    "# 3-) TESTING"
   ]
  },
  {
   "cell_type": "code",
   "execution_count": 22,
   "metadata": {},
   "outputs": [
    {
     "data": {
      "image/png": "[encoded data removed]",
      "text/plain": [
       "<Figure size 640x480 with 2 Axes>"
      ]
     },
     "metadata": {},
     "output_type": "display_data"
    }
   ],
   "source": [
    "plt.figure()\n",
    "\n",
    "plt.subplot(1,2,1)\n",
    "plt.plot(history.history[\"loss\"], label=\"Training Loss\")\n",
    "plt.plot(history.history[\"val_loss\"], label=\"Validation Loss\")\n",
    "plt.title(\"Loss\")\n",
    "plt.xlabel(\"Epochs\")\n",
    "plt.ylabel(\"Loss\")\n",
    "plt.grid(True)\n",
    "plt.legend()\n",
    "\n",
    "plt.subplot(1,2,2)\n",
    "plt.plot(history.history[\"accuracy\"], label=\"Training Accuracy\")\n",
    "plt.plot(history.history[\"val_accuracy\"], label=\"Validation Accuracy\")\n",
    "plt.title(\"Accuracy\")\n",
    "plt.xlabel(\"Epochs\")\n",
    "plt.ylabel(\"Accuracy\")\n",
    "plt.grid(True)\n",
    "plt.legend()\n",
    "\n",
    "plt.tight_layout()\n",
    "plt.show()"
   ]
  },
  {
   "cell_type": "code",
   "execution_count": 33,
   "metadata": {},
   "outputs": [],
   "source": [
    "#get user input\n",
    "\n",
    "def predict_sentiment(model, text, word_index, maxlen):\n",
    "    #turn text to number\n",
    "    encoded_text = [word_index.get(word,0) for word in text.lower().split() if word in word_index]\n",
    "    #padding\n",
    "    padded_text = pad_sequences([encoded_text], maxlen=maxlen)\n",
    "    #prediction\n",
    "    prediction = model.predict((padded_text))\n",
    "\n",
    "    return prediction[0][0]"
   ]
  },
  {
   "cell_type": "code",
   "execution_count": 34,
   "metadata": {},
   "outputs": [
    {
     "name": "stdout",
     "output_type": "stream",
     "text": [
      "\u001b[1m1/1\u001b[0m \u001b[32m━━━━━━━━━━━━━━━━━━━━\u001b[0m\u001b[37m\u001b[0m \u001b[1m0s\u001b[0m 29ms/step\n",
      "Sentiment Score guessed positive with %88.26642036437988 confidence\n"
     ]
    }
   ],
   "source": [
    "word_index = imdb.get_word_index()\n",
    "\n",
    "user_input = input(\"Enter a movie review: \")\n",
    "sentiment_score = predict_sentiment(model, user_input, word_index, maxlen)\n",
    "\n",
    "if sentiment_score > 0.5:\n",
    "    print(f\"Sentiment Score guessed positive with %{sentiment_score*100} confidence\")\n",
    "else:\n",
    "    print(f\"Sentiment Score guessed negative with %{sentiment_score*100} confidence\")"
   ]
  },
  {
   "cell_type": "code",
   "execution_count": 46,
   "metadata": {},
   "outputs": [],
   "source": [
    "def control_review(review):\n",
    "    print(f\"\\nReview is: {review}\")\n",
    "    sentiment_score = predict_sentiment(model, review, word_index, maxlen)\n",
    "    \n",
    "    if sentiment_score > 0.5:\n",
    "        print(f\"Sentiment Score guessed positive with %{sentiment_score*100} confidence\")\n",
    "    else:\n",
    "        print(f\"Sentiment Score guessed negative with %{100-sentiment_score*100} confidence\")"
   ]
  },
  {
   "cell_type": "code",
   "execution_count": 53,
   "metadata": {},
   "outputs": [],
   "source": [
    "good_reviews = [\n",
    "    \"Absolutely stunning visuals and a gripping story from start to finish. A must-watch!\",\n",
    "    \"The cast delivered exceptional performances, and the plot twists kept me on the edge of my seat. Highly recommend!\",\n",
    "    \"A beautifully crafted film with a powerful message. The director's vision truly shines through.\",\n",
    "    \"Heartwarming and thought-provoking. This movie will stay with you long after the credits roll.\",\n",
    "    \"A cinematic masterpiece! The soundtrack, cinematography, and storytelling are top-notch.\",\n",
    "    \"The film's pacing is perfect, and the dialogue is both witty and meaningful. A true work of art.\",\n",
    "    \"A thrilling ride with an unexpected ending. The performances are stellar, and the direction is flawless.\",\n",
    "    \"Emotionally charged and brilliantly executed. This film is a testament to the power of storytelling.\"\n",
    "]\n",
    "\n",
    "bad_reviews = [\n",
    "    \"The plot was predictable and the characters were one-dimensional. Not worth the time.\",\n",
    "    \"The film dragged on with little to no excitement. I found myself checking the time frequently.\",\n",
    "    \"A disappointing mess with incoherent plot points and lackluster performances.\",\n",
    "    \"The special effects were laughable, and the dialogue was cringeworthy. A complete letdown.\",\n",
    "    \"A forgettable film with no redeeming qualities. The direction was amateurish, and the script was poorly written.\",\n",
    "    \"A complete waste of time. The plot was nonsensical, and the acting was atrocious.\",\n",
    "    \"An unoriginal and uninspired movie that failed to leave any impression. Avoid at all costs.\"\n",
    "]"
   ]
  },
  {
   "cell_type": "code",
   "execution_count": 54,
   "metadata": {},
   "outputs": [
    {
     "name": "stdout",
     "output_type": "stream",
     "text": [
      "\n",
      "Review is: Absolutely stunning visuals and a gripping story from start to finish. A must-watch!\n",
      "\u001b[1m1/1\u001b[0m \u001b[32m━━━━━━━━━━━━━━━━━━━━\u001b[0m\u001b[37m\u001b[0m \u001b[1m0s\u001b[0m 28ms/step\n",
      "Sentiment Score guessed positive with %99.86472129821777 confidence\n",
      "\n",
      "Review is: The cast delivered exceptional performances, and the plot twists kept me on the edge of my seat. Highly recommend!\n",
      "\u001b[1m1/1\u001b[0m \u001b[32m━━━━━━━━━━━━━━━━━━━━\u001b[0m\u001b[37m\u001b[0m \u001b[1m0s\u001b[0m 28ms/step\n",
      "Sentiment Score guessed positive with %97.10386395454407 confidence\n",
      "\n",
      "Review is: A beautifully crafted film with a powerful message. The director's vision truly shines through.\n",
      "\u001b[1m1/1\u001b[0m \u001b[32m━━━━━━━━━━━━━━━━━━━━\u001b[0m\u001b[37m\u001b[0m \u001b[1m0s\u001b[0m 31ms/step\n",
      "Sentiment Score guessed negative with %98.78332922235131 confidence\n",
      "\n",
      "Review is: Heartwarming and thought-provoking. This movie will stay with you long after the credits roll.\n",
      "\u001b[1m1/1\u001b[0m \u001b[32m━━━━━━━━━━━━━━━━━━━━\u001b[0m\u001b[37m\u001b[0m \u001b[1m0s\u001b[0m 30ms/step\n",
      "Sentiment Score guessed positive with %70.12287378311157 confidence\n",
      "\n",
      "Review is: A cinematic masterpiece! The soundtrack, cinematography, and storytelling are top-notch.\n",
      "\u001b[1m1/1\u001b[0m \u001b[32m━━━━━━━━━━━━━━━━━━━━\u001b[0m\u001b[37m\u001b[0m \u001b[1m0s\u001b[0m 29ms/step\n",
      "Sentiment Score guessed negative with %66.58101677894592 confidence\n",
      "\n",
      "Review is: The film's pacing is perfect, and the dialogue is both witty and meaningful. A true work of art.\n",
      "\u001b[1m1/1\u001b[0m \u001b[32m━━━━━━━━━━━━━━━━━━━━\u001b[0m\u001b[37m\u001b[0m \u001b[1m0s\u001b[0m 29ms/step\n",
      "Sentiment Score guessed positive with %99.89391565322876 confidence\n",
      "\n",
      "Review is: A thrilling ride with an unexpected ending. The performances are stellar, and the direction is flawless.\n",
      "\u001b[1m1/1\u001b[0m \u001b[32m━━━━━━━━━━━━━━━━━━━━\u001b[0m\u001b[37m\u001b[0m \u001b[1m0s\u001b[0m 41ms/step\n",
      "Sentiment Score guessed positive with %98.0433464050293 confidence\n",
      "\n",
      "Review is: Emotionally charged and brilliantly executed. This film is a testament to the power of storytelling.\n",
      "\u001b[1m1/1\u001b[0m \u001b[32m━━━━━━━━━━━━━━━━━━━━\u001b[0m\u001b[37m\u001b[0m \u001b[1m0s\u001b[0m 27ms/step\n",
      "Sentiment Score guessed positive with %90.86447954177856 confidence\n"
     ]
    }
   ],
   "source": [
    "for review in good_reviews:\n",
    "    control_review(review)"
   ]
  },
  {
   "cell_type": "code",
   "execution_count": 55,
   "metadata": {},
   "outputs": [
    {
     "name": "stdout",
     "output_type": "stream",
     "text": [
      "\n",
      "Review is: The plot was predictable and the characters were one-dimensional. Not worth the time.\n",
      "\u001b[1m1/1\u001b[0m \u001b[32m━━━━━━━━━━━━━━━━━━━━\u001b[0m\u001b[37m\u001b[0m \u001b[1m0s\u001b[0m 27ms/step\n",
      "Sentiment Score guessed positive with %99.89156723022461 confidence\n",
      "\n",
      "Review is: The film dragged on with little to no excitement. I found myself checking the time frequently.\n",
      "\u001b[1m1/1\u001b[0m \u001b[32m━━━━━━━━━━━━━━━━━━━━\u001b[0m\u001b[37m\u001b[0m \u001b[1m0s\u001b[0m 28ms/step\n",
      "Sentiment Score guessed negative with %97.5013205781579 confidence\n",
      "\n",
      "Review is: A disappointing mess with incoherent plot points and lackluster performances.\n",
      "\u001b[1m1/1\u001b[0m \u001b[32m━━━━━━━━━━━━━━━━━━━━\u001b[0m\u001b[37m\u001b[0m \u001b[1m0s\u001b[0m 28ms/step\n",
      "Sentiment Score guessed negative with %85.63273251056671 confidence\n",
      "\n",
      "Review is: The special effects were laughable, and the dialogue was cringeworthy. A complete letdown.\n",
      "\u001b[1m1/1\u001b[0m \u001b[32m━━━━━━━━━━━━━━━━━━━━\u001b[0m\u001b[37m\u001b[0m \u001b[1m0s\u001b[0m 30ms/step\n",
      "Sentiment Score guessed positive with %76.14840269088745 confidence\n",
      "\n",
      "Review is: A forgettable film with no redeeming qualities. The direction was amateurish, and the script was poorly written.\n",
      "\u001b[1m1/1\u001b[0m \u001b[32m━━━━━━━━━━━━━━━━━━━━\u001b[0m\u001b[37m\u001b[0m \u001b[1m0s\u001b[0m 29ms/step\n",
      "Sentiment Score guessed positive with %97.44162559509277 confidence\n",
      "\n",
      "Review is: A complete waste of time. The plot was nonsensical, and the acting was atrocious.\n",
      "\u001b[1m1/1\u001b[0m \u001b[32m━━━━━━━━━━━━━━━━━━━━\u001b[0m\u001b[37m\u001b[0m \u001b[1m0s\u001b[0m 29ms/step\n",
      "Sentiment Score guessed positive with %98.6498773097992 confidence\n",
      "\n",
      "Review is: An unoriginal and uninspired movie that failed to leave any impression. Avoid at all costs.\n",
      "\u001b[1m1/1\u001b[0m \u001b[32m━━━━━━━━━━━━━━━━━━━━\u001b[0m\u001b[37m\u001b[0m \u001b[1m0s\u001b[0m 29ms/step\n",
      "Sentiment Score guessed positive with %97.7520227432251 confidence\n"
     ]
    }
   ],
   "source": [
    "for review in bad_reviews:\n",
    "    control_review(review)"
   ]
  }
 ],
 "metadata": {
  "kernelspec": {
   "display_name": "Python 3",
   "language": "python",
   "name": "python3"
  },
  "language_info": {
   "codemirror_mode": {
    "name": "ipython",
    "version": 3
   },
   "file_extension": ".py",
   "mimetype": "text/x-python",
   "name": "python",
   "nbconvert_exporter": "python",
   "pygments_lexer": "ipython3",
   "version": "3.12.6"
  }
 },
 "nbformat": 4,
 "nbformat_minor": 2
}
