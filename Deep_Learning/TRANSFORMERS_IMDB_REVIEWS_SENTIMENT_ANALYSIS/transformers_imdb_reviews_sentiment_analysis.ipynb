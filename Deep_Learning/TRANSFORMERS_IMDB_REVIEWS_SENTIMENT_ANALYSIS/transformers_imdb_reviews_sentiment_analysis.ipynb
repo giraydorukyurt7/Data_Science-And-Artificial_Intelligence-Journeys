{
 "cells": [
  {
   "cell_type": "markdown",
   "metadata": {},
   "source": [
    "# 0-) IMPORTS"
   ]
  },
  {
   "cell_type": "code",
   "execution_count": 14,
   "metadata": {},
   "outputs": [],
   "source": [
    "import numpy             as np\n",
    "import matplotlib.pyplot as plt\n",
    "import tensorflow        as tf\n",
    "\n",
    "from tensorflow.keras import layers, models\n",
    "from tensorflow.keras.datasets import imdb\n",
    "from tensorflow.keras.preprocessing.sequence import pad_sequences"
   ]
  },
  {
   "cell_type": "markdown",
   "metadata": {},
   "source": [
    "# 1-) DATA ANALYSIS"
   ]
  },
  {
   "cell_type": "code",
   "execution_count": 15,
   "metadata": {},
   "outputs": [],
   "source": [
    "max_features = 10000 #Most used 10000 words.\n",
    "maxlen       = 100   #Max word of comments."
   ]
  },
  {
   "cell_type": "code",
   "execution_count": 16,
   "metadata": {},
   "outputs": [],
   "source": [
    "(X_train,y_train),(X_test,y_test) = imdb.load_data(num_words=max_features)"
   ]
  },
  {
   "cell_type": "code",
   "execution_count": 17,
   "metadata": {},
   "outputs": [
    {
     "name": "stdout",
     "output_type": "stream",
     "text": [
      "(25000,)\n",
      "(25000,)\n",
      "(25000,)\n",
      "(25000,)\n",
      "25000\n",
      "25000\n",
      "25000\n",
      "25000\n"
     ]
    }
   ],
   "source": [
    "print(X_train.shape)\n",
    "print(y_train.shape)\n",
    "print(X_test.shape)\n",
    "print(y_test.shape)\n",
    "\n",
    "print(len(X_train))\n",
    "print(len(y_train))\n",
    "print(len(X_test))\n",
    "print(len(y_test))"
   ]
  },
  {
   "cell_type": "code",
   "execution_count": 18,
   "metadata": {},
   "outputs": [],
   "source": [
    "# Set max len to 100 words\n",
    "X_train = pad_sequences(X_train, maxlen=maxlen)\n",
    "X_test  = pad_sequences(X_test , maxlen=maxlen)"
   ]
  },
  {
   "cell_type": "code",
   "execution_count": 19,
   "metadata": {},
   "outputs": [
    {
     "name": "stdout",
     "output_type": "stream",
     "text": [
      "(25000, 100)\n",
      "(25000,)\n",
      "(25000, 100)\n",
      "(25000,)\n",
      "25000\n",
      "25000\n",
      "25000\n",
      "25000\n"
     ]
    }
   ],
   "source": [
    "print(X_train.shape)\n",
    "print(y_train.shape)\n",
    "print(X_test.shape)\n",
    "print(y_test.shape)\n",
    "\n",
    "print(len(X_train))\n",
    "print(len(y_train))\n",
    "print(len(X_test))\n",
    "print(len(y_test))"
   ]
  },
  {
   "cell_type": "code",
   "execution_count": 20,
   "metadata": {},
   "outputs": [],
   "source": [
    "word_index = imdb.get_word_index()"
   ]
  },
  {
   "cell_type": "code",
   "execution_count": 21,
   "metadata": {},
   "outputs": [],
   "source": [
    "reverse_word_index = {index+3: word for word, index in word_index.items()}"
   ]
  },
  {
   "cell_type": "code",
   "execution_count": 22,
   "metadata": {},
   "outputs": [],
   "source": [
    "reverse_word_index[0] = \"<PAD>\"\n",
    "reverse_word_index[1] = \"<START>\"\n",
    "reverse_word_index[2] = \"<UNKNOWN>\"\n",
    "reverse_word_index[3] = \"<UNUSED>\""
   ]
  },
  {
   "cell_type": "code",
   "execution_count": 23,
   "metadata": {},
   "outputs": [],
   "source": [
    "#write examples\n",
    "def decode_review(encoded_review):\n",
    "    return \" \".join([reverse_word_index.get(i,\"?\") for i in encoded_review])"
   ]
  },
  {
   "cell_type": "code",
   "execution_count": 29,
   "metadata": {},
   "outputs": [
    {
     "name": "stdout",
     "output_type": "stream",
     "text": [
      "Comment: doesn't this film is very close to jon <UNKNOWN> definitive bio on che and gets the story right <UNKNOWN> does an excellent job of setting the mood for the <UNKNOWN> <UNKNOWN> that was che's <UNKNOWN> adventure you really get the impression of the total <UNKNOWN> and <UNKNOWN> of the <UNKNOWN> <UNKNOWN> to che's revolutionary ideas or of the difficulties that his men faced with <UNKNOWN> and the <UNKNOWN> sorry to bore the attention challenged movie fan out there but that was how it happened so don't go into this movie expecting a rambo shoot em up its a true story\n",
      "Label  : 1\n",
      "\n",
      "Comment: rolled and i had yet to see what pain looked like first hand perhaps there are some viewers out there that enjoyed this and can point me in the right direction but then again i know of those viewers who understand if not <UNKNOWN> me especially when we had to turn the video off and that simply is not done with our watching we had to make one exception obviously br br if it were up for a remake i'd give it a chance so long as they had at most 1 of the original <UNKNOWN> into it that's all\n",
      "Label  : 0\n",
      "\n",
      "Comment: she wants and once you hear the feminine <UNKNOWN> of her <UNKNOWN> she ain't bad a scene in which she battles her father to the floor is <UNKNOWN> it it was a little hard to understand <UNKNOWN> restraint when rodriguez <UNKNOWN> all over him in bed the director <UNKNOWN> <UNKNOWN> has chosen her talent carefully br br shows what you can do with some talent imagination and a <UNKNOWN> of money there ought to be more films like it take one of those multi billion dollar blockbusters full of dinosaurs or space ships and spread the <UNKNOWN> around a little\n",
      "Label  : 1\n",
      "\n",
      "Comment: mighty <UNKNOWN> of frenetic misfortune as paul <UNKNOWN> from <UNKNOWN> to <UNKNOWN> trying to cover up what he's done whilst keeping up the appearance of being a <UNKNOWN> family oriented good guy who's super excited about his <UNKNOWN> <UNKNOWN> his efforts to ensure karen remains none the <UNKNOWN> about any potential wrong doing on his part ironically forces paul closer and closer to the fun loving <UNKNOWN> forcing him to question whether he really wants the life that seems to have been <UNKNOWN> out for him the movie contains the right mix of comedy and romance definitely worth a watch\n",
      "Label  : 1\n",
      "\n",
      "Comment: you want to know what watching this movie is like grab a video camera and some red food <UNKNOWN> and film yourself and your friends wandering around the neighborhood at night <UNKNOWN> and attacking people <UNKNOWN> you've just made hood of the living dead now see if a distribution company will buy it from you br br i have seen some low budget shot on video films that displayed talent from the filmmakers and actors or at the very least effort but this has neither avoid unless you are a true <UNKNOWN> or are amused by poorly made horror movies\n",
      "Label  : 0\n",
      "\n"
     ]
    }
   ],
   "source": [
    "random_indices = np.random.choice(len(X_train), size=5, replace=False)\n",
    "for i in random_indices:\n",
    "    print(f\"Comment: {decode_review(X_train[i])}\")\n",
    "    print(f\"Label  : {y_train[i]}\")\n",
    "    print()"
   ]
  },
  {
   "cell_type": "markdown",
   "metadata": {},
   "source": [
    "# 2-) MODELLING"
   ]
  },
  {
   "cell_type": "markdown",
   "metadata": {},
   "source": [
    "# 3-) TESTING"
   ]
  }
 ],
 "metadata": {
  "kernelspec": {
   "display_name": "tensorflow_env",
   "language": "python",
   "name": "python3"
  },
  "language_info": {
   "codemirror_mode": {
    "name": "ipython",
    "version": 3
   },
   "file_extension": ".py",
   "mimetype": "text/x-python",
   "name": "python",
   "nbconvert_exporter": "python",
   "pygments_lexer": "ipython3",
   "version": "3.7.9"
  }
 },
 "nbformat": 4,
 "nbformat_minor": 2
}
