{
 "cells": [
  {
   "cell_type": "code",
   "execution_count": 1,
   "metadata": {},
   "outputs": [],
   "source": [
    "import numpy as np"
   ]
  },
  {
   "cell_type": "code",
   "execution_count": 2,
   "metadata": {},
   "outputs": [
    {
     "data": {
      "text/plain": [
       "[9, 8, 7, 6, 5]"
      ]
     },
     "execution_count": 2,
     "metadata": {},
     "output_type": "execute_result"
    }
   ],
   "source": [
    "a = [1,2,3,4,5]\n",
    "b = [9,8,7,6,5]\n",
    "a\n",
    "b"
   ]
  },
  {
   "cell_type": "code",
   "execution_count": 3,
   "metadata": {},
   "outputs": [
    {
     "data": {
      "text/plain": [
       "[1, 2, 3, 4, 5]"
      ]
     },
     "execution_count": 3,
     "metadata": {},
     "output_type": "execute_result"
    }
   ],
   "source": [
    "a"
   ]
  },
  {
   "cell_type": "code",
   "execution_count": 4,
   "metadata": {},
   "outputs": [
    {
     "data": {
      "text/plain": [
       "array([  10,   40,   90,  160,  250,  360,  490,  640,  810, 1000])"
      ]
     },
     "execution_count": 4,
     "metadata": {},
     "output_type": "execute_result"
    }
   ],
   "source": [
    "a = np.array([1,2,3,4,5,6,7,8,9,10])\n",
    "b = np.array([10,20,30,40,50,60,70,80,90,100])\n",
    "a*b\n"
   ]
  },
  {
   "cell_type": "code",
   "execution_count": 5,
   "metadata": {},
   "outputs": [
    {
     "data": {
      "text/plain": [
       "array([1.    , 2.4   , 3.    , 4.3131])"
      ]
     },
     "execution_count": 5,
     "metadata": {},
     "output_type": "execute_result"
    }
   ],
   "source": [
    "c = np.array([1,2.4,3, 4.3131])\n",
    "c"
   ]
  },
  {
   "cell_type": "code",
   "execution_count": 6,
   "metadata": {},
   "outputs": [
    {
     "data": {
      "text/plain": [
       "array([[0, 0, 0, 0, 0],\n",
       "       [0, 0, 0, 0, 0],\n",
       "       [0, 0, 0, 0, 0],\n",
       "       [0, 0, 0, 0, 0],\n",
       "       [0, 0, 0, 0, 0]])"
      ]
     },
     "execution_count": 6,
     "metadata": {},
     "output_type": "execute_result"
    }
   ],
   "source": [
    "np.zeros((5,5), dtype='int')"
   ]
  },
  {
   "cell_type": "code",
   "execution_count": 7,
   "metadata": {},
   "outputs": [
    {
     "data": {
      "text/plain": [
       "array([[1, 1, 1, 1, 1, 1, 1, 1, 1],\n",
       "       [1, 1, 1, 1, 1, 1, 1, 1, 1],\n",
       "       [1, 1, 1, 1, 1, 1, 1, 1, 1],\n",
       "       [1, 1, 1, 1, 1, 1, 1, 1, 1],\n",
       "       [1, 1, 1, 1, 1, 1, 1, 1, 1],\n",
       "       [1, 1, 1, 1, 1, 1, 1, 1, 1],\n",
       "       [1, 1, 1, 1, 1, 1, 1, 1, 1],\n",
       "       [1, 1, 1, 1, 1, 1, 1, 1, 1],\n",
       "       [1, 1, 1, 1, 1, 1, 1, 1, 1]])"
      ]
     },
     "execution_count": 7,
     "metadata": {},
     "output_type": "execute_result"
    }
   ],
   "source": [
    "np.ones((9,9), dtype=\"int\")"
   ]
  },
  {
   "cell_type": "code",
   "execution_count": 8,
   "metadata": {},
   "outputs": [
    {
     "data": {
      "text/plain": [
       "array([[31, 31, 31, 31, 31, 31],\n",
       "       [31, 31, 31, 31, 31, 31],\n",
       "       [31, 31, 31, 31, 31, 31],\n",
       "       [31, 31, 31, 31, 31, 31],\n",
       "       [31, 31, 31, 31, 31, 31],\n",
       "       [31, 31, 31, 31, 31, 31]])"
      ]
     },
     "execution_count": 8,
     "metadata": {},
     "output_type": "execute_result"
    }
   ],
   "source": [
    "np.full((6,6), 31)"
   ]
  },
  {
   "cell_type": "code",
   "execution_count": 9,
   "metadata": {},
   "outputs": [
    {
     "data": {
      "text/plain": [
       "array([[[[[31, 31, 31],\n",
       "          [31, 31, 31],\n",
       "          [31, 31, 31]],\n",
       "\n",
       "         [[31, 31, 31],\n",
       "          [31, 31, 31],\n",
       "          [31, 31, 31]],\n",
       "\n",
       "         [[31, 31, 31],\n",
       "          [31, 31, 31],\n",
       "          [31, 31, 31]]],\n",
       "\n",
       "\n",
       "        [[[31, 31, 31],\n",
       "          [31, 31, 31],\n",
       "          [31, 31, 31]],\n",
       "\n",
       "         [[31, 31, 31],\n",
       "          [31, 31, 31],\n",
       "          [31, 31, 31]],\n",
       "\n",
       "         [[31, 31, 31],\n",
       "          [31, 31, 31],\n",
       "          [31, 31, 31]]],\n",
       "\n",
       "\n",
       "        [[[31, 31, 31],\n",
       "          [31, 31, 31],\n",
       "          [31, 31, 31]],\n",
       "\n",
       "         [[31, 31, 31],\n",
       "          [31, 31, 31],\n",
       "          [31, 31, 31]],\n",
       "\n",
       "         [[31, 31, 31],\n",
       "          [31, 31, 31],\n",
       "          [31, 31, 31]]]],\n",
       "\n",
       "\n",
       "\n",
       "       [[[[31, 31, 31],\n",
       "          [31, 31, 31],\n",
       "          [31, 31, 31]],\n",
       "\n",
       "         [[31, 31, 31],\n",
       "          [31, 31, 31],\n",
       "          [31, 31, 31]],\n",
       "\n",
       "         [[31, 31, 31],\n",
       "          [31, 31, 31],\n",
       "          [31, 31, 31]]],\n",
       "\n",
       "\n",
       "        [[[31, 31, 31],\n",
       "          [31, 31, 31],\n",
       "          [31, 31, 31]],\n",
       "\n",
       "         [[31, 31, 31],\n",
       "          [31, 31, 31],\n",
       "          [31, 31, 31]],\n",
       "\n",
       "         [[31, 31, 31],\n",
       "          [31, 31, 31],\n",
       "          [31, 31, 31]]],\n",
       "\n",
       "\n",
       "        [[[31, 31, 31],\n",
       "          [31, 31, 31],\n",
       "          [31, 31, 31]],\n",
       "\n",
       "         [[31, 31, 31],\n",
       "          [31, 31, 31],\n",
       "          [31, 31, 31]],\n",
       "\n",
       "         [[31, 31, 31],\n",
       "          [31, 31, 31],\n",
       "          [31, 31, 31]]]],\n",
       "\n",
       "\n",
       "\n",
       "       [[[[31, 31, 31],\n",
       "          [31, 31, 31],\n",
       "          [31, 31, 31]],\n",
       "\n",
       "         [[31, 31, 31],\n",
       "          [31, 31, 31],\n",
       "          [31, 31, 31]],\n",
       "\n",
       "         [[31, 31, 31],\n",
       "          [31, 31, 31],\n",
       "          [31, 31, 31]]],\n",
       "\n",
       "\n",
       "        [[[31, 31, 31],\n",
       "          [31, 31, 31],\n",
       "          [31, 31, 31]],\n",
       "\n",
       "         [[31, 31, 31],\n",
       "          [31, 31, 31],\n",
       "          [31, 31, 31]],\n",
       "\n",
       "         [[31, 31, 31],\n",
       "          [31, 31, 31],\n",
       "          [31, 31, 31]]],\n",
       "\n",
       "\n",
       "        [[[31, 31, 31],\n",
       "          [31, 31, 31],\n",
       "          [31, 31, 31]],\n",
       "\n",
       "         [[31, 31, 31],\n",
       "          [31, 31, 31],\n",
       "          [31, 31, 31]],\n",
       "\n",
       "         [[31, 31, 31],\n",
       "          [31, 31, 31],\n",
       "          [31, 31, 31]]]]])"
      ]
     },
     "execution_count": 9,
     "metadata": {},
     "output_type": "execute_result"
    }
   ],
   "source": [
    "np.full((3,3,3,3,3),31)"
   ]
  },
  {
   "cell_type": "code",
   "execution_count": 10,
   "metadata": {},
   "outputs": [
    {
     "data": {
      "text/plain": [
       "array([  0,  31,  62,  93, 124, 155, 186, 217, 248, 279, 310, 341, 372,\n",
       "       403, 434, 465, 496, 527, 558, 589, 620, 651, 682, 713, 744, 775,\n",
       "       806, 837, 868, 899, 930, 961, 992])"
      ]
     },
     "execution_count": 10,
     "metadata": {},
     "output_type": "execute_result"
    }
   ],
   "source": [
    "np.arange(0,1000,31)"
   ]
  },
  {
   "cell_type": "code",
   "execution_count": 11,
   "metadata": {},
   "outputs": [
    {
     "data": {
      "text/plain": [
       "array([  0,   0,   0,   0,   0,   0,   0,   0,   0,   0,   1,   1,   1,\n",
       "         1,   1,   1,   1,   1,   1,   1,   2,   2,   2,   2,   2,   2,\n",
       "         2,   2,   2,   2,   3,   3,   3,   3,   3,   3,   3,   3,   3,\n",
       "         3,   4,   4,   4,   4,   4,   4,   4,   4,   4,   4,   5,   5,\n",
       "         5,   5,   5,   5,   5,   5,   5,   5,   6,   6,   6,   6,   6,\n",
       "         6,   6,   6,   6,   6,   7,   7,   7,   7,   7,   7,   7,   7,\n",
       "         7,   7,   8,   8,   8,   8,   8,   8,   8,   8,   8,   8,   9,\n",
       "         9,   9,   9,   9,   9,   9,   9,   9,   9,  10,  10,  10,  10,\n",
       "        10,  10,  10,  10,  10,  10,  11,  11,  11,  11,  11,  11,  11,\n",
       "        11,  11,  11,  12,  12,  12,  12,  12,  12,  12,  12,  12,  12,\n",
       "        13,  13,  13,  13,  13,  13,  13,  13,  13,  13,  14,  14,  14,\n",
       "        14,  14,  14,  14,  14,  14,  14,  15,  15,  15,  15,  15,  15,\n",
       "        15,  15,  15,  15,  16,  16,  16,  16,  16,  16,  16,  16,  16,\n",
       "        16,  17,  17,  17,  17,  17,  17,  17,  17,  17,  17,  18,  18,\n",
       "        18,  18,  18,  18,  18,  18,  18,  18,  19,  19,  19,  19,  19,\n",
       "        19,  19,  19,  19,  19,  20,  20,  20,  20,  20,  20,  20,  20,\n",
       "        20,  20,  21,  21,  21,  21,  21,  21,  21,  21,  21,  21,  22,\n",
       "        22,  22,  22,  22,  22,  22,  22,  22,  22,  23,  23,  23,  23,\n",
       "        23,  23,  23,  23,  23,  23,  24,  24,  24,  24,  24,  24,  24,\n",
       "        24,  24,  24,  25,  25,  25,  25,  25,  25,  25,  25,  25,  25,\n",
       "        26,  26,  26,  26,  26,  26,  26,  26,  26,  26,  27,  27,  27,\n",
       "        27,  27,  27,  27,  27,  27,  27,  28,  28,  28,  28,  28,  28,\n",
       "        28,  28,  28,  28,  29,  29,  29,  29,  29,  29,  29,  29,  29,\n",
       "        29,  30,  30,  30,  30,  30,  30,  30,  30,  30,  30,  31,  31,\n",
       "        31,  31,  31,  31,  31,  31,  31,  31,  32,  32,  32,  32,  32,\n",
       "        32,  32,  32,  32,  32,  33,  33,  33,  33,  33,  33,  33,  33,\n",
       "        33,  33,  34,  34,  34,  34,  34,  34,  34,  34,  34,  34,  35,\n",
       "        35,  35,  35,  35,  35,  35,  35,  35,  35,  36,  36,  36,  36,\n",
       "        36,  36,  36,  36,  36,  36,  37,  37,  37,  37,  37,  37,  37,\n",
       "        37,  37,  37,  38,  38,  38,  38,  38,  38,  38,  38,  38,  38,\n",
       "        39,  39,  39,  39,  39,  39,  39,  39,  39,  39,  40,  40,  40,\n",
       "        40,  40,  40,  40,  40,  40,  40,  41,  41,  41,  41,  41,  41,\n",
       "        41,  41,  41,  41,  42,  42,  42,  42,  42,  42,  42,  42,  42,\n",
       "        42,  43,  43,  43,  43,  43,  43,  43,  43,  43,  43,  44,  44,\n",
       "        44,  44,  44,  44,  44,  44,  44,  44,  45,  45,  45,  45,  45,\n",
       "        45,  45,  45,  45,  45,  46,  46,  46,  46,  46,  46,  46,  46,\n",
       "        46,  46,  47,  47,  47,  47,  47,  47,  47,  47,  47,  47,  48,\n",
       "        48,  48,  48,  48,  48,  48,  48,  48,  48,  49,  49,  49,  49,\n",
       "        49,  49,  49,  49,  49,  49,  50,  50,  50,  50,  50,  50,  50,\n",
       "        50,  50,  50,  51,  51,  51,  51,  51,  51,  51,  51,  51,  51,\n",
       "        52,  52,  52,  52,  52,  52,  52,  52,  52,  52,  53,  53,  53,\n",
       "        53,  53,  53,  53,  53,  53,  53,  54,  54,  54,  54,  54,  54,\n",
       "        54,  54,  54,  54,  55,  55,  55,  55,  55,  55,  55,  55,  55,\n",
       "        55,  56,  56,  56,  56,  56,  56,  56,  56,  56,  56,  57,  57,\n",
       "        57,  57,  57,  57,  57,  57,  57,  57,  58,  58,  58,  58,  58,\n",
       "        58,  58,  58,  58,  58,  59,  59,  59,  59,  59,  59,  59,  59,\n",
       "        59,  59,  60,  60,  60,  60,  60,  60,  60,  60,  60,  60,  61,\n",
       "        61,  61,  61,  61,  61,  61,  61,  61,  61,  62,  62,  62,  62,\n",
       "        62,  62,  62,  62,  62,  62,  63,  63,  63,  63,  63,  63,  63,\n",
       "        63,  63,  63,  64,  64,  64,  64,  64,  64,  64,  64,  64,  64,\n",
       "        65,  65,  65,  65,  65,  65,  65,  65,  65,  65,  66,  66,  66,\n",
       "        66,  66,  66,  66,  66,  66,  66,  67,  67,  67,  67,  67,  67,\n",
       "        67,  67,  67,  67,  68,  68,  68,  68,  68,  68,  68,  68,  68,\n",
       "        68,  69,  69,  69,  69,  69,  69,  69,  69,  69,  69,  70,  70,\n",
       "        70,  70,  70,  70,  70,  70,  70,  70,  71,  71,  71,  71,  71,\n",
       "        71,  71,  71,  71,  71,  72,  72,  72,  72,  72,  72,  72,  72,\n",
       "        72,  72,  73,  73,  73,  73,  73,  73,  73,  73,  73,  73,  74,\n",
       "        74,  74,  74,  74,  74,  74,  74,  74,  74,  75,  75,  75,  75,\n",
       "        75,  75,  75,  75,  75,  75,  76,  76,  76,  76,  76,  76,  76,\n",
       "        76,  76,  76,  77,  77,  77,  77,  77,  77,  77,  77,  77,  77,\n",
       "        78,  78,  78,  78,  78,  78,  78,  78,  78,  78,  79,  79,  79,\n",
       "        79,  79,  79,  79,  79,  79,  79,  80,  80,  80,  80,  80,  80,\n",
       "        80,  80,  80,  80,  81,  81,  81,  81,  81,  81,  81,  81,  81,\n",
       "        81,  82,  82,  82,  82,  82,  82,  82,  82,  82,  82,  83,  83,\n",
       "        83,  83,  83,  83,  83,  83,  83,  83,  84,  84,  84,  84,  84,\n",
       "        84,  84,  84,  84,  84,  85,  85,  85,  85,  85,  85,  85,  85,\n",
       "        85,  85,  86,  86,  86,  86,  86,  86,  86,  86,  86,  86,  87,\n",
       "        87,  87,  87,  87,  87,  87,  87,  87,  87,  88,  88,  88,  88,\n",
       "        88,  88,  88,  88,  88,  88,  89,  89,  89,  89,  89,  89,  89,\n",
       "        89,  89,  89,  90,  90,  90,  90,  90,  90,  90,  90,  90,  90,\n",
       "        91,  91,  91,  91,  91,  91,  91,  91,  91,  91,  92,  92,  92,\n",
       "        92,  92,  92,  92,  92,  92,  92,  93,  93,  93,  93,  93,  93,\n",
       "        93,  93,  93,  93,  94,  94,  94,  94,  94,  94,  94,  94,  94,\n",
       "        94,  95,  95,  95,  95,  95,  95,  95,  95,  95,  95,  96,  96,\n",
       "        96,  96,  96,  96,  96,  96,  96,  96,  97,  97,  97,  97,  97,\n",
       "        97,  97,  97,  97,  97,  98,  98,  98,  98,  98,  98,  98,  98,\n",
       "        98,  98,  99,  99,  99,  99,  99,  99,  99,  99,  99, 100])"
      ]
     },
     "execution_count": 11,
     "metadata": {},
     "output_type": "execute_result"
    }
   ],
   "source": [
    "np.linspace(0,100, 1000, dtype='int')"
   ]
  },
  {
   "cell_type": "code",
   "execution_count": 12,
   "metadata": {},
   "outputs": [
    {
     "data": {
      "text/plain": [
       "array([[  749.91412884,  1175.98619336,  -625.19618256, -1470.50043852],\n",
       "       [  441.15700883,  1107.18020685,  -461.70434392, -1811.49769221],\n",
       "       [ -177.53864333,   814.32177   ,  -593.64820519,  2851.27383071]])"
      ]
     },
     "execution_count": 12,
     "metadata": {},
     "output_type": "execute_result"
    }
   ],
   "source": [
    "np.random.normal(10, 1000, (3,4))"
   ]
  },
  {
   "cell_type": "code",
   "execution_count": 13,
   "metadata": {},
   "outputs": [
    {
     "data": {
      "text/plain": [
       "array([[14, 16, 11,  9,  0],\n",
       "       [11,  6,  0,  6, 27],\n",
       "       [14,  4, 30, 30,  4],\n",
       "       [12, 13, 20, 26, 13],\n",
       "       [ 4, 18, 23,  4, 14]], dtype=int32)"
      ]
     },
     "execution_count": 13,
     "metadata": {},
     "output_type": "execute_result"
    }
   ],
   "source": [
    "np.random.randint(0,31, (5,5))"
   ]
  },
  {
   "cell_type": "markdown",
   "metadata": {},
   "source": [
    "* **ndim:** _boyut sayısı_ \n",
    "* **shape:**_boyut bilgisi_\n",
    "* **size:** _toplam eleman sayısı_\n",
    "* **dtype:**_array veri tipi_"
   ]
  },
  {
   "cell_type": "code",
   "execution_count": 14,
   "metadata": {},
   "outputs": [
    {
     "name": "stdout",
     "output_type": "stream",
     "text": [
      "[[[[1 6 3]\n",
      "   [1 2 5]]\n",
      "\n",
      "  [[0 6 2]\n",
      "   [9 5 5]]\n",
      "\n",
      "  [[3 3 3]\n",
      "   [6 6 7]]\n",
      "\n",
      "  [[0 1 7]\n",
      "   [9 0 1]]\n",
      "\n",
      "  [[1 0 4]\n",
      "   [9 0 4]]]\n",
      "\n",
      "\n",
      " [[[8 7 5]\n",
      "   [4 1 0]]\n",
      "\n",
      "  [[7 5 9]\n",
      "   [9 1 7]]\n",
      "\n",
      "  [[8 0 8]\n",
      "   [9 8 5]]\n",
      "\n",
      "  [[7 0 1]\n",
      "   [2 2 8]]\n",
      "\n",
      "  [[8 0 8]\n",
      "   [3 0 3]]]\n",
      "\n",
      "\n",
      " [[[8 4 2]\n",
      "   [4 8 9]]\n",
      "\n",
      "  [[9 6 5]\n",
      "   [6 6 4]]\n",
      "\n",
      "  [[7 5 3]\n",
      "   [1 9 6]]\n",
      "\n",
      "  [[7 5 8]\n",
      "   [5 9 8]]\n",
      "\n",
      "  [[0 9 4]\n",
      "   [0 4 7]]]\n",
      "\n",
      "\n",
      " [[[0 8 3]\n",
      "   [8 2 6]]\n",
      "\n",
      "  [[9 3 8]\n",
      "   [8 4 6]]\n",
      "\n",
      "  [[0 1 1]\n",
      "   [1 7 6]]\n",
      "\n",
      "  [[1 1 7]\n",
      "   [9 4 5]]\n",
      "\n",
      "  [[2 4 2]\n",
      "   [9 2 8]]]\n",
      "\n",
      "\n",
      " [[[1 8 0]\n",
      "   [6 3 2]]\n",
      "\n",
      "  [[1 5 6]\n",
      "   [3 4 1]]\n",
      "\n",
      "  [[5 4 7]\n",
      "   [1 9 6]]\n",
      "\n",
      "  [[4 2 1]\n",
      "   [3 8 7]]\n",
      "\n",
      "  [[7 0 0]\n",
      "   [2 9 0]]]\n",
      "\n",
      "\n",
      " [[[6 0 0]\n",
      "   [3 1 5]]\n",
      "\n",
      "  [[0 3 3]\n",
      "   [7 5 4]]\n",
      "\n",
      "  [[0 5 1]\n",
      "   [3 5 6]]\n",
      "\n",
      "  [[5 2 9]\n",
      "   [8 4 7]]\n",
      "\n",
      "  [[4 4 7]\n",
      "   [4 8 6]]]\n",
      "\n",
      "\n",
      " [[[8 5 7]\n",
      "   [9 2 6]]\n",
      "\n",
      "  [[6 2 4]\n",
      "   [2 6 9]]\n",
      "\n",
      "  [[0 4 3]\n",
      "   [4 4 2]]\n",
      "\n",
      "  [[4 2 8]\n",
      "   [7 4 9]]\n",
      "\n",
      "  [[3 3 1]\n",
      "   [2 4 7]]]\n",
      "\n",
      "\n",
      " [[[0 5 2]\n",
      "   [2 5 3]]\n",
      "\n",
      "  [[3 5 7]\n",
      "   [7 1 1]]\n",
      "\n",
      "  [[3 3 4]\n",
      "   [6 5 3]]\n",
      "\n",
      "  [[9 7 8]\n",
      "   [6 5 0]]\n",
      "\n",
      "  [[5 2 5]\n",
      "   [0 1 2]]]\n",
      "\n",
      "\n",
      " [[[3 0 2]\n",
      "   [9 3 9]]\n",
      "\n",
      "  [[3 4 8]\n",
      "   [5 0 5]]\n",
      "\n",
      "  [[3 0 5]\n",
      "   [5 8 5]]\n",
      "\n",
      "  [[0 3 1]\n",
      "   [7 1 3]]\n",
      "\n",
      "  [[3 5 8]\n",
      "   [3 1 4]]]\n",
      "\n",
      "\n",
      " [[[7 7 0]\n",
      "   [7 5 7]]\n",
      "\n",
      "  [[5 4 7]\n",
      "   [8 2 0]]\n",
      "\n",
      "  [[9 9 1]\n",
      "   [5 3 7]]\n",
      "\n",
      "  [[7 5 0]\n",
      "   [1 4 4]]\n",
      "\n",
      "  [[3 6 7]\n",
      "   [1 3 5]]]]\n",
      "boyut sayisi: 4\n",
      "boyut bilgisi: (10, 5, 2, 3)\n",
      "toplam eleman sayisi: 300\n",
      "array veri tipi: int32\n"
     ]
    }
   ],
   "source": [
    "a = np.random.randint(0,10, (10,5,2,3))\n",
    "print(a)\n",
    "print(\"boyut sayisi: \" + str(a.ndim))\n",
    "print(\"boyut bilgisi: \" + str(a.shape))\n",
    "print(\"toplam eleman sayisi: \" + str(a.size))\n",
    "print(\"array veri tipi: \" + str(a.dtype))"
   ]
  },
  {
   "cell_type": "code",
   "execution_count": 15,
   "metadata": {},
   "outputs": [
    {
     "name": "stdout",
     "output_type": "stream",
     "text": [
      "[ 1  2  3  4  5  6  7  8  9 10 11 12 13 14 15 16 17 18 19 20 21 22 23 24\n",
      " 25 26 27 28 29 30 31 32 33 34 35 36 37 38 39 40 41 42 43 44 45 46 47 48\n",
      " 49 50 51 52 53 54 55 56 57 58 59 60 61 62 63 64]\n",
      "\n",
      "\n",
      "\n",
      "\n",
      "[[ 1  2  3  4  5  6  7  8]\n",
      " [ 9 10 11 12 13 14 15 16]\n",
      " [17 18 19 20 21 22 23 24]\n",
      " [25 26 27 28 29 30 31 32]\n",
      " [33 34 35 36 37 38 39 40]\n",
      " [41 42 43 44 45 46 47 48]\n",
      " [49 50 51 52 53 54 55 56]\n",
      " [57 58 59 60 61 62 63 64]]\n",
      "\n",
      "\n",
      "\n",
      "\n",
      "[[[ 1  2  3  4]\n",
      "  [ 5  6  7  8]\n",
      "  [ 9 10 11 12]\n",
      "  [13 14 15 16]]\n",
      "\n",
      " [[17 18 19 20]\n",
      "  [21 22 23 24]\n",
      "  [25 26 27 28]\n",
      "  [29 30 31 32]]\n",
      "\n",
      " [[33 34 35 36]\n",
      "  [37 38 39 40]\n",
      "  [41 42 43 44]\n",
      "  [45 46 47 48]]\n",
      "\n",
      " [[49 50 51 52]\n",
      "  [53 54 55 56]\n",
      "  [57 58 59 60]\n",
      "  [61 62 63 64]]]\n",
      "\n",
      "\n",
      "\n",
      "\n"
     ]
    }
   ],
   "source": [
    "a= np.arange(1,65)\n",
    "print(a)\n",
    "print(\"\\n\\n\\n\")\n",
    "print(a.reshape(8,8))\n",
    "print(\"\\n\\n\\n\")\n",
    "print(a.reshape(4,4,4))\n",
    "print(\"\\n\\n\\n\")"
   ]
  },
  {
   "cell_type": "code",
   "execution_count": 16,
   "metadata": {},
   "outputs": [
    {
     "data": {
      "text/plain": [
       "array([ 1,  2,  3,  4,  5,  6,  1, 22, 31])"
      ]
     },
     "execution_count": 16,
     "metadata": {},
     "output_type": "execute_result"
    }
   ],
   "source": [
    "x = np.array([1,2,3,4])\n",
    "y = np.array([5,6,1,22,31])\n",
    "np.concatenate([x,y])"
   ]
  },
  {
   "cell_type": "code",
   "execution_count": 17,
   "metadata": {},
   "outputs": [
    {
     "data": {
      "text/plain": [
       "array([[1, 2, 3],\n",
       "       [4, 5, 6],\n",
       "       [1, 2, 3],\n",
       "       [4, 5, 6]])"
      ]
     },
     "execution_count": 17,
     "metadata": {},
     "output_type": "execute_result"
    }
   ],
   "source": [
    "a = np.array([[1,2,3],\n",
    "              [4,5,6]])\n",
    "np.concatenate([a,a])\n",
    "\n"
   ]
  },
  {
   "cell_type": "code",
   "execution_count": 18,
   "metadata": {},
   "outputs": [
    {
     "data": {
      "text/plain": [
       "array([[1, 2, 3, 1, 2, 3],\n",
       "       [4, 5, 6, 4, 5, 6]])"
      ]
     },
     "execution_count": 18,
     "metadata": {},
     "output_type": "execute_result"
    }
   ],
   "source": [
    "np.concatenate([a,a], axis = 1)"
   ]
  },
  {
   "cell_type": "code",
   "execution_count": 19,
   "metadata": {},
   "outputs": [
    {
     "name": "stdout",
     "output_type": "stream",
     "text": [
      "[1 2 3]\n",
      "[99 99]\n",
      "[3 2]\n",
      "[1]\n"
     ]
    }
   ],
   "source": [
    "x = np.array([1,2,3,99,99,3,2,1])\n",
    "\n",
    "a,b,c,d = np.split(x,[3,5,7])\n",
    "print(a)\n",
    "print(b)\n",
    "print(c)\n",
    "print(d)\n",
    "\n"
   ]
  },
  {
   "cell_type": "code",
   "execution_count": 20,
   "metadata": {},
   "outputs": [
    {
     "data": {
      "text/plain": [
       "array([[ 0,  1,  2,  3],\n",
       "       [ 4,  5,  6,  7],\n",
       "       [ 8,  9, 10, 11],\n",
       "       [12, 13, 14, 15]])"
      ]
     },
     "execution_count": 20,
     "metadata": {},
     "output_type": "execute_result"
    }
   ],
   "source": [
    "m = np.arange(16).reshape(4,4)\n",
    "m"
   ]
  },
  {
   "cell_type": "code",
   "execution_count": 21,
   "metadata": {},
   "outputs": [
    {
     "name": "stdout",
     "output_type": "stream",
     "text": [
      "[[0 1 2 3]\n",
      " [4 5 6 7]]\n",
      "\n",
      "\n",
      "[[ 8  9 10 11]\n",
      " [12 13 14 15]]\n"
     ]
    }
   ],
   "source": [
    "ust, alt = np.vsplit(m, [2])\n",
    "print(ust)\n",
    "print('\\n')\n",
    "print(alt)"
   ]
  },
  {
   "cell_type": "code",
   "execution_count": 22,
   "metadata": {},
   "outputs": [
    {
     "name": "stdout",
     "output_type": "stream",
     "text": [
      "[[ 0  1]\n",
      " [ 4  5]\n",
      " [ 8  9]\n",
      " [12 13]]\n",
      "\n",
      "\n",
      "[[ 2  3]\n",
      " [ 6  7]\n",
      " [10 11]\n",
      " [14 15]]\n"
     ]
    }
   ],
   "source": [
    "sol, sag = np.hsplit(m, [2])\n",
    "print(sol)\n",
    "print('\\n')\n",
    "print(sag)"
   ]
  },
  {
   "cell_type": "code",
   "execution_count": 23,
   "metadata": {},
   "outputs": [
    {
     "data": {
      "text/plain": [
       "array([     1,      2,      3,  41241, 314134,      0,  -2412,     31])"
      ]
     },
     "execution_count": 23,
     "metadata": {},
     "output_type": "execute_result"
    }
   ],
   "source": [
    "v = np.array([1,2,3,41241,314134,0,-2412,31])\n",
    "v"
   ]
  },
  {
   "cell_type": "code",
   "execution_count": 24,
   "metadata": {},
   "outputs": [
    {
     "data": {
      "text/plain": [
       "array([ -2412,      0,      1,      2,      3,     31,  41241, 314134])"
      ]
     },
     "execution_count": 24,
     "metadata": {},
     "output_type": "execute_result"
    }
   ],
   "source": [
    "np.sort(v)\n"
   ]
  },
  {
   "cell_type": "code",
   "execution_count": 25,
   "metadata": {},
   "outputs": [
    {
     "data": {
      "text/plain": [
       "array([     1,      2,      3,  41241, 314134,      0,  -2412,     31])"
      ]
     },
     "execution_count": 25,
     "metadata": {},
     "output_type": "execute_result"
    }
   ],
   "source": [
    "v"
   ]
  },
  {
   "cell_type": "code",
   "execution_count": 26,
   "metadata": {},
   "outputs": [
    {
     "data": {
      "text/plain": [
       "array([ -2412,      0,      1,      2,      3,     31,  41241, 314134])"
      ]
     },
     "execution_count": 26,
     "metadata": {},
     "output_type": "execute_result"
    }
   ],
   "source": [
    "v.sort()\n",
    "v"
   ]
  },
  {
   "cell_type": "code",
   "execution_count": 27,
   "metadata": {},
   "outputs": [
    {
     "data": {
      "text/plain": [
       "array([[ 15.9864383 ,  91.83814128,  49.46612048,  41.96709758],\n",
       "       [ 82.75758366,  65.41613632,  54.26137985,  18.95075447],\n",
       "       [-25.38261216,  81.60635558,  -9.60977629,  72.4311514 ],\n",
       "       [ 61.77154086,  22.24446338,  -3.0553287 ,  40.65723855]])"
      ]
     },
     "execution_count": 27,
     "metadata": {},
     "output_type": "execute_result"
    }
   ],
   "source": [
    "m = np.random.normal(20,50, (4,4))\n",
    "m"
   ]
  },
  {
   "cell_type": "code",
   "execution_count": 28,
   "metadata": {},
   "outputs": [
    {
     "data": {
      "text/plain": [
       "array([[ 15.9864383 ,  41.96709758,  49.46612048,  91.83814128],\n",
       "       [ 18.95075447,  54.26137985,  65.41613632,  82.75758366],\n",
       "       [-25.38261216,  -9.60977629,  72.4311514 ,  81.60635558],\n",
       "       [ -3.0553287 ,  22.24446338,  40.65723855,  61.77154086]])"
      ]
     },
     "execution_count": 28,
     "metadata": {},
     "output_type": "execute_result"
    }
   ],
   "source": [
    "np.sort(m,axis=1)"
   ]
  },
  {
   "cell_type": "code",
   "execution_count": 29,
   "metadata": {},
   "outputs": [
    {
     "data": {
      "text/plain": [
       "array([[-25.38261216,  22.24446338,  -9.60977629,  18.95075447],\n",
       "       [ 15.9864383 ,  65.41613632,  -3.0553287 ,  40.65723855],\n",
       "       [ 61.77154086,  81.60635558,  49.46612048,  41.96709758],\n",
       "       [ 82.75758366,  91.83814128,  54.26137985,  72.4311514 ]])"
      ]
     },
     "execution_count": 29,
     "metadata": {},
     "output_type": "execute_result"
    }
   ],
   "source": [
    "np.sort(m,axis=0)"
   ]
  },
  {
   "cell_type": "code",
   "execution_count": 30,
   "metadata": {},
   "outputs": [
    {
     "data": {
      "text/plain": [
       "array([5, 3, 6, 8, 8, 6, 7, 8, 5, 3], dtype=int32)"
      ]
     },
     "execution_count": 30,
     "metadata": {},
     "output_type": "execute_result"
    }
   ],
   "source": [
    "a = np.random.randint(10, size=10)\n",
    "a"
   ]
  },
  {
   "cell_type": "code",
   "execution_count": 31,
   "metadata": {},
   "outputs": [
    {
     "name": "stdout",
     "output_type": "stream",
     "text": [
      "5 3 3\n"
     ]
    }
   ],
   "source": [
    "print(str(a[0])+\" \"+ str(a[1]) +\" \"+ str(a[-1]))"
   ]
  },
  {
   "cell_type": "code",
   "execution_count": 32,
   "metadata": {},
   "outputs": [
    {
     "data": {
      "text/plain": [
       "array([[4, 9, 9, 8, 8, 1, 4, 2, 9, 9],\n",
       "       [5, 9, 2, 3, 6, 8, 0, 3, 0, 8],\n",
       "       [2, 2, 1, 3, 3, 7, 2, 9, 0, 3],\n",
       "       [4, 1, 0, 8, 9, 0, 6, 2, 7, 8],\n",
       "       [9, 0, 7, 1, 1, 5, 8, 3, 1, 4],\n",
       "       [1, 6, 7, 3, 6, 5, 0, 6, 8, 3],\n",
       "       [1, 0, 5, 9, 8, 5, 6, 1, 7, 9],\n",
       "       [8, 6, 7, 7, 1, 5, 7, 4, 8, 9],\n",
       "       [1, 2, 6, 8, 4, 9, 7, 6, 6, 1],\n",
       "       [0, 4, 6, 7, 5, 5, 6, 5, 0, 0]], dtype=int32)"
      ]
     },
     "execution_count": 32,
     "metadata": {},
     "output_type": "execute_result"
    }
   ],
   "source": [
    "a = np.random.randint(10, size=(10,10))\n",
    "a"
   ]
  },
  {
   "cell_type": "code",
   "execution_count": 33,
   "metadata": {},
   "outputs": [
    {
     "name": "stdout",
     "output_type": "stream",
     "text": [
      "4 0 0\n"
     ]
    }
   ],
   "source": [
    "print(str(a[0,0])+\" \"+ str(a[1,8]) +\" \"+ str(a[-1,-1]))"
   ]
  },
  {
   "cell_type": "code",
   "execution_count": 34,
   "metadata": {},
   "outputs": [
    {
     "data": {
      "text/plain": [
       "array([20, 21, 22, 23, 24, 25, 26, 27, 28, 29])"
      ]
     },
     "execution_count": 34,
     "metadata": {},
     "output_type": "execute_result"
    }
   ],
   "source": [
    "a = np.arange(20,30)\n",
    "a"
   ]
  },
  {
   "cell_type": "code",
   "execution_count": 35,
   "metadata": {},
   "outputs": [
    {
     "data": {
      "text/plain": [
       "array([20, 21, 22, 23, 24])"
      ]
     },
     "execution_count": 35,
     "metadata": {},
     "output_type": "execute_result"
    }
   ],
   "source": [
    "a[0:5]"
   ]
  },
  {
   "cell_type": "code",
   "execution_count": 36,
   "metadata": {},
   "outputs": [
    {
     "data": {
      "text/plain": [
       "array([20, 21, 22])"
      ]
     },
     "execution_count": 36,
     "metadata": {},
     "output_type": "execute_result"
    }
   ],
   "source": [
    "a[:3]"
   ]
  },
  {
   "cell_type": "code",
   "execution_count": 37,
   "metadata": {},
   "outputs": [
    {
     "data": {
      "text/plain": [
       "array([24, 25, 26, 27, 28, 29])"
      ]
     },
     "execution_count": 37,
     "metadata": {},
     "output_type": "execute_result"
    }
   ],
   "source": [
    "a[4:]"
   ]
  },
  {
   "cell_type": "code",
   "execution_count": 38,
   "metadata": {},
   "outputs": [
    {
     "data": {
      "text/plain": [
       "array([21, 23, 25, 27, 29])"
      ]
     },
     "execution_count": 38,
     "metadata": {},
     "output_type": "execute_result"
    }
   ],
   "source": [
    "a[1::2]"
   ]
  },
  {
   "cell_type": "code",
   "execution_count": 39,
   "metadata": {},
   "outputs": [
    {
     "data": {
      "text/plain": [
       "array([[2, 2, 0, 7, 3],\n",
       "       [2, 2, 7, 0, 4],\n",
       "       [8, 1, 8, 8, 8],\n",
       "       [9, 3, 4, 8, 3],\n",
       "       [8, 8, 4, 7, 7]], dtype=int32)"
      ]
     },
     "execution_count": 39,
     "metadata": {},
     "output_type": "execute_result"
    }
   ],
   "source": [
    "b = np.random.randint(10, size=(5,5))\n",
    "b"
   ]
  },
  {
   "cell_type": "code",
   "execution_count": 40,
   "metadata": {},
   "outputs": [
    {
     "data": {
      "text/plain": [
       "array([2, 2, 8, 9, 8], dtype=int32)"
      ]
     },
     "execution_count": 40,
     "metadata": {},
     "output_type": "execute_result"
    }
   ],
   "source": [
    "b[:,0]"
   ]
  },
  {
   "cell_type": "code",
   "execution_count": 41,
   "metadata": {},
   "outputs": [
    {
     "data": {
      "text/plain": [
       "array([7, 0, 8, 8, 7], dtype=int32)"
      ]
     },
     "execution_count": 41,
     "metadata": {},
     "output_type": "execute_result"
    }
   ],
   "source": [
    "b[:,3]"
   ]
  },
  {
   "cell_type": "code",
   "execution_count": 42,
   "metadata": {},
   "outputs": [
    {
     "data": {
      "text/plain": [
       "array([8, 1, 8, 8, 8], dtype=int32)"
      ]
     },
     "execution_count": 42,
     "metadata": {},
     "output_type": "execute_result"
    }
   ],
   "source": [
    "b[2,:]"
   ]
  },
  {
   "cell_type": "code",
   "execution_count": 43,
   "metadata": {},
   "outputs": [
    {
     "data": {
      "text/plain": [
       "array([8, 1, 8, 8, 8], dtype=int32)"
      ]
     },
     "execution_count": 43,
     "metadata": {},
     "output_type": "execute_result"
    }
   ],
   "source": [
    "b[2]"
   ]
  },
  {
   "cell_type": "code",
   "execution_count": 44,
   "metadata": {},
   "outputs": [
    {
     "data": {
      "text/plain": [
       "array([[2, 2, 0],\n",
       "       [2, 2, 7]], dtype=int32)"
      ]
     },
     "execution_count": 44,
     "metadata": {},
     "output_type": "execute_result"
    }
   ],
   "source": [
    "b[0:2, 0:3]"
   ]
  },
  {
   "cell_type": "code",
   "execution_count": 45,
   "metadata": {},
   "outputs": [
    {
     "data": {
      "text/plain": [
       "array([[2, 2],\n",
       "       [2, 2],\n",
       "       [8, 1],\n",
       "       [9, 3],\n",
       "       [8, 8]], dtype=int32)"
      ]
     },
     "execution_count": 45,
     "metadata": {},
     "output_type": "execute_result"
    }
   ],
   "source": [
    "b[:,:2]"
   ]
  },
  {
   "cell_type": "code",
   "execution_count": 46,
   "metadata": {},
   "outputs": [
    {
     "data": {
      "text/plain": [
       "array([[2, 2],\n",
       "       [8, 1]], dtype=int32)"
      ]
     },
     "execution_count": 46,
     "metadata": {},
     "output_type": "execute_result"
    }
   ],
   "source": [
    "b[1:3,0:2]"
   ]
  },
  {
   "cell_type": "code",
   "execution_count": 47,
   "metadata": {},
   "outputs": [
    {
     "data": {
      "text/plain": [
       "array([[4, 5, 3, 1, 0],\n",
       "       [3, 0, 3, 7, 0],\n",
       "       [1, 4, 0, 4, 0],\n",
       "       [8, 9, 5, 9, 3],\n",
       "       [6, 0, 9, 7, 4]], dtype=int32)"
      ]
     },
     "execution_count": 47,
     "metadata": {},
     "output_type": "execute_result"
    }
   ],
   "source": [
    "a = np.random.randint(10, size = (5,5))\n",
    "a"
   ]
  },
  {
   "cell_type": "code",
   "execution_count": 48,
   "metadata": {},
   "outputs": [
    {
     "data": {
      "text/plain": [
       "array([[4, 5],\n",
       "       [3, 0],\n",
       "       [1, 4]], dtype=int32)"
      ]
     },
     "execution_count": 48,
     "metadata": {},
     "output_type": "execute_result"
    }
   ],
   "source": [
    "alt_a = a[0:3,0:2]\n",
    "alt_a"
   ]
  },
  {
   "cell_type": "code",
   "execution_count": 49,
   "metadata": {},
   "outputs": [],
   "source": [
    "alt_a[0,0] = 313131\n",
    "alt_a[1,1] = 696969"
   ]
  },
  {
   "cell_type": "code",
   "execution_count": 50,
   "metadata": {},
   "outputs": [
    {
     "data": {
      "text/plain": [
       "array([[313131,      5],\n",
       "       [     3, 696969],\n",
       "       [     1,      4]], dtype=int32)"
      ]
     },
     "execution_count": 50,
     "metadata": {},
     "output_type": "execute_result"
    }
   ],
   "source": [
    "alt_a"
   ]
  },
  {
   "cell_type": "code",
   "execution_count": 51,
   "metadata": {},
   "outputs": [
    {
     "data": {
      "text/plain": [
       "array([[313131,      5,      3,      1,      0],\n",
       "       [     3, 696969,      3,      7,      0],\n",
       "       [     1,      4,      0,      4,      0],\n",
       "       [     8,      9,      5,      9,      3],\n",
       "       [     6,      0,      9,      7,      4]], dtype=int32)"
      ]
     },
     "execution_count": 51,
     "metadata": {},
     "output_type": "execute_result"
    }
   ],
   "source": [
    "a"
   ]
  },
  {
   "cell_type": "code",
   "execution_count": 52,
   "metadata": {},
   "outputs": [
    {
     "data": {
      "text/plain": [
       "array([[7, 4, 4, 8, 7],\n",
       "       [7, 5, 9, 2, 4],\n",
       "       [5, 3, 1, 9, 7],\n",
       "       [5, 1, 9, 2, 7],\n",
       "       [8, 4, 9, 5, 2]], dtype=int32)"
      ]
     },
     "execution_count": 52,
     "metadata": {},
     "output_type": "execute_result"
    }
   ],
   "source": [
    "b = np.random.randint(10, size = (5,5))\n",
    "b"
   ]
  },
  {
   "cell_type": "code",
   "execution_count": 53,
   "metadata": {},
   "outputs": [
    {
     "data": {
      "text/plain": [
       "array([[7, 4],\n",
       "       [7, 5],\n",
       "       [5, 3]], dtype=int32)"
      ]
     },
     "execution_count": 53,
     "metadata": {},
     "output_type": "execute_result"
    }
   ],
   "source": [
    "alt_b = b[0:3,0:2].copy()\n",
    "alt_b"
   ]
  },
  {
   "cell_type": "code",
   "execution_count": 54,
   "metadata": {},
   "outputs": [],
   "source": [
    "alt_b[0,0] = 313131\n",
    "alt_b[1,1] = 696969"
   ]
  },
  {
   "cell_type": "code",
   "execution_count": 55,
   "metadata": {},
   "outputs": [
    {
     "data": {
      "text/plain": [
       "array([[313131,      4],\n",
       "       [     7, 696969],\n",
       "       [     5,      3]], dtype=int32)"
      ]
     },
     "execution_count": 55,
     "metadata": {},
     "output_type": "execute_result"
    }
   ],
   "source": [
    "alt_b"
   ]
  },
  {
   "cell_type": "code",
   "execution_count": 56,
   "metadata": {},
   "outputs": [
    {
     "data": {
      "text/plain": [
       "array([[7, 4, 4, 8, 7],\n",
       "       [7, 5, 9, 2, 4],\n",
       "       [5, 3, 1, 9, 7],\n",
       "       [5, 1, 9, 2, 7],\n",
       "       [8, 4, 9, 5, 2]], dtype=int32)"
      ]
     },
     "execution_count": 56,
     "metadata": {},
     "output_type": "execute_result"
    }
   ],
   "source": [
    "b"
   ]
  },
  {
   "cell_type": "code",
   "execution_count": 57,
   "metadata": {},
   "outputs": [
    {
     "data": {
      "text/plain": [
       "array([ 0,  3,  6,  9, 12, 15, 18, 21, 24, 27])"
      ]
     },
     "execution_count": 57,
     "metadata": {},
     "output_type": "execute_result"
    }
   ],
   "source": [
    "v = np.arange(0, 30, 3)\n",
    "v"
   ]
  },
  {
   "cell_type": "code",
   "execution_count": 58,
   "metadata": {},
   "outputs": [
    {
     "data": {
      "text/plain": [
       "6"
      ]
     },
     "execution_count": 58,
     "metadata": {},
     "output_type": "execute_result"
    }
   ],
   "source": [
    "v[2].item()"
   ]
  },
  {
   "cell_type": "code",
   "execution_count": 59,
   "metadata": {},
   "outputs": [
    {
     "data": {
      "text/plain": [
       "[3, 9, 15]"
      ]
     },
     "execution_count": 59,
     "metadata": {},
     "output_type": "execute_result"
    }
   ],
   "source": [
    "[v[1].item(),v[3].item(),v[5].item()]"
   ]
  },
  {
   "cell_type": "code",
   "execution_count": 60,
   "metadata": {},
   "outputs": [
    {
     "data": {
      "text/plain": [
       "array([ 0,  3,  6,  9, 12, 15, 18, 21, 24, 27])"
      ]
     },
     "execution_count": 60,
     "metadata": {},
     "output_type": "execute_result"
    }
   ],
   "source": [
    "al_getir = [1,3,5]\n",
    "v"
   ]
  },
  {
   "cell_type": "code",
   "execution_count": 61,
   "metadata": {},
   "outputs": [
    {
     "data": {
      "text/plain": [
       "array([ 3,  9, 15])"
      ]
     },
     "execution_count": 61,
     "metadata": {},
     "output_type": "execute_result"
    }
   ],
   "source": [
    "v[al_getir]"
   ]
  },
  {
   "cell_type": "code",
   "execution_count": 62,
   "metadata": {},
   "outputs": [
    {
     "data": {
      "text/plain": [
       "array([[0, 1, 2],\n",
       "       [3, 4, 5],\n",
       "       [6, 7, 8]])"
      ]
     },
     "execution_count": 62,
     "metadata": {},
     "output_type": "execute_result"
    }
   ],
   "source": [
    "m = np.arange(9).reshape((3,3))\n",
    "m"
   ]
  },
  {
   "cell_type": "code",
   "execution_count": 63,
   "metadata": {},
   "outputs": [],
   "source": [
    "satir = np.array([0,1])\n",
    "sutun = np.array([1,2])"
   ]
  },
  {
   "cell_type": "code",
   "execution_count": 64,
   "metadata": {},
   "outputs": [
    {
     "data": {
      "text/plain": [
       "array([1, 5])"
      ]
     },
     "execution_count": 64,
     "metadata": {},
     "output_type": "execute_result"
    }
   ],
   "source": [
    "m[satir, sutun]"
   ]
  },
  {
   "cell_type": "code",
   "execution_count": 65,
   "metadata": {},
   "outputs": [],
   "source": [
    "#basit index ile fancy index"
   ]
  },
  {
   "cell_type": "code",
   "execution_count": 66,
   "metadata": {},
   "outputs": [
    {
     "data": {
      "text/plain": [
       "array([[0, 1, 2],\n",
       "       [3, 4, 5],\n",
       "       [6, 7, 8]])"
      ]
     },
     "execution_count": 66,
     "metadata": {},
     "output_type": "execute_result"
    }
   ],
   "source": [
    "m"
   ]
  },
  {
   "cell_type": "code",
   "execution_count": 67,
   "metadata": {},
   "outputs": [
    {
     "data": {
      "text/plain": [
       "array([7, 8])"
      ]
     },
     "execution_count": 67,
     "metadata": {},
     "output_type": "execute_result"
    }
   ],
   "source": [
    "m[2, [1,2]]"
   ]
  },
  {
   "cell_type": "code",
   "execution_count": 68,
   "metadata": {},
   "outputs": [],
   "source": [
    "#slice ile fancy"
   ]
  },
  {
   "cell_type": "code",
   "execution_count": 69,
   "metadata": {},
   "outputs": [
    {
     "data": {
      "text/plain": [
       "array([[1, 2],\n",
       "       [4, 5],\n",
       "       [7, 8]])"
      ]
     },
     "execution_count": 69,
     "metadata": {},
     "output_type": "execute_result"
    }
   ],
   "source": [
    "m[0:, [1,2]]"
   ]
  },
  {
   "cell_type": "code",
   "execution_count": 70,
   "metadata": {},
   "outputs": [
    {
     "data": {
      "text/plain": [
       "array([[4, 5],\n",
       "       [7, 8]])"
      ]
     },
     "execution_count": 70,
     "metadata": {},
     "output_type": "execute_result"
    }
   ],
   "source": [
    "m[1:, [1,2]]"
   ]
  },
  {
   "cell_type": "code",
   "execution_count": 71,
   "metadata": {},
   "outputs": [],
   "source": [
    "#kosullu eleman islemleri"
   ]
  },
  {
   "cell_type": "code",
   "execution_count": 72,
   "metadata": {},
   "outputs": [
    {
     "data": {
      "text/plain": [
       "array([ 1,  2,  3,  4,  5,  6,  7,  8,  9, 10])"
      ]
     },
     "execution_count": 72,
     "metadata": {},
     "output_type": "execute_result"
    }
   ],
   "source": [
    "v = np.array([1,2,3,4,5,6,7,8,9,10])\n",
    "v"
   ]
  },
  {
   "cell_type": "code",
   "execution_count": 73,
   "metadata": {},
   "outputs": [
    {
     "data": {
      "text/plain": [
       "array([False, False, False, False, False,  True,  True,  True,  True,\n",
       "        True])"
      ]
     },
     "execution_count": 73,
     "metadata": {},
     "output_type": "execute_result"
    }
   ],
   "source": [
    "v > 5"
   ]
  },
  {
   "cell_type": "code",
   "execution_count": 74,
   "metadata": {},
   "outputs": [
    {
     "data": {
      "text/plain": [
       "array([ 6,  7,  8,  9, 10])"
      ]
     },
     "execution_count": 74,
     "metadata": {},
     "output_type": "execute_result"
    }
   ],
   "source": [
    "v[v>5]"
   ]
  },
  {
   "cell_type": "code",
   "execution_count": 75,
   "metadata": {},
   "outputs": [
    {
     "data": {
      "text/plain": [
       "array([ 2,  4,  6,  8, 10, 12, 14, 16, 18, 20])"
      ]
     },
     "execution_count": 75,
     "metadata": {},
     "output_type": "execute_result"
    }
   ],
   "source": [
    "v*2"
   ]
  },
  {
   "cell_type": "code",
   "execution_count": 76,
   "metadata": {},
   "outputs": [
    {
     "data": {
      "text/plain": [
       "array([ 1,  2,  3,  4,  5,  6,  7,  8,  9, 10])"
      ]
     },
     "execution_count": 76,
     "metadata": {},
     "output_type": "execute_result"
    }
   ],
   "source": [
    "v"
   ]
  },
  {
   "cell_type": "code",
   "execution_count": 77,
   "metadata": {},
   "outputs": [],
   "source": [
    "#ufunc"
   ]
  },
  {
   "cell_type": "code",
   "execution_count": 78,
   "metadata": {},
   "outputs": [
    {
     "data": {
      "text/plain": [
       "array([0, 1, 2, 3, 4, 5, 6, 7, 8, 9])"
      ]
     },
     "execution_count": 78,
     "metadata": {},
     "output_type": "execute_result"
    }
   ],
   "source": [
    "np.subtract(v,1)"
   ]
  },
  {
   "cell_type": "code",
   "execution_count": 79,
   "metadata": {},
   "outputs": [
    {
     "data": {
      "text/plain": [
       "array([ 1,  2,  3,  4,  5,  6,  7,  8,  9, 10])"
      ]
     },
     "execution_count": 79,
     "metadata": {},
     "output_type": "execute_result"
    }
   ],
   "source": [
    "v"
   ]
  },
  {
   "cell_type": "code",
   "execution_count": 80,
   "metadata": {},
   "outputs": [
    {
     "name": "stdout",
     "output_type": "stream",
     "text": [
      "[ 1  2  3  4  5  6  7  8  9 10]\n",
      "[-4 -3 -2 -1  0  1  2  3  4  5]\n",
      "[ 6  7  8  9 10 11 12 13 14 15]\n",
      "[ 5 10 15 20 25 30 35 40 45 50]\n",
      "[0.2 0.4 0.6 0.8 1.  1.2 1.4 1.6 1.8 2. ]\n",
      "[     1     32    243   1024   3125   7776  16807  32768  59049 100000]\n",
      "[1 2 3 4 0 1 2 3 4 0]\n",
      "[  1   2 312   0 312]\n",
      "[0.         0.69314718 1.09861229 1.38629436 1.60943791 1.79175947\n",
      " 1.94591015 2.07944154 2.19722458 2.30258509]\n",
      "[0.         1.         1.5849625  2.         2.32192809 2.5849625\n",
      " 2.80735492 3.         3.169925   3.32192809]\n",
      "[0.         0.30103    0.47712125 0.60205999 0.69897    0.77815125\n",
      " 0.84509804 0.90308999 0.95424251 1.        ]\n"
     ]
    }
   ],
   "source": [
    "print(str(v))\n",
    "print(str(np.subtract(v, 5)))\n",
    "print(str(np.add(v, 5)))\n",
    "print(str(np.multiply(v, 5)))\n",
    "print(str(np.divide(v, 5)))\n",
    "print(str(np.power(v,5)))\n",
    "print(str(np.mod(v,5)))\n",
    "print(str(np.absolute(np.array([-1,-2,-312,0,312]))))\n",
    "# angles = np.array([0, 30, 45, 60, 90, 120, 135, 150, 180])\n",
    "# radian_angles = np.radians(angles)\n",
    "# print(str(radian_angles))\n",
    "# print(str(np.sin(np.radians(radian_angles))))\n",
    "print(str(np.log(v)))\n",
    "print(str(np.log2(v)))\n",
    "print(str(np.log10(v)))\n"
   ]
  },
  {
   "cell_type": "code",
   "execution_count": 81,
   "metadata": {},
   "outputs": [
    {
     "name": "stdout",
     "output_type": "stream",
     "text": [
      "\u001b[1;31mType:\u001b[0m        module\n",
      "\u001b[1;31mString form:\u001b[0m <module 'numpy' from 'c:\\\\Users\\\\Giray\\\\AppData\\\\Local\\\\Programs\\\\Python\\\\Python312\\\\Lib\\\\site-packages\\\\numpy\\\\__init__.py'>\n",
      "\u001b[1;31mFile:\u001b[0m        c:\\users\\giray\\appdata\\local\\programs\\python\\python312\\lib\\site-packages\\numpy\\__init__.py\n",
      "\u001b[1;31mDocstring:\u001b[0m  \n",
      "NumPy\n",
      "=====\n",
      "\n",
      "Provides\n",
      "  1. An array object of arbitrary homogeneous items\n",
      "  2. Fast mathematical operations over arrays\n",
      "  3. Linear Algebra, Fourier Transforms, Random Number Generation\n",
      "\n",
      "How to use the documentation\n",
      "----------------------------\n",
      "Documentation is available in two forms: docstrings provided\n",
      "with the code, and a loose standing reference guide, available from\n",
      "`the NumPy homepage <https://numpy.org>`_.\n",
      "\n",
      "We recommend exploring the docstrings using\n",
      "`IPython <https://ipython.org>`_, an advanced Python shell with\n",
      "TAB-completion and introspection capabilities.  See below for further\n",
      "instructions.\n",
      "\n",
      "The docstring examples assume that `numpy` has been imported as ``np``::\n",
      "\n",
      "  >>> import numpy as np\n",
      "\n",
      "Code snippets are indicated by three greater-than signs::\n",
      "\n",
      "  >>> x = 42\n",
      "  >>> x = x + 1\n",
      "\n",
      "Use the built-in ``help`` function to view a function's docstring::\n",
      "\n",
      "  >>> help(np.sort)\n",
      "  ... # doctest: +SKIP\n",
      "\n",
      "For some objects, ``np.info(obj)`` may provide additional help.  This is\n",
      "particularly true if you see the line \"Help on ufunc object:\" at the top\n",
      "of the help() page.  Ufuncs are implemented in C, not Python, for speed.\n",
      "The native Python help() does not know how to view their help, but our\n",
      "np.info() function does.\n",
      "\n",
      "Available subpackages\n",
      "---------------------\n",
      "lib\n",
      "    Basic functions used by several sub-packages.\n",
      "random\n",
      "    Core Random Tools\n",
      "linalg\n",
      "    Core Linear Algebra Tools\n",
      "fft\n",
      "    Core FFT routines\n",
      "polynomial\n",
      "    Polynomial tools\n",
      "testing\n",
      "    NumPy testing tools\n",
      "distutils\n",
      "    Enhancements to distutils with support for\n",
      "    Fortran compilers support and more (for Python <= 3.11)\n",
      "\n",
      "Utilities\n",
      "---------\n",
      "test\n",
      "    Run numpy unittests\n",
      "show_config\n",
      "    Show numpy build configuration\n",
      "__version__\n",
      "    NumPy version string\n",
      "\n",
      "Viewing documentation using IPython\n",
      "-----------------------------------\n",
      "\n",
      "Start IPython and import `numpy` usually under the alias ``np``: `import\n",
      "numpy as np`.  Then, directly past or use the ``%cpaste`` magic to paste\n",
      "examples into the shell.  To see which functions are available in `numpy`,\n",
      "type ``np.<TAB>`` (where ``<TAB>`` refers to the TAB key), or use\n",
      "``np.*cos*?<ENTER>`` (where ``<ENTER>`` refers to the ENTER key) to narrow\n",
      "down the list.  To view the docstring for a function, use\n",
      "``np.cos?<ENTER>`` (to view the docstring) and ``np.cos??<ENTER>`` (to view\n",
      "the source code).\n",
      "\n",
      "Copies vs. in-place operation\n",
      "-----------------------------\n",
      "Most of the functions in `numpy` return a copy of the array argument\n",
      "(e.g., `np.sort`).  In-place versions of these functions are often\n",
      "available as array methods, i.e. ``x = np.array([1,2,3]); x.sort()``.\n",
      "Exceptions to this rule are documented."
     ]
    }
   ],
   "source": [
    "?np"
   ]
  },
  {
   "cell_type": "code",
   "execution_count": 82,
   "metadata": {},
   "outputs": [],
   "source": [
    "#cheatsheet\n",
    "# numpy mathematics cheat sheet diye aratılabilir"
   ]
  },
  {
   "cell_type": "markdown",
   "metadata": {},
   "source": [
    "5*x0 +   x1 = 12\n",
    " \n",
    "x0   + 3*x1 = 10"
   ]
  },
  {
   "cell_type": "code",
   "execution_count": 83,
   "metadata": {},
   "outputs": [],
   "source": [
    "a = np.array([[5,1],\n",
    "              [1,3]])\n",
    "b = np.array([12,10])"
   ]
  },
  {
   "cell_type": "code",
   "execution_count": 84,
   "metadata": {},
   "outputs": [
    {
     "data": {
      "text/plain": [
       "array([[5, 1],\n",
       "       [1, 3]])"
      ]
     },
     "execution_count": 84,
     "metadata": {},
     "output_type": "execute_result"
    }
   ],
   "source": [
    "a"
   ]
  },
  {
   "cell_type": "code",
   "execution_count": 85,
   "metadata": {},
   "outputs": [
    {
     "data": {
      "text/plain": [
       "array([12, 10])"
      ]
     },
     "execution_count": 85,
     "metadata": {},
     "output_type": "execute_result"
    }
   ],
   "source": [
    "b"
   ]
  },
  {
   "cell_type": "code",
   "execution_count": 86,
   "metadata": {},
   "outputs": [
    {
     "data": {
      "text/plain": [
       "array([1.85714286, 2.71428571])"
      ]
     },
     "execution_count": 86,
     "metadata": {},
     "output_type": "execute_result"
    }
   ],
   "source": [
    "x = np.linalg.solve(a, b)\n",
    "x"
   ]
  },
  {
   "cell_type": "code",
   "execution_count": 87,
   "metadata": {},
   "outputs": [
    {
     "data": {
      "text/plain": [
       "array([0, 2, 4, 6, 8])"
      ]
     },
     "execution_count": 87,
     "metadata": {},
     "output_type": "execute_result"
    }
   ],
   "source": [
    "np.arange(0,10, 2)"
   ]
  }
 ],
 "metadata": {
  "kernelspec": {
   "display_name": "Python 3",
   "language": "python",
   "name": "python3"
  },
  "language_info": {
   "codemirror_mode": {
    "name": "ipython",
    "version": 3
   },
   "file_extension": ".py",
   "mimetype": "text/x-python",
   "name": "python",
   "nbconvert_exporter": "python",
   "pygments_lexer": "ipython3",
   "version": "3.12.4"
  }
 },
 "nbformat": 4,
 "nbformat_minor": 2
}
