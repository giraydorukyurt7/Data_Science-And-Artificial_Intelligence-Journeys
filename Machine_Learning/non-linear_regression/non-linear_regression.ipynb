{
 "cells": [
  {
   "cell_type": "markdown",
   "metadata": {},
   "source": [
    "---\n",
    "---\n",
    "# NON-LINEAR REGRESSON MODELS\n",
    "---\n",
    "---"
   ]
  },
  {
   "cell_type": "markdown",
   "metadata": {},
   "source": [
    "* GEREKLİ KÜTÜPHANELER"
   ]
  },
  {
   "cell_type": "code",
   "execution_count": 271,
   "metadata": {},
   "outputs": [],
   "source": [
    "import numpy as np\n",
    "import pandas as pd\n",
    "from sklearn.model_selection    import train_test_split, GridSearchCV\n",
    "from sklearn.metrics            import mean_squared_error, r2_score\n",
    "import matplotlib.pyplot as plt\n",
    "from sklearn.preprocessing      import scale\n",
    "from sklearn.preprocessing      import StandardScaler\n",
    "from sklearn                    import model_selection\n",
    "from sklearn.linear_model       import LinearRegression\n",
    "from sklearn.tree               import DecisionTreeRegressor\n",
    "from sklearn.neighbors          import KNeighborsRegressor\n",
    "from sklearn.neural_network     import MLPRegressor\n",
    "from sklearn.ensemble           import RandomForestRegressor\n",
    "from sklearn.ensemble           import GradientBoostingRegressor\n",
    "from sklearn                    import neighbors\n",
    "from sklearn.svm                import SVR\n",
    "import xgboost\n",
    "from xgboost                    import XGBRegressor\n",
    "import lightgbm\n",
    "from lightgbm                   import LGBMRegressor\n",
    "import catboost\n",
    "from catboost                   import CatBoostRegressor"
   ]
  },
  {
   "cell_type": "code",
   "execution_count": 6,
   "metadata": {},
   "outputs": [],
   "source": [
    "from warnings import filterwarnings\n",
    "filterwarnings(\"ignore\")"
   ]
  },
  {
   "cell_type": "markdown",
   "metadata": {},
   "source": [
    "---\n",
    "# K EN YAKIN KOMŞU MODELİ\n",
    "---"
   ]
  },
  {
   "cell_type": "code",
   "execution_count": 7,
   "metadata": {},
   "outputs": [],
   "source": [
    "df  = pd.read_csv(\"../linear_regression/Hitters.csv\")                            #veriyi oku\n",
    "df  = df.dropna()                                           #eksik değerleri at\n",
    "dms = pd.get_dummies(df[[\"League\",\"Division\",\"NewLeague\"]]) # Kategorik değişkenleri dummy değişkenlere dönüştür\n",
    "                                                            # Bu adım, kategorik değişkenlerin sağladığı bilgiyi daha iyi alabilmek için one-hot encoding uygular\n",
    "Y   = df[\"Salary\"]                                          # bağımlı değişken\n",
    "X_  = df.drop([\"Salary\",\"League\",\"Division\",\"NewLeague\"], axis=1).astype(\"float64\") #kategorik ve bağımlı değişkeni çıkartarak X_ değişkenine atadık.\n",
    "X   = pd.concat([X_,dms[[\"League_N\",\"Division_W\",\"NewLeague_N\"]]],axis=1)           # Bağımsız değişkenlerin son halini oluşturmak için, \n",
    "                                                                                    # dummy değişkenleri (kategorik değişkenlerin dönüştürülmüş halleri) X_'e ekle \n",
    "X_train, X_test, Y_train, Y_test = train_test_split(X,\n",
    "                                                    Y,\n",
    "                                                    test_size=0.25,\n",
    "                                                    random_state=42) # %25 test için ayrıldı."
   ]
  },
  {
   "cell_type": "code",
   "execution_count": 8,
   "metadata": {},
   "outputs": [
    {
     "data": {
      "text/html": [
       "<div>\n",
       "<style scoped>\n",
       "    .dataframe tbody tr th:only-of-type {\n",
       "        vertical-align: middle;\n",
       "    }\n",
       "\n",
       "    .dataframe tbody tr th {\n",
       "        vertical-align: top;\n",
       "    }\n",
       "\n",
       "    .dataframe thead th {\n",
       "        text-align: right;\n",
       "    }\n",
       "</style>\n",
       "<table border=\"1\" class=\"dataframe\">\n",
       "  <thead>\n",
       "    <tr style=\"text-align: right;\">\n",
       "      <th></th>\n",
       "      <th>AtBat</th>\n",
       "      <th>Hits</th>\n",
       "      <th>HmRun</th>\n",
       "      <th>Runs</th>\n",
       "      <th>RBI</th>\n",
       "      <th>Walks</th>\n",
       "      <th>Years</th>\n",
       "      <th>CAtBat</th>\n",
       "      <th>CHits</th>\n",
       "      <th>CHmRun</th>\n",
       "      <th>CRuns</th>\n",
       "      <th>CRBI</th>\n",
       "      <th>CWalks</th>\n",
       "      <th>PutOuts</th>\n",
       "      <th>Assists</th>\n",
       "      <th>Errors</th>\n",
       "      <th>League_N</th>\n",
       "      <th>Division_W</th>\n",
       "      <th>NewLeague_N</th>\n",
       "    </tr>\n",
       "  </thead>\n",
       "  <tbody>\n",
       "    <tr>\n",
       "      <th>183</th>\n",
       "      <td>328.0</td>\n",
       "      <td>91.0</td>\n",
       "      <td>12.0</td>\n",
       "      <td>51.0</td>\n",
       "      <td>43.0</td>\n",
       "      <td>33.0</td>\n",
       "      <td>2.0</td>\n",
       "      <td>342.0</td>\n",
       "      <td>94.0</td>\n",
       "      <td>12.0</td>\n",
       "      <td>51.0</td>\n",
       "      <td>44.0</td>\n",
       "      <td>33.0</td>\n",
       "      <td>145.0</td>\n",
       "      <td>59.0</td>\n",
       "      <td>8.0</td>\n",
       "      <td>True</td>\n",
       "      <td>False</td>\n",
       "      <td>True</td>\n",
       "    </tr>\n",
       "    <tr>\n",
       "      <th>229</th>\n",
       "      <td>514.0</td>\n",
       "      <td>144.0</td>\n",
       "      <td>0.0</td>\n",
       "      <td>67.0</td>\n",
       "      <td>54.0</td>\n",
       "      <td>79.0</td>\n",
       "      <td>9.0</td>\n",
       "      <td>4739.0</td>\n",
       "      <td>1169.0</td>\n",
       "      <td>13.0</td>\n",
       "      <td>583.0</td>\n",
       "      <td>374.0</td>\n",
       "      <td>528.0</td>\n",
       "      <td>229.0</td>\n",
       "      <td>453.0</td>\n",
       "      <td>15.0</td>\n",
       "      <td>True</td>\n",
       "      <td>False</td>\n",
       "      <td>True</td>\n",
       "    </tr>\n",
       "    <tr>\n",
       "      <th>286</th>\n",
       "      <td>593.0</td>\n",
       "      <td>152.0</td>\n",
       "      <td>23.0</td>\n",
       "      <td>69.0</td>\n",
       "      <td>75.0</td>\n",
       "      <td>53.0</td>\n",
       "      <td>6.0</td>\n",
       "      <td>2765.0</td>\n",
       "      <td>686.0</td>\n",
       "      <td>133.0</td>\n",
       "      <td>369.0</td>\n",
       "      <td>384.0</td>\n",
       "      <td>321.0</td>\n",
       "      <td>315.0</td>\n",
       "      <td>10.0</td>\n",
       "      <td>6.0</td>\n",
       "      <td>False</td>\n",
       "      <td>True</td>\n",
       "      <td>False</td>\n",
       "    </tr>\n",
       "    <tr>\n",
       "      <th>102</th>\n",
       "      <td>233.0</td>\n",
       "      <td>49.0</td>\n",
       "      <td>2.0</td>\n",
       "      <td>41.0</td>\n",
       "      <td>23.0</td>\n",
       "      <td>18.0</td>\n",
       "      <td>8.0</td>\n",
       "      <td>1350.0</td>\n",
       "      <td>336.0</td>\n",
       "      <td>7.0</td>\n",
       "      <td>166.0</td>\n",
       "      <td>122.0</td>\n",
       "      <td>106.0</td>\n",
       "      <td>102.0</td>\n",
       "      <td>132.0</td>\n",
       "      <td>10.0</td>\n",
       "      <td>False</td>\n",
       "      <td>False</td>\n",
       "      <td>False</td>\n",
       "    </tr>\n",
       "    <tr>\n",
       "      <th>153</th>\n",
       "      <td>341.0</td>\n",
       "      <td>95.0</td>\n",
       "      <td>6.0</td>\n",
       "      <td>48.0</td>\n",
       "      <td>42.0</td>\n",
       "      <td>20.0</td>\n",
       "      <td>10.0</td>\n",
       "      <td>2964.0</td>\n",
       "      <td>808.0</td>\n",
       "      <td>81.0</td>\n",
       "      <td>379.0</td>\n",
       "      <td>428.0</td>\n",
       "      <td>221.0</td>\n",
       "      <td>158.0</td>\n",
       "      <td>4.0</td>\n",
       "      <td>5.0</td>\n",
       "      <td>True</td>\n",
       "      <td>True</td>\n",
       "      <td>True</td>\n",
       "    </tr>\n",
       "  </tbody>\n",
       "</table>\n",
       "</div>"
      ],
      "text/plain": [
       "     AtBat   Hits  HmRun  Runs   RBI  Walks  Years  CAtBat   CHits  CHmRun  \\\n",
       "183  328.0   91.0   12.0  51.0  43.0   33.0    2.0   342.0    94.0    12.0   \n",
       "229  514.0  144.0    0.0  67.0  54.0   79.0    9.0  4739.0  1169.0    13.0   \n",
       "286  593.0  152.0   23.0  69.0  75.0   53.0    6.0  2765.0   686.0   133.0   \n",
       "102  233.0   49.0    2.0  41.0  23.0   18.0    8.0  1350.0   336.0     7.0   \n",
       "153  341.0   95.0    6.0  48.0  42.0   20.0   10.0  2964.0   808.0    81.0   \n",
       "\n",
       "     CRuns   CRBI  CWalks  PutOuts  Assists  Errors  League_N  Division_W  \\\n",
       "183   51.0   44.0    33.0    145.0     59.0     8.0      True       False   \n",
       "229  583.0  374.0   528.0    229.0    453.0    15.0      True       False   \n",
       "286  369.0  384.0   321.0    315.0     10.0     6.0     False        True   \n",
       "102  166.0  122.0   106.0    102.0    132.0    10.0     False       False   \n",
       "153  379.0  428.0   221.0    158.0      4.0     5.0      True        True   \n",
       "\n",
       "     NewLeague_N  \n",
       "183         True  \n",
       "229         True  \n",
       "286        False  \n",
       "102        False  \n",
       "153         True  "
      ]
     },
     "execution_count": 8,
     "metadata": {},
     "output_type": "execute_result"
    }
   ],
   "source": [
    "X_train.head()"
   ]
  },
  {
   "cell_type": "code",
   "execution_count": 9,
   "metadata": {},
   "outputs": [
    {
     "data": {
      "text/html": [
       "<div>\n",
       "<style scoped>\n",
       "    .dataframe tbody tr th:only-of-type {\n",
       "        vertical-align: middle;\n",
       "    }\n",
       "\n",
       "    .dataframe tbody tr th {\n",
       "        vertical-align: top;\n",
       "    }\n",
       "\n",
       "    .dataframe thead th {\n",
       "        text-align: right;\n",
       "    }\n",
       "</style>\n",
       "<table border=\"1\" class=\"dataframe\">\n",
       "  <thead>\n",
       "    <tr style=\"text-align: right;\">\n",
       "      <th></th>\n",
       "      <th>AtBat</th>\n",
       "      <th>Hits</th>\n",
       "      <th>HmRun</th>\n",
       "      <th>Runs</th>\n",
       "      <th>RBI</th>\n",
       "      <th>Walks</th>\n",
       "      <th>Years</th>\n",
       "      <th>CAtBat</th>\n",
       "      <th>CHits</th>\n",
       "      <th>CHmRun</th>\n",
       "      <th>CRuns</th>\n",
       "      <th>CRBI</th>\n",
       "      <th>CWalks</th>\n",
       "      <th>PutOuts</th>\n",
       "      <th>Assists</th>\n",
       "      <th>Errors</th>\n",
       "      <th>League_N</th>\n",
       "      <th>Division_W</th>\n",
       "      <th>NewLeague_N</th>\n",
       "    </tr>\n",
       "  </thead>\n",
       "  <tbody>\n",
       "    <tr>\n",
       "      <th>148</th>\n",
       "      <td>497.0</td>\n",
       "      <td>136.0</td>\n",
       "      <td>7.0</td>\n",
       "      <td>58.0</td>\n",
       "      <td>38.0</td>\n",
       "      <td>26.0</td>\n",
       "      <td>11.0</td>\n",
       "      <td>3871.0</td>\n",
       "      <td>1066.0</td>\n",
       "      <td>40.0</td>\n",
       "      <td>450.0</td>\n",
       "      <td>367.0</td>\n",
       "      <td>241.0</td>\n",
       "      <td>304.0</td>\n",
       "      <td>347.0</td>\n",
       "      <td>10.0</td>\n",
       "      <td>False</td>\n",
       "      <td>False</td>\n",
       "      <td>False</td>\n",
       "    </tr>\n",
       "    <tr>\n",
       "      <th>154</th>\n",
       "      <td>537.0</td>\n",
       "      <td>147.0</td>\n",
       "      <td>23.0</td>\n",
       "      <td>58.0</td>\n",
       "      <td>88.0</td>\n",
       "      <td>47.0</td>\n",
       "      <td>10.0</td>\n",
       "      <td>2744.0</td>\n",
       "      <td>730.0</td>\n",
       "      <td>97.0</td>\n",
       "      <td>302.0</td>\n",
       "      <td>351.0</td>\n",
       "      <td>174.0</td>\n",
       "      <td>92.0</td>\n",
       "      <td>257.0</td>\n",
       "      <td>20.0</td>\n",
       "      <td>True</td>\n",
       "      <td>False</td>\n",
       "      <td>True</td>\n",
       "    </tr>\n",
       "    <tr>\n",
       "      <th>318</th>\n",
       "      <td>492.0</td>\n",
       "      <td>136.0</td>\n",
       "      <td>5.0</td>\n",
       "      <td>76.0</td>\n",
       "      <td>50.0</td>\n",
       "      <td>94.0</td>\n",
       "      <td>12.0</td>\n",
       "      <td>5511.0</td>\n",
       "      <td>1511.0</td>\n",
       "      <td>39.0</td>\n",
       "      <td>897.0</td>\n",
       "      <td>451.0</td>\n",
       "      <td>875.0</td>\n",
       "      <td>313.0</td>\n",
       "      <td>381.0</td>\n",
       "      <td>20.0</td>\n",
       "      <td>False</td>\n",
       "      <td>False</td>\n",
       "      <td>False</td>\n",
       "    </tr>\n",
       "    <tr>\n",
       "      <th>279</th>\n",
       "      <td>439.0</td>\n",
       "      <td>96.0</td>\n",
       "      <td>0.0</td>\n",
       "      <td>44.0</td>\n",
       "      <td>36.0</td>\n",
       "      <td>65.0</td>\n",
       "      <td>4.0</td>\n",
       "      <td>711.0</td>\n",
       "      <td>148.0</td>\n",
       "      <td>1.0</td>\n",
       "      <td>68.0</td>\n",
       "      <td>56.0</td>\n",
       "      <td>99.0</td>\n",
       "      <td>229.0</td>\n",
       "      <td>406.0</td>\n",
       "      <td>22.0</td>\n",
       "      <td>True</td>\n",
       "      <td>False</td>\n",
       "      <td>True</td>\n",
       "    </tr>\n",
       "    <tr>\n",
       "      <th>88</th>\n",
       "      <td>155.0</td>\n",
       "      <td>41.0</td>\n",
       "      <td>12.0</td>\n",
       "      <td>21.0</td>\n",
       "      <td>29.0</td>\n",
       "      <td>22.0</td>\n",
       "      <td>16.0</td>\n",
       "      <td>5409.0</td>\n",
       "      <td>1338.0</td>\n",
       "      <td>181.0</td>\n",
       "      <td>746.0</td>\n",
       "      <td>805.0</td>\n",
       "      <td>875.0</td>\n",
       "      <td>165.0</td>\n",
       "      <td>9.0</td>\n",
       "      <td>1.0</td>\n",
       "      <td>False</td>\n",
       "      <td>True</td>\n",
       "      <td>False</td>\n",
       "    </tr>\n",
       "  </tbody>\n",
       "</table>\n",
       "</div>"
      ],
      "text/plain": [
       "     AtBat   Hits  HmRun  Runs   RBI  Walks  Years  CAtBat   CHits  CHmRun  \\\n",
       "148  497.0  136.0    7.0  58.0  38.0   26.0   11.0  3871.0  1066.0    40.0   \n",
       "154  537.0  147.0   23.0  58.0  88.0   47.0   10.0  2744.0   730.0    97.0   \n",
       "318  492.0  136.0    5.0  76.0  50.0   94.0   12.0  5511.0  1511.0    39.0   \n",
       "279  439.0   96.0    0.0  44.0  36.0   65.0    4.0   711.0   148.0     1.0   \n",
       "88   155.0   41.0   12.0  21.0  29.0   22.0   16.0  5409.0  1338.0   181.0   \n",
       "\n",
       "     CRuns   CRBI  CWalks  PutOuts  Assists  Errors  League_N  Division_W  \\\n",
       "148  450.0  367.0   241.0    304.0    347.0    10.0     False       False   \n",
       "154  302.0  351.0   174.0     92.0    257.0    20.0      True       False   \n",
       "318  897.0  451.0   875.0    313.0    381.0    20.0     False       False   \n",
       "279   68.0   56.0    99.0    229.0    406.0    22.0      True       False   \n",
       "88   746.0  805.0   875.0    165.0      9.0     1.0     False        True   \n",
       "\n",
       "     NewLeague_N  \n",
       "148        False  \n",
       "154         True  \n",
       "318        False  \n",
       "279         True  \n",
       "88         False  "
      ]
     },
     "execution_count": 9,
     "metadata": {},
     "output_type": "execute_result"
    }
   ],
   "source": [
    "X_test.head()"
   ]
  },
  {
   "cell_type": "markdown",
   "metadata": {},
   "source": [
    "# MODEL KURMA"
   ]
  },
  {
   "cell_type": "code",
   "execution_count": 10,
   "metadata": {},
   "outputs": [
    {
     "data": {
      "text/plain": [
       "{'algorithm': 'auto',\n",
       " 'leaf_size': 30,\n",
       " 'metric': 'minkowski',\n",
       " 'metric_params': None,\n",
       " 'n_jobs': None,\n",
       " 'n_neighbors': 5,\n",
       " 'p': 2,\n",
       " 'weights': 'uniform'}"
      ]
     },
     "execution_count": 10,
     "metadata": {},
     "output_type": "execute_result"
    }
   ],
   "source": [
    "knn_model = KNeighborsRegressor().fit(X_train,Y_train)\n",
    "knn_model.get_params()"
   ]
  },
  {
   "cell_type": "code",
   "execution_count": 11,
   "metadata": {},
   "outputs": [
    {
     "data": {
      "text/plain": [
       "['__abstractmethods__',\n",
       " '__annotations__',\n",
       " '__class__',\n",
       " '__delattr__',\n",
       " '__dict__',\n",
       " '__dir__',\n",
       " '__doc__',\n",
       " '__eq__',\n",
       " '__format__',\n",
       " '__ge__',\n",
       " '__getattribute__',\n",
       " '__getstate__',\n",
       " '__gt__',\n",
       " '__hash__',\n",
       " '__init__',\n",
       " '__init_subclass__',\n",
       " '__le__',\n",
       " '__lt__',\n",
       " '__module__',\n",
       " '__ne__',\n",
       " '__new__',\n",
       " '__reduce__',\n",
       " '__reduce_ex__',\n",
       " '__repr__',\n",
       " '__setattr__',\n",
       " '__setstate__',\n",
       " '__sizeof__',\n",
       " '__sklearn_clone__',\n",
       " '__str__',\n",
       " '__subclasshook__',\n",
       " '__weakref__',\n",
       " '_abc_impl',\n",
       " '_build_request_for_signature',\n",
       " '_check_algorithm_metric',\n",
       " '_check_feature_names',\n",
       " '_check_n_features',\n",
       " '_doc_link_module',\n",
       " '_doc_link_template',\n",
       " '_doc_link_url_param_generator',\n",
       " '_estimator_type',\n",
       " '_fit',\n",
       " '_fit_X',\n",
       " '_fit_method',\n",
       " '_get_default_requests',\n",
       " '_get_doc_link',\n",
       " '_get_metadata_request',\n",
       " '_get_param_names',\n",
       " '_get_tags',\n",
       " '_kneighbors_reduce_func',\n",
       " '_more_tags',\n",
       " '_parameter_constraints',\n",
       " '_repr_html_',\n",
       " '_repr_html_inner',\n",
       " '_repr_mimebundle_',\n",
       " '_tree',\n",
       " '_validate_data',\n",
       " '_validate_params',\n",
       " '_y',\n",
       " 'algorithm',\n",
       " 'effective_metric_',\n",
       " 'effective_metric_params_',\n",
       " 'feature_names_in_',\n",
       " 'fit',\n",
       " 'get_metadata_routing',\n",
       " 'get_params',\n",
       " 'kneighbors',\n",
       " 'kneighbors_graph',\n",
       " 'leaf_size',\n",
       " 'metric',\n",
       " 'metric_params',\n",
       " 'n_features_in_',\n",
       " 'n_jobs',\n",
       " 'n_neighbors',\n",
       " 'n_samples_fit_',\n",
       " 'p',\n",
       " 'predict',\n",
       " 'radius',\n",
       " 'score',\n",
       " 'set_params',\n",
       " 'set_score_request',\n",
       " 'weights']"
      ]
     },
     "execution_count": 11,
     "metadata": {},
     "output_type": "execute_result"
    }
   ],
   "source": [
    "dir(knn_model)"
   ]
  },
  {
   "cell_type": "markdown",
   "metadata": {},
   "source": [
    "# MODEL TAHMİN"
   ]
  },
  {
   "cell_type": "code",
   "execution_count": 12,
   "metadata": {},
   "outputs": [
    {
     "data": {
      "text/plain": [
       "array([ 510.3334,  808.3334,  772.5   ,  125.5   , 1005.    ])"
      ]
     },
     "execution_count": 12,
     "metadata": {},
     "output_type": "execute_result"
    }
   ],
   "source": [
    "knn_model.predict(X_test)[0:5]"
   ]
  },
  {
   "cell_type": "code",
   "execution_count": 13,
   "metadata": {},
   "outputs": [],
   "source": [
    "y_pred = knn_model.predict(X_test)"
   ]
  },
  {
   "cell_type": "code",
   "execution_count": 14,
   "metadata": {},
   "outputs": [
    {
     "data": {
      "text/plain": [
       "426.6570764525201"
      ]
     },
     "execution_count": 14,
     "metadata": {},
     "output_type": "execute_result"
    }
   ],
   "source": [
    "RMSE = np.sqrt(mean_squared_error(Y_test,y_pred))   #ilkel şekilde test hatası bulma\n",
    "RMSE                                                #valide edilmemiş train hatası."
   ]
  },
  {
   "cell_type": "markdown",
   "metadata": {},
   "source": [
    "# MODEL TUNİNG"
   ]
  },
  {
   "cell_type": "code",
   "execution_count": 15,
   "metadata": {},
   "outputs": [],
   "source": [
    "#knn'nin hiperparametresi n_neighbors = 5"
   ]
  },
  {
   "cell_type": "code",
   "execution_count": 16,
   "metadata": {},
   "outputs": [
    {
     "name": "stdout",
     "output_type": "stream",
     "text": [
      "k= 1  için RMSE değeri: 455.03925390751965\n",
      "k= 2  için RMSE değeri: 415.99629571490965\n",
      "k= 3  için RMSE değeri: 420.6765370082348\n",
      "k= 4  için RMSE değeri: 428.8564674588792\n",
      "k= 5  için RMSE değeri: 426.6570764525201\n",
      "k= 6  için RMSE değeri: 423.5071669008732\n",
      "k= 7  için RMSE değeri: 414.9361222421057\n",
      "k= 8  için RMSE değeri: 413.7094731463598\n",
      "k= 9  için RMSE değeri: 417.84419990871265\n",
      "k= 10  için RMSE değeri: 421.6252180741266\n"
     ]
    }
   ],
   "source": [
    "RMSE = []\n",
    "for k in range(10):\n",
    "    k = k+1\n",
    "    knn_model = KNeighborsRegressor(n_neighbors = k).fit(X_train,Y_train)\n",
    "    y_pred = knn_model.predict(X_test)\n",
    "    rmse   = np.sqrt(mean_squared_error(Y_test,y_pred))\n",
    "    RMSE.append(rmse)\n",
    "    print(\"k=\",k,\" için RMSE değeri:\", rmse)\n",
    "#k için en uygun değer [1,10] için 8'miş. şimdi bunu otomatik şekilde bulalım."
   ]
  },
  {
   "cell_type": "code",
   "execution_count": 17,
   "metadata": {},
   "outputs": [
    {
     "data": {
      "text/plain": [
       "{'n_neighbors': 8}"
      ]
     },
     "execution_count": 17,
     "metadata": {},
     "output_type": "execute_result"
    }
   ],
   "source": [
    "#GridSearchCV\n",
    "knn_params = {\"n_neighbors\": np.arange(1,30,1)}\n",
    "knn = KNeighborsRegressor()\n",
    "knn_cv_model = GridSearchCV(knn,knn_params,cv=10).fit(X_train,Y_train)\n",
    "knn_cv_model.best_params_"
   ]
  },
  {
   "cell_type": "code",
   "execution_count": 18,
   "metadata": {},
   "outputs": [],
   "source": [
    "#final model\n",
    "knn_tuned = KNeighborsRegressor(n_neighbors=knn_cv_model.best_params_[\"n_neighbors\"]).fit(X_train,Y_train)"
   ]
  },
  {
   "cell_type": "code",
   "execution_count": 19,
   "metadata": {},
   "outputs": [
    {
     "data": {
      "text/plain": [
       "413.7094731463598"
      ]
     },
     "execution_count": 19,
     "metadata": {},
     "output_type": "execute_result"
    }
   ],
   "source": [
    "#tune edilmiş modelin test hatası\n",
    "y_pred = knn_tuned.predict(X_test)\n",
    "RMSE = np.sqrt(mean_squared_error(Y_test,y_pred))   #ilkel şekilde test hatası bulma\n",
    "RMSE                                                #valide edilmemiş train hatası."
   ]
  },
  {
   "cell_type": "markdown",
   "metadata": {},
   "source": [
    "---\n",
    "# DESTEK VEKTÖR REGRESYONU (SUPPORT VECTOR REGRESSİON) SVR MODELİ\n",
    "---"
   ]
  },
  {
   "cell_type": "code",
   "execution_count": 20,
   "metadata": {},
   "outputs": [],
   "source": [
    "df  = pd.read_csv(\"../linear_regression/Hitters.csv\")                            #veriyi oku\n",
    "df  = df.dropna()                                           #eksik değerleri at\n",
    "dms = pd.get_dummies(df[[\"League\",\"Division\",\"NewLeague\"]]) # Kategorik değişkenleri dummy değişkenlere dönüştür\n",
    "                                                            # Bu adım, kategorik değişkenlerin sağladığı bilgiyi daha iyi alabilmek için one-hot encoding uygular\n",
    "Y   = df[\"Salary\"]                                          # bağımlı değişken\n",
    "X_  = df.drop([\"Salary\",\"League\",\"Division\",\"NewLeague\"], axis=1).astype(\"float64\") #kategorik ve bağımlı değişkeni çıkartarak X_ değişkenine atadık.\n",
    "X   = pd.concat([X_,dms[[\"League_N\",\"Division_W\",\"NewLeague_N\"]]],axis=1)           # Bağımsız değişkenlerin son halini oluşturmak için, \n",
    "                                                                                    # dummy değişkenleri (kategorik değişkenlerin dönüştürülmüş halleri) X_'e ekle \n",
    "X_train, X_test, Y_train, Y_test = train_test_split(X,\n",
    "                                                    Y,\n",
    "                                                    test_size=0.25,\n",
    "                                                    random_state=42) # %25 test için ayrıldı."
   ]
  },
  {
   "cell_type": "markdown",
   "metadata": {},
   "source": [
    "# MODEL KURMA"
   ]
  },
  {
   "cell_type": "code",
   "execution_count": 21,
   "metadata": {},
   "outputs": [
    {
     "data": {
      "text/plain": [
       "{'C': 1.0,\n",
       " 'cache_size': 200,\n",
       " 'coef0': 0.0,\n",
       " 'degree': 3,\n",
       " 'epsilon': 0.1,\n",
       " 'gamma': 'scale',\n",
       " 'kernel': 'linear',\n",
       " 'max_iter': -1,\n",
       " 'shrinking': True,\n",
       " 'tol': 0.001,\n",
       " 'verbose': False}"
      ]
     },
     "execution_count": 21,
     "metadata": {},
     "output_type": "execute_result"
    }
   ],
   "source": [
    "svr_model = SVR(kernel=\"linear\").fit(X_train,Y_train)\n",
    "svr_model.get_params()"
   ]
  },
  {
   "cell_type": "markdown",
   "metadata": {},
   "source": [
    "# MODEL TAHMİN"
   ]
  },
  {
   "cell_type": "code",
   "execution_count": 22,
   "metadata": {},
   "outputs": [
    {
     "data": {
      "text/plain": [
       "array([219.32622627, 702.43039317, 623.20559641, 153.77538484,\n",
       "       463.15191157])"
      ]
     },
     "execution_count": 22,
     "metadata": {},
     "output_type": "execute_result"
    }
   ],
   "source": [
    "svr_model.predict(X_train)[0:5]"
   ]
  },
  {
   "cell_type": "code",
   "execution_count": 23,
   "metadata": {},
   "outputs": [
    {
     "data": {
      "text/plain": [
       "array([679.14754919, 633.72883529, 925.68639938, 270.28464317,\n",
       "       530.26659421])"
      ]
     },
     "execution_count": 23,
     "metadata": {},
     "output_type": "execute_result"
    }
   ],
   "source": [
    "svr_model.predict(X_test)[0:5]"
   ]
  },
  {
   "cell_type": "code",
   "execution_count": 24,
   "metadata": {},
   "outputs": [
    {
     "data": {
      "text/plain": [
       "array([-80.15196063])"
      ]
     },
     "execution_count": 24,
     "metadata": {},
     "output_type": "execute_result"
    }
   ],
   "source": [
    "svr_model.intercept_"
   ]
  },
  {
   "cell_type": "code",
   "execution_count": 25,
   "metadata": {},
   "outputs": [
    {
     "data": {
      "text/plain": [
       "array([[ -1.2183904 ,   6.09602978,  -3.67574533,   0.14217072,\n",
       "          0.51435925,   1.28388992,  12.55922527,  -0.08693754,\n",
       "          0.46597185,   2.98259931,   0.52944513,  -0.79820793,\n",
       "         -0.16015531,   0.30872795,   0.28842348,  -1.79560066,\n",
       "          6.41868986, -10.74313785,   1.33374319]])"
      ]
     },
     "execution_count": 25,
     "metadata": {},
     "output_type": "execute_result"
    }
   ],
   "source": [
    "svr_model.coef_"
   ]
  },
  {
   "cell_type": "code",
   "execution_count": 26,
   "metadata": {},
   "outputs": [
    {
     "data": {
      "text/plain": [
       "370.0408415795005"
      ]
     },
     "execution_count": 26,
     "metadata": {},
     "output_type": "execute_result"
    }
   ],
   "source": [
    "y_pred = svr_model.predict(X_test)\n",
    "np.sqrt(mean_squared_error(Y_test,y_pred)) #linear için bu şekilde"
   ]
  },
  {
   "cell_type": "code",
   "execution_count": 27,
   "metadata": {},
   "outputs": [
    {
     "data": {
      "text/plain": [
       "{'C': 1.0,\n",
       " 'cache_size': 200,\n",
       " 'coef0': 0.0,\n",
       " 'degree': 3,\n",
       " 'epsilon': 0.1,\n",
       " 'gamma': 'scale',\n",
       " 'kernel': 'rbf',\n",
       " 'max_iter': -1,\n",
       " 'shrinking': True,\n",
       " 'tol': 0.001,\n",
       " 'verbose': False}"
      ]
     },
     "execution_count": 27,
     "metadata": {},
     "output_type": "execute_result"
    }
   ],
   "source": [
    "#radial/linear olmayan için ise şu şekilde;\n",
    "svr_model = SVR(kernel=\"rbf\").fit(X_train,Y_train)\n",
    "svr_model.get_params()"
   ]
  },
  {
   "cell_type": "code",
   "execution_count": 28,
   "metadata": {},
   "outputs": [
    {
     "data": {
      "text/plain": [
       "460.0032657244849"
      ]
     },
     "execution_count": 28,
     "metadata": {},
     "output_type": "execute_result"
    }
   ],
   "source": [
    "y_pred = svr_model.predict(X_test)\n",
    "np.sqrt(mean_squared_error(Y_test,y_pred))"
   ]
  },
  {
   "cell_type": "code",
   "execution_count": 29,
   "metadata": {},
   "outputs": [
    {
     "data": {
      "text/plain": [
       "370.0408415795005"
      ]
     },
     "execution_count": 29,
     "metadata": {},
     "output_type": "execute_result"
    }
   ],
   "source": [
    "#eski hâline getirmek\n",
    "svr_model = SVR(kernel=\"linear\").fit(X_train,Y_train)\n",
    "y_pred = svr_model.predict(X_test)\n",
    "np.sqrt(mean_squared_error(Y_test,y_pred))"
   ]
  },
  {
   "cell_type": "markdown",
   "metadata": {},
   "source": [
    "# MODEL TUNİNG"
   ]
  },
  {
   "cell_type": "code",
   "execution_count": 30,
   "metadata": {},
   "outputs": [
    {
     "data": {
      "text/plain": [
       "{'C': 1.0,\n",
       " 'cache_size': 200,\n",
       " 'coef0': 0.0,\n",
       " 'degree': 3,\n",
       " 'epsilon': 0.1,\n",
       " 'gamma': 'scale',\n",
       " 'kernel': 'linear',\n",
       " 'max_iter': -1,\n",
       " 'shrinking': True,\n",
       " 'tol': 0.001,\n",
       " 'verbose': False}"
      ]
     },
     "execution_count": 30,
     "metadata": {},
     "output_type": "execute_result"
    }
   ],
   "source": [
    "svr_model.get_params()"
   ]
  },
  {
   "cell_type": "code",
   "execution_count": 31,
   "metadata": {},
   "outputs": [],
   "source": [
    "svr_params = {\"C\":[0.1,0.5,1,3]} #sayıları kafamızdan verdik.\n",
    "svr_cv_model = GridSearchCV(svr_model,svr_params,cv=5).fit(X_train,Y_train)"
   ]
  },
  {
   "cell_type": "code",
   "execution_count": 32,
   "metadata": {},
   "outputs": [
    {
     "data": {
      "text/plain": [
       "{'C': 0.5}"
      ]
     },
     "execution_count": 32,
     "metadata": {},
     "output_type": "execute_result"
    }
   ],
   "source": [
    "svr_cv_model.best_params_"
   ]
  },
  {
   "cell_type": "code",
   "execution_count": 33,
   "metadata": {},
   "outputs": [
    {
     "name": "stdout",
     "output_type": "stream",
     "text": [
      "Fitting 5 folds for each of 4 candidates, totalling 20 fits\n"
     ]
    },
    {
     "data": {
      "text/plain": [
       "{'C': 0.5}"
      ]
     },
     "execution_count": 33,
     "metadata": {},
     "output_type": "execute_result"
    }
   ],
   "source": [
    "svr_cv_model = GridSearchCV(svr_model,svr_params,cv=5, verbose=2,n_jobs=-1).fit(X_train,Y_train) \n",
    "#verbose= 2 işlemleri yaparken zaman/süre gibi raporları verir.\n",
    "#n_jobs  =-1 max işlemci gücünü kullanmanı sağlar.\n",
    "svr_cv_model.best_params_"
   ]
  },
  {
   "cell_type": "code",
   "execution_count": 34,
   "metadata": {},
   "outputs": [
    {
     "data": {
      "text/plain": [
       "367.98747616655294"
      ]
     },
     "execution_count": 34,
     "metadata": {},
     "output_type": "execute_result"
    }
   ],
   "source": [
    "#final model\n",
    "svr_tuned = SVR(kernel=\"linear\",C=0.5).fit(X_train,Y_train)\n",
    "y_pred    = svr_tuned.predict(X_test)\n",
    "np.sqrt(mean_squared_error(Y_test,y_pred))"
   ]
  },
  {
   "cell_type": "markdown",
   "metadata": {},
   "source": [
    "---\n",
    "# YAPAY SİNİR AĞLARI\n",
    "---"
   ]
  },
  {
   "cell_type": "code",
   "execution_count": 35,
   "metadata": {},
   "outputs": [],
   "source": [
    "df  = pd.read_csv(\"../linear_regression/Hitters.csv\")                            #veriyi oku\n",
    "df  = df.dropna()                                           #eksik değerleri at\n",
    "dms = pd.get_dummies(df[[\"League\",\"Division\",\"NewLeague\"]]) # Kategorik değişkenleri dummy değişkenlere dönüştür\n",
    "                                                            # Bu adım, kategorik değişkenlerin sağladığı bilgiyi daha iyi alabilmek için one-hot encoding uygular\n",
    "Y   = df[\"Salary\"]                                          # bağımlı değişken\n",
    "X_  = df.drop([\"Salary\",\"League\",\"Division\",\"NewLeague\"], axis=1).astype(\"float64\") #kategorik ve bağımlı değişkeni çıkartarak X_ değişkenine atadık.\n",
    "X   = pd.concat([X_,dms[[\"League_N\",\"Division_W\",\"NewLeague_N\"]]],axis=1)           # Bağımsız değişkenlerin son halini oluşturmak için, \n",
    "                                                                                    # dummy değişkenleri (kategorik değişkenlerin dönüştürülmüş halleri) X_'e ekle \n",
    "X_train, X_test, Y_train, Y_test = train_test_split(X,\n",
    "                                                    Y,\n",
    "                                                    test_size=0.25,\n",
    "                                                    random_state=42) # %25 test için ayrıldı."
   ]
  },
  {
   "cell_type": "markdown",
   "metadata": {},
   "source": [
    "# MODEL KURMA"
   ]
  },
  {
   "cell_type": "code",
   "execution_count": 36,
   "metadata": {},
   "outputs": [],
   "source": [
    "#standartlaştırma\n",
    "scaler = StandardScaler()\n",
    "\n",
    "scaler.fit(X_train)\n",
    "X_train_scaled = scaler.transform(X_train)\n",
    "scaler.fit(X_test)\n",
    "X_test_scaled = scaler.transform(X_test)"
   ]
  },
  {
   "cell_type": "code",
   "execution_count": 37,
   "metadata": {},
   "outputs": [
    {
     "data": {
      "text/plain": [
       "{'activation': 'relu',\n",
       " 'alpha': 0.0001,\n",
       " 'batch_size': 'auto',\n",
       " 'beta_1': 0.9,\n",
       " 'beta_2': 0.999,\n",
       " 'early_stopping': False,\n",
       " 'epsilon': 1e-08,\n",
       " 'hidden_layer_sizes': (100,),\n",
       " 'learning_rate': 'constant',\n",
       " 'learning_rate_init': 0.001,\n",
       " 'max_fun': 15000,\n",
       " 'max_iter': 200,\n",
       " 'momentum': 0.9,\n",
       " 'n_iter_no_change': 10,\n",
       " 'nesterovs_momentum': True,\n",
       " 'power_t': 0.5,\n",
       " 'random_state': None,\n",
       " 'shuffle': True,\n",
       " 'solver': 'adam',\n",
       " 'tol': 0.0001,\n",
       " 'validation_fraction': 0.1,\n",
       " 'verbose': False,\n",
       " 'warm_start': False}"
      ]
     },
     "execution_count": 37,
     "metadata": {},
     "output_type": "execute_result"
    }
   ],
   "source": [
    "mlp_model = MLPRegressor().fit(X_train_scaled,Y_train)\n",
    "mlp_model.get_params()"
   ]
  },
  {
   "cell_type": "markdown",
   "metadata": {},
   "source": [
    "# MODEL TAHMİN"
   ]
  },
  {
   "cell_type": "code",
   "execution_count": 38,
   "metadata": {},
   "outputs": [
    {
     "data": {
      "text/plain": [
       "array([22.35615576, 35.07239673, 72.42736433,  9.43312655, 25.51106106])"
      ]
     },
     "execution_count": 38,
     "metadata": {},
     "output_type": "execute_result"
    }
   ],
   "source": [
    "mlp_model.predict(X_test_scaled)[0:5]"
   ]
  },
  {
   "cell_type": "code",
   "execution_count": 39,
   "metadata": {},
   "outputs": [
    {
     "data": {
      "text/plain": [
       "656.7237513817053"
      ]
     },
     "execution_count": 39,
     "metadata": {},
     "output_type": "execute_result"
    }
   ],
   "source": [
    "y_pred = mlp_model.predict(X_test_scaled)\n",
    "np.sqrt(mean_squared_error(Y_test,y_pred))"
   ]
  },
  {
   "cell_type": "markdown",
   "metadata": {},
   "source": [
    "# MODEL TUNİNG"
   ]
  },
  {
   "cell_type": "code",
   "execution_count": 40,
   "metadata": {},
   "outputs": [],
   "source": [
    "mlp_params = {\"alpha\": [0.1,0.01,0.02,0.001,0.0001],\n",
    "              \"hidden_layer_sizes\": [(10,20),(5,5),(100,100)]\n",
    "              }"
   ]
  },
  {
   "cell_type": "code",
   "execution_count": 41,
   "metadata": {},
   "outputs": [
    {
     "name": "stdout",
     "output_type": "stream",
     "text": [
      "Fitting 10 folds for each of 15 candidates, totalling 150 fits\n"
     ]
    }
   ],
   "source": [
    "mpl_cv_model = GridSearchCV(mlp_model,mlp_params, cv=10,verbose=2,n_jobs=-1).fit(X_train_scaled,Y_train)"
   ]
  },
  {
   "cell_type": "code",
   "execution_count": 42,
   "metadata": {},
   "outputs": [
    {
     "data": {
      "text/plain": [
       "{'alpha': 0.001, 'hidden_layer_sizes': (100, 100)}"
      ]
     },
     "execution_count": 42,
     "metadata": {},
     "output_type": "execute_result"
    }
   ],
   "source": [
    "mpl_cv_model.best_params_"
   ]
  },
  {
   "cell_type": "code",
   "execution_count": 43,
   "metadata": {},
   "outputs": [
    {
     "data": {
      "text/plain": [
       "354.7237729247065"
      ]
     },
     "execution_count": 43,
     "metadata": {},
     "output_type": "execute_result"
    }
   ],
   "source": [
    "#final model\n",
    "mlp_tuned = MLPRegressor(alpha=0.1,hidden_layer_sizes=(100,100)).fit(X_train_scaled,Y_train)\n",
    "y_pred = mlp_tuned.predict(X_test_scaled)\n",
    "np.sqrt(mean_squared_error(Y_test,y_pred))"
   ]
  },
  {
   "cell_type": "markdown",
   "metadata": {},
   "source": [
    "---\n",
    "# CART (CLASSIFICATION AND REGRESSION TREE)\n",
    "---"
   ]
  },
  {
   "cell_type": "code",
   "execution_count": 44,
   "metadata": {},
   "outputs": [],
   "source": [
    "df  = pd.read_csv(\"../linear_regression/Hitters.csv\")                            #veriyi oku\n",
    "df  = df.dropna()                                           #eksik değerleri at\n",
    "dms = pd.get_dummies(df[[\"League\",\"Division\",\"NewLeague\"]]) # Kategorik değişkenleri dummy değişkenlere dönüştür\n",
    "                                                            # Bu adım, kategorik değişkenlerin sağladığı bilgiyi daha iyi alabilmek için one-hot encoding uygular\n",
    "Y   = df[\"Salary\"]                                          # bağımlı değişken\n",
    "X_  = df.drop([\"Salary\",\"League\",\"Division\",\"NewLeague\"], axis=1).astype(\"float64\") #kategorik ve bağımlı değişkeni çıkartarak X_ değişkenine atadık.\n",
    "X   = pd.concat([X_,dms[[\"League_N\",\"Division_W\",\"NewLeague_N\"]]],axis=1)           # Bağımsız değişkenlerin son halini oluşturmak için, \n",
    "                                                                                    # dummy değişkenleri (kategorik değişkenlerin dönüştürülmüş halleri) X_'e ekle \n",
    "X_train, X_test, Y_train, Y_test = train_test_split(X,\n",
    "                                                    Y,\n",
    "                                                    test_size=0.25,\n",
    "                                                    random_state=42) # %25 test için ayrıldı."
   ]
  },
  {
   "cell_type": "code",
   "execution_count": 45,
   "metadata": {},
   "outputs": [],
   "source": [
    "X_train = pd.DataFrame(X_train[\"Hits\"])\n",
    "X_test  = pd.DataFrame(X_test[\"Hits\"])"
   ]
  },
  {
   "cell_type": "code",
   "execution_count": 46,
   "metadata": {},
   "outputs": [
    {
     "data": {
      "text/html": [
       "<div>\n",
       "<style scoped>\n",
       "    .dataframe tbody tr th:only-of-type {\n",
       "        vertical-align: middle;\n",
       "    }\n",
       "\n",
       "    .dataframe tbody tr th {\n",
       "        vertical-align: top;\n",
       "    }\n",
       "\n",
       "    .dataframe thead th {\n",
       "        text-align: right;\n",
       "    }\n",
       "</style>\n",
       "<table border=\"1\" class=\"dataframe\">\n",
       "  <thead>\n",
       "    <tr style=\"text-align: right;\">\n",
       "      <th></th>\n",
       "      <th>Hits</th>\n",
       "    </tr>\n",
       "  </thead>\n",
       "  <tbody>\n",
       "    <tr>\n",
       "      <th>148</th>\n",
       "      <td>136.0</td>\n",
       "    </tr>\n",
       "    <tr>\n",
       "      <th>154</th>\n",
       "      <td>147.0</td>\n",
       "    </tr>\n",
       "    <tr>\n",
       "      <th>318</th>\n",
       "      <td>136.0</td>\n",
       "    </tr>\n",
       "    <tr>\n",
       "      <th>279</th>\n",
       "      <td>96.0</td>\n",
       "    </tr>\n",
       "    <tr>\n",
       "      <th>88</th>\n",
       "      <td>41.0</td>\n",
       "    </tr>\n",
       "  </tbody>\n",
       "</table>\n",
       "</div>"
      ],
      "text/plain": [
       "      Hits\n",
       "148  136.0\n",
       "154  147.0\n",
       "318  136.0\n",
       "279   96.0\n",
       "88    41.0"
      ]
     },
     "execution_count": 46,
     "metadata": {},
     "output_type": "execute_result"
    }
   ],
   "source": [
    "X_test.head()"
   ]
  },
  {
   "cell_type": "markdown",
   "metadata": {},
   "source": [
    "# MODEL KURMA"
   ]
  },
  {
   "cell_type": "code",
   "execution_count": 47,
   "metadata": {},
   "outputs": [
    {
     "data": {
      "text/plain": [
       "{'ccp_alpha': 0.0,\n",
       " 'criterion': 'squared_error',\n",
       " 'max_depth': None,\n",
       " 'max_features': None,\n",
       " 'max_leaf_nodes': None,\n",
       " 'min_impurity_decrease': 0.0,\n",
       " 'min_samples_leaf': 1,\n",
       " 'min_samples_split': 2,\n",
       " 'min_weight_fraction_leaf': 0.0,\n",
       " 'monotonic_cst': None,\n",
       " 'random_state': None,\n",
       " 'splitter': 'best'}"
      ]
     },
     "execution_count": 47,
     "metadata": {},
     "output_type": "execute_result"
    }
   ],
   "source": [
    "cart_model = DecisionTreeRegressor().fit(X_train,Y_train)\n",
    "cart_model.get_params()"
   ]
  },
  {
   "cell_type": "code",
   "execution_count": 48,
   "metadata": {},
   "outputs": [
    {
     "data": {
      "image/png": "[encoded data removed]",
      "text/plain": [
       "<Figure size 640x480 with 1 Axes>"
      ]
     },
     "metadata": {},
     "output_type": "display_data"
    }
   ],
   "source": [
    "X_grid = np.arange(min(np.array(X_train)),max(np.array(X_train)),0.01)\n",
    "X_grid = X_grid.reshape(len(X_grid),1)\n",
    "\n",
    "plt.scatter(X_train,Y_train,color =\"red\")\n",
    "plt.plot(X_grid, cart_model.predict(X_grid), color=\"blue\")\n",
    "\n",
    "plt.title(\"CART REGRESYON AGACI\")\n",
    "plt.xlabel(\"Atis Saayisi(Hits)\")\n",
    "plt.ylabel(\"Maas (Salary)\");"
   ]
  },
  {
   "cell_type": "code",
   "execution_count": 49,
   "metadata": {},
   "outputs": [
    {
     "data": {
      "image/png": "[encoded data removed]",
      "text/plain": [
       "<Figure size 640x480 with 1 Axes>"
      ]
     },
     "metadata": {},
     "output_type": "display_data"
    }
   ],
   "source": [
    "#maks dallanma sayısını kontrol edersek;\n",
    "cart_model = DecisionTreeRegressor(max_leaf_nodes =10).fit(X_train,Y_train)\n",
    "\n",
    "X_grid = np.arange(min(np.array(X_train)),max(np.array(X_train)),0.01)\n",
    "X_grid = X_grid.reshape(len(X_grid),1)\n",
    "\n",
    "plt.scatter(X_train,Y_train,color =\"red\")\n",
    "plt.plot(X_grid, cart_model.predict(X_grid), color=\"blue\")\n",
    "\n",
    "plt.title(\"CART REGRESYON AGACI\")\n",
    "plt.xlabel(\"Atis Saayisi(Hits)\")\n",
    "plt.ylabel(\"Maas (Salary)\");"
   ]
  },
  {
   "cell_type": "markdown",
   "metadata": {},
   "source": [
    "# MODEL TAHMİN"
   ]
  },
  {
   "cell_type": "code",
   "execution_count": 50,
   "metadata": {},
   "outputs": [
    {
     "data": {
      "text/plain": [
       "486.34593105235456"
      ]
     },
     "execution_count": 50,
     "metadata": {},
     "output_type": "execute_result"
    }
   ],
   "source": [
    "# Tek degiskenli Tahmin\n",
    "y_pred = cart_model.predict(X_test)\n",
    "np.sqrt(mean_squared_error(Y_test,y_pred))"
   ]
  },
  {
   "cell_type": "code",
   "execution_count": 51,
   "metadata": {},
   "outputs": [
    {
     "data": {
      "text/plain": [
       "{'ccp_alpha': 0.0,\n",
       " 'criterion': 'squared_error',\n",
       " 'max_depth': None,\n",
       " 'max_features': None,\n",
       " 'max_leaf_nodes': None,\n",
       " 'min_impurity_decrease': 0.0,\n",
       " 'min_samples_leaf': 1,\n",
       " 'min_samples_split': 2,\n",
       " 'min_weight_fraction_leaf': 0.0,\n",
       " 'monotonic_cst': None,\n",
       " 'random_state': None,\n",
       " 'splitter': 'best'}"
      ]
     },
     "execution_count": 51,
     "metadata": {},
     "output_type": "execute_result"
    }
   ],
   "source": [
    "# Tum degiskenlerle Tahmin\n",
    "df  = pd.read_csv(\"../linear_regression/Hitters.csv\")                            #veriyi oku\n",
    "df  = df.dropna()                                           #eksik değerleri at\n",
    "dms = pd.get_dummies(df[[\"League\",\"Division\",\"NewLeague\"]]) # Kategorik değişkenleri dummy değişkenlere dönüştür\n",
    "                                                            # Bu adım, kategorik değişkenlerin sağladığı bilgiyi daha iyi alabilmek için one-hot encoding uygular\n",
    "Y   = df[\"Salary\"]                                          # bağımlı değişken\n",
    "X_  = df.drop([\"Salary\",\"League\",\"Division\",\"NewLeague\"], axis=1).astype(\"float64\") #kategorik ve bağımlı değişkeni çıkartarak X_ değişkenine atadık.\n",
    "X   = pd.concat([X_,dms[[\"League_N\",\"Division_W\",\"NewLeague_N\"]]],axis=1)           # Bağımsız değişkenlerin son halini oluşturmak için, \n",
    "                                                                                    # dummy değişkenleri (kategorik değişkenlerin dönüştürülmüş halleri) X_'e ekle \n",
    "X_train, X_test, Y_train, Y_test = train_test_split(X,\n",
    "                                                    Y,\n",
    "                                                    test_size=0.25,\n",
    "                                                    random_state=42) # %25 test için ayrıldı.\n",
    "\n",
    "\n",
    "\n",
    "\n",
    "cart_model = DecisionTreeRegressor().fit(X_train,Y_train)\n",
    "cart_model.get_params()"
   ]
  },
  {
   "cell_type": "code",
   "execution_count": 52,
   "metadata": {},
   "outputs": [
    {
     "data": {
      "text/plain": [
       "430.51043300999635"
      ]
     },
     "execution_count": 52,
     "metadata": {},
     "output_type": "execute_result"
    }
   ],
   "source": [
    "y_pred = cart_model.predict(X_test)\n",
    "np.sqrt(mean_squared_error(Y_test,y_pred))"
   ]
  },
  {
   "cell_type": "markdown",
   "metadata": {},
   "source": [
    "# MODEL TUNİNG\n",
    "\n",
    "En önemli parametreler\n",
    "* min_sample_split ve max_depth"
   ]
  },
  {
   "cell_type": "code",
   "execution_count": 53,
   "metadata": {},
   "outputs": [
    {
     "data": {
      "text/plain": [
       "{'ccp_alpha': 0.0,\n",
       " 'criterion': 'squared_error',\n",
       " 'max_depth': None,\n",
       " 'max_features': None,\n",
       " 'max_leaf_nodes': None,\n",
       " 'min_impurity_decrease': 0.0,\n",
       " 'min_samples_leaf': 1,\n",
       " 'min_samples_split': 2,\n",
       " 'min_weight_fraction_leaf': 0.0,\n",
       " 'monotonic_cst': None,\n",
       " 'random_state': None,\n",
       " 'splitter': 'best'}"
      ]
     },
     "execution_count": 53,
     "metadata": {},
     "output_type": "execute_result"
    }
   ],
   "source": [
    "cart_model.get_params()"
   ]
  },
  {
   "cell_type": "code",
   "execution_count": 54,
   "metadata": {},
   "outputs": [
    {
     "data": {
      "text/plain": [
       "391.5530522634767"
      ]
     },
     "execution_count": 54,
     "metadata": {},
     "output_type": "execute_result"
    }
   ],
   "source": [
    "cart_model = DecisionTreeRegressor(max_depth=3).fit(X_train,Y_train)\n",
    "y_pred = cart_model.predict(X_test)\n",
    "np.sqrt(mean_squared_error(Y_test,y_pred))"
   ]
  },
  {
   "cell_type": "code",
   "execution_count": 55,
   "metadata": {},
   "outputs": [
    {
     "name": "stdout",
     "output_type": "stream",
     "text": [
      "\u001b[1;31mType:\u001b[0m        DecisionTreeRegressor\n",
      "\u001b[1;31mString form:\u001b[0m DecisionTreeRegressor(max_depth=3)\n",
      "\u001b[1;31mFile:\u001b[0m        c:\\users\\giray\\appdata\\local\\programs\\python\\python312\\lib\\site-packages\\sklearn\\tree\\_classes.py\n",
      "\u001b[1;31mDocstring:\u001b[0m  \n",
      "A decision tree regressor.\n",
      "\n",
      "Read more in the :ref:`User Guide <tree>`.\n",
      "\n",
      "Parameters\n",
      "----------\n",
      "criterion : {\"squared_error\", \"friedman_mse\", \"absolute_error\",             \"poisson\"}, default=\"squared_error\"\n",
      "    The function to measure the quality of a split. Supported criteria\n",
      "    are \"squared_error\" for the mean squared error, which is equal to\n",
      "    variance reduction as feature selection criterion and minimizes the L2\n",
      "    loss using the mean of each terminal node, \"friedman_mse\", which uses\n",
      "    mean squared error with Friedman's improvement score for potential\n",
      "    splits, \"absolute_error\" for the mean absolute error, which minimizes\n",
      "    the L1 loss using the median of each terminal node, and \"poisson\" which\n",
      "    uses reduction in the half mean Poisson deviance to find splits.\n",
      "\n",
      "    .. versionadded:: 0.18\n",
      "       Mean Absolute Error (MAE) criterion.\n",
      "\n",
      "    .. versionadded:: 0.24\n",
      "        Poisson deviance criterion.\n",
      "\n",
      "splitter : {\"best\", \"random\"}, default=\"best\"\n",
      "    The strategy used to choose the split at each node. Supported\n",
      "    strategies are \"best\" to choose the best split and \"random\" to choose\n",
      "    the best random split.\n",
      "\n",
      "max_depth : int, default=None\n",
      "    The maximum depth of the tree. If None, then nodes are expanded until\n",
      "    all leaves are pure or until all leaves contain less than\n",
      "    min_samples_split samples.\n",
      "\n",
      "min_samples_split : int or float, default=2\n",
      "    The minimum number of samples required to split an internal node:\n",
      "\n",
      "    - If int, then consider `min_samples_split` as the minimum number.\n",
      "    - If float, then `min_samples_split` is a fraction and\n",
      "      `ceil(min_samples_split * n_samples)` are the minimum\n",
      "      number of samples for each split.\n",
      "\n",
      "    .. versionchanged:: 0.18\n",
      "       Added float values for fractions.\n",
      "\n",
      "min_samples_leaf : int or float, default=1\n",
      "    The minimum number of samples required to be at a leaf node.\n",
      "    A split point at any depth will only be considered if it leaves at\n",
      "    least ``min_samples_leaf`` training samples in each of the left and\n",
      "    right branches.  This may have the effect of smoothing the model,\n",
      "    especially in regression.\n",
      "\n",
      "    - If int, then consider `min_samples_leaf` as the minimum number.\n",
      "    - If float, then `min_samples_leaf` is a fraction and\n",
      "      `ceil(min_samples_leaf * n_samples)` are the minimum\n",
      "      number of samples for each node.\n",
      "\n",
      "    .. versionchanged:: 0.18\n",
      "       Added float values for fractions.\n",
      "\n",
      "min_weight_fraction_leaf : float, default=0.0\n",
      "    The minimum weighted fraction of the sum total of weights (of all\n",
      "    the input samples) required to be at a leaf node. Samples have\n",
      "    equal weight when sample_weight is not provided.\n",
      "\n",
      "max_features : int, float or {\"sqrt\", \"log2\"}, default=None\n",
      "    The number of features to consider when looking for the best split:\n",
      "\n",
      "    - If int, then consider `max_features` features at each split.\n",
      "    - If float, then `max_features` is a fraction and\n",
      "      `max(1, int(max_features * n_features_in_))` features are considered at each\n",
      "      split.\n",
      "    - If \"sqrt\", then `max_features=sqrt(n_features)`.\n",
      "    - If \"log2\", then `max_features=log2(n_features)`.\n",
      "    - If None, then `max_features=n_features`.\n",
      "\n",
      "    Note: the search for a split does not stop until at least one\n",
      "    valid partition of the node samples is found, even if it requires to\n",
      "    effectively inspect more than ``max_features`` features.\n",
      "\n",
      "random_state : int, RandomState instance or None, default=None\n",
      "    Controls the randomness of the estimator. The features are always\n",
      "    randomly permuted at each split, even if ``splitter`` is set to\n",
      "    ``\"best\"``. When ``max_features < n_features``, the algorithm will\n",
      "    select ``max_features`` at random at each split before finding the best\n",
      "    split among them. But the best found split may vary across different\n",
      "    runs, even if ``max_features=n_features``. That is the case, if the\n",
      "    improvement of the criterion is identical for several splits and one\n",
      "    split has to be selected at random. To obtain a deterministic behaviour\n",
      "    during fitting, ``random_state`` has to be fixed to an integer.\n",
      "    See :term:`Glossary <random_state>` for details.\n",
      "\n",
      "max_leaf_nodes : int, default=None\n",
      "    Grow a tree with ``max_leaf_nodes`` in best-first fashion.\n",
      "    Best nodes are defined as relative reduction in impurity.\n",
      "    If None then unlimited number of leaf nodes.\n",
      "\n",
      "min_impurity_decrease : float, default=0.0\n",
      "    A node will be split if this split induces a decrease of the impurity\n",
      "    greater than or equal to this value.\n",
      "\n",
      "    The weighted impurity decrease equation is the following::\n",
      "\n",
      "        N_t / N * (impurity - N_t_R / N_t * right_impurity\n",
      "                            - N_t_L / N_t * left_impurity)\n",
      "\n",
      "    where ``N`` is the total number of samples, ``N_t`` is the number of\n",
      "    samples at the current node, ``N_t_L`` is the number of samples in the\n",
      "    left child, and ``N_t_R`` is the number of samples in the right child.\n",
      "\n",
      "    ``N``, ``N_t``, ``N_t_R`` and ``N_t_L`` all refer to the weighted sum,\n",
      "    if ``sample_weight`` is passed.\n",
      "\n",
      "    .. versionadded:: 0.19\n",
      "\n",
      "ccp_alpha : non-negative float, default=0.0\n",
      "    Complexity parameter used for Minimal Cost-Complexity Pruning. The\n",
      "    subtree with the largest cost complexity that is smaller than\n",
      "    ``ccp_alpha`` will be chosen. By default, no pruning is performed. See\n",
      "    :ref:`minimal_cost_complexity_pruning` for details.\n",
      "\n",
      "    .. versionadded:: 0.22\n",
      "\n",
      "monotonic_cst : array-like of int of shape (n_features), default=None\n",
      "    Indicates the monotonicity constraint to enforce on each feature.\n",
      "      - 1: monotonic increase\n",
      "      - 0: no constraint\n",
      "      - -1: monotonic decrease\n",
      "\n",
      "    If monotonic_cst is None, no constraints are applied.\n",
      "\n",
      "    Monotonicity constraints are not supported for:\n",
      "      - multioutput regressions (i.e. when `n_outputs_ > 1`),\n",
      "      - regressions trained on data with missing values.\n",
      "\n",
      "    Read more in the :ref:`User Guide <monotonic_cst_gbdt>`.\n",
      "\n",
      "    .. versionadded:: 1.4\n",
      "\n",
      "Attributes\n",
      "----------\n",
      "feature_importances_ : ndarray of shape (n_features,)\n",
      "    The feature importances.\n",
      "    The higher, the more important the feature.\n",
      "    The importance of a feature is computed as the\n",
      "    (normalized) total reduction of the criterion brought\n",
      "    by that feature. It is also known as the Gini importance [4]_.\n",
      "\n",
      "    Warning: impurity-based feature importances can be misleading for\n",
      "    high cardinality features (many unique values). See\n",
      "    :func:`sklearn.inspection.permutation_importance` as an alternative.\n",
      "\n",
      "max_features_ : int\n",
      "    The inferred value of max_features.\n",
      "\n",
      "n_features_in_ : int\n",
      "    Number of features seen during :term:`fit`.\n",
      "\n",
      "    .. versionadded:: 0.24\n",
      "\n",
      "feature_names_in_ : ndarray of shape (`n_features_in_`,)\n",
      "    Names of features seen during :term:`fit`. Defined only when `X`\n",
      "    has feature names that are all strings.\n",
      "\n",
      "    .. versionadded:: 1.0\n",
      "\n",
      "n_outputs_ : int\n",
      "    The number of outputs when ``fit`` is performed.\n",
      "\n",
      "tree_ : Tree instance\n",
      "    The underlying Tree object. Please refer to\n",
      "    ``help(sklearn.tree._tree.Tree)`` for attributes of Tree object and\n",
      "    :ref:`sphx_glr_auto_examples_tree_plot_unveil_tree_structure.py`\n",
      "    for basic usage of these attributes.\n",
      "\n",
      "See Also\n",
      "--------\n",
      "DecisionTreeClassifier : A decision tree classifier.\n",
      "\n",
      "Notes\n",
      "-----\n",
      "The default values for the parameters controlling the size of the trees\n",
      "(e.g. ``max_depth``, ``min_samples_leaf``, etc.) lead to fully grown and\n",
      "unpruned trees which can potentially be very large on some data sets. To\n",
      "reduce memory consumption, the complexity and size of the trees should be\n",
      "controlled by setting those parameter values.\n",
      "\n",
      "References\n",
      "----------\n",
      "\n",
      ".. [1] https://en.wikipedia.org/wiki/Decision_tree_learning\n",
      "\n",
      ".. [2] L. Breiman, J. Friedman, R. Olshen, and C. Stone, \"Classification\n",
      "       and Regression Trees\", Wadsworth, Belmont, CA, 1984.\n",
      "\n",
      ".. [3] T. Hastie, R. Tibshirani and J. Friedman. \"Elements of Statistical\n",
      "       Learning\", Springer, 2009.\n",
      "\n",
      ".. [4] L. Breiman, and A. Cutler, \"Random Forests\",\n",
      "       https://www.stat.berkeley.edu/~breiman/RandomForests/cc_home.htm\n",
      "\n",
      "Examples\n",
      "--------\n",
      ">>> from sklearn.datasets import load_diabetes\n",
      ">>> from sklearn.model_selection import cross_val_score\n",
      ">>> from sklearn.tree import DecisionTreeRegressor\n",
      ">>> X, y = load_diabetes(return_X_y=True)\n",
      ">>> regressor = DecisionTreeRegressor(random_state=0)\n",
      ">>> cross_val_score(regressor, X, y, cv=10)\n",
      "...                    # doctest: +SKIP\n",
      "...\n",
      "array([-0.39..., -0.46...,  0.02...,  0.06..., -0.50...,\n",
      "       0.16...,  0.11..., -0.73..., -0.30..., -0.00...])"
     ]
    }
   ],
   "source": [
    "?cart_model"
   ]
  },
  {
   "cell_type": "code",
   "execution_count": 56,
   "metadata": {},
   "outputs": [],
   "source": [
    "cart_params = {\"max_depth\"        : [2,3,4,5,10,20],\n",
    "               \"min_samples_split\": [2,10,5,30,50,10]\n",
    "}"
   ]
  },
  {
   "cell_type": "code",
   "execution_count": 57,
   "metadata": {},
   "outputs": [],
   "source": [
    "cart_model = DecisionTreeRegressor()\n",
    "cart_cv_model = GridSearchCV(cart_model, cart_params, cv=10).fit(X_train,Y_train)"
   ]
  },
  {
   "cell_type": "code",
   "execution_count": 58,
   "metadata": {},
   "outputs": [
    {
     "data": {
      "text/plain": [
       "{'max_depth': 4, 'min_samples_split': 50}"
      ]
     },
     "execution_count": 58,
     "metadata": {},
     "output_type": "execute_result"
    }
   ],
   "source": [
    "cart_cv_model.best_params_"
   ]
  },
  {
   "cell_type": "code",
   "execution_count": 59,
   "metadata": {},
   "outputs": [
    {
     "data": {
      "text/plain": [
       "411.9886403043614"
      ]
     },
     "execution_count": 59,
     "metadata": {},
     "output_type": "execute_result"
    }
   ],
   "source": [
    "#final model\n",
    "cart_model_tuned = DecisionTreeRegressor(max_depth=5, min_samples_split=50).fit(X_train,Y_train)\n",
    "\n",
    "y_pred = cart_model_tuned.predict(X_test)\n",
    "np.sqrt(mean_squared_error(Y_test,y_pred))"
   ]
  },
  {
   "cell_type": "markdown",
   "metadata": {},
   "source": [
    "---\n",
    "# RANDOM FORESTS\n",
    "---"
   ]
  },
  {
   "cell_type": "code",
   "execution_count": 60,
   "metadata": {},
   "outputs": [],
   "source": [
    "df  = pd.read_csv(\"../linear_regression/Hitters.csv\")                            #veriyi oku\n",
    "df  = df.dropna()                                           #eksik değerleri at\n",
    "dms = pd.get_dummies(df[[\"League\",\"Division\",\"NewLeague\"]]) # Kategorik değişkenleri dummy değişkenlere dönüştür\n",
    "                                                            # Bu adım, kategorik değişkenlerin sağladığı bilgiyi daha iyi alabilmek için one-hot encoding uygular\n",
    "Y   = df[\"Salary\"]                                          # bağımlı değişken\n",
    "X_  = df.drop([\"Salary\",\"League\",\"Division\",\"NewLeague\"], axis=1).astype(\"float64\") #kategorik ve bağımlı değişkeni çıkartarak X_ değişkenine atadık.\n",
    "X   = pd.concat([X_,dms[[\"League_N\",\"Division_W\",\"NewLeague_N\"]]],axis=1)           # Bağımsız değişkenlerin son halini oluşturmak için, \n",
    "                                                                                    # dummy değişkenleri (kategorik değişkenlerin dönüştürülmüş halleri) X_'e ekle \n",
    "X_train, X_test, Y_train, Y_test = train_test_split(X,\n",
    "                                                    Y,\n",
    "                                                    test_size=0.25,\n",
    "                                                    random_state=42) # %25 test için ayrıldı."
   ]
  },
  {
   "cell_type": "markdown",
   "metadata": {},
   "source": [
    "# MODEL KURMA"
   ]
  },
  {
   "cell_type": "code",
   "execution_count": 61,
   "metadata": {},
   "outputs": [
    {
     "data": {
      "text/plain": [
       "{'bootstrap': True,\n",
       " 'ccp_alpha': 0.0,\n",
       " 'criterion': 'squared_error',\n",
       " 'max_depth': None,\n",
       " 'max_features': 1.0,\n",
       " 'max_leaf_nodes': None,\n",
       " 'max_samples': None,\n",
       " 'min_impurity_decrease': 0.0,\n",
       " 'min_samples_leaf': 1,\n",
       " 'min_samples_split': 2,\n",
       " 'min_weight_fraction_leaf': 0.0,\n",
       " 'monotonic_cst': None,\n",
       " 'n_estimators': 100,\n",
       " 'n_jobs': None,\n",
       " 'oob_score': False,\n",
       " 'random_state': 42,\n",
       " 'verbose': 0,\n",
       " 'warm_start': False}"
      ]
     },
     "execution_count": 61,
     "metadata": {},
     "output_type": "execute_result"
    }
   ],
   "source": [
    "rf_model = RandomForestRegressor(random_state=42).fit(X_train,Y_train)\n",
    "rf_model.get_params()\n",
    "# random_state = seed"
   ]
  },
  {
   "cell_type": "markdown",
   "metadata": {},
   "source": [
    "# MODEL TAHMİN\n"
   ]
  },
  {
   "cell_type": "code",
   "execution_count": 62,
   "metadata": {},
   "outputs": [
    {
     "data": {
      "text/plain": [
       "344.8191624908484"
      ]
     },
     "execution_count": 62,
     "metadata": {},
     "output_type": "execute_result"
    }
   ],
   "source": [
    "y_pred = rf_model.predict(X_test)\n",
    "np.sqrt(mean_squared_error(Y_test,y_pred))"
   ]
  },
  {
   "cell_type": "markdown",
   "metadata": {},
   "source": [
    "# MODEL TUNİNG\n",
    "\n",
    "En önemli parametreler\n",
    "* n_estimators : fit edilecek ağaç sayısı\n",
    "* bölünme işlemlerinde göz önünde bulunduralacak olan değişken sayısı\n",
    "* min_sample_split ve max_depth"
   ]
  },
  {
   "cell_type": "code",
   "execution_count": 63,
   "metadata": {},
   "outputs": [
    {
     "data": {
      "text/plain": [
       "{'bootstrap': True,\n",
       " 'ccp_alpha': 0.0,\n",
       " 'criterion': 'squared_error',\n",
       " 'max_depth': None,\n",
       " 'max_features': 1.0,\n",
       " 'max_leaf_nodes': None,\n",
       " 'max_samples': None,\n",
       " 'min_impurity_decrease': 0.0,\n",
       " 'min_samples_leaf': 1,\n",
       " 'min_samples_split': 2,\n",
       " 'min_weight_fraction_leaf': 0.0,\n",
       " 'monotonic_cst': None,\n",
       " 'n_estimators': 100,\n",
       " 'n_jobs': None,\n",
       " 'oob_score': False,\n",
       " 'random_state': 42,\n",
       " 'verbose': 0,\n",
       " 'warm_start': False}"
      ]
     },
     "execution_count": 63,
     "metadata": {},
     "output_type": "execute_result"
    }
   ],
   "source": [
    "rf_model.get_params()"
   ]
  },
  {
   "cell_type": "code",
   "execution_count": 64,
   "metadata": {},
   "outputs": [],
   "source": [
    "rf_params = {\"max_depth\"        : [5,8,10],\n",
    "             \"max_features\"     : [2,5,10],\n",
    "             \"n_estimators\"     : [200,500,1000,2000],\n",
    "             \"min_samples_split\": [2,10,80,100]}"
   ]
  },
  {
   "cell_type": "code",
   "execution_count": 65,
   "metadata": {},
   "outputs": [
    {
     "name": "stdout",
     "output_type": "stream",
     "text": [
      "Fitting 10 folds for each of 144 candidates, totalling 1440 fits\n"
     ]
    }
   ],
   "source": [
    "rf_cv_model = GridSearchCV(rf_model,rf_params,cv=10,n_jobs=-1,verbose=3).fit(X_train,Y_train)"
   ]
  },
  {
   "cell_type": "code",
   "execution_count": 66,
   "metadata": {},
   "outputs": [
    {
     "data": {
      "text/plain": [
       "{'max_depth': 8,\n",
       " 'max_features': 2,\n",
       " 'min_samples_split': 2,\n",
       " 'n_estimators': 200}"
      ]
     },
     "execution_count": 66,
     "metadata": {},
     "output_type": "execute_result"
    }
   ],
   "source": [
    "rf_cv_model.best_params_"
   ]
  },
  {
   "cell_type": "code",
   "execution_count": 67,
   "metadata": {},
   "outputs": [
    {
     "data": {
      "text/html": [
       "<style>#sk-container-id-1 {\n",
       "  /* Definition of color scheme common for light and dark mode */\n",
       "  --sklearn-color-text: black;\n",
       "  --sklearn-color-line: gray;\n",
       "  /* Definition of color scheme for unfitted estimators */\n",
       "  --sklearn-color-unfitted-level-0: #fff5e6;\n",
       "  --sklearn-color-unfitted-level-1: #f6e4d2;\n",
       "  --sklearn-color-unfitted-level-2: #ffe0b3;\n",
       "  --sklearn-color-unfitted-level-3: chocolate;\n",
       "  /* Definition of color scheme for fitted estimators */\n",
       "  --sklearn-color-fitted-level-0: #f0f8ff;\n",
       "  --sklearn-color-fitted-level-1: #d4ebff;\n",
       "  --sklearn-color-fitted-level-2: #b3dbfd;\n",
       "  --sklearn-color-fitted-level-3: cornflowerblue;\n",
       "\n",
       "  /* Specific color for light theme */\n",
       "  --sklearn-color-text-on-default-background: var(--sg-text-color, var(--theme-code-foreground, var(--jp-content-font-color1, black)));\n",
       "  --sklearn-color-background: var(--sg-background-color, var(--theme-background, var(--jp-layout-color0, white)));\n",
       "  --sklearn-color-border-box: var(--sg-text-color, var(--theme-code-foreground, var(--jp-content-font-color1, black)));\n",
       "  --sklearn-color-icon: #696969;\n",
       "\n",
       "  @media (prefers-color-scheme: dark) {\n",
       "    /* Redefinition of color scheme for dark theme */\n",
       "    --sklearn-color-text-on-default-background: var(--sg-text-color, var(--theme-code-foreground, var(--jp-content-font-color1, white)));\n",
       "    --sklearn-color-background: var(--sg-background-color, var(--theme-background, var(--jp-layout-color0, #111)));\n",
       "    --sklearn-color-border-box: var(--sg-text-color, var(--theme-code-foreground, var(--jp-content-font-color1, white)));\n",
       "    --sklearn-color-icon: #878787;\n",
       "  }\n",
       "}\n",
       "\n",
       "#sk-container-id-1 {\n",
       "  color: var(--sklearn-color-text);\n",
       "}\n",
       "\n",
       "#sk-container-id-1 pre {\n",
       "  padding: 0;\n",
       "}\n",
       "\n",
       "#sk-container-id-1 input.sk-hidden--visually {\n",
       "  border: 0;\n",
       "  clip: rect(1px 1px 1px 1px);\n",
       "  clip: rect(1px, 1px, 1px, 1px);\n",
       "  height: 1px;\n",
       "  margin: -1px;\n",
       "  overflow: hidden;\n",
       "  padding: 0;\n",
       "  position: absolute;\n",
       "  width: 1px;\n",
       "}\n",
       "\n",
       "#sk-container-id-1 div.sk-dashed-wrapped {\n",
       "  border: 1px dashed var(--sklearn-color-line);\n",
       "  margin: 0 0.4em 0.5em 0.4em;\n",
       "  box-sizing: border-box;\n",
       "  padding-bottom: 0.4em;\n",
       "  background-color: var(--sklearn-color-background);\n",
       "}\n",
       "\n",
       "#sk-container-id-1 div.sk-container {\n",
       "  /* jupyter's `normalize.less` sets `[hidden] { display: none; }`\n",
       "     but bootstrap.min.css set `[hidden] { display: none !important; }`\n",
       "     so we also need the `!important` here to be able to override the\n",
       "     default hidden behavior on the sphinx rendered scikit-learn.org.\n",
       "     See: https://github.com/scikit-learn/scikit-learn/issues/21755 */\n",
       "  display: inline-block !important;\n",
       "  position: relative;\n",
       "}\n",
       "\n",
       "#sk-container-id-1 div.sk-text-repr-fallback {\n",
       "  display: none;\n",
       "}\n",
       "\n",
       "div.sk-parallel-item,\n",
       "div.sk-serial,\n",
       "div.sk-item {\n",
       "  /* draw centered vertical line to link estimators */\n",
       "  background-image: linear-gradient(var(--sklearn-color-text-on-default-background), var(--sklearn-color-text-on-default-background));\n",
       "  background-size: 2px 100%;\n",
       "  background-repeat: no-repeat;\n",
       "  background-position: center center;\n",
       "}\n",
       "\n",
       "/* Parallel-specific style estimator block */\n",
       "\n",
       "#sk-container-id-1 div.sk-parallel-item::after {\n",
       "  content: \"\";\n",
       "  width: 100%;\n",
       "  border-bottom: 2px solid var(--sklearn-color-text-on-default-background);\n",
       "  flex-grow: 1;\n",
       "}\n",
       "\n",
       "#sk-container-id-1 div.sk-parallel {\n",
       "  display: flex;\n",
       "  align-items: stretch;\n",
       "  justify-content: center;\n",
       "  background-color: var(--sklearn-color-background);\n",
       "  position: relative;\n",
       "}\n",
       "\n",
       "#sk-container-id-1 div.sk-parallel-item {\n",
       "  display: flex;\n",
       "  flex-direction: column;\n",
       "}\n",
       "\n",
       "#sk-container-id-1 div.sk-parallel-item:first-child::after {\n",
       "  align-self: flex-end;\n",
       "  width: 50%;\n",
       "}\n",
       "\n",
       "#sk-container-id-1 div.sk-parallel-item:last-child::after {\n",
       "  align-self: flex-start;\n",
       "  width: 50%;\n",
       "}\n",
       "\n",
       "#sk-container-id-1 div.sk-parallel-item:only-child::after {\n",
       "  width: 0;\n",
       "}\n",
       "\n",
       "/* Serial-specific style estimator block */\n",
       "\n",
       "#sk-container-id-1 div.sk-serial {\n",
       "  display: flex;\n",
       "  flex-direction: column;\n",
       "  align-items: center;\n",
       "  background-color: var(--sklearn-color-background);\n",
       "  padding-right: 1em;\n",
       "  padding-left: 1em;\n",
       "}\n",
       "\n",
       "\n",
       "/* Toggleable style: style used for estimator/Pipeline/ColumnTransformer box that is\n",
       "clickable and can be expanded/collapsed.\n",
       "- Pipeline and ColumnTransformer use this feature and define the default style\n",
       "- Estimators will overwrite some part of the style using the `sk-estimator` class\n",
       "*/\n",
       "\n",
       "/* Pipeline and ColumnTransformer style (default) */\n",
       "\n",
       "#sk-container-id-1 div.sk-toggleable {\n",
       "  /* Default theme specific background. It is overwritten whether we have a\n",
       "  specific estimator or a Pipeline/ColumnTransformer */\n",
       "  background-color: var(--sklearn-color-background);\n",
       "}\n",
       "\n",
       "/* Toggleable label */\n",
       "#sk-container-id-1 label.sk-toggleable__label {\n",
       "  cursor: pointer;\n",
       "  display: block;\n",
       "  width: 100%;\n",
       "  margin-bottom: 0;\n",
       "  padding: 0.5em;\n",
       "  box-sizing: border-box;\n",
       "  text-align: center;\n",
       "}\n",
       "\n",
       "#sk-container-id-1 label.sk-toggleable__label-arrow:before {\n",
       "  /* Arrow on the left of the label */\n",
       "  content: \"▸\";\n",
       "  float: left;\n",
       "  margin-right: 0.25em;\n",
       "  color: var(--sklearn-color-icon);\n",
       "}\n",
       "\n",
       "#sk-container-id-1 label.sk-toggleable__label-arrow:hover:before {\n",
       "  color: var(--sklearn-color-text);\n",
       "}\n",
       "\n",
       "/* Toggleable content - dropdown */\n",
       "\n",
       "#sk-container-id-1 div.sk-toggleable__content {\n",
       "  max-height: 0;\n",
       "  max-width: 0;\n",
       "  overflow: hidden;\n",
       "  text-align: left;\n",
       "  /* unfitted */\n",
       "  background-color: var(--sklearn-color-unfitted-level-0);\n",
       "}\n",
       "\n",
       "#sk-container-id-1 div.sk-toggleable__content.fitted {\n",
       "  /* fitted */\n",
       "  background-color: var(--sklearn-color-fitted-level-0);\n",
       "}\n",
       "\n",
       "#sk-container-id-1 div.sk-toggleable__content pre {\n",
       "  margin: 0.2em;\n",
       "  border-radius: 0.25em;\n",
       "  color: var(--sklearn-color-text);\n",
       "  /* unfitted */\n",
       "  background-color: var(--sklearn-color-unfitted-level-0);\n",
       "}\n",
       "\n",
       "#sk-container-id-1 div.sk-toggleable__content.fitted pre {\n",
       "  /* unfitted */\n",
       "  background-color: var(--sklearn-color-fitted-level-0);\n",
       "}\n",
       "\n",
       "#sk-container-id-1 input.sk-toggleable__control:checked~div.sk-toggleable__content {\n",
       "  /* Expand drop-down */\n",
       "  max-height: 200px;\n",
       "  max-width: 100%;\n",
       "  overflow: auto;\n",
       "}\n",
       "\n",
       "#sk-container-id-1 input.sk-toggleable__control:checked~label.sk-toggleable__label-arrow:before {\n",
       "  content: \"▾\";\n",
       "}\n",
       "\n",
       "/* Pipeline/ColumnTransformer-specific style */\n",
       "\n",
       "#sk-container-id-1 div.sk-label input.sk-toggleable__control:checked~label.sk-toggleable__label {\n",
       "  color: var(--sklearn-color-text);\n",
       "  background-color: var(--sklearn-color-unfitted-level-2);\n",
       "}\n",
       "\n",
       "#sk-container-id-1 div.sk-label.fitted input.sk-toggleable__control:checked~label.sk-toggleable__label {\n",
       "  background-color: var(--sklearn-color-fitted-level-2);\n",
       "}\n",
       "\n",
       "/* Estimator-specific style */\n",
       "\n",
       "/* Colorize estimator box */\n",
       "#sk-container-id-1 div.sk-estimator input.sk-toggleable__control:checked~label.sk-toggleable__label {\n",
       "  /* unfitted */\n",
       "  background-color: var(--sklearn-color-unfitted-level-2);\n",
       "}\n",
       "\n",
       "#sk-container-id-1 div.sk-estimator.fitted input.sk-toggleable__control:checked~label.sk-toggleable__label {\n",
       "  /* fitted */\n",
       "  background-color: var(--sklearn-color-fitted-level-2);\n",
       "}\n",
       "\n",
       "#sk-container-id-1 div.sk-label label.sk-toggleable__label,\n",
       "#sk-container-id-1 div.sk-label label {\n",
       "  /* The background is the default theme color */\n",
       "  color: var(--sklearn-color-text-on-default-background);\n",
       "}\n",
       "\n",
       "/* On hover, darken the color of the background */\n",
       "#sk-container-id-1 div.sk-label:hover label.sk-toggleable__label {\n",
       "  color: var(--sklearn-color-text);\n",
       "  background-color: var(--sklearn-color-unfitted-level-2);\n",
       "}\n",
       "\n",
       "/* Label box, darken color on hover, fitted */\n",
       "#sk-container-id-1 div.sk-label.fitted:hover label.sk-toggleable__label.fitted {\n",
       "  color: var(--sklearn-color-text);\n",
       "  background-color: var(--sklearn-color-fitted-level-2);\n",
       "}\n",
       "\n",
       "/* Estimator label */\n",
       "\n",
       "#sk-container-id-1 div.sk-label label {\n",
       "  font-family: monospace;\n",
       "  font-weight: bold;\n",
       "  display: inline-block;\n",
       "  line-height: 1.2em;\n",
       "}\n",
       "\n",
       "#sk-container-id-1 div.sk-label-container {\n",
       "  text-align: center;\n",
       "}\n",
       "\n",
       "/* Estimator-specific */\n",
       "#sk-container-id-1 div.sk-estimator {\n",
       "  font-family: monospace;\n",
       "  border: 1px dotted var(--sklearn-color-border-box);\n",
       "  border-radius: 0.25em;\n",
       "  box-sizing: border-box;\n",
       "  margin-bottom: 0.5em;\n",
       "  /* unfitted */\n",
       "  background-color: var(--sklearn-color-unfitted-level-0);\n",
       "}\n",
       "\n",
       "#sk-container-id-1 div.sk-estimator.fitted {\n",
       "  /* fitted */\n",
       "  background-color: var(--sklearn-color-fitted-level-0);\n",
       "}\n",
       "\n",
       "/* on hover */\n",
       "#sk-container-id-1 div.sk-estimator:hover {\n",
       "  /* unfitted */\n",
       "  background-color: var(--sklearn-color-unfitted-level-2);\n",
       "}\n",
       "\n",
       "#sk-container-id-1 div.sk-estimator.fitted:hover {\n",
       "  /* fitted */\n",
       "  background-color: var(--sklearn-color-fitted-level-2);\n",
       "}\n",
       "\n",
       "/* Specification for estimator info (e.g. \"i\" and \"?\") */\n",
       "\n",
       "/* Common style for \"i\" and \"?\" */\n",
       "\n",
       ".sk-estimator-doc-link,\n",
       "a:link.sk-estimator-doc-link,\n",
       "a:visited.sk-estimator-doc-link {\n",
       "  float: right;\n",
       "  font-size: smaller;\n",
       "  line-height: 1em;\n",
       "  font-family: monospace;\n",
       "  background-color: var(--sklearn-color-background);\n",
       "  border-radius: 1em;\n",
       "  height: 1em;\n",
       "  width: 1em;\n",
       "  text-decoration: none !important;\n",
       "  margin-left: 1ex;\n",
       "  /* unfitted */\n",
       "  border: var(--sklearn-color-unfitted-level-1) 1pt solid;\n",
       "  color: var(--sklearn-color-unfitted-level-1);\n",
       "}\n",
       "\n",
       ".sk-estimator-doc-link.fitted,\n",
       "a:link.sk-estimator-doc-link.fitted,\n",
       "a:visited.sk-estimator-doc-link.fitted {\n",
       "  /* fitted */\n",
       "  border: var(--sklearn-color-fitted-level-1) 1pt solid;\n",
       "  color: var(--sklearn-color-fitted-level-1);\n",
       "}\n",
       "\n",
       "/* On hover */\n",
       "div.sk-estimator:hover .sk-estimator-doc-link:hover,\n",
       ".sk-estimator-doc-link:hover,\n",
       "div.sk-label-container:hover .sk-estimator-doc-link:hover,\n",
       ".sk-estimator-doc-link:hover {\n",
       "  /* unfitted */\n",
       "  background-color: var(--sklearn-color-unfitted-level-3);\n",
       "  color: var(--sklearn-color-background);\n",
       "  text-decoration: none;\n",
       "}\n",
       "\n",
       "div.sk-estimator.fitted:hover .sk-estimator-doc-link.fitted:hover,\n",
       ".sk-estimator-doc-link.fitted:hover,\n",
       "div.sk-label-container:hover .sk-estimator-doc-link.fitted:hover,\n",
       ".sk-estimator-doc-link.fitted:hover {\n",
       "  /* fitted */\n",
       "  background-color: var(--sklearn-color-fitted-level-3);\n",
       "  color: var(--sklearn-color-background);\n",
       "  text-decoration: none;\n",
       "}\n",
       "\n",
       "/* Span, style for the box shown on hovering the info icon */\n",
       ".sk-estimator-doc-link span {\n",
       "  display: none;\n",
       "  z-index: 9999;\n",
       "  position: relative;\n",
       "  font-weight: normal;\n",
       "  right: .2ex;\n",
       "  padding: .5ex;\n",
       "  margin: .5ex;\n",
       "  width: min-content;\n",
       "  min-width: 20ex;\n",
       "  max-width: 50ex;\n",
       "  color: var(--sklearn-color-text);\n",
       "  box-shadow: 2pt 2pt 4pt #999;\n",
       "  /* unfitted */\n",
       "  background: var(--sklearn-color-unfitted-level-0);\n",
       "  border: .5pt solid var(--sklearn-color-unfitted-level-3);\n",
       "}\n",
       "\n",
       ".sk-estimator-doc-link.fitted span {\n",
       "  /* fitted */\n",
       "  background: var(--sklearn-color-fitted-level-0);\n",
       "  border: var(--sklearn-color-fitted-level-3);\n",
       "}\n",
       "\n",
       ".sk-estimator-doc-link:hover span {\n",
       "  display: block;\n",
       "}\n",
       "\n",
       "/* \"?\"-specific style due to the `<a>` HTML tag */\n",
       "\n",
       "#sk-container-id-1 a.estimator_doc_link {\n",
       "  float: right;\n",
       "  font-size: 1rem;\n",
       "  line-height: 1em;\n",
       "  font-family: monospace;\n",
       "  background-color: var(--sklearn-color-background);\n",
       "  border-radius: 1rem;\n",
       "  height: 1rem;\n",
       "  width: 1rem;\n",
       "  text-decoration: none;\n",
       "  /* unfitted */\n",
       "  color: var(--sklearn-color-unfitted-level-1);\n",
       "  border: var(--sklearn-color-unfitted-level-1) 1pt solid;\n",
       "}\n",
       "\n",
       "#sk-container-id-1 a.estimator_doc_link.fitted {\n",
       "  /* fitted */\n",
       "  border: var(--sklearn-color-fitted-level-1) 1pt solid;\n",
       "  color: var(--sklearn-color-fitted-level-1);\n",
       "}\n",
       "\n",
       "/* On hover */\n",
       "#sk-container-id-1 a.estimator_doc_link:hover {\n",
       "  /* unfitted */\n",
       "  background-color: var(--sklearn-color-unfitted-level-3);\n",
       "  color: var(--sklearn-color-background);\n",
       "  text-decoration: none;\n",
       "}\n",
       "\n",
       "#sk-container-id-1 a.estimator_doc_link.fitted:hover {\n",
       "  /* fitted */\n",
       "  background-color: var(--sklearn-color-fitted-level-3);\n",
       "}\n",
       "</style><div id=\"sk-container-id-1\" class=\"sk-top-container\"><div class=\"sk-text-repr-fallback\"><pre>RandomForestRegressor(max_depth=8, max_features=2, n_estimators=200,\n",
       "                      random_state=42)</pre><b>In a Jupyter environment, please rerun this cell to show the HTML representation or trust the notebook. <br />On GitHub, the HTML representation is unable to render, please try loading this page with nbviewer.org.</b></div><div class=\"sk-container\" hidden><div class=\"sk-item\"><div class=\"sk-estimator fitted sk-toggleable\"><input class=\"sk-toggleable__control sk-hidden--visually\" id=\"sk-estimator-id-1\" type=\"checkbox\" checked><label for=\"sk-estimator-id-1\" class=\"sk-toggleable__label fitted sk-toggleable__label-arrow fitted\">&nbsp;&nbsp;RandomForestRegressor<a class=\"sk-estimator-doc-link fitted\" rel=\"noreferrer\" target=\"_blank\" href=\"https://scikit-learn.org/1.5/modules/generated/sklearn.ensemble.RandomForestRegressor.html\">?<span>Documentation for RandomForestRegressor</span></a><span class=\"sk-estimator-doc-link fitted\">i<span>Fitted</span></span></label><div class=\"sk-toggleable__content fitted\"><pre>RandomForestRegressor(max_depth=8, max_features=2, n_estimators=200,\n",
       "                      random_state=42)</pre></div> </div></div></div></div>"
      ],
      "text/plain": [
       "RandomForestRegressor(max_depth=8, max_features=2, n_estimators=200,\n",
       "                      random_state=42)"
      ]
     },
     "execution_count": 67,
     "metadata": {},
     "output_type": "execute_result"
    }
   ],
   "source": [
    "rf_tuned_model = RandomForestRegressor( random_state       =42,\n",
    "                                        max_depth          =8,\n",
    "                                        max_features       =2,\n",
    "                                        min_samples_split  =2,\n",
    "                                        n_estimators       =200)\n",
    "rf_tuned_model.fit(X_train,Y_train)"
   ]
  },
  {
   "cell_type": "code",
   "execution_count": 68,
   "metadata": {},
   "outputs": [
    {
     "data": {
      "text/plain": [
       "349.1649379391149"
      ]
     },
     "execution_count": 68,
     "metadata": {},
     "output_type": "execute_result"
    }
   ],
   "source": [
    "y_pred = rf_tuned_model.predict(X_test)\n",
    "np.sqrt(mean_squared_error(Y_test,y_pred))"
   ]
  },
  {
   "cell_type": "markdown",
   "metadata": {},
   "source": [
    "### DEĞİŞKEN ÖNEM DÜZEYİ"
   ]
  },
  {
   "cell_type": "code",
   "execution_count": 69,
   "metadata": {},
   "outputs": [
    {
     "data": {
      "text/plain": [
       "array([5.81548333, 6.38504706, 3.52630602, 4.18186433, 4.68121896,\n",
       "       4.92291235, 7.38388416, 9.72940722, 8.68736867, 7.89130478,\n",
       "       8.78157948, 8.30862336, 9.69431474, 4.71131944, 2.04114365,\n",
       "       1.83878075, 0.38469815, 0.55485771, 0.47988582])"
      ]
     },
     "execution_count": 69,
     "metadata": {},
     "output_type": "execute_result"
    }
   ],
   "source": [
    "rf_tuned_model.feature_importances_*100"
   ]
  },
  {
   "cell_type": "code",
   "execution_count": 70,
   "metadata": {},
   "outputs": [
    {
     "data": {
      "image/png": "[encoded data removed]",
      "text/plain": [
       "<Figure size 640x480 with 1 Axes>"
      ]
     },
     "metadata": {},
     "output_type": "display_data"
    }
   ],
   "source": [
    "Importance = pd.DataFrame({\"Importance\":rf_tuned_model.feature_importances_*100},\n",
    "                          index=X_train.columns)\n",
    "\n",
    "Importance.sort_values(by =\"Importance\",\n",
    "                       axis=0,\n",
    "                       ascending=True).plot(kind=\"barh\",\n",
    "                                            color =\"r\")\n",
    "\n",
    "plt.xlabel(\"Variable Importance\")\n",
    "plt.gca().legend_ = None"
   ]
  },
  {
   "cell_type": "markdown",
   "metadata": {},
   "source": [
    "---\n",
    "# Gradient Boosting Machines (GBM)\n",
    "---"
   ]
  },
  {
   "cell_type": "code",
   "execution_count": 71,
   "metadata": {},
   "outputs": [],
   "source": [
    "df  = pd.read_csv(\"../linear_regression/Hitters.csv\")                            #veriyi oku\n",
    "df  = df.dropna()                                           #eksik değerleri at\n",
    "dms = pd.get_dummies(df[[\"League\",\"Division\",\"NewLeague\"]]) # Kategorik değişkenleri dummy değişkenlere dönüştür\n",
    "                                                            # Bu adım, kategorik değişkenlerin sağladığı bilgiyi daha iyi alabilmek için one-hot encoding uygular\n",
    "Y   = df[\"Salary\"]                                          # bağımlı değişken\n",
    "X_  = df.drop([\"Salary\",\"League\",\"Division\",\"NewLeague\"], axis=1).astype(\"float64\") #kategorik ve bağımlı değişkeni çıkartarak X_ değişkenine atadık.\n",
    "X   = pd.concat([X_,dms[[\"League_N\",\"Division_W\",\"NewLeague_N\"]]],axis=1)           # Bağımsız değişkenlerin son halini oluşturmak için, \n",
    "                                                                                    # dummy değişkenleri (kategorik değişkenlerin dönüştürülmüş halleri) X_'e ekle \n",
    "X_train, X_test, Y_train, Y_test = train_test_split(X,\n",
    "                                                    Y,\n",
    "                                                    test_size=0.25,\n",
    "                                                    random_state=42) # %25 test için ayrıldı."
   ]
  },
  {
   "cell_type": "markdown",
   "metadata": {},
   "source": [
    "# MODEL KURMA"
   ]
  },
  {
   "cell_type": "code",
   "execution_count": 72,
   "metadata": {},
   "outputs": [
    {
     "data": {
      "text/plain": [
       "{'alpha': 0.9,\n",
       " 'ccp_alpha': 0.0,\n",
       " 'criterion': 'friedman_mse',\n",
       " 'init': None,\n",
       " 'learning_rate': 0.1,\n",
       " 'loss': 'squared_error',\n",
       " 'max_depth': 3,\n",
       " 'max_features': None,\n",
       " 'max_leaf_nodes': None,\n",
       " 'min_impurity_decrease': 0.0,\n",
       " 'min_samples_leaf': 1,\n",
       " 'min_samples_split': 2,\n",
       " 'min_weight_fraction_leaf': 0.0,\n",
       " 'n_estimators': 100,\n",
       " 'n_iter_no_change': None,\n",
       " 'random_state': None,\n",
       " 'subsample': 1.0,\n",
       " 'tol': 0.0001,\n",
       " 'validation_fraction': 0.1,\n",
       " 'verbose': 0,\n",
       " 'warm_start': False}"
      ]
     },
     "execution_count": 72,
     "metadata": {},
     "output_type": "execute_result"
    }
   ],
   "source": [
    "gbm_model = GradientBoostingRegressor().fit(X_train,Y_train)\n",
    "gbm_model.get_params()\n",
    "# random_state = seed"
   ]
  },
  {
   "cell_type": "markdown",
   "metadata": {},
   "source": [
    "# MODEL TAHMİN\n"
   ]
  },
  {
   "cell_type": "code",
   "execution_count": 73,
   "metadata": {},
   "outputs": [
    {
     "data": {
      "text/plain": [
       "346.2450262849484"
      ]
     },
     "execution_count": 73,
     "metadata": {},
     "output_type": "execute_result"
    }
   ],
   "source": [
    "y_pred = gbm_model.predict(X_test)\n",
    "np.sqrt(mean_squared_error(Y_test,y_pred))"
   ]
  },
  {
   "cell_type": "markdown",
   "metadata": {},
   "source": [
    "# MODEL TUNİNG\n",
    "\n",
    "En önemli parametreler\n",
    "* criterion : Bölünmeler ile ilgili saflık ölçüsü\n",
    "* learning_rate: Ağaçların katkılarıyla ilgili bir değer\n",
    "* loss(cost) : kayıp fonksiyonu ; \"ls\" en küçük kareler. \n",
    "* n_estimators : fit edilecek ağaç sayısı\n",
    "* bölünme işlemlerinde göz önünde bulunduralacak olan değişken sayısı\n",
    "* min_sample_split ve max_depth"
   ]
  },
  {
   "cell_type": "code",
   "execution_count": 74,
   "metadata": {},
   "outputs": [
    {
     "data": {
      "text/plain": [
       "{'alpha': 0.9,\n",
       " 'ccp_alpha': 0.0,\n",
       " 'criterion': 'friedman_mse',\n",
       " 'init': None,\n",
       " 'learning_rate': 0.1,\n",
       " 'loss': 'squared_error',\n",
       " 'max_depth': 3,\n",
       " 'max_features': None,\n",
       " 'max_leaf_nodes': None,\n",
       " 'min_impurity_decrease': 0.0,\n",
       " 'min_samples_leaf': 1,\n",
       " 'min_samples_split': 2,\n",
       " 'min_weight_fraction_leaf': 0.0,\n",
       " 'n_estimators': 100,\n",
       " 'n_iter_no_change': None,\n",
       " 'random_state': None,\n",
       " 'subsample': 1.0,\n",
       " 'tol': 0.0001,\n",
       " 'validation_fraction': 0.1,\n",
       " 'verbose': 0,\n",
       " 'warm_start': False}"
      ]
     },
     "execution_count": 74,
     "metadata": {},
     "output_type": "execute_result"
    }
   ],
   "source": [
    "gbm_model.get_params()"
   ]
  },
  {
   "cell_type": "code",
   "execution_count": 75,
   "metadata": {},
   "outputs": [
    {
     "name": "stdout",
     "output_type": "stream",
     "text": [
      "\u001b[1;31mType:\u001b[0m        GradientBoostingRegressor\n",
      "\u001b[1;31mString form:\u001b[0m GradientBoostingRegressor()\n",
      "\u001b[1;31mLength:\u001b[0m      100\n",
      "\u001b[1;31mFile:\u001b[0m        c:\\users\\giray\\appdata\\local\\programs\\python\\python312\\lib\\site-packages\\sklearn\\ensemble\\_gb.py\n",
      "\u001b[1;31mDocstring:\u001b[0m  \n",
      "Gradient Boosting for regression.\n",
      "\n",
      "This estimator builds an additive model in a forward stage-wise fashion; it\n",
      "allows for the optimization of arbitrary differentiable loss functions. In\n",
      "each stage a regression tree is fit on the negative gradient of the given\n",
      "loss function.\n",
      "\n",
      ":class:`~sklearn.ensemble.HistGradientBoostingRegressor` is a much faster variant\n",
      "of this algorithm for intermediate and large datasets (`n_samples >= 10_000`) and\n",
      "supports monotonic constraints.\n",
      "\n",
      "Read more in the :ref:`User Guide <gradient_boosting>`.\n",
      "\n",
      "Parameters\n",
      "----------\n",
      "loss : {'squared_error', 'absolute_error', 'huber', 'quantile'},             default='squared_error'\n",
      "    Loss function to be optimized. 'squared_error' refers to the squared\n",
      "    error for regression. 'absolute_error' refers to the absolute error of\n",
      "    regression and is a robust loss function. 'huber' is a\n",
      "    combination of the two. 'quantile' allows quantile regression (use\n",
      "    `alpha` to specify the quantile).\n",
      "\n",
      "learning_rate : float, default=0.1\n",
      "    Learning rate shrinks the contribution of each tree by `learning_rate`.\n",
      "    There is a trade-off between learning_rate and n_estimators.\n",
      "    Values must be in the range `[0.0, inf)`.\n",
      "\n",
      "n_estimators : int, default=100\n",
      "    The number of boosting stages to perform. Gradient boosting\n",
      "    is fairly robust to over-fitting so a large number usually\n",
      "    results in better performance.\n",
      "    Values must be in the range `[1, inf)`.\n",
      "\n",
      "subsample : float, default=1.0\n",
      "    The fraction of samples to be used for fitting the individual base\n",
      "    learners. If smaller than 1.0 this results in Stochastic Gradient\n",
      "    Boosting. `subsample` interacts with the parameter `n_estimators`.\n",
      "    Choosing `subsample < 1.0` leads to a reduction of variance\n",
      "    and an increase in bias.\n",
      "    Values must be in the range `(0.0, 1.0]`.\n",
      "\n",
      "criterion : {'friedman_mse', 'squared_error'}, default='friedman_mse'\n",
      "    The function to measure the quality of a split. Supported criteria are\n",
      "    \"friedman_mse\" for the mean squared error with improvement score by\n",
      "    Friedman, \"squared_error\" for mean squared error. The default value of\n",
      "    \"friedman_mse\" is generally the best as it can provide a better\n",
      "    approximation in some cases.\n",
      "\n",
      "    .. versionadded:: 0.18\n",
      "\n",
      "min_samples_split : int or float, default=2\n",
      "    The minimum number of samples required to split an internal node:\n",
      "\n",
      "    - If int, values must be in the range `[2, inf)`.\n",
      "    - If float, values must be in the range `(0.0, 1.0]` and `min_samples_split`\n",
      "      will be `ceil(min_samples_split * n_samples)`.\n",
      "\n",
      "    .. versionchanged:: 0.18\n",
      "       Added float values for fractions.\n",
      "\n",
      "min_samples_leaf : int or float, default=1\n",
      "    The minimum number of samples required to be at a leaf node.\n",
      "    A split point at any depth will only be considered if it leaves at\n",
      "    least ``min_samples_leaf`` training samples in each of the left and\n",
      "    right branches.  This may have the effect of smoothing the model,\n",
      "    especially in regression.\n",
      "\n",
      "    - If int, values must be in the range `[1, inf)`.\n",
      "    - If float, values must be in the range `(0.0, 1.0)` and `min_samples_leaf`\n",
      "      will be `ceil(min_samples_leaf * n_samples)`.\n",
      "\n",
      "    .. versionchanged:: 0.18\n",
      "       Added float values for fractions.\n",
      "\n",
      "min_weight_fraction_leaf : float, default=0.0\n",
      "    The minimum weighted fraction of the sum total of weights (of all\n",
      "    the input samples) required to be at a leaf node. Samples have\n",
      "    equal weight when sample_weight is not provided.\n",
      "    Values must be in the range `[0.0, 0.5]`.\n",
      "\n",
      "max_depth : int or None, default=3\n",
      "    Maximum depth of the individual regression estimators. The maximum\n",
      "    depth limits the number of nodes in the tree. Tune this parameter\n",
      "    for best performance; the best value depends on the interaction\n",
      "    of the input variables. If None, then nodes are expanded until\n",
      "    all leaves are pure or until all leaves contain less than\n",
      "    min_samples_split samples.\n",
      "    If int, values must be in the range `[1, inf)`.\n",
      "\n",
      "min_impurity_decrease : float, default=0.0\n",
      "    A node will be split if this split induces a decrease of the impurity\n",
      "    greater than or equal to this value.\n",
      "    Values must be in the range `[0.0, inf)`.\n",
      "\n",
      "    The weighted impurity decrease equation is the following::\n",
      "\n",
      "        N_t / N * (impurity - N_t_R / N_t * right_impurity\n",
      "                            - N_t_L / N_t * left_impurity)\n",
      "\n",
      "    where ``N`` is the total number of samples, ``N_t`` is the number of\n",
      "    samples at the current node, ``N_t_L`` is the number of samples in the\n",
      "    left child, and ``N_t_R`` is the number of samples in the right child.\n",
      "\n",
      "    ``N``, ``N_t``, ``N_t_R`` and ``N_t_L`` all refer to the weighted sum,\n",
      "    if ``sample_weight`` is passed.\n",
      "\n",
      "    .. versionadded:: 0.19\n",
      "\n",
      "init : estimator or 'zero', default=None\n",
      "    An estimator object that is used to compute the initial predictions.\n",
      "    ``init`` has to provide :term:`fit` and :term:`predict`. If 'zero', the\n",
      "    initial raw predictions are set to zero. By default a\n",
      "    ``DummyEstimator`` is used, predicting either the average target value\n",
      "    (for loss='squared_error'), or a quantile for the other losses.\n",
      "\n",
      "random_state : int, RandomState instance or None, default=None\n",
      "    Controls the random seed given to each Tree estimator at each\n",
      "    boosting iteration.\n",
      "    In addition, it controls the random permutation of the features at\n",
      "    each split (see Notes for more details).\n",
      "    It also controls the random splitting of the training data to obtain a\n",
      "    validation set if `n_iter_no_change` is not None.\n",
      "    Pass an int for reproducible output across multiple function calls.\n",
      "    See :term:`Glossary <random_state>`.\n",
      "\n",
      "max_features : {'sqrt', 'log2'}, int or float, default=None\n",
      "    The number of features to consider when looking for the best split:\n",
      "\n",
      "    - If int, values must be in the range `[1, inf)`.\n",
      "    - If float, values must be in the range `(0.0, 1.0]` and the features\n",
      "      considered at each split will be `max(1, int(max_features * n_features_in_))`.\n",
      "    - If \"sqrt\", then `max_features=sqrt(n_features)`.\n",
      "    - If \"log2\", then `max_features=log2(n_features)`.\n",
      "    - If None, then `max_features=n_features`.\n",
      "\n",
      "    Choosing `max_features < n_features` leads to a reduction of variance\n",
      "    and an increase in bias.\n",
      "\n",
      "    Note: the search for a split does not stop until at least one\n",
      "    valid partition of the node samples is found, even if it requires to\n",
      "    effectively inspect more than ``max_features`` features.\n",
      "\n",
      "alpha : float, default=0.9\n",
      "    The alpha-quantile of the huber loss function and the quantile\n",
      "    loss function. Only if ``loss='huber'`` or ``loss='quantile'``.\n",
      "    Values must be in the range `(0.0, 1.0)`.\n",
      "\n",
      "verbose : int, default=0\n",
      "    Enable verbose output. If 1 then it prints progress and performance\n",
      "    once in a while (the more trees the lower the frequency). If greater\n",
      "    than 1 then it prints progress and performance for every tree.\n",
      "    Values must be in the range `[0, inf)`.\n",
      "\n",
      "max_leaf_nodes : int, default=None\n",
      "    Grow trees with ``max_leaf_nodes`` in best-first fashion.\n",
      "    Best nodes are defined as relative reduction in impurity.\n",
      "    Values must be in the range `[2, inf)`.\n",
      "    If None, then unlimited number of leaf nodes.\n",
      "\n",
      "warm_start : bool, default=False\n",
      "    When set to ``True``, reuse the solution of the previous call to fit\n",
      "    and add more estimators to the ensemble, otherwise, just erase the\n",
      "    previous solution. See :term:`the Glossary <warm_start>`.\n",
      "\n",
      "validation_fraction : float, default=0.1\n",
      "    The proportion of training data to set aside as validation set for\n",
      "    early stopping. Values must be in the range `(0.0, 1.0)`.\n",
      "    Only used if ``n_iter_no_change`` is set to an integer.\n",
      "\n",
      "    .. versionadded:: 0.20\n",
      "\n",
      "n_iter_no_change : int, default=None\n",
      "    ``n_iter_no_change`` is used to decide if early stopping will be used\n",
      "    to terminate training when validation score is not improving. By\n",
      "    default it is set to None to disable early stopping. If set to a\n",
      "    number, it will set aside ``validation_fraction`` size of the training\n",
      "    data as validation and terminate training when validation score is not\n",
      "    improving in all of the previous ``n_iter_no_change`` numbers of\n",
      "    iterations.\n",
      "    Values must be in the range `[1, inf)`.\n",
      "    See\n",
      "    :ref:`sphx_glr_auto_examples_ensemble_plot_gradient_boosting_early_stopping.py`.\n",
      "\n",
      "    .. versionadded:: 0.20\n",
      "\n",
      "tol : float, default=1e-4\n",
      "    Tolerance for the early stopping. When the loss is not improving\n",
      "    by at least tol for ``n_iter_no_change`` iterations (if set to a\n",
      "    number), the training stops.\n",
      "    Values must be in the range `[0.0, inf)`.\n",
      "\n",
      "    .. versionadded:: 0.20\n",
      "\n",
      "ccp_alpha : non-negative float, default=0.0\n",
      "    Complexity parameter used for Minimal Cost-Complexity Pruning. The\n",
      "    subtree with the largest cost complexity that is smaller than\n",
      "    ``ccp_alpha`` will be chosen. By default, no pruning is performed.\n",
      "    Values must be in the range `[0.0, inf)`.\n",
      "    See :ref:`minimal_cost_complexity_pruning` for details.\n",
      "\n",
      "    .. versionadded:: 0.22\n",
      "\n",
      "Attributes\n",
      "----------\n",
      "n_estimators_ : int\n",
      "    The number of estimators as selected by early stopping (if\n",
      "    ``n_iter_no_change`` is specified). Otherwise it is set to\n",
      "    ``n_estimators``.\n",
      "\n",
      "n_trees_per_iteration_ : int\n",
      "    The number of trees that are built at each iteration. For regressors, this is\n",
      "    always 1.\n",
      "\n",
      "    .. versionadded:: 1.4.0\n",
      "\n",
      "feature_importances_ : ndarray of shape (n_features,)\n",
      "    The impurity-based feature importances.\n",
      "    The higher, the more important the feature.\n",
      "    The importance of a feature is computed as the (normalized)\n",
      "    total reduction of the criterion brought by that feature.  It is also\n",
      "    known as the Gini importance.\n",
      "\n",
      "    Warning: impurity-based feature importances can be misleading for\n",
      "    high cardinality features (many unique values). See\n",
      "    :func:`sklearn.inspection.permutation_importance` as an alternative.\n",
      "\n",
      "oob_improvement_ : ndarray of shape (n_estimators,)\n",
      "    The improvement in loss on the out-of-bag samples\n",
      "    relative to the previous iteration.\n",
      "    ``oob_improvement_[0]`` is the improvement in\n",
      "    loss of the first stage over the ``init`` estimator.\n",
      "    Only available if ``subsample < 1.0``.\n",
      "\n",
      "oob_scores_ : ndarray of shape (n_estimators,)\n",
      "    The full history of the loss values on the out-of-bag\n",
      "    samples. Only available if `subsample < 1.0`.\n",
      "\n",
      "    .. versionadded:: 1.3\n",
      "\n",
      "oob_score_ : float\n",
      "    The last value of the loss on the out-of-bag samples. It is\n",
      "    the same as `oob_scores_[-1]`. Only available if `subsample < 1.0`.\n",
      "\n",
      "    .. versionadded:: 1.3\n",
      "\n",
      "train_score_ : ndarray of shape (n_estimators,)\n",
      "    The i-th score ``train_score_[i]`` is the loss of the\n",
      "    model at iteration ``i`` on the in-bag sample.\n",
      "    If ``subsample == 1`` this is the loss on the training data.\n",
      "\n",
      "init_ : estimator\n",
      "    The estimator that provides the initial predictions. Set via the ``init``\n",
      "    argument.\n",
      "\n",
      "estimators_ : ndarray of DecisionTreeRegressor of shape (n_estimators, 1)\n",
      "    The collection of fitted sub-estimators.\n",
      "\n",
      "n_features_in_ : int\n",
      "    Number of features seen during :term:`fit`.\n",
      "\n",
      "    .. versionadded:: 0.24\n",
      "\n",
      "feature_names_in_ : ndarray of shape (`n_features_in_`,)\n",
      "    Names of features seen during :term:`fit`. Defined only when `X`\n",
      "    has feature names that are all strings.\n",
      "\n",
      "    .. versionadded:: 1.0\n",
      "\n",
      "max_features_ : int\n",
      "    The inferred value of max_features.\n",
      "\n",
      "See Also\n",
      "--------\n",
      "HistGradientBoostingRegressor : Histogram-based Gradient Boosting\n",
      "    Classification Tree.\n",
      "sklearn.tree.DecisionTreeRegressor : A decision tree regressor.\n",
      "sklearn.ensemble.RandomForestRegressor : A random forest regressor.\n",
      "\n",
      "Notes\n",
      "-----\n",
      "The features are always randomly permuted at each split. Therefore,\n",
      "the best found split may vary, even with the same training data and\n",
      "``max_features=n_features``, if the improvement of the criterion is\n",
      "identical for several splits enumerated during the search of the best\n",
      "split. To obtain a deterministic behaviour during fitting,\n",
      "``random_state`` has to be fixed.\n",
      "\n",
      "References\n",
      "----------\n",
      "J. Friedman, Greedy Function Approximation: A Gradient Boosting\n",
      "Machine, The Annals of Statistics, Vol. 29, No. 5, 2001.\n",
      "\n",
      "J. Friedman, Stochastic Gradient Boosting, 1999\n",
      "\n",
      "T. Hastie, R. Tibshirani and J. Friedman.\n",
      "Elements of Statistical Learning Ed. 2, Springer, 2009.\n",
      "\n",
      "Examples\n",
      "--------\n",
      ">>> from sklearn.datasets import make_regression\n",
      ">>> from sklearn.ensemble import GradientBoostingRegressor\n",
      ">>> from sklearn.model_selection import train_test_split\n",
      ">>> X, y = make_regression(random_state=0)\n",
      ">>> X_train, X_test, y_train, y_test = train_test_split(\n",
      "...     X, y, random_state=0)\n",
      ">>> reg = GradientBoostingRegressor(random_state=0)\n",
      ">>> reg.fit(X_train, y_train)\n",
      "GradientBoostingRegressor(random_state=0)\n",
      ">>> reg.predict(X_test[1:2])\n",
      "array([-61...])\n",
      ">>> reg.score(X_test, y_test)\n",
      "0.4...\n",
      "\n",
      "For a detailed example of utilizing\n",
      ":class:`~sklearn.ensemble.GradientBoostingRegressor`\n",
      "to fit an ensemble of weak predictive models, please refer to\n",
      ":ref:`sphx_glr_auto_examples_ensemble_plot_gradient_boosting_regression.py`."
     ]
    }
   ],
   "source": [
    "?gbm_model"
   ]
  },
  {
   "cell_type": "code",
   "execution_count": 76,
   "metadata": {},
   "outputs": [],
   "source": [
    "gbm_params = {\"learning_rate\"   : [0.001,0.1,0.01],\n",
    "              \"max_depth\"       : [3,5,8],\n",
    "              \"n_estimators\"    : [100,200,500],\n",
    "              \"subsample\"       : [1,0.5,0.8],\n",
    "              \"loss\"            : [\"ls\",\"lad\",\"quantile\"]}"
   ]
  },
  {
   "cell_type": "code",
   "execution_count": 77,
   "metadata": {},
   "outputs": [
    {
     "name": "stdout",
     "output_type": "stream",
     "text": [
      "Fitting 10 folds for each of 243 candidates, totalling 2430 fits\n"
     ]
    }
   ],
   "source": [
    "gbm_cv_model = GridSearchCV(gbm_model,gbm_params,cv=10,n_jobs=-1,verbose=1).fit(X_train,Y_train)"
   ]
  },
  {
   "cell_type": "code",
   "execution_count": 78,
   "metadata": {},
   "outputs": [
    {
     "data": {
      "text/plain": [
       "{'learning_rate': 0.1,\n",
       " 'loss': 'quantile',\n",
       " 'max_depth': 8,\n",
       " 'n_estimators': 500,\n",
       " 'subsample': 0.5}"
      ]
     },
     "execution_count": 78,
     "metadata": {},
     "output_type": "execute_result"
    }
   ],
   "source": [
    "gbm_cv_model.best_params_"
   ]
  },
  {
   "cell_type": "code",
   "execution_count": 79,
   "metadata": {},
   "outputs": [],
   "source": [
    "gbm_tuned_model = GradientBoostingRegressor(learning_rate = 0.1,\n",
    "                                            loss          = 'quantile',\n",
    "                                            max_depth     = 8,\n",
    "                                            n_estimators  = 500,\n",
    "                                            subsample     = 0.5\n",
    "                                            ).fit(X_train,Y_train)"
   ]
  },
  {
   "cell_type": "code",
   "execution_count": 80,
   "metadata": {},
   "outputs": [
    {
     "data": {
      "text/plain": [
       "382.04427408888733"
      ]
     },
     "execution_count": 80,
     "metadata": {},
     "output_type": "execute_result"
    }
   ],
   "source": [
    "y_pred = gbm_tuned_model.predict(X_test)\n",
    "np.sqrt(mean_squared_error(Y_test,y_pred))"
   ]
  },
  {
   "cell_type": "markdown",
   "metadata": {},
   "source": [
    "### DEĞİŞKEN ÖNEM DÜZEYİ"
   ]
  },
  {
   "cell_type": "code",
   "execution_count": 81,
   "metadata": {},
   "outputs": [
    {
     "data": {
      "text/plain": [
       "array([ 5.39370302,  6.44638054,  5.69699449,  5.11961173,  7.27165153,\n",
       "        7.96835372,  3.47163219,  4.24879917,  3.85729613,  5.99613387,\n",
       "        4.82100051,  5.33871641,  6.03360972, 10.43563741,  7.48673051,\n",
       "        6.85977747,  1.06315134,  1.40277003,  1.08805021])"
      ]
     },
     "execution_count": 81,
     "metadata": {},
     "output_type": "execute_result"
    }
   ],
   "source": [
    "gbm_tuned_model.feature_importances_*100"
   ]
  },
  {
   "cell_type": "code",
   "execution_count": 82,
   "metadata": {},
   "outputs": [
    {
     "data": {
      "image/png": "[encoded data removed]",
      "text/plain": [
       "<Figure size 640x480 with 1 Axes>"
      ]
     },
     "metadata": {},
     "output_type": "display_data"
    }
   ],
   "source": [
    "Importance = pd.DataFrame({\"Importance\":gbm_tuned_model.feature_importances_*100},\n",
    "                          index=X_train.columns)\n",
    "\n",
    "Importance.sort_values(by =\"Importance\",\n",
    "                       axis=0,\n",
    "                       ascending=True).plot(kind=\"barh\",\n",
    "                                            color =\"r\")\n",
    "\n",
    "plt.xlabel(\"Variable Importance\")\n",
    "plt.gca().legend_ = None"
   ]
  },
  {
   "cell_type": "code",
   "execution_count": null,
   "metadata": {},
   "outputs": [],
   "source": []
  },
  {
   "cell_type": "markdown",
   "metadata": {},
   "source": [
    "---\n",
    "# eXTREME GRADIENT BOOSTING (XGBOOST)\n",
    "---"
   ]
  },
  {
   "cell_type": "code",
   "execution_count": 83,
   "metadata": {},
   "outputs": [],
   "source": [
    "df  = pd.read_csv(\"../linear_regression/Hitters.csv\")                            #veriyi oku\n",
    "df  = df.dropna()                                           #eksik değerleri at\n",
    "dms = pd.get_dummies(df[[\"League\",\"Division\",\"NewLeague\"]]) # Kategorik değişkenleri dummy değişkenlere dönüştür\n",
    "                                                            # Bu adım, kategorik değişkenlerin sağladığı bilgiyi daha iyi alabilmek için one-hot encoding uygular\n",
    "Y   = df[\"Salary\"]                                          # bağımlı değişken\n",
    "X_  = df.drop([\"Salary\",\"League\",\"Division\",\"NewLeague\"], axis=1).astype(\"float64\") #kategorik ve bağımlı değişkeni çıkartarak X_ değişkenine atadık.\n",
    "X   = pd.concat([X_,dms[[\"League_N\",\"Division_W\",\"NewLeague_N\"]]],axis=1)           # Bağımsız değişkenlerin son halini oluşturmak için, \n",
    "                                                                                    # dummy değişkenleri (kategorik değişkenlerin dönüştürülmüş halleri) X_'e ekle \n",
    "X_train, X_test, Y_train, Y_test = train_test_split(X,\n",
    "                                                    Y,\n",
    "                                                    test_size=0.25,\n",
    "                                                    random_state=42) # %25 test için ayrıldı."
   ]
  },
  {
   "cell_type": "markdown",
   "metadata": {},
   "source": [
    "# MODEL KURMA"
   ]
  },
  {
   "cell_type": "code",
   "execution_count": 84,
   "metadata": {},
   "outputs": [
    {
     "data": {
      "text/plain": [
       "{'objective': 'reg:squarederror',\n",
       " 'base_score': None,\n",
       " 'booster': None,\n",
       " 'callbacks': None,\n",
       " 'colsample_bylevel': None,\n",
       " 'colsample_bynode': None,\n",
       " 'colsample_bytree': None,\n",
       " 'device': None,\n",
       " 'early_stopping_rounds': None,\n",
       " 'enable_categorical': False,\n",
       " 'eval_metric': None,\n",
       " 'feature_types': None,\n",
       " 'gamma': None,\n",
       " 'grow_policy': None,\n",
       " 'importance_type': None,\n",
       " 'interaction_constraints': None,\n",
       " 'learning_rate': None,\n",
       " 'max_bin': None,\n",
       " 'max_cat_threshold': None,\n",
       " 'max_cat_to_onehot': None,\n",
       " 'max_delta_step': None,\n",
       " 'max_depth': None,\n",
       " 'max_leaves': None,\n",
       " 'min_child_weight': None,\n",
       " 'missing': nan,\n",
       " 'monotone_constraints': None,\n",
       " 'multi_strategy': None,\n",
       " 'n_estimators': None,\n",
       " 'n_jobs': None,\n",
       " 'num_parallel_tree': None,\n",
       " 'random_state': None,\n",
       " 'reg_alpha': None,\n",
       " 'reg_lambda': None,\n",
       " 'sampling_method': None,\n",
       " 'scale_pos_weight': None,\n",
       " 'subsample': None,\n",
       " 'tree_method': None,\n",
       " 'validate_parameters': None,\n",
       " 'verbosity': None}"
      ]
     },
     "execution_count": 84,
     "metadata": {},
     "output_type": "execute_result"
    }
   ],
   "source": [
    "xgb_model = XGBRegressor().fit(X_train,Y_train)\n",
    "xgb_model.get_params()"
   ]
  },
  {
   "cell_type": "markdown",
   "metadata": {},
   "source": [
    "# MODEL TAHMİN\n"
   ]
  },
  {
   "cell_type": "code",
   "execution_count": 85,
   "metadata": {},
   "outputs": [
    {
     "data": {
      "text/plain": [
       "366.3863437634965"
      ]
     },
     "execution_count": 85,
     "metadata": {},
     "output_type": "execute_result"
    }
   ],
   "source": [
    "y_pred = xgb_model.predict(X_test)\n",
    "np.sqrt(mean_squared_error(Y_test,y_pred))"
   ]
  },
  {
   "cell_type": "markdown",
   "metadata": {},
   "source": [
    "# MODEL TUNİNG\n",
    "\n",
    "En önemli parametreler\n",
    "* learning_rate: Ağaçların katkılarıyla ilgili bir değer. Daraltma adım boyunu ifade eder. \n",
    "* n_estimators : fit edilecek ağaç sayısı\n",
    "* bölünme işlemlerinde göz önünde bulunduralacak olan değişken sayısı\n",
    "* min_sample_split ve max_depth\n",
    "* colsample_bytree : Oluşturulacak olan ağaçlarda değişkenlerden alınacak olan alt küme oranını ifade eder."
   ]
  },
  {
   "cell_type": "code",
   "execution_count": 86,
   "metadata": {},
   "outputs": [
    {
     "data": {
      "text/plain": [
       "{'alpha': 0.9,\n",
       " 'ccp_alpha': 0.0,\n",
       " 'criterion': 'friedman_mse',\n",
       " 'init': None,\n",
       " 'learning_rate': 0.1,\n",
       " 'loss': 'squared_error',\n",
       " 'max_depth': 3,\n",
       " 'max_features': None,\n",
       " 'max_leaf_nodes': None,\n",
       " 'min_impurity_decrease': 0.0,\n",
       " 'min_samples_leaf': 1,\n",
       " 'min_samples_split': 2,\n",
       " 'min_weight_fraction_leaf': 0.0,\n",
       " 'n_estimators': 100,\n",
       " 'n_iter_no_change': None,\n",
       " 'random_state': None,\n",
       " 'subsample': 1.0,\n",
       " 'tol': 0.0001,\n",
       " 'validation_fraction': 0.1,\n",
       " 'verbose': 0,\n",
       " 'warm_start': False}"
      ]
     },
     "execution_count": 86,
     "metadata": {},
     "output_type": "execute_result"
    }
   ],
   "source": [
    "gbm_model.get_params()"
   ]
  },
  {
   "cell_type": "code",
   "execution_count": 87,
   "metadata": {},
   "outputs": [],
   "source": [
    "xgb_params = {\"learning_rate\"   : [0.1,0.01,0.5],\n",
    "              \"max_depth\"       : [2,3,4,5,8],\n",
    "              \"n_estimators\"    : [100,200,500,1000],\n",
    "              \"colsample_bytree\": [0.4,0.7,1]}"
   ]
  },
  {
   "cell_type": "code",
   "execution_count": 88,
   "metadata": {},
   "outputs": [
    {
     "name": "stdout",
     "output_type": "stream",
     "text": [
      "Fitting 10 folds for each of 180 candidates, totalling 1800 fits\n"
     ]
    }
   ],
   "source": [
    "xgb_cv_model = GridSearchCV(xgb_model,xgb_params,cv=10,n_jobs=-1,verbose=2).fit(X_train,Y_train)"
   ]
  },
  {
   "cell_type": "code",
   "execution_count": 89,
   "metadata": {},
   "outputs": [
    {
     "data": {
      "text/plain": [
       "{'colsample_bytree': 0.4,\n",
       " 'learning_rate': 0.5,\n",
       " 'max_depth': 3,\n",
       " 'n_estimators': 100}"
      ]
     },
     "execution_count": 89,
     "metadata": {},
     "output_type": "execute_result"
    }
   ],
   "source": [
    "xgb_cv_model.best_params_"
   ]
  },
  {
   "cell_type": "code",
   "execution_count": 90,
   "metadata": {},
   "outputs": [],
   "source": [
    "xgb_tuned_model = XGBRegressor(learning_rate       = 0.5,\n",
    "                               max_depth           = 3,\n",
    "                               n_estimators        = 100,\n",
    "                               colsample_bytree    = 0.4).fit(X_train,Y_train)"
   ]
  },
  {
   "cell_type": "code",
   "execution_count": 91,
   "metadata": {},
   "outputs": [
    {
     "data": {
      "text/plain": [
       "374.29091564195204"
      ]
     },
     "execution_count": 91,
     "metadata": {},
     "output_type": "execute_result"
    }
   ],
   "source": [
    "y_pred = xgb_tuned_model.predict(X_test)\n",
    "np.sqrt(mean_squared_error(Y_test,y_pred))"
   ]
  },
  {
   "cell_type": "markdown",
   "metadata": {},
   "source": [
    "### DEĞİŞKEN ÖNEM DÜZEYİ"
   ]
  },
  {
   "cell_type": "code",
   "execution_count": 92,
   "metadata": {},
   "outputs": [
    {
     "data": {
      "text/plain": [
       "array([ 0.6365863 ,  9.454955  ,  0.37053883,  0.453004  ,  1.755182  ,\n",
       "        4.4546423 ,  4.5688686 , 13.744291  , 35.983303  ,  2.081322  ,\n",
       "        4.07192   ,  9.860358  ,  2.1229773 ,  5.8136916 ,  0.8898804 ,\n",
       "        0.7870701 ,  0.26322988,  0.85170746,  1.836467  ], dtype=float32)"
      ]
     },
     "execution_count": 92,
     "metadata": {},
     "output_type": "execute_result"
    }
   ],
   "source": [
    "xgb_tuned_model.feature_importances_*100"
   ]
  },
  {
   "cell_type": "code",
   "execution_count": 93,
   "metadata": {},
   "outputs": [
    {
     "data": {
      "image/png": "[encoded data removed]",
      "text/plain": [
       "<Figure size 640x480 with 1 Axes>"
      ]
     },
     "metadata": {},
     "output_type": "display_data"
    }
   ],
   "source": [
    "Importance = pd.DataFrame({\"Importance\":xgb_tuned_model.feature_importances_*100},\n",
    "                          index=X_train.columns)\n",
    "\n",
    "Importance.sort_values(by =\"Importance\",\n",
    "                       axis=0,\n",
    "                       ascending=True).plot(kind=\"barh\",\n",
    "                                            color =\"r\")\n",
    "\n",
    "plt.xlabel(\"Variable Importance\")\n",
    "plt.gca().legend_ = None"
   ]
  },
  {
   "cell_type": "markdown",
   "metadata": {},
   "source": [
    "---\n",
    "# LIGHTGBM\n",
    "---"
   ]
  },
  {
   "cell_type": "code",
   "execution_count": 94,
   "metadata": {},
   "outputs": [],
   "source": [
    "df  = pd.read_csv(\"../linear_regression/Hitters.csv\")                            #veriyi oku\n",
    "df  = df.dropna()                                           #eksik değerleri at\n",
    "dms = pd.get_dummies(df[[\"League\",\"Division\",\"NewLeague\"]]) # Kategorik değişkenleri dummy değişkenlere dönüştür\n",
    "                                                            # Bu adım, kategorik değişkenlerin sağladığı bilgiyi daha iyi alabilmek için one-hot encoding uygular\n",
    "Y   = df[\"Salary\"]                                          # bağımlı değişken\n",
    "X_  = df.drop([\"Salary\",\"League\",\"Division\",\"NewLeague\"], axis=1).astype(\"float64\") #kategorik ve bağımlı değişkeni çıkartarak X_ değişkenine atadık.\n",
    "X   = pd.concat([X_,dms[[\"League_N\",\"Division_W\",\"NewLeague_N\"]]],axis=1)           # Bağımsız değişkenlerin son halini oluşturmak için, \n",
    "                                                                                    # dummy değişkenleri (kategorik değişkenlerin dönüştürülmüş halleri) X_'e ekle \n",
    "X_train, X_test, Y_train, Y_test = train_test_split(X,\n",
    "                                                    Y,\n",
    "                                                    test_size=0.25,\n",
    "                                                    random_state=42) # %25 test için ayrıldı."
   ]
  },
  {
   "cell_type": "markdown",
   "metadata": {},
   "source": [
    "# MODEL KURMA"
   ]
  },
  {
   "cell_type": "code",
   "execution_count": 95,
   "metadata": {},
   "outputs": [
    {
     "name": "stdout",
     "output_type": "stream",
     "text": [
      "[LightGBM] [Info] Auto-choosing row-wise multi-threading, the overhead of testing was 0.000036 seconds.\n",
      "You can set `force_row_wise=true` to remove the overhead.\n",
      "And if memory is not enough, you can set `force_col_wise=true`.\n",
      "[LightGBM] [Info] Total Bins 831\n",
      "[LightGBM] [Info] Number of data points in the train set: 197, number of used features: 19\n",
      "[LightGBM] [Info] Start training from score 543.483442\n",
      "[LightGBM] [Warning] No further splits with positive gain, best gain: -inf\n",
      "[LightGBM] [Warning] No further splits with positive gain, best gain: -inf\n",
      "[LightGBM] [Warning] No further splits with positive gain, best gain: -inf\n",
      "[LightGBM] [Warning] No further splits with positive gain, best gain: -inf\n",
      "[LightGBM] [Warning] No further splits with positive gain, best gain: -inf\n",
      "[LightGBM] [Warning] No further splits with positive gain, best gain: -inf\n",
      "[LightGBM] [Warning] No further splits with positive gain, best gain: -inf\n",
      "[LightGBM] [Warning] No further splits with positive gain, best gain: -inf\n",
      "[LightGBM] [Warning] No further splits with positive gain, best gain: -inf\n",
      "[LightGBM] [Warning] No further splits with positive gain, best gain: -inf\n",
      "[LightGBM] [Warning] No further splits with positive gain, best gain: -inf\n",
      "[LightGBM] [Warning] No further splits with positive gain, best gain: -inf\n",
      "[LightGBM] [Warning] No further splits with positive gain, best gain: -inf\n",
      "[LightGBM] [Warning] No further splits with positive gain, best gain: -inf\n",
      "[LightGBM] [Warning] No further splits with positive gain, best gain: -inf\n",
      "[LightGBM] [Warning] No further splits with positive gain, best gain: -inf\n",
      "[LightGBM] [Warning] No further splits with positive gain, best gain: -inf\n",
      "[LightGBM] [Warning] No further splits with positive gain, best gain: -inf\n",
      "[LightGBM] [Warning] No further splits with positive gain, best gain: -inf\n",
      "[LightGBM] [Warning] No further splits with positive gain, best gain: -inf\n",
      "[LightGBM] [Warning] No further splits with positive gain, best gain: -inf\n",
      "[LightGBM] [Warning] No further splits with positive gain, best gain: -inf\n",
      "[LightGBM] [Warning] No further splits with positive gain, best gain: -inf\n",
      "[LightGBM] [Warning] No further splits with positive gain, best gain: -inf\n",
      "[LightGBM] [Warning] No further splits with positive gain, best gain: -inf\n",
      "[LightGBM] [Warning] No further splits with positive gain, best gain: -inf\n",
      "[LightGBM] [Warning] No further splits with positive gain, best gain: -inf\n",
      "[LightGBM] [Warning] No further splits with positive gain, best gain: -inf\n",
      "[LightGBM] [Warning] No further splits with positive gain, best gain: -inf\n",
      "[LightGBM] [Warning] No further splits with positive gain, best gain: -inf\n",
      "[LightGBM] [Warning] No further splits with positive gain, best gain: -inf\n",
      "[LightGBM] [Warning] No further splits with positive gain, best gain: -inf\n",
      "[LightGBM] [Warning] No further splits with positive gain, best gain: -inf\n",
      "[LightGBM] [Warning] No further splits with positive gain, best gain: -inf\n",
      "[LightGBM] [Warning] No further splits with positive gain, best gain: -inf\n",
      "[LightGBM] [Warning] No further splits with positive gain, best gain: -inf\n",
      "[LightGBM] [Warning] No further splits with positive gain, best gain: -inf\n",
      "[LightGBM] [Warning] No further splits with positive gain, best gain: -inf\n",
      "[LightGBM] [Warning] No further splits with positive gain, best gain: -inf\n",
      "[LightGBM] [Warning] No further splits with positive gain, best gain: -inf\n",
      "[LightGBM] [Warning] No further splits with positive gain, best gain: -inf\n",
      "[LightGBM] [Warning] No further splits with positive gain, best gain: -inf\n",
      "[LightGBM] [Warning] No further splits with positive gain, best gain: -inf\n",
      "[LightGBM] [Warning] No further splits with positive gain, best gain: -inf\n",
      "[LightGBM] [Warning] No further splits with positive gain, best gain: -inf\n",
      "[LightGBM] [Warning] No further splits with positive gain, best gain: -inf\n",
      "[LightGBM] [Warning] No further splits with positive gain, best gain: -inf\n",
      "[LightGBM] [Warning] No further splits with positive gain, best gain: -inf\n",
      "[LightGBM] [Warning] No further splits with positive gain, best gain: -inf\n",
      "[LightGBM] [Warning] No further splits with positive gain, best gain: -inf\n",
      "[LightGBM] [Warning] No further splits with positive gain, best gain: -inf\n",
      "[LightGBM] [Warning] No further splits with positive gain, best gain: -inf\n",
      "[LightGBM] [Warning] No further splits with positive gain, best gain: -inf\n",
      "[LightGBM] [Warning] No further splits with positive gain, best gain: -inf\n",
      "[LightGBM] [Warning] No further splits with positive gain, best gain: -inf\n",
      "[LightGBM] [Warning] No further splits with positive gain, best gain: -inf\n",
      "[LightGBM] [Warning] No further splits with positive gain, best gain: -inf\n",
      "[LightGBM] [Warning] No further splits with positive gain, best gain: -inf\n",
      "[LightGBM] [Warning] No further splits with positive gain, best gain: -inf\n",
      "[LightGBM] [Warning] No further splits with positive gain, best gain: -inf\n",
      "[LightGBM] [Warning] No further splits with positive gain, best gain: -inf\n",
      "[LightGBM] [Warning] No further splits with positive gain, best gain: -inf\n",
      "[LightGBM] [Warning] No further splits with positive gain, best gain: -inf\n",
      "[LightGBM] [Warning] No further splits with positive gain, best gain: -inf\n",
      "[LightGBM] [Warning] No further splits with positive gain, best gain: -inf\n",
      "[LightGBM] [Warning] No further splits with positive gain, best gain: -inf\n",
      "[LightGBM] [Warning] No further splits with positive gain, best gain: -inf\n",
      "[LightGBM] [Warning] No further splits with positive gain, best gain: -inf\n",
      "[LightGBM] [Warning] No further splits with positive gain, best gain: -inf\n",
      "[LightGBM] [Warning] No further splits with positive gain, best gain: -inf\n",
      "[LightGBM] [Warning] No further splits with positive gain, best gain: -inf\n",
      "[LightGBM] [Warning] No further splits with positive gain, best gain: -inf\n",
      "[LightGBM] [Warning] No further splits with positive gain, best gain: -inf\n",
      "[LightGBM] [Warning] No further splits with positive gain, best gain: -inf\n",
      "[LightGBM] [Warning] No further splits with positive gain, best gain: -inf\n",
      "[LightGBM] [Warning] No further splits with positive gain, best gain: -inf\n",
      "[LightGBM] [Warning] No further splits with positive gain, best gain: -inf\n",
      "[LightGBM] [Warning] No further splits with positive gain, best gain: -inf\n",
      "[LightGBM] [Warning] No further splits with positive gain, best gain: -inf\n",
      "[LightGBM] [Warning] No further splits with positive gain, best gain: -inf\n",
      "[LightGBM] [Warning] No further splits with positive gain, best gain: -inf\n",
      "[LightGBM] [Warning] No further splits with positive gain, best gain: -inf\n",
      "[LightGBM] [Warning] No further splits with positive gain, best gain: -inf\n",
      "[LightGBM] [Warning] No further splits with positive gain, best gain: -inf\n",
      "[LightGBM] [Warning] No further splits with positive gain, best gain: -inf\n",
      "[LightGBM] [Warning] No further splits with positive gain, best gain: -inf\n",
      "[LightGBM] [Warning] No further splits with positive gain, best gain: -inf\n",
      "[LightGBM] [Warning] No further splits with positive gain, best gain: -inf\n",
      "[LightGBM] [Warning] No further splits with positive gain, best gain: -inf\n",
      "[LightGBM] [Warning] No further splits with positive gain, best gain: -inf\n",
      "[LightGBM] [Warning] No further splits with positive gain, best gain: -inf\n",
      "[LightGBM] [Warning] No further splits with positive gain, best gain: -inf\n",
      "[LightGBM] [Warning] No further splits with positive gain, best gain: -inf\n",
      "[LightGBM] [Warning] No further splits with positive gain, best gain: -inf\n",
      "[LightGBM] [Warning] No further splits with positive gain, best gain: -inf\n",
      "[LightGBM] [Warning] No further splits with positive gain, best gain: -inf\n",
      "[LightGBM] [Warning] No further splits with positive gain, best gain: -inf\n",
      "[LightGBM] [Warning] No further splits with positive gain, best gain: -inf\n",
      "[LightGBM] [Warning] No further splits with positive gain, best gain: -inf\n",
      "[LightGBM] [Warning] No further splits with positive gain, best gain: -inf\n"
     ]
    },
    {
     "data": {
      "text/plain": [
       "{'boosting_type': 'gbdt',\n",
       " 'class_weight': None,\n",
       " 'colsample_bytree': 1.0,\n",
       " 'importance_type': 'split',\n",
       " 'learning_rate': 0.1,\n",
       " 'max_depth': -1,\n",
       " 'min_child_samples': 20,\n",
       " 'min_child_weight': 0.001,\n",
       " 'min_split_gain': 0.0,\n",
       " 'n_estimators': 100,\n",
       " 'n_jobs': None,\n",
       " 'num_leaves': 31,\n",
       " 'objective': None,\n",
       " 'random_state': None,\n",
       " 'reg_alpha': 0.0,\n",
       " 'reg_lambda': 0.0,\n",
       " 'subsample': 1.0,\n",
       " 'subsample_for_bin': 200000,\n",
       " 'subsample_freq': 0}"
      ]
     },
     "execution_count": 95,
     "metadata": {},
     "output_type": "execute_result"
    }
   ],
   "source": [
    "lgbm_model = LGBMRegressor().fit(X_train,Y_train)\n",
    "lgbm_model.get_params()"
   ]
  },
  {
   "cell_type": "markdown",
   "metadata": {},
   "source": [
    "# MODEL TAHMİN\n"
   ]
  },
  {
   "cell_type": "code",
   "execution_count": 96,
   "metadata": {},
   "outputs": [
    {
     "data": {
      "text/plain": [
       "363.8712087611089"
      ]
     },
     "execution_count": 96,
     "metadata": {},
     "output_type": "execute_result"
    }
   ],
   "source": [
    "y_pred = lgbm_model.predict(X_test)\n",
    "np.sqrt(mean_squared_error(Y_test,y_pred))"
   ]
  },
  {
   "cell_type": "markdown",
   "metadata": {},
   "source": [
    "# MODEL TUNİNG\n",
    "\n",
    "En önemli parametreler\n",
    "* learning_rate: Ağaçların katkılarıyla ilgili bir değer. Daraltma adım boyunu ifade eder. \n",
    "* n_estimators : fit edilecek ağaç sayısı\n",
    "* bölünme işlemlerinde göz önünde bulunduralacak olan değişken sayısı\n",
    "* min_sample_split ve max_depth\n",
    "* colsample_bytree : Oluşturulacak olan ağaçlarda değişkenlerden alınacak olan alt küme oranını ifade eder."
   ]
  },
  {
   "cell_type": "code",
   "execution_count": 97,
   "metadata": {},
   "outputs": [
    {
     "data": {
      "text/plain": [
       "{'boosting_type': 'gbdt',\n",
       " 'class_weight': None,\n",
       " 'colsample_bytree': 1.0,\n",
       " 'importance_type': 'split',\n",
       " 'learning_rate': 0.1,\n",
       " 'max_depth': -1,\n",
       " 'min_child_samples': 20,\n",
       " 'min_child_weight': 0.001,\n",
       " 'min_split_gain': 0.0,\n",
       " 'n_estimators': 100,\n",
       " 'n_jobs': None,\n",
       " 'num_leaves': 31,\n",
       " 'objective': None,\n",
       " 'random_state': None,\n",
       " 'reg_alpha': 0.0,\n",
       " 'reg_lambda': 0.0,\n",
       " 'subsample': 1.0,\n",
       " 'subsample_for_bin': 200000,\n",
       " 'subsample_freq': 0}"
      ]
     },
     "execution_count": 97,
     "metadata": {},
     "output_type": "execute_result"
    }
   ],
   "source": [
    "lgbm_model.get_params()"
   ]
  },
  {
   "cell_type": "code",
   "execution_count": 98,
   "metadata": {},
   "outputs": [],
   "source": [
    "lgbm_params = {\"learning_rate\"   : [0.01,0.1,0.5,1],\n",
    "              \"max_depth\"       : [1,2,3,4,5,6,7,8,9,10],\n",
    "              \"n_estimators\"    : [20,40,100,200,500,1000]}"
   ]
  },
  {
   "cell_type": "code",
   "execution_count": 99,
   "metadata": {},
   "outputs": [
    {
     "name": "stdout",
     "output_type": "stream",
     "text": [
      "Fitting 10 folds for each of 240 candidates, totalling 2400 fits\n",
      "[LightGBM] [Info] Auto-choosing col-wise multi-threading, the overhead of testing was 0.000093 seconds.\n",
      "You can set `force_col_wise=true` to remove the overhead.\n",
      "[LightGBM] [Info] Total Bins 831\n",
      "[LightGBM] [Info] Number of data points in the train set: 197, number of used features: 19\n",
      "[LightGBM] [Info] Start training from score 543.483442\n",
      "[LightGBM] [Warning] No further splits with positive gain, best gain: -inf\n",
      "[LightGBM] [Warning] No further splits with positive gain, best gain: -inf\n",
      "[LightGBM] [Warning] No further splits with positive gain, best gain: -inf\n",
      "[LightGBM] [Warning] No further splits with positive gain, best gain: -inf\n",
      "[LightGBM] [Warning] No further splits with positive gain, best gain: -inf\n",
      "[LightGBM] [Warning] No further splits with positive gain, best gain: -inf\n",
      "[LightGBM] [Warning] No further splits with positive gain, best gain: -inf\n",
      "[LightGBM] [Warning] No further splits with positive gain, best gain: -inf\n",
      "[LightGBM] [Warning] No further splits with positive gain, best gain: -inf\n",
      "[LightGBM] [Warning] No further splits with positive gain, best gain: -inf\n",
      "[LightGBM] [Warning] No further splits with positive gain, best gain: -inf\n",
      "[LightGBM] [Warning] No further splits with positive gain, best gain: -inf\n",
      "[LightGBM] [Warning] No further splits with positive gain, best gain: -inf\n",
      "[LightGBM] [Warning] No further splits with positive gain, best gain: -inf\n",
      "[LightGBM] [Warning] No further splits with positive gain, best gain: -inf\n",
      "[LightGBM] [Warning] No further splits with positive gain, best gain: -inf\n",
      "[LightGBM] [Warning] No further splits with positive gain, best gain: -inf\n",
      "[LightGBM] [Warning] No further splits with positive gain, best gain: -inf\n",
      "[LightGBM] [Warning] No further splits with positive gain, best gain: -inf\n",
      "[LightGBM] [Warning] No further splits with positive gain, best gain: -inf\n"
     ]
    }
   ],
   "source": [
    "lgbm_cv_model = GridSearchCV(lgbm_model,lgbm_params,cv=10,n_jobs=-1,verbose=2).fit(X_train,Y_train)"
   ]
  },
  {
   "cell_type": "code",
   "execution_count": 100,
   "metadata": {},
   "outputs": [
    {
     "data": {
      "text/plain": [
       "{'learning_rate': 0.1, 'max_depth': 6, 'n_estimators': 20}"
      ]
     },
     "execution_count": 100,
     "metadata": {},
     "output_type": "execute_result"
    }
   ],
   "source": [
    "lgbm_cv_model.best_params_"
   ]
  },
  {
   "cell_type": "code",
   "execution_count": 101,
   "metadata": {},
   "outputs": [],
   "source": [
    "lgbm_tuned_model = XGBRegressor(learning_rate      = 0.1,\n",
    "                               max_depth           = 6,\n",
    "                               n_estimators        = 20).fit(X_train,Y_train)"
   ]
  },
  {
   "cell_type": "code",
   "execution_count": 102,
   "metadata": {},
   "outputs": [
    {
     "data": {
      "text/plain": [
       "363.769657767386"
      ]
     },
     "execution_count": 102,
     "metadata": {},
     "output_type": "execute_result"
    }
   ],
   "source": [
    "y_pred = lgbm_tuned_model.predict(X_test)\n",
    "np.sqrt(mean_squared_error(Y_test,y_pred))"
   ]
  },
  {
   "cell_type": "markdown",
   "metadata": {},
   "source": [
    "### DEĞİŞKEN ÖNEM DÜZEYİ"
   ]
  },
  {
   "cell_type": "code",
   "execution_count": 103,
   "metadata": {},
   "outputs": [
    {
     "data": {
      "text/plain": [
       "array([ 2.5473557,  3.1044617,  0.5653238,  3.6478639,  3.9217327,\n",
       "        2.5707123,  2.4838166,  1.8366364, 55.182808 ,  2.7334545,\n",
       "        0.9102957,  7.7248325,  2.5086975,  4.3140335,  2.258346 ,\n",
       "        0.5455021,  0.9208686,  1.4082441,  0.8150127], dtype=float32)"
      ]
     },
     "execution_count": 103,
     "metadata": {},
     "output_type": "execute_result"
    }
   ],
   "source": [
    "lgbm_tuned_model.feature_importances_*100"
   ]
  },
  {
   "cell_type": "code",
   "execution_count": 104,
   "metadata": {},
   "outputs": [
    {
     "data": {
      "image/png": "[encoded data removed]",
      "text/plain": [
       "<Figure size 640x480 with 1 Axes>"
      ]
     },
     "metadata": {},
     "output_type": "display_data"
    }
   ],
   "source": [
    "Importance = pd.DataFrame({\"Importance\":lgbm_tuned_model.feature_importances_*100},\n",
    "                          index=X_train.columns)\n",
    "\n",
    "Importance.sort_values(by =\"Importance\",\n",
    "                       axis=0,\n",
    "                       ascending=True).plot(kind=\"barh\",\n",
    "                                            color =\"r\")\n",
    "\n",
    "plt.xlabel(\"Variable Importance\")\n",
    "plt.gca().legend_ = None"
   ]
  },
  {
   "cell_type": "markdown",
   "metadata": {},
   "source": [
    "---\n",
    "#   CATEGORY BOOSTING (CATBOOST)\n",
    "---"
   ]
  },
  {
   "cell_type": "code",
   "execution_count": 105,
   "metadata": {},
   "outputs": [],
   "source": [
    "df  = pd.read_csv(\"../linear_regression/Hitters.csv\")                            #veriyi oku\n",
    "df  = df.dropna()                                           #eksik değerleri at\n",
    "dms = pd.get_dummies(df[[\"League\",\"Division\",\"NewLeague\"]]) # Kategorik değişkenleri dummy değişkenlere dönüştür\n",
    "                                                            # Bu adım, kategorik değişkenlerin sağladığı bilgiyi daha iyi alabilmek için one-hot encoding uygular\n",
    "Y   = df[\"Salary\"]                                          # bağımlı değişken\n",
    "X_  = df.drop([\"Salary\",\"League\",\"Division\",\"NewLeague\"], axis=1).astype(\"float64\") #kategorik ve bağımlı değişkeni çıkartarak X_ değişkenine atadık.\n",
    "X   = pd.concat([X_,dms[[\"League_N\",\"Division_W\",\"NewLeague_N\"]]],axis=1)           # Bağımsız değişkenlerin son halini oluşturmak için, \n",
    "                                                                                    # dummy değişkenleri (kategorik değişkenlerin dönüştürülmüş halleri) X_'e ekle \n",
    "X_train, X_test, Y_train, Y_test = train_test_split(X,\n",
    "                                                    Y,\n",
    "                                                    test_size=0.25,\n",
    "                                                    random_state=42) # %25 test için ayrıldı."
   ]
  },
  {
   "cell_type": "markdown",
   "metadata": {},
   "source": [
    "# MODEL KURMA"
   ]
  },
  {
   "cell_type": "code",
   "execution_count": 106,
   "metadata": {},
   "outputs": [
    {
     "name": "stdout",
     "output_type": "stream",
     "text": [
      "Learning rate set to 0.031674\n",
      "0:\tlearn: 437.6430699\ttotal: 158ms\tremaining: 2m 37s\n",
      "1:\tlearn: 431.3923642\ttotal: 158ms\tremaining: 1m 19s\n",
      "2:\tlearn: 424.8820360\ttotal: 159ms\tremaining: 53s\n",
      "3:\tlearn: 418.2514904\ttotal: 160ms\tremaining: 39.9s\n",
      "4:\tlearn: 412.6394021\ttotal: 161ms\tremaining: 32.1s\n",
      "5:\tlearn: 406.6247020\ttotal: 162ms\tremaining: 26.8s\n",
      "6:\tlearn: 400.5321206\ttotal: 163ms\tremaining: 23.1s\n",
      "7:\tlearn: 394.6683437\ttotal: 164ms\tremaining: 20.3s\n",
      "8:\tlearn: 388.2496484\ttotal: 165ms\tremaining: 18.1s\n",
      "9:\tlearn: 382.9448842\ttotal: 165ms\tremaining: 16.4s\n",
      "10:\tlearn: 377.2600080\ttotal: 166ms\tremaining: 14.9s\n",
      "11:\tlearn: 372.4829606\ttotal: 167ms\tremaining: 13.7s\n",
      "12:\tlearn: 366.6823437\ttotal: 168ms\tremaining: 12.7s\n",
      "13:\tlearn: 362.6076230\ttotal: 169ms\tremaining: 11.9s\n",
      "14:\tlearn: 358.0107745\ttotal: 169ms\tremaining: 11.1s\n",
      "15:\tlearn: 353.2802665\ttotal: 171ms\tremaining: 10.5s\n",
      "16:\tlearn: 348.5646265\ttotal: 171ms\tremaining: 9.91s\n",
      "17:\tlearn: 343.6407912\ttotal: 172ms\tremaining: 9.4s\n",
      "18:\tlearn: 339.2363847\ttotal: 173ms\tremaining: 8.93s\n",
      "19:\tlearn: 334.3431252\ttotal: 174ms\tremaining: 8.51s\n",
      "20:\tlearn: 330.3247028\ttotal: 174ms\tremaining: 8.13s\n",
      "21:\tlearn: 326.6118334\ttotal: 175ms\tremaining: 7.8s\n",
      "22:\tlearn: 322.7759981\ttotal: 176ms\tremaining: 7.48s\n",
      "23:\tlearn: 318.9511822\ttotal: 177ms\tremaining: 7.21s\n",
      "24:\tlearn: 315.4216253\ttotal: 178ms\tremaining: 6.94s\n",
      "25:\tlearn: 311.3551377\ttotal: 179ms\tremaining: 6.7s\n",
      "26:\tlearn: 308.1492371\ttotal: 180ms\tremaining: 6.47s\n",
      "27:\tlearn: 304.7284729\ttotal: 181ms\tremaining: 6.27s\n",
      "28:\tlearn: 301.3893204\ttotal: 181ms\tremaining: 6.07s\n",
      "29:\tlearn: 298.2080758\ttotal: 182ms\tremaining: 5.89s\n",
      "30:\tlearn: 295.6878398\ttotal: 183ms\tremaining: 5.72s\n",
      "31:\tlearn: 292.3912243\ttotal: 184ms\tremaining: 5.56s\n",
      "32:\tlearn: 289.6345744\ttotal: 185ms\tremaining: 5.41s\n",
      "33:\tlearn: 287.2158711\ttotal: 186ms\tremaining: 5.27s\n",
      "34:\tlearn: 284.3879081\ttotal: 186ms\tremaining: 5.14s\n",
      "35:\tlearn: 281.7994818\ttotal: 187ms\tremaining: 5.01s\n",
      "36:\tlearn: 279.2028261\ttotal: 188ms\tremaining: 4.89s\n",
      "37:\tlearn: 276.5821160\ttotal: 189ms\tremaining: 4.78s\n",
      "38:\tlearn: 273.8890894\ttotal: 189ms\tremaining: 4.67s\n",
      "39:\tlearn: 271.1681677\ttotal: 190ms\tremaining: 4.56s\n",
      "40:\tlearn: 269.0159531\ttotal: 191ms\tremaining: 4.47s\n",
      "41:\tlearn: 266.3601804\ttotal: 192ms\tremaining: 4.38s\n",
      "42:\tlearn: 263.8608958\ttotal: 193ms\tremaining: 4.29s\n",
      "43:\tlearn: 261.1405566\ttotal: 194ms\tremaining: 4.21s\n",
      "44:\tlearn: 258.9314736\ttotal: 194ms\tremaining: 4.13s\n",
      "45:\tlearn: 256.3885577\ttotal: 195ms\tremaining: 4.05s\n",
      "46:\tlearn: 254.2857349\ttotal: 196ms\tremaining: 3.98s\n",
      "47:\tlearn: 252.2347121\ttotal: 198ms\tremaining: 3.92s\n",
      "48:\tlearn: 250.1779367\ttotal: 198ms\tremaining: 3.85s\n",
      "49:\tlearn: 248.2687430\ttotal: 199ms\tremaining: 3.78s\n",
      "50:\tlearn: 246.3685582\ttotal: 200ms\tremaining: 3.72s\n",
      "51:\tlearn: 244.8719988\ttotal: 201ms\tremaining: 3.66s\n",
      "52:\tlearn: 242.7348892\ttotal: 201ms\tremaining: 3.6s\n",
      "53:\tlearn: 241.1611112\ttotal: 202ms\tremaining: 3.54s\n",
      "54:\tlearn: 239.4819462\ttotal: 203ms\tremaining: 3.49s\n",
      "55:\tlearn: 237.3877895\ttotal: 204ms\tremaining: 3.44s\n",
      "56:\tlearn: 235.7619262\ttotal: 205ms\tremaining: 3.38s\n",
      "57:\tlearn: 233.9604804\ttotal: 205ms\tremaining: 3.33s\n",
      "58:\tlearn: 232.4948011\ttotal: 206ms\tremaining: 3.28s\n",
      "59:\tlearn: 230.6283304\ttotal: 207ms\tremaining: 3.24s\n",
      "60:\tlearn: 228.9920307\ttotal: 208ms\tremaining: 3.2s\n",
      "61:\tlearn: 227.5197637\ttotal: 208ms\tremaining: 3.15s\n",
      "62:\tlearn: 226.0561213\ttotal: 209ms\tremaining: 3.11s\n",
      "63:\tlearn: 224.3484762\ttotal: 210ms\tremaining: 3.07s\n",
      "64:\tlearn: 223.0652023\ttotal: 211ms\tremaining: 3.03s\n",
      "65:\tlearn: 221.6608069\ttotal: 212ms\tremaining: 2.99s\n",
      "66:\tlearn: 220.2445284\ttotal: 212ms\tremaining: 2.96s\n",
      "67:\tlearn: 219.0044262\ttotal: 213ms\tremaining: 2.92s\n",
      "68:\tlearn: 217.4624313\ttotal: 214ms\tremaining: 2.89s\n",
      "69:\tlearn: 216.0502248\ttotal: 215ms\tremaining: 2.85s\n",
      "70:\tlearn: 214.5361705\ttotal: 216ms\tremaining: 2.82s\n",
      "71:\tlearn: 213.1812509\ttotal: 216ms\tremaining: 2.79s\n",
      "72:\tlearn: 211.7399390\ttotal: 217ms\tremaining: 2.75s\n",
      "73:\tlearn: 210.5557639\ttotal: 218ms\tremaining: 2.73s\n",
      "74:\tlearn: 209.4242283\ttotal: 219ms\tremaining: 2.69s\n",
      "75:\tlearn: 208.4366109\ttotal: 219ms\tremaining: 2.67s\n",
      "76:\tlearn: 207.4514860\ttotal: 220ms\tremaining: 2.64s\n",
      "77:\tlearn: 206.1912213\ttotal: 221ms\tremaining: 2.61s\n",
      "78:\tlearn: 205.2585316\ttotal: 221ms\tremaining: 2.58s\n",
      "79:\tlearn: 203.8747879\ttotal: 222ms\tremaining: 2.56s\n",
      "80:\tlearn: 202.5993031\ttotal: 223ms\tremaining: 2.53s\n",
      "81:\tlearn: 201.4719061\ttotal: 224ms\tremaining: 2.51s\n",
      "82:\tlearn: 200.2871874\ttotal: 225ms\tremaining: 2.48s\n",
      "83:\tlearn: 199.1074683\ttotal: 226ms\tremaining: 2.46s\n",
      "84:\tlearn: 197.8511342\ttotal: 226ms\tremaining: 2.44s\n",
      "85:\tlearn: 196.8788042\ttotal: 227ms\tremaining: 2.41s\n",
      "86:\tlearn: 195.9815130\ttotal: 228ms\tremaining: 2.39s\n",
      "87:\tlearn: 195.0807956\ttotal: 229ms\tremaining: 2.37s\n",
      "88:\tlearn: 193.9775466\ttotal: 229ms\tremaining: 2.35s\n",
      "89:\tlearn: 192.8810426\ttotal: 230ms\tremaining: 2.33s\n",
      "90:\tlearn: 192.5363626\ttotal: 231ms\tremaining: 2.31s\n",
      "91:\tlearn: 191.3259849\ttotal: 232ms\tremaining: 2.29s\n",
      "92:\tlearn: 190.3650025\ttotal: 232ms\tremaining: 2.27s\n",
      "93:\tlearn: 189.3255643\ttotal: 233ms\tremaining: 2.25s\n",
      "94:\tlearn: 188.2433480\ttotal: 234ms\tremaining: 2.23s\n",
      "95:\tlearn: 187.2786096\ttotal: 235ms\tremaining: 2.21s\n",
      "96:\tlearn: 186.1284681\ttotal: 235ms\tremaining: 2.19s\n",
      "97:\tlearn: 185.0190872\ttotal: 236ms\tremaining: 2.17s\n",
      "98:\tlearn: 184.2888024\ttotal: 237ms\tremaining: 2.16s\n",
      "99:\tlearn: 183.3111217\ttotal: 238ms\tremaining: 2.14s\n",
      "100:\tlearn: 182.2519940\ttotal: 239ms\tremaining: 2.12s\n",
      "101:\tlearn: 181.0186200\ttotal: 239ms\tremaining: 2.11s\n",
      "102:\tlearn: 179.9672344\ttotal: 240ms\tremaining: 2.09s\n",
      "103:\tlearn: 178.9776753\ttotal: 241ms\tremaining: 2.07s\n",
      "104:\tlearn: 178.2445101\ttotal: 242ms\tremaining: 2.06s\n",
      "105:\tlearn: 177.4055906\ttotal: 242ms\tremaining: 2.04s\n",
      "106:\tlearn: 176.2405445\ttotal: 243ms\tremaining: 2.03s\n",
      "107:\tlearn: 175.1813091\ttotal: 244ms\tremaining: 2.01s\n",
      "108:\tlearn: 174.5537682\ttotal: 245ms\tremaining: 2s\n",
      "109:\tlearn: 173.8231890\ttotal: 245ms\tremaining: 1.99s\n",
      "110:\tlearn: 172.9324461\ttotal: 246ms\tremaining: 1.97s\n",
      "111:\tlearn: 172.0019421\ttotal: 247ms\tremaining: 1.96s\n",
      "112:\tlearn: 171.2945678\ttotal: 248ms\tremaining: 1.94s\n",
      "113:\tlearn: 170.4815313\ttotal: 248ms\tremaining: 1.93s\n",
      "114:\tlearn: 169.9491294\ttotal: 249ms\tremaining: 1.92s\n",
      "115:\tlearn: 169.2483859\ttotal: 250ms\tremaining: 1.9s\n",
      "116:\tlearn: 168.7342383\ttotal: 251ms\tremaining: 1.89s\n",
      "117:\tlearn: 168.1837140\ttotal: 252ms\tremaining: 1.88s\n",
      "118:\tlearn: 167.1222358\ttotal: 252ms\tremaining: 1.87s\n",
      "119:\tlearn: 166.3472734\ttotal: 253ms\tremaining: 1.86s\n",
      "120:\tlearn: 165.5330342\ttotal: 254ms\tremaining: 1.84s\n",
      "121:\tlearn: 164.8476246\ttotal: 255ms\tremaining: 1.83s\n",
      "122:\tlearn: 164.2399797\ttotal: 255ms\tremaining: 1.82s\n",
      "123:\tlearn: 164.0121571\ttotal: 256ms\tremaining: 1.81s\n",
      "124:\tlearn: 162.9794212\ttotal: 257ms\tremaining: 1.8s\n",
      "125:\tlearn: 162.2095741\ttotal: 258ms\tremaining: 1.79s\n",
      "126:\tlearn: 161.1695920\ttotal: 258ms\tremaining: 1.78s\n",
      "127:\tlearn: 160.3516612\ttotal: 259ms\tremaining: 1.76s\n",
      "128:\tlearn: 159.1596356\ttotal: 260ms\tremaining: 1.75s\n",
      "129:\tlearn: 158.5354394\ttotal: 261ms\tremaining: 1.74s\n",
      "130:\tlearn: 157.5922383\ttotal: 262ms\tremaining: 1.73s\n",
      "131:\tlearn: 156.9689796\ttotal: 262ms\tremaining: 1.73s\n",
      "132:\tlearn: 156.4170623\ttotal: 263ms\tremaining: 1.72s\n",
      "133:\tlearn: 156.1222595\ttotal: 264ms\tremaining: 1.71s\n",
      "134:\tlearn: 155.5996569\ttotal: 265ms\tremaining: 1.7s\n",
      "135:\tlearn: 154.8990155\ttotal: 265ms\tremaining: 1.69s\n",
      "136:\tlearn: 154.3704896\ttotal: 266ms\tremaining: 1.68s\n",
      "137:\tlearn: 153.8560012\ttotal: 267ms\tremaining: 1.67s\n",
      "138:\tlearn: 153.2399938\ttotal: 268ms\tremaining: 1.66s\n",
      "139:\tlearn: 152.2142414\ttotal: 268ms\tremaining: 1.65s\n",
      "140:\tlearn: 151.5976950\ttotal: 269ms\tremaining: 1.64s\n",
      "141:\tlearn: 151.4426506\ttotal: 270ms\tremaining: 1.63s\n",
      "142:\tlearn: 150.8467135\ttotal: 271ms\tremaining: 1.62s\n",
      "143:\tlearn: 150.0175883\ttotal: 271ms\tremaining: 1.61s\n",
      "144:\tlearn: 149.6327647\ttotal: 272ms\tremaining: 1.6s\n",
      "145:\tlearn: 148.9265718\ttotal: 273ms\tremaining: 1.6s\n",
      "146:\tlearn: 148.4460764\ttotal: 274ms\tremaining: 1.59s\n",
      "147:\tlearn: 147.8108318\ttotal: 274ms\tremaining: 1.58s\n",
      "148:\tlearn: 147.2766525\ttotal: 275ms\tremaining: 1.57s\n",
      "149:\tlearn: 146.8537279\ttotal: 276ms\tremaining: 1.56s\n",
      "150:\tlearn: 146.0227438\ttotal: 277ms\tremaining: 1.55s\n",
      "151:\tlearn: 145.5603059\ttotal: 277ms\tremaining: 1.55s\n",
      "152:\tlearn: 145.0318400\ttotal: 278ms\tremaining: 1.54s\n",
      "153:\tlearn: 144.6082188\ttotal: 279ms\tremaining: 1.53s\n",
      "154:\tlearn: 144.2070501\ttotal: 280ms\tremaining: 1.52s\n",
      "155:\tlearn: 143.8060676\ttotal: 280ms\tremaining: 1.52s\n",
      "156:\tlearn: 143.3819707\ttotal: 281ms\tremaining: 1.51s\n",
      "157:\tlearn: 143.0764402\ttotal: 282ms\tremaining: 1.5s\n",
      "158:\tlearn: 142.4609449\ttotal: 283ms\tremaining: 1.5s\n",
      "159:\tlearn: 142.3321970\ttotal: 284ms\tremaining: 1.49s\n",
      "160:\tlearn: 141.9044208\ttotal: 284ms\tremaining: 1.48s\n",
      "161:\tlearn: 141.4544471\ttotal: 285ms\tremaining: 1.48s\n",
      "162:\tlearn: 140.9391569\ttotal: 286ms\tremaining: 1.47s\n",
      "163:\tlearn: 140.3413557\ttotal: 287ms\tremaining: 1.46s\n",
      "164:\tlearn: 139.7992277\ttotal: 287ms\tremaining: 1.45s\n",
      "165:\tlearn: 139.3139418\ttotal: 288ms\tremaining: 1.45s\n",
      "166:\tlearn: 139.1617594\ttotal: 289ms\tremaining: 1.44s\n",
      "167:\tlearn: 138.8837397\ttotal: 290ms\tremaining: 1.43s\n",
      "168:\tlearn: 138.6951410\ttotal: 290ms\tremaining: 1.43s\n",
      "169:\tlearn: 138.0167618\ttotal: 291ms\tremaining: 1.42s\n",
      "170:\tlearn: 137.7020324\ttotal: 292ms\tremaining: 1.41s\n",
      "171:\tlearn: 137.1976478\ttotal: 292ms\tremaining: 1.41s\n",
      "172:\tlearn: 136.6670434\ttotal: 293ms\tremaining: 1.4s\n",
      "173:\tlearn: 136.4670074\ttotal: 294ms\tremaining: 1.39s\n",
      "174:\tlearn: 136.0663779\ttotal: 295ms\tremaining: 1.39s\n",
      "175:\tlearn: 135.9542221\ttotal: 296ms\tremaining: 1.38s\n",
      "176:\tlearn: 135.6178437\ttotal: 297ms\tremaining: 1.38s\n",
      "177:\tlearn: 134.6062854\ttotal: 297ms\tremaining: 1.37s\n",
      "178:\tlearn: 134.5063344\ttotal: 298ms\tremaining: 1.37s\n",
      "179:\tlearn: 133.9371247\ttotal: 299ms\tremaining: 1.36s\n",
      "180:\tlearn: 133.8431589\ttotal: 299ms\tremaining: 1.35s\n",
      "181:\tlearn: 133.4293648\ttotal: 300ms\tremaining: 1.35s\n",
      "182:\tlearn: 133.2065999\ttotal: 301ms\tremaining: 1.34s\n",
      "183:\tlearn: 132.9235113\ttotal: 301ms\tremaining: 1.34s\n",
      "184:\tlearn: 132.6695944\ttotal: 302ms\tremaining: 1.33s\n",
      "185:\tlearn: 132.3135234\ttotal: 303ms\tremaining: 1.32s\n",
      "186:\tlearn: 132.2233433\ttotal: 303ms\tremaining: 1.32s\n",
      "187:\tlearn: 132.0628764\ttotal: 304ms\tremaining: 1.31s\n",
      "188:\tlearn: 131.8624217\ttotal: 305ms\tremaining: 1.31s\n",
      "189:\tlearn: 131.3846390\ttotal: 306ms\tremaining: 1.3s\n",
      "190:\tlearn: 131.0638781\ttotal: 307ms\tremaining: 1.3s\n",
      "191:\tlearn: 130.4721276\ttotal: 307ms\tremaining: 1.29s\n",
      "192:\tlearn: 129.9910319\ttotal: 308ms\tremaining: 1.29s\n",
      "193:\tlearn: 129.7074214\ttotal: 309ms\tremaining: 1.28s\n",
      "194:\tlearn: 129.0491404\ttotal: 310ms\tremaining: 1.28s\n",
      "195:\tlearn: 128.6928621\ttotal: 310ms\tremaining: 1.27s\n",
      "196:\tlearn: 128.5117514\ttotal: 312ms\tremaining: 1.27s\n",
      "197:\tlearn: 128.4035709\ttotal: 312ms\tremaining: 1.26s\n",
      "198:\tlearn: 127.9924182\ttotal: 313ms\tremaining: 1.26s\n",
      "199:\tlearn: 127.7690317\ttotal: 314ms\tremaining: 1.25s\n",
      "200:\tlearn: 127.6252249\ttotal: 315ms\tremaining: 1.25s\n",
      "201:\tlearn: 127.4951417\ttotal: 316ms\tremaining: 1.25s\n",
      "202:\tlearn: 127.0315349\ttotal: 317ms\tremaining: 1.24s\n",
      "203:\tlearn: 126.7791475\ttotal: 317ms\tremaining: 1.24s\n",
      "204:\tlearn: 126.4903107\ttotal: 318ms\tremaining: 1.23s\n",
      "205:\tlearn: 126.0664803\ttotal: 319ms\tremaining: 1.23s\n",
      "206:\tlearn: 125.3934071\ttotal: 320ms\tremaining: 1.22s\n",
      "207:\tlearn: 125.0899622\ttotal: 320ms\tremaining: 1.22s\n",
      "208:\tlearn: 124.7757310\ttotal: 321ms\tremaining: 1.21s\n",
      "209:\tlearn: 124.5475960\ttotal: 322ms\tremaining: 1.21s\n",
      "210:\tlearn: 124.1962887\ttotal: 323ms\tremaining: 1.21s\n",
      "211:\tlearn: 123.9686937\ttotal: 323ms\tremaining: 1.2s\n",
      "212:\tlearn: 123.0280048\ttotal: 324ms\tremaining: 1.2s\n",
      "213:\tlearn: 122.5447141\ttotal: 325ms\tremaining: 1.19s\n",
      "214:\tlearn: 122.1785305\ttotal: 326ms\tremaining: 1.19s\n",
      "215:\tlearn: 121.4403560\ttotal: 326ms\tremaining: 1.18s\n",
      "216:\tlearn: 120.8269584\ttotal: 327ms\tremaining: 1.18s\n",
      "217:\tlearn: 120.2399329\ttotal: 328ms\tremaining: 1.18s\n",
      "218:\tlearn: 119.4852557\ttotal: 329ms\tremaining: 1.17s\n",
      "219:\tlearn: 119.2094151\ttotal: 329ms\tremaining: 1.17s\n",
      "220:\tlearn: 119.0417229\ttotal: 330ms\tremaining: 1.16s\n",
      "221:\tlearn: 118.9557915\ttotal: 331ms\tremaining: 1.16s\n",
      "222:\tlearn: 118.3082421\ttotal: 331ms\tremaining: 1.15s\n",
      "223:\tlearn: 117.7364211\ttotal: 332ms\tremaining: 1.15s\n",
      "224:\tlearn: 117.6324235\ttotal: 333ms\tremaining: 1.15s\n",
      "225:\tlearn: 117.2879743\ttotal: 334ms\tremaining: 1.14s\n",
      "226:\tlearn: 117.0422612\ttotal: 335ms\tremaining: 1.14s\n",
      "227:\tlearn: 116.8001379\ttotal: 336ms\tremaining: 1.14s\n",
      "228:\tlearn: 116.4854978\ttotal: 337ms\tremaining: 1.13s\n",
      "229:\tlearn: 115.7559740\ttotal: 338ms\tremaining: 1.13s\n",
      "230:\tlearn: 115.1896271\ttotal: 338ms\tremaining: 1.13s\n",
      "231:\tlearn: 114.9666291\ttotal: 339ms\tremaining: 1.12s\n",
      "232:\tlearn: 114.1239318\ttotal: 340ms\tremaining: 1.12s\n",
      "233:\tlearn: 113.9964466\ttotal: 340ms\tremaining: 1.11s\n",
      "234:\tlearn: 113.8912592\ttotal: 341ms\tremaining: 1.11s\n",
      "235:\tlearn: 113.4606970\ttotal: 342ms\tremaining: 1.11s\n",
      "236:\tlearn: 113.0958922\ttotal: 343ms\tremaining: 1.1s\n",
      "237:\tlearn: 113.0091361\ttotal: 343ms\tremaining: 1.1s\n",
      "238:\tlearn: 112.7657197\ttotal: 344ms\tremaining: 1.1s\n",
      "239:\tlearn: 112.2315070\ttotal: 345ms\tremaining: 1.09s\n",
      "240:\tlearn: 111.9507125\ttotal: 346ms\tremaining: 1.09s\n",
      "241:\tlearn: 111.7384492\ttotal: 347ms\tremaining: 1.08s\n",
      "242:\tlearn: 111.0693763\ttotal: 347ms\tremaining: 1.08s\n",
      "243:\tlearn: 110.3499926\ttotal: 348ms\tremaining: 1.08s\n",
      "244:\tlearn: 110.2316231\ttotal: 349ms\tremaining: 1.07s\n",
      "245:\tlearn: 109.6985998\ttotal: 350ms\tremaining: 1.07s\n",
      "246:\tlearn: 109.4279824\ttotal: 351ms\tremaining: 1.07s\n",
      "247:\tlearn: 109.1466762\ttotal: 352ms\tremaining: 1.06s\n",
      "248:\tlearn: 108.9628542\ttotal: 352ms\tremaining: 1.06s\n",
      "249:\tlearn: 108.7268676\ttotal: 353ms\tremaining: 1.06s\n",
      "250:\tlearn: 108.0921190\ttotal: 354ms\tremaining: 1.05s\n",
      "251:\tlearn: 107.6167844\ttotal: 354ms\tremaining: 1.05s\n",
      "252:\tlearn: 106.9716563\ttotal: 355ms\tremaining: 1.05s\n",
      "253:\tlearn: 106.4272485\ttotal: 356ms\tremaining: 1.04s\n",
      "254:\tlearn: 106.2032614\ttotal: 357ms\tremaining: 1.04s\n",
      "255:\tlearn: 105.5756794\ttotal: 358ms\tremaining: 1.04s\n",
      "256:\tlearn: 105.4918649\ttotal: 359ms\tremaining: 1.04s\n",
      "257:\tlearn: 105.2466976\ttotal: 359ms\tremaining: 1.03s\n",
      "258:\tlearn: 105.0461428\ttotal: 360ms\tremaining: 1.03s\n",
      "259:\tlearn: 104.5887628\ttotal: 361ms\tremaining: 1.03s\n",
      "260:\tlearn: 104.1305873\ttotal: 362ms\tremaining: 1.02s\n",
      "261:\tlearn: 103.5527158\ttotal: 362ms\tremaining: 1.02s\n",
      "262:\tlearn: 103.0334823\ttotal: 363ms\tremaining: 1.02s\n",
      "263:\tlearn: 102.6732388\ttotal: 364ms\tremaining: 1.01s\n",
      "264:\tlearn: 102.4678728\ttotal: 364ms\tremaining: 1.01s\n",
      "265:\tlearn: 101.9608852\ttotal: 365ms\tremaining: 1.01s\n",
      "266:\tlearn: 101.4449668\ttotal: 366ms\tremaining: 1s\n",
      "267:\tlearn: 100.9647899\ttotal: 367ms\tremaining: 1s\n",
      "268:\tlearn: 100.4376357\ttotal: 368ms\tremaining: 1000ms\n",
      "269:\tlearn: 100.1038322\ttotal: 369ms\tremaining: 997ms\n",
      "270:\tlearn: 99.8991183\ttotal: 369ms\tremaining: 994ms\n",
      "271:\tlearn: 99.4016031\ttotal: 370ms\tremaining: 991ms\n",
      "272:\tlearn: 98.9231252\ttotal: 371ms\tremaining: 988ms\n",
      "273:\tlearn: 98.5734863\ttotal: 372ms\tremaining: 986ms\n",
      "274:\tlearn: 98.3333355\ttotal: 373ms\tremaining: 983ms\n",
      "275:\tlearn: 97.9164082\ttotal: 373ms\tremaining: 980ms\n",
      "276:\tlearn: 97.3911203\ttotal: 374ms\tremaining: 977ms\n",
      "277:\tlearn: 96.9317789\ttotal: 375ms\tremaining: 974ms\n",
      "278:\tlearn: 96.6243997\ttotal: 376ms\tremaining: 971ms\n",
      "279:\tlearn: 96.3288821\ttotal: 376ms\tremaining: 968ms\n",
      "280:\tlearn: 95.8579534\ttotal: 377ms\tremaining: 965ms\n",
      "281:\tlearn: 95.4136026\ttotal: 378ms\tremaining: 962ms\n",
      "282:\tlearn: 95.3442077\ttotal: 379ms\tremaining: 960ms\n",
      "283:\tlearn: 95.1166584\ttotal: 380ms\tremaining: 958ms\n",
      "284:\tlearn: 94.8017360\ttotal: 381ms\tremaining: 955ms\n",
      "285:\tlearn: 94.5863908\ttotal: 382ms\tremaining: 952ms\n",
      "286:\tlearn: 94.4111694\ttotal: 382ms\tremaining: 950ms\n",
      "287:\tlearn: 94.2678024\ttotal: 383ms\tremaining: 948ms\n",
      "288:\tlearn: 93.7753419\ttotal: 384ms\tremaining: 945ms\n",
      "289:\tlearn: 93.3772710\ttotal: 385ms\tremaining: 942ms\n",
      "290:\tlearn: 92.8750904\ttotal: 386ms\tremaining: 939ms\n",
      "291:\tlearn: 92.6654794\ttotal: 386ms\tremaining: 936ms\n",
      "292:\tlearn: 92.2659876\ttotal: 387ms\tremaining: 934ms\n",
      "293:\tlearn: 92.0282495\ttotal: 388ms\tremaining: 931ms\n",
      "294:\tlearn: 91.8288855\ttotal: 389ms\tremaining: 929ms\n",
      "295:\tlearn: 91.6752612\ttotal: 389ms\tremaining: 926ms\n",
      "296:\tlearn: 91.2561883\ttotal: 390ms\tremaining: 923ms\n",
      "297:\tlearn: 91.0227123\ttotal: 391ms\tremaining: 921ms\n",
      "298:\tlearn: 90.8392142\ttotal: 392ms\tremaining: 918ms\n",
      "299:\tlearn: 90.6853014\ttotal: 392ms\tremaining: 915ms\n",
      "300:\tlearn: 90.5986761\ttotal: 393ms\tremaining: 913ms\n",
      "301:\tlearn: 90.2180036\ttotal: 394ms\tremaining: 911ms\n",
      "302:\tlearn: 89.8313622\ttotal: 395ms\tremaining: 908ms\n",
      "303:\tlearn: 89.6872837\ttotal: 396ms\tremaining: 906ms\n",
      "304:\tlearn: 89.3853276\ttotal: 396ms\tremaining: 903ms\n",
      "305:\tlearn: 88.9459206\ttotal: 397ms\tremaining: 901ms\n",
      "306:\tlearn: 88.7258770\ttotal: 398ms\tremaining: 898ms\n",
      "307:\tlearn: 88.5374358\ttotal: 399ms\tremaining: 895ms\n",
      "308:\tlearn: 88.0624447\ttotal: 399ms\tremaining: 893ms\n",
      "309:\tlearn: 87.7942692\ttotal: 400ms\tremaining: 891ms\n",
      "310:\tlearn: 87.6354184\ttotal: 401ms\tremaining: 888ms\n",
      "311:\tlearn: 87.4879486\ttotal: 402ms\tremaining: 886ms\n",
      "312:\tlearn: 87.0294739\ttotal: 402ms\tremaining: 883ms\n",
      "313:\tlearn: 86.6746221\ttotal: 403ms\tremaining: 881ms\n",
      "314:\tlearn: 86.2792146\ttotal: 404ms\tremaining: 878ms\n",
      "315:\tlearn: 86.2127070\ttotal: 405ms\tremaining: 876ms\n",
      "316:\tlearn: 86.1507368\ttotal: 405ms\tremaining: 873ms\n",
      "317:\tlearn: 85.7089141\ttotal: 406ms\tremaining: 871ms\n",
      "318:\tlearn: 85.6035137\ttotal: 407ms\tremaining: 869ms\n",
      "319:\tlearn: 85.3587988\ttotal: 408ms\tremaining: 866ms\n",
      "320:\tlearn: 84.9660906\ttotal: 408ms\tremaining: 864ms\n",
      "321:\tlearn: 84.5474713\ttotal: 409ms\tremaining: 861ms\n",
      "322:\tlearn: 84.1996852\ttotal: 410ms\tremaining: 859ms\n",
      "323:\tlearn: 84.0654282\ttotal: 411ms\tremaining: 857ms\n",
      "324:\tlearn: 83.7937327\ttotal: 411ms\tremaining: 855ms\n",
      "325:\tlearn: 83.5064288\ttotal: 412ms\tremaining: 852ms\n",
      "326:\tlearn: 83.3997655\ttotal: 413ms\tremaining: 850ms\n",
      "327:\tlearn: 83.2958622\ttotal: 414ms\tremaining: 848ms\n",
      "328:\tlearn: 82.9877578\ttotal: 414ms\tremaining: 845ms\n",
      "329:\tlearn: 82.6286638\ttotal: 415ms\tremaining: 843ms\n",
      "330:\tlearn: 82.2827132\ttotal: 416ms\tremaining: 841ms\n",
      "331:\tlearn: 82.0895251\ttotal: 417ms\tremaining: 839ms\n",
      "332:\tlearn: 82.0130649\ttotal: 418ms\tremaining: 837ms\n",
      "333:\tlearn: 81.6771734\ttotal: 419ms\tremaining: 835ms\n",
      "334:\tlearn: 81.3519124\ttotal: 419ms\tremaining: 832ms\n",
      "335:\tlearn: 81.0170326\ttotal: 420ms\tremaining: 830ms\n",
      "336:\tlearn: 80.6917886\ttotal: 421ms\tremaining: 828ms\n",
      "337:\tlearn: 80.3455177\ttotal: 422ms\tremaining: 826ms\n",
      "338:\tlearn: 80.0260727\ttotal: 422ms\tremaining: 824ms\n",
      "339:\tlearn: 79.9154748\ttotal: 423ms\tremaining: 822ms\n",
      "340:\tlearn: 79.7813079\ttotal: 424ms\tremaining: 819ms\n",
      "341:\tlearn: 79.3513293\ttotal: 425ms\tremaining: 817ms\n",
      "342:\tlearn: 78.8666019\ttotal: 425ms\tremaining: 815ms\n",
      "343:\tlearn: 78.7959013\ttotal: 426ms\tremaining: 813ms\n",
      "344:\tlearn: 78.7081334\ttotal: 427ms\tremaining: 811ms\n",
      "345:\tlearn: 78.3354931\ttotal: 428ms\tremaining: 809ms\n",
      "346:\tlearn: 77.9475067\ttotal: 429ms\tremaining: 806ms\n",
      "347:\tlearn: 77.8910420\ttotal: 429ms\tremaining: 804ms\n",
      "348:\tlearn: 77.5461672\ttotal: 430ms\tremaining: 802ms\n",
      "349:\tlearn: 77.3717101\ttotal: 431ms\tremaining: 800ms\n",
      "350:\tlearn: 77.0729657\ttotal: 431ms\tremaining: 798ms\n",
      "351:\tlearn: 76.7699287\ttotal: 432ms\tremaining: 796ms\n",
      "352:\tlearn: 76.6029759\ttotal: 433ms\tremaining: 794ms\n",
      "353:\tlearn: 76.1642615\ttotal: 434ms\tremaining: 791ms\n",
      "354:\tlearn: 76.1202523\ttotal: 434ms\tremaining: 789ms\n",
      "355:\tlearn: 75.9487132\ttotal: 435ms\tremaining: 787ms\n",
      "356:\tlearn: 75.6748479\ttotal: 436ms\tremaining: 785ms\n",
      "357:\tlearn: 75.4290864\ttotal: 437ms\tremaining: 783ms\n",
      "358:\tlearn: 75.0463849\ttotal: 438ms\tremaining: 782ms\n",
      "359:\tlearn: 74.9902381\ttotal: 439ms\tremaining: 780ms\n",
      "360:\tlearn: 74.5243875\ttotal: 439ms\tremaining: 778ms\n",
      "361:\tlearn: 74.1913065\ttotal: 440ms\tremaining: 776ms\n",
      "362:\tlearn: 73.8413359\ttotal: 441ms\tremaining: 773ms\n",
      "363:\tlearn: 73.7602119\ttotal: 441ms\tremaining: 771ms\n",
      "364:\tlearn: 73.3278135\ttotal: 442ms\tremaining: 769ms\n",
      "365:\tlearn: 72.9524336\ttotal: 443ms\tremaining: 767ms\n",
      "366:\tlearn: 72.6791856\ttotal: 444ms\tremaining: 766ms\n",
      "367:\tlearn: 72.4333577\ttotal: 445ms\tremaining: 764ms\n",
      "368:\tlearn: 72.1672937\ttotal: 445ms\tremaining: 762ms\n",
      "369:\tlearn: 71.9070276\ttotal: 446ms\tremaining: 759ms\n",
      "370:\tlearn: 71.5496196\ttotal: 447ms\tremaining: 757ms\n",
      "371:\tlearn: 71.3161902\ttotal: 447ms\tremaining: 755ms\n",
      "372:\tlearn: 71.1259191\ttotal: 448ms\tremaining: 753ms\n",
      "373:\tlearn: 70.9889962\ttotal: 449ms\tremaining: 751ms\n",
      "374:\tlearn: 70.7417966\ttotal: 450ms\tremaining: 750ms\n",
      "375:\tlearn: 70.4931174\ttotal: 450ms\tremaining: 748ms\n",
      "376:\tlearn: 70.3300576\ttotal: 451ms\tremaining: 746ms\n",
      "377:\tlearn: 69.9233248\ttotal: 452ms\tremaining: 744ms\n",
      "378:\tlearn: 69.6261005\ttotal: 453ms\tremaining: 742ms\n",
      "379:\tlearn: 69.3989708\ttotal: 454ms\tremaining: 740ms\n",
      "380:\tlearn: 69.0085387\ttotal: 454ms\tremaining: 738ms\n",
      "381:\tlearn: 68.7604153\ttotal: 455ms\tremaining: 736ms\n",
      "382:\tlearn: 68.4602767\ttotal: 456ms\tremaining: 734ms\n",
      "383:\tlearn: 68.1005452\ttotal: 457ms\tremaining: 732ms\n",
      "384:\tlearn: 68.0540467\ttotal: 457ms\tremaining: 730ms\n",
      "385:\tlearn: 67.8972753\ttotal: 458ms\tremaining: 729ms\n",
      "386:\tlearn: 67.5389629\ttotal: 459ms\tremaining: 727ms\n",
      "387:\tlearn: 67.2390178\ttotal: 460ms\tremaining: 725ms\n",
      "388:\tlearn: 67.0279888\ttotal: 460ms\tremaining: 723ms\n",
      "389:\tlearn: 66.8375919\ttotal: 461ms\tremaining: 721ms\n",
      "390:\tlearn: 66.4118315\ttotal: 462ms\tremaining: 720ms\n",
      "391:\tlearn: 66.3642690\ttotal: 463ms\tremaining: 718ms\n",
      "392:\tlearn: 66.1673138\ttotal: 464ms\tremaining: 716ms\n",
      "393:\tlearn: 66.0177482\ttotal: 464ms\tremaining: 714ms\n",
      "394:\tlearn: 65.8018038\ttotal: 465ms\tremaining: 713ms\n",
      "395:\tlearn: 65.6886505\ttotal: 466ms\tremaining: 711ms\n",
      "396:\tlearn: 65.6120185\ttotal: 467ms\tremaining: 709ms\n",
      "397:\tlearn: 65.5746662\ttotal: 468ms\tremaining: 707ms\n",
      "398:\tlearn: 65.2974851\ttotal: 468ms\tremaining: 705ms\n",
      "399:\tlearn: 65.2464764\ttotal: 469ms\tremaining: 704ms\n",
      "400:\tlearn: 65.1241314\ttotal: 470ms\tremaining: 702ms\n",
      "401:\tlearn: 65.0515740\ttotal: 471ms\tremaining: 700ms\n",
      "402:\tlearn: 64.8089636\ttotal: 472ms\tremaining: 699ms\n",
      "403:\tlearn: 64.5992230\ttotal: 472ms\tremaining: 697ms\n",
      "404:\tlearn: 64.2907010\ttotal: 473ms\tremaining: 695ms\n",
      "405:\tlearn: 64.1568642\ttotal: 474ms\tremaining: 693ms\n",
      "406:\tlearn: 63.8279106\ttotal: 475ms\tremaining: 692ms\n",
      "407:\tlearn: 63.5558565\ttotal: 476ms\tremaining: 690ms\n",
      "408:\tlearn: 63.3865445\ttotal: 477ms\tremaining: 689ms\n",
      "409:\tlearn: 63.2752408\ttotal: 477ms\tremaining: 687ms\n",
      "410:\tlearn: 63.1070190\ttotal: 478ms\tremaining: 686ms\n",
      "411:\tlearn: 62.7868376\ttotal: 479ms\tremaining: 684ms\n",
      "412:\tlearn: 62.5345803\ttotal: 480ms\tremaining: 682ms\n",
      "413:\tlearn: 62.2729058\ttotal: 481ms\tremaining: 680ms\n",
      "414:\tlearn: 61.9850985\ttotal: 482ms\tremaining: 679ms\n",
      "415:\tlearn: 61.7784164\ttotal: 482ms\tremaining: 677ms\n",
      "416:\tlearn: 61.7431976\ttotal: 483ms\tremaining: 675ms\n",
      "417:\tlearn: 61.4309964\ttotal: 484ms\tremaining: 674ms\n",
      "418:\tlearn: 61.3513660\ttotal: 484ms\tremaining: 672ms\n",
      "419:\tlearn: 61.1253739\ttotal: 485ms\tremaining: 670ms\n",
      "420:\tlearn: 61.0742571\ttotal: 486ms\tremaining: 668ms\n",
      "421:\tlearn: 61.0390980\ttotal: 487ms\tremaining: 667ms\n",
      "422:\tlearn: 61.0095757\ttotal: 488ms\tremaining: 666ms\n",
      "423:\tlearn: 60.6843255\ttotal: 489ms\tremaining: 664ms\n",
      "424:\tlearn: 60.4045551\ttotal: 489ms\tremaining: 662ms\n",
      "425:\tlearn: 60.3649587\ttotal: 490ms\tremaining: 660ms\n",
      "426:\tlearn: 60.3315828\ttotal: 491ms\tremaining: 659ms\n",
      "427:\tlearn: 60.1047027\ttotal: 492ms\tremaining: 657ms\n",
      "428:\tlearn: 59.9170736\ttotal: 493ms\tremaining: 656ms\n",
      "429:\tlearn: 59.6875648\ttotal: 494ms\tremaining: 654ms\n",
      "430:\tlearn: 59.6662150\ttotal: 494ms\tremaining: 652ms\n",
      "431:\tlearn: 59.4208112\ttotal: 495ms\tremaining: 651ms\n",
      "432:\tlearn: 59.2358034\ttotal: 496ms\tremaining: 649ms\n",
      "433:\tlearn: 58.9818868\ttotal: 497ms\tremaining: 648ms\n",
      "434:\tlearn: 58.7089433\ttotal: 497ms\tremaining: 646ms\n",
      "435:\tlearn: 58.5898817\ttotal: 498ms\tremaining: 645ms\n",
      "436:\tlearn: 58.5425342\ttotal: 499ms\tremaining: 643ms\n",
      "437:\tlearn: 58.2884605\ttotal: 500ms\tremaining: 641ms\n",
      "438:\tlearn: 58.2643873\ttotal: 501ms\tremaining: 640ms\n",
      "439:\tlearn: 58.2330868\ttotal: 501ms\tremaining: 638ms\n",
      "440:\tlearn: 57.9676592\ttotal: 502ms\tremaining: 636ms\n",
      "441:\tlearn: 57.7670212\ttotal: 503ms\tremaining: 635ms\n",
      "442:\tlearn: 57.5322464\ttotal: 504ms\tremaining: 634ms\n",
      "443:\tlearn: 57.2771620\ttotal: 505ms\tremaining: 632ms\n",
      "444:\tlearn: 57.0227885\ttotal: 505ms\tremaining: 630ms\n",
      "445:\tlearn: 56.7616770\ttotal: 506ms\tremaining: 629ms\n",
      "446:\tlearn: 56.7367450\ttotal: 507ms\tremaining: 627ms\n",
      "447:\tlearn: 56.6715001\ttotal: 508ms\tremaining: 626ms\n",
      "448:\tlearn: 56.4881346\ttotal: 509ms\tremaining: 624ms\n",
      "449:\tlearn: 56.3749776\ttotal: 510ms\tremaining: 623ms\n",
      "450:\tlearn: 56.2172319\ttotal: 510ms\tremaining: 621ms\n",
      "451:\tlearn: 55.9461925\ttotal: 511ms\tremaining: 620ms\n",
      "452:\tlearn: 55.8884270\ttotal: 512ms\tremaining: 618ms\n",
      "453:\tlearn: 55.7987432\ttotal: 513ms\tremaining: 617ms\n",
      "454:\tlearn: 55.7376337\ttotal: 513ms\tremaining: 615ms\n",
      "455:\tlearn: 55.5150595\ttotal: 514ms\tremaining: 614ms\n",
      "456:\tlearn: 55.4819680\ttotal: 515ms\tremaining: 612ms\n",
      "457:\tlearn: 55.1719919\ttotal: 516ms\tremaining: 610ms\n",
      "458:\tlearn: 55.1295759\ttotal: 517ms\tremaining: 609ms\n",
      "459:\tlearn: 55.0856302\ttotal: 517ms\tremaining: 607ms\n",
      "460:\tlearn: 54.8056235\ttotal: 518ms\tremaining: 606ms\n",
      "461:\tlearn: 54.4030407\ttotal: 519ms\tremaining: 604ms\n",
      "462:\tlearn: 54.3308204\ttotal: 520ms\tremaining: 603ms\n",
      "463:\tlearn: 54.0283724\ttotal: 520ms\tremaining: 601ms\n",
      "464:\tlearn: 53.9962714\ttotal: 521ms\tremaining: 600ms\n",
      "465:\tlearn: 53.8149476\ttotal: 522ms\tremaining: 598ms\n",
      "466:\tlearn: 53.7806209\ttotal: 523ms\tremaining: 597ms\n",
      "467:\tlearn: 53.7585727\ttotal: 523ms\tremaining: 595ms\n",
      "468:\tlearn: 53.5042777\ttotal: 524ms\tremaining: 593ms\n",
      "469:\tlearn: 53.3257034\ttotal: 525ms\tremaining: 592ms\n",
      "470:\tlearn: 53.0801119\ttotal: 526ms\tremaining: 591ms\n",
      "471:\tlearn: 53.0136550\ttotal: 527ms\tremaining: 589ms\n",
      "472:\tlearn: 52.9408930\ttotal: 527ms\tremaining: 587ms\n",
      "473:\tlearn: 52.7089062\ttotal: 528ms\tremaining: 586ms\n",
      "474:\tlearn: 52.6819781\ttotal: 529ms\tremaining: 584ms\n",
      "475:\tlearn: 52.5065568\ttotal: 530ms\tremaining: 583ms\n",
      "476:\tlearn: 52.3688770\ttotal: 530ms\tremaining: 581ms\n",
      "477:\tlearn: 52.2402473\ttotal: 531ms\tremaining: 580ms\n",
      "478:\tlearn: 52.1406517\ttotal: 532ms\tremaining: 579ms\n",
      "479:\tlearn: 52.1107144\ttotal: 533ms\tremaining: 577ms\n",
      "480:\tlearn: 51.9239449\ttotal: 534ms\tremaining: 576ms\n",
      "481:\tlearn: 51.7096820\ttotal: 534ms\tremaining: 574ms\n",
      "482:\tlearn: 51.6266918\ttotal: 535ms\tremaining: 573ms\n",
      "483:\tlearn: 51.5969797\ttotal: 536ms\tremaining: 571ms\n",
      "484:\tlearn: 51.4480162\ttotal: 537ms\tremaining: 570ms\n",
      "485:\tlearn: 51.2269261\ttotal: 538ms\tremaining: 569ms\n",
      "486:\tlearn: 50.9904632\ttotal: 539ms\tremaining: 567ms\n",
      "487:\tlearn: 50.9342043\ttotal: 539ms\tremaining: 566ms\n",
      "488:\tlearn: 50.8423680\ttotal: 540ms\tremaining: 564ms\n",
      "489:\tlearn: 50.7269788\ttotal: 541ms\tremaining: 563ms\n",
      "490:\tlearn: 50.5384699\ttotal: 542ms\tremaining: 562ms\n",
      "491:\tlearn: 50.5047793\ttotal: 543ms\tremaining: 560ms\n",
      "492:\tlearn: 50.3234448\ttotal: 544ms\tremaining: 559ms\n",
      "493:\tlearn: 50.1653421\ttotal: 544ms\tremaining: 558ms\n",
      "494:\tlearn: 49.9835558\ttotal: 545ms\tremaining: 556ms\n",
      "495:\tlearn: 49.8884283\ttotal: 546ms\tremaining: 555ms\n",
      "496:\tlearn: 49.6217364\ttotal: 547ms\tremaining: 553ms\n",
      "497:\tlearn: 49.5268562\ttotal: 548ms\tremaining: 552ms\n",
      "498:\tlearn: 49.3078402\ttotal: 549ms\tremaining: 551ms\n",
      "499:\tlearn: 49.2571676\ttotal: 549ms\tremaining: 549ms\n",
      "500:\tlearn: 49.2173141\ttotal: 550ms\tremaining: 548ms\n",
      "501:\tlearn: 48.9813103\ttotal: 551ms\tremaining: 547ms\n",
      "502:\tlearn: 48.8304542\ttotal: 552ms\tremaining: 545ms\n",
      "503:\tlearn: 48.7430936\ttotal: 553ms\tremaining: 544ms\n",
      "504:\tlearn: 48.5493989\ttotal: 554ms\tremaining: 543ms\n",
      "505:\tlearn: 48.5134839\ttotal: 554ms\tremaining: 541ms\n",
      "506:\tlearn: 48.3516141\ttotal: 555ms\tremaining: 540ms\n",
      "507:\tlearn: 48.0631542\ttotal: 556ms\tremaining: 538ms\n",
      "508:\tlearn: 47.8591880\ttotal: 557ms\tremaining: 537ms\n",
      "509:\tlearn: 47.7182444\ttotal: 557ms\tremaining: 535ms\n",
      "510:\tlearn: 47.6301870\ttotal: 558ms\tremaining: 534ms\n",
      "511:\tlearn: 47.4767324\ttotal: 559ms\tremaining: 533ms\n",
      "512:\tlearn: 47.2822625\ttotal: 560ms\tremaining: 531ms\n",
      "513:\tlearn: 47.1022658\ttotal: 561ms\tremaining: 530ms\n",
      "514:\tlearn: 47.0536181\ttotal: 561ms\tremaining: 529ms\n",
      "515:\tlearn: 47.0249559\ttotal: 562ms\tremaining: 527ms\n",
      "516:\tlearn: 46.8789720\ttotal: 563ms\tremaining: 526ms\n",
      "517:\tlearn: 46.7133769\ttotal: 565ms\tremaining: 525ms\n",
      "518:\tlearn: 46.5157986\ttotal: 566ms\tremaining: 524ms\n",
      "519:\tlearn: 46.3630405\ttotal: 566ms\tremaining: 523ms\n",
      "520:\tlearn: 46.1730188\ttotal: 567ms\tremaining: 522ms\n",
      "521:\tlearn: 46.1360908\ttotal: 568ms\tremaining: 520ms\n",
      "522:\tlearn: 45.9652487\ttotal: 569ms\tremaining: 519ms\n",
      "523:\tlearn: 45.8122703\ttotal: 570ms\tremaining: 518ms\n",
      "524:\tlearn: 45.4984451\ttotal: 571ms\tremaining: 516ms\n",
      "525:\tlearn: 45.3161076\ttotal: 572ms\tremaining: 515ms\n",
      "526:\tlearn: 45.2802854\ttotal: 572ms\tremaining: 514ms\n",
      "527:\tlearn: 45.2448275\ttotal: 573ms\tremaining: 512ms\n",
      "528:\tlearn: 45.0816321\ttotal: 574ms\tremaining: 511ms\n",
      "529:\tlearn: 44.9794319\ttotal: 575ms\tremaining: 510ms\n",
      "530:\tlearn: 44.6832140\ttotal: 576ms\tremaining: 508ms\n",
      "531:\tlearn: 44.4460046\ttotal: 576ms\tremaining: 507ms\n",
      "532:\tlearn: 44.2118287\ttotal: 577ms\tremaining: 506ms\n",
      "533:\tlearn: 44.0693524\ttotal: 578ms\tremaining: 504ms\n",
      "534:\tlearn: 43.7781614\ttotal: 579ms\tremaining: 503ms\n",
      "535:\tlearn: 43.5541731\ttotal: 580ms\tremaining: 502ms\n",
      "536:\tlearn: 43.5134866\ttotal: 580ms\tremaining: 500ms\n",
      "537:\tlearn: 43.3609810\ttotal: 581ms\tremaining: 499ms\n",
      "538:\tlearn: 43.1828364\ttotal: 582ms\tremaining: 498ms\n",
      "539:\tlearn: 43.1681810\ttotal: 582ms\tremaining: 496ms\n",
      "540:\tlearn: 43.0597548\ttotal: 583ms\tremaining: 495ms\n",
      "541:\tlearn: 43.0399237\ttotal: 584ms\tremaining: 493ms\n",
      "542:\tlearn: 42.7955247\ttotal: 585ms\tremaining: 492ms\n",
      "543:\tlearn: 42.5339065\ttotal: 585ms\tremaining: 491ms\n",
      "544:\tlearn: 42.4295635\ttotal: 586ms\tremaining: 489ms\n",
      "545:\tlearn: 42.2338376\ttotal: 587ms\tremaining: 488ms\n",
      "546:\tlearn: 42.0124060\ttotal: 588ms\tremaining: 487ms\n",
      "547:\tlearn: 41.8255183\ttotal: 589ms\tremaining: 485ms\n",
      "548:\tlearn: 41.6388681\ttotal: 589ms\tremaining: 484ms\n",
      "549:\tlearn: 41.4001270\ttotal: 590ms\tremaining: 483ms\n",
      "550:\tlearn: 41.1013528\ttotal: 591ms\tremaining: 481ms\n",
      "551:\tlearn: 41.0100295\ttotal: 592ms\tremaining: 480ms\n",
      "552:\tlearn: 40.9906076\ttotal: 593ms\tremaining: 479ms\n",
      "553:\tlearn: 40.8809109\ttotal: 593ms\tremaining: 478ms\n",
      "554:\tlearn: 40.7831302\ttotal: 594ms\tremaining: 476ms\n",
      "555:\tlearn: 40.7317763\ttotal: 595ms\tremaining: 475ms\n",
      "556:\tlearn: 40.6321710\ttotal: 595ms\tremaining: 474ms\n",
      "557:\tlearn: 40.4475073\ttotal: 596ms\tremaining: 472ms\n",
      "558:\tlearn: 40.2859957\ttotal: 597ms\tremaining: 471ms\n",
      "559:\tlearn: 40.0262057\ttotal: 598ms\tremaining: 470ms\n",
      "560:\tlearn: 39.9326350\ttotal: 599ms\tremaining: 468ms\n",
      "561:\tlearn: 39.8735956\ttotal: 599ms\tremaining: 467ms\n",
      "562:\tlearn: 39.7083019\ttotal: 600ms\tremaining: 466ms\n",
      "563:\tlearn: 39.5379855\ttotal: 601ms\tremaining: 465ms\n",
      "564:\tlearn: 39.3451301\ttotal: 602ms\tremaining: 463ms\n",
      "565:\tlearn: 39.2041273\ttotal: 603ms\tremaining: 462ms\n",
      "566:\tlearn: 38.9870162\ttotal: 603ms\tremaining: 461ms\n",
      "567:\tlearn: 38.8638040\ttotal: 604ms\tremaining: 460ms\n",
      "568:\tlearn: 38.7752116\ttotal: 605ms\tremaining: 458ms\n",
      "569:\tlearn: 38.6530297\ttotal: 606ms\tremaining: 457ms\n",
      "570:\tlearn: 38.5505372\ttotal: 607ms\tremaining: 456ms\n",
      "571:\tlearn: 38.5134486\ttotal: 607ms\tremaining: 454ms\n",
      "572:\tlearn: 38.3680902\ttotal: 608ms\tremaining: 453ms\n",
      "573:\tlearn: 38.1897295\ttotal: 609ms\tremaining: 452ms\n",
      "574:\tlearn: 38.1083536\ttotal: 610ms\tremaining: 451ms\n",
      "575:\tlearn: 37.9229216\ttotal: 610ms\tremaining: 449ms\n",
      "576:\tlearn: 37.8377087\ttotal: 611ms\tremaining: 448ms\n",
      "577:\tlearn: 37.7966900\ttotal: 612ms\tremaining: 447ms\n",
      "578:\tlearn: 37.6700761\ttotal: 613ms\tremaining: 446ms\n",
      "579:\tlearn: 37.6355177\ttotal: 613ms\tremaining: 444ms\n",
      "580:\tlearn: 37.4648199\ttotal: 614ms\tremaining: 443ms\n",
      "581:\tlearn: 37.2959505\ttotal: 615ms\tremaining: 442ms\n",
      "582:\tlearn: 37.1423961\ttotal: 616ms\tremaining: 440ms\n",
      "583:\tlearn: 36.9297315\ttotal: 617ms\tremaining: 439ms\n",
      "584:\tlearn: 36.8850382\ttotal: 617ms\tremaining: 438ms\n",
      "585:\tlearn: 36.7546519\ttotal: 618ms\tremaining: 437ms\n",
      "586:\tlearn: 36.7377554\ttotal: 619ms\tremaining: 436ms\n",
      "587:\tlearn: 36.6899102\ttotal: 620ms\tremaining: 434ms\n",
      "588:\tlearn: 36.5617094\ttotal: 620ms\tremaining: 433ms\n",
      "589:\tlearn: 36.4272921\ttotal: 621ms\tremaining: 432ms\n",
      "590:\tlearn: 36.2657889\ttotal: 622ms\tremaining: 430ms\n",
      "591:\tlearn: 36.2539345\ttotal: 622ms\tremaining: 429ms\n",
      "592:\tlearn: 36.2314399\ttotal: 623ms\tremaining: 428ms\n",
      "593:\tlearn: 36.0683824\ttotal: 624ms\tremaining: 426ms\n",
      "594:\tlearn: 35.9283095\ttotal: 625ms\tremaining: 425ms\n",
      "595:\tlearn: 35.7968288\ttotal: 626ms\tremaining: 424ms\n",
      "596:\tlearn: 35.7223423\ttotal: 626ms\tremaining: 423ms\n",
      "597:\tlearn: 35.5848854\ttotal: 627ms\tremaining: 422ms\n",
      "598:\tlearn: 35.4754344\ttotal: 628ms\tremaining: 420ms\n",
      "599:\tlearn: 35.3533890\ttotal: 629ms\tremaining: 419ms\n",
      "600:\tlearn: 35.2201505\ttotal: 630ms\tremaining: 418ms\n",
      "601:\tlearn: 35.0873272\ttotal: 631ms\tremaining: 417ms\n",
      "602:\tlearn: 35.0461873\ttotal: 631ms\tremaining: 416ms\n",
      "603:\tlearn: 34.9273071\ttotal: 632ms\tremaining: 415ms\n",
      "604:\tlearn: 34.8162855\ttotal: 633ms\tremaining: 413ms\n",
      "605:\tlearn: 34.7130059\ttotal: 634ms\tremaining: 412ms\n",
      "606:\tlearn: 34.5585617\ttotal: 635ms\tremaining: 411ms\n",
      "607:\tlearn: 34.4611907\ttotal: 636ms\tremaining: 410ms\n",
      "608:\tlearn: 34.4326546\ttotal: 637ms\tremaining: 409ms\n",
      "609:\tlearn: 34.2846979\ttotal: 637ms\tremaining: 408ms\n",
      "610:\tlearn: 34.1734501\ttotal: 638ms\tremaining: 406ms\n",
      "611:\tlearn: 34.0230965\ttotal: 639ms\tremaining: 405ms\n",
      "612:\tlearn: 33.8282501\ttotal: 640ms\tremaining: 404ms\n",
      "613:\tlearn: 33.7746747\ttotal: 641ms\tremaining: 403ms\n",
      "614:\tlearn: 33.7068386\ttotal: 641ms\tremaining: 402ms\n",
      "615:\tlearn: 33.5780800\ttotal: 642ms\tremaining: 400ms\n",
      "616:\tlearn: 33.4695325\ttotal: 643ms\tremaining: 399ms\n",
      "617:\tlearn: 33.3463443\ttotal: 644ms\tremaining: 398ms\n",
      "618:\tlearn: 33.2877395\ttotal: 644ms\tremaining: 397ms\n",
      "619:\tlearn: 33.2418826\ttotal: 645ms\tremaining: 395ms\n",
      "620:\tlearn: 33.1045465\ttotal: 646ms\tremaining: 394ms\n",
      "621:\tlearn: 32.9400639\ttotal: 647ms\tremaining: 393ms\n",
      "622:\tlearn: 32.8996970\ttotal: 648ms\tremaining: 392ms\n",
      "623:\tlearn: 32.7429487\ttotal: 648ms\tremaining: 391ms\n",
      "624:\tlearn: 32.6132355\ttotal: 649ms\tremaining: 389ms\n",
      "625:\tlearn: 32.4714976\ttotal: 650ms\tremaining: 388ms\n",
      "626:\tlearn: 32.4320448\ttotal: 651ms\tremaining: 387ms\n",
      "627:\tlearn: 32.2628258\ttotal: 651ms\tremaining: 386ms\n",
      "628:\tlearn: 32.2038569\ttotal: 653ms\tremaining: 385ms\n",
      "629:\tlearn: 32.0940738\ttotal: 653ms\tremaining: 384ms\n",
      "630:\tlearn: 32.0068495\ttotal: 654ms\tremaining: 382ms\n",
      "631:\tlearn: 31.9053748\ttotal: 655ms\tremaining: 381ms\n",
      "632:\tlearn: 31.7715772\ttotal: 656ms\tremaining: 380ms\n",
      "633:\tlearn: 31.6687835\ttotal: 656ms\tremaining: 379ms\n",
      "634:\tlearn: 31.6368050\ttotal: 658ms\tremaining: 378ms\n",
      "635:\tlearn: 31.5709628\ttotal: 658ms\tremaining: 377ms\n",
      "636:\tlearn: 31.4052213\ttotal: 660ms\tremaining: 376ms\n",
      "637:\tlearn: 31.2452229\ttotal: 661ms\tremaining: 375ms\n",
      "638:\tlearn: 31.1221828\ttotal: 662ms\tremaining: 374ms\n",
      "639:\tlearn: 31.0853500\ttotal: 663ms\tremaining: 373ms\n",
      "640:\tlearn: 30.9167355\ttotal: 664ms\tremaining: 372ms\n",
      "641:\tlearn: 30.8667253\ttotal: 665ms\tremaining: 371ms\n",
      "642:\tlearn: 30.7427129\ttotal: 665ms\tremaining: 369ms\n",
      "643:\tlearn: 30.5748228\ttotal: 666ms\tremaining: 368ms\n",
      "644:\tlearn: 30.5080592\ttotal: 667ms\tremaining: 367ms\n",
      "645:\tlearn: 30.3444228\ttotal: 668ms\tremaining: 366ms\n",
      "646:\tlearn: 30.1858385\ttotal: 669ms\tremaining: 365ms\n",
      "647:\tlearn: 30.1481951\ttotal: 670ms\tremaining: 364ms\n",
      "648:\tlearn: 30.1139150\ttotal: 671ms\tremaining: 363ms\n",
      "649:\tlearn: 30.0147177\ttotal: 672ms\tremaining: 362ms\n",
      "650:\tlearn: 29.8610501\ttotal: 672ms\tremaining: 360ms\n",
      "651:\tlearn: 29.7793561\ttotal: 673ms\tremaining: 359ms\n",
      "652:\tlearn: 29.6870188\ttotal: 674ms\tremaining: 358ms\n",
      "653:\tlearn: 29.6229921\ttotal: 675ms\tremaining: 357ms\n",
      "654:\tlearn: 29.5806823\ttotal: 676ms\tremaining: 356ms\n",
      "655:\tlearn: 29.4903496\ttotal: 677ms\tremaining: 355ms\n",
      "656:\tlearn: 29.4011642\ttotal: 678ms\tremaining: 354ms\n",
      "657:\tlearn: 29.3880977\ttotal: 679ms\tremaining: 353ms\n",
      "658:\tlearn: 29.2615919\ttotal: 680ms\tremaining: 352ms\n",
      "659:\tlearn: 29.1004727\ttotal: 681ms\tremaining: 351ms\n",
      "660:\tlearn: 29.0530692\ttotal: 682ms\tremaining: 350ms\n",
      "661:\tlearn: 28.9863628\ttotal: 682ms\tremaining: 348ms\n",
      "662:\tlearn: 28.8714304\ttotal: 683ms\tremaining: 347ms\n",
      "663:\tlearn: 28.7331979\ttotal: 684ms\tremaining: 346ms\n",
      "664:\tlearn: 28.6366801\ttotal: 685ms\tremaining: 345ms\n",
      "665:\tlearn: 28.5716341\ttotal: 686ms\tremaining: 344ms\n",
      "666:\tlearn: 28.4974876\ttotal: 687ms\tremaining: 343ms\n",
      "667:\tlearn: 28.4112710\ttotal: 688ms\tremaining: 342ms\n",
      "668:\tlearn: 28.2984651\ttotal: 689ms\tremaining: 341ms\n",
      "669:\tlearn: 28.1339510\ttotal: 689ms\tremaining: 340ms\n",
      "670:\tlearn: 28.1075789\ttotal: 691ms\tremaining: 339ms\n",
      "671:\tlearn: 28.0922293\ttotal: 691ms\tremaining: 337ms\n",
      "672:\tlearn: 27.9723760\ttotal: 692ms\tremaining: 336ms\n",
      "673:\tlearn: 27.9055283\ttotal: 693ms\tremaining: 335ms\n",
      "674:\tlearn: 27.8205243\ttotal: 694ms\tremaining: 334ms\n",
      "675:\tlearn: 27.8084834\ttotal: 695ms\tremaining: 333ms\n",
      "676:\tlearn: 27.7891840\ttotal: 695ms\tremaining: 332ms\n",
      "677:\tlearn: 27.6730952\ttotal: 696ms\tremaining: 331ms\n",
      "678:\tlearn: 27.6094279\ttotal: 697ms\tremaining: 330ms\n",
      "679:\tlearn: 27.5709406\ttotal: 698ms\tremaining: 328ms\n",
      "680:\tlearn: 27.5062932\ttotal: 699ms\tremaining: 327ms\n",
      "681:\tlearn: 27.4149358\ttotal: 699ms\tremaining: 326ms\n",
      "682:\tlearn: 27.3480578\ttotal: 700ms\tremaining: 325ms\n",
      "683:\tlearn: 27.2546632\ttotal: 701ms\tremaining: 324ms\n",
      "684:\tlearn: 27.1581242\ttotal: 702ms\tremaining: 323ms\n",
      "685:\tlearn: 27.1291330\ttotal: 702ms\tremaining: 322ms\n",
      "686:\tlearn: 27.0589760\ttotal: 703ms\tremaining: 320ms\n",
      "687:\tlearn: 26.9207571\ttotal: 704ms\tremaining: 319ms\n",
      "688:\tlearn: 26.8046340\ttotal: 705ms\tremaining: 318ms\n",
      "689:\tlearn: 26.7346039\ttotal: 705ms\tremaining: 317ms\n",
      "690:\tlearn: 26.6359238\ttotal: 706ms\tremaining: 316ms\n",
      "691:\tlearn: 26.5458163\ttotal: 707ms\tremaining: 315ms\n",
      "692:\tlearn: 26.5287024\ttotal: 708ms\tremaining: 314ms\n",
      "693:\tlearn: 26.4436127\ttotal: 709ms\tremaining: 313ms\n",
      "694:\tlearn: 26.3860996\ttotal: 710ms\tremaining: 311ms\n",
      "695:\tlearn: 26.3271824\ttotal: 710ms\tremaining: 310ms\n",
      "696:\tlearn: 26.1929180\ttotal: 711ms\tremaining: 309ms\n",
      "697:\tlearn: 26.0989501\ttotal: 712ms\tremaining: 308ms\n",
      "698:\tlearn: 26.0348052\ttotal: 713ms\tremaining: 307ms\n",
      "699:\tlearn: 25.9715846\ttotal: 714ms\tremaining: 306ms\n",
      "700:\tlearn: 25.8624783\ttotal: 715ms\tremaining: 305ms\n",
      "701:\tlearn: 25.8020332\ttotal: 715ms\tremaining: 304ms\n",
      "702:\tlearn: 25.7940141\ttotal: 716ms\tremaining: 303ms\n",
      "703:\tlearn: 25.6937173\ttotal: 717ms\tremaining: 301ms\n",
      "704:\tlearn: 25.6133995\ttotal: 718ms\tremaining: 300ms\n",
      "705:\tlearn: 25.5272559\ttotal: 719ms\tremaining: 299ms\n",
      "706:\tlearn: 25.5087600\ttotal: 720ms\tremaining: 298ms\n",
      "707:\tlearn: 25.3506858\ttotal: 720ms\tremaining: 297ms\n",
      "708:\tlearn: 25.3314352\ttotal: 721ms\tremaining: 296ms\n",
      "709:\tlearn: 25.3263712\ttotal: 722ms\tremaining: 295ms\n",
      "710:\tlearn: 25.2377772\ttotal: 722ms\tremaining: 294ms\n",
      "711:\tlearn: 25.1296003\ttotal: 723ms\tremaining: 293ms\n",
      "712:\tlearn: 25.1138661\ttotal: 724ms\tremaining: 291ms\n",
      "713:\tlearn: 25.0606164\ttotal: 725ms\tremaining: 290ms\n",
      "714:\tlearn: 24.9701122\ttotal: 726ms\tremaining: 289ms\n",
      "715:\tlearn: 24.9266980\ttotal: 726ms\tremaining: 288ms\n",
      "716:\tlearn: 24.8355245\ttotal: 727ms\tremaining: 287ms\n",
      "717:\tlearn: 24.7892595\ttotal: 728ms\tremaining: 286ms\n",
      "718:\tlearn: 24.7784156\ttotal: 729ms\tremaining: 285ms\n",
      "719:\tlearn: 24.7204068\ttotal: 730ms\tremaining: 284ms\n",
      "720:\tlearn: 24.6868946\ttotal: 731ms\tremaining: 283ms\n",
      "721:\tlearn: 24.5835248\ttotal: 732ms\tremaining: 282ms\n",
      "722:\tlearn: 24.4605667\ttotal: 733ms\tremaining: 281ms\n",
      "723:\tlearn: 24.3780491\ttotal: 734ms\tremaining: 280ms\n",
      "724:\tlearn: 24.3695387\ttotal: 735ms\tremaining: 279ms\n",
      "725:\tlearn: 24.2713928\ttotal: 735ms\tremaining: 278ms\n",
      "726:\tlearn: 24.2564573\ttotal: 736ms\tremaining: 276ms\n",
      "727:\tlearn: 24.1259045\ttotal: 737ms\tremaining: 275ms\n",
      "728:\tlearn: 24.0410925\ttotal: 738ms\tremaining: 274ms\n",
      "729:\tlearn: 23.9454740\ttotal: 738ms\tremaining: 273ms\n",
      "730:\tlearn: 23.9293944\ttotal: 739ms\tremaining: 272ms\n",
      "731:\tlearn: 23.8408373\ttotal: 740ms\tremaining: 271ms\n",
      "732:\tlearn: 23.7301307\ttotal: 742ms\tremaining: 270ms\n",
      "733:\tlearn: 23.6751178\ttotal: 743ms\tremaining: 269ms\n",
      "734:\tlearn: 23.5518474\ttotal: 744ms\tremaining: 268ms\n",
      "735:\tlearn: 23.5054838\ttotal: 744ms\tremaining: 267ms\n",
      "736:\tlearn: 23.4781040\ttotal: 746ms\tremaining: 266ms\n",
      "737:\tlearn: 23.3774725\ttotal: 748ms\tremaining: 265ms\n",
      "738:\tlearn: 23.3081022\ttotal: 749ms\tremaining: 264ms\n",
      "739:\tlearn: 23.2915892\ttotal: 749ms\tremaining: 263ms\n",
      "740:\tlearn: 23.2095735\ttotal: 751ms\tremaining: 262ms\n",
      "741:\tlearn: 23.1588315\ttotal: 751ms\tremaining: 261ms\n",
      "742:\tlearn: 23.1197993\ttotal: 752ms\tremaining: 260ms\n",
      "743:\tlearn: 23.0327780\ttotal: 753ms\tremaining: 259ms\n",
      "744:\tlearn: 22.9759480\ttotal: 754ms\tremaining: 258ms\n",
      "745:\tlearn: 22.8751423\ttotal: 754ms\tremaining: 257ms\n",
      "746:\tlearn: 22.7768127\ttotal: 755ms\tremaining: 256ms\n",
      "747:\tlearn: 22.6474970\ttotal: 756ms\tremaining: 255ms\n",
      "748:\tlearn: 22.5780525\ttotal: 757ms\tremaining: 254ms\n",
      "749:\tlearn: 22.5338308\ttotal: 758ms\tremaining: 253ms\n",
      "750:\tlearn: 22.4330276\ttotal: 758ms\tremaining: 251ms\n",
      "751:\tlearn: 22.4193891\ttotal: 759ms\tremaining: 250ms\n",
      "752:\tlearn: 22.4093040\ttotal: 760ms\tremaining: 249ms\n",
      "753:\tlearn: 22.3758979\ttotal: 761ms\tremaining: 248ms\n",
      "754:\tlearn: 22.3560173\ttotal: 761ms\tremaining: 247ms\n",
      "755:\tlearn: 22.3264261\ttotal: 762ms\tremaining: 246ms\n",
      "756:\tlearn: 22.2796605\ttotal: 763ms\tremaining: 245ms\n",
      "757:\tlearn: 22.2253439\ttotal: 764ms\tremaining: 244ms\n",
      "758:\tlearn: 22.1636409\ttotal: 764ms\tremaining: 243ms\n",
      "759:\tlearn: 22.1078491\ttotal: 765ms\tremaining: 242ms\n",
      "760:\tlearn: 22.0275756\ttotal: 766ms\tremaining: 240ms\n",
      "761:\tlearn: 22.0174143\ttotal: 767ms\tremaining: 239ms\n",
      "762:\tlearn: 21.9887391\ttotal: 768ms\tremaining: 238ms\n",
      "763:\tlearn: 21.9746733\ttotal: 768ms\tremaining: 237ms\n",
      "764:\tlearn: 21.9529216\ttotal: 769ms\tremaining: 236ms\n",
      "765:\tlearn: 21.8767644\ttotal: 770ms\tremaining: 235ms\n",
      "766:\tlearn: 21.8668039\ttotal: 770ms\tremaining: 234ms\n",
      "767:\tlearn: 21.8008688\ttotal: 771ms\tremaining: 233ms\n",
      "768:\tlearn: 21.7612208\ttotal: 772ms\tremaining: 232ms\n",
      "769:\tlearn: 21.6977978\ttotal: 773ms\tremaining: 231ms\n",
      "770:\tlearn: 21.6870461\ttotal: 774ms\tremaining: 230ms\n",
      "771:\tlearn: 21.6599780\ttotal: 774ms\tremaining: 229ms\n",
      "772:\tlearn: 21.5522064\ttotal: 775ms\tremaining: 228ms\n",
      "773:\tlearn: 21.5426327\ttotal: 776ms\tremaining: 227ms\n",
      "774:\tlearn: 21.4391089\ttotal: 777ms\tremaining: 225ms\n",
      "775:\tlearn: 21.4042993\ttotal: 778ms\tremaining: 224ms\n",
      "776:\tlearn: 21.3284836\ttotal: 778ms\tremaining: 223ms\n",
      "777:\tlearn: 21.3163774\ttotal: 779ms\tremaining: 222ms\n",
      "778:\tlearn: 21.2708416\ttotal: 780ms\tremaining: 221ms\n",
      "779:\tlearn: 21.2056943\ttotal: 781ms\tremaining: 220ms\n",
      "780:\tlearn: 21.1434774\ttotal: 781ms\tremaining: 219ms\n",
      "781:\tlearn: 21.0672473\ttotal: 782ms\tremaining: 218ms\n",
      "782:\tlearn: 20.9629645\ttotal: 783ms\tremaining: 217ms\n",
      "783:\tlearn: 20.9522537\ttotal: 784ms\tremaining: 216ms\n",
      "784:\tlearn: 20.9252425\ttotal: 785ms\tremaining: 215ms\n",
      "785:\tlearn: 20.8576799\ttotal: 786ms\tremaining: 214ms\n",
      "786:\tlearn: 20.7922970\ttotal: 786ms\tremaining: 213ms\n",
      "787:\tlearn: 20.7802134\ttotal: 787ms\tremaining: 212ms\n",
      "788:\tlearn: 20.7125213\ttotal: 788ms\tremaining: 211ms\n",
      "789:\tlearn: 20.7000005\ttotal: 789ms\tremaining: 210ms\n",
      "790:\tlearn: 20.6366378\ttotal: 789ms\tremaining: 209ms\n",
      "791:\tlearn: 20.6170923\ttotal: 790ms\tremaining: 207ms\n",
      "792:\tlearn: 20.5485950\ttotal: 791ms\tremaining: 206ms\n",
      "793:\tlearn: 20.5212323\ttotal: 792ms\tremaining: 205ms\n",
      "794:\tlearn: 20.5004347\ttotal: 792ms\tremaining: 204ms\n",
      "795:\tlearn: 20.4884649\ttotal: 793ms\tremaining: 203ms\n",
      "796:\tlearn: 20.3727007\ttotal: 794ms\tremaining: 202ms\n",
      "797:\tlearn: 20.2776166\ttotal: 795ms\tremaining: 201ms\n",
      "798:\tlearn: 20.2690965\ttotal: 795ms\tremaining: 200ms\n",
      "799:\tlearn: 20.2166634\ttotal: 796ms\tremaining: 199ms\n",
      "800:\tlearn: 20.1160179\ttotal: 797ms\tremaining: 198ms\n",
      "801:\tlearn: 20.0642268\ttotal: 798ms\tremaining: 197ms\n",
      "802:\tlearn: 20.0323601\ttotal: 798ms\tremaining: 196ms\n",
      "803:\tlearn: 19.9485334\ttotal: 799ms\tremaining: 195ms\n",
      "804:\tlearn: 19.9071725\ttotal: 800ms\tremaining: 194ms\n",
      "805:\tlearn: 19.8943564\ttotal: 801ms\tremaining: 193ms\n",
      "806:\tlearn: 19.7804687\ttotal: 801ms\tremaining: 192ms\n",
      "807:\tlearn: 19.7343406\ttotal: 802ms\tremaining: 191ms\n",
      "808:\tlearn: 19.6963930\ttotal: 803ms\tremaining: 190ms\n",
      "809:\tlearn: 19.6705675\ttotal: 804ms\tremaining: 189ms\n",
      "810:\tlearn: 19.6382933\ttotal: 805ms\tremaining: 188ms\n",
      "811:\tlearn: 19.5889191\ttotal: 806ms\tremaining: 187ms\n",
      "812:\tlearn: 19.5638487\ttotal: 807ms\tremaining: 186ms\n",
      "813:\tlearn: 19.4926424\ttotal: 807ms\tremaining: 185ms\n",
      "814:\tlearn: 19.3961396\ttotal: 808ms\tremaining: 183ms\n",
      "815:\tlearn: 19.3880242\ttotal: 809ms\tremaining: 182ms\n",
      "816:\tlearn: 19.2808372\ttotal: 810ms\tremaining: 181ms\n",
      "817:\tlearn: 19.1712815\ttotal: 811ms\tremaining: 180ms\n",
      "818:\tlearn: 19.0909823\ttotal: 812ms\tremaining: 179ms\n",
      "819:\tlearn: 18.9993504\ttotal: 813ms\tremaining: 178ms\n",
      "820:\tlearn: 18.9773399\ttotal: 813ms\tremaining: 177ms\n",
      "821:\tlearn: 18.8989735\ttotal: 814ms\tremaining: 176ms\n",
      "822:\tlearn: 18.8275176\ttotal: 815ms\tremaining: 175ms\n",
      "823:\tlearn: 18.8092278\ttotal: 816ms\tremaining: 174ms\n",
      "824:\tlearn: 18.7938447\ttotal: 817ms\tremaining: 173ms\n",
      "825:\tlearn: 18.7871267\ttotal: 818ms\tremaining: 172ms\n",
      "826:\tlearn: 18.7299674\ttotal: 818ms\tremaining: 171ms\n",
      "827:\tlearn: 18.6808264\ttotal: 819ms\tremaining: 170ms\n",
      "828:\tlearn: 18.5984875\ttotal: 820ms\tremaining: 169ms\n",
      "829:\tlearn: 18.5170088\ttotal: 821ms\tremaining: 168ms\n",
      "830:\tlearn: 18.4707382\ttotal: 822ms\tremaining: 167ms\n",
      "831:\tlearn: 18.4368619\ttotal: 822ms\tremaining: 166ms\n",
      "832:\tlearn: 18.3683191\ttotal: 823ms\tremaining: 165ms\n",
      "833:\tlearn: 18.3295058\ttotal: 824ms\tremaining: 164ms\n",
      "834:\tlearn: 18.2587263\ttotal: 825ms\tremaining: 163ms\n",
      "835:\tlearn: 18.2103679\ttotal: 825ms\tremaining: 162ms\n",
      "836:\tlearn: 18.1781032\ttotal: 826ms\tremaining: 161ms\n",
      "837:\tlearn: 18.0746921\ttotal: 827ms\tremaining: 160ms\n",
      "838:\tlearn: 18.0131984\ttotal: 828ms\tremaining: 159ms\n",
      "839:\tlearn: 17.9510877\ttotal: 829ms\tremaining: 158ms\n",
      "840:\tlearn: 17.8893536\ttotal: 830ms\tremaining: 157ms\n",
      "841:\tlearn: 17.8813583\ttotal: 830ms\tremaining: 156ms\n",
      "842:\tlearn: 17.8129857\ttotal: 831ms\tremaining: 155ms\n",
      "843:\tlearn: 17.7981202\ttotal: 832ms\tremaining: 154ms\n",
      "844:\tlearn: 17.7414627\ttotal: 833ms\tremaining: 153ms\n",
      "845:\tlearn: 17.7255534\ttotal: 834ms\tremaining: 152ms\n",
      "846:\tlearn: 17.6965545\ttotal: 835ms\tremaining: 151ms\n",
      "847:\tlearn: 17.6499397\ttotal: 835ms\tremaining: 150ms\n",
      "848:\tlearn: 17.6133852\ttotal: 836ms\tremaining: 149ms\n",
      "849:\tlearn: 17.5621620\ttotal: 837ms\tremaining: 148ms\n",
      "850:\tlearn: 17.5064049\ttotal: 838ms\tremaining: 147ms\n",
      "851:\tlearn: 17.4643467\ttotal: 839ms\tremaining: 146ms\n",
      "852:\tlearn: 17.4569544\ttotal: 840ms\tremaining: 145ms\n",
      "853:\tlearn: 17.3731897\ttotal: 841ms\tremaining: 144ms\n",
      "854:\tlearn: 17.3313609\ttotal: 841ms\tremaining: 143ms\n",
      "855:\tlearn: 17.2781582\ttotal: 842ms\tremaining: 142ms\n",
      "856:\tlearn: 17.2283433\ttotal: 843ms\tremaining: 141ms\n",
      "857:\tlearn: 17.1944614\ttotal: 844ms\tremaining: 140ms\n",
      "858:\tlearn: 17.1573393\ttotal: 845ms\tremaining: 139ms\n",
      "859:\tlearn: 17.0975067\ttotal: 846ms\tremaining: 138ms\n",
      "860:\tlearn: 17.0462043\ttotal: 847ms\tremaining: 137ms\n",
      "861:\tlearn: 17.0118805\ttotal: 847ms\tremaining: 136ms\n",
      "862:\tlearn: 17.0045195\ttotal: 848ms\tremaining: 135ms\n",
      "863:\tlearn: 16.9528999\ttotal: 849ms\tremaining: 134ms\n",
      "864:\tlearn: 16.9270632\ttotal: 850ms\tremaining: 133ms\n",
      "865:\tlearn: 16.8915252\ttotal: 851ms\tremaining: 132ms\n",
      "866:\tlearn: 16.7946576\ttotal: 852ms\tremaining: 131ms\n",
      "867:\tlearn: 16.7737222\ttotal: 852ms\tremaining: 130ms\n",
      "868:\tlearn: 16.7192509\ttotal: 853ms\tremaining: 129ms\n",
      "869:\tlearn: 16.7138388\ttotal: 854ms\tremaining: 128ms\n",
      "870:\tlearn: 16.6877768\ttotal: 855ms\tremaining: 127ms\n",
      "871:\tlearn: 16.6265748\ttotal: 856ms\tremaining: 126ms\n",
      "872:\tlearn: 16.5641199\ttotal: 856ms\tremaining: 125ms\n",
      "873:\tlearn: 16.4935111\ttotal: 857ms\tremaining: 124ms\n",
      "874:\tlearn: 16.4250863\ttotal: 858ms\tremaining: 123ms\n",
      "875:\tlearn: 16.3566947\ttotal: 859ms\tremaining: 122ms\n",
      "876:\tlearn: 16.2731185\ttotal: 859ms\tremaining: 121ms\n",
      "877:\tlearn: 16.2207923\ttotal: 860ms\tremaining: 120ms\n",
      "878:\tlearn: 16.2073108\ttotal: 861ms\tremaining: 119ms\n",
      "879:\tlearn: 16.1336576\ttotal: 862ms\tremaining: 118ms\n",
      "880:\tlearn: 16.0994139\ttotal: 863ms\tremaining: 117ms\n",
      "881:\tlearn: 16.0720217\ttotal: 863ms\tremaining: 115ms\n",
      "882:\tlearn: 16.0192163\ttotal: 864ms\tremaining: 114ms\n",
      "883:\tlearn: 16.0021989\ttotal: 865ms\tremaining: 113ms\n",
      "884:\tlearn: 15.9003005\ttotal: 866ms\tremaining: 113ms\n",
      "885:\tlearn: 15.8685768\ttotal: 867ms\tremaining: 112ms\n",
      "886:\tlearn: 15.7757199\ttotal: 867ms\tremaining: 111ms\n",
      "887:\tlearn: 15.7280015\ttotal: 868ms\tremaining: 110ms\n",
      "888:\tlearn: 15.7037867\ttotal: 869ms\tremaining: 108ms\n",
      "889:\tlearn: 15.6876254\ttotal: 870ms\tremaining: 107ms\n",
      "890:\tlearn: 15.6002589\ttotal: 870ms\tremaining: 106ms\n",
      "891:\tlearn: 15.5663914\ttotal: 871ms\tremaining: 105ms\n",
      "892:\tlearn: 15.4827503\ttotal: 872ms\tremaining: 104ms\n",
      "893:\tlearn: 15.4422647\ttotal: 873ms\tremaining: 104ms\n",
      "894:\tlearn: 15.4230904\ttotal: 874ms\tremaining: 103ms\n",
      "895:\tlearn: 15.3907978\ttotal: 875ms\tremaining: 102ms\n",
      "896:\tlearn: 15.3022423\ttotal: 875ms\tremaining: 101ms\n",
      "897:\tlearn: 15.2770800\ttotal: 877ms\tremaining: 99.6ms\n",
      "898:\tlearn: 15.2708396\ttotal: 877ms\tremaining: 98.6ms\n",
      "899:\tlearn: 15.2217814\ttotal: 878ms\tremaining: 97.6ms\n",
      "900:\tlearn: 15.2150872\ttotal: 879ms\tremaining: 96.6ms\n",
      "901:\tlearn: 15.1938758\ttotal: 880ms\tremaining: 95.6ms\n",
      "902:\tlearn: 15.1087389\ttotal: 880ms\tremaining: 94.6ms\n",
      "903:\tlearn: 15.0270836\ttotal: 881ms\tremaining: 93.6ms\n",
      "904:\tlearn: 14.9579009\ttotal: 882ms\tremaining: 92.6ms\n",
      "905:\tlearn: 14.9321713\ttotal: 883ms\tremaining: 91.6ms\n",
      "906:\tlearn: 14.9254894\ttotal: 884ms\tremaining: 90.6ms\n",
      "907:\tlearn: 14.8662999\ttotal: 884ms\tremaining: 89.6ms\n",
      "908:\tlearn: 14.7969088\ttotal: 885ms\tremaining: 88.6ms\n",
      "909:\tlearn: 14.7187437\ttotal: 886ms\tremaining: 87.6ms\n",
      "910:\tlearn: 14.6594229\ttotal: 887ms\tremaining: 86.6ms\n",
      "911:\tlearn: 14.6109629\ttotal: 888ms\tremaining: 85.7ms\n",
      "912:\tlearn: 14.5833869\ttotal: 889ms\tremaining: 84.7ms\n",
      "913:\tlearn: 14.5677206\ttotal: 890ms\tremaining: 83.7ms\n",
      "914:\tlearn: 14.5260964\ttotal: 891ms\tremaining: 82.8ms\n",
      "915:\tlearn: 14.4838792\ttotal: 892ms\tremaining: 81.8ms\n",
      "916:\tlearn: 14.4614097\ttotal: 893ms\tremaining: 80.8ms\n",
      "917:\tlearn: 14.4432212\ttotal: 894ms\tremaining: 79.9ms\n",
      "918:\tlearn: 14.4363977\ttotal: 895ms\tremaining: 78.9ms\n",
      "919:\tlearn: 14.3740822\ttotal: 896ms\tremaining: 77.9ms\n",
      "920:\tlearn: 14.3363459\ttotal: 897ms\tremaining: 76.9ms\n",
      "921:\tlearn: 14.2862425\ttotal: 898ms\tremaining: 75.9ms\n",
      "922:\tlearn: 14.2195191\ttotal: 899ms\tremaining: 75ms\n",
      "923:\tlearn: 14.1752422\ttotal: 900ms\tremaining: 74ms\n",
      "924:\tlearn: 14.1582897\ttotal: 901ms\tremaining: 73ms\n",
      "925:\tlearn: 14.0892518\ttotal: 901ms\tremaining: 72ms\n",
      "926:\tlearn: 14.0163904\ttotal: 902ms\tremaining: 71ms\n",
      "927:\tlearn: 13.9674906\ttotal: 903ms\tremaining: 70.1ms\n",
      "928:\tlearn: 13.9421041\ttotal: 904ms\tremaining: 69.1ms\n",
      "929:\tlearn: 13.9264108\ttotal: 905ms\tremaining: 68.1ms\n",
      "930:\tlearn: 13.8953443\ttotal: 906ms\tremaining: 67.1ms\n",
      "931:\tlearn: 13.8514821\ttotal: 907ms\tremaining: 66.2ms\n",
      "932:\tlearn: 13.8317730\ttotal: 908ms\tremaining: 65.2ms\n",
      "933:\tlearn: 13.7980615\ttotal: 908ms\tremaining: 64.2ms\n",
      "934:\tlearn: 13.7252551\ttotal: 909ms\tremaining: 63.2ms\n",
      "935:\tlearn: 13.6867475\ttotal: 910ms\tremaining: 62.2ms\n",
      "936:\tlearn: 13.6663164\ttotal: 911ms\tremaining: 61.3ms\n",
      "937:\tlearn: 13.6108173\ttotal: 912ms\tremaining: 60.3ms\n",
      "938:\tlearn: 13.5827380\ttotal: 913ms\tremaining: 59.3ms\n",
      "939:\tlearn: 13.5211246\ttotal: 914ms\tremaining: 58.3ms\n",
      "940:\tlearn: 13.4752089\ttotal: 915ms\tremaining: 57.4ms\n",
      "941:\tlearn: 13.4283115\ttotal: 916ms\tremaining: 56.4ms\n",
      "942:\tlearn: 13.3912327\ttotal: 917ms\tremaining: 55.4ms\n",
      "943:\tlearn: 13.3593766\ttotal: 918ms\tremaining: 54.4ms\n",
      "944:\tlearn: 13.3015250\ttotal: 919ms\tremaining: 53.5ms\n",
      "945:\tlearn: 13.2587480\ttotal: 919ms\tremaining: 52.5ms\n",
      "946:\tlearn: 13.1949436\ttotal: 921ms\tremaining: 51.5ms\n",
      "947:\tlearn: 13.1552441\ttotal: 922ms\tremaining: 50.6ms\n",
      "948:\tlearn: 13.0700947\ttotal: 923ms\tremaining: 49.6ms\n",
      "949:\tlearn: 13.0460884\ttotal: 923ms\tremaining: 48.6ms\n",
      "950:\tlearn: 13.0315972\ttotal: 924ms\tremaining: 47.6ms\n",
      "951:\tlearn: 12.9964111\ttotal: 925ms\tremaining: 46.6ms\n",
      "952:\tlearn: 12.9757139\ttotal: 926ms\tremaining: 45.7ms\n",
      "953:\tlearn: 12.9120533\ttotal: 928ms\tremaining: 44.7ms\n",
      "954:\tlearn: 12.8776679\ttotal: 929ms\tremaining: 43.8ms\n",
      "955:\tlearn: 12.8703243\ttotal: 929ms\tremaining: 42.8ms\n",
      "956:\tlearn: 12.8058615\ttotal: 930ms\tremaining: 41.8ms\n",
      "957:\tlearn: 12.7637381\ttotal: 931ms\tremaining: 40.8ms\n",
      "958:\tlearn: 12.7517063\ttotal: 932ms\tremaining: 39.9ms\n",
      "959:\tlearn: 12.7382108\ttotal: 933ms\tremaining: 38.9ms\n",
      "960:\tlearn: 12.6881713\ttotal: 934ms\tremaining: 37.9ms\n",
      "961:\tlearn: 12.6728317\ttotal: 935ms\tremaining: 36.9ms\n",
      "962:\tlearn: 12.6386609\ttotal: 936ms\tremaining: 36ms\n",
      "963:\tlearn: 12.5837642\ttotal: 937ms\tremaining: 35ms\n",
      "964:\tlearn: 12.5689789\ttotal: 938ms\tremaining: 34ms\n",
      "965:\tlearn: 12.5362136\ttotal: 938ms\tremaining: 33ms\n",
      "966:\tlearn: 12.5186020\ttotal: 939ms\tremaining: 32.1ms\n",
      "967:\tlearn: 12.4787889\ttotal: 940ms\tremaining: 31.1ms\n",
      "968:\tlearn: 12.4463866\ttotal: 941ms\tremaining: 30.1ms\n",
      "969:\tlearn: 12.3919484\ttotal: 943ms\tremaining: 29.1ms\n",
      "970:\tlearn: 12.3583173\ttotal: 944ms\tremaining: 28.2ms\n",
      "971:\tlearn: 12.3430204\ttotal: 945ms\tremaining: 27.2ms\n",
      "972:\tlearn: 12.3036135\ttotal: 946ms\tremaining: 26.2ms\n",
      "973:\tlearn: 12.2785886\ttotal: 947ms\tremaining: 25.3ms\n",
      "974:\tlearn: 12.2424148\ttotal: 948ms\tremaining: 24.3ms\n",
      "975:\tlearn: 12.2287225\ttotal: 949ms\tremaining: 23.3ms\n",
      "976:\tlearn: 12.1894056\ttotal: 950ms\tremaining: 22.4ms\n",
      "977:\tlearn: 12.1399699\ttotal: 950ms\tremaining: 21.4ms\n",
      "978:\tlearn: 12.1165698\ttotal: 951ms\tremaining: 20.4ms\n",
      "979:\tlearn: 12.1084930\ttotal: 952ms\tremaining: 19.4ms\n",
      "980:\tlearn: 12.1041455\ttotal: 952ms\tremaining: 18.4ms\n",
      "981:\tlearn: 12.0749440\ttotal: 954ms\tremaining: 17.5ms\n",
      "982:\tlearn: 12.0676323\ttotal: 955ms\tremaining: 16.5ms\n",
      "983:\tlearn: 12.0253491\ttotal: 955ms\tremaining: 15.5ms\n",
      "984:\tlearn: 11.9725269\ttotal: 956ms\tremaining: 14.6ms\n",
      "985:\tlearn: 11.9344239\ttotal: 957ms\tremaining: 13.6ms\n",
      "986:\tlearn: 11.8870660\ttotal: 958ms\tremaining: 12.6ms\n",
      "987:\tlearn: 11.8411099\ttotal: 959ms\tremaining: 11.6ms\n",
      "988:\tlearn: 11.7973602\ttotal: 960ms\tremaining: 10.7ms\n",
      "989:\tlearn: 11.7514376\ttotal: 961ms\tremaining: 9.7ms\n",
      "990:\tlearn: 11.7232746\ttotal: 962ms\tremaining: 8.73ms\n",
      "991:\tlearn: 11.6852796\ttotal: 962ms\tremaining: 7.76ms\n",
      "992:\tlearn: 11.6463794\ttotal: 963ms\tremaining: 6.79ms\n",
      "993:\tlearn: 11.6106308\ttotal: 964ms\tremaining: 5.82ms\n",
      "994:\tlearn: 11.5731961\ttotal: 965ms\tremaining: 4.85ms\n",
      "995:\tlearn: 11.5417359\ttotal: 966ms\tremaining: 3.88ms\n",
      "996:\tlearn: 11.5167117\ttotal: 967ms\tremaining: 2.91ms\n",
      "997:\tlearn: 11.4745232\ttotal: 967ms\tremaining: 1.94ms\n",
      "998:\tlearn: 11.4604481\ttotal: 968ms\tremaining: 969us\n",
      "999:\tlearn: 11.4510502\ttotal: 969ms\tremaining: 0us\n"
     ]
    },
    {
     "data": {
      "text/plain": [
       "{'loss_function': 'RMSE'}"
      ]
     },
     "execution_count": 106,
     "metadata": {},
     "output_type": "execute_result"
    }
   ],
   "source": [
    "catb_model = CatBoostRegressor().fit(X_train,Y_train)\n",
    "catb_model.get_params()"
   ]
  },
  {
   "cell_type": "markdown",
   "metadata": {},
   "source": [
    "# MODEL TAHMİN\n"
   ]
  },
  {
   "cell_type": "code",
   "execution_count": 107,
   "metadata": {},
   "outputs": [
    {
     "data": {
      "text/plain": [
       "351.194631344607"
      ]
     },
     "execution_count": 107,
     "metadata": {},
     "output_type": "execute_result"
    }
   ],
   "source": [
    "y_pred = catb_model.predict(X_test)\n",
    "np.sqrt(mean_squared_error(Y_test,y_pred))"
   ]
  },
  {
   "cell_type": "markdown",
   "metadata": {},
   "source": [
    "# MODEL TUNİNG\n",
    "\n",
    "En önemli parametreler\n",
    "* learning_rate: Ağaçların katkılarıyla ilgili bir değer. Daraltma adım boyunu ifade eder. \n",
    "* n_estimators : fit edilecek ağaç sayısı\n",
    "* bölünme işlemlerinde göz önünde bulunduralacak olan değişken sayısı\n",
    "* min_sample_split ve max_depth\n",
    "* colsample_bytree : Oluşturulacak olan ağaçlarda değişkenlerden alınacak olan alt küme oranını ifade eder."
   ]
  },
  {
   "cell_type": "code",
   "execution_count": 108,
   "metadata": {},
   "outputs": [
    {
     "data": {
      "text/plain": [
       "{'loss_function': 'RMSE'}"
      ]
     },
     "execution_count": 108,
     "metadata": {},
     "output_type": "execute_result"
    }
   ],
   "source": [
    "catb_model.get_params()"
   ]
  },
  {
   "cell_type": "code",
   "execution_count": 111,
   "metadata": {},
   "outputs": [],
   "source": [
    "catb_params = {\"iterations\"     : [200,500,100],\n",
    "               \"learning_rate\"  : [0.01,0.1],\n",
    "               \"depth\"          : [3,6,8]}"
   ]
  },
  {
   "cell_type": "code",
   "execution_count": 112,
   "metadata": {},
   "outputs": [
    {
     "name": "stdout",
     "output_type": "stream",
     "text": [
      "Fitting 10 folds for each of 18 candidates, totalling 180 fits\n",
      "0:\tlearn: 425.7900818\ttotal: 425us\tremaining: 84.6ms\n",
      "1:\tlearn: 404.8723520\ttotal: 926us\tremaining: 91.7ms\n",
      "2:\tlearn: 387.4057666\ttotal: 1.36ms\tremaining: 89.3ms\n",
      "3:\tlearn: 372.2801584\ttotal: 1.71ms\tremaining: 83.6ms\n",
      "4:\tlearn: 358.9204229\ttotal: 2.02ms\tremaining: 78.9ms\n",
      "5:\tlearn: 347.0083933\ttotal: 2.38ms\tremaining: 77.1ms\n",
      "6:\tlearn: 336.0130818\ttotal: 2.73ms\tremaining: 75.2ms\n",
      "7:\tlearn: 324.3923300\ttotal: 3.1ms\tremaining: 74.3ms\n",
      "8:\tlearn: 314.8690957\ttotal: 3.47ms\tremaining: 73.6ms\n",
      "9:\tlearn: 308.5075563\ttotal: 3.82ms\tremaining: 72.7ms\n",
      "10:\tlearn: 298.8587285\ttotal: 4.13ms\tremaining: 71.1ms\n",
      "11:\tlearn: 294.7655438\ttotal: 4.46ms\tremaining: 69.8ms\n",
      "12:\tlearn: 288.0697862\ttotal: 4.83ms\tremaining: 69.5ms\n",
      "13:\tlearn: 282.6697154\ttotal: 5.16ms\tremaining: 68.5ms\n",
      "14:\tlearn: 277.6121667\ttotal: 5.46ms\tremaining: 67.4ms\n",
      "15:\tlearn: 273.4383979\ttotal: 5.76ms\tremaining: 66.3ms\n",
      "16:\tlearn: 269.1556201\ttotal: 6.08ms\tremaining: 65.5ms\n",
      "17:\tlearn: 264.8098704\ttotal: 6.46ms\tremaining: 65.3ms\n",
      "18:\tlearn: 261.6700768\ttotal: 6.83ms\tremaining: 65.1ms\n",
      "19:\tlearn: 257.3961290\ttotal: 7.19ms\tremaining: 64.7ms\n",
      "20:\tlearn: 252.2691509\ttotal: 7.53ms\tremaining: 64.2ms\n",
      "21:\tlearn: 249.0686482\ttotal: 7.9ms\tremaining: 63.9ms\n",
      "22:\tlearn: 244.1881041\ttotal: 8.24ms\tremaining: 63.4ms\n",
      "23:\tlearn: 242.1696687\ttotal: 8.54ms\tremaining: 62.6ms\n",
      "24:\tlearn: 239.2131476\ttotal: 8.86ms\tremaining: 62ms\n",
      "25:\tlearn: 236.6883901\ttotal: 9.2ms\tremaining: 61.5ms\n",
      "26:\tlearn: 234.5295613\ttotal: 9.53ms\tremaining: 61ms\n",
      "27:\tlearn: 231.7788834\ttotal: 9.87ms\tremaining: 60.7ms\n",
      "28:\tlearn: 228.8020330\ttotal: 10.2ms\tremaining: 60.1ms\n",
      "29:\tlearn: 226.8420565\ttotal: 10.5ms\tremaining: 59.5ms\n",
      "30:\tlearn: 224.0686558\ttotal: 10.8ms\tremaining: 59ms\n",
      "31:\tlearn: 222.6644699\ttotal: 11.1ms\tremaining: 58.3ms\n",
      "32:\tlearn: 221.6889573\ttotal: 11.6ms\tremaining: 58.5ms\n",
      "33:\tlearn: 220.5171653\ttotal: 12ms\tremaining: 58.4ms\n",
      "34:\tlearn: 217.7686033\ttotal: 12.5ms\tremaining: 59.1ms\n",
      "35:\tlearn: 214.8462789\ttotal: 12.9ms\tremaining: 58.9ms\n",
      "36:\tlearn: 214.4799251\ttotal: 13.3ms\tremaining: 58.5ms\n",
      "37:\tlearn: 212.3480429\ttotal: 13.7ms\tremaining: 58.3ms\n",
      "38:\tlearn: 210.0040644\ttotal: 14ms\tremaining: 57.9ms\n",
      "39:\tlearn: 208.3086913\ttotal: 14.4ms\tremaining: 57.5ms\n",
      "40:\tlearn: 207.5469119\ttotal: 14.7ms\tremaining: 56.9ms\n",
      "41:\tlearn: 205.9351113\ttotal: 15ms\tremaining: 56.4ms\n",
      "42:\tlearn: 205.3580824\ttotal: 15.3ms\tremaining: 55.9ms\n",
      "43:\tlearn: 204.6204266\ttotal: 15.6ms\tremaining: 55.4ms\n",
      "44:\tlearn: 202.5023220\ttotal: 15.9ms\tremaining: 54.9ms\n",
      "45:\tlearn: 201.4347853\ttotal: 16.2ms\tremaining: 54.4ms\n",
      "46:\tlearn: 200.8752553\ttotal: 16.7ms\tremaining: 54.3ms\n",
      "47:\tlearn: 200.4047344\ttotal: 17ms\tremaining: 54ms\n",
      "48:\tlearn: 197.5433004\ttotal: 17.4ms\tremaining: 53.5ms\n",
      "49:\tlearn: 194.6943292\ttotal: 17.7ms\tremaining: 53ms\n",
      "50:\tlearn: 194.3011982\ttotal: 18ms\tremaining: 52.5ms\n",
      "51:\tlearn: 193.4011843\ttotal: 18.3ms\tremaining: 52.2ms\n",
      "52:\tlearn: 193.0109753\ttotal: 18.6ms\tremaining: 51.7ms\n",
      "53:\tlearn: 192.6071142\ttotal: 19ms\tremaining: 51.3ms\n",
      "54:\tlearn: 191.9666153\ttotal: 19.3ms\tremaining: 50.9ms\n",
      "55:\tlearn: 191.5789727\ttotal: 19.6ms\tremaining: 50.5ms\n",
      "56:\tlearn: 190.7186284\ttotal: 20ms\tremaining: 50.1ms\n",
      "57:\tlearn: 190.4543087\ttotal: 20.3ms\tremaining: 49.6ms\n",
      "58:\tlearn: 190.1336317\ttotal: 20.6ms\tremaining: 49.2ms\n",
      "59:\tlearn: 188.2286484\ttotal: 20.9ms\tremaining: 48.7ms\n",
      "60:\tlearn: 187.7652417\ttotal: 21.2ms\tremaining: 48.3ms\n",
      "61:\tlearn: 187.4227950\ttotal: 21.6ms\tremaining: 48.2ms\n",
      "62:\tlearn: 186.9289182\ttotal: 22ms\tremaining: 47.8ms\n",
      "63:\tlearn: 185.2993487\ttotal: 22.3ms\tremaining: 47.4ms\n",
      "64:\tlearn: 185.0349598\ttotal: 22.6ms\tremaining: 47ms\n",
      "65:\tlearn: 183.9773430\ttotal: 23ms\tremaining: 46.6ms\n",
      "66:\tlearn: 183.4463166\ttotal: 23.3ms\tremaining: 46.2ms\n",
      "67:\tlearn: 181.6627740\ttotal: 23.6ms\tremaining: 45.7ms\n",
      "68:\tlearn: 179.8785055\ttotal: 23.9ms\tremaining: 45.3ms\n",
      "69:\tlearn: 179.6737527\ttotal: 24.2ms\tremaining: 44.9ms\n",
      "70:\tlearn: 177.0830981\ttotal: 24.5ms\tremaining: 44.5ms\n",
      "71:\tlearn: 176.5917790\ttotal: 24.8ms\tremaining: 44.1ms\n",
      "72:\tlearn: 176.1240502\ttotal: 25.1ms\tremaining: 43.6ms\n",
      "73:\tlearn: 174.4828953\ttotal: 25.4ms\tremaining: 43.2ms\n",
      "74:\tlearn: 173.4220482\ttotal: 25.7ms\tremaining: 42.8ms\n",
      "75:\tlearn: 171.9903405\ttotal: 26ms\tremaining: 42.4ms\n",
      "76:\tlearn: 171.5803116\ttotal: 26.3ms\tremaining: 42ms\n",
      "77:\tlearn: 170.1411594\ttotal: 26.8ms\tremaining: 41.9ms\n",
      "78:\tlearn: 167.9868133\ttotal: 27.1ms\tremaining: 41.5ms\n",
      "79:\tlearn: 166.5304475\ttotal: 27.6ms\tremaining: 41.3ms\n",
      "80:\tlearn: 166.1741622\ttotal: 27.9ms\tremaining: 40.9ms\n",
      "81:\tlearn: 165.8411762\ttotal: 28.2ms\tremaining: 40.5ms\n",
      "82:\tlearn: 165.1041583\ttotal: 28.5ms\tremaining: 40.2ms\n",
      "83:\tlearn: 163.5641543\ttotal: 28.8ms\tremaining: 39.8ms\n",
      "84:\tlearn: 163.2003311\ttotal: 29.1ms\tremaining: 39.4ms\n",
      "85:\tlearn: 161.1781702\ttotal: 29.4ms\tremaining: 39ms\n",
      "86:\tlearn: 160.8727658\ttotal: 29.7ms\tremaining: 38.6ms\n",
      "87:\tlearn: 159.7954077\ttotal: 30ms\tremaining: 38.2ms\n",
      "88:\tlearn: 158.8759132\ttotal: 30.3ms\tremaining: 37.8ms\n",
      "89:\tlearn: 158.4831323\ttotal: 30.6ms\tremaining: 37.4ms\n",
      "90:\tlearn: 157.4808127\ttotal: 30.9ms\tremaining: 37ms\n",
      "91:\tlearn: 157.1703230\ttotal: 31.2ms\tremaining: 36.6ms\n",
      "92:\tlearn: 155.3184755\ttotal: 31.6ms\tremaining: 36.3ms\n",
      "93:\tlearn: 154.3988879\ttotal: 31.9ms\tremaining: 36ms\n",
      "94:\tlearn: 153.4591935\ttotal: 32.3ms\tremaining: 35.7ms\n",
      "95:\tlearn: 153.1206893\ttotal: 32.6ms\tremaining: 35.3ms\n",
      "96:\tlearn: 152.7897351\ttotal: 32.9ms\tremaining: 35ms\n",
      "97:\tlearn: 150.9293164\ttotal: 33.3ms\tremaining: 34.6ms\n",
      "98:\tlearn: 149.7127171\ttotal: 33.6ms\tremaining: 34.2ms\n",
      "99:\tlearn: 149.5089324\ttotal: 33.9ms\tremaining: 33.9ms\n",
      "100:\tlearn: 149.3156312\ttotal: 34.2ms\tremaining: 33.5ms\n",
      "101:\tlearn: 147.7226718\ttotal: 34.5ms\tremaining: 33.1ms\n",
      "102:\tlearn: 146.7692282\ttotal: 34.8ms\tremaining: 32.8ms\n",
      "103:\tlearn: 145.9084983\ttotal: 35.1ms\tremaining: 32.4ms\n",
      "104:\tlearn: 144.8780979\ttotal: 35.4ms\tremaining: 32.1ms\n",
      "105:\tlearn: 143.8090268\ttotal: 35.7ms\tremaining: 31.7ms\n",
      "106:\tlearn: 143.1272551\ttotal: 36ms\tremaining: 31.3ms\n",
      "107:\tlearn: 142.4863018\ttotal: 36.3ms\tremaining: 30.9ms\n",
      "108:\tlearn: 141.4861279\ttotal: 36.8ms\tremaining: 30.7ms\n",
      "109:\tlearn: 140.8689530\ttotal: 37.1ms\tremaining: 30.4ms\n",
      "110:\tlearn: 140.4009570\ttotal: 37.6ms\tremaining: 30.1ms\n",
      "111:\tlearn: 140.0344439\ttotal: 37.9ms\tremaining: 29.8ms\n",
      "112:\tlearn: 139.4290096\ttotal: 38.2ms\tremaining: 29.4ms\n",
      "113:\tlearn: 139.2008874\ttotal: 38.5ms\tremaining: 29ms\n",
      "114:\tlearn: 138.6000188\ttotal: 38.8ms\tremaining: 28.6ms\n",
      "115:\tlearn: 138.3962706\ttotal: 39.2ms\tremaining: 28.4ms\n",
      "116:\tlearn: 138.1737256\ttotal: 39.5ms\tremaining: 28.1ms\n",
      "117:\tlearn: 137.6342361\ttotal: 39.9ms\tremaining: 27.7ms\n",
      "118:\tlearn: 136.7119826\ttotal: 40.2ms\tremaining: 27.4ms\n",
      "119:\tlearn: 135.3057402\ttotal: 40.5ms\tremaining: 27ms\n",
      "120:\tlearn: 134.4797815\ttotal: 40.9ms\tremaining: 26.7ms\n",
      "121:\tlearn: 133.0774331\ttotal: 41.2ms\tremaining: 26.3ms\n",
      "122:\tlearn: 131.8739238\ttotal: 41.5ms\tremaining: 26ms\n",
      "123:\tlearn: 131.3203837\ttotal: 41.9ms\tremaining: 25.7ms\n",
      "124:\tlearn: 130.8294604\ttotal: 42.4ms\tremaining: 25.4ms\n",
      "125:\tlearn: 130.6107905\ttotal: 42.7ms\tremaining: 25.1ms\n",
      "126:\tlearn: 130.1614924\ttotal: 43ms\tremaining: 24.7ms\n",
      "127:\tlearn: 129.3166972\ttotal: 43.5ms\tremaining: 24.5ms\n",
      "128:\tlearn: 129.1038672\ttotal: 43.8ms\tremaining: 24.1ms\n",
      "129:\tlearn: 128.9594874\ttotal: 44.2ms\tremaining: 23.8ms\n",
      "130:\tlearn: 128.1849638\ttotal: 44.5ms\tremaining: 23.5ms\n",
      "131:\tlearn: 128.0307033\ttotal: 44.8ms\tremaining: 23.1ms\n",
      "132:\tlearn: 127.3373882\ttotal: 45.2ms\tremaining: 22.7ms\n",
      "133:\tlearn: 126.2856989\ttotal: 45.5ms\tremaining: 22.4ms\n",
      "134:\tlearn: 126.1379832\ttotal: 45.8ms\tremaining: 22.1ms\n",
      "135:\tlearn: 126.0180019\ttotal: 46.1ms\tremaining: 21.7ms\n",
      "136:\tlearn: 125.8843963\ttotal: 46.5ms\tremaining: 21.4ms\n",
      "137:\tlearn: 125.7576333\ttotal: 46.9ms\tremaining: 21.1ms\n",
      "138:\tlearn: 125.4794581\ttotal: 47.3ms\tremaining: 20.7ms\n",
      "139:\tlearn: 124.7920270\ttotal: 47.7ms\tremaining: 20.4ms\n",
      "140:\tlearn: 124.6530278\ttotal: 48ms\tremaining: 20.1ms\n",
      "141:\tlearn: 123.4539010\ttotal: 48.4ms\tremaining: 19.8ms\n",
      "142:\tlearn: 122.8980001\ttotal: 48.7ms\tremaining: 19.4ms\n",
      "143:\tlearn: 122.0911177\ttotal: 49.1ms\tremaining: 19.1ms\n",
      "144:\tlearn: 121.1209154\ttotal: 49.4ms\tremaining: 18.7ms\n",
      "145:\tlearn: 120.1613553\ttotal: 49.8ms\tremaining: 18.4ms\n",
      "146:\tlearn: 119.1894727\ttotal: 50.1ms\tremaining: 18.1ms\n",
      "147:\tlearn: 118.0325732\ttotal: 50.4ms\tremaining: 17.7ms\n",
      "148:\tlearn: 117.9138240\ttotal: 50.8ms\tremaining: 17.4ms\n",
      "149:\tlearn: 117.3831462\ttotal: 51.1ms\tremaining: 17.1ms\n",
      "150:\tlearn: 116.8475244\ttotal: 51.5ms\tremaining: 16.7ms\n",
      "151:\tlearn: 116.3821954\ttotal: 51.9ms\tremaining: 16.4ms\n",
      "152:\tlearn: 115.5293176\ttotal: 52.3ms\tremaining: 16.1ms\n",
      "153:\tlearn: 115.0975175\ttotal: 52.7ms\tremaining: 15.7ms\n",
      "154:\tlearn: 114.0649594\ttotal: 53ms\tremaining: 15.4ms\n",
      "155:\tlearn: 113.2562326\ttotal: 53.4ms\tremaining: 15.1ms\n",
      "156:\tlearn: 112.7557871\ttotal: 53.7ms\tremaining: 14.7ms\n",
      "157:\tlearn: 112.5657565\ttotal: 54ms\tremaining: 14.4ms\n",
      "158:\tlearn: 112.3541525\ttotal: 54.4ms\tremaining: 14ms\n",
      "159:\tlearn: 111.8527982\ttotal: 54.7ms\tremaining: 13.7ms\n",
      "160:\tlearn: 111.1619644\ttotal: 55ms\tremaining: 13.3ms\n",
      "161:\tlearn: 110.3588257\ttotal: 55.4ms\tremaining: 13ms\n",
      "162:\tlearn: 109.6664293\ttotal: 55.7ms\tremaining: 12.6ms\n",
      "163:\tlearn: 109.5577303\ttotal: 56ms\tremaining: 12.3ms\n",
      "164:\tlearn: 109.0570285\ttotal: 56.3ms\tremaining: 12ms\n",
      "165:\tlearn: 108.7601467\ttotal: 56.7ms\tremaining: 11.6ms\n",
      "166:\tlearn: 108.0448620\ttotal: 57ms\tremaining: 11.3ms\n",
      "167:\tlearn: 107.5593372\ttotal: 57.4ms\tremaining: 10.9ms\n",
      "168:\tlearn: 106.3862999\ttotal: 57.7ms\tremaining: 10.6ms\n",
      "169:\tlearn: 106.2180807\ttotal: 58ms\tremaining: 10.2ms\n",
      "170:\tlearn: 106.0695603\ttotal: 58.4ms\tremaining: 9.9ms\n",
      "171:\tlearn: 105.6940213\ttotal: 58.7ms\tremaining: 9.55ms\n",
      "172:\tlearn: 104.7598987\ttotal: 59ms\tremaining: 9.21ms\n",
      "173:\tlearn: 104.6589992\ttotal: 59.3ms\tremaining: 8.86ms\n",
      "174:\tlearn: 103.7203657\ttotal: 59.6ms\tremaining: 8.52ms\n",
      "175:\tlearn: 103.2660987\ttotal: 59.9ms\tremaining: 8.17ms\n",
      "176:\tlearn: 103.0926213\ttotal: 60.2ms\tremaining: 7.83ms\n",
      "177:\tlearn: 102.6925209\ttotal: 60.5ms\tremaining: 7.48ms\n",
      "178:\tlearn: 102.1655154\ttotal: 60.9ms\tremaining: 7.14ms\n",
      "179:\tlearn: 101.8273108\ttotal: 61.2ms\tremaining: 6.8ms\n",
      "180:\tlearn: 101.7264515\ttotal: 61.5ms\tremaining: 6.45ms\n",
      "181:\tlearn: 101.1102333\ttotal: 61.8ms\tremaining: 6.11ms\n",
      "182:\tlearn: 100.7880364\ttotal: 62.2ms\tremaining: 5.78ms\n",
      "183:\tlearn: 100.6673014\ttotal: 62.5ms\tremaining: 5.44ms\n",
      "184:\tlearn: 100.0153055\ttotal: 62.9ms\tremaining: 5.1ms\n",
      "185:\tlearn: 99.7667281\ttotal: 63.2ms\tremaining: 4.75ms\n",
      "186:\tlearn: 99.1860593\ttotal: 63.5ms\tremaining: 4.42ms\n",
      "187:\tlearn: 99.0408133\ttotal: 63.8ms\tremaining: 4.07ms\n",
      "188:\tlearn: 98.9030718\ttotal: 64.2ms\tremaining: 3.74ms\n",
      "189:\tlearn: 97.4513860\ttotal: 64.6ms\tremaining: 3.4ms\n",
      "190:\tlearn: 97.3322959\ttotal: 64.8ms\tremaining: 3.06ms\n",
      "191:\tlearn: 97.1950848\ttotal: 65.1ms\tremaining: 2.71ms\n",
      "192:\tlearn: 96.6789532\ttotal: 65.5ms\tremaining: 2.37ms\n",
      "193:\tlearn: 96.5506179\ttotal: 65.8ms\tremaining: 2.03ms\n",
      "194:\tlearn: 95.6635039\ttotal: 66.1ms\tremaining: 1.69ms\n",
      "195:\tlearn: 94.8850777\ttotal: 66.4ms\tremaining: 1.35ms\n",
      "196:\tlearn: 94.1624589\ttotal: 66.7ms\tremaining: 1.01ms\n",
      "197:\tlearn: 93.8220662\ttotal: 67ms\tremaining: 677us\n",
      "198:\tlearn: 93.7300351\ttotal: 67.4ms\tremaining: 338us\n",
      "199:\tlearn: 93.3339522\ttotal: 67.8ms\tremaining: 0us\n"
     ]
    }
   ],
   "source": [
    "catb_cv_model = GridSearchCV(catb_model,catb_params,cv=10,n_jobs=-1,verbose=2).fit(X_train,Y_train)"
   ]
  },
  {
   "cell_type": "code",
   "execution_count": 113,
   "metadata": {},
   "outputs": [
    {
     "data": {
      "text/plain": [
       "{'depth': 3, 'iterations': 200, 'learning_rate': 0.1}"
      ]
     },
     "execution_count": 113,
     "metadata": {},
     "output_type": "execute_result"
    }
   ],
   "source": [
    "catb_cv_model.best_params_"
   ]
  },
  {
   "cell_type": "code",
   "execution_count": 119,
   "metadata": {},
   "outputs": [
    {
     "name": "stdout",
     "output_type": "stream",
     "text": [
      "0:\tlearn: 425.7900818\ttotal: 608us\tremaining: 121ms\n",
      "1:\tlearn: 404.8723520\ttotal: 1.23ms\tremaining: 121ms\n",
      "2:\tlearn: 387.4057666\ttotal: 1.63ms\tremaining: 107ms\n",
      "3:\tlearn: 372.2801584\ttotal: 2ms\tremaining: 97.9ms\n",
      "4:\tlearn: 358.9204229\ttotal: 2.31ms\tremaining: 90.3ms\n",
      "5:\tlearn: 347.0083933\ttotal: 2.69ms\tremaining: 86.8ms\n",
      "6:\tlearn: 336.0130818\ttotal: 2.98ms\tremaining: 82.3ms\n",
      "7:\tlearn: 324.3923300\ttotal: 3.32ms\tremaining: 79.7ms\n",
      "8:\tlearn: 314.8690957\ttotal: 3.65ms\tremaining: 77.5ms\n",
      "9:\tlearn: 308.5075563\ttotal: 3.99ms\tremaining: 75.8ms\n",
      "10:\tlearn: 298.8587285\ttotal: 4.52ms\tremaining: 77.6ms\n",
      "11:\tlearn: 294.7655438\ttotal: 4.84ms\tremaining: 75.9ms\n",
      "12:\tlearn: 288.0697862\ttotal: 5.25ms\tremaining: 75.5ms\n",
      "13:\tlearn: 282.6697154\ttotal: 5.7ms\tremaining: 75.8ms\n",
      "14:\tlearn: 277.6121667\ttotal: 6.11ms\tremaining: 75.4ms\n",
      "15:\tlearn: 273.4383979\ttotal: 6.42ms\tremaining: 73.8ms\n",
      "16:\tlearn: 269.1556201\ttotal: 6.75ms\tremaining: 72.7ms\n",
      "17:\tlearn: 264.8098704\ttotal: 7.17ms\tremaining: 72.5ms\n",
      "18:\tlearn: 261.6700768\ttotal: 7.57ms\tremaining: 72.1ms\n",
      "19:\tlearn: 257.3961290\ttotal: 7.92ms\tremaining: 71.3ms\n",
      "20:\tlearn: 252.2691509\ttotal: 8.27ms\tremaining: 70.5ms\n",
      "21:\tlearn: 249.0686482\ttotal: 8.61ms\tremaining: 69.7ms\n",
      "22:\tlearn: 244.1881041\ttotal: 8.92ms\tremaining: 68.7ms\n",
      "23:\tlearn: 242.1696687\ttotal: 9.24ms\tremaining: 67.7ms\n",
      "24:\tlearn: 239.2131476\ttotal: 9.65ms\tremaining: 67.5ms\n",
      "25:\tlearn: 236.6883901\ttotal: 10ms\tremaining: 67ms\n",
      "26:\tlearn: 234.5295613\ttotal: 10.4ms\tremaining: 66.3ms\n",
      "27:\tlearn: 231.7788834\ttotal: 10.7ms\tremaining: 65.5ms\n",
      "28:\tlearn: 228.8020330\ttotal: 11.1ms\tremaining: 65.2ms\n",
      "29:\tlearn: 226.8420565\ttotal: 11.4ms\tremaining: 64.3ms\n",
      "30:\tlearn: 224.0686558\ttotal: 11.7ms\tremaining: 63.8ms\n",
      "31:\tlearn: 222.6644699\ttotal: 12.1ms\tremaining: 63.4ms\n",
      "32:\tlearn: 221.6889573\ttotal: 12.4ms\tremaining: 63ms\n",
      "33:\tlearn: 220.5171653\ttotal: 12.8ms\tremaining: 62.6ms\n",
      "34:\tlearn: 217.7686033\ttotal: 13.3ms\tremaining: 62.6ms\n",
      "35:\tlearn: 214.8462789\ttotal: 13.7ms\tremaining: 62.3ms\n",
      "36:\tlearn: 214.4799251\ttotal: 13.9ms\tremaining: 61.4ms\n",
      "37:\tlearn: 212.3480429\ttotal: 14.2ms\tremaining: 60.7ms\n",
      "38:\tlearn: 210.0040644\ttotal: 14.6ms\tremaining: 60.1ms\n",
      "39:\tlearn: 208.3086913\ttotal: 14.9ms\tremaining: 59.5ms\n",
      "40:\tlearn: 207.5469119\ttotal: 15.1ms\tremaining: 58.7ms\n",
      "41:\tlearn: 205.9351113\ttotal: 15.4ms\tremaining: 58ms\n",
      "42:\tlearn: 205.3580824\ttotal: 15.7ms\tremaining: 57.3ms\n",
      "43:\tlearn: 204.6204266\ttotal: 16ms\tremaining: 56.7ms\n",
      "44:\tlearn: 202.5023220\ttotal: 16.3ms\tremaining: 56.2ms\n",
      "45:\tlearn: 201.4347853\ttotal: 16.6ms\tremaining: 55.5ms\n",
      "46:\tlearn: 200.8752553\ttotal: 16.9ms\tremaining: 54.9ms\n",
      "47:\tlearn: 200.4047344\ttotal: 17.2ms\tremaining: 54.3ms\n",
      "48:\tlearn: 197.5433004\ttotal: 17.4ms\tremaining: 53.8ms\n",
      "49:\tlearn: 194.6943292\ttotal: 17.8ms\tremaining: 53.3ms\n",
      "50:\tlearn: 194.3011982\ttotal: 18.1ms\tremaining: 52.8ms\n",
      "51:\tlearn: 193.4011843\ttotal: 18.4ms\tremaining: 52.3ms\n",
      "52:\tlearn: 193.0109753\ttotal: 18.7ms\tremaining: 51.8ms\n",
      "53:\tlearn: 192.6071142\ttotal: 18.9ms\tremaining: 51.2ms\n",
      "54:\tlearn: 191.9666153\ttotal: 19.3ms\tremaining: 50.9ms\n",
      "55:\tlearn: 191.5789727\ttotal: 19.7ms\tremaining: 50.6ms\n",
      "56:\tlearn: 190.7186284\ttotal: 20.1ms\tremaining: 50.3ms\n",
      "57:\tlearn: 190.4543087\ttotal: 20.4ms\tremaining: 49.9ms\n",
      "58:\tlearn: 190.1336317\ttotal: 20.7ms\tremaining: 49.5ms\n",
      "59:\tlearn: 188.2286484\ttotal: 21ms\tremaining: 49.1ms\n",
      "60:\tlearn: 187.7652417\ttotal: 21.3ms\tremaining: 48.6ms\n",
      "61:\tlearn: 187.4227950\ttotal: 21.7ms\tremaining: 48.3ms\n",
      "62:\tlearn: 186.9289182\ttotal: 22ms\tremaining: 47.8ms\n",
      "63:\tlearn: 185.2993487\ttotal: 22.3ms\tremaining: 47.4ms\n",
      "64:\tlearn: 185.0349598\ttotal: 22.7ms\tremaining: 47.1ms\n",
      "65:\tlearn: 183.9773430\ttotal: 23ms\tremaining: 46.7ms\n",
      "66:\tlearn: 183.4463166\ttotal: 23.4ms\tremaining: 46.4ms\n",
      "67:\tlearn: 181.6627740\ttotal: 23.7ms\tremaining: 46.1ms\n",
      "68:\tlearn: 179.8785055\ttotal: 24.1ms\tremaining: 45.7ms\n",
      "69:\tlearn: 179.6737527\ttotal: 24.3ms\tremaining: 45.2ms\n",
      "70:\tlearn: 177.0830981\ttotal: 24.7ms\tremaining: 44.9ms\n",
      "71:\tlearn: 176.5917790\ttotal: 25ms\tremaining: 44.5ms\n",
      "72:\tlearn: 176.1240502\ttotal: 25.4ms\tremaining: 44.1ms\n",
      "73:\tlearn: 174.4828953\ttotal: 25.7ms\tremaining: 43.7ms\n",
      "74:\tlearn: 173.4220482\ttotal: 26ms\tremaining: 43.3ms\n",
      "75:\tlearn: 171.9903405\ttotal: 26.3ms\tremaining: 42.9ms\n",
      "76:\tlearn: 171.5803116\ttotal: 26.6ms\tremaining: 42.5ms\n",
      "77:\tlearn: 170.1411594\ttotal: 26.9ms\tremaining: 42.1ms\n",
      "78:\tlearn: 167.9868133\ttotal: 27.2ms\tremaining: 41.7ms\n",
      "79:\tlearn: 166.5304475\ttotal: 27.5ms\tremaining: 41.3ms\n",
      "80:\tlearn: 166.1741622\ttotal: 27.8ms\tremaining: 40.9ms\n",
      "81:\tlearn: 165.8411762\ttotal: 28.1ms\tremaining: 40.4ms\n",
      "82:\tlearn: 165.1041583\ttotal: 28.4ms\tremaining: 40ms\n",
      "83:\tlearn: 163.5641543\ttotal: 28.7ms\tremaining: 39.6ms\n",
      "84:\tlearn: 163.2003311\ttotal: 29ms\tremaining: 39.2ms\n",
      "85:\tlearn: 161.1781702\ttotal: 29.2ms\tremaining: 38.8ms\n",
      "86:\tlearn: 160.8727658\ttotal: 29.5ms\tremaining: 38.4ms\n",
      "87:\tlearn: 159.7954077\ttotal: 29.9ms\tremaining: 38ms\n",
      "88:\tlearn: 158.8759132\ttotal: 30.2ms\tremaining: 37.7ms\n",
      "89:\tlearn: 158.4831323\ttotal: 30.5ms\tremaining: 37.3ms\n",
      "90:\tlearn: 157.4808127\ttotal: 30.8ms\tremaining: 36.9ms\n",
      "91:\tlearn: 157.1703230\ttotal: 31.1ms\tremaining: 36.5ms\n",
      "92:\tlearn: 155.3184755\ttotal: 31.4ms\tremaining: 36.1ms\n",
      "93:\tlearn: 154.3988879\ttotal: 31.7ms\tremaining: 35.7ms\n",
      "94:\tlearn: 153.4591935\ttotal: 32ms\tremaining: 35.3ms\n",
      "95:\tlearn: 153.1206893\ttotal: 32.3ms\tremaining: 35ms\n",
      "96:\tlearn: 152.7897351\ttotal: 32.6ms\tremaining: 34.6ms\n",
      "97:\tlearn: 150.9293164\ttotal: 32.9ms\tremaining: 34.2ms\n",
      "98:\tlearn: 149.7127171\ttotal: 33.2ms\tremaining: 33.9ms\n",
      "99:\tlearn: 149.5089324\ttotal: 33.5ms\tremaining: 33.5ms\n",
      "100:\tlearn: 149.3156312\ttotal: 33.8ms\tremaining: 33.2ms\n",
      "101:\tlearn: 147.7226718\ttotal: 34.2ms\tremaining: 32.8ms\n",
      "102:\tlearn: 146.7692282\ttotal: 34.5ms\tremaining: 32.5ms\n",
      "103:\tlearn: 145.9084983\ttotal: 34.9ms\tremaining: 32.2ms\n",
      "104:\tlearn: 144.8780979\ttotal: 35.2ms\tremaining: 31.9ms\n",
      "105:\tlearn: 143.8090268\ttotal: 35.6ms\tremaining: 31.6ms\n",
      "106:\tlearn: 143.1272551\ttotal: 36ms\tremaining: 31.3ms\n",
      "107:\tlearn: 142.4863018\ttotal: 36.3ms\tremaining: 30.9ms\n",
      "108:\tlearn: 141.4861279\ttotal: 36.6ms\tremaining: 30.5ms\n",
      "109:\tlearn: 140.8689530\ttotal: 36.9ms\tremaining: 30.2ms\n",
      "110:\tlearn: 140.4009570\ttotal: 37.2ms\tremaining: 29.8ms\n",
      "111:\tlearn: 140.0344439\ttotal: 37.6ms\tremaining: 29.5ms\n",
      "112:\tlearn: 139.4290096\ttotal: 37.9ms\tremaining: 29.2ms\n",
      "113:\tlearn: 139.2008874\ttotal: 38.4ms\tremaining: 28.9ms\n",
      "114:\tlearn: 138.6000188\ttotal: 38.7ms\tremaining: 28.6ms\n",
      "115:\tlearn: 138.3962706\ttotal: 39ms\tremaining: 28.3ms\n",
      "116:\tlearn: 138.1737256\ttotal: 39.4ms\tremaining: 27.9ms\n",
      "117:\tlearn: 137.6342361\ttotal: 39.7ms\tremaining: 27.6ms\n",
      "118:\tlearn: 136.7119826\ttotal: 40.1ms\tremaining: 27.3ms\n",
      "119:\tlearn: 135.3057402\ttotal: 40.4ms\tremaining: 26.9ms\n",
      "120:\tlearn: 134.4797815\ttotal: 40.7ms\tremaining: 26.6ms\n",
      "121:\tlearn: 133.0774331\ttotal: 41.1ms\tremaining: 26.3ms\n",
      "122:\tlearn: 131.8739238\ttotal: 41.4ms\tremaining: 25.9ms\n",
      "123:\tlearn: 131.3203837\ttotal: 41.7ms\tremaining: 25.5ms\n",
      "124:\tlearn: 130.8294604\ttotal: 42ms\tremaining: 25.2ms\n",
      "125:\tlearn: 130.6107905\ttotal: 42.2ms\tremaining: 24.8ms\n",
      "126:\tlearn: 130.1614924\ttotal: 42.5ms\tremaining: 24.4ms\n",
      "127:\tlearn: 129.3166972\ttotal: 42.8ms\tremaining: 24.1ms\n",
      "128:\tlearn: 129.1038672\ttotal: 43.1ms\tremaining: 23.7ms\n",
      "129:\tlearn: 128.9594874\ttotal: 43.4ms\tremaining: 23.4ms\n",
      "130:\tlearn: 128.1849638\ttotal: 43.7ms\tremaining: 23ms\n",
      "131:\tlearn: 128.0307033\ttotal: 43.9ms\tremaining: 22.6ms\n",
      "132:\tlearn: 127.3373882\ttotal: 44.3ms\tremaining: 22.3ms\n",
      "133:\tlearn: 126.2856989\ttotal: 44.5ms\tremaining: 21.9ms\n",
      "134:\tlearn: 126.1379832\ttotal: 44.9ms\tremaining: 21.6ms\n",
      "135:\tlearn: 126.0180019\ttotal: 45.4ms\tremaining: 21.3ms\n",
      "136:\tlearn: 125.8843963\ttotal: 45.7ms\tremaining: 21ms\n",
      "137:\tlearn: 125.7576333\ttotal: 46.1ms\tremaining: 20.7ms\n",
      "138:\tlearn: 125.4794581\ttotal: 46.4ms\tremaining: 20.4ms\n",
      "139:\tlearn: 124.7920270\ttotal: 46.7ms\tremaining: 20ms\n",
      "140:\tlearn: 124.6530278\ttotal: 47ms\tremaining: 19.7ms\n",
      "141:\tlearn: 123.4539010\ttotal: 47.3ms\tremaining: 19.3ms\n",
      "142:\tlearn: 122.8980001\ttotal: 47.6ms\tremaining: 19ms\n",
      "143:\tlearn: 122.0911177\ttotal: 47.9ms\tremaining: 18.6ms\n",
      "144:\tlearn: 121.1209154\ttotal: 48.2ms\tremaining: 18.3ms\n",
      "145:\tlearn: 120.1613553\ttotal: 48.4ms\tremaining: 17.9ms\n",
      "146:\tlearn: 119.1894727\ttotal: 48.7ms\tremaining: 17.6ms\n",
      "147:\tlearn: 118.0325732\ttotal: 49ms\tremaining: 17.2ms\n",
      "148:\tlearn: 117.9138240\ttotal: 49.4ms\tremaining: 16.9ms\n",
      "149:\tlearn: 117.3831462\ttotal: 49.7ms\tremaining: 16.6ms\n",
      "150:\tlearn: 116.8475244\ttotal: 50ms\tremaining: 16.2ms\n",
      "151:\tlearn: 116.3821954\ttotal: 50.4ms\tremaining: 15.9ms\n",
      "152:\tlearn: 115.5293176\ttotal: 50.8ms\tremaining: 15.6ms\n",
      "153:\tlearn: 115.0975175\ttotal: 51.1ms\tremaining: 15.3ms\n",
      "154:\tlearn: 114.0649594\ttotal: 51.4ms\tremaining: 14.9ms\n",
      "155:\tlearn: 113.2562326\ttotal: 51.8ms\tremaining: 14.6ms\n",
      "156:\tlearn: 112.7557871\ttotal: 52.2ms\tremaining: 14.3ms\n",
      "157:\tlearn: 112.5657565\ttotal: 52.6ms\tremaining: 14ms\n",
      "158:\tlearn: 112.3541525\ttotal: 53ms\tremaining: 13.7ms\n",
      "159:\tlearn: 111.8527982\ttotal: 53.4ms\tremaining: 13.4ms\n",
      "160:\tlearn: 111.1619644\ttotal: 53.8ms\tremaining: 13ms\n",
      "161:\tlearn: 110.3588257\ttotal: 54.2ms\tremaining: 12.7ms\n",
      "162:\tlearn: 109.6664293\ttotal: 54.6ms\tremaining: 12.4ms\n",
      "163:\tlearn: 109.5577303\ttotal: 55.1ms\tremaining: 12.1ms\n",
      "164:\tlearn: 109.0570285\ttotal: 55.4ms\tremaining: 11.8ms\n",
      "165:\tlearn: 108.7601467\ttotal: 55.7ms\tremaining: 11.4ms\n",
      "166:\tlearn: 108.0448620\ttotal: 56ms\tremaining: 11.1ms\n",
      "167:\tlearn: 107.5593372\ttotal: 56.3ms\tremaining: 10.7ms\n",
      "168:\tlearn: 106.3862999\ttotal: 56.6ms\tremaining: 10.4ms\n",
      "169:\tlearn: 106.2180807\ttotal: 56.9ms\tremaining: 10ms\n",
      "170:\tlearn: 106.0695603\ttotal: 57.2ms\tremaining: 9.7ms\n",
      "171:\tlearn: 105.6940213\ttotal: 57.5ms\tremaining: 9.37ms\n",
      "172:\tlearn: 104.7598987\ttotal: 57.8ms\tremaining: 9.02ms\n",
      "173:\tlearn: 104.6589992\ttotal: 58.1ms\tremaining: 8.68ms\n",
      "174:\tlearn: 103.7203657\ttotal: 58.5ms\tremaining: 8.36ms\n",
      "175:\tlearn: 103.2660987\ttotal: 58.8ms\tremaining: 8.02ms\n",
      "176:\tlearn: 103.0926213\ttotal: 59.1ms\tremaining: 7.68ms\n",
      "177:\tlearn: 102.6925209\ttotal: 59.4ms\tremaining: 7.34ms\n",
      "178:\tlearn: 102.1655154\ttotal: 59.8ms\tremaining: 7.01ms\n",
      "179:\tlearn: 101.8273108\ttotal: 60.1ms\tremaining: 6.68ms\n",
      "180:\tlearn: 101.7264515\ttotal: 60.4ms\tremaining: 6.34ms\n",
      "181:\tlearn: 101.1102333\ttotal: 60.7ms\tremaining: 6ms\n",
      "182:\tlearn: 100.7880364\ttotal: 61ms\tremaining: 5.67ms\n",
      "183:\tlearn: 100.6673014\ttotal: 61.3ms\tremaining: 5.33ms\n",
      "184:\tlearn: 100.0153055\ttotal: 61.6ms\tremaining: 4.99ms\n",
      "185:\tlearn: 99.7667281\ttotal: 61.9ms\tremaining: 4.66ms\n",
      "186:\tlearn: 99.1860593\ttotal: 62.2ms\tremaining: 4.33ms\n",
      "187:\tlearn: 99.0408133\ttotal: 62.7ms\tremaining: 4ms\n",
      "188:\tlearn: 98.9030718\ttotal: 63.2ms\tremaining: 3.68ms\n",
      "189:\tlearn: 97.4513860\ttotal: 63.6ms\tremaining: 3.34ms\n",
      "190:\tlearn: 97.3322959\ttotal: 63.8ms\tremaining: 3.01ms\n",
      "191:\tlearn: 97.1950848\ttotal: 64.2ms\tremaining: 2.67ms\n",
      "192:\tlearn: 96.6789532\ttotal: 64.5ms\tremaining: 2.34ms\n",
      "193:\tlearn: 96.5506179\ttotal: 64.7ms\tremaining: 2ms\n",
      "194:\tlearn: 95.6635039\ttotal: 65.1ms\tremaining: 1.67ms\n",
      "195:\tlearn: 94.8850777\ttotal: 65.4ms\tremaining: 1.33ms\n",
      "196:\tlearn: 94.1624589\ttotal: 65.7ms\tremaining: 999us\n",
      "197:\tlearn: 93.8220662\ttotal: 65.9ms\tremaining: 666us\n",
      "198:\tlearn: 93.7300351\ttotal: 66.2ms\tremaining: 332us\n",
      "199:\tlearn: 93.3339522\ttotal: 66.5ms\tremaining: 0us\n"
     ]
    }
   ],
   "source": [
    "catb_tuned_model = CatBoostRegressor(learning_rate     = 0.1,\n",
    "                                     depth             = 3,\n",
    "                                     iterations        = 200).fit(X_train,Y_train)"
   ]
  },
  {
   "cell_type": "code",
   "execution_count": 120,
   "metadata": {},
   "outputs": [
    {
     "data": {
      "text/plain": [
       "344.3125832615482"
      ]
     },
     "execution_count": 120,
     "metadata": {},
     "output_type": "execute_result"
    }
   ],
   "source": [
    "y_pred = catb_tuned_model.predict(X_test)\n",
    "np.sqrt(mean_squared_error(Y_test,y_pred))"
   ]
  },
  {
   "cell_type": "markdown",
   "metadata": {},
   "source": [
    "### DEĞİŞKEN ÖNEM DÜZEYİ"
   ]
  },
  {
   "cell_type": "code",
   "execution_count": 121,
   "metadata": {},
   "outputs": [
    {
     "data": {
      "text/plain": [
       "array([ 483.08440286,  342.55081021,   55.10468139,  388.45433467,\n",
       "        371.09095295,  660.35246291, 1121.62201627,  908.02967662,\n",
       "        764.96456289,  748.2908984 ,  764.31687062, 1083.81329882,\n",
       "       1144.88190387,  790.30177621,   59.97017223,  168.50077458,\n",
       "         30.90104711,    0.        ,  113.7693574 ])"
      ]
     },
     "execution_count": 121,
     "metadata": {},
     "output_type": "execute_result"
    }
   ],
   "source": [
    "catb_tuned_model.feature_importances_*100"
   ]
  },
  {
   "cell_type": "code",
   "execution_count": 122,
   "metadata": {},
   "outputs": [
    {
     "data": {
      "image/png": "[encoded data removed]",
      "text/plain": [
       "<Figure size 640x480 with 1 Axes>"
      ]
     },
     "metadata": {},
     "output_type": "display_data"
    }
   ],
   "source": [
    "Importance = pd.DataFrame({\"Importance\":catb_tuned_model.feature_importances_*100},\n",
    "                          index=X_train.columns)\n",
    "\n",
    "Importance.sort_values(by =\"Importance\",\n",
    "                       axis=0,\n",
    "                       ascending=True).plot(kind=\"barh\",\n",
    "                                            color =\"r\")\n",
    "\n",
    "plt.xlabel(\"Variable Importance\")\n",
    "plt.gca().legend_ = None"
   ]
  },
  {
   "cell_type": "markdown",
   "metadata": {},
   "source": [
    "---\n",
    "# MAKİNE ÖĞRENMESİ GÖREVLERİNİN OTOMATİKLEŞTİRİLMESİ\n",
    "---"
   ]
  },
  {
   "cell_type": "code",
   "execution_count": 281,
   "metadata": {},
   "outputs": [],
   "source": [
    "df  = pd.read_csv(\"../linear_regression/Hitters.csv\")       # veriyi okuma\n",
    "df  = df.dropna()                                           # veri ön işleme\n",
    "dms = pd.get_dummies(df[[\"League\",\"Division\",\"NewLeague\"]]) # Kategorik değişkenleri dummy değişkenlere dönüştür\n",
    "                                                            # Bu adım, kategorik değişkenlerin sağladığı bilgiyi daha iyi alabilmek için one-hot encoding uygular"
   ]
  },
  {
   "cell_type": "code",
   "execution_count": 349,
   "metadata": {},
   "outputs": [],
   "source": [
    "def compML(df, dependent_variable, algorithm): #dataset,Y,algorithm name\n",
    "    #traint-test ayrimi\n",
    "    Y   = df[dependent_variable]                                          # bağımlı değişken\n",
    "    X_  = df.drop([\"Salary\",\"League\",\"Division\",\"NewLeague\"], axis=1).astype(\"float64\") #kategorik ve bağımlı değişkeni çıkartarak X_ değişkenine atadık.\n",
    "    X   = pd.concat([X_,dms[[\"League_N\",\"Division_W\",\"NewLeague_N\"]]],axis=1)           # Bağımsız değişkenlerin son halini oluşturmak için, \n",
    "                                                                                    # dummy değişkenleri (kategorik değişkenlerin dönüştürülmüş halleri) X_'e ekle \n",
    "    X_train, X_test, Y_train, Y_test = train_test_split(X,\n",
    "                                                        Y,\n",
    "                                                        test_size=0.25,\n",
    "                                                        random_state=42) # %25 test için ayrıldı.\n",
    "    #modelleme\n",
    "    model   = algorithm().fit(X_train,Y_train)\n",
    "    y_pred  = model.predict(X_test)\n",
    "    RMSE    = np.sqrt(mean_squared_error(Y_test,y_pred))\n",
    "    model_name = algorithm.__name__\n",
    "    print(model_name,\"Modeli Test Hatasi:\",RMSE)"
   ]
  },
  {
   "cell_type": "code",
   "execution_count": 350,
   "metadata": {},
   "outputs": [
    {
     "name": "stdout",
     "output_type": "stream",
     "text": [
      "SVR Modeli Test Hatasi: 460.0032657244849\n"
     ]
    }
   ],
   "source": [
    "compML(df,\"Salary\", SVR)"
   ]
  },
  {
   "cell_type": "code",
   "execution_count": 360,
   "metadata": {},
   "outputs": [],
   "source": [
    "models = [lambda: LGBMRegressor(verbosity=-1),\n",
    "          #lambda: XGBRegressor(verbosity=0),\n",
    "          GradientBoostingRegressor,\n",
    "          RandomForestRegressor,\n",
    "          DecisionTreeRegressor,\n",
    "          MLPRegressor,\n",
    "          KNeighborsRegressor,\n",
    "          SVR,\n",
    "          lambda: CatBoostRegressor(silent=True)]"
   ]
  },
  {
   "cell_type": "code",
   "execution_count": 361,
   "metadata": {},
   "outputs": [
    {
     "name": "stdout",
     "output_type": "stream",
     "text": [
      "<lambda> Modeli Test Hatasi: 363.8712087611089\n",
      "GradientBoostingRegressor Modeli Test Hatasi: 349.1545753738481\n",
      "RandomForestRegressor Modeli Test Hatasi: 337.3722495750621\n",
      "DecisionTreeRegressor Modeli Test Hatasi: 454.40147103770175\n",
      "MLPRegressor Modeli Test Hatasi: 436.6127859360846\n",
      "KNeighborsRegressor Modeli Test Hatasi: 426.6570764525201\n",
      "SVR Modeli Test Hatasi: 460.0032657244849\n",
      "<lambda> Modeli Test Hatasi: 351.194631344607\n"
     ]
    }
   ],
   "source": [
    "for model in models:\n",
    "    compML(df,\"Salary\",model)"
   ]
  }
 ],
 "metadata": {
  "kernelspec": {
   "display_name": "Python 3",
   "language": "python",
   "name": "python3"
  },
  "language_info": {
   "codemirror_mode": {
    "name": "ipython",
    "version": 3
   },
   "file_extension": ".py",
   "mimetype": "text/x-python",
   "name": "python",
   "nbconvert_exporter": "python",
   "pygments_lexer": "ipython3",
   "version": "3.12.4"
  }
 },
 "nbformat": 4,
 "nbformat_minor": 2
}
