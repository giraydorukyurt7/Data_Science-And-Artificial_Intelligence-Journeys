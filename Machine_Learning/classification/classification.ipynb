{
 "cells": [
  {
   "cell_type": "markdown",
   "metadata": {},
   "source": [
    "---\n",
    "---\n",
    "# CLASSIFICATIONS MODELS\n",
    "---\n",
    "---"
   ]
  },
  {
   "cell_type": "markdown",
   "metadata": {},
   "source": [
    "* GEREKLİ KÜTÜPHANELER"
   ]
  },
  {
   "cell_type": "code",
   "execution_count": 79,
   "metadata": {},
   "outputs": [],
   "source": [
    "import numpy                as np\n",
    "import pandas               as pd\n",
    "import statsmodels.api      as sm\n",
    "import seaborn              as sns\n",
    "import matplotlib.pyplot    as plt\n",
    "from sklearn.preprocessing      import scale, StandardScaler\n",
    "from sklearn.model_selection    import train_test_split,GridSearchCV,cross_val_score\n",
    "from sklearn.metrics            import confusion_matrix,accuracy_score,mean_squared_error,r2_score, roc_auc_score,roc_curve,classification_report\n",
    "from sklearn.linear_model       import LogisticRegression\n",
    "from sklearn.neighbors          import KNeighborsClassifier\n",
    "from sklearn.svm                import SVC\n",
    "from sklearn.neural_network     import MLPClassifier\n",
    "from sklearn.tree               import DecisionTreeClassifier\n",
    "from sklearn.ensemble           import RandomForestClassifier\n",
    "from sklearn.ensemble           import GradientBoostingClassifier"
   ]
  },
  {
   "cell_type": "code",
   "execution_count": 80,
   "metadata": {},
   "outputs": [],
   "source": [
    "import warnings\n",
    "warnings.filterwarnings(\"ignore\", category=DeprecationWarning)\n",
    "warnings.filterwarnings(\"ignore\", category=FutureWarning)"
   ]
  },
  {
   "cell_type": "markdown",
   "metadata": {},
   "source": [
    "### VERİ SETİ HİKAYESİ VE ŞEKER HASTALIĞI TAHMİNİ"
   ]
  },
  {
   "cell_type": "code",
   "execution_count": 81,
   "metadata": {},
   "outputs": [
    {
     "data": {
      "text/html": [
       "<div>\n",
       "<style scoped>\n",
       "    .dataframe tbody tr th:only-of-type {\n",
       "        vertical-align: middle;\n",
       "    }\n",
       "\n",
       "    .dataframe tbody tr th {\n",
       "        vertical-align: top;\n",
       "    }\n",
       "\n",
       "    .dataframe thead th {\n",
       "        text-align: right;\n",
       "    }\n",
       "</style>\n",
       "<table border=\"1\" class=\"dataframe\">\n",
       "  <thead>\n",
       "    <tr style=\"text-align: right;\">\n",
       "      <th></th>\n",
       "      <th>Pregnancies</th>\n",
       "      <th>Glucose</th>\n",
       "      <th>BloodPressure</th>\n",
       "      <th>SkinThickness</th>\n",
       "      <th>Insulin</th>\n",
       "      <th>BMI</th>\n",
       "      <th>DiabetesPedigreeFunction</th>\n",
       "      <th>Age</th>\n",
       "      <th>Outcome</th>\n",
       "    </tr>\n",
       "  </thead>\n",
       "  <tbody>\n",
       "    <tr>\n",
       "      <th>0</th>\n",
       "      <td>6</td>\n",
       "      <td>148</td>\n",
       "      <td>72</td>\n",
       "      <td>35</td>\n",
       "      <td>0</td>\n",
       "      <td>33.6</td>\n",
       "      <td>0.627</td>\n",
       "      <td>50</td>\n",
       "      <td>1</td>\n",
       "    </tr>\n",
       "    <tr>\n",
       "      <th>1</th>\n",
       "      <td>1</td>\n",
       "      <td>85</td>\n",
       "      <td>66</td>\n",
       "      <td>29</td>\n",
       "      <td>0</td>\n",
       "      <td>26.6</td>\n",
       "      <td>0.351</td>\n",
       "      <td>31</td>\n",
       "      <td>0</td>\n",
       "    </tr>\n",
       "    <tr>\n",
       "      <th>2</th>\n",
       "      <td>8</td>\n",
       "      <td>183</td>\n",
       "      <td>64</td>\n",
       "      <td>0</td>\n",
       "      <td>0</td>\n",
       "      <td>23.3</td>\n",
       "      <td>0.672</td>\n",
       "      <td>32</td>\n",
       "      <td>1</td>\n",
       "    </tr>\n",
       "    <tr>\n",
       "      <th>3</th>\n",
       "      <td>1</td>\n",
       "      <td>89</td>\n",
       "      <td>66</td>\n",
       "      <td>23</td>\n",
       "      <td>94</td>\n",
       "      <td>28.1</td>\n",
       "      <td>0.167</td>\n",
       "      <td>21</td>\n",
       "      <td>0</td>\n",
       "    </tr>\n",
       "    <tr>\n",
       "      <th>4</th>\n",
       "      <td>0</td>\n",
       "      <td>137</td>\n",
       "      <td>40</td>\n",
       "      <td>35</td>\n",
       "      <td>168</td>\n",
       "      <td>43.1</td>\n",
       "      <td>2.288</td>\n",
       "      <td>33</td>\n",
       "      <td>1</td>\n",
       "    </tr>\n",
       "  </tbody>\n",
       "</table>\n",
       "</div>"
      ],
      "text/plain": [
       "   Pregnancies  Glucose  BloodPressure  SkinThickness  Insulin   BMI  \\\n",
       "0            6      148             72             35        0  33.6   \n",
       "1            1       85             66             29        0  26.6   \n",
       "2            8      183             64              0        0  23.3   \n",
       "3            1       89             66             23       94  28.1   \n",
       "4            0      137             40             35      168  43.1   \n",
       "\n",
       "   DiabetesPedigreeFunction  Age  Outcome  \n",
       "0                     0.627   50        1  \n",
       "1                     0.351   31        0  \n",
       "2                     0.672   32        1  \n",
       "3                     0.167   21        0  \n",
       "4                     2.288   33        1  "
      ]
     },
     "execution_count": 81,
     "metadata": {},
     "output_type": "execute_result"
    }
   ],
   "source": [
    "df = pd.read_csv(\"diabetes.csv\")\n",
    "df.head()"
   ]
  },
  {
   "cell_type": "code",
   "execution_count": 82,
   "metadata": {},
   "outputs": [
    {
     "data": {
      "text/plain": [
       "Outcome\n",
       "0    500\n",
       "1    268\n",
       "Name: count, dtype: int64"
      ]
     },
     "execution_count": 82,
     "metadata": {},
     "output_type": "execute_result"
    }
   ],
   "source": [
    "df[\"Outcome\"].value_counts()"
   ]
  },
  {
   "cell_type": "code",
   "execution_count": 83,
   "metadata": {},
   "outputs": [
    {
     "data": {
      "text/html": [
       "<div>\n",
       "<style scoped>\n",
       "    .dataframe tbody tr th:only-of-type {\n",
       "        vertical-align: middle;\n",
       "    }\n",
       "\n",
       "    .dataframe tbody tr th {\n",
       "        vertical-align: top;\n",
       "    }\n",
       "\n",
       "    .dataframe thead th {\n",
       "        text-align: right;\n",
       "    }\n",
       "</style>\n",
       "<table border=\"1\" class=\"dataframe\">\n",
       "  <thead>\n",
       "    <tr style=\"text-align: right;\">\n",
       "      <th></th>\n",
       "      <th>count</th>\n",
       "      <th>mean</th>\n",
       "      <th>std</th>\n",
       "      <th>min</th>\n",
       "      <th>25%</th>\n",
       "      <th>50%</th>\n",
       "      <th>75%</th>\n",
       "      <th>max</th>\n",
       "    </tr>\n",
       "  </thead>\n",
       "  <tbody>\n",
       "    <tr>\n",
       "      <th>Pregnancies</th>\n",
       "      <td>768.0</td>\n",
       "      <td>3.845052</td>\n",
       "      <td>3.369578</td>\n",
       "      <td>0.000</td>\n",
       "      <td>1.00000</td>\n",
       "      <td>3.0000</td>\n",
       "      <td>6.00000</td>\n",
       "      <td>17.00</td>\n",
       "    </tr>\n",
       "    <tr>\n",
       "      <th>Glucose</th>\n",
       "      <td>768.0</td>\n",
       "      <td>120.894531</td>\n",
       "      <td>31.972618</td>\n",
       "      <td>0.000</td>\n",
       "      <td>99.00000</td>\n",
       "      <td>117.0000</td>\n",
       "      <td>140.25000</td>\n",
       "      <td>199.00</td>\n",
       "    </tr>\n",
       "    <tr>\n",
       "      <th>BloodPressure</th>\n",
       "      <td>768.0</td>\n",
       "      <td>69.105469</td>\n",
       "      <td>19.355807</td>\n",
       "      <td>0.000</td>\n",
       "      <td>62.00000</td>\n",
       "      <td>72.0000</td>\n",
       "      <td>80.00000</td>\n",
       "      <td>122.00</td>\n",
       "    </tr>\n",
       "    <tr>\n",
       "      <th>SkinThickness</th>\n",
       "      <td>768.0</td>\n",
       "      <td>20.536458</td>\n",
       "      <td>15.952218</td>\n",
       "      <td>0.000</td>\n",
       "      <td>0.00000</td>\n",
       "      <td>23.0000</td>\n",
       "      <td>32.00000</td>\n",
       "      <td>99.00</td>\n",
       "    </tr>\n",
       "    <tr>\n",
       "      <th>Insulin</th>\n",
       "      <td>768.0</td>\n",
       "      <td>79.799479</td>\n",
       "      <td>115.244002</td>\n",
       "      <td>0.000</td>\n",
       "      <td>0.00000</td>\n",
       "      <td>30.5000</td>\n",
       "      <td>127.25000</td>\n",
       "      <td>846.00</td>\n",
       "    </tr>\n",
       "    <tr>\n",
       "      <th>BMI</th>\n",
       "      <td>768.0</td>\n",
       "      <td>31.992578</td>\n",
       "      <td>7.884160</td>\n",
       "      <td>0.000</td>\n",
       "      <td>27.30000</td>\n",
       "      <td>32.0000</td>\n",
       "      <td>36.60000</td>\n",
       "      <td>67.10</td>\n",
       "    </tr>\n",
       "    <tr>\n",
       "      <th>DiabetesPedigreeFunction</th>\n",
       "      <td>768.0</td>\n",
       "      <td>0.471876</td>\n",
       "      <td>0.331329</td>\n",
       "      <td>0.078</td>\n",
       "      <td>0.24375</td>\n",
       "      <td>0.3725</td>\n",
       "      <td>0.62625</td>\n",
       "      <td>2.42</td>\n",
       "    </tr>\n",
       "    <tr>\n",
       "      <th>Age</th>\n",
       "      <td>768.0</td>\n",
       "      <td>33.240885</td>\n",
       "      <td>11.760232</td>\n",
       "      <td>21.000</td>\n",
       "      <td>24.00000</td>\n",
       "      <td>29.0000</td>\n",
       "      <td>41.00000</td>\n",
       "      <td>81.00</td>\n",
       "    </tr>\n",
       "    <tr>\n",
       "      <th>Outcome</th>\n",
       "      <td>768.0</td>\n",
       "      <td>0.348958</td>\n",
       "      <td>0.476951</td>\n",
       "      <td>0.000</td>\n",
       "      <td>0.00000</td>\n",
       "      <td>0.0000</td>\n",
       "      <td>1.00000</td>\n",
       "      <td>1.00</td>\n",
       "    </tr>\n",
       "  </tbody>\n",
       "</table>\n",
       "</div>"
      ],
      "text/plain": [
       "                          count        mean         std     min       25%  \\\n",
       "Pregnancies               768.0    3.845052    3.369578   0.000   1.00000   \n",
       "Glucose                   768.0  120.894531   31.972618   0.000  99.00000   \n",
       "BloodPressure             768.0   69.105469   19.355807   0.000  62.00000   \n",
       "SkinThickness             768.0   20.536458   15.952218   0.000   0.00000   \n",
       "Insulin                   768.0   79.799479  115.244002   0.000   0.00000   \n",
       "BMI                       768.0   31.992578    7.884160   0.000  27.30000   \n",
       "DiabetesPedigreeFunction  768.0    0.471876    0.331329   0.078   0.24375   \n",
       "Age                       768.0   33.240885   11.760232  21.000  24.00000   \n",
       "Outcome                   768.0    0.348958    0.476951   0.000   0.00000   \n",
       "\n",
       "                               50%        75%     max  \n",
       "Pregnancies                 3.0000    6.00000   17.00  \n",
       "Glucose                   117.0000  140.25000  199.00  \n",
       "BloodPressure              72.0000   80.00000  122.00  \n",
       "SkinThickness              23.0000   32.00000   99.00  \n",
       "Insulin                    30.5000  127.25000  846.00  \n",
       "BMI                        32.0000   36.60000   67.10  \n",
       "DiabetesPedigreeFunction    0.3725    0.62625    2.42  \n",
       "Age                        29.0000   41.00000   81.00  \n",
       "Outcome                     0.0000    1.00000    1.00  "
      ]
     },
     "execution_count": 83,
     "metadata": {},
     "output_type": "execute_result"
    }
   ],
   "source": [
    "df.describe().T"
   ]
  },
  {
   "cell_type": "code",
   "execution_count": 84,
   "metadata": {},
   "outputs": [],
   "source": [
    "Y = df[\"Outcome\"]\n",
    "X = df.drop([\"Outcome\"], axis=1)"
   ]
  },
  {
   "cell_type": "code",
   "execution_count": 85,
   "metadata": {},
   "outputs": [
    {
     "data": {
      "text/plain": [
       "0    1\n",
       "1    0\n",
       "2    1\n",
       "3    0\n",
       "4    1\n",
       "Name: Outcome, dtype: int64"
      ]
     },
     "execution_count": 85,
     "metadata": {},
     "output_type": "execute_result"
    }
   ],
   "source": [
    "Y.head()"
   ]
  },
  {
   "cell_type": "code",
   "execution_count": 86,
   "metadata": {},
   "outputs": [
    {
     "data": {
      "text/html": [
       "<div>\n",
       "<style scoped>\n",
       "    .dataframe tbody tr th:only-of-type {\n",
       "        vertical-align: middle;\n",
       "    }\n",
       "\n",
       "    .dataframe tbody tr th {\n",
       "        vertical-align: top;\n",
       "    }\n",
       "\n",
       "    .dataframe thead th {\n",
       "        text-align: right;\n",
       "    }\n",
       "</style>\n",
       "<table border=\"1\" class=\"dataframe\">\n",
       "  <thead>\n",
       "    <tr style=\"text-align: right;\">\n",
       "      <th></th>\n",
       "      <th>Pregnancies</th>\n",
       "      <th>Glucose</th>\n",
       "      <th>BloodPressure</th>\n",
       "      <th>SkinThickness</th>\n",
       "      <th>Insulin</th>\n",
       "      <th>BMI</th>\n",
       "      <th>DiabetesPedigreeFunction</th>\n",
       "      <th>Age</th>\n",
       "    </tr>\n",
       "  </thead>\n",
       "  <tbody>\n",
       "    <tr>\n",
       "      <th>0</th>\n",
       "      <td>6</td>\n",
       "      <td>148</td>\n",
       "      <td>72</td>\n",
       "      <td>35</td>\n",
       "      <td>0</td>\n",
       "      <td>33.6</td>\n",
       "      <td>0.627</td>\n",
       "      <td>50</td>\n",
       "    </tr>\n",
       "    <tr>\n",
       "      <th>1</th>\n",
       "      <td>1</td>\n",
       "      <td>85</td>\n",
       "      <td>66</td>\n",
       "      <td>29</td>\n",
       "      <td>0</td>\n",
       "      <td>26.6</td>\n",
       "      <td>0.351</td>\n",
       "      <td>31</td>\n",
       "    </tr>\n",
       "    <tr>\n",
       "      <th>2</th>\n",
       "      <td>8</td>\n",
       "      <td>183</td>\n",
       "      <td>64</td>\n",
       "      <td>0</td>\n",
       "      <td>0</td>\n",
       "      <td>23.3</td>\n",
       "      <td>0.672</td>\n",
       "      <td>32</td>\n",
       "    </tr>\n",
       "    <tr>\n",
       "      <th>3</th>\n",
       "      <td>1</td>\n",
       "      <td>89</td>\n",
       "      <td>66</td>\n",
       "      <td>23</td>\n",
       "      <td>94</td>\n",
       "      <td>28.1</td>\n",
       "      <td>0.167</td>\n",
       "      <td>21</td>\n",
       "    </tr>\n",
       "    <tr>\n",
       "      <th>4</th>\n",
       "      <td>0</td>\n",
       "      <td>137</td>\n",
       "      <td>40</td>\n",
       "      <td>35</td>\n",
       "      <td>168</td>\n",
       "      <td>43.1</td>\n",
       "      <td>2.288</td>\n",
       "      <td>33</td>\n",
       "    </tr>\n",
       "  </tbody>\n",
       "</table>\n",
       "</div>"
      ],
      "text/plain": [
       "   Pregnancies  Glucose  BloodPressure  SkinThickness  Insulin   BMI  \\\n",
       "0            6      148             72             35        0  33.6   \n",
       "1            1       85             66             29        0  26.6   \n",
       "2            8      183             64              0        0  23.3   \n",
       "3            1       89             66             23       94  28.1   \n",
       "4            0      137             40             35      168  43.1   \n",
       "\n",
       "   DiabetesPedigreeFunction  Age  \n",
       "0                     0.627   50  \n",
       "1                     0.351   31  \n",
       "2                     0.672   32  \n",
       "3                     0.167   21  \n",
       "4                     2.288   33  "
      ]
     },
     "execution_count": 86,
     "metadata": {},
     "output_type": "execute_result"
    }
   ],
   "source": [
    "X.head()"
   ]
  },
  {
   "cell_type": "markdown",
   "metadata": {},
   "source": [
    "---\n",
    "# LOJİSTİK REGRESYON (LOGISTIC REGRESSION)\n",
    "---"
   ]
  },
  {
   "cell_type": "markdown",
   "metadata": {},
   "source": [
    "# MODEL KURMA & MODEL TAHMİN"
   ]
  },
  {
   "cell_type": "code",
   "execution_count": 87,
   "metadata": {},
   "outputs": [],
   "source": [
    "loj_model = LogisticRegression(solver=\"liblinear\").fit(X,Y)"
   ]
  },
  {
   "cell_type": "code",
   "execution_count": 88,
   "metadata": {},
   "outputs": [
    {
     "data": {
      "text/plain": [
       "array([-5.84073324])"
      ]
     },
     "execution_count": 88,
     "metadata": {},
     "output_type": "execute_result"
    }
   ],
   "source": [
    "loj_model.intercept_"
   ]
  },
  {
   "cell_type": "code",
   "execution_count": 89,
   "metadata": {},
   "outputs": [
    {
     "data": {
      "text/plain": [
       "array([[ 1.16937119e-01,  2.82506791e-02, -1.69647463e-02,\n",
       "         7.64900753e-04, -6.30568264e-04,  5.91967766e-02,\n",
       "         6.68475894e-01,  7.08845329e-03]])"
      ]
     },
     "execution_count": 89,
     "metadata": {},
     "output_type": "execute_result"
    }
   ],
   "source": [
    "loj_model.coef_"
   ]
  },
  {
   "cell_type": "code",
   "execution_count": 90,
   "metadata": {},
   "outputs": [
    {
     "data": {
      "text/plain": [
       "array([1, 0, 1, 0, 1, 0, 0, 1, 1, 0], dtype=int64)"
      ]
     },
     "execution_count": 90,
     "metadata": {},
     "output_type": "execute_result"
    }
   ],
   "source": [
    "loj_model.predict(X)[0:10]"
   ]
  },
  {
   "cell_type": "code",
   "execution_count": 91,
   "metadata": {},
   "outputs": [
    {
     "data": {
      "text/plain": [
       "0    1\n",
       "1    0\n",
       "2    1\n",
       "3    0\n",
       "4    1\n",
       "5    0\n",
       "6    1\n",
       "7    0\n",
       "8    1\n",
       "9    1\n",
       "Name: Outcome, dtype: int64"
      ]
     },
     "execution_count": 91,
     "metadata": {},
     "output_type": "execute_result"
    }
   ],
   "source": [
    "Y[0:10]"
   ]
  },
  {
   "cell_type": "code",
   "execution_count": 92,
   "metadata": {},
   "outputs": [
    {
     "data": {
      "text/plain": [
       "array([[448,  52],\n",
       "       [121, 147]], dtype=int64)"
      ]
     },
     "execution_count": 92,
     "metadata": {},
     "output_type": "execute_result"
    }
   ],
   "source": [
    "y_pred = loj_model.predict(X)\n",
    "confusion_matrix(Y,y_pred)"
   ]
  },
  {
   "cell_type": "code",
   "execution_count": 93,
   "metadata": {},
   "outputs": [
    {
     "data": {
      "text/plain": [
       "0.7747395833333334"
      ]
     },
     "execution_count": 93,
     "metadata": {},
     "output_type": "execute_result"
    }
   ],
   "source": [
    "accuracy_score(Y, y_pred)"
   ]
  },
  {
   "cell_type": "code",
   "execution_count": 94,
   "metadata": {},
   "outputs": [
    {
     "name": "stdout",
     "output_type": "stream",
     "text": [
      "              precision    recall  f1-score   support\n",
      "\n",
      "           0       0.79      0.90      0.84       500\n",
      "           1       0.74      0.55      0.63       268\n",
      "\n",
      "    accuracy                           0.77       768\n",
      "   macro avg       0.76      0.72      0.73       768\n",
      "weighted avg       0.77      0.77      0.77       768\n",
      "\n"
     ]
    }
   ],
   "source": [
    "print(classification_report(Y,y_pred))"
   ]
  },
  {
   "cell_type": "code",
   "execution_count": 95,
   "metadata": {},
   "outputs": [
    {
     "data": {
      "text/plain": [
       "array([[0.35208919, 0.64791081],\n",
       "       [0.91613598, 0.08386402],\n",
       "       [0.22544273, 0.77455727],\n",
       "       [0.92033572, 0.07966428],\n",
       "       [0.16985872, 0.83014128],\n",
       "       [0.79768782, 0.20231218],\n",
       "       [0.8787278 , 0.1212722 ],\n",
       "       [0.2764273 , 0.7235727 ],\n",
       "       [0.32085978, 0.67914022],\n",
       "       [0.9216265 , 0.0783735 ]])"
      ]
     },
     "execution_count": 95,
     "metadata": {},
     "output_type": "execute_result"
    }
   ],
   "source": [
    "loj_model.predict_proba(X)[0:10]"
   ]
  },
  {
   "cell_type": "code",
   "execution_count": 96,
   "metadata": {},
   "outputs": [
    {
     "data": {
      "image/png": "[encoded data removed]",
      "text/plain": [
       "<Figure size 640x480 with 1 Axes>"
      ]
     },
     "metadata": {},
     "output_type": "display_data"
    }
   ],
   "source": [
    "#roc egrisi\n",
    "logit_roc_auc = roc_auc_score(Y, loj_model.predict(X))\n",
    "fpr,tpr,thresholds = roc_curve(Y, loj_model.predict_proba(X)[:,1])\n",
    "plt.figure()\n",
    "plt.plot(fpr,tpr,label=\"AUC (area=%0.2f)\" % logit_roc_auc)\n",
    "plt.plot([0,1],[0,1],\"r--\")\n",
    "plt.xlim([0.0,1.0])\n",
    "plt.ylim([0.0,1.05])\n",
    "plt.xlabel(\"False Positive Rate\")\n",
    "plt.ylabel(\"True Positive Rate\")\n",
    "plt.title(\"receiver operating charateristic\")\n",
    "plt.legend(loc=\"lower right\")\n",
    "plt.savefig(\"Log_ROC\")\n",
    "plt.show()"
   ]
  },
  {
   "cell_type": "markdown",
   "metadata": {},
   "source": [
    "# MODEL VALIDATION (MODEL DOĞRULAMA)"
   ]
  },
  {
   "cell_type": "code",
   "execution_count": 97,
   "metadata": {},
   "outputs": [],
   "source": [
    "X_train, X_test, Y_train, Y_test = train_test_split(X,\n",
    "                                                    Y,\n",
    "                                                    test_size=0.30,\n",
    "                                                    random_state=42)"
   ]
  },
  {
   "cell_type": "code",
   "execution_count": 98,
   "metadata": {},
   "outputs": [],
   "source": [
    "loj_cv_model = LogisticRegression(solver=\"liblinear\").fit(X_train,Y_train)"
   ]
  },
  {
   "cell_type": "code",
   "execution_count": 99,
   "metadata": {},
   "outputs": [],
   "source": [
    "y_pred = loj_cv_model.predict(X_test)"
   ]
  },
  {
   "cell_type": "code",
   "execution_count": 100,
   "metadata": {},
   "outputs": [
    {
     "name": "stdout",
     "output_type": "stream",
     "text": [
      "0.7532467532467533\n"
     ]
    }
   ],
   "source": [
    "print(accuracy_score(Y_test,y_pred))"
   ]
  },
  {
   "cell_type": "code",
   "execution_count": 101,
   "metadata": {},
   "outputs": [
    {
     "data": {
      "text/plain": [
       "0.7748188405797102"
      ]
     },
     "execution_count": 101,
     "metadata": {},
     "output_type": "execute_result"
    }
   ],
   "source": [
    "cross_val_score(loj_model, X_test, Y_test, cv=10).mean()"
   ]
  },
  {
   "cell_type": "markdown",
   "metadata": {},
   "source": [
    "---\n",
    "# LOJİSTİK REGRESYON (LOGISTIC REGRESSION)\n",
    "---"
   ]
  },
  {
   "cell_type": "code",
   "execution_count": 102,
   "metadata": {},
   "outputs": [],
   "source": [
    "Y = df[\"Outcome\"]\n",
    "X = df.drop([\"Outcome\"], axis=1)\n",
    "X_train, X_test, Y_train, Y_test = train_test_split(X,\n",
    "                                                    Y,\n",
    "                                                    test_size=0.30,\n",
    "                                                    random_state=42)"
   ]
  },
  {
   "cell_type": "markdown",
   "metadata": {},
   "source": [
    "# MODEL KURMA & MODEL TAHMİN"
   ]
  },
  {
   "cell_type": "code",
   "execution_count": 103,
   "metadata": {},
   "outputs": [
    {
     "data": {
      "text/plain": [
       "{'algorithm': 'auto',\n",
       " 'leaf_size': 30,\n",
       " 'metric': 'minkowski',\n",
       " 'metric_params': None,\n",
       " 'n_jobs': None,\n",
       " 'n_neighbors': 5,\n",
       " 'p': 2,\n",
       " 'weights': 'uniform'}"
      ]
     },
     "execution_count": 103,
     "metadata": {},
     "output_type": "execute_result"
    }
   ],
   "source": [
    "knn_model = KNeighborsClassifier().fit(X_train,Y_train)\n",
    "knn_model.get_params()"
   ]
  },
  {
   "cell_type": "code",
   "execution_count": 104,
   "metadata": {},
   "outputs": [
    {
     "name": "stdout",
     "output_type": "stream",
     "text": [
      "0.6883116883116883\n",
      "              precision    recall  f1-score   support\n",
      "\n",
      "           0       0.77      0.75      0.76       151\n",
      "           1       0.55      0.56      0.56        80\n",
      "\n",
      "    accuracy                           0.69       231\n",
      "   macro avg       0.66      0.66      0.66       231\n",
      "weighted avg       0.69      0.69      0.69       231\n",
      "\n"
     ]
    }
   ],
   "source": [
    "y_pred = knn_model.predict(X_test)\n",
    "print(accuracy_score(Y_test,y_pred))\n",
    "print(classification_report(Y_test,y_pred))"
   ]
  },
  {
   "cell_type": "markdown",
   "metadata": {},
   "source": [
    "# MODEL TUNING"
   ]
  },
  {
   "cell_type": "code",
   "execution_count": 105,
   "metadata": {},
   "outputs": [
    {
     "name": "stdout",
     "output_type": "stream",
     "text": [
      "{'n_neighbors': 11}\n",
      "0.748637316561845\n"
     ]
    }
   ],
   "source": [
    "knn = KNeighborsClassifier()\n",
    "\n",
    "knn_params = {\"n_neighbors\": np.arange(1,50)}\n",
    "\n",
    "knn_cv_model = GridSearchCV(knn, knn_params, cv=10).fit(X_train,Y_train)\n",
    "\n",
    "print(knn_cv_model.best_params_)\n",
    "print(knn_cv_model.best_score_)"
   ]
  },
  {
   "cell_type": "code",
   "execution_count": 106,
   "metadata": {},
   "outputs": [
    {
     "data": {
      "text/plain": [
       "0.7316017316017316"
      ]
     },
     "execution_count": 106,
     "metadata": {},
     "output_type": "execute_result"
    }
   ],
   "source": [
    "#final\n",
    "knn_tuned = KNeighborsClassifier(n_neighbors=11).fit(X_train,Y_train)\n",
    "\n",
    "y_pred = knn_tuned.predict(X_test)\n",
    "accuracy_score(Y_test,y_pred)"
   ]
  },
  {
   "cell_type": "code",
   "execution_count": 107,
   "metadata": {},
   "outputs": [
    {
     "data": {
      "text/plain": [
       "0.7316017316017316"
      ]
     },
     "execution_count": 107,
     "metadata": {},
     "output_type": "execute_result"
    }
   ],
   "source": [
    "knn_tuned.score(X_test,Y_test)"
   ]
  },
  {
   "cell_type": "markdown",
   "metadata": {},
   "source": [
    "---\n",
    "# DESTEK VEKTÖR MAKİNELERİ (SVM)\n",
    "---"
   ]
  },
  {
   "cell_type": "code",
   "execution_count": 109,
   "metadata": {},
   "outputs": [],
   "source": [
    "Y = df[\"Outcome\"]\n",
    "X = df.drop([\"Outcome\"], axis=1)\n",
    "X_train, X_test, Y_train, Y_test = train_test_split(X,\n",
    "                                                    Y,\n",
    "                                                    test_size=0.30,\n",
    "                                                    random_state=42)"
   ]
  },
  {
   "cell_type": "markdown",
   "metadata": {},
   "source": [
    "# MODEL KURMA & MODEL TAHMİN"
   ]
  },
  {
   "cell_type": "code",
   "execution_count": 116,
   "metadata": {},
   "outputs": [
    {
     "data": {
      "text/plain": [
       "{'C': 1.0,\n",
       " 'break_ties': False,\n",
       " 'cache_size': 200,\n",
       " 'class_weight': None,\n",
       " 'coef0': 0.0,\n",
       " 'decision_function_shape': 'ovr',\n",
       " 'degree': 3,\n",
       " 'gamma': 'scale',\n",
       " 'kernel': 'linear',\n",
       " 'max_iter': -1,\n",
       " 'probability': False,\n",
       " 'random_state': None,\n",
       " 'shrinking': True,\n",
       " 'tol': 0.001,\n",
       " 'verbose': False}"
      ]
     },
     "execution_count": 116,
     "metadata": {},
     "output_type": "execute_result"
    }
   ],
   "source": [
    "svm_model = SVC(kernel=\"linear\").fit(X_train,Y_train)\n",
    "svm_model.get_params()"
   ]
  },
  {
   "cell_type": "code",
   "execution_count": 118,
   "metadata": {},
   "outputs": [
    {
     "name": "stdout",
     "output_type": "stream",
     "text": [
      "0.7445887445887446\n"
     ]
    }
   ],
   "source": [
    "y_pred = svm_model.predict(X_test)\n",
    "print(accuracy_score(Y_test,y_pred))"
   ]
  },
  {
   "cell_type": "markdown",
   "metadata": {},
   "source": [
    "# MODEL TUNING"
   ]
  },
  {
   "cell_type": "code",
   "execution_count": 125,
   "metadata": {},
   "outputs": [
    {
     "name": "stdout",
     "output_type": "stream",
     "text": [
      "Fitting 5 folds for each of 18 candidates, totalling 90 fits\n",
      "{'C': 2, 'kernel': 'linear'}\n",
      "0.7839044652128765\n"
     ]
    }
   ],
   "source": [
    "svm = SVC().fit(X_train,Y_train)\n",
    "svm_params = {\"C\": np.arange(1,10), \n",
    "              \"kernel\":[\"linear\",\"rbf\"]}\n",
    "\n",
    "svm_cv_model = GridSearchCV(svm, svm_params, cv=5, n_jobs=-1, verbose=2).fit(X_train,Y_train)\n",
    "\n",
    "print(svm_cv_model.best_params_)\n",
    "print(svm_cv_model.best_score_)"
   ]
  },
  {
   "cell_type": "code",
   "execution_count": 126,
   "metadata": {},
   "outputs": [
    {
     "data": {
      "text/plain": [
       "0.7445887445887446"
      ]
     },
     "execution_count": 126,
     "metadata": {},
     "output_type": "execute_result"
    }
   ],
   "source": [
    "#final\n",
    "svm_tuned = SVC(C=2,kernel=\"linear\").fit(X_train,Y_train)\n",
    "\n",
    "y_pred = svm_tuned.predict(X_test)\n",
    "accuracy_score(Y_test,y_pred)"
   ]
  },
  {
   "cell_type": "markdown",
   "metadata": {},
   "source": [
    "---\n",
    "# YAPAY SİNİR AĞLARI \n",
    "# (ÇOK KATMANLI ALGILAYICILAR) \n",
    "# (DERİN ÖĞRENME) \n",
    "# (DEEP LEARNING)\n",
    "# (NEURAL NETWORK)\n",
    "---"
   ]
  },
  {
   "cell_type": "code",
   "execution_count": 127,
   "metadata": {},
   "outputs": [],
   "source": [
    "Y = df[\"Outcome\"]\n",
    "X = df.drop([\"Outcome\"], axis=1)\n",
    "X_train, X_test, Y_train, Y_test = train_test_split(X,\n",
    "                                                    Y,\n",
    "                                                    test_size=0.30,\n",
    "                                                    random_state=42)"
   ]
  },
  {
   "cell_type": "markdown",
   "metadata": {},
   "source": [
    "# MODEL KURMA & MODEL TAHMİN"
   ]
  },
  {
   "cell_type": "code",
   "execution_count": 132,
   "metadata": {},
   "outputs": [
    {
     "name": "stderr",
     "output_type": "stream",
     "text": [
      "c:\\Users\\Giray\\AppData\\Local\\Programs\\Python\\Python312\\Lib\\site-packages\\sklearn\\neural_network\\_multilayer_perceptron.py:690: ConvergenceWarning: Stochastic Optimizer: Maximum iterations (200) reached and the optimization hasn't converged yet.\n",
      "  warnings.warn(\n"
     ]
    },
    {
     "data": {
      "text/plain": [
       "{'activation': 'relu',\n",
       " 'alpha': 0.0001,\n",
       " 'batch_size': 'auto',\n",
       " 'beta_1': 0.9,\n",
       " 'beta_2': 0.999,\n",
       " 'early_stopping': False,\n",
       " 'epsilon': 1e-08,\n",
       " 'hidden_layer_sizes': (100,),\n",
       " 'learning_rate': 'constant',\n",
       " 'learning_rate_init': 0.001,\n",
       " 'max_fun': 15000,\n",
       " 'max_iter': 200,\n",
       " 'momentum': 0.9,\n",
       " 'n_iter_no_change': 10,\n",
       " 'nesterovs_momentum': True,\n",
       " 'power_t': 0.5,\n",
       " 'random_state': None,\n",
       " 'shuffle': True,\n",
       " 'solver': 'adam',\n",
       " 'tol': 0.0001,\n",
       " 'validation_fraction': 0.1,\n",
       " 'verbose': False,\n",
       " 'warm_start': False}"
      ]
     },
     "execution_count": 132,
     "metadata": {},
     "output_type": "execute_result"
    }
   ],
   "source": [
    "mlpc_model = MLPClassifier().fit(X_train,Y_train)\n",
    "mlpc_model.get_params()"
   ]
  },
  {
   "cell_type": "code",
   "execution_count": 133,
   "metadata": {},
   "outputs": [
    {
     "data": {
      "text/plain": [
       "[array([[-1.94339210e-01,  2.38869240e-01,  2.36576029e-01,\n",
       "         -8.52049765e-02, -1.31359497e-01, -4.69538710e-02,\n",
       "          2.27466613e-03,  2.44432675e-01, -2.45415375e-11,\n",
       "          2.64983904e-05, -4.53415588e-10,  4.39005763e-02,\n",
       "         -1.25402850e-01, -6.98384963e-02,  1.20828709e-01,\n",
       "         -1.66677493e-01, -1.79701790e-01, -1.92514895e-01,\n",
       "         -9.56204239e-02,  3.77215607e-02,  1.02128349e-01,\n",
       "         -1.78490762e-01, -9.52893087e-02, -3.00788467e-05,\n",
       "         -1.84352407e-01, -2.02186166e-02, -5.18459095e-03,\n",
       "          1.82569354e-03, -1.38250970e-01,  2.11755111e-02,\n",
       "         -1.25649100e-01, -7.42041278e-02,  1.00221179e-01,\n",
       "          1.92435341e-05,  9.08863628e-02,  7.11792710e-02,\n",
       "         -1.76257334e-01,  2.67280615e-01,  1.91669836e-01,\n",
       "          4.55598692e-02, -1.40074369e-02,  9.05601898e-02,\n",
       "          1.05187232e-01,  3.96146715e-01, -2.05449332e-01,\n",
       "          1.76308329e-01, -1.96733082e-03,  2.21747266e-01,\n",
       "         -2.12011632e-02,  2.12289258e-01,  1.20420379e-01,\n",
       "         -9.13561757e-02,  6.92500035e-03, -1.91882385e-01,\n",
       "         -2.10208084e-01, -2.06215533e-01,  1.00390212e-06,\n",
       "         -1.13745295e-01, -4.46812857e-02,  2.24717674e-01,\n",
       "          1.00779371e-03,  2.12044965e-01, -2.28365940e-01,\n",
       "          8.24393055e-02,  3.39702040e-01, -2.69241403e-02,\n",
       "          8.83507006e-02,  1.69011076e-01, -2.74338317e-01,\n",
       "          2.83078109e-03,  5.94570919e-02, -1.80732530e-01,\n",
       "          9.89752338e-02, -1.34163231e-01,  1.18827530e-01,\n",
       "         -1.57585075e-01, -1.41644928e-01, -7.20932800e-02,\n",
       "         -3.94827686e-02,  2.30118541e-01,  5.63987479e-10,\n",
       "         -1.76354679e-01, -2.41617913e-02, -5.26536373e-02,\n",
       "         -1.76297242e-03,  1.32011758e-01, -2.13849316e-01,\n",
       "          2.11522150e-01, -4.39497038e-02,  7.69991781e-02,\n",
       "         -7.26363983e-02, -1.19673206e-01, -6.91539574e-03,\n",
       "          6.18454477e-02, -1.35743970e-01, -2.64279367e-01,\n",
       "          2.37712064e-02, -3.49568768e-03, -3.41251850e-02,\n",
       "         -1.81864259e-01],\n",
       "        [ 1.55102634e-01, -2.74877288e-01, -9.14876912e-02,\n",
       "         -8.15011381e-02,  1.79233259e-01, -1.05771408e-01,\n",
       "         -1.83571097e-02,  2.03636365e-02, -6.07039268e-03,\n",
       "         -3.10990796e-03, -5.98219344e-03,  5.54149487e-02,\n",
       "         -6.71284085e-02, -1.83971192e-01, -2.37521563e-01,\n",
       "          2.06109476e-01,  2.39033991e-01, -1.46910843e-01,\n",
       "         -2.55454170e-01,  1.48734408e-01,  2.15342624e-01,\n",
       "          1.57506550e-01, -1.09175820e-01, -1.23105962e-02,\n",
       "         -1.56782367e-01,  1.22075074e-01, -1.48731637e-01,\n",
       "          6.23707221e-02, -4.11365787e-02,  1.31090559e-01,\n",
       "          1.91155694e-01, -1.25861846e-01, -1.40586178e-01,\n",
       "         -2.14943468e-04,  7.16896971e-02, -9.68288442e-02,\n",
       "         -1.68184593e-01, -2.30440709e-01,  1.98465646e-01,\n",
       "          1.99202854e-01, -2.04118658e-01,  1.68444069e-01,\n",
       "         -1.32428628e-01, -1.70704309e-01,  4.82322087e-02,\n",
       "         -5.78001152e-02, -7.70405333e-02, -1.48133016e-01,\n",
       "         -2.29250484e-02,  7.72783098e-02, -1.64140082e-01,\n",
       "         -1.24015166e-01,  2.62705331e-03,  3.75771345e-02,\n",
       "          2.26983942e-01,  1.79849560e-01, -1.39568650e-12,\n",
       "         -1.09552567e-01,  1.09110370e-01, -1.51738015e-01,\n",
       "          1.59837838e-01,  1.53370813e-02,  5.98083958e-02,\n",
       "         -2.73895713e-01, -9.12454082e-02,  1.99170497e-01,\n",
       "          1.58969972e-01, -2.17392318e-01, -4.06781074e-02,\n",
       "          5.78927835e-02,  1.22933715e-01, -1.15536861e-01,\n",
       "          1.86369885e-03,  1.51409143e-01,  9.03043132e-02,\n",
       "          1.96835668e-01, -1.76844304e-01,  1.72715578e-01,\n",
       "          9.58876999e-02,  1.51419309e-01, -4.13016545e-03,\n",
       "          6.51331176e-02, -2.32491507e-02,  1.41105038e-01,\n",
       "         -4.89559143e-03,  1.26483694e-01, -1.91177490e-01,\n",
       "         -5.64730040e-02,  1.58350144e-01, -2.33973167e-02,\n",
       "          2.10740898e-01,  4.67386257e-02, -2.32953178e-02,\n",
       "          9.02053597e-02,  2.33301846e-01, -4.42566560e-02,\n",
       "         -1.02588574e-01, -2.10262695e-06, -2.41859501e-02,\n",
       "         -1.26106485e-02],\n",
       "        [ 1.51390872e-01,  1.97526564e-01, -3.53133463e-02,\n",
       "          1.19384381e-01, -1.06320094e-01,  8.99402370e-02,\n",
       "         -1.68218856e-02, -1.66296716e-02, -1.23158107e-03,\n",
       "          5.08889945e-14, -1.42830771e-05,  8.05168167e-02,\n",
       "          2.84349584e-01,  2.17196873e-01,  7.41828867e-03,\n",
       "          5.31543678e-02, -1.77361602e-01, -1.89446332e-01,\n",
       "          1.18590983e-02, -3.81765716e-02, -1.82751819e-01,\n",
       "          1.74265987e-01,  9.75880569e-02, -1.84380729e-06,\n",
       "          8.49035226e-02,  5.60585329e-02,  1.99877523e-02,\n",
       "          6.07374594e-02, -1.69220846e-02, -8.54829989e-03,\n",
       "         -1.70645168e-01, -1.12502903e-01, -5.62825504e-02,\n",
       "         -6.41144724e-05,  1.65703161e-01,  2.13805303e-01,\n",
       "         -2.21725811e-01,  2.63348060e-02,  2.04126070e-01,\n",
       "         -1.61230605e-01, -2.32773661e-01, -5.62315312e-02,\n",
       "          1.61996972e-01, -2.04724770e-01, -1.26172580e-01,\n",
       "         -1.20526869e-01, -2.54195258e-01, -2.31991996e-02,\n",
       "         -6.78591935e-03,  2.25860299e-01, -1.01555872e-01,\n",
       "          1.25533965e-01, -6.09632091e-03, -1.94529763e-02,\n",
       "         -1.86733860e-01,  1.61502989e-01, -4.84099032e-09,\n",
       "          7.72143524e-02, -2.93602695e-02, -1.27248319e-01,\n",
       "          2.27541787e-01,  2.05228260e-01,  2.43712139e-01,\n",
       "         -1.00951894e-01,  3.17366323e-03,  1.03631725e-01,\n",
       "          1.23781798e-01,  3.67495414e-02,  1.16071149e-01,\n",
       "          1.90046093e-01,  2.35126268e-02,  2.10853727e-01,\n",
       "         -1.81595440e-01,  2.17288198e-01,  1.94256008e-01,\n",
       "         -1.42353774e-01, -1.43580510e-01,  1.32879887e-02,\n",
       "          2.15581484e-01,  1.44176774e-01, -4.59555600e-03,\n",
       "          2.03613095e-01, -2.90072784e-02,  2.04820127e-02,\n",
       "         -4.49171107e-03,  1.91164066e-01,  1.29671533e-01,\n",
       "          4.78605135e-02, -1.73429571e-01, -1.47020710e-01,\n",
       "          1.53444599e-01,  2.45218806e-01, -6.86125826e-03,\n",
       "         -6.42165143e-03, -1.30459582e-02,  2.13201480e-01,\n",
       "         -1.57313773e-01, -4.59958852e-08, -1.24763628e-02,\n",
       "          1.92343268e-01],\n",
       "        [ 2.01956514e-01, -2.33257350e-02, -2.38232988e-01,\n",
       "         -1.43328637e-01, -1.48531422e-01, -1.85425426e-01,\n",
       "         -3.75676070e-05,  2.71005981e-02, -9.45188893e-15,\n",
       "         -5.65964111e-04, -1.40021811e-03, -2.14860558e-02,\n",
       "          1.29984408e-01,  1.53911843e-01, -2.51027957e-01,\n",
       "         -1.87804652e-01, -1.67748580e-01,  1.16954607e-01,\n",
       "          9.12812686e-02,  1.55721228e-01,  1.66504626e-01,\n",
       "          4.86395836e-02,  1.42429206e-01, -2.82830516e-03,\n",
       "         -7.30689361e-03, -1.49953283e-01,  4.40303325e-02,\n",
       "          1.66604090e-01,  1.09121843e-01,  1.73745343e-01,\n",
       "          1.57848429e-02, -2.20838450e-04, -5.23033571e-02,\n",
       "         -1.87397707e-03,  1.17061474e-02,  4.63898192e-02,\n",
       "          6.68681413e-02,  1.58268229e-01,  5.33698500e-02,\n",
       "          2.31399424e-02, -1.26052202e-02,  1.09874208e-01,\n",
       "          1.88525108e-01,  1.88370222e-01, -2.21411066e-01,\n",
       "          1.35446106e-02,  9.94738052e-02,  2.31232297e-01,\n",
       "         -1.21234508e-02,  2.03303183e-01,  2.47423709e-01,\n",
       "          1.45711898e-01,  1.97297966e-02, -1.06237416e-02,\n",
       "          1.04663785e-01,  1.09274678e-01,  2.87798534e-07,\n",
       "          1.81406566e-01, -9.12760436e-02,  1.68746125e-01,\n",
       "          2.28141856e-01,  2.01248859e-01, -5.20970057e-02,\n",
       "         -2.43984343e-02,  7.83015221e-02, -1.13927147e-01,\n",
       "          1.31927739e-02, -9.10924450e-02,  1.90874321e-01,\n",
       "          2.75913779e-02,  2.08888846e-01,  1.42670631e-01,\n",
       "          6.53146032e-02, -1.27380590e-02,  1.45174122e-01,\n",
       "         -3.36259614e-02,  8.59158963e-02,  5.98223109e-02,\n",
       "         -1.21380220e-01,  4.84730786e-02,  2.65362625e-08,\n",
       "         -4.70301431e-02, -1.08620589e-02,  4.95398640e-02,\n",
       "          2.27921061e-03,  8.21978186e-02,  2.59904867e-02,\n",
       "         -7.44926269e-02, -1.82792935e-01,  1.20799925e-01,\n",
       "          1.49622481e-01,  1.95827590e-01,  1.70099841e-06,\n",
       "         -2.79689080e-02, -1.06934460e-01,  4.08972341e-02,\n",
       "         -4.69309920e-02,  1.21275599e-03, -1.26989326e-02,\n",
       "         -2.89954041e-03],\n",
       "        [ 5.73430701e-02,  2.95515181e-03, -6.43643822e-06,\n",
       "          2.06307421e-01, -1.01767044e-01, -1.62100435e-01,\n",
       "         -1.99969233e-03, -9.95650008e-02,  7.95568015e-10,\n",
       "         -4.59480113e-03, -5.01333662e-07, -1.31277697e-01,\n",
       "          4.16729967e-03,  9.94223992e-02,  1.62296451e-01,\n",
       "         -2.10341918e-01,  1.48978500e-01,  1.38766367e-01,\n",
       "          2.12428822e-01,  1.88545017e-01,  5.93309863e-02,\n",
       "         -2.39290876e-01, -3.70014881e-01, -6.59812606e-13,\n",
       "         -1.27687832e-02, -9.39368106e-02, -2.14148422e-01,\n",
       "          1.00944241e-01,  2.46842720e-01,  9.31371390e-02,\n",
       "         -1.03923944e-01, -1.48341793e-06,  1.88715999e-01,\n",
       "          2.74212799e-08,  3.03223021e-02, -1.07606222e-01,\n",
       "          1.87314839e-01,  1.17459077e-01, -1.59044512e-01,\n",
       "          6.23941113e-02,  1.66280085e-01, -1.40109052e-01,\n",
       "          2.24956033e-01,  2.79656761e-02,  1.28977587e-01,\n",
       "          7.04872399e-02,  3.76233778e-02, -1.89419351e-01,\n",
       "         -2.54819348e-02,  8.96428531e-02,  1.14286418e-01,\n",
       "         -2.83047219e-01, -3.94035918e-03,  5.33053141e-02,\n",
       "         -5.04188429e-02,  5.19700966e-02, -1.79984183e-03,\n",
       "         -1.42476708e-01, -1.40291206e-01,  1.26992196e-01,\n",
       "         -1.61723223e-02, -1.39278701e-01, -1.25597884e-01,\n",
       "          1.42270169e-01,  9.07638854e-02,  2.10261853e-01,\n",
       "          3.95938698e-02, -2.29081001e-01, -3.81416678e-02,\n",
       "         -1.57744323e-01,  8.46079585e-02,  2.01157234e-01,\n",
       "          2.57762908e-02, -4.49881607e-02,  2.41897809e-01,\n",
       "         -6.47359457e-02,  9.22553537e-02, -1.90223934e-01,\n",
       "          1.18694598e-01, -2.81415634e-02, -4.22651559e-11,\n",
       "          1.30144357e-01, -1.71670202e-02,  3.14722313e-02,\n",
       "         -5.87200853e-03,  2.21877457e-01,  2.82166015e-02,\n",
       "          1.69742018e-01, -1.45008950e-02,  1.44364455e-01,\n",
       "          1.92151039e-01, -1.19593071e-01, -2.99391628e-05,\n",
       "          2.05491905e-01, -2.70294144e-02, -2.40844250e-01,\n",
       "          1.17728914e-01, -2.32031296e-07, -1.76618592e-02,\n",
       "         -7.90279034e-02],\n",
       "        [ 2.37467040e-01,  2.13253114e-01,  2.98148521e-02,\n",
       "          1.79972414e-01,  1.60395052e-03,  1.19462972e-01,\n",
       "         -1.67462311e-02,  2.03950591e-01,  5.25555301e-13,\n",
       "         -1.38001546e-07, -1.34026457e-06, -7.55270888e-02,\n",
       "         -1.35726846e-01, -1.80606002e-01,  1.59640490e-01,\n",
       "          1.54182864e-01,  1.77887980e-01,  1.20382888e-02,\n",
       "          1.35018503e-01, -1.87476889e-01, -2.87247342e-02,\n",
       "          1.87294226e-01,  1.95443988e-02, -2.75126499e-04,\n",
       "          1.60467685e-01, -1.89643707e-01,  3.28923200e-02,\n",
       "          2.80982539e-02,  4.26310564e-02, -1.18967629e-01,\n",
       "         -2.48639245e-02, -7.51897809e-03,  2.09208589e-01,\n",
       "         -3.79486550e-04, -9.35750483e-02, -9.15796457e-02,\n",
       "         -4.92723452e-02,  2.60129158e-02,  4.93339602e-02,\n",
       "          1.62947161e-01,  1.04045372e-01,  2.01761460e-01,\n",
       "          1.13655824e-01,  2.68986906e-01,  1.19338152e-01,\n",
       "         -2.47182211e-01,  1.44356205e-03,  1.28533244e-01,\n",
       "         -7.61125421e-03, -1.83874680e-01, -1.77373157e-01,\n",
       "         -1.85025350e-01, -3.39163912e-03,  3.46017393e-02,\n",
       "          1.98355207e-01,  9.51022760e-02, -6.49482963e-03,\n",
       "          6.79077189e-02, -2.41102209e-02, -1.90478318e-01,\n",
       "         -1.03720412e-01, -2.82371860e-02, -1.43978988e-02,\n",
       "          1.05244989e-01, -1.58257742e-01,  2.35613142e-01,\n",
       "         -1.26218889e-01,  8.10518016e-02, -1.59223505e-01,\n",
       "          1.16153941e-03,  2.28462593e-01, -1.10877938e-01,\n",
       "         -1.67448874e-01,  7.55472561e-02, -1.09231469e-01,\n",
       "         -1.73782169e-01, -1.13733621e-01, -7.12683693e-03,\n",
       "          5.26743990e-02, -1.68569237e-01, -6.41320608e-09,\n",
       "          1.27647288e-01,  1.90888383e-02,  9.81625726e-03,\n",
       "          2.48195863e-03,  4.59694525e-02,  5.71457101e-02,\n",
       "         -3.38603118e-02, -9.88808755e-02,  3.06808656e-02,\n",
       "          1.75161656e-01,  1.30296964e-01, -2.03601352e-02,\n",
       "         -3.18937669e-02,  8.19739908e-02,  2.83410980e-01,\n",
       "          8.29381405e-02, -6.22190616e-03, -1.52765555e-02,\n",
       "          1.03850617e-01],\n",
       "        [ 2.07959451e-01,  2.85602673e-03, -7.37327088e-02,\n",
       "         -2.40384576e-01, -4.14930864e-02,  7.76412183e-02,\n",
       "          1.78322002e-02,  2.49458461e-02, -3.05491060e-04,\n",
       "          4.47398047e-11,  1.67764446e-04, -2.03890047e-01,\n",
       "         -4.83190898e-02,  2.05683625e-01,  6.30903998e-02,\n",
       "          1.49350050e-01, -2.29341847e-02, -1.96688439e-01,\n",
       "          1.61923270e-01, -1.92423624e-01, -2.20996748e-01,\n",
       "          1.94909521e-01, -7.42828640e-03, -1.62948870e-02,\n",
       "          3.74262661e-01, -3.95056975e-02,  1.57473272e-01,\n",
       "         -1.33497172e-01, -6.84705600e-02,  2.00109546e-01,\n",
       "         -7.68631883e-02,  7.35696723e-02, -1.12487526e-01,\n",
       "          2.90342225e-11,  1.87304318e-01, -1.65120050e-01,\n",
       "          1.31055972e-01,  1.14302450e-01, -1.92960714e-01,\n",
       "         -2.48622260e-04, -6.22377898e-02,  1.44508794e-01,\n",
       "          1.55614624e-01,  2.40297276e-01, -6.10012189e-03,\n",
       "          9.24347683e-02, -5.20779296e-02,  1.61455606e-01,\n",
       "          8.99870788e-03, -2.17430786e-01, -2.16870285e-01,\n",
       "         -1.22677796e-01,  1.19190948e-02, -1.35568801e-01,\n",
       "         -2.21376899e-01,  3.94373735e-02,  3.72461113e-04,\n",
       "         -2.79807079e-01, -1.45678734e-01, -1.33422023e-01,\n",
       "         -2.21685256e-01, -2.02129816e-02,  4.86114449e-02,\n",
       "          1.47272754e-03, -2.44040663e-02,  1.16886550e-01,\n",
       "         -8.94263697e-02, -1.40542431e-01, -1.26657238e-01,\n",
       "          1.86813185e-02,  1.10341488e-01,  1.08554488e-01,\n",
       "          3.81738528e-01,  1.25864671e-01, -1.89714714e-01,\n",
       "          4.42191097e-02,  2.21992250e-01, -7.33065261e-02,\n",
       "         -8.91591192e-02,  1.55934951e-01,  6.85837321e-03,\n",
       "          6.71451946e-02, -2.83009311e-02, -7.63789939e-02,\n",
       "         -5.57437447e-03, -1.99472994e-01, -8.16313720e-02,\n",
       "         -2.24503018e-01,  3.76596605e-02, -7.75098525e-02,\n",
       "         -1.54741741e-01,  1.97861703e-01, -1.36082813e-02,\n",
       "          1.47801746e-01,  2.11098870e-01,  1.10839887e-02,\n",
       "         -3.69187427e-02,  1.57049104e-08, -1.37011843e-02,\n",
       "          1.58146908e-01],\n",
       "        [ 2.08130948e-01, -2.99077872e-02,  2.06102660e-01,\n",
       "         -1.52542373e-01, -2.72604860e-01, -1.77615468e-01,\n",
       "         -1.66684275e-02,  1.06301431e-01, -9.59742320e-05,\n",
       "         -2.16135079e-04,  5.24351551e-05, -1.77180165e-01,\n",
       "         -1.70494656e-01, -7.04544244e-02, -1.95831244e-01,\n",
       "          1.15380982e-01, -6.14671176e-02, -8.21335024e-02,\n",
       "          1.22589362e-01,  9.37391956e-02, -1.54552681e-01,\n",
       "          1.94013401e-01,  2.57375790e-01, -1.87208890e-02,\n",
       "          7.04483893e-02,  1.89013141e-01,  9.24042695e-02,\n",
       "         -1.76876193e-01, -1.77126050e-02, -1.72220999e-01,\n",
       "         -1.92502373e-01,  1.98537796e-01, -8.60437776e-02,\n",
       "         -2.10212189e-04, -1.74104683e-01,  2.08518573e-02,\n",
       "         -8.42566695e-02, -8.26614442e-02,  2.13071518e-01,\n",
       "         -3.91002285e-02, -8.76014963e-02, -1.91184201e-01,\n",
       "         -1.89076955e-01,  6.66545364e-02, -1.31239892e-01,\n",
       "          1.89824264e-01, -1.25725736e-01,  1.36125407e-01,\n",
       "         -1.09731398e-02,  1.41843118e-01,  8.74669663e-02,\n",
       "          1.83851132e-01,  5.44409189e-03,  5.99520169e-02,\n",
       "         -1.04339692e-01, -2.22552055e-01, -1.09582599e-06,\n",
       "         -1.02066401e-01,  1.29439138e-01,  5.74154347e-02,\n",
       "          3.96116479e-02,  2.48045826e-02,  1.37074626e-01,\n",
       "          1.12600574e-02,  1.32680752e-01,  8.04684568e-03,\n",
       "         -2.07220639e-01,  1.20927748e-01, -6.99822061e-02,\n",
       "         -1.57108737e-01,  9.78351697e-02,  5.47880778e-02,\n",
       "          3.22604883e-01,  1.81522723e-01, -8.48274234e-02,\n",
       "         -2.40377295e-03, -3.51085257e-02, -2.04399084e-01,\n",
       "         -2.31764505e-01, -1.07912948e-01, -1.04353151e-03,\n",
       "         -7.77313299e-02, -4.99939108e-02,  1.99270251e-01,\n",
       "          4.62978915e-03,  9.33180014e-02, -8.57766343e-02,\n",
       "         -5.76697571e-02,  8.17846064e-02,  2.41778755e-01,\n",
       "          1.01490700e-01, -1.65923627e-01, -2.05462894e-02,\n",
       "          1.54915963e-01,  1.24355223e-01, -1.17177895e-01,\n",
       "         -2.61251197e-01, -2.41524182e-03, -1.73511761e-02,\n",
       "         -9.78212711e-02]]),\n",
       " array([[ 1.14741754e-01],\n",
       "        [-3.00768937e-01],\n",
       "        [-5.50739715e-01],\n",
       "        [ 1.03478441e-01],\n",
       "        [-4.28923256e-02],\n",
       "        [ 1.82085058e-01],\n",
       "        [ 3.39555495e-03],\n",
       "        [-1.72927850e-01],\n",
       "        [ 7.73370717e-06],\n",
       "        [ 1.28313061e-04],\n",
       "        [-1.17255126e-03],\n",
       "        [ 8.70417963e-02],\n",
       "        [-2.04196114e-01],\n",
       "        [ 1.31507478e-01],\n",
       "        [-7.51452005e-02],\n",
       "        [-8.74534046e-02],\n",
       "        [ 8.15814953e-02],\n",
       "        [ 1.63661995e-01],\n",
       "        [ 8.66197889e-03],\n",
       "        [ 1.86210707e-02],\n",
       "        [ 1.33241310e-01],\n",
       "        [-2.28080427e-01],\n",
       "        [ 6.86501801e-02],\n",
       "        [ 1.86765063e-02],\n",
       "        [-1.87643287e-01],\n",
       "        [ 6.98250269e-02],\n",
       "        [ 1.59665371e-01],\n",
       "        [-1.57060592e-01],\n",
       "        [ 2.97764366e-02],\n",
       "        [ 2.88152409e-02],\n",
       "        [-4.76370176e-02],\n",
       "        [ 2.24207981e-01],\n",
       "        [-1.31116982e-01],\n",
       "        [-3.26845591e-03],\n",
       "        [ 1.25641466e-01],\n",
       "        [ 1.66173825e-01],\n",
       "        [-1.09239061e-01],\n",
       "        [ 1.44962410e-01],\n",
       "        [ 2.27112609e-01],\n",
       "        [-6.57588052e-02],\n",
       "        [-1.29068486e-01],\n",
       "        [-3.30681335e-02],\n",
       "        [ 8.00700479e-02],\n",
       "        [ 4.79471806e-01],\n",
       "        [-1.66407961e-01],\n",
       "        [ 1.08824194e-01],\n",
       "        [-6.42034883e-02],\n",
       "        [ 2.06543584e-01],\n",
       "        [ 3.84966187e-04],\n",
       "        [-1.53565044e-01],\n",
       "        [ 1.78529073e-01],\n",
       "        [ 1.85700499e-01],\n",
       "        [-1.90171334e-02],\n",
       "        [ 2.22565463e-01],\n",
       "        [ 6.57937556e-02],\n",
       "        [-1.22443547e-01],\n",
       "        [-1.66809453e-05],\n",
       "        [-2.22244843e-01],\n",
       "        [-1.99407848e-01],\n",
       "        [ 1.26425309e-01],\n",
       "        [-2.19881182e-01],\n",
       "        [ 1.67685180e-01],\n",
       "        [ 6.04239598e-02],\n",
       "        [-1.64206837e-01],\n",
       "        [ 1.86998076e-01],\n",
       "        [ 1.55726054e-01],\n",
       "        [-2.36887370e-01],\n",
       "        [ 1.27904369e-01],\n",
       "        [-2.26084253e-01],\n",
       "        [ 2.16606897e-01],\n",
       "        [ 1.03993118e-01],\n",
       "        [-7.27337751e-02],\n",
       "        [-3.30479395e-01],\n",
       "        [-2.56740709e-02],\n",
       "        [ 2.30414115e-01],\n",
       "        [ 1.53074705e-01],\n",
       "        [-1.36447542e-01],\n",
       "        [ 5.64470526e-02],\n",
       "        [-2.36468969e-01],\n",
       "        [-5.29005048e-03],\n",
       "        [-1.37901087e-04],\n",
       "        [-5.82874614e-02],\n",
       "        [-1.22740858e-02],\n",
       "        [-2.21864439e-01],\n",
       "        [ 2.23187451e-03],\n",
       "        [ 7.72351175e-03],\n",
       "        [-2.08305383e-01],\n",
       "        [ 3.80956713e-02],\n",
       "        [ 3.54110295e-02],\n",
       "        [-1.83926716e-01],\n",
       "        [-1.61249998e-01],\n",
       "        [ 1.95013706e-01],\n",
       "        [-1.43417217e-02],\n",
       "        [ 6.54511504e-02],\n",
       "        [ 2.43102577e-01],\n",
       "        [ 7.35734379e-02],\n",
       "        [-1.40539776e-01],\n",
       "        [ 2.26367198e-04],\n",
       "        [ 1.23581294e-02],\n",
       "        [-1.22747587e-01]])]"
      ]
     },
     "execution_count": 133,
     "metadata": {},
     "output_type": "execute_result"
    }
   ],
   "source": [
    "mlpc_model.coefs_"
   ]
  },
  {
   "cell_type": "code",
   "execution_count": 130,
   "metadata": {},
   "outputs": [
    {
     "name": "stdout",
     "output_type": "stream",
     "text": [
      "\u001b[1;31mType:\u001b[0m        MLPClassifier\n",
      "\u001b[1;31mString form:\u001b[0m MLPClassifier()\n",
      "\u001b[1;31mFile:\u001b[0m        c:\\users\\giray\\appdata\\local\\programs\\python\\python312\\lib\\site-packages\\sklearn\\neural_network\\_multilayer_perceptron.py\n",
      "\u001b[1;31mDocstring:\u001b[0m  \n",
      "Multi-layer Perceptron classifier.\n",
      "\n",
      "This model optimizes the log-loss function using LBFGS or stochastic\n",
      "gradient descent.\n",
      "\n",
      ".. versionadded:: 0.18\n",
      "\n",
      "Parameters\n",
      "----------\n",
      "hidden_layer_sizes : array-like of shape(n_layers - 2,), default=(100,)\n",
      "    The ith element represents the number of neurons in the ith\n",
      "    hidden layer.\n",
      "\n",
      "activation : {'identity', 'logistic', 'tanh', 'relu'}, default='relu'\n",
      "    Activation function for the hidden layer.\n",
      "\n",
      "    - 'identity', no-op activation, useful to implement linear bottleneck,\n",
      "      returns f(x) = x\n",
      "\n",
      "    - 'logistic', the logistic sigmoid function,\n",
      "      returns f(x) = 1 / (1 + exp(-x)).\n",
      "\n",
      "    - 'tanh', the hyperbolic tan function,\n",
      "      returns f(x) = tanh(x).\n",
      "\n",
      "    - 'relu', the rectified linear unit function,\n",
      "      returns f(x) = max(0, x)\n",
      "\n",
      "solver : {'lbfgs', 'sgd', 'adam'}, default='adam'\n",
      "    The solver for weight optimization.\n",
      "\n",
      "    - 'lbfgs' is an optimizer in the family of quasi-Newton methods.\n",
      "\n",
      "    - 'sgd' refers to stochastic gradient descent.\n",
      "\n",
      "    - 'adam' refers to a stochastic gradient-based optimizer proposed\n",
      "      by Kingma, Diederik, and Jimmy Ba\n",
      "\n",
      "    For a comparison between Adam optimizer and SGD, see\n",
      "    :ref:`sphx_glr_auto_examples_neural_networks_plot_mlp_training_curves.py`.\n",
      "\n",
      "    Note: The default solver 'adam' works pretty well on relatively\n",
      "    large datasets (with thousands of training samples or more) in terms of\n",
      "    both training time and validation score.\n",
      "    For small datasets, however, 'lbfgs' can converge faster and perform\n",
      "    better.\n",
      "\n",
      "alpha : float, default=0.0001\n",
      "    Strength of the L2 regularization term. The L2 regularization term\n",
      "    is divided by the sample size when added to the loss.\n",
      "\n",
      "    For an example usage and visualization of varying regularization, see\n",
      "    :ref:`sphx_glr_auto_examples_neural_networks_plot_mlp_alpha.py`.\n",
      "\n",
      "batch_size : int, default='auto'\n",
      "    Size of minibatches for stochastic optimizers.\n",
      "    If the solver is 'lbfgs', the classifier will not use minibatch.\n",
      "    When set to \"auto\", `batch_size=min(200, n_samples)`.\n",
      "\n",
      "learning_rate : {'constant', 'invscaling', 'adaptive'}, default='constant'\n",
      "    Learning rate schedule for weight updates.\n",
      "\n",
      "    - 'constant' is a constant learning rate given by\n",
      "      'learning_rate_init'.\n",
      "\n",
      "    - 'invscaling' gradually decreases the learning rate at each\n",
      "      time step 't' using an inverse scaling exponent of 'power_t'.\n",
      "      effective_learning_rate = learning_rate_init / pow(t, power_t)\n",
      "\n",
      "    - 'adaptive' keeps the learning rate constant to\n",
      "      'learning_rate_init' as long as training loss keeps decreasing.\n",
      "      Each time two consecutive epochs fail to decrease training loss by at\n",
      "      least tol, or fail to increase validation score by at least tol if\n",
      "      'early_stopping' is on, the current learning rate is divided by 5.\n",
      "\n",
      "    Only used when ``solver='sgd'``.\n",
      "\n",
      "learning_rate_init : float, default=0.001\n",
      "    The initial learning rate used. It controls the step-size\n",
      "    in updating the weights. Only used when solver='sgd' or 'adam'.\n",
      "\n",
      "power_t : float, default=0.5\n",
      "    The exponent for inverse scaling learning rate.\n",
      "    It is used in updating effective learning rate when the learning_rate\n",
      "    is set to 'invscaling'. Only used when solver='sgd'.\n",
      "\n",
      "max_iter : int, default=200\n",
      "    Maximum number of iterations. The solver iterates until convergence\n",
      "    (determined by 'tol') or this number of iterations. For stochastic\n",
      "    solvers ('sgd', 'adam'), note that this determines the number of epochs\n",
      "    (how many times each data point will be used), not the number of\n",
      "    gradient steps.\n",
      "\n",
      "shuffle : bool, default=True\n",
      "    Whether to shuffle samples in each iteration. Only used when\n",
      "    solver='sgd' or 'adam'.\n",
      "\n",
      "random_state : int, RandomState instance, default=None\n",
      "    Determines random number generation for weights and bias\n",
      "    initialization, train-test split if early stopping is used, and batch\n",
      "    sampling when solver='sgd' or 'adam'.\n",
      "    Pass an int for reproducible results across multiple function calls.\n",
      "    See :term:`Glossary <random_state>`.\n",
      "\n",
      "tol : float, default=1e-4\n",
      "    Tolerance for the optimization. When the loss or score is not improving\n",
      "    by at least ``tol`` for ``n_iter_no_change`` consecutive iterations,\n",
      "    unless ``learning_rate`` is set to 'adaptive', convergence is\n",
      "    considered to be reached and training stops.\n",
      "\n",
      "verbose : bool, default=False\n",
      "    Whether to print progress messages to stdout.\n",
      "\n",
      "warm_start : bool, default=False\n",
      "    When set to True, reuse the solution of the previous\n",
      "    call to fit as initialization, otherwise, just erase the\n",
      "    previous solution. See :term:`the Glossary <warm_start>`.\n",
      "\n",
      "momentum : float, default=0.9\n",
      "    Momentum for gradient descent update. Should be between 0 and 1. Only\n",
      "    used when solver='sgd'.\n",
      "\n",
      "nesterovs_momentum : bool, default=True\n",
      "    Whether to use Nesterov's momentum. Only used when solver='sgd' and\n",
      "    momentum > 0.\n",
      "\n",
      "early_stopping : bool, default=False\n",
      "    Whether to use early stopping to terminate training when validation\n",
      "    score is not improving. If set to true, it will automatically set\n",
      "    aside 10% of training data as validation and terminate training when\n",
      "    validation score is not improving by at least ``tol`` for\n",
      "    ``n_iter_no_change`` consecutive epochs. The split is stratified,\n",
      "    except in a multilabel setting.\n",
      "    If early stopping is False, then the training stops when the training\n",
      "    loss does not improve by more than tol for n_iter_no_change consecutive\n",
      "    passes over the training set.\n",
      "    Only effective when solver='sgd' or 'adam'.\n",
      "\n",
      "validation_fraction : float, default=0.1\n",
      "    The proportion of training data to set aside as validation set for\n",
      "    early stopping. Must be between 0 and 1.\n",
      "    Only used if early_stopping is True.\n",
      "\n",
      "beta_1 : float, default=0.9\n",
      "    Exponential decay rate for estimates of first moment vector in adam,\n",
      "    should be in [0, 1). Only used when solver='adam'.\n",
      "\n",
      "beta_2 : float, default=0.999\n",
      "    Exponential decay rate for estimates of second moment vector in adam,\n",
      "    should be in [0, 1). Only used when solver='adam'.\n",
      "\n",
      "epsilon : float, default=1e-8\n",
      "    Value for numerical stability in adam. Only used when solver='adam'.\n",
      "\n",
      "n_iter_no_change : int, default=10\n",
      "    Maximum number of epochs to not meet ``tol`` improvement.\n",
      "    Only effective when solver='sgd' or 'adam'.\n",
      "\n",
      "    .. versionadded:: 0.20\n",
      "\n",
      "max_fun : int, default=15000\n",
      "    Only used when solver='lbfgs'. Maximum number of loss function calls.\n",
      "    The solver iterates until convergence (determined by 'tol'), number\n",
      "    of iterations reaches max_iter, or this number of loss function calls.\n",
      "    Note that number of loss function calls will be greater than or equal\n",
      "    to the number of iterations for the `MLPClassifier`.\n",
      "\n",
      "    .. versionadded:: 0.22\n",
      "\n",
      "Attributes\n",
      "----------\n",
      "classes_ : ndarray or list of ndarray of shape (n_classes,)\n",
      "    Class labels for each output.\n",
      "\n",
      "loss_ : float\n",
      "    The current loss computed with the loss function.\n",
      "\n",
      "best_loss_ : float or None\n",
      "    The minimum loss reached by the solver throughout fitting.\n",
      "    If `early_stopping=True`, this attribute is set to `None`. Refer to\n",
      "    the `best_validation_score_` fitted attribute instead.\n",
      "\n",
      "loss_curve_ : list of shape (`n_iter_`,)\n",
      "    The ith element in the list represents the loss at the ith iteration.\n",
      "\n",
      "validation_scores_ : list of shape (`n_iter_`,) or None\n",
      "    The score at each iteration on a held-out validation set. The score\n",
      "    reported is the accuracy score. Only available if `early_stopping=True`,\n",
      "    otherwise the attribute is set to `None`.\n",
      "\n",
      "best_validation_score_ : float or None\n",
      "    The best validation score (i.e. accuracy score) that triggered the\n",
      "    early stopping. Only available if `early_stopping=True`, otherwise the\n",
      "    attribute is set to `None`.\n",
      "\n",
      "t_ : int\n",
      "    The number of training samples seen by the solver during fitting.\n",
      "\n",
      "coefs_ : list of shape (n_layers - 1,)\n",
      "    The ith element in the list represents the weight matrix corresponding\n",
      "    to layer i.\n",
      "\n",
      "intercepts_ : list of shape (n_layers - 1,)\n",
      "    The ith element in the list represents the bias vector corresponding to\n",
      "    layer i + 1.\n",
      "\n",
      "n_features_in_ : int\n",
      "    Number of features seen during :term:`fit`.\n",
      "\n",
      "    .. versionadded:: 0.24\n",
      "\n",
      "feature_names_in_ : ndarray of shape (`n_features_in_`,)\n",
      "    Names of features seen during :term:`fit`. Defined only when `X`\n",
      "    has feature names that are all strings.\n",
      "\n",
      "    .. versionadded:: 1.0\n",
      "\n",
      "n_iter_ : int\n",
      "    The number of iterations the solver has run.\n",
      "\n",
      "n_layers_ : int\n",
      "    Number of layers.\n",
      "\n",
      "n_outputs_ : int\n",
      "    Number of outputs.\n",
      "\n",
      "out_activation_ : str\n",
      "    Name of the output activation function.\n",
      "\n",
      "See Also\n",
      "--------\n",
      "MLPRegressor : Multi-layer Perceptron regressor.\n",
      "BernoulliRBM : Bernoulli Restricted Boltzmann Machine (RBM).\n",
      "\n",
      "Notes\n",
      "-----\n",
      "MLPClassifier trains iteratively since at each time step\n",
      "the partial derivatives of the loss function with respect to the model\n",
      "parameters are computed to update the parameters.\n",
      "\n",
      "It can also have a regularization term added to the loss function\n",
      "that shrinks model parameters to prevent overfitting.\n",
      "\n",
      "This implementation works with data represented as dense numpy arrays or\n",
      "sparse scipy arrays of floating point values.\n",
      "\n",
      "References\n",
      "----------\n",
      "Hinton, Geoffrey E. \"Connectionist learning procedures.\"\n",
      "Artificial intelligence 40.1 (1989): 185-234.\n",
      "\n",
      "Glorot, Xavier, and Yoshua Bengio.\n",
      "\"Understanding the difficulty of training deep feedforward neural networks.\"\n",
      "International Conference on Artificial Intelligence and Statistics. 2010.\n",
      "\n",
      ":arxiv:`He, Kaiming, et al (2015). \"Delving deep into rectifiers:\n",
      "Surpassing human-level performance on imagenet classification.\" <1502.01852>`\n",
      "\n",
      ":arxiv:`Kingma, Diederik, and Jimmy Ba (2014)\n",
      "\"Adam: A method for stochastic optimization.\" <1412.6980>`\n",
      "\n",
      "Examples\n",
      "--------\n",
      ">>> from sklearn.neural_network import MLPClassifier\n",
      ">>> from sklearn.datasets import make_classification\n",
      ">>> from sklearn.model_selection import train_test_split\n",
      ">>> X, y = make_classification(n_samples=100, random_state=1)\n",
      ">>> X_train, X_test, y_train, y_test = train_test_split(X, y, stratify=y,\n",
      "...                                                     random_state=1)\n",
      ">>> clf = MLPClassifier(random_state=1, max_iter=300).fit(X_train, y_train)\n",
      ">>> clf.predict_proba(X_test[:1])\n",
      "array([[0.038..., 0.961...]])\n",
      ">>> clf.predict(X_test[:5, :])\n",
      "array([1, 0, 1, 0, 1])\n",
      ">>> clf.score(X_test, y_test)\n",
      "0.8..."
     ]
    }
   ],
   "source": [
    "?mlpc_model"
   ]
  },
  {
   "cell_type": "code",
   "execution_count": 135,
   "metadata": {},
   "outputs": [
    {
     "data": {
      "text/plain": [
       "0.7272727272727273"
      ]
     },
     "execution_count": 135,
     "metadata": {},
     "output_type": "execute_result"
    }
   ],
   "source": [
    "y_pred = mlpc_model.predict(X_test)\n",
    "accuracy_score(Y_test,y_pred)"
   ]
  },
  {
   "cell_type": "markdown",
   "metadata": {},
   "source": [
    "# MODEL TUNING\n",
    "\n",
    "* lbfgs küçük veri setlerin daha iyi çalışır. "
   ]
  },
  {
   "cell_type": "code",
   "execution_count": 140,
   "metadata": {},
   "outputs": [
    {
     "name": "stderr",
     "output_type": "stream",
     "text": [
      "c:\\Users\\Giray\\AppData\\Local\\Programs\\Python\\Python312\\Lib\\site-packages\\sklearn\\neural_network\\_multilayer_perceptron.py:545: ConvergenceWarning: lbfgs failed to converge (status=1):\n",
      "STOP: TOTAL NO. of ITERATIONS REACHED LIMIT.\n",
      "\n",
      "Increase the number of iterations (max_iter) or scale the data as shown in:\n",
      "    https://scikit-learn.org/stable/modules/preprocessing.html\n",
      "  self.n_iter_ = _check_optimize_result(\"lbfgs\", opt_res, self.max_iter)\n"
     ]
    },
    {
     "name": "stdout",
     "output_type": "stream",
     "text": [
      "Fitting 10 folds for each of 28 candidates, totalling 280 fits\n",
      "{'alpha': 5, 'hidden_layer_sizes': (3, 5)}\n",
      "0.7671907756813418\n"
     ]
    },
    {
     "name": "stderr",
     "output_type": "stream",
     "text": [
      "c:\\Users\\Giray\\AppData\\Local\\Programs\\Python\\Python312\\Lib\\site-packages\\sklearn\\neural_network\\_multilayer_perceptron.py:545: ConvergenceWarning: lbfgs failed to converge (status=1):\n",
      "STOP: TOTAL NO. of ITERATIONS REACHED LIMIT.\n",
      "\n",
      "Increase the number of iterations (max_iter) or scale the data as shown in:\n",
      "    https://scikit-learn.org/stable/modules/preprocessing.html\n",
      "  self.n_iter_ = _check_optimize_result(\"lbfgs\", opt_res, self.max_iter)\n"
     ]
    }
   ],
   "source": [
    "mlpc_model = MLPClassifier(solver=\"lbfgs\").fit(X_train,Y_train)\n",
    "mlpc_params = {\"hidden_layer_sizes\": [(10,10),(100,100,100),(100,100),(3,5)],\n",
    "               \"alpha\"             :[1,5,0.1,0.01,0.03,0.005,0.0001]}\n",
    "\n",
    "mlpc_cv_model = GridSearchCV(mlpc_model, mlpc_params, cv=10, n_jobs=-1, verbose=2).fit(X_train,Y_train)\n",
    "\n",
    "print(mlpc_cv_model.best_params_)\n",
    "print(mlpc_cv_model.best_score_)"
   ]
  },
  {
   "cell_type": "code",
   "execution_count": 142,
   "metadata": {},
   "outputs": [
    {
     "data": {
      "text/plain": [
       "0.683982683982684"
      ]
     },
     "execution_count": 142,
     "metadata": {},
     "output_type": "execute_result"
    }
   ],
   "source": [
    "#final #aktivasyon fonksiyonu: relu\n",
    "mlpc_tuned = MLPClassifier(alpha               = 5, \n",
    "                           hidden_layer_sizes  = (3,5), \n",
    "                           solver              = \"lbfgs\").fit(X_train,Y_train)\n",
    "\n",
    "y_pred = mlpc_tuned.predict(X_test)\n",
    "accuracy_score(Y_test,y_pred)"
   ]
  },
  {
   "cell_type": "code",
   "execution_count": 143,
   "metadata": {},
   "outputs": [
    {
     "name": "stderr",
     "output_type": "stream",
     "text": [
      "c:\\Users\\Giray\\AppData\\Local\\Programs\\Python\\Python312\\Lib\\site-packages\\sklearn\\neural_network\\_multilayer_perceptron.py:545: ConvergenceWarning: lbfgs failed to converge (status=1):\n",
      "STOP: TOTAL NO. of ITERATIONS REACHED LIMIT.\n",
      "\n",
      "Increase the number of iterations (max_iter) or scale the data as shown in:\n",
      "    https://scikit-learn.org/stable/modules/preprocessing.html\n",
      "  self.n_iter_ = _check_optimize_result(\"lbfgs\", opt_res, self.max_iter)\n"
     ]
    },
    {
     "name": "stdout",
     "output_type": "stream",
     "text": [
      "Fitting 10 folds for each of 28 candidates, totalling 280 fits\n",
      "{'alpha': 5, 'hidden_layer_sizes': (100, 100)}\n",
      "0.7468204053109713\n"
     ]
    },
    {
     "name": "stderr",
     "output_type": "stream",
     "text": [
      "c:\\Users\\Giray\\AppData\\Local\\Programs\\Python\\Python312\\Lib\\site-packages\\sklearn\\neural_network\\_multilayer_perceptron.py:545: ConvergenceWarning: lbfgs failed to converge (status=1):\n",
      "STOP: TOTAL NO. of ITERATIONS REACHED LIMIT.\n",
      "\n",
      "Increase the number of iterations (max_iter) or scale the data as shown in:\n",
      "    https://scikit-learn.org/stable/modules/preprocessing.html\n",
      "  self.n_iter_ = _check_optimize_result(\"lbfgs\", opt_res, self.max_iter)\n"
     ]
    }
   ],
   "source": [
    "mlpc_model = MLPClassifier(solver=\"lbfgs\", activation =\"logistic\").fit(X_train,Y_train)\n",
    "mlpc_params = {\"hidden_layer_sizes\": [(10,10),(100,100,100),(100,100),(3,5)],\n",
    "               \"alpha\"             : [1,5,0.1,0.01,0.03,0.005,0.0001]}\n",
    "\n",
    "mlpc_cv_model = GridSearchCV(mlpc_model, mlpc_params, cv=10, n_jobs=-1, verbose=2).fit(X_train,Y_train)\n",
    "\n",
    "print(mlpc_cv_model.best_params_)\n",
    "print(mlpc_cv_model.best_score_)"
   ]
  },
  {
   "cell_type": "code",
   "execution_count": 149,
   "metadata": {},
   "outputs": [
    {
     "name": "stderr",
     "output_type": "stream",
     "text": [
      "c:\\Users\\Giray\\AppData\\Local\\Programs\\Python\\Python312\\Lib\\site-packages\\sklearn\\neural_network\\_multilayer_perceptron.py:545: ConvergenceWarning: lbfgs failed to converge (status=1):\n",
      "STOP: TOTAL NO. of ITERATIONS REACHED LIMIT.\n",
      "\n",
      "Increase the number of iterations (max_iter) or scale the data as shown in:\n",
      "    https://scikit-learn.org/stable/modules/preprocessing.html\n",
      "  self.n_iter_ = _check_optimize_result(\"lbfgs\", opt_res, self.max_iter)\n"
     ]
    },
    {
     "data": {
      "text/plain": [
       "0.7316017316017316"
      ]
     },
     "execution_count": 149,
     "metadata": {},
     "output_type": "execute_result"
    }
   ],
   "source": [
    "#final #aktivasyon fonksiyonu: logistic\n",
    "mlpc_tuned = MLPClassifier( alpha              = 5, \n",
    "                            hidden_layer_sizes = (100,100), \n",
    "                            solver             =\"lbfgs\",\n",
    "                            activation         = \"logistic\").fit(X_train,Y_train)\n",
    "\n",
    "y_pred = mlpc_tuned.predict(X_test)\n",
    "accuracy_score(Y_test,y_pred)"
   ]
  },
  {
   "cell_type": "code",
   "execution_count": 150,
   "metadata": {},
   "outputs": [],
   "source": [
    "# Standartlaştırarak yapmak:\n",
    "\n",
    "Y = df[\"Outcome\"]\n",
    "X = df.drop([\"Outcome\"], axis=1)\n",
    "X_train, X_test, Y_train, Y_test = train_test_split(X,\n",
    "                                                    Y,\n",
    "                                                    test_size=0.30,\n",
    "                                                    random_state=42)\n",
    "scaler = StandardScaler()\n",
    "\n",
    "scaler.fit(X_train)\n",
    "X_train = scaler.transform(X_train)\n",
    "\n",
    "scaler.fit(X_test)\n",
    "X_test = scaler.transform(X_test)"
   ]
  },
  {
   "cell_type": "code",
   "execution_count": 151,
   "metadata": {},
   "outputs": [
    {
     "name": "stdout",
     "output_type": "stream",
     "text": [
      "Fitting 10 folds for each of 28 candidates, totalling 280 fits\n",
      "{'alpha': 1, 'hidden_layer_sizes': (3, 5)}\n",
      "0.7783018867924528\n"
     ]
    }
   ],
   "source": [
    "# scale edilmiş veri ile yapay sinir ağları:\n",
    "mlpc_model = MLPClassifier(solver=\"lbfgs\", activation =\"logistic\").fit(X_train,Y_train)\n",
    "mlpc_params = {\"hidden_layer_sizes\": [(10,10),(100,100,100),(100,100),(3,5)],\n",
    "               \"alpha\"             : [1,5,0.1,0.01,0.03,0.005,0.0001]}\n",
    "\n",
    "mlpc_cv_model = GridSearchCV(mlpc_model, mlpc_params, cv=10, n_jobs=-1, verbose=2).fit(X_train,Y_train)\n",
    "\n",
    "print(mlpc_cv_model.best_params_)\n",
    "print(mlpc_cv_model.best_score_)"
   ]
  },
  {
   "cell_type": "code",
   "execution_count": 152,
   "metadata": {},
   "outputs": [
    {
     "data": {
      "text/plain": [
       "0.7575757575757576"
      ]
     },
     "execution_count": 152,
     "metadata": {},
     "output_type": "execute_result"
    }
   ],
   "source": [
    "#final #aktivasyon fonksiyonu: logistic\n",
    "mlpc_tuned = MLPClassifier( alpha              = 1, \n",
    "                            hidden_layer_sizes = (3,5), \n",
    "                            solver             = \"lbfgs\",\n",
    "                            activation         = \"logistic\").fit(X_train,Y_train)\n",
    "\n",
    "y_pred = mlpc_tuned.predict(X_test)\n",
    "accuracy_score(Y_test,y_pred)"
   ]
  },
  {
   "cell_type": "code",
   "execution_count": null,
   "metadata": {},
   "outputs": [],
   "source": []
  },
  {
   "cell_type": "markdown",
   "metadata": {},
   "source": [
    "---\n",
    "# CLASSIFICATION AND REGRESSION TREES (CART)\n",
    "---"
   ]
  },
  {
   "cell_type": "code",
   "execution_count": 153,
   "metadata": {},
   "outputs": [],
   "source": [
    "Y = df[\"Outcome\"]\n",
    "X = df.drop([\"Outcome\"], axis=1)\n",
    "X_train, X_test, Y_train, Y_test = train_test_split(X,\n",
    "                                                    Y,\n",
    "                                                    test_size=0.30,\n",
    "                                                    random_state=42)"
   ]
  },
  {
   "cell_type": "markdown",
   "metadata": {},
   "source": [
    "# MODEL KURMA & MODEL TAHMİN"
   ]
  },
  {
   "cell_type": "code",
   "execution_count": 156,
   "metadata": {},
   "outputs": [
    {
     "data": {
      "text/plain": [
       "{'ccp_alpha': 0.0,\n",
       " 'class_weight': None,\n",
       " 'criterion': 'gini',\n",
       " 'max_depth': None,\n",
       " 'max_features': None,\n",
       " 'max_leaf_nodes': None,\n",
       " 'min_impurity_decrease': 0.0,\n",
       " 'min_samples_leaf': 1,\n",
       " 'min_samples_split': 2,\n",
       " 'min_weight_fraction_leaf': 0.0,\n",
       " 'monotonic_cst': None,\n",
       " 'random_state': None,\n",
       " 'splitter': 'best'}"
      ]
     },
     "execution_count": 156,
     "metadata": {},
     "output_type": "execute_result"
    }
   ],
   "source": [
    "cart_model = DecisionTreeClassifier().fit(X_train,Y_train)\n",
    "cart_model.get_params()"
   ]
  },
  {
   "cell_type": "code",
   "execution_count": 157,
   "metadata": {},
   "outputs": [
    {
     "name": "stdout",
     "output_type": "stream",
     "text": [
      "0.7229437229437229\n"
     ]
    }
   ],
   "source": [
    "y_pred = cart_model.predict(X_test)\n",
    "print(accuracy_score(Y_test,y_pred))"
   ]
  },
  {
   "cell_type": "markdown",
   "metadata": {},
   "source": [
    "# MODEL TUNING"
   ]
  },
  {
   "cell_type": "code",
   "execution_count": 160,
   "metadata": {},
   "outputs": [
    {
     "name": "stdout",
     "output_type": "stream",
     "text": [
      "Fitting 10 folds for each of 30 candidates, totalling 300 fits\n",
      "{'max_depth': 5, 'min_samples_split': 20}\n",
      "0.763487071977638\n"
     ]
    }
   ],
   "source": [
    "cart = DecisionTreeClassifier()\n",
    "cart_params = {\"max_depth\"       : [2,3,5,6,10],\n",
    "               \"min_samples_split\": [2,3,5,10,20,50]}\n",
    "\n",
    "cart_cv_model = GridSearchCV(cart, cart_params, cv=10, n_jobs=-1, verbose=2).fit(X_train,Y_train)\n",
    "\n",
    "print(cart_cv_model.best_params_)\n",
    "print(cart_cv_model.best_score_)"
   ]
  },
  {
   "cell_type": "code",
   "execution_count": 161,
   "metadata": {},
   "outputs": [
    {
     "data": {
      "text/plain": [
       "0.7532467532467533"
      ]
     },
     "execution_count": 161,
     "metadata": {},
     "output_type": "execute_result"
    }
   ],
   "source": [
    "#final\n",
    "cart_tuned = DecisionTreeClassifier(max_depth=5,\n",
    "                                    min_samples_split=20).fit(X_train,Y_train)\n",
    "\n",
    "y_pred = cart_tuned.predict(X_test)\n",
    "accuracy_score(Y_test,y_pred)"
   ]
  },
  {
   "cell_type": "code",
   "execution_count": null,
   "metadata": {},
   "outputs": [],
   "source": []
  }
 ],
 "metadata": {
  "kernelspec": {
   "display_name": "Python 3",
   "language": "python",
   "name": "python3"
  },
  "language_info": {
   "codemirror_mode": {
    "name": "ipython",
    "version": 3
   },
   "file_extension": ".py",
   "mimetype": "text/x-python",
   "name": "python",
   "nbconvert_exporter": "python",
   "pygments_lexer": "ipython3",
   "version": "3.12.4"
  }
 },
 "nbformat": 4,
 "nbformat_minor": 2
}
