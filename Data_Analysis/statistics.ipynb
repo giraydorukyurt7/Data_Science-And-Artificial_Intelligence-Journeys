{
 "cells": [
  {
   "cell_type": "markdown",
   "metadata": {},
   "source": [
    "# Veri bilimi için istatistik"
   ]
  },
  {
   "cell_type": "markdown",
   "metadata": {},
   "source": [
    "# Örnek Teorisi"
   ]
  },
  {
   "cell_type": "code",
   "execution_count": 1394,
   "metadata": {},
   "outputs": [],
   "source": [
    "import numpy as np"
   ]
  },
  {
   "cell_type": "code",
   "execution_count": 1395,
   "metadata": {},
   "outputs": [
    {
     "data": {
      "text/plain": [
       "array([25,  0, 17, ..., 71, 55, 61], dtype=int32)"
      ]
     },
     "execution_count": 1395,
     "metadata": {},
     "output_type": "execute_result"
    }
   ],
   "source": [
    "populasyon = np.random.randint(0,80,10000)\n",
    "populasyon"
   ]
  },
  {
   "cell_type": "code",
   "execution_count": 1396,
   "metadata": {},
   "outputs": [
    {
     "data": {
      "text/plain": [
       "array([25,  0, 17,  1,  2, 25, 21, 18, 36, 10, 60, 15], dtype=int32)"
      ]
     },
     "execution_count": 1396,
     "metadata": {},
     "output_type": "execute_result"
    }
   ],
   "source": [
    "populasyon[0:12]"
   ]
  },
  {
   "cell_type": "code",
   "execution_count": 1397,
   "metadata": {},
   "outputs": [
    {
     "data": {
      "text/plain": [
       "array([71, 49, 25, 26, 32, 65, 12, 60, 58, 41, 54,  7, 51, 51, 45, 54, 52,\n",
       "        4, 15,  7, 31, 14, 56, 10, 19, 54, 58, 43, 19,  3, 74, 57, 16, 32,\n",
       "       28, 28, 52,  6, 60, 13, 54, 59, 62, 66, 11, 15, 60,  0, 70, 16, 26,\n",
       "        9, 21, 74,  4, 32, 77, 38, 27, 20, 50, 74, 48, 68, 11, 61, 59, 27,\n",
       "        7, 61, 79, 18, 55, 71, 47, 13, 11, 75, 54, 52, 12, 50, 50, 38,  6,\n",
       "        1, 56,  0, 47, 44,  7, 43, 35, 30,  3, 35, 25, 69, 67, 26],\n",
       "      dtype=int32)"
      ]
     },
     "execution_count": 1397,
     "metadata": {},
     "output_type": "execute_result"
    }
   ],
   "source": [
    "#örneklem çekimi\n",
    "np.random.seed(10)\n",
    "orneklem = np.random.choice(a = populasyon, size=100)\n",
    "orneklem"
   ]
  },
  {
   "cell_type": "code",
   "execution_count": 1398,
   "metadata": {},
   "outputs": [
    {
     "data": {
      "text/plain": [
       "np.float64(37.78)"
      ]
     },
     "execution_count": 1398,
     "metadata": {},
     "output_type": "execute_result"
    }
   ],
   "source": [
    "orneklem.mean()"
   ]
  },
  {
   "cell_type": "code",
   "execution_count": 1399,
   "metadata": {},
   "outputs": [
    {
     "data": {
      "text/plain": [
       "np.float64(39.3233)"
      ]
     },
     "execution_count": 1399,
     "metadata": {},
     "output_type": "execute_result"
    }
   ],
   "source": [
    "populasyon.mean()"
   ]
  },
  {
   "cell_type": "code",
   "execution_count": 1400,
   "metadata": {},
   "outputs": [
    {
     "data": {
      "text/plain": [
       "np.float64(22.850636752615888)"
      ]
     },
     "execution_count": 1400,
     "metadata": {},
     "output_type": "execute_result"
    }
   ],
   "source": [
    "orneklem.std()"
   ]
  },
  {
   "cell_type": "code",
   "execution_count": 1401,
   "metadata": {},
   "outputs": [
    {
     "data": {
      "text/plain": [
       "np.float64(23.035129196729066)"
      ]
     },
     "execution_count": 1401,
     "metadata": {},
     "output_type": "execute_result"
    }
   ],
   "source": [
    "populasyon.std()"
   ]
  },
  {
   "cell_type": "markdown",
   "metadata": {},
   "source": [
    "* orneklem dagılımı"
   ]
  },
  {
   "cell_type": "code",
   "execution_count": 1402,
   "metadata": {},
   "outputs": [],
   "source": [
    "np.random.seed(10)\n",
    "orneklem1 = np.random.choice(a = populasyon, size=100)\n",
    "orneklem2 = np.random.choice(a = populasyon, size=100)\n",
    "orneklem3 = np.random.choice(a = populasyon, size=100)\n",
    "orneklem4 = np.random.choice(a = populasyon, size=100)\n",
    "orneklem5 = np.random.choice(a = populasyon, size=100)\n",
    "orneklem6 = np.random.choice(a = populasyon, size=100)\n",
    "orneklem7 = np.random.choice(a = populasyon, size=100)\n",
    "orneklem8 = np.random.choice(a = populasyon, size=100)\n",
    "orneklem9 = np.random.choice(a = populasyon, size=100)\n",
    "orneklem10 = np.random.choice(a = populasyon, size=100)"
   ]
  },
  {
   "cell_type": "code",
   "execution_count": 1403,
   "metadata": {},
   "outputs": [
    {
     "data": {
      "text/plain": [
       "np.float64(38.46399999999999)"
      ]
     },
     "execution_count": 1403,
     "metadata": {},
     "output_type": "execute_result"
    }
   ],
   "source": [
    "(orneklem1.mean()+orneklem2.mean()+orneklem3.mean()+orneklem4.mean()+orneklem5.mean()+orneklem6.mean()+orneklem7.mean()+orneklem8.mean()+orneklem9.mean()+orneklem10.mean())/10"
   ]
  },
  {
   "cell_type": "code",
   "execution_count": 1404,
   "metadata": {},
   "outputs": [
    {
     "data": {
      "text/plain": [
       "np.float64(37.78)"
      ]
     },
     "execution_count": 1404,
     "metadata": {},
     "output_type": "execute_result"
    }
   ],
   "source": [
    "orneklem1.mean()"
   ]
  },
  {
   "cell_type": "code",
   "execution_count": 1405,
   "metadata": {},
   "outputs": [
    {
     "data": {
      "text/plain": [
       "np.float64(37.1)"
      ]
     },
     "execution_count": 1405,
     "metadata": {},
     "output_type": "execute_result"
    }
   ],
   "source": [
    "orneklem2.mean()"
   ]
  },
  {
   "cell_type": "markdown",
   "metadata": {},
   "source": [
    "# Betimsel İstatistikler Uygulama\n"
   ]
  },
  {
   "cell_type": "code",
   "execution_count": 1406,
   "metadata": {},
   "outputs": [],
   "source": [
    "import seaborn as sns"
   ]
  },
  {
   "cell_type": "code",
   "execution_count": 1407,
   "metadata": {},
   "outputs": [
    {
     "data": {
      "text/html": [
       "<div>\n",
       "<style scoped>\n",
       "    .dataframe tbody tr th:only-of-type {\n",
       "        vertical-align: middle;\n",
       "    }\n",
       "\n",
       "    .dataframe tbody tr th {\n",
       "        vertical-align: top;\n",
       "    }\n",
       "\n",
       "    .dataframe thead th {\n",
       "        text-align: right;\n",
       "    }\n",
       "</style>\n",
       "<table border=\"1\" class=\"dataframe\">\n",
       "  <thead>\n",
       "    <tr style=\"text-align: right;\">\n",
       "      <th></th>\n",
       "      <th>total_bill</th>\n",
       "      <th>tip</th>\n",
       "      <th>sex</th>\n",
       "      <th>smoker</th>\n",
       "      <th>day</th>\n",
       "      <th>time</th>\n",
       "      <th>size</th>\n",
       "    </tr>\n",
       "  </thead>\n",
       "  <tbody>\n",
       "    <tr>\n",
       "      <th>0</th>\n",
       "      <td>16.99</td>\n",
       "      <td>1.01</td>\n",
       "      <td>Female</td>\n",
       "      <td>No</td>\n",
       "      <td>Sun</td>\n",
       "      <td>Dinner</td>\n",
       "      <td>2</td>\n",
       "    </tr>\n",
       "    <tr>\n",
       "      <th>1</th>\n",
       "      <td>10.34</td>\n",
       "      <td>1.66</td>\n",
       "      <td>Male</td>\n",
       "      <td>No</td>\n",
       "      <td>Sun</td>\n",
       "      <td>Dinner</td>\n",
       "      <td>3</td>\n",
       "    </tr>\n",
       "    <tr>\n",
       "      <th>2</th>\n",
       "      <td>21.01</td>\n",
       "      <td>3.50</td>\n",
       "      <td>Male</td>\n",
       "      <td>No</td>\n",
       "      <td>Sun</td>\n",
       "      <td>Dinner</td>\n",
       "      <td>3</td>\n",
       "    </tr>\n",
       "    <tr>\n",
       "      <th>3</th>\n",
       "      <td>23.68</td>\n",
       "      <td>3.31</td>\n",
       "      <td>Male</td>\n",
       "      <td>No</td>\n",
       "      <td>Sun</td>\n",
       "      <td>Dinner</td>\n",
       "      <td>2</td>\n",
       "    </tr>\n",
       "    <tr>\n",
       "      <th>4</th>\n",
       "      <td>24.59</td>\n",
       "      <td>3.61</td>\n",
       "      <td>Female</td>\n",
       "      <td>No</td>\n",
       "      <td>Sun</td>\n",
       "      <td>Dinner</td>\n",
       "      <td>4</td>\n",
       "    </tr>\n",
       "  </tbody>\n",
       "</table>\n",
       "</div>"
      ],
      "text/plain": [
       "   total_bill   tip     sex smoker  day    time  size\n",
       "0       16.99  1.01  Female     No  Sun  Dinner     2\n",
       "1       10.34  1.66    Male     No  Sun  Dinner     3\n",
       "2       21.01  3.50    Male     No  Sun  Dinner     3\n",
       "3       23.68  3.31    Male     No  Sun  Dinner     2\n",
       "4       24.59  3.61  Female     No  Sun  Dinner     4"
      ]
     },
     "execution_count": 1407,
     "metadata": {},
     "output_type": "execute_result"
    }
   ],
   "source": [
    "tips = sns.load_dataset(\"tips\")\n",
    "df = tips.copy()\n",
    "df.head()"
   ]
  },
  {
   "cell_type": "code",
   "execution_count": 1408,
   "metadata": {},
   "outputs": [
    {
     "data": {
      "text/html": [
       "<div>\n",
       "<style scoped>\n",
       "    .dataframe tbody tr th:only-of-type {\n",
       "        vertical-align: middle;\n",
       "    }\n",
       "\n",
       "    .dataframe tbody tr th {\n",
       "        vertical-align: top;\n",
       "    }\n",
       "\n",
       "    .dataframe thead th {\n",
       "        text-align: right;\n",
       "    }\n",
       "</style>\n",
       "<table border=\"1\" class=\"dataframe\">\n",
       "  <thead>\n",
       "    <tr style=\"text-align: right;\">\n",
       "      <th></th>\n",
       "      <th>count</th>\n",
       "      <th>mean</th>\n",
       "      <th>std</th>\n",
       "      <th>min</th>\n",
       "      <th>25%</th>\n",
       "      <th>50%</th>\n",
       "      <th>75%</th>\n",
       "      <th>max</th>\n",
       "    </tr>\n",
       "  </thead>\n",
       "  <tbody>\n",
       "    <tr>\n",
       "      <th>total_bill</th>\n",
       "      <td>244.0</td>\n",
       "      <td>19.785943</td>\n",
       "      <td>8.902412</td>\n",
       "      <td>3.07</td>\n",
       "      <td>13.3475</td>\n",
       "      <td>17.795</td>\n",
       "      <td>24.1275</td>\n",
       "      <td>50.81</td>\n",
       "    </tr>\n",
       "    <tr>\n",
       "      <th>tip</th>\n",
       "      <td>244.0</td>\n",
       "      <td>2.998279</td>\n",
       "      <td>1.383638</td>\n",
       "      <td>1.00</td>\n",
       "      <td>2.0000</td>\n",
       "      <td>2.900</td>\n",
       "      <td>3.5625</td>\n",
       "      <td>10.00</td>\n",
       "    </tr>\n",
       "    <tr>\n",
       "      <th>size</th>\n",
       "      <td>244.0</td>\n",
       "      <td>2.569672</td>\n",
       "      <td>0.951100</td>\n",
       "      <td>1.00</td>\n",
       "      <td>2.0000</td>\n",
       "      <td>2.000</td>\n",
       "      <td>3.0000</td>\n",
       "      <td>6.00</td>\n",
       "    </tr>\n",
       "  </tbody>\n",
       "</table>\n",
       "</div>"
      ],
      "text/plain": [
       "            count       mean       std   min      25%     50%      75%    max\n",
       "total_bill  244.0  19.785943  8.902412  3.07  13.3475  17.795  24.1275  50.81\n",
       "tip         244.0   2.998279  1.383638  1.00   2.0000   2.900   3.5625  10.00\n",
       "size        244.0   2.569672  0.951100  1.00   2.0000   2.000   3.0000   6.00"
      ]
     },
     "execution_count": 1408,
     "metadata": {},
     "output_type": "execute_result"
    }
   ],
   "source": [
    "df.describe().T"
   ]
  },
  {
   "cell_type": "code",
   "execution_count": 1409,
   "metadata": {},
   "outputs": [
    {
     "data": {
      "text/plain": [
       "total_bill     float64\n",
       "tip            float64\n",
       "sex           category\n",
       "smoker        category\n",
       "day           category\n",
       "time          category\n",
       "size             int64\n",
       "dtype: object"
      ]
     },
     "execution_count": 1409,
     "metadata": {},
     "output_type": "execute_result"
    }
   ],
   "source": [
    "df.dtypes"
   ]
  },
  {
   "cell_type": "code",
   "execution_count": 1410,
   "metadata": {},
   "outputs": [],
   "source": [
    "import researchpy as rp"
   ]
  },
  {
   "cell_type": "code",
   "execution_count": 1411,
   "metadata": {},
   "outputs": [
    {
     "name": "stdout",
     "output_type": "stream",
     "text": [
      "\n",
      "\n"
     ]
    },
    {
     "name": "stderr",
     "output_type": "stream",
     "text": [
      "c:\\Users\\Giray\\AppData\\Local\\Programs\\Python\\Python312\\Lib\\site-packages\\researchpy\\summary.py:102: FutureWarning: Setting an item of incompatible dtype is deprecated and will raise an error in a future version of pandas. Value 'total_bill' has dtype incompatible with float64, please explicitly cast to a compatible dtype first.\n",
      "  table_a.iloc[0,0] = ix\n",
      "c:\\Users\\Giray\\AppData\\Local\\Programs\\Python\\Python312\\Lib\\site-packages\\researchpy\\summary.py:102: FutureWarning: Setting an item of incompatible dtype is deprecated and will raise an error in a future version of pandas. Value 'tip' has dtype incompatible with float64, please explicitly cast to a compatible dtype first.\n",
      "  table_a.iloc[0,0] = ix\n",
      "c:\\Users\\Giray\\AppData\\Local\\Programs\\Python\\Python312\\Lib\\site-packages\\researchpy\\summary.py:102: FutureWarning: Setting an item of incompatible dtype is deprecated and will raise an error in a future version of pandas. Value 'size' has dtype incompatible with float64, please explicitly cast to a compatible dtype first.\n",
      "  table_a.iloc[0,0] = ix\n"
     ]
    },
    {
     "data": {
      "text/html": [
       "<div>\n",
       "<style scoped>\n",
       "    .dataframe tbody tr th:only-of-type {\n",
       "        vertical-align: middle;\n",
       "    }\n",
       "\n",
       "    .dataframe tbody tr th {\n",
       "        vertical-align: top;\n",
       "    }\n",
       "\n",
       "    .dataframe thead th {\n",
       "        text-align: right;\n",
       "    }\n",
       "</style>\n",
       "<table border=\"1\" class=\"dataframe\">\n",
       "  <thead>\n",
       "    <tr style=\"text-align: right;\">\n",
       "      <th></th>\n",
       "      <th>Variable</th>\n",
       "      <th>N</th>\n",
       "      <th>Mean</th>\n",
       "      <th>SD</th>\n",
       "      <th>SE</th>\n",
       "      <th>95% Conf.</th>\n",
       "      <th>Interval</th>\n",
       "    </tr>\n",
       "  </thead>\n",
       "  <tbody>\n",
       "    <tr>\n",
       "      <th>0</th>\n",
       "      <td>total_bill</td>\n",
       "      <td>244.0</td>\n",
       "      <td>19.7859</td>\n",
       "      <td>8.9024</td>\n",
       "      <td>0.5699</td>\n",
       "      <td>18.6633</td>\n",
       "      <td>20.9086</td>\n",
       "    </tr>\n",
       "    <tr>\n",
       "      <th>1</th>\n",
       "      <td>tip</td>\n",
       "      <td>244.0</td>\n",
       "      <td>2.9983</td>\n",
       "      <td>1.3836</td>\n",
       "      <td>0.0886</td>\n",
       "      <td>2.8238</td>\n",
       "      <td>3.1728</td>\n",
       "    </tr>\n",
       "    <tr>\n",
       "      <th>2</th>\n",
       "      <td>size</td>\n",
       "      <td>244.0</td>\n",
       "      <td>2.5697</td>\n",
       "      <td>0.9511</td>\n",
       "      <td>0.0609</td>\n",
       "      <td>2.4497</td>\n",
       "      <td>2.6896</td>\n",
       "    </tr>\n",
       "  </tbody>\n",
       "</table>\n",
       "</div>"
      ],
      "text/plain": [
       "     Variable      N     Mean      SD      SE  95% Conf.  Interval\n",
       "0  total_bill  244.0  19.7859  8.9024  0.5699    18.6633   20.9086\n",
       "1         tip  244.0   2.9983  1.3836  0.0886     2.8238    3.1728\n",
       "2        size  244.0   2.5697  0.9511  0.0609     2.4497    2.6896"
      ]
     },
     "execution_count": 1411,
     "metadata": {},
     "output_type": "execute_result"
    }
   ],
   "source": [
    "rp.summary_cont(df[[\"total_bill\",\"tip\",\"size\"]])"
   ]
  },
  {
   "cell_type": "code",
   "execution_count": 1412,
   "metadata": {},
   "outputs": [
    {
     "data": {
      "text/html": [
       "<div>\n",
       "<style scoped>\n",
       "    .dataframe tbody tr th:only-of-type {\n",
       "        vertical-align: middle;\n",
       "    }\n",
       "\n",
       "    .dataframe tbody tr th {\n",
       "        vertical-align: top;\n",
       "    }\n",
       "\n",
       "    .dataframe thead th {\n",
       "        text-align: right;\n",
       "    }\n",
       "</style>\n",
       "<table border=\"1\" class=\"dataframe\">\n",
       "  <thead>\n",
       "    <tr style=\"text-align: right;\">\n",
       "      <th></th>\n",
       "      <th>Variable</th>\n",
       "      <th>Outcome</th>\n",
       "      <th>Count</th>\n",
       "      <th>Percent</th>\n",
       "    </tr>\n",
       "  </thead>\n",
       "  <tbody>\n",
       "    <tr>\n",
       "      <th>0</th>\n",
       "      <td>sex</td>\n",
       "      <td>Male</td>\n",
       "      <td>157</td>\n",
       "      <td>64.34</td>\n",
       "    </tr>\n",
       "    <tr>\n",
       "      <th>1</th>\n",
       "      <td></td>\n",
       "      <td>Female</td>\n",
       "      <td>87</td>\n",
       "      <td>35.66</td>\n",
       "    </tr>\n",
       "    <tr>\n",
       "      <th>2</th>\n",
       "      <td>smoker</td>\n",
       "      <td>No</td>\n",
       "      <td>151</td>\n",
       "      <td>61.89</td>\n",
       "    </tr>\n",
       "    <tr>\n",
       "      <th>3</th>\n",
       "      <td></td>\n",
       "      <td>Yes</td>\n",
       "      <td>93</td>\n",
       "      <td>38.11</td>\n",
       "    </tr>\n",
       "    <tr>\n",
       "      <th>4</th>\n",
       "      <td>day</td>\n",
       "      <td>Sat</td>\n",
       "      <td>87</td>\n",
       "      <td>35.66</td>\n",
       "    </tr>\n",
       "    <tr>\n",
       "      <th>5</th>\n",
       "      <td></td>\n",
       "      <td>Sun</td>\n",
       "      <td>76</td>\n",
       "      <td>31.15</td>\n",
       "    </tr>\n",
       "    <tr>\n",
       "      <th>6</th>\n",
       "      <td></td>\n",
       "      <td>Thur</td>\n",
       "      <td>62</td>\n",
       "      <td>25.41</td>\n",
       "    </tr>\n",
       "    <tr>\n",
       "      <th>7</th>\n",
       "      <td></td>\n",
       "      <td>Fri</td>\n",
       "      <td>19</td>\n",
       "      <td>7.79</td>\n",
       "    </tr>\n",
       "    <tr>\n",
       "      <th>8</th>\n",
       "      <td>time</td>\n",
       "      <td>Dinner</td>\n",
       "      <td>176</td>\n",
       "      <td>72.13</td>\n",
       "    </tr>\n",
       "    <tr>\n",
       "      <th>9</th>\n",
       "      <td></td>\n",
       "      <td>Lunch</td>\n",
       "      <td>68</td>\n",
       "      <td>27.87</td>\n",
       "    </tr>\n",
       "  </tbody>\n",
       "</table>\n",
       "</div>"
      ],
      "text/plain": [
       "  Variable Outcome  Count  Percent\n",
       "0      sex    Male    157    64.34\n",
       "1           Female     87    35.66\n",
       "2   smoker      No    151    61.89\n",
       "3              Yes     93    38.11\n",
       "4      day     Sat     87    35.66\n",
       "5              Sun     76    31.15\n",
       "6             Thur     62    25.41\n",
       "7              Fri     19     7.79\n",
       "8     time  Dinner    176    72.13\n",
       "9            Lunch     68    27.87"
      ]
     },
     "execution_count": 1412,
     "metadata": {},
     "output_type": "execute_result"
    }
   ],
   "source": [
    "rp.summary_cat(df[[\"sex\",\"smoker\",\"day\",\"time\"]])"
   ]
  },
  {
   "cell_type": "code",
   "execution_count": 1413,
   "metadata": {},
   "outputs": [
    {
     "data": {
      "text/html": [
       "<div>\n",
       "<style scoped>\n",
       "    .dataframe tbody tr th:only-of-type {\n",
       "        vertical-align: middle;\n",
       "    }\n",
       "\n",
       "    .dataframe tbody tr th {\n",
       "        vertical-align: top;\n",
       "    }\n",
       "\n",
       "    .dataframe thead th {\n",
       "        text-align: right;\n",
       "    }\n",
       "</style>\n",
       "<table border=\"1\" class=\"dataframe\">\n",
       "  <thead>\n",
       "    <tr style=\"text-align: right;\">\n",
       "      <th></th>\n",
       "      <th>tip</th>\n",
       "      <th>total_bill</th>\n",
       "    </tr>\n",
       "  </thead>\n",
       "  <tbody>\n",
       "    <tr>\n",
       "      <th>tip</th>\n",
       "      <td>1.914455</td>\n",
       "      <td>8.323502</td>\n",
       "    </tr>\n",
       "    <tr>\n",
       "      <th>total_bill</th>\n",
       "      <td>8.323502</td>\n",
       "      <td>79.252939</td>\n",
       "    </tr>\n",
       "  </tbody>\n",
       "</table>\n",
       "</div>"
      ],
      "text/plain": [
       "                 tip  total_bill\n",
       "tip         1.914455    8.323502\n",
       "total_bill  8.323502   79.252939"
      ]
     },
     "execution_count": 1413,
     "metadata": {},
     "output_type": "execute_result"
    }
   ],
   "source": [
    "df[[\"tip\",\"total_bill\"]].cov() #kovaryans"
   ]
  },
  {
   "cell_type": "code",
   "execution_count": 1414,
   "metadata": {},
   "outputs": [
    {
     "data": {
      "text/html": [
       "<div>\n",
       "<style scoped>\n",
       "    .dataframe tbody tr th:only-of-type {\n",
       "        vertical-align: middle;\n",
       "    }\n",
       "\n",
       "    .dataframe tbody tr th {\n",
       "        vertical-align: top;\n",
       "    }\n",
       "\n",
       "    .dataframe thead th {\n",
       "        text-align: right;\n",
       "    }\n",
       "</style>\n",
       "<table border=\"1\" class=\"dataframe\">\n",
       "  <thead>\n",
       "    <tr style=\"text-align: right;\">\n",
       "      <th></th>\n",
       "      <th>tip</th>\n",
       "      <th>total_bill</th>\n",
       "    </tr>\n",
       "  </thead>\n",
       "  <tbody>\n",
       "    <tr>\n",
       "      <th>tip</th>\n",
       "      <td>1.000000</td>\n",
       "      <td>0.675734</td>\n",
       "    </tr>\n",
       "    <tr>\n",
       "      <th>total_bill</th>\n",
       "      <td>0.675734</td>\n",
       "      <td>1.000000</td>\n",
       "    </tr>\n",
       "  </tbody>\n",
       "</table>\n",
       "</div>"
      ],
      "text/plain": [
       "                 tip  total_bill\n",
       "tip         1.000000    0.675734\n",
       "total_bill  0.675734    1.000000"
      ]
     },
     "execution_count": 1414,
     "metadata": {},
     "output_type": "execute_result"
    }
   ],
   "source": [
    "df[[\"tip\",\"total_bill\"]].corr() #korelasyon"
   ]
  },
  {
   "cell_type": "markdown",
   "metadata": {},
   "source": [
    "# Güven Aralıkları\n"
   ]
  },
  {
   "cell_type": "markdown",
   "metadata": {},
   "source": [
    "* * İş Uygulaması: Fiyat Stratejisi örnek soru\n",
    "\n",
    "- satıcı var alıcı var ürün var\n",
    "- alıcılara ne kadar ücret öderdiniz diye soruluyor. (Ayrı ayrı)\n",
    "- optimum fiyat bilimsel ve esnek olarak bulunmak isteniyor"
   ]
  },
  {
   "cell_type": "code",
   "execution_count": 1415,
   "metadata": {},
   "outputs": [
    {
     "data": {
      "text/plain": [
       "array([109,  64,  52,  59,  73,  98,  24,  86,  51,  74,  78,  36,  50,\n",
       "       109,  51,  20,  93,  86,  61,  81,  56,  18,  16,  11,  47,  98,\n",
       "       109,  98,  82,  19,  69, 108,  37,  84,  43,  54,  24,  61,  88,\n",
       "        22,  49,  12,  20,  70,  88,  23,  49,  14,  35,  10, 104,  65,\n",
       "        93,  65,  13,  60,  46,  94,  45,  71,  59,  33, 105,  59,  47,\n",
       "        63,  80,  67,  56,  35,  43,  81,  19,  43,  16,  42,  41,  44,\n",
       "       100, 101,  12,  96,  82,  31,  38,  91,  37,  49,  43,  59, 107,\n",
       "       103,  28,  31,  85,  11,  50, 104,  60,  15,  85,  50,  83, 103,\n",
       "        93,  19,  21,  41,  39,  13,  34,  29,  13,  74,  56,  78,  76,\n",
       "        29,  16,  57,  37,  48,  19,  53,  24,  59, 104,  14,  33,  86,\n",
       "        52,  42,  89,  89,  48,  58, 108,  98,  77,  23,  69, 101,  57,\n",
       "        57,  23,  21,  86,  46,  65,  16,  69,  60,  19,  39,  43,  59,\n",
       "        45,  29,  10,  30,  38,  33,  99,  68,  81,  78,  92,  32,  81,\n",
       "        62,  99,  35,  90, 105,  49,  31,  34,  83,  51,  48,  39,  90,\n",
       "        63,  90,  62,  70,  72,  31,  43,  16,  78,  32,  67,  11,  92,\n",
       "        75, 109,  28,  38,  19,  72,  65,  55,  59,  42,  88,  79,  67,\n",
       "        90,  18,  90,  42,  39,  61,  60,  61,  85,  93,  74,  51,  53,\n",
       "        96,  62, 106,  88,  58,  82,  26,  63,  28,  38,  93,  78,  86,\n",
       "        20,  29,  44,  37,  74,  26, 107,  26,  69,  35,  27,  96,  28,\n",
       "        51,  10,  37,  11,  29,  85,  42,  53,  32,  46,  18, 105, 106,\n",
       "        86,  39,  75,  72,  33,  43, 108, 100,  80,  38,  16, 105,  40,\n",
       "        17,  63,  21,  23,  40,  57,  94,  73, 108,  80,  15,  24,  73,\n",
       "        64,  76,  61,  35,  84,  73,  17,  81,  85,  68,  18,  32,  28,\n",
       "        13,  79,  83,  11,  24,  36,  11,  40,  59,  23,  22,  53,  90,\n",
       "        30,  99,  43,  42,  84, 106,  80,  65,  93,  48,  50,  20,  88,\n",
       "        63,  92,  25,  22,  73,  95,  48, 106,  14, 104,  56,  28,  61,\n",
       "        52,  17,  82,  55,  97,  34,  75,  81,  33,  74,  36,  60,  34,\n",
       "        26,  83,  99,  81,  97,  64,  28,  82,  75,  98,  53,  39,  55,\n",
       "        99,  55,  27, 109,  44,  63,  23,  15, 106,  30, 107, 109,  72,\n",
       "        26,  25,  94,  48,  15,  12,  19,  60,  15,  81, 104, 100,  10,\n",
       "        10,  47,  77,  97,  96,  76,  75,  98,  96,  67,  59,  64,  55,\n",
       "        22,  29,  39,  66,  25,  65,  70,  12,  38,  69,  17,  44,  52,\n",
       "        73,  77,  61,  42,  91,  27,  57, 108,  83,  64,  38,  19, 105,\n",
       "        43,  21,  16,  19,  55,  97,  40,  69,  63,  50, 108,  13,  48,\n",
       "        54,  96,  32, 107,  13, 101,  14,  41,  24,  53, 109,  43,  61,\n",
       "        78,  94, 104,  30,  43,  19, 103,  25,  75,  25,  80,  54,  31,\n",
       "        24, 102, 104,  48,  12,  43, 104,  86,  60, 102,  33,  79,  32,\n",
       "        31,  34,  86,  12,  63, 103,  87,  28,  22,  72,  73,  31,  96,\n",
       "       102,  66,  21, 108,  98, 104,  62,  11,  37,  75, 109,  74,  83,\n",
       "        10,  18,  53,  75,  97,  98,  88, 100,  58,  75,  34,  66,  69,\n",
       "        57,  21,  89,  83,  80,  82,  91,  52,  57,  84,  51,  38,  41,\n",
       "        43,  22,  41, 100,  10,  40,  87,  90,  94,  70,  91,  41,  37,\n",
       "        34,  11,  46, 103,  55,  42,  47,  82,  59, 108,  88,  50,  91,\n",
       "        79,  38,  30,  30,  10,  61,  44,  60,  40,  34,  44,  85,  48,\n",
       "        14,  13,  29,  55,  21,  74,  64,  21,  46,  55,  96,  31,  34,\n",
       "        89,  66,  33,  66, 103,  95,  48, 100,  71,  16, 102,  50, 104,\n",
       "        61,  97,  61,  25,  97,  39,  75,  88,  51,  67,  29,  74, 103,\n",
       "        25, 109,  62, 102,  38,  16,  32,  98,  70,  86,  73,  93,  15,\n",
       "        74,  13,  74,  93,  35,  99, 105, 100,  61,  28,  17,  98,  32,\n",
       "        44,  63,  96,  22,  30,  71,  21,  49,  60,  47,  95,  53,  47,\n",
       "        41,  66,  71,  73,  34,  71,  31,  58,  11,  96,  67,  92,  89,\n",
       "        68, 108,  44,  68,  32,  16,  58,  47,  15,  94,  50,  69,  38,\n",
       "        68,  22,  12, 107,  12,  96,  12,  26,  66,  70,  23,  87,  44,\n",
       "        29,  21, 101,  48,  91,  25,  83, 109,  17,  39,  26,  67,  92,\n",
       "        72,  88,  36, 100,  54,  93,  52, 108,  92,  93,  33,  13,  72,\n",
       "        99,  23,  47, 108,  23,  20,  89,  24,  80,  39, 109,  20,  87,\n",
       "        89,  72, 105,  93,  33,  92,  30,  39,  84, 106,  88,  22,  28,\n",
       "        22,  89,  24,  98,  88,  14,  20,  62,  76,  31,  68, 107,  34,\n",
       "        84,  10,  92,  16,  43,  29,  35,  28,  15,  31,  77, 103,  92,\n",
       "        85,  14,  55,  65,  74,  11,  77,  44,  83,  13,  91,  56,  19,\n",
       "        41,  69,  19,  87,  96,  48,  81,  20,  89, 109,  54,  62, 109,\n",
       "        62,  94,  20,  80,  25,  31,  98,  76,  49,  24,  22,  37,  97,\n",
       "        72,  40,  81,  12,  77,  77,  61,  79, 109, 109,  64,  28,  82,\n",
       "        76,  35,  36,  74,  54,  17,  62,  44,  53,  77,  95,  76,  50,\n",
       "        47,  54,  73,  60,  13,  68, 108,  38,  45,  65,  37,  58,  12,\n",
       "        20,  17,  76,  32,  29,  26,  99,  44,  11,  91,  41,  75,  69,\n",
       "        10,  80,  28,  42,  47,  19,  84,  49,  46,  85,  16,  31,  87,\n",
       "        73,  17,  87,  39,  72,  19,  91,  49,  68,  29,  42,  30,  33,\n",
       "        45,  79,  43,  69,  93,  77, 103,  41,  59,  83,  43,  42,  55,\n",
       "       109, 102,  40,  86,  96,  98, 102,  40,  71,  60,  54,  72,  45,\n",
       "       108,  67,  99,  51,  68,  53,  64,  87,  88,  49,  68,  14,  28,\n",
       "        13,  21,  55,  58,  63,  38,  63,  44,  44, 104,  89,  76,  42,\n",
       "        92,  39,  15, 102,  75,  81,  24,  18,  27, 103, 102,  81,  66,\n",
       "        40,  41,  36,  23,  54, 103,  29,  18,  83,  19,  44,  90,  86,\n",
       "        13,  40, 103,  95,  36,  66,  41,  99,  34, 101,  35,  70, 108,\n",
       "        63,  87,  85,  76,  66,  41,  40,  94,  20,  29,  42,  97,  74,\n",
       "        14,  76,  93,  84,  98,  19,  64,  16, 104,  45,  62, 109],\n",
       "      dtype=int32)"
      ]
     },
     "execution_count": 1415,
     "metadata": {},
     "output_type": "execute_result"
    }
   ],
   "source": [
    "fiyatlar = np.random.randint(10,110, 1000)\n",
    "fiyatlar"
   ]
  },
  {
   "cell_type": "code",
   "execution_count": 1416,
   "metadata": {},
   "outputs": [
    {
     "data": {
      "text/plain": [
       "np.float64(58.492)"
      ]
     },
     "execution_count": 1416,
     "metadata": {},
     "output_type": "execute_result"
    }
   ],
   "source": [
    "fiyatlar.mean()"
   ]
  },
  {
   "cell_type": "code",
   "execution_count": 1417,
   "metadata": {},
   "outputs": [],
   "source": [
    "import statsmodels.stats.api as sms"
   ]
  },
  {
   "cell_type": "code",
   "execution_count": 1418,
   "metadata": {},
   "outputs": [
    {
     "data": {
      "text/plain": [
       "(np.float64(56.67953887736034), np.float64(60.30446112263965))"
      ]
     },
     "execution_count": 1418,
     "metadata": {},
     "output_type": "execute_result"
    }
   ],
   "source": [
    "sms.DescrStatsW(fiyatlar).tconfint_mean() \n",
    "#%95 güvenilirlikle bu 2 aralığın arasında ücret öderler"
   ]
  },
  {
   "cell_type": "markdown",
   "metadata": {},
   "source": [
    "# Bernoilli Dağılımı"
   ]
  },
  {
   "cell_type": "markdown",
   "metadata": {},
   "source": [
    "\n",
    "${\\displaystyle f(k;p)=p^{k}(1-p)^{1-k}\\quad {\\text{for }}\\in \\{0,1\\}}$\n",
    "\n",
    "${\\displaystyle \\operatorname {E} \\left(X\\right)=p}$\n",
    "\n",
    "$\\operatorname {Var} [X]=pq=p(1-p)$"
   ]
  },
  {
   "cell_type": "code",
   "execution_count": 1419,
   "metadata": {},
   "outputs": [],
   "source": [
    "from scipy.stats import bernoulli"
   ]
  },
  {
   "cell_type": "code",
   "execution_count": 1420,
   "metadata": {},
   "outputs": [],
   "source": [
    "p = 0.6 # tura gelme olasılığı olsun"
   ]
  },
  {
   "cell_type": "code",
   "execution_count": 1421,
   "metadata": {},
   "outputs": [
    {
     "data": {
      "text/plain": [
       "np.float64(0.6)"
      ]
     },
     "execution_count": 1421,
     "metadata": {},
     "output_type": "execute_result"
    }
   ],
   "source": [
    "rv = bernoulli(p)\n",
    "rv.pmf(k=1) # tura gelme 1, yazı gelme 0. 1 yazarak turayı seçtik."
   ]
  },
  {
   "cell_type": "code",
   "execution_count": 1422,
   "metadata": {},
   "outputs": [
    {
     "data": {
      "text/plain": [
       "np.float64(0.4000000000000001)"
      ]
     },
     "execution_count": 1422,
     "metadata": {},
     "output_type": "execute_result"
    }
   ],
   "source": [
    "rv.pmf(k=0) # yazı için 0"
   ]
  },
  {
   "cell_type": "markdown",
   "metadata": {},
   "source": [
    "* # Büyük Sayılar Yasası\n",
    "bir random variablenin uzun vadeli kararlılığını tanımlayan olasılık teoremidir."
   ]
  },
  {
   "cell_type": "code",
   "execution_count": 1423,
   "metadata": {},
   "outputs": [
    {
     "name": "stdout",
     "output_type": "stream",
     "text": [
      "Atış sayısı: 2 ----- Yazı Olasılığı: 50.00\n",
      "Atış sayısı: 4 ----- Yazı Olasılığı: 0.00\n",
      "Atış sayısı: 8 ----- Yazı Olasılığı: 62.50\n",
      "Atış sayısı: 16 ----- Yazı Olasılığı: 43.75\n",
      "Atış sayısı: 32 ----- Yazı Olasılığı: 46.88\n",
      "Atış sayısı: 64 ----- Yazı Olasılığı: 56.25\n",
      "Atış sayısı: 128 ----- Yazı Olasılığı: 50.78\n",
      "Atış sayısı: 256 ----- Yazı Olasılığı: 52.73\n",
      "Atış sayısı: 512 ----- Yazı Olasılığı: 52.93\n",
      "Atış sayısı: 1024 ----- Yazı Olasılığı: 50.20\n",
      "Atış sayısı: 2048 ----- Yazı Olasılığı: 48.58\n",
      "Atış sayısı: 4096 ----- Yazı Olasılığı: 49.49\n",
      "Atış sayısı: 8192 ----- Yazı Olasılığı: 49.58\n",
      "Atış sayısı: 16384 ----- Yazı Olasılığı: 49.96\n",
      "Atış sayısı: 32768 ----- Yazı Olasılığı: 50.00\n",
      "Atış sayısı: 65536 ----- Yazı Olasılığı: 49.68\n",
      "Atış sayısı: 131072 ----- Yazı Olasılığı: 49.97\n",
      "Atış sayısı: 262144 ----- Yazı Olasılığı: 50.13\n",
      "Atış sayısı: 524288 ----- Yazı Olasılığı: 50.01\n",
      "Atış sayısı: 1048576 ----- Yazı Olasılığı: 50.09\n"
     ]
    }
   ],
   "source": [
    "rng = np.random.RandomState(123)\n",
    "for i in np.arange(1,21):\n",
    "    deney_sayisi = 2**i\n",
    "    yazi_turalar = rng.randint(0,2, size=deney_sayisi)\n",
    "    yazi_olasiliklari = np.mean(yazi_turalar)*100\n",
    "    print(\"Atış sayısı:\",deney_sayisi,\"-----\",\"Yazı Olasılığı: %.2f\" %(yazi_olasiliklari))"
   ]
  },
  {
   "cell_type": "markdown",
   "metadata": {},
   "source": [
    "# Binom Dağılımı"
   ]
  },
  {
   "cell_type": "markdown",
   "metadata": {},
   "source": [
    "Bir şirket reklam veriyor. Tıklanma ve geri dönüşüm oranları optimize edilmiye çalışılıyor. \n",
    "\n",
    "Bir mecrada reklam verilecek\n",
    "\n",
    "dağılım ve reklama tıklanma olasılığı 0.01 olarak biliniyor.\n",
    "\n",
    "soru: 100 kişi gördüğünde 1,5,10 tıklanma olasılığı nedir?"
   ]
  },
  {
   "cell_type": "code",
   "execution_count": 1424,
   "metadata": {},
   "outputs": [],
   "source": [
    "from scipy.stats import binom"
   ]
  },
  {
   "cell_type": "code",
   "execution_count": 1425,
   "metadata": {},
   "outputs": [
    {
     "name": "stdout",
     "output_type": "stream",
     "text": [
      "0.36972963764972666\n",
      "0.0028977871237614783\n",
      "7.006035693977194e-08\n"
     ]
    }
   ],
   "source": [
    "p=0.01\n",
    "n=100\n",
    "rv=binom(n,p)\n",
    "print(rv.pmf(1))\n",
    "print(rv.pmf(5))\n",
    "print(rv.pmf(10))\n"
   ]
  },
  {
   "cell_type": "markdown",
   "metadata": {},
   "source": [
    "# Poisson Dağılımı"
   ]
  },
  {
   "cell_type": "markdown",
   "metadata": {},
   "source": [
    "Bir ilan sitesi var. İlan girişleri yapılıyor, hatalı ilan hesaplanmak isteniyor.\n",
    "\n",
    "Ortalama hata sayısı 0.1\n",
    "\n",
    "dağılım biliniyor. Poisson\n",
    "\n",
    "hiç hata olmaması, 3 hata olması 5 hata olması olasılıkları nelerdir?\n"
   ]
  },
  {
   "cell_type": "code",
   "execution_count": 1426,
   "metadata": {},
   "outputs": [],
   "source": [
    "from scipy.stats import poisson"
   ]
  },
  {
   "cell_type": "code",
   "execution_count": 1427,
   "metadata": {},
   "outputs": [
    {
     "name": "stdout",
     "output_type": "stream",
     "text": [
      "0.9048374180359595\n",
      "0.00015080623633932676\n",
      "7.54031181696634e-08\n"
     ]
    }
   ],
   "source": [
    "lambda_p = 0.1\n",
    "rv=poisson(lambda_p)\n",
    "print(rv.pmf(0))\n",
    "print(rv.pmf(3))\n",
    "print(rv.pmf(5))"
   ]
  },
  {
   "cell_type": "code",
   "execution_count": 1428,
   "metadata": {},
   "outputs": [
    {
     "name": "stdout",
     "output_type": "stream",
     "text": [
      "0.9048374180359595\n",
      "0.00015080623633932676\n",
      "7.54031181696634e-08\n"
     ]
    }
   ],
   "source": [
    "lambda_p = 0.1\n",
    "rv=poisson(mu = lambda_p)\n",
    "print(rv.pmf(k=0))\n",
    "print(rv.pmf(k=3))\n",
    "print(rv.pmf(k=5))"
   ]
  },
  {
   "cell_type": "markdown",
   "metadata": {},
   "source": [
    "# Normal Dağılım"
   ]
  },
  {
   "cell_type": "markdown",
   "metadata": {},
   "source": [
    "Bir yatırım toplantısı öncesi gelecek ay satışlarının belirli değerlerde gerçekleşmesi olasılıkları belirlenmek isteniyor.\n",
    "\n",
    "* dağılımın normal old. biliniyor\n",
    "* aylık ortalama satış sayısı 80k, std 5k\n",
    "* 90k'dan fazla satış yapma olasılığı nedir?\n",
    "* 70k'den fazla olma olasılığı?\n",
    "* 73k'dedn az olma olasılığı?\n",
    "* 85k-90k arasında olma olasılığı?"
   ]
  },
  {
   "cell_type": "code",
   "execution_count": 1429,
   "metadata": {},
   "outputs": [],
   "source": [
    "from scipy.stats import norm"
   ]
  },
  {
   "cell_type": "code",
   "execution_count": 1430,
   "metadata": {},
   "outputs": [
    {
     "name": "stdout",
     "output_type": "stream",
     "text": [
      "0.02275013194817921\n",
      "0.9772498680518208\n",
      "0.08075665923377107\n",
      "0.13590512198327787\n"
     ]
    }
   ],
   "source": [
    "print(1-norm.cdf(90,80,5))\n",
    "print(1-norm.cdf(70,80,5))\n",
    "print(norm.cdf(73,80,5))\n",
    "print(norm.cdf(90,80,5)-norm.cdf(85,80,5))\n"
   ]
  },
  {
   "cell_type": "markdown",
   "metadata": {},
   "source": [
    "# HİPOTEZ TESTLERİ"
   ]
  },
  {
   "cell_type": "markdown",
   "metadata": {},
   "source": [
    "* #  tek örneklem T TESTİ\n",
    "- Örnek ortalamasına ilişkin test yapmak için kullanılır"
   ]
  },
  {
   "cell_type": "markdown",
   "metadata": {},
   "source": [
    "Soru: web sitemizde geçirilen ortalama gerçekten 170 saniye mi?\n",
    "* yazılımlar ile elde edilen web sitesinde geçirilen ortalama süreler var.\n",
    "* bu veriler incelendiğinde bir yönetici ya da çalışanımız bu değerlerin böyle olmadığını düşünüyor ve test etmek istiyor."
   ]
  },
  {
   "cell_type": "markdown",
   "metadata": {},
   "source": [
    "t testi:\n",
    "\n",
    "1-)        \n",
    "* H0: μ =170\n",
    "* H1: μ !=170\n",
    "    "
   ]
  },
  {
   "cell_type": "code",
   "execution_count": 1431,
   "metadata": {},
   "outputs": [],
   "source": [
    "olcumler = np.array([17, 160, 234, 149, 145, 107, 197, 75, 201, 225, 211, 119,\n",
    "                     157, 145, 127, 244, 163, 114, 145, 65, 112, 185, 202, 146,\n",
    "                     203, 224, 203, 114, 188, 156, 187, 154, 177, 95, 165, 50, \n",
    "                     110, 216, 138, 151, 166, 135, 155, 84, 251, 173, 131, 207, \n",
    "                     121, 120])"
   ]
  },
  {
   "cell_type": "code",
   "execution_count": 1432,
   "metadata": {},
   "outputs": [
    {
     "data": {
      "text/plain": [
       "array([ 17, 160, 234, 149, 145, 107, 197,  75, 201, 225])"
      ]
     },
     "execution_count": 1432,
     "metadata": {},
     "output_type": "execute_result"
    }
   ],
   "source": [
    "olcumler[0:10]"
   ]
  },
  {
   "cell_type": "code",
   "execution_count": 1433,
   "metadata": {},
   "outputs": [],
   "source": [
    "import scipy.stats as stats"
   ]
  },
  {
   "cell_type": "code",
   "execution_count": 1434,
   "metadata": {},
   "outputs": [
    {
     "data": {
      "text/plain": [
       "DescribeResult(nobs=50, minmax=(np.int64(17), np.int64(251)), mean=np.float64(154.38), variance=np.float64(2578.0363265306123), skewness=np.float64(-0.32398897278694483), kurtosis=np.float64(-0.05849823498415985))"
      ]
     },
     "execution_count": 1434,
     "metadata": {},
     "output_type": "execute_result"
    }
   ],
   "source": [
    "stats.describe(olcumler)"
   ]
  },
  {
   "cell_type": "markdown",
   "metadata": {},
   "source": [
    "2-) Varsayımlar - normallik varsayımı"
   ]
  },
  {
   "cell_type": "code",
   "execution_count": 1435,
   "metadata": {},
   "outputs": [],
   "source": [
    "import pandas as pd"
   ]
  },
  {
   "cell_type": "code",
   "execution_count": 1436,
   "metadata": {},
   "outputs": [
    {
     "data": {
      "image/png": "[encoded data removed]",
      "text/plain": [
       "<Figure size 640x480 with 1 Axes>"
      ]
     },
     "metadata": {},
     "output_type": "display_data"
    }
   ],
   "source": [
    "#Histogram\n",
    "pd.DataFrame(olcumler).plot.hist();"
   ]
  },
  {
   "cell_type": "code",
   "execution_count": 1437,
   "metadata": {},
   "outputs": [
    {
     "data": {
      "image/png": "[encoded data removed]",
      "text/plain": [
       "<Figure size 640x480 with 1 Axes>"
      ]
     },
     "metadata": {},
     "output_type": "display_data"
    }
   ],
   "source": [
    "#qqplot\n",
    "import pylab\n",
    "stats.probplot(olcumler, dist=\"norm\", plot=pylab)\n",
    "pylab.show()"
   ]
  },
  {
   "cell_type": "markdown",
   "metadata": {},
   "source": [
    "* Shapiro-Wilks Testi"
   ]
  },
  {
   "cell_type": "markdown",
   "metadata": {},
   "source": [
    "H0: örnek dağım ile teorik normal dağılım arasında istatistiksel olarak anlamlı bir farklılık yoktur.\n",
    "\n",
    "H1: ... Vardir diyor"
   ]
  },
  {
   "cell_type": "code",
   "execution_count": 1438,
   "metadata": {},
   "outputs": [],
   "source": [
    "from scipy.stats import shapiro"
   ]
  },
  {
   "cell_type": "code",
   "execution_count": 1439,
   "metadata": {},
   "outputs": [
    {
     "data": {
      "text/plain": [
       "ShapiroResult(statistic=np.float64(0.9853103897061022), pvalue=np.float64(0.7848671719373956))"
      ]
     },
     "execution_count": 1439,
     "metadata": {},
     "output_type": "execute_result"
    }
   ],
   "source": [
    "shapiro(olcumler) # (test istatistiği, p value)"
   ]
  },
  {
   "cell_type": "code",
   "execution_count": 1440,
   "metadata": {},
   "outputs": [
    {
     "name": "stdout",
     "output_type": "stream",
     "text": [
      "T hesap istatistiği: 0.9853103897061022\n",
      "Hesaplanan P-Value: 0.7848671719373956\n",
      "\n",
      "H0 reddedilemez çünkü eğer p value 0.05'ten küçük olsaydı h0'ı reddedecektik.\n",
      "Ama 0.78 , 0.5'ten büyük olduğu için h0 reddedilemez\n"
     ]
    }
   ],
   "source": [
    "print(\"T hesap istatistiği: \"+ str(shapiro(olcumler)[0]))\n",
    "print(\"Hesaplanan P-Value: \"+ str(shapiro(olcumler)[1]))\n",
    "print(\"\\nH0 reddedilemez çünkü eğer p value 0.05'ten küçük olsaydı h0'ı reddedecektik.\\nAma 0.78 , 0.5'ten büyük olduğu için h0 reddedilemez\")"
   ]
  },
  {
   "cell_type": "markdown",
   "metadata": {},
   "source": [
    "varsayımımız doğru olduğuna göre hipotezi test edebiliriz.:"
   ]
  },
  {
   "cell_type": "markdown",
   "metadata": {},
   "source": [
    "3-) Hipotez Testinin uygulanması"
   ]
  },
  {
   "cell_type": "code",
   "execution_count": 1441,
   "metadata": {},
   "outputs": [
    {
     "data": {
      "text/plain": [
       "TtestResult(statistic=np.float64(-2.1753117985877966), pvalue=np.float64(0.034460415195071446), df=np.int64(49))"
      ]
     },
     "execution_count": 1441,
     "metadata": {},
     "output_type": "execute_result"
    }
   ],
   "source": [
    "stats.ttest_1samp(olcumler, popmean=170)"
   ]
  },
  {
   "cell_type": "code",
   "execution_count": 1442,
   "metadata": {},
   "outputs": [
    {
     "name": "stdout",
     "output_type": "stream",
     "text": [
      "Test istatistiği değeri: -2.1753117985877966\n",
      "p value: 0.034460415195071446\n"
     ]
    }
   ],
   "source": [
    "print(\"Test istatistiği değeri: \" + str(stats.ttest_1samp(olcumler, popmean=170)[0]))\n",
    "print(\"p value: \" + str(stats.ttest_1samp(olcumler, popmean=170)[1]))"
   ]
  },
  {
   "cell_type": "markdown",
   "metadata": {},
   "source": [
    "H0: sitede geçirilen ortalama süre 170 saniyedir.\n",
    "\n",
    "H1: sitede geçirilen ortalama süre 170 saniye değildir.\n",
    "\n",
    "Elde ettiğimiz p value değeri çalışmanın başında kabul edilebilir hata miktarı olarak kabul ettiğimiz alpha = 0.05'ten küçük olduğundan dolayı H0 hipotezi reddedilir."
   ]
  },
  {
   "cell_type": "markdown",
   "metadata": {},
   "source": [
    "* # Nonparametrik Tek Örneklem T Testi"
   ]
  },
  {
   "cell_type": "markdown",
   "metadata": {},
   "source": [
    "diyelimki varsayımlar sağlanmıyordu. \"2-)\" kısım."
   ]
  },
  {
   "cell_type": "code",
   "execution_count": 1443,
   "metadata": {},
   "outputs": [],
   "source": [
    "from statsmodels.stats.descriptivestats import sign_test"
   ]
  },
  {
   "cell_type": "code",
   "execution_count": 1444,
   "metadata": {},
   "outputs": [
    {
     "data": {
      "text/plain": [
       "(np.float64(-7.0), np.float64(0.06490864707227217))"
      ]
     },
     "execution_count": 1444,
     "metadata": {},
     "output_type": "execute_result"
    }
   ],
   "source": [
    "sign_test(olcumler, 170) # 0.06490864707227217 >0.05"
   ]
  },
  {
   "cell_type": "markdown",
   "metadata": {},
   "source": [
    "* merkezi eğilime göre test yapılıyor(medyan vb.), merkezi eğilimin 170 olup olmadığını test ettik. \n",
    "* Dağılım çarpık olsaydı ortalama kullanılamazdı.\n",
    "* p value 0.05'ten küçük değil, h0 reddedilemez."
   ]
  },
  {
   "cell_type": "markdown",
   "metadata": {},
   "source": [
    "* # Dönüşüm Oranı Testi\n",
    "reklama tıklayan / reklamı gören kişi sayısı\n"
   ]
  },
  {
   "cell_type": "markdown",
   "metadata": {},
   "source": [
    "bir sitede reklam verilmiş 0.125 dönüşüm oranı elde edilmiş. Bu durumun doğrulığu incelenmek isteniyor.\n",
    "\n",
    "Detaylar:\n",
    "\n",
    "* 500 kişi reklama tıklamış, 40 tanesi siteden alışveriş yapmış.\n",
    "* Örnek üzerinde elde edilen dönüşüm oranı 40/500 = 0.08\n",
    "\n",
    "-------\n",
    "\n",
    "* 1-) H0: p = 0.125, H1: p != 0.125"
   ]
  },
  {
   "cell_type": "code",
   "execution_count": 1445,
   "metadata": {},
   "outputs": [],
   "source": [
    "from statsmodels.stats.proportion import proportions_ztest"
   ]
  },
  {
   "cell_type": "code",
   "execution_count": 1446,
   "metadata": {},
   "outputs": [],
   "source": [
    "count = 40 # başarı sayısı\n",
    "nobs = 500 # gözlem sayısı\n",
    "value = 0.125 # p"
   ]
  },
  {
   "cell_type": "code",
   "execution_count": 1447,
   "metadata": {},
   "outputs": [
    {
     "data": {
      "text/plain": [
       "(np.float64(-3.7090151628513017), np.float64(0.0002080669689845979))"
      ]
     },
     "execution_count": 1447,
     "metadata": {},
     "output_type": "execute_result"
    }
   ],
   "source": [
    "proportions_ztest(count, nobs, value)\n",
    "# test istatistiği  : -3.7\n",
    "# p value           : 0.0002\n",
    "\n",
    "# p value(0.0002) < 0.05 bu yüzden reddediyoruz ve \n",
    "# 0.125 değeri yanlıştır diyebiliriz(%5 yanılma payıyla)."
   ]
  },
  {
   "cell_type": "markdown",
   "metadata": {},
   "source": [
    "# Bağımsız İki Örneklem T Testi"
   ]
  },
  {
   "cell_type": "markdown",
   "metadata": {},
   "source": [
    "# ML Modelinin Başarı Testi"
   ]
  },
  {
   "cell_type": "markdown",
   "metadata": {},
   "source": [
    "Bir makine öğrenmesi sistemi siteye entegre ediliyor. Bu modelinin başarısı test edilmek isteniyor.\n",
    "\n",
    "A eski sistem, B yeni sistem.\n",
    "-------\n",
    "- H0: u1 = u2 # gelirlerin ortalamaları eşittir\n",
    "- H1: u1 != u2 # gelirlerin ortalamaları eşit değildir."
   ]
  },
  {
   "cell_type": "markdown",
   "metadata": {},
   "source": [
    "* VERİ TİPİ 1"
   ]
  },
  {
   "cell_type": "code",
   "execution_count": 1448,
   "metadata": {},
   "outputs": [],
   "source": [
    "A = pd.DataFrame([30,27,21,27,29,30,20,20,27,32,35,22,24,23,25,27,23,27,23,\n",
    "                  25,21,18,24,26,33,26,27,28,19,25])\n",
    "B = pd.DataFrame([37,39,31,31,34,38,30,36,29,28,38,28,37,37,30,32,31,31,27,\n",
    "                  32,33,33,33,31,32,33,26,32,33,29])"
   ]
  },
  {
   "cell_type": "code",
   "execution_count": 1449,
   "metadata": {},
   "outputs": [
    {
     "data": {
      "text/html": [
       "<div>\n",
       "<style scoped>\n",
       "    .dataframe tbody tr th:only-of-type {\n",
       "        vertical-align: middle;\n",
       "    }\n",
       "\n",
       "    .dataframe tbody tr th {\n",
       "        vertical-align: top;\n",
       "    }\n",
       "\n",
       "    .dataframe thead th {\n",
       "        text-align: right;\n",
       "    }\n",
       "</style>\n",
       "<table border=\"1\" class=\"dataframe\">\n",
       "  <thead>\n",
       "    <tr style=\"text-align: right;\">\n",
       "      <th></th>\n",
       "      <th>A</th>\n",
       "      <th>B</th>\n",
       "    </tr>\n",
       "  </thead>\n",
       "  <tbody>\n",
       "    <tr>\n",
       "      <th>0</th>\n",
       "      <td>30</td>\n",
       "      <td>37</td>\n",
       "    </tr>\n",
       "    <tr>\n",
       "      <th>1</th>\n",
       "      <td>27</td>\n",
       "      <td>39</td>\n",
       "    </tr>\n",
       "    <tr>\n",
       "      <th>2</th>\n",
       "      <td>21</td>\n",
       "      <td>31</td>\n",
       "    </tr>\n",
       "    <tr>\n",
       "      <th>3</th>\n",
       "      <td>27</td>\n",
       "      <td>31</td>\n",
       "    </tr>\n",
       "    <tr>\n",
       "      <th>4</th>\n",
       "      <td>29</td>\n",
       "      <td>34</td>\n",
       "    </tr>\n",
       "  </tbody>\n",
       "</table>\n",
       "</div>"
      ],
      "text/plain": [
       "    A   B\n",
       "0  30  37\n",
       "1  27  39\n",
       "2  21  31\n",
       "3  27  31\n",
       "4  29  34"
      ]
     },
     "execution_count": 1449,
     "metadata": {},
     "output_type": "execute_result"
    }
   ],
   "source": [
    "A_B = pd.concat([A,B], axis=1)\n",
    "A_B.columns = [\"A\",\"B\"]\n",
    "A_B.head()"
   ]
  },
  {
   "cell_type": "markdown",
   "metadata": {},
   "source": [
    "* VERİ TİPİ 2"
   ]
  },
  {
   "cell_type": "code",
   "execution_count": 1450,
   "metadata": {},
   "outputs": [
    {
     "name": "stdout",
     "output_type": "stream",
     "text": [
      "   gelir GRUP\n",
      "0     30    A\n",
      "1     27    A\n",
      "2     21    A\n",
      "3     27    A\n",
      "4     29    A\n",
      "    gelir GRUP\n",
      "25     33    B\n",
      "26     26    B\n",
      "27     32    B\n",
      "28     33    B\n",
      "29     29    B\n"
     ]
    },
    {
     "name": "stderr",
     "output_type": "stream",
     "text": [
      "C:\\Users\\Giray\\AppData\\Local\\Temp\\ipykernel_364\\2853348803.py:9: FutureWarning: Setting an item of incompatible dtype is deprecated and will raise in a future error of pandas. Value 'A' has dtype incompatible with int64, please explicitly cast to a compatible dtype first.\n",
      "  Group_A[:] = \"A\"\n",
      "C:\\Users\\Giray\\AppData\\Local\\Temp\\ipykernel_364\\2853348803.py:15: FutureWarning: Setting an item of incompatible dtype is deprecated and will raise in a future error of pandas. Value 'B' has dtype incompatible with int64, please explicitly cast to a compatible dtype first.\n",
      "  Group_B[:] = \"B\"\n"
     ]
    }
   ],
   "source": [
    "A = pd.DataFrame([30,27,21,27,29,30,20,20,27,32,35,22,24,23,25,27,23,27,23,\n",
    "                  25,21,18,24,26,33,26,27,28,19,25])\n",
    "B = pd.DataFrame([37,39,31,31,34,38,30,36,29,28,38,28,37,37,30,32,31,31,27,\n",
    "                  32,33,33,33,31,32,33,26,32,33,29])\n",
    "\n",
    "# A ve A'nın grubu\n",
    "Group_A = np.arange(len(A))\n",
    "Group_A = pd.DataFrame(Group_A)\n",
    "Group_A[:] = \"A\"\n",
    "A = pd.concat([A,Group_A], axis=1)\n",
    "\n",
    "# B ve B'nin grubu\n",
    "Group_B = np.arange(len(B))\n",
    "Group_B = pd.DataFrame(Group_B)\n",
    "Group_B[:] = \"B\"\n",
    "B = pd.concat([B,Group_B], axis=1)\n",
    "\n",
    "#Tüm Veri\n",
    "AB = pd.concat([A,B])\n",
    "AB.columns=[\"gelir\",\"GRUP\"]\n",
    "print(AB.head())\n",
    "print(AB.tail())"
   ]
  },
  {
   "cell_type": "code",
   "execution_count": 1451,
   "metadata": {},
   "outputs": [
    {
     "data": {
      "image/png": "[encoded data removed]",
      "text/plain": [
       "<Figure size 640x480 with 1 Axes>"
      ]
     },
     "metadata": {},
     "output_type": "display_data"
    }
   ],
   "source": [
    "sns.boxplot(x=\"GRUP\",y=\"gelir\", data=AB);"
   ]
  },
  {
   "cell_type": "markdown",
   "metadata": {},
   "source": [
    "B grubu daha fazla görünüyor ama şans eseri olup olmadığını görmek için varsayım kontrolü gerçekleştirmemiz lazım."
   ]
  },
  {
   "cell_type": "markdown",
   "metadata": {},
   "source": [
    "* Bağımsız İki Örneklem T Testi Varsayım Kontrolü"
   ]
  },
  {
   "cell_type": "markdown",
   "metadata": {},
   "source": [
    "* 1-) normallik varsayımı"
   ]
  },
  {
   "cell_type": "code",
   "execution_count": 1452,
   "metadata": {},
   "outputs": [],
   "source": [
    "from scipy.stats import shapiro"
   ]
  },
  {
   "cell_type": "code",
   "execution_count": 1453,
   "metadata": {},
   "outputs": [
    {
     "data": {
      "text/plain": [
       "ShapiroResult(statistic=np.float64(0.97892437099949), pvalue=np.float64(0.7962848069993307))"
      ]
     },
     "execution_count": 1453,
     "metadata": {},
     "output_type": "execute_result"
    }
   ],
   "source": [
    "shapiro(A_B.A)"
   ]
  },
  {
   "cell_type": "code",
   "execution_count": 1454,
   "metadata": {},
   "outputs": [
    {
     "name": "stdout",
     "output_type": "stream",
     "text": [
      "test istatistiği: 0.97892437099949\n",
      "p value: 0.7962848069993307\n"
     ]
    }
   ],
   "source": [
    "print(\"test istatistiği: \" + str(shapiro(A_B.A)[0]))\n",
    "print(\"p value: \"          + str(shapiro(A_B.A)[1]))\n",
    "\n",
    "#p value >0.05 oldu A değişkeni için H0 reddedilemez bir varsayımı."
   ]
  },
  {
   "cell_type": "code",
   "execution_count": 1455,
   "metadata": {},
   "outputs": [
    {
     "data": {
      "text/plain": [
       "ShapiroResult(statistic=np.float64(0.9561261367393356), pvalue=np.float64(0.2458439374473953))"
      ]
     },
     "execution_count": 1455,
     "metadata": {},
     "output_type": "execute_result"
    }
   ],
   "source": [
    "shapiro(A_B.B)"
   ]
  },
  {
   "cell_type": "code",
   "execution_count": 1456,
   "metadata": {},
   "outputs": [
    {
     "name": "stdout",
     "output_type": "stream",
     "text": [
      "test istatistiği: 0.9561261367393356\n",
      "p value: 0.2458439374473953\n"
     ]
    }
   ],
   "source": [
    "print(\"test istatistiği: \" + str(shapiro(A_B.B)[0]))\n",
    "print(\"p value: \"          + str(shapiro(A_B.B)[1]))\n",
    "\n",
    "#p value >0.05 oldu B değişkeni için H0 reddedilemez bir varsayımı."
   ]
  },
  {
   "cell_type": "markdown",
   "metadata": {},
   "source": [
    "* 2-) varyans homojenliği varsayımı"
   ]
  },
  {
   "cell_type": "markdown",
   "metadata": {},
   "source": [
    "* H0: varyanslar homojendir.\n",
    "* H1: varyanslar homojen değildir."
   ]
  },
  {
   "cell_type": "code",
   "execution_count": 1457,
   "metadata": {},
   "outputs": [
    {
     "data": {
      "text/plain": [
       "LeveneResult(statistic=np.float64(1.1101802757158004), pvalue=np.float64(0.2964124900636569))"
      ]
     },
     "execution_count": 1457,
     "metadata": {},
     "output_type": "execute_result"
    }
   ],
   "source": [
    "stats.levene(A_B.A, A_B.B)"
   ]
  },
  {
   "cell_type": "code",
   "execution_count": 1458,
   "metadata": {},
   "outputs": [
    {
     "name": "stdout",
     "output_type": "stream",
     "text": [
      "test istatistiği: 1.1101802757158004\n",
      "p value: 0.2964124900636569\n"
     ]
    }
   ],
   "source": [
    "print(\"test istatistiği: \" + str(stats.levene(A_B.A, A_B.B)[0]))\n",
    "print(\"p value: \"          + str(stats.levene(A_B.A, A_B.B)[1]))\n",
    "\n",
    "# p value>0.05 H0 reddedilemez yani varyanslar homojendir."
   ]
  },
  {
   "cell_type": "markdown",
   "metadata": {},
   "source": [
    "* Hipotez Testi"
   ]
  },
  {
   "cell_type": "markdown",
   "metadata": {},
   "source": [
    "* yukarıda oluşturduğumuz hipotez:\n",
    "\n",
    "- H0: u1 = u2 # gelirlerin ortalamaları eşittir\n",
    "- H1: u1 != u2 # gelirlerin ortalamaları eşit değildir."
   ]
  },
  {
   "cell_type": "code",
   "execution_count": 1459,
   "metadata": {},
   "outputs": [
    {
     "data": {
      "text/plain": [
       "TtestResult(statistic=np.float64(-7.028690967745927), pvalue=np.float64(2.6233215605475075e-09), df=np.float64(58.0))"
      ]
     },
     "execution_count": 1459,
     "metadata": {},
     "output_type": "execute_result"
    }
   ],
   "source": [
    "stats.ttest_ind(A_B[\"A\"], A_B[\"B\"], equal_var=True)"
   ]
  },
  {
   "cell_type": "code",
   "execution_count": 1460,
   "metadata": {},
   "outputs": [
    {
     "name": "stdout",
     "output_type": "stream",
     "text": [
      "test istatistiği: -7.028690967745927\n",
      "p value: 2.6233215605475075e-09\n"
     ]
    }
   ],
   "source": [
    "print(\"test istatistiği: \" + str(stats.ttest_ind(A_B[\"A\"], A_B[\"B\"], equal_var=True)[0]))\n",
    "print(\"p value: \"          + str(stats.ttest_ind(A_B[\"A\"], A_B[\"B\"], equal_var=True)[1]))"
   ]
  },
  {
   "cell_type": "code",
   "execution_count": 1461,
   "metadata": {},
   "outputs": [
    {
     "name": "stdout",
     "output_type": "stream",
     "text": [
      "test istatistiği: -7.028690968 \n",
      "p value: 0.000000003\n"
     ]
    }
   ],
   "source": [
    "test_istatistigi, pvalue = stats.ttest_ind(A_B[\"A\"], A_B[\"B\"], equal_var=True)\n",
    "print(\"test istatistiği: %.9f \\np value: %.9f\" % (test_istatistigi,pvalue))"
   ]
  },
  {
   "cell_type": "code",
   "execution_count": 1462,
   "metadata": {},
   "outputs": [
    {
     "name": "stdout",
     "output_type": "stream",
     "text": [
      "test istatistiği: -7.028690967745927\n",
      "p value: 2.6233215605475075e-09\n",
      "serbestlik derecesi(df): 58.0\n"
     ]
    }
   ],
   "source": [
    "result = stats.ttest_ind(A_B[\"A\"], A_B[\"B\"], equal_var=True)\n",
    "print(\"test istatistiği: \" + str(result.statistic))\n",
    "print(\"p value: \" + str(result.pvalue))\n",
    "print(\"serbestlik derecesi(df): \" + str(result.df))\n",
    "# p value 2.6233215605475075e-09 = 2.6233215605475075e*10^-9\n",
    "# p value < 0.05, hipotez reddedilir."
   ]
  },
  {
   "cell_type": "markdown",
   "metadata": {},
   "source": [
    "p-değeri: Bu değer, iki grup arasında anlamlı bir fark olup olmadığını belirler. Eğer p-değeri 0.05'ten küçükse, H0 reddedilir ve grupların ortalamaları arasında anlamlı bir fark vardır. Burada p-değeri oldukça küçük (2.6233e-09), bu da gruplar arasında anlamlı bir fark olduğunu gösterir.\n",
    "\n",
    "\n",
    "Yorum:\n",
    "p-değeri 0.05'ten çok daha küçük olduğu için, H0 reddedilir ve iki grup arasında istatistiksel olarak anlamlı bir fark olduğu sonucuna varılır.\n",
    "\n",
    "Ve bu fark yeni sistemin lehinedir. Çünkü yeni sistemin ortalaması daha yüksektir."
   ]
  },
  {
   "cell_type": "markdown",
   "metadata": {},
   "source": [
    "# Nonparametrik Bağımsız İki Örneklem T Testi "
   ]
  },
  {
   "cell_type": "markdown",
   "metadata": {},
   "source": [
    "* diyelimki hem normallik hem de varyans homojenliği varsayımları reddedildi."
   ]
  },
  {
   "cell_type": "code",
   "execution_count": 1463,
   "metadata": {},
   "outputs": [
    {
     "data": {
      "text/plain": [
       "MannwhitneyuResult(statistic=np.float64(89.5), pvalue=np.float64(9.557950378612535e-08))"
      ]
     },
     "execution_count": 1463,
     "metadata": {},
     "output_type": "execute_result"
    }
   ],
   "source": [
    "stats.mannwhitneyu(A_B[\"A\"], A_B[\"B\"])"
   ]
  },
  {
   "cell_type": "code",
   "execution_count": 1464,
   "metadata": {},
   "outputs": [
    {
     "name": "stdout",
     "output_type": "stream",
     "text": [
      "test istatistiği: 89.5\n",
      "p value: 9.557950378612535e-08\n"
     ]
    }
   ],
   "source": [
    "print(\"test istatistiği: \" + str(stats.mannwhitneyu(A_B[\"A\"], A_B[\"B\"])[0]))\n",
    "print(\"p value: \"          + str(stats.mannwhitneyu(A_B[\"A\"], A_B[\"B\"])[1]))"
   ]
  },
  {
   "cell_type": "code",
   "execution_count": 1465,
   "metadata": {},
   "outputs": [
    {
     "name": "stdout",
     "output_type": "stream",
     "text": [
      "test istatistiği: 89.5000000 \n",
      "p value: 0.0000001\n"
     ]
    }
   ],
   "source": [
    "test_istatistigi, pvalue = stats.mannwhitneyu(A_B[\"A\"], A_B[\"B\"])\n",
    "print(\"test istatistiği: %.7f \\np value: %.7f\" % (test_istatistigi,pvalue))\n",
    "\n",
    "# p value > 0.05 reddedilir. Yani anlamlı bir farklılık vardır. \n",
    "# Ve ortalaması 2. sistemin daha yüksek olduğu için bu farklılık \n",
    "# 2. sistemin lehinedir."
   ]
  },
  {
   "cell_type": "markdown",
   "metadata": {},
   "source": [
    "# Bağımlı İki Örneklem T Testi Teorisi\n"
   ]
  },
  {
   "cell_type": "markdown",
   "metadata": {},
   "source": [
    "Soru: \n",
    "* Bir şirket çalışanların performansını arttırmak için eğitim seti siparişi yapıyor. \n",
    "* Bunlara göre önce ve sonra olarak gerekli puanlamaları yapılıyor. \n",
    "* Bu eğitimin katma değer sağlayıp sağlamadığı ölçülmek isteniyor.\n"
   ]
  },
  {
   "cell_type": "markdown",
   "metadata": {},
   "source": [
    "Hipotezimiz:\n",
    "\n",
    "* H0: uö  = us\n",
    "* H1: uö != us\n",
    "\n",
    "anlamlı bir farklılık vardır.\n",
    "\n",
    "anlamlı bir farklılık yoktur."
   ]
  },
  {
   "cell_type": "code",
   "execution_count": 1466,
   "metadata": {},
   "outputs": [],
   "source": [
    "\n",
    "oncesi = pd.DataFrame([123, 119, 119, 116, 123, 123, 121, 120, 117, 118, 121, 121, 123, 119, 121,118, 124, 121, 125, 115, 115, 119, 118, 121, 117, 117, 120, 120,\n",
    "121,117, 118, 117, 123, 118, 124, 121, 115, 118, 125, 115])\n",
    "\n",
    "sonrasi = pd.DataFrame([118, 127, 122, 132, 129, 123, 129, 132, 128, 130, 128, 138, 140, 130, 134, 134, 124, 140, 134, 129, 129, 138, 134, 124, 122, 126, 133, 127,\n",
    "130, 130, 130, 132, 117, 130, 125, 129, 133, 120, 127, 123])"
   ]
  },
  {
   "cell_type": "code",
   "execution_count": 1467,
   "metadata": {},
   "outputs": [
    {
     "name": "stdout",
     "output_type": "stream",
     "text": [
      "     0\n",
      "0  123\n",
      "1  119\n",
      "2  119\n",
      "3  116\n",
      "4  123\n",
      "      0\n",
      "35  121\n",
      "36  115\n",
      "37  118\n",
      "38  125\n",
      "39  115\n"
     ]
    }
   ],
   "source": [
    "print(oncesi.head())\n",
    "print(oncesi.tail())"
   ]
  },
  {
   "cell_type": "code",
   "execution_count": 1468,
   "metadata": {},
   "outputs": [
    {
     "name": "stdout",
     "output_type": "stream",
     "text": [
      "     0\n",
      "0  118\n",
      "1  127\n",
      "2  122\n",
      "3  132\n",
      "4  129\n",
      "      0\n",
      "35  129\n",
      "36  133\n",
      "37  120\n",
      "38  127\n",
      "39  123\n"
     ]
    }
   ],
   "source": [
    "print(sonrasi.head())\n",
    "print(sonrasi.tail())"
   ]
  },
  {
   "cell_type": "code",
   "execution_count": 1469,
   "metadata": {},
   "outputs": [
    {
     "name": "stdout",
     "output_type": "stream",
     "text": [
      "Oncesi  ortalama: 0    119.65\n",
      "dtype: float64\n",
      "Sonrasi ortalama: 0    129.0\n",
      "dtype: float64\n"
     ]
    }
   ],
   "source": [
    "print(\"Oncesi  ortalama: \"+str(oncesi.mean()))\n",
    "print(\"Sonrasi ortalama: \"+str(sonrasi.mean()))"
   ]
  },
  {
   "cell_type": "code",
   "execution_count": 1470,
   "metadata": {},
   "outputs": [
    {
     "name": "stdout",
     "output_type": "stream",
     "text": [
      "'AYRIK' Veri Seti: \n",
      "\n",
      "    ONCESI  SONRASI\n",
      "0     123      118\n",
      "1     119      127\n",
      "2     119      122\n",
      "3     116      132\n",
      "4     123      129 \n",
      "     ONCESI  SONRASI\n",
      "35     121      129\n",
      "36     115      133\n",
      "37     118      120\n",
      "38     125      127\n",
      "39     115      123 \n",
      "\n",
      "\n",
      "'BIRLIKTE' Veri Seti: \n",
      "\n",
      "    PERFORMANS ONCESI_SONRASI\n",
      "0         123         ONCESI\n",
      "1         119         ONCESI\n",
      "2         119         ONCESI\n",
      "3         116         ONCESI\n",
      "4         123         ONCESI \n",
      "     PERFORMANS ONCESI_SONRASI\n",
      "35         129        SONRASI\n",
      "36         133        SONRASI\n",
      "37         120        SONRASI\n",
      "38         127        SONRASI\n",
      "39         123        SONRASI \n",
      "\n"
     ]
    },
    {
     "name": "stderr",
     "output_type": "stream",
     "text": [
      "C:\\Users\\Giray\\AppData\\Local\\Temp\\ipykernel_364\\1957978046.py:11: FutureWarning: Setting an item of incompatible dtype is deprecated and will raise in a future error of pandas. Value 'ONCESI' has dtype incompatible with int64, please explicitly cast to a compatible dtype first.\n",
      "  GRUP_ONCESI[:] = \"ONCESI\"\n",
      "C:\\Users\\Giray\\AppData\\Local\\Temp\\ipykernel_364\\1957978046.py:17: FutureWarning: Setting an item of incompatible dtype is deprecated and will raise in a future error of pandas. Value 'SONRASI' has dtype incompatible with int64, please explicitly cast to a compatible dtype first.\n",
      "  GRUP_SONRASI[:] = \"SONRASI\"\n"
     ]
    }
   ],
   "source": [
    "#BIRINCI VERI SETI\n",
    "AYRIK = pd.concat([oncesi,sonrasi], axis=1)\n",
    "AYRIK.columns = [\"ONCESI\",\"SONRASI\"]\n",
    "print(\"'AYRIK' Veri Seti: \\n\\n\",AYRIK.head(),\"\\n\",AYRIK.tail(),\"\\n\\n\")\n",
    "\n",
    "\n",
    "#IKINCI VERI SETI\n",
    "#ONCESI FLAG/TAG'INI OLUSTURMA\n",
    "GRUP_ONCESI    = np.arange(len(oncesi))\n",
    "GRUP_ONCESI    = pd.DataFrame(GRUP_ONCESI)\n",
    "GRUP_ONCESI[:] = \"ONCESI\"\n",
    "#FLAG VE ONCESI DEGERLERINI BIR ARAYA GETIRME\n",
    "A = pd.concat([oncesi,GRUP_ONCESI], axis=1)\n",
    "#SONRASI FLAG/TAG'INI OLUSTURMA\n",
    "GRUP_SONRASI    = np.arange(len(sonrasi))\n",
    "GRUP_SONRASI    = pd.DataFrame(GRUP_SONRASI)\n",
    "GRUP_SONRASI[:] = \"SONRASI\"\n",
    "#FLAG VE SONRASI DEGERLERINI BIR ARAYA GETIRME\n",
    "B = pd.concat([sonrasi,GRUP_SONRASI], axis=1)\n",
    "#TUM VERIYI BIR ARAYA GETIRME\n",
    "BIRLIKTE = pd.concat([A,B])\n",
    "#ISIMLENDIRME\n",
    "BIRLIKTE.columns = [\"PERFORMANS\",\"ONCESI_SONRASI\"]\n",
    "print(\"'BIRLIKTE' Veri Seti: \\n\\n\", BIRLIKTE.head(),\"\\n\",BIRLIKTE.tail(),\"\\n\")"
   ]
  },
  {
   "cell_type": "code",
   "execution_count": 1471,
   "metadata": {},
   "outputs": [
    {
     "data": {
      "image/png": "[encoded data removed]",
      "text/plain": [
       "<Figure size 640x480 with 1 Axes>"
      ]
     },
     "metadata": {},
     "output_type": "display_data"
    }
   ],
   "source": [
    "sns.boxplot(x=\"ONCESI_SONRASI\", y=\"PERFORMANS\", data=BIRLIKTE);"
   ]
  },
  {
   "cell_type": "markdown",
   "metadata": {},
   "source": [
    "* Bağımlı İki Örneklem T Testi Varsayım Kontrolü"
   ]
  },
  {
   "cell_type": "markdown",
   "metadata": {},
   "source": [
    "* 1-) normallik varsayımı\n",
    "\n",
    "- H0: Örnek dağılımı ile teorik normal dağılım arasında istatistiki olarak anlamlı bir farklılık yoktur.\n",
    "- H1: Örnek dağılımı ile teorik normal dağılım arasında istatistiki olarak anlamlı bir farklılık vardır."
   ]
  },
  {
   "cell_type": "code",
   "execution_count": 1472,
   "metadata": {},
   "outputs": [],
   "source": [
    "from scipy.stats import shapiro"
   ]
  },
  {
   "cell_type": "code",
   "execution_count": 1473,
   "metadata": {},
   "outputs": [
    {
     "data": {
      "text/plain": [
       "ShapiroResult(statistic=np.float64(0.9543651286601341), pvalue=np.float64(0.10722012473424775))"
      ]
     },
     "execution_count": 1473,
     "metadata": {},
     "output_type": "execute_result"
    }
   ],
   "source": [
    "shapiro(AYRIK.ONCESI)"
   ]
  },
  {
   "cell_type": "code",
   "execution_count": 1474,
   "metadata": {},
   "outputs": [
    {
     "name": "stdout",
     "output_type": "stream",
     "text": [
      "test istatistiği: 0.9543651286601341\n",
      "p value: 0.10722012473424775\n"
     ]
    }
   ],
   "source": [
    "print(\"test istatistiği: \" + str(shapiro(AYRIK.ONCESI)[0]))\n",
    "print(\"p value: \"          + str(shapiro(AYRIK.ONCESI)[1]))\n",
    "\n",
    "#p value >0.05 oldu A değişkeni için H0 reddedilemez bir varsayımı."
   ]
  },
  {
   "cell_type": "code",
   "execution_count": 1475,
   "metadata": {},
   "outputs": [
    {
     "data": {
      "text/plain": [
       "ShapiroResult(statistic=np.float64(0.9780089132335147), pvalue=np.float64(0.6159508885102487))"
      ]
     },
     "execution_count": 1475,
     "metadata": {},
     "output_type": "execute_result"
    }
   ],
   "source": [
    "shapiro(AYRIK.SONRASI)"
   ]
  },
  {
   "cell_type": "code",
   "execution_count": 1476,
   "metadata": {},
   "outputs": [
    {
     "name": "stdout",
     "output_type": "stream",
     "text": [
      "test istatistiği: 0.9780089132335147\n",
      "p value: 0.6159508885102487\n"
     ]
    }
   ],
   "source": [
    "print(\"test istatistiği: \" + str(shapiro(AYRIK.SONRASI)[0]))\n",
    "print(\"p value: \"          + str(shapiro(AYRIK.SONRASI)[1]))\n",
    "\n",
    "#p value >0.05 oldu A değişkeni için H0 reddedilemez bir varsayımı."
   ]
  },
  {
   "cell_type": "markdown",
   "metadata": {},
   "source": [
    "* 2-) varyans homojenliği varsayımı\n",
    "- H0: varyanslar homojendir.\n",
    "- H1: varyanslar homojen değildir."
   ]
  },
  {
   "cell_type": "code",
   "execution_count": 1477,
   "metadata": {},
   "outputs": [
    {
     "data": {
      "text/plain": [
       "LeveneResult(statistic=np.float64(8.31303288672351), pvalue=np.float64(0.005084451180737039))"
      ]
     },
     "execution_count": 1477,
     "metadata": {},
     "output_type": "execute_result"
    }
   ],
   "source": [
    "stats.levene(AYRIK.ONCESI, AYRIK.SONRASI)"
   ]
  },
  {
   "cell_type": "code",
   "execution_count": 1478,
   "metadata": {},
   "outputs": [
    {
     "name": "stdout",
     "output_type": "stream",
     "text": [
      "test istatistiği: 8.31303288672351\n",
      "p value: 0.005084451180737039\n"
     ]
    }
   ],
   "source": [
    "print(\"test istatistiği: \" + str(stats.levene(AYRIK.ONCESI, AYRIK.SONRASI)[0]))\n",
    "print(\"p value: \"          + str(stats.levene(AYRIK.ONCESI, AYRIK.SONRASI)[1]))\n",
    "\n",
    "# p value<0.05 H0 reddedildi.\n",
    "\n",
    "#Bu durumda yapılabilecek seçenekler:\n",
    "#1.)Veri setinde aykırılıklar varsa \n",
    "#   bunlar düzenlenerek bu varsayım tekrar incelenebilir.\n",
    "#2.)Bağımlı İki Örneklem T Testi Varyans homojenliği incelendiğinde\n",
    "#   bu varsayımın sağlanmaması durumunda, bir miktar göz ardı edilebilir.\n",
    "#   \n",
    "# \n",
    "# \n",
    "# \n",
    "# Göz Ardı ederek sanki sağlanmış gibi teste devam edelim.-->"
   ]
  },
  {
   "cell_type": "markdown",
   "metadata": {},
   "source": [
    "* Hipotez Testi\n",
    "\n",
    "* yukarıda oluşturduğumuz hipotez:\n",
    "\n",
    "- H0: u1 = u2 # gelirlerin ortalamaları eşittir\n",
    "- H1: u1 != u2 # gelirlerin ortalamaları eşit değildir."
   ]
  },
  {
   "cell_type": "code",
   "execution_count": 1479,
   "metadata": {},
   "outputs": [
    {
     "data": {
      "text/plain": [
       "TtestResult(statistic=np.float64(-9.281533480429937), pvalue=np.float64(2.0235251764440722e-11), df=np.int64(39))"
      ]
     },
     "execution_count": 1479,
     "metadata": {},
     "output_type": "execute_result"
    }
   ],
   "source": [
    "stats.ttest_rel(AYRIK.ONCESI, AYRIK.SONRASI)"
   ]
  },
  {
   "cell_type": "code",
   "execution_count": 1480,
   "metadata": {},
   "outputs": [
    {
     "name": "stdout",
     "output_type": "stream",
     "text": [
      "test istatistiği: -9.281533480429937\n",
      "p value: 2.0235251764440722e-11\n"
     ]
    }
   ],
   "source": [
    "print(\"test istatistiği: \" + str(stats.ttest_rel(AYRIK.ONCESI, AYRIK.SONRASI)[0]))\n",
    "print(\"p value: \"          + str(stats.ttest_rel(AYRIK.ONCESI, AYRIK.SONRASI)[1]))"
   ]
  },
  {
   "cell_type": "code",
   "execution_count": 1481,
   "metadata": {},
   "outputs": [
    {
     "name": "stdout",
     "output_type": "stream",
     "text": [
      "test istatistiği: -9.281533480 \n",
      "p value: 0.00000000002\n"
     ]
    }
   ],
   "source": [
    "test_istatistigi, pvalue = stats.ttest_rel(AYRIK.ONCESI, AYRIK.SONRASI)\n",
    "print(\"test istatistiği: %.9f \\np value: %.11f\" % (test_istatistigi,pvalue))"
   ]
  },
  {
   "cell_type": "code",
   "execution_count": 1482,
   "metadata": {},
   "outputs": [
    {
     "name": "stdout",
     "output_type": "stream",
     "text": [
      "test istatistiği: -9.281533480429937\n",
      "p value: 2.0235251764440722e-11\n",
      "serbestlik derecesi(df): 39\n"
     ]
    }
   ],
   "source": [
    "result = stats.ttest_rel(AYRIK.ONCESI, AYRIK.SONRASI)\n",
    "print(\"test istatistiği: \" + str(result.statistic))\n",
    "print(\"p value: \" + str(result.pvalue))\n",
    "print(\"serbestlik derecesi(df): \" + str(result.df))\n",
    "# p value 2.0235251764440722e-11 = 2.0235251764440722*10^-11\n",
    "# p value < 0.05, hipotez reddedilir."
   ]
  },
  {
   "cell_type": "markdown",
   "metadata": {},
   "source": [
    "YANİ::::  H1: Örnek dağılımı ile teorik normal dağılım arasında istatistiki olarak anlamlı bir farklılık vardır."
   ]
  },
  {
   "cell_type": "markdown",
   "metadata": {},
   "source": [
    "# Nonparametrik Bağımsız İki Örneklem T Testi \n",
    "\n",
    "* diyelimki hem normallik hem de varyans homojenliği varsayımları reddedildi.\n",
    "\n",
    "Hipotezimiz:\n",
    "\n",
    "* H0: uö  = us\n",
    "* H1: uö != us\n",
    "\n",
    "anlamlı bir farklılık vardır.\n",
    "\n",
    "anlamlı bir farklılık yoktur."
   ]
  },
  {
   "cell_type": "code",
   "execution_count": 1483,
   "metadata": {},
   "outputs": [
    {
     "data": {
      "text/plain": [
       "WilcoxonResult(statistic=np.float64(15.0), pvalue=np.float64(2.491492033374464e-07))"
      ]
     },
     "execution_count": 1483,
     "metadata": {},
     "output_type": "execute_result"
    }
   ],
   "source": [
    "stats.wilcoxon(AYRIK.ONCESI, AYRIK.SONRASI)"
   ]
  },
  {
   "cell_type": "code",
   "execution_count": 1484,
   "metadata": {},
   "outputs": [
    {
     "name": "stdout",
     "output_type": "stream",
     "text": [
      "test istatistiği: 15.0\n",
      "p value: 2.491492033374464e-07\n"
     ]
    }
   ],
   "source": [
    "print(\"test istatistiği: \" + str(stats.wilcoxon(AYRIK.ONCESI, AYRIK.SONRASI)[0]))\n",
    "print(\"p value: \"          + str(stats.wilcoxon(AYRIK.ONCESI, AYRIK.SONRASI)[1]))"
   ]
  },
  {
   "cell_type": "code",
   "execution_count": 1485,
   "metadata": {},
   "outputs": [
    {
     "name": "stdout",
     "output_type": "stream",
     "text": [
      "test istatistiği: 15.0000000 \n",
      "p value: 0.0000002\n"
     ]
    }
   ],
   "source": [
    "test_istatistigi, pvalue = stats.wilcoxon(AYRIK.ONCESI, AYRIK.SONRASI)\n",
    "print(\"test istatistiği: %.7f \\np value: %.7f\" % (test_istatistigi,pvalue))\n",
    "\n",
    "# p value < 0.05 reddedilir. H0 reddedildi. Yani anlamlı bir farklılık vardır. \n",
    "# Ve ortalaması 2. sistemin daha yüksek olduğu için bu farklılık \n",
    "# 2. sistemin lehinedir."
   ]
  },
  {
   "cell_type": "markdown",
   "metadata": {},
   "source": [
    "# İki Örneklem Oran Testi Teorisi\n"
   ]
  },
  {
   "cell_type": "markdown",
   "metadata": {},
   "source": [
    "Soru: AB testi (Kullanıcı arayüzü deneyi)\n",
    "- sitedeki learn more butonuna basilma oranları veriliyor.\n",
    "- yeşil renkli buton dizaynı 1000 görüntülenme 300 tıklama\n",
    "- kırmızı renkli buton dizaynı 1100 görüntülenme 250 tıklama\n",
    "\n",
    "\n",
    "Hipotez\n",
    "- H0: p1  = p2\n",
    "- H1: p1 != p2\n",
    "\n",
    "- H0: İki buton dizaynının tıklanma oranları arasında anlamlı bir fark yoktur (p1 = p2).\n",
    "- H1: İki buton dizaynının tıklanma oranları arasında anlamlı bir fark vardır (p1 ≠ p2)."
   ]
  },
  {
   "cell_type": "markdown",
   "metadata": {},
   "source": [
    "Yeşil buton dizaynı: 1000 görüntülenme, 300 tıklama (tıklanma oranı: 300/1000 = 0.3)\n",
    "\n",
    "Kırmızı buton dizaynı: 1100 görüntülenme, 250 tıklama (tıklanma oranı: 250/1100 ≈ 0.227)"
   ]
  },
  {
   "cell_type": "markdown",
   "metadata": {},
   "source": [
    "varsayımlar:\n",
    "n1>30\n",
    "n2>30"
   ]
  },
  {
   "cell_type": "code",
   "execution_count": 1486,
   "metadata": {},
   "outputs": [],
   "source": [
    "from statsmodels.stats.proportion import proportions_ztest"
   ]
  },
  {
   "cell_type": "code",
   "execution_count": 1487,
   "metadata": {},
   "outputs": [],
   "source": [
    "basari_sayisi   = np.array([300,250])\n",
    "gozlem_sayilari = np.array([1000,1100])"
   ]
  },
  {
   "cell_type": "code",
   "execution_count": 1488,
   "metadata": {},
   "outputs": [
    {
     "data": {
      "text/plain": [
       "(np.float64(3.7857863233209255), np.float64(0.0001532232957772221))"
      ]
     },
     "execution_count": 1488,
     "metadata": {},
     "output_type": "execute_result"
    }
   ],
   "source": [
    "proportions_ztest(count=basari_sayisi, nobs=gozlem_sayilari)"
   ]
  },
  {
   "cell_type": "code",
   "execution_count": 1489,
   "metadata": {},
   "outputs": [
    {
     "name": "stdout",
     "output_type": "stream",
     "text": [
      "test istatistiği: 3.7857863233209255\n",
      "p value: 0.0001532232957772221\n"
     ]
    }
   ],
   "source": [
    "print(\"test istatistiği: \" + str(proportions_ztest(count=basari_sayisi, nobs=gozlem_sayilari)[0]))\n",
    "print(\"p value: \"          + str(proportions_ztest(count=basari_sayisi, nobs=gozlem_sayilari)[1]))\n",
    "\n",
    "# p value <0.05, olduğu için H0 reddedilir. Yani, yeşil ve kırmızı buton \n",
    "# dizaynlarının tıklanma oranları arasında istatistiksel olarak anlamlı \n",
    "# bir fark vardır. Yeşil butonun tıklanma oranı kırmızıya göre daha \n",
    "# yüksek olduğundan, yeşil butonun kullanılması daha etkili olabilir.\n",
    "\n",
    "\n",
    "# Bu sonuç, iki farklı dizayn arasında anlamlı bir fark olduğunu \n",
    "# ve bu farkın rastgele oluşmadığını gösterir. Bu tür testler, \n",
    "# AB testlerinde hangi versiyonun daha etkili olduğunu belirlemek \n",
    "# için kullanılır."
   ]
  },
  {
   "cell_type": "markdown",
   "metadata": {},
   "source": [
    "# VARYANS ANALİZİ"
   ]
  },
  {
   "cell_type": "markdown",
   "metadata": {},
   "source": [
    "-------\n",
    "\n",
    "SORU: Anasayfa İçerik Stratejisi Belirleme\n",
    "\n",
    "- Ana sayfada insanlar tutulmak isteniyor. (Reklamları ürünleri vb. görmeleri gibi fayfalar için)\n",
    "- Uzun zaman geçirenlerin reklamlara daha fazla tıklandığı ve markaya olan bağlılıklarının arttığı biliniyor.\n",
    "- Buna yönelik benzer haberler farklı resimler ya da farklı formatlarda hazırlanarak oluşturulan test grupları gösteriliyor.\n",
    "\n",
    "---------\n",
    "\n",
    "- A: Doğal şekilde               haber.\n",
    "- B: Yönlendiricili(manipulatif) haber.\n",
    "- C: İlgi çekici                 haber.\n",
    "\n",
    "---------\n",
    "\n",
    "* H0:   u1=u2=u3\n",
    "* H1: !(u1=u2=u3)\n",
    "\n",
    "---------"
   ]
  },
  {
   "cell_type": "code",
   "execution_count": 1490,
   "metadata": {},
   "outputs": [
    {
     "name": "stdout",
     "output_type": "stream",
     "text": [
      "   GRUP_A  GRUP_B  GRUP_C\n",
      "0      28      31      40\n",
      "1      33      32      33\n",
      "2      30      30      38\n",
      "3      29      30      41\n",
      "4      28      33      42\n",
      "    GRUP_A  GRUP_B  GRUP_C\n",
      "19      34      35      35\n",
      "20      30      33      38\n",
      "21      32      30      35\n",
      "22      31      28      40\n",
      "23      34      29      40\n"
     ]
    }
   ],
   "source": [
    "A = pd.DataFrame([28,33,30,29,28,29,27,31,30,32,28,33,25,29,27,31,31,30,31,34,30,32,31,34])\n",
    "\n",
    "B = pd.DataFrame([31,32,30,30,33,32,34,27,36,30,31,30,38,29,30,34,34,31,35,35,33,30,28,29])\n",
    "\n",
    "C = pd.DataFrame([40,33,38,41,42,43,38,35,39,39,36,34,35,40,38,36,39,36,33,35,38,35,40,40])\n",
    "\n",
    "dfs = [A,B,C]\n",
    "ABC = pd.concat(dfs, axis=1)\n",
    "ABC.columns = [\"GRUP_A\",\"GRUP_B\",\"GRUP_C\"]\n",
    "\n",
    "print(ABC.head())\n",
    "print(ABC.tail())"
   ]
  },
  {
   "cell_type": "markdown",
   "metadata": {},
   "source": [
    "* VARYANS ANALİZİ VARSAYIM KONTROLÜ\n",
    "\n",
    "1-) Gruplar birbirinden bağımsız mı?\n",
    "* H0: Gruplar birbirinden bağımsız.\n",
    "* H1: Gruplar birbirinden bağımsız değil.\n",
    "\n",
    "öyle kabul edelim."
   ]
  },
  {
   "cell_type": "markdown",
   "metadata": {},
   "source": [
    "2-) normallik varsayımı\n",
    "\n",
    "- H0: Örnek dağılımı ile teorik normal dağılım arasında istatistiki olarak anlamlı bir farklılık yoktur.\n",
    "- H1: Örnek dağılımı ile teorik normal dağılım arasında istatistiki olarak anlamlı bir farklılık vardır."
   ]
  },
  {
   "cell_type": "code",
   "execution_count": 1491,
   "metadata": {},
   "outputs": [],
   "source": [
    "from scipy.stats import shapiro"
   ]
  },
  {
   "cell_type": "code",
   "execution_count": 1492,
   "metadata": {},
   "outputs": [
    {
     "data": {
      "text/plain": [
       "ShapiroResult(statistic=np.float64(0.9731685798698619), pvalue=np.float64(0.7451175612535248))"
      ]
     },
     "execution_count": 1492,
     "metadata": {},
     "output_type": "execute_result"
    }
   ],
   "source": [
    "shapiro(ABC.GRUP_A)"
   ]
  },
  {
   "cell_type": "code",
   "execution_count": 1493,
   "metadata": {},
   "outputs": [
    {
     "name": "stdout",
     "output_type": "stream",
     "text": [
      "test istatistiği: 0.9731685798698619\n",
      "p value: 0.7451175612535248\n"
     ]
    }
   ],
   "source": [
    "print(\"test istatistiği: \" + str(shapiro(ABC.GRUP_A)[0]))\n",
    "print(\"p value: \"          + str(shapiro(ABC.GRUP_A)[1]))\n",
    "\n",
    "#p value >0.05 oldu GRUP_A değişkeni için H0 reddedilemez bir varsayımı."
   ]
  },
  {
   "cell_type": "code",
   "execution_count": 1494,
   "metadata": {},
   "outputs": [
    {
     "data": {
      "text/plain": [
       "ShapiroResult(statistic=np.float64(0.9626315489652003), pvalue=np.float64(0.4935331305765177))"
      ]
     },
     "execution_count": 1494,
     "metadata": {},
     "output_type": "execute_result"
    }
   ],
   "source": [
    "shapiro(ABC.GRUP_B)"
   ]
  },
  {
   "cell_type": "code",
   "execution_count": 1495,
   "metadata": {},
   "outputs": [
    {
     "name": "stdout",
     "output_type": "stream",
     "text": [
      "test istatistiği: 0.9626315489652003\n",
      "p value: 0.4935331305765177\n"
     ]
    }
   ],
   "source": [
    "print(\"test istatistiği: \" + str(shapiro(ABC.GRUP_B)[0]))\n",
    "print(\"p value: \"          + str(shapiro(ABC.GRUP_B)[1]))\n",
    "\n",
    "#p value >0.05 oldu GRUP_B değişkeni için H0 reddedilemez bir varsayımı."
   ]
  },
  {
   "cell_type": "code",
   "execution_count": 1496,
   "metadata": {},
   "outputs": [
    {
     "data": {
      "text/plain": [
       "ShapiroResult(statistic=np.float64(0.9583167981033451), pvalue=np.float64(0.40554827277797467))"
      ]
     },
     "execution_count": 1496,
     "metadata": {},
     "output_type": "execute_result"
    }
   ],
   "source": [
    "shapiro(ABC.GRUP_C)"
   ]
  },
  {
   "cell_type": "code",
   "execution_count": 1497,
   "metadata": {},
   "outputs": [
    {
     "name": "stdout",
     "output_type": "stream",
     "text": [
      "test istatistiği: 0.9583167981033451\n",
      "p value: 0.40554827277797467\n"
     ]
    }
   ],
   "source": [
    "print(\"test istatistiği: \" + str(shapiro(ABC.GRUP_C)[0]))\n",
    "print(\"p value: \"          + str(shapiro(ABC.GRUP_C)[1]))\n",
    "\n",
    "#p value >0.05 oldu GRUP_C değişkeni için H0 reddedilemez bir varsayımı."
   ]
  },
  {
   "cell_type": "markdown",
   "metadata": {},
   "source": [
    "3-) varyans homojenliği varsayımı\n",
    "- H0: varyanslar homojendir.\n",
    "- H1: varyanslar homojen değildir."
   ]
  },
  {
   "cell_type": "code",
   "execution_count": 1498,
   "metadata": {},
   "outputs": [
    {
     "data": {
      "text/plain": [
       "LeveneResult(statistic=np.float64(0.6585903083700435), pvalue=np.float64(0.5208031835357625))"
      ]
     },
     "execution_count": 1498,
     "metadata": {},
     "output_type": "execute_result"
    }
   ],
   "source": [
    "stats.levene(ABC.GRUP_A,ABC.GRUP_B,ABC.GRUP_C)"
   ]
  },
  {
   "cell_type": "code",
   "execution_count": 1499,
   "metadata": {},
   "outputs": [
    {
     "name": "stdout",
     "output_type": "stream",
     "text": [
      "test istatistiği: 0.6585903083700435\n",
      "p value: 0.5208031835357625\n"
     ]
    }
   ],
   "source": [
    "print(\"test istatistiği: \" + str(stats.levene(ABC.GRUP_A,ABC.GRUP_B,ABC.GRUP_C)[0]))\n",
    "print(\"p value: \"          + str(stats.levene(ABC.GRUP_A,ABC.GRUP_B,ABC.GRUP_C)[1]))\n",
    "\n",
    "# p value>0.05 H0 reddedilemez."
   ]
  },
  {
   "cell_type": "markdown",
   "metadata": {},
   "source": [
    "* Hipotez Testi\n",
    "\n",
    "* yukarıda oluşturduğumuz hipotez:\n",
    "\n",
    "- * H0:   u1=u2=u3  # ortalama geçirilen süre eşittir.\n",
    "- * H1: !(u1=u2=u3) # ortalama geçirilen süre eşit değildir."
   ]
  },
  {
   "cell_type": "code",
   "execution_count": 1500,
   "metadata": {},
   "outputs": [],
   "source": [
    "from scipy.stats import f_oneway"
   ]
  },
  {
   "cell_type": "code",
   "execution_count": 1501,
   "metadata": {},
   "outputs": [
    {
     "data": {
      "text/plain": [
       "F_onewayResult(statistic=np.float64(54.9976), pvalue=np.float64(5.215138541582301e-15))"
      ]
     },
     "execution_count": 1501,
     "metadata": {},
     "output_type": "execute_result"
    }
   ],
   "source": [
    "f_oneway(ABC.GRUP_A,ABC.GRUP_B,ABC.GRUP_C)"
   ]
  },
  {
   "cell_type": "code",
   "execution_count": 1502,
   "metadata": {},
   "outputs": [
    {
     "name": "stdout",
     "output_type": "stream",
     "text": [
      "test istatistiği: 54.9976\n",
      "p value: 5.215138541582301e-15\n"
     ]
    }
   ],
   "source": [
    "print(\"test istatistiği: \" + str(f_oneway(ABC.GRUP_A,ABC.GRUP_B,ABC.GRUP_C)[0]))\n",
    "print(\"p value: \"          + str(f_oneway(ABC.GRUP_A,ABC.GRUP_B,ABC.GRUP_C)[1]))"
   ]
  },
  {
   "cell_type": "code",
   "execution_count": 1503,
   "metadata": {},
   "outputs": [
    {
     "name": "stdout",
     "output_type": "stream",
     "text": [
      "test istatistiği: 54.997600000 \n",
      "p value: 0.000000000000005\n"
     ]
    }
   ],
   "source": [
    "test_istatistigi, pvalue = f_oneway(ABC.GRUP_A,ABC.GRUP_B,ABC.GRUP_C)\n",
    "print(\"test istatistiği: %.9f \\np value: %.15f\" % (test_istatistigi,pvalue))"
   ]
  },
  {
   "cell_type": "code",
   "execution_count": 1504,
   "metadata": {},
   "outputs": [
    {
     "name": "stdout",
     "output_type": "stream",
     "text": [
      "0.000000000000005\n"
     ]
    }
   ],
   "source": [
    "print('{:.15f}'.format(f_oneway(ABC.GRUP_A,ABC.GRUP_B,ABC.GRUP_C)[1]))"
   ]
  },
  {
   "cell_type": "code",
   "execution_count": 1505,
   "metadata": {},
   "outputs": [
    {
     "name": "stdout",
     "output_type": "stream",
     "text": [
      "test istatistiği: 54.9976\n",
      "p value: 5.215138541582301e-15\n"
     ]
    }
   ],
   "source": [
    "result = f_oneway(ABC.GRUP_A,ABC.GRUP_B,ABC.GRUP_C)\n",
    "print(\"test istatistiği: \" + str(result.statistic))\n",
    "print(\"p value: \" + str(result.pvalue))\n",
    "# p value 5.215138541582301e-15 = 5.215138541582301*10^-15\n",
    "# p value < 0.05, hipotez reddedilir."
   ]
  },
  {
   "cell_type": "markdown",
   "metadata": {},
   "source": [
    "YANİ::::  H1: Örnek dağılımı ile teorik normal dağılım arasında istatistiki olarak anlamlı bir farklılık vardır. Süreler farklıdır. Dizaynların önemi vardır."
   ]
  },
  {
   "cell_type": "code",
   "execution_count": 1506,
   "metadata": {},
   "outputs": [
    {
     "data": {
      "text/html": [
       "<div>\n",
       "<style scoped>\n",
       "    .dataframe tbody tr th:only-of-type {\n",
       "        vertical-align: middle;\n",
       "    }\n",
       "\n",
       "    .dataframe tbody tr th {\n",
       "        vertical-align: top;\n",
       "    }\n",
       "\n",
       "    .dataframe thead th {\n",
       "        text-align: right;\n",
       "    }\n",
       "</style>\n",
       "<table border=\"1\" class=\"dataframe\">\n",
       "  <thead>\n",
       "    <tr style=\"text-align: right;\">\n",
       "      <th></th>\n",
       "      <th>count</th>\n",
       "      <th>mean</th>\n",
       "      <th>std</th>\n",
       "      <th>min</th>\n",
       "      <th>25%</th>\n",
       "      <th>50%</th>\n",
       "      <th>75%</th>\n",
       "      <th>max</th>\n",
       "    </tr>\n",
       "  </thead>\n",
       "  <tbody>\n",
       "    <tr>\n",
       "      <th>GRUP_A</th>\n",
       "      <td>24.0</td>\n",
       "      <td>30.125</td>\n",
       "      <td>2.290102</td>\n",
       "      <td>25.0</td>\n",
       "      <td>28.75</td>\n",
       "      <td>30.0</td>\n",
       "      <td>31.25</td>\n",
       "      <td>34.0</td>\n",
       "    </tr>\n",
       "    <tr>\n",
       "      <th>GRUP_B</th>\n",
       "      <td>24.0</td>\n",
       "      <td>31.750</td>\n",
       "      <td>2.706675</td>\n",
       "      <td>27.0</td>\n",
       "      <td>30.00</td>\n",
       "      <td>31.0</td>\n",
       "      <td>34.00</td>\n",
       "      <td>38.0</td>\n",
       "    </tr>\n",
       "    <tr>\n",
       "      <th>GRUP_C</th>\n",
       "      <td>24.0</td>\n",
       "      <td>37.625</td>\n",
       "      <td>2.794599</td>\n",
       "      <td>33.0</td>\n",
       "      <td>35.00</td>\n",
       "      <td>38.0</td>\n",
       "      <td>40.00</td>\n",
       "      <td>43.0</td>\n",
       "    </tr>\n",
       "  </tbody>\n",
       "</table>\n",
       "</div>"
      ],
      "text/plain": [
       "        count    mean       std   min    25%   50%    75%   max\n",
       "GRUP_A   24.0  30.125  2.290102  25.0  28.75  30.0  31.25  34.0\n",
       "GRUP_B   24.0  31.750  2.706675  27.0  30.00  31.0  34.00  38.0\n",
       "GRUP_C   24.0  37.625  2.794599  33.0  35.00  38.0  40.00  43.0"
      ]
     },
     "execution_count": 1506,
     "metadata": {},
     "output_type": "execute_result"
    }
   ],
   "source": [
    "ABC.describe().T\n",
    "# C grubu daha anlamlı katkılar sağlar."
   ]
  },
  {
   "cell_type": "markdown",
   "metadata": {},
   "source": [
    "# Nonparametrik # VARYANS ANALİZİ\n",
    "\n",
    "* diyelimki hem normallik hem de varyans homojenliği varsayımları reddedildi.\n",
    "\n",
    "Hipotezimiz:\n",
    "\n",
    "- * H0:   u1=u2=u3  # ortalama geçirilen süre eşittir.\n",
    "- * H1: !(u1=u2=u3) # ortalama geçirilen süre eşit değildir.\n",
    "\n",
    "anlamlı bir farklılık vardır.\n",
    "\n",
    "anlamlı bir farklılık yoktur."
   ]
  },
  {
   "cell_type": "code",
   "execution_count": 1507,
   "metadata": {},
   "outputs": [],
   "source": [
    "from scipy.stats import kruskal"
   ]
  },
  {
   "cell_type": "code",
   "execution_count": 1508,
   "metadata": {},
   "outputs": [
    {
     "data": {
      "text/plain": [
       "KruskalResult(statistic=np.float64(42.43187215942825), pvalue=np.float64(6.10992715116595e-10))"
      ]
     },
     "execution_count": 1508,
     "metadata": {},
     "output_type": "execute_result"
    }
   ],
   "source": [
    "stats.kruskal(ABC.GRUP_A,ABC.GRUP_B,ABC.GRUP_C)"
   ]
  },
  {
   "cell_type": "code",
   "execution_count": 1509,
   "metadata": {},
   "outputs": [
    {
     "name": "stdout",
     "output_type": "stream",
     "text": [
      "test istatistiği: 42.43187215942825\n",
      "p value: 6.10992715116595e-10\n"
     ]
    }
   ],
   "source": [
    "print(\"test istatistiği: \" + str(stats.kruskal(ABC.GRUP_A,ABC.GRUP_B,ABC.GRUP_C)[0]))\n",
    "print(\"p value: \"          + str(stats.kruskal(ABC.GRUP_A,ABC.GRUP_B,ABC.GRUP_C)[1]))"
   ]
  },
  {
   "cell_type": "code",
   "execution_count": 1510,
   "metadata": {},
   "outputs": [
    {
     "name": "stdout",
     "output_type": "stream",
     "text": [
      "test istatistiği: 42.4318722 \n",
      "p value: 0.0000000006\n"
     ]
    }
   ],
   "source": [
    "test_istatistigi, pvalue = stats.kruskal(ABC.GRUP_A,ABC.GRUP_B,ABC.GRUP_C)\n",
    "print(\"test istatistiği: %.7f \\np value: %.10f\" % (test_istatistigi,pvalue))\n",
    "\n",
    "# p value < 0.05 reddedilir. H0 reddedildi. Yani anlamlı bir farklılık vardır. \n",
    "# Ve ortalaması C dizaynının daha yüksek olduğu için bu farklılık \n",
    "# C sistemin lehinedir."
   ]
  },
  {
   "cell_type": "markdown",
   "metadata": {},
   "source": [
    "# KORELASYON ANALİZİ Teorisi\n",
    "Soru: Bahşiş ile ödenen hesap arasında korelasyon var mı?\n",
    "\n",
    "Hipotezimiz:\n",
    "\n",
    "* H0: p  = 0  Korelasyon yoktur.\n",
    "* H1: p != 0  Korelasyon vardır.\n",
    "\n",
    "-------\n",
    "\n",
    "Veri Setinin hikayesi\n",
    "* total_bill = yemeğin toplam fiyatı, bahşiş + vergiler dahil\n",
    "* tip        = bahşiş\n",
    "* sex        = ödeyenin cinsiyeti\n",
    "* smoker     = grupta sigara içen var mı?\n",
    "* day        = gün\n",
    "* time       = zaman (sabah, akşam)\n",
    "* size       = grupta kaç kişi var?"
   ]
  },
  {
   "cell_type": "code",
   "execution_count": 1511,
   "metadata": {},
   "outputs": [
    {
     "name": "stdout",
     "output_type": "stream",
     "text": [
      "   total_bill   tip     sex smoker  day    time  size\n",
      "0       16.99  1.01  Female     No  Sun  Dinner     2\n",
      "1       10.34  1.66    Male     No  Sun  Dinner     3\n",
      "2       21.01  3.50    Male     No  Sun  Dinner     3\n",
      "3       23.68  3.31    Male     No  Sun  Dinner     2\n",
      "4       24.59  3.61  Female     No  Sun  Dinner     4\n",
      "     total_bill   tip     sex smoker   day    time  size\n",
      "239       29.03  5.92    Male     No   Sat  Dinner     3\n",
      "240       27.18  2.00  Female    Yes   Sat  Dinner     2\n",
      "241       22.67  2.00    Male    Yes   Sat  Dinner     2\n",
      "242       17.82  1.75    Male     No   Sat  Dinner     2\n",
      "243       18.78  3.00  Female     No  Thur  Dinner     2\n"
     ]
    }
   ],
   "source": [
    "import seaborn as sns\n",
    "tips = sns.load_dataset('tips')\n",
    "df = tips.copy()\n",
    "print(df.head())\n",
    "print(df.tail())"
   ]
  },
  {
   "cell_type": "code",
   "execution_count": 1512,
   "metadata": {},
   "outputs": [
    {
     "data": {
      "text/html": [
       "<div>\n",
       "<style scoped>\n",
       "    .dataframe tbody tr th:only-of-type {\n",
       "        vertical-align: middle;\n",
       "    }\n",
       "\n",
       "    .dataframe tbody tr th {\n",
       "        vertical-align: top;\n",
       "    }\n",
       "\n",
       "    .dataframe thead th {\n",
       "        text-align: right;\n",
       "    }\n",
       "</style>\n",
       "<table border=\"1\" class=\"dataframe\">\n",
       "  <thead>\n",
       "    <tr style=\"text-align: right;\">\n",
       "      <th></th>\n",
       "      <th>count</th>\n",
       "      <th>mean</th>\n",
       "      <th>std</th>\n",
       "      <th>min</th>\n",
       "      <th>25%</th>\n",
       "      <th>50%</th>\n",
       "      <th>75%</th>\n",
       "      <th>max</th>\n",
       "    </tr>\n",
       "  </thead>\n",
       "  <tbody>\n",
       "    <tr>\n",
       "      <th>total_bill</th>\n",
       "      <td>244.0</td>\n",
       "      <td>19.785943</td>\n",
       "      <td>8.902412</td>\n",
       "      <td>3.07</td>\n",
       "      <td>13.3475</td>\n",
       "      <td>17.795</td>\n",
       "      <td>24.1275</td>\n",
       "      <td>50.81</td>\n",
       "    </tr>\n",
       "    <tr>\n",
       "      <th>tip</th>\n",
       "      <td>244.0</td>\n",
       "      <td>2.998279</td>\n",
       "      <td>1.383638</td>\n",
       "      <td>1.00</td>\n",
       "      <td>2.0000</td>\n",
       "      <td>2.900</td>\n",
       "      <td>3.5625</td>\n",
       "      <td>10.00</td>\n",
       "    </tr>\n",
       "    <tr>\n",
       "      <th>size</th>\n",
       "      <td>244.0</td>\n",
       "      <td>2.569672</td>\n",
       "      <td>0.951100</td>\n",
       "      <td>1.00</td>\n",
       "      <td>2.0000</td>\n",
       "      <td>2.000</td>\n",
       "      <td>3.0000</td>\n",
       "      <td>6.00</td>\n",
       "    </tr>\n",
       "  </tbody>\n",
       "</table>\n",
       "</div>"
      ],
      "text/plain": [
       "            count       mean       std   min      25%     50%      75%    max\n",
       "total_bill  244.0  19.785943  8.902412  3.07  13.3475  17.795  24.1275  50.81\n",
       "tip         244.0   2.998279  1.383638  1.00   2.0000   2.900   3.5625  10.00\n",
       "size        244.0   2.569672  0.951100  1.00   2.0000   2.000   3.0000   6.00"
      ]
     },
     "execution_count": 1512,
     "metadata": {},
     "output_type": "execute_result"
    }
   ],
   "source": [
    "df.describe().T"
   ]
  },
  {
   "cell_type": "code",
   "execution_count": 1513,
   "metadata": {},
   "outputs": [],
   "source": [
    "df[\"total_bill\"] = df[\"total_bill\"] - df[\"tip\"]"
   ]
  },
  {
   "cell_type": "code",
   "execution_count": 1514,
   "metadata": {},
   "outputs": [
    {
     "name": "stdout",
     "output_type": "stream",
     "text": [
      "   total_bill   tip     sex smoker  day    time  size\n",
      "0       15.98  1.01  Female     No  Sun  Dinner     2\n",
      "1        8.68  1.66    Male     No  Sun  Dinner     3\n",
      "2       17.51  3.50    Male     No  Sun  Dinner     3\n",
      "3       20.37  3.31    Male     No  Sun  Dinner     2\n",
      "4       20.98  3.61  Female     No  Sun  Dinner     4\n",
      "     total_bill   tip     sex smoker   day    time  size\n",
      "239       23.11  5.92    Male     No   Sat  Dinner     3\n",
      "240       25.18  2.00  Female    Yes   Sat  Dinner     2\n",
      "241       20.67  2.00    Male    Yes   Sat  Dinner     2\n",
      "242       16.07  1.75    Male     No   Sat  Dinner     2\n",
      "243       15.78  3.00  Female     No  Thur  Dinner     2\n"
     ]
    }
   ],
   "source": [
    "print(df.head())\n",
    "print(df.tail())"
   ]
  },
  {
   "cell_type": "code",
   "execution_count": 1515,
   "metadata": {},
   "outputs": [
    {
     "data": {
      "text/html": [
       "<div>\n",
       "<style scoped>\n",
       "    .dataframe tbody tr th:only-of-type {\n",
       "        vertical-align: middle;\n",
       "    }\n",
       "\n",
       "    .dataframe tbody tr th {\n",
       "        vertical-align: top;\n",
       "    }\n",
       "\n",
       "    .dataframe thead th {\n",
       "        text-align: right;\n",
       "    }\n",
       "</style>\n",
       "<table border=\"1\" class=\"dataframe\">\n",
       "  <thead>\n",
       "    <tr style=\"text-align: right;\">\n",
       "      <th></th>\n",
       "      <th>count</th>\n",
       "      <th>mean</th>\n",
       "      <th>std</th>\n",
       "      <th>min</th>\n",
       "      <th>25%</th>\n",
       "      <th>50%</th>\n",
       "      <th>75%</th>\n",
       "      <th>max</th>\n",
       "    </tr>\n",
       "  </thead>\n",
       "  <tbody>\n",
       "    <tr>\n",
       "      <th>total_bill</th>\n",
       "      <td>244.0</td>\n",
       "      <td>16.787664</td>\n",
       "      <td>8.032459</td>\n",
       "      <td>2.07</td>\n",
       "      <td>11.0</td>\n",
       "      <td>14.555</td>\n",
       "      <td>20.6850</td>\n",
       "      <td>43.17</td>\n",
       "    </tr>\n",
       "    <tr>\n",
       "      <th>tip</th>\n",
       "      <td>244.0</td>\n",
       "      <td>2.998279</td>\n",
       "      <td>1.383638</td>\n",
       "      <td>1.00</td>\n",
       "      <td>2.0</td>\n",
       "      <td>2.900</td>\n",
       "      <td>3.5625</td>\n",
       "      <td>10.00</td>\n",
       "    </tr>\n",
       "    <tr>\n",
       "      <th>size</th>\n",
       "      <td>244.0</td>\n",
       "      <td>2.569672</td>\n",
       "      <td>0.951100</td>\n",
       "      <td>1.00</td>\n",
       "      <td>2.0</td>\n",
       "      <td>2.000</td>\n",
       "      <td>3.0000</td>\n",
       "      <td>6.00</td>\n",
       "    </tr>\n",
       "  </tbody>\n",
       "</table>\n",
       "</div>"
      ],
      "text/plain": [
       "            count       mean       std   min   25%     50%      75%    max\n",
       "total_bill  244.0  16.787664  8.032459  2.07  11.0  14.555  20.6850  43.17\n",
       "tip         244.0   2.998279  1.383638  1.00   2.0   2.900   3.5625  10.00\n",
       "size        244.0   2.569672  0.951100  1.00   2.0   2.000   3.0000   6.00"
      ]
     },
     "execution_count": 1515,
     "metadata": {},
     "output_type": "execute_result"
    }
   ],
   "source": [
    "df.describe().T"
   ]
  },
  {
   "cell_type": "code",
   "execution_count": 1516,
   "metadata": {},
   "outputs": [
    {
     "data": {
      "image/png": "[encoded data removed]",
      "text/plain": [
       "<Figure size 640x480 with 1 Axes>"
      ]
     },
     "metadata": {},
     "output_type": "display_data"
    }
   ],
   "source": [
    "df.plot.scatter(x=\"tip\",y=\"total_bill\");"
   ]
  },
  {
   "cell_type": "markdown",
   "metadata": {},
   "source": [
    "* KORELASYON ANALİZİ Varsayım Kontrolü"
   ]
  },
  {
   "cell_type": "markdown",
   "metadata": {},
   "source": [
    "* 1-) normallik varsayımı\n",
    "\n",
    "- H0: Örnek dağılımı ile teorik normal dağılım arasında istatistiki olarak anlamlı bir farklılık yoktur.\n",
    "- H1: Örnek dağılımı ile teorik normal dağılım arasında istatistiki olarak anlamlı bir farklılık vardır."
   ]
  },
  {
   "cell_type": "code",
   "execution_count": 1517,
   "metadata": {},
   "outputs": [],
   "source": [
    "from scipy.stats import shapiro"
   ]
  },
  {
   "cell_type": "code",
   "execution_count": 1518,
   "metadata": {},
   "outputs": [
    {
     "data": {
      "text/plain": [
       "ShapiroResult(statistic=np.float64(0.8978110496018736), pvalue=np.float64(8.200360128656718e-12))"
      ]
     },
     "execution_count": 1518,
     "metadata": {},
     "output_type": "execute_result"
    }
   ],
   "source": [
    "shapiro(df[\"tip\"])"
   ]
  },
  {
   "cell_type": "code",
   "execution_count": 1519,
   "metadata": {},
   "outputs": [
    {
     "name": "stdout",
     "output_type": "stream",
     "text": [
      "test istatistiği: 0.8978110496018736\n",
      "p value: 8.200360128656718e-12\n"
     ]
    }
   ],
   "source": [
    "print(\"test istatistiği: \" + str(shapiro(df[\"tip\"])[0]))\n",
    "print(\"p value: \"          + str(shapiro(df[\"tip\"])[1]))\n",
    "\n",
    "#p value <0.05 oldu tip değişkeni için H0 reddedildi."
   ]
  },
  {
   "cell_type": "code",
   "execution_count": 1520,
   "metadata": {},
   "outputs": [
    {
     "data": {
      "text/plain": [
       "ShapiroResult(statistic=np.float64(0.9135647251969665), pvalue=np.float64(1.1059404008059039e-10))"
      ]
     },
     "execution_count": 1520,
     "metadata": {},
     "output_type": "execute_result"
    }
   ],
   "source": [
    "shapiro(df[\"total_bill\"])"
   ]
  },
  {
   "cell_type": "code",
   "execution_count": 1521,
   "metadata": {},
   "outputs": [
    {
     "name": "stdout",
     "output_type": "stream",
     "text": [
      "test istatistiği: 0.9135647251969665\n",
      "p value: 1.1059404008059039e-10\n"
     ]
    }
   ],
   "source": [
    "print(\"test istatistiği: \" + str(shapiro(df[\"total_bill\"])[0]))\n",
    "print(\"p value: \"          + str(shapiro(df[\"total_bill\"])[1]))\n",
    "\n",
    "#p value <0.05 oldu A değişkeni için H0 reddedildi."
   ]
  },
  {
   "cell_type": "markdown",
   "metadata": {},
   "source": [
    "* Kolerasyon Katsayısı Hipotez Testi\n",
    "* * Normallik sağlanırsa  -> pearson korelasyon katsayısı  (paremetrik)\n",
    "* * Normallik sağlanmazsa -> spearman korelasyon katsayısı (nonparemetrik)\n",
    "                         veya kendal tau korelasyon katsayısı(nonparemetrik)\n",
    "\n",
    "------\n",
    "2 değişken içinde normallik sağlanmadı. Yani spearman korelasyon katsayısı kullanılmalı.\n",
    "\n",
    "Şimdilik sanki sağlanmış gibi pearson korelasyon katsayısını kullanarak inceleyelim.\n",
    "\n",
    "------\n",
    "\n",
    "* yukarıda oluşturduğumuz Hipotezimiz:\n",
    "\n",
    "* * H0: p  = 0  Korelasyon yoktur.\n",
    "* * H1: p != 0  Korelasyon vardır."
   ]
  },
  {
   "cell_type": "markdown",
   "metadata": {},
   "source": [
    "Korelasyon Katsayısı"
   ]
  },
  {
   "cell_type": "code",
   "execution_count": 1522,
   "metadata": {},
   "outputs": [
    {
     "data": {
      "text/plain": [
       "np.float64(0.5766634471096378)"
      ]
     },
     "execution_count": 1522,
     "metadata": {},
     "output_type": "execute_result"
    }
   ],
   "source": [
    "df[\"tip\"].corr(df[\"total_bill\"]) #pearson korelasyon katsayısı"
   ]
  },
  {
   "cell_type": "code",
   "execution_count": 1523,
   "metadata": {},
   "outputs": [
    {
     "data": {
      "text/plain": [
       "np.float64(0.593691939408997)"
      ]
     },
     "execution_count": 1523,
     "metadata": {},
     "output_type": "execute_result"
    }
   ],
   "source": [
    "df[\"tip\"].corr(df[\"total_bill\"], method=\"spearman\") #spearman korelasyon katsayısı"
   ]
  },
  {
   "cell_type": "markdown",
   "metadata": {},
   "source": [
    "Korelasyonun Anlamlılığı Testi"
   ]
  },
  {
   "cell_type": "code",
   "execution_count": 1524,
   "metadata": {},
   "outputs": [],
   "source": [
    "from scipy.stats import pearsonr"
   ]
  },
  {
   "cell_type": "code",
   "execution_count": 1525,
   "metadata": {},
   "outputs": [
    {
     "data": {
      "text/plain": [
       "PearsonRResult(statistic=np.float64(0.5766634471096381), pvalue=np.float64(5.0182900849486195e-23))"
      ]
     },
     "execution_count": 1525,
     "metadata": {},
     "output_type": "execute_result"
    }
   ],
   "source": [
    "stats.pearsonr(df[\"tip\"],df[\"total_bill\"])"
   ]
  },
  {
   "cell_type": "code",
   "execution_count": 1526,
   "metadata": {},
   "outputs": [
    {
     "name": "stdout",
     "output_type": "stream",
     "text": [
      "Korelasyon Katsayısı: 0.5766634471096381\n",
      "p value: 5.0182900849486195e-23\n"
     ]
    }
   ],
   "source": [
    "print(\"Korelasyon Katsayısı: \" + str(stats.pearsonr(df[\"tip\"],df[\"total_bill\"])[0]))\n",
    "print(\"p value: \"          + str(stats.pearsonr(df[\"tip\"],df[\"total_bill\"])[1]))"
   ]
  },
  {
   "cell_type": "code",
   "execution_count": 1527,
   "metadata": {},
   "outputs": [
    {
     "name": "stdout",
     "output_type": "stream",
     "text": [
      "Korelasyon Katsayısı: 0.576663447 \n",
      "p value: 0.00000000000000000000005\n"
     ]
    }
   ],
   "source": [
    "test_istatistigi, pvalue = stats.pearsonr(df[\"tip\"],df[\"total_bill\"])\n",
    "print(\"Korelasyon Katsayısı: %.9f \\np value: %.23f\" % (test_istatistigi,pvalue))"
   ]
  },
  {
   "cell_type": "code",
   "execution_count": 1528,
   "metadata": {},
   "outputs": [
    {
     "name": "stdout",
     "output_type": "stream",
     "text": [
      "Korelasyon Katsayısı: 0.5766634471096381\n",
      "p value: 5.0182900849486195e-23\n"
     ]
    }
   ],
   "source": [
    "result = stats.pearsonr(df[\"tip\"],df[\"total_bill\"])\n",
    "print(\"Korelasyon Katsayısı: \" + str(result.statistic))\n",
    "print(\"p value: \" + str(result.pvalue))\n",
    "# p value 5.0182900849486195e-23 = 5.0182900849486195*10^-23\n",
    "# p value < 0.05, hipotez reddedilir. \n",
    "# Değişkenler arası anlamlı bir ilişki, korelasyon vardır. "
   ]
  },
  {
   "cell_type": "markdown",
   "metadata": {},
   "source": [
    "# Nonparametrik KORELASYON ANALİZİ\n",
    "\n",
    "* * Normallik sağlanmazsa -> spearman korelasyon katsatısı (nonparemetrik)\n",
    "                        veya kendal tau korelasyon katsayısı(nonparemetrik)\n",
    "* yukarıda oluşturduğumuz Hipotezimiz:\n",
    "\n",
    "* * H0: p  = 0  Korelasyon yoktur.\n",
    "* * H1: p != 0  Korelasyon vardır."
   ]
  },
  {
   "cell_type": "code",
   "execution_count": 1529,
   "metadata": {},
   "outputs": [
    {
     "data": {
      "text/plain": [
       "SignificanceResult(statistic=np.float64(0.593691939408997), pvalue=np.float64(1.2452285137560276e-24))"
      ]
     },
     "execution_count": 1529,
     "metadata": {},
     "output_type": "execute_result"
    }
   ],
   "source": [
    "stats.spearmanr(df[\"tip\"],df[\"total_bill\"])"
   ]
  },
  {
   "cell_type": "code",
   "execution_count": 1530,
   "metadata": {},
   "outputs": [
    {
     "name": "stdout",
     "output_type": "stream",
     "text": [
      "Korelasyon Katsayısı: 0.593691939408997\n",
      "p value: 1.2452285137560276e-24\n"
     ]
    }
   ],
   "source": [
    "print(\"Korelasyon Katsayısı: \" + str(stats.spearmanr(df[\"tip\"],df[\"total_bill\"])[0]))\n",
    "print(\"p value: \"          + str(stats.spearmanr(df[\"tip\"],df[\"total_bill\"])[1]))"
   ]
  },
  {
   "cell_type": "code",
   "execution_count": 1531,
   "metadata": {},
   "outputs": [
    {
     "name": "stdout",
     "output_type": "stream",
     "text": [
      "Korelasyon Katsayısı: 0.5936919 \n",
      "p value: 0.000000000000000000000001\n"
     ]
    }
   ],
   "source": [
    "test_istatistigi, pvalue = stats.spearmanr(df[\"tip\"],df[\"total_bill\"])\n",
    "print(\"Korelasyon Katsayısı: %.7f \\np value: %.24f\" % (test_istatistigi,pvalue))\n",
    "\n",
    "# p value < 0.05, hipotez reddedilir. \n",
    "# Değişkenler arası anlamlı bir ilişki, korelasyon vardır. \n",
    "# 0.5 < r < 0.9\n",
    "# düşük pozitif ile yüksek pozitif arasında bir korelasyon vardır. (orta şiddet)"
   ]
  },
  {
   "cell_type": "code",
   "execution_count": 1532,
   "metadata": {},
   "outputs": [
    {
     "data": {
      "text/plain": [
       "SignificanceResult(statistic=np.float64(0.4400790074919885), pvalue=np.float64(7.131027725873621e-24))"
      ]
     },
     "execution_count": 1532,
     "metadata": {},
     "output_type": "execute_result"
    }
   ],
   "source": [
    "# spearman yeter ama garanti olsun istersen;\n",
    "stats.kendalltau(df[\"tip\"],df[\"total_bill\"])"
   ]
  },
  {
   "cell_type": "code",
   "execution_count": 1533,
   "metadata": {},
   "outputs": [
    {
     "name": "stdout",
     "output_type": "stream",
     "text": [
      "Korelasyon Katsayısı: 0.4400790074919885\n",
      "p value: 7.131027725873621e-24\n"
     ]
    }
   ],
   "source": [
    "print(\"Korelasyon Katsayısı: \" + str(stats.kendalltau(df[\"tip\"],df[\"total_bill\"])[0]))\n",
    "print(\"p value: \"          + str(stats.kendalltau(df[\"tip\"],df[\"total_bill\"])[1]))"
   ]
  },
  {
   "cell_type": "code",
   "execution_count": 1534,
   "metadata": {},
   "outputs": [
    {
     "name": "stdout",
     "output_type": "stream",
     "text": [
      "Korelasyon Katsayısı: 0.4400790 \n",
      "p value: 0.000000000000000000000007\n"
     ]
    }
   ],
   "source": [
    "test_istatistigi, pvalue = stats.kendalltau(df[\"tip\"],df[\"total_bill\"])\n",
    "print(\"Korelasyon Katsayısı: %.7f \\np value: %.24f\" % (test_istatistigi,pvalue))"
   ]
  },
  {
   "cell_type": "markdown",
   "metadata": {},
   "source": [
    "* kendalltau'ya göre 0< r <0.5 çıktı\n",
    "* ancak en güvenilir olan test spearmanr'dir ona göre karar verilmelidir."
   ]
  }
 ],
 "metadata": {
  "kernelspec": {
   "display_name": "Python 3",
   "language": "python",
   "name": "python3"
  },
  "language_info": {
   "codemirror_mode": {
    "name": "ipython",
    "version": 3
   },
   "file_extension": ".py",
   "mimetype": "text/x-python",
   "name": "python",
   "nbconvert_exporter": "python",
   "pygments_lexer": "ipython3",
   "version": "3.12.4"
  }
 },
 "nbformat": 4,
 "nbformat_minor": 2
}
