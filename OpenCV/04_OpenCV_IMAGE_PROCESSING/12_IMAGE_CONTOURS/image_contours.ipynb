{
 "cells": [
  {
   "cell_type": "markdown",
   "metadata": {},
   "source": [
    "* nesne analizinde kullanılır.\n",
    "\n",
    "* binary görüntü elde edip ilgili işlemler yapılarak görüntü kontürü elde edilir"
   ]
  },
  {
   "cell_type": "code",
   "execution_count": 36,
   "metadata": {},
   "outputs": [],
   "source": [
    "import cv2 as cv"
   ]
  },
  {
   "cell_type": "code",
   "execution_count": 37,
   "metadata": {},
   "outputs": [],
   "source": [
    "# binary görüntü\n",
    "def threshold_demo(image):\n",
    "    dst = cv.GaussianBlur(image, (3,3), 0)\n",
    "    gray= cv.cvtColor(dst, cv.COLOR_BGR2GRAY)\n",
    "    ret, binary = cv.threshold(gray, 0, 255, cv.THRESH_OTSU | cv.THRESH_BINARY)\n",
    "    cv.imshow(\"binary\", binary)\n",
    "    return binary"
   ]
  },
  {
   "cell_type": "code",
   "execution_count": 38,
   "metadata": {},
   "outputs": [],
   "source": [
    "# kenar tespidi için Canny\n",
    "def canny_demo(image):\n",
    "    t = 100 #threshold\n",
    "    canny_output = cv.Canny(image, t, t*2)\n",
    "    cv.imshow(\"canny_output\", canny_output)\n",
    "    return canny_output"
   ]
  },
  {
   "cell_type": "code",
   "execution_count": 39,
   "metadata": {},
   "outputs": [
    {
     "data": {
      "text/plain": [
       "-1"
      ]
     },
     "execution_count": 39,
     "metadata": {},
     "output_type": "execute_result"
    }
   ],
   "source": [
    "src = cv.imread(\"yuan_test.png\")\n",
    "cv.namedWindow(\"input\", cv.WINDOW_AUTOSIZE)\n",
    "cv.imshow(\"input\", src)\n",
    "cv.waitKey(100)"
   ]
  },
  {
   "cell_type": "code",
   "execution_count": 40,
   "metadata": {},
   "outputs": [
    {
     "data": {
      "text/plain": [
       "-1"
      ]
     },
     "execution_count": 40,
     "metadata": {},
     "output_type": "execute_result"
    }
   ],
   "source": [
    "binary = threshold_demo(src)\n",
    "cv.waitKey(100)\n",
    "canny  = canny_demo(src)\n",
    "cv.waitKey(100)\n"
   ]
  },
  {
   "cell_type": "code",
   "execution_count": 41,
   "metadata": {},
   "outputs": [],
   "source": [
    "contours, hierarcy = cv.findContours(canny, cv.RETR_TREE, cv.CHAIN_APPROX_SIMPLE) \n",
    "# gelen görüntü, kontor alma yöntemi, kontürleri saklama yöntemi"
   ]
  },
  {
   "cell_type": "code",
   "execution_count": 42,
   "metadata": {},
   "outputs": [],
   "source": [
    "for c in range(len(contours)):\n",
    "    cv.drawContours(src, contours, c, (0,0,255),2,8)"
   ]
  },
  {
   "cell_type": "code",
   "execution_count": 43,
   "metadata": {},
   "outputs": [],
   "source": [
    "cv.imshow(\"contours-demo\", src)\n",
    "cv.waitKey(10000)\n",
    "cv.destroyAllWindows()"
   ]
  }
 ],
 "metadata": {
  "kernelspec": {
   "display_name": "Python 3",
   "language": "python",
   "name": "python3"
  },
  "language_info": {
   "codemirror_mode": {
    "name": "ipython",
    "version": 3
   },
   "file_extension": ".py",
   "mimetype": "text/x-python",
   "name": "python",
   "nbconvert_exporter": "python",
   "pygments_lexer": "ipython3",
   "version": "3.12.4"
  }
 },
 "nbformat": 4,
 "nbformat_minor": 2
}
