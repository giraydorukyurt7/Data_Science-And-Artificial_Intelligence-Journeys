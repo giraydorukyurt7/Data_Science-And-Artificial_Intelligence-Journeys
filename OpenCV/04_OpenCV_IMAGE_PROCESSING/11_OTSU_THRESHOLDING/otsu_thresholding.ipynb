{
 "cells": [
  {
   "cell_type": "markdown",
   "metadata": {},
   "source": [
    "* Otomatik görüntü eşikleme yapma yöntemidir.\n",
    "* Giriş görüntüsünü, ikili görüntüye(binary görüntüye) dönüştürür.\n",
    "* Binary görüntü: görüntünün siyah beyaz tanımlanması.\n",
    "* Belirli bir eşik değerine göre pixelleri siyah veya beyaz yapar."
   ]
  },
  {
   "cell_type": "code",
   "execution_count": 2,
   "metadata": {},
   "outputs": [],
   "source": [
    "import cv2 as cv\n",
    "import numpy as np"
   ]
  },
  {
   "cell_type": "code",
   "execution_count": 12,
   "metadata": {},
   "outputs": [],
   "source": [
    "src = cv.imread(\"lena.png\")\n",
    "cv.namedWindow(\"input\", cv.WINDOW_AUTOSIZE)\n",
    "cv.imshow(\"input\", src)\n",
    "cv.waitKey(2000)\n",
    "cv.destroyAllWindows()"
   ]
  },
  {
   "cell_type": "code",
   "execution_count": 14,
   "metadata": {},
   "outputs": [
    {
     "name": "stdout",
     "output_type": "stream",
     "text": [
      "512 512\n"
     ]
    }
   ],
   "source": [
    "gray = cv.cvtColor(src, cv.COLOR_BGR2GRAY)\n",
    "\n",
    "ret, binary = cv.threshold(gray, 0, 255, cv.THRESH_BINARY | cv.THRESH_OTSU) # binary eşikleme yapılacak, otsu yöntemine göre yapılacak.\n",
    "\n",
    "h, w = src.shape[:2]\n",
    "\n",
    "print(h,w)\n",
    "\n",
    "cv.imshow(\"binary\", binary)\n",
    "cv.waitKey(2000)\n",
    "cv.destroyAllWindows()"
   ]
  }
 ],
 "metadata": {
  "kernelspec": {
   "display_name": "Python 3",
   "language": "python",
   "name": "python3"
  },
  "language_info": {
   "codemirror_mode": {
    "name": "ipython",
    "version": 3
   },
   "file_extension": ".py",
   "mimetype": "text/x-python",
   "name": "python",
   "nbconvert_exporter": "python",
   "pygments_lexer": "ipython3",
   "version": "3.12.4"
  }
 },
 "nbformat": 4,
 "nbformat_minor": 2
}
