{
 "cells": [
  {
   "cell_type": "code",
   "execution_count": 13,
   "metadata": {},
   "outputs": [],
   "source": [
    "import cv2 as cv\n",
    "import numpy as np\n",
    "import os"
   ]
  },
  {
   "cell_type": "code",
   "execution_count": 14,
   "metadata": {},
   "outputs": [],
   "source": [
    "#klasör konumu\n",
    "current_dir = os.getcwd()"
   ]
  },
  {
   "cell_type": "code",
   "execution_count": 15,
   "metadata": {},
   "outputs": [
    {
     "data": {
      "text/plain": [
       "-1"
      ]
     },
     "execution_count": 15,
     "metadata": {},
     "output_type": "execute_result"
    }
   ],
   "source": [
    "#resmi okuma\n",
    "src = cv.imread(\"turkish_liras.png\")\n",
    "cv.namedWindow(\"input\", cv.WINDOW_AUTOSIZE)\n",
    "cv.imshow(\"input\", src)\n",
    "cv.waitKey(10)"
   ]
  },
  {
   "cell_type": "code",
   "execution_count": 16,
   "metadata": {},
   "outputs": [
    {
     "data": {
      "text/plain": [
       "True"
      ]
     },
     "execution_count": 16,
     "metadata": {},
     "output_type": "execute_result"
    }
   ],
   "source": [
    "#gri yapma\n",
    "gray = cv.cvtColor(src, cv.COLOR_BGR2GRAY)\n",
    "cv.imshow(\"gray\", gray)\n",
    "cv.waitKey(10)\n",
    "\n",
    "#gri görüntüyü kaydet\n",
    "gray_image_path = os.path.join(current_dir, \"gray_image.png\")\n",
    "cv.imwrite(gray_image_path, gray)"
   ]
  },
  {
   "cell_type": "code",
   "execution_count": 17,
   "metadata": {},
   "outputs": [
    {
     "data": {
      "text/plain": [
       "True"
      ]
     },
     "execution_count": 17,
     "metadata": {},
     "output_type": "execute_result"
    }
   ],
   "source": [
    "#gürültü azaltma\n",
    "gray = cv.GaussianBlur(gray, (9,9), 2, 2)\n",
    "cv.imshow(\"Blured Gray\", gray)\n",
    "cv.waitKey(10)\n",
    "\n",
    "#blured gray görüntüyü kaydet\n",
    "blured_gray_image_path = os.path.join(current_dir, \"blured_gray_image.png\")\n",
    "cv.imwrite(blured_gray_image_path, gray)"
   ]
  },
  {
   "cell_type": "code",
   "execution_count": 18,
   "metadata": {},
   "outputs": [
    {
     "name": "stdout",
     "output_type": "stream",
     "text": [
      "[378 274 108]\n",
      "[300  94  85]\n",
      "[200 390 104]\n",
      "[136 114  79]\n",
      "[ 88 256  74]\n"
     ]
    }
   ],
   "source": [
    "#Circle Detection\n",
    "circles = cv.HoughCircles(gray,    #blured gray image\n",
    "                          cv.HOUGH_GRADIENT, \n",
    "                          dp        = 1,        # Çözünürlüğü düşürme katsayısı\n",
    "                          minDist   = 50,       # Daireler arası minimum mesafe\n",
    "                          param1    = 100,      # Canny kenar tespit üst sınırı\n",
    "                          param2    = 40,       # Daire tespiti için eşik değeri\n",
    "                          minRadius = 20,       # En küçük daire yarıçapı\n",
    "                          maxRadius = 200)      # En büyük daire yarıçapı\n",
    "if circles is not None:\n",
    "    circles = np.uint16((np.around(circles))) # Daire koordinatlarını tam sayılara yuvarla\n",
    "    for c in circles[0, :]:\n",
    "        print(c)\n",
    "        cx, cy, r = c\n",
    "        cx, cy, r = int(cx), int(cy), int(r) # Tam sayıya dönüştür\n",
    "        cv.circle(src, (cx,cy), 2, (0,255,0), 2, 8, 0) #Merkezleri çiz\n",
    "        cv.circle(src, (cx,cy), r, (0,0,255), 2, 8, 0) #Daireleri çiz"
   ]
  },
  {
   "cell_type": "code",
   "execution_count": 19,
   "metadata": {},
   "outputs": [
    {
     "data": {
      "text/plain": [
       "True"
      ]
     },
     "execution_count": 19,
     "metadata": {},
     "output_type": "execute_result"
    }
   ],
   "source": [
    "#Hoofman Circle Detection Image\n",
    "cv.imshow(\"Hough Circle Demo\", src)\n",
    "cv.waitKey(10)\n",
    "\n",
    "#Hoffman Circle Detection image kaydet\n",
    "hoffman_circle_detection_image_path = os.path.join(current_dir, \"hoffman_circle_detection_image.png\")\n",
    "cv.imwrite(hoffman_circle_detection_image_path, src)"
   ]
  },
  {
   "cell_type": "code",
   "execution_count": 20,
   "metadata": {},
   "outputs": [],
   "source": [
    "cv.waitKey(0)\n",
    "cv.destroyAllWindows()"
   ]
  },
  {
   "cell_type": "code",
   "execution_count": 21,
   "metadata": {},
   "outputs": [
    {
     "name": "stdout",
     "output_type": "stream",
     "text": [
      "[378 274 108]\n",
      "[300  94  85]\n",
      "[200 390 104]\n",
      "[136 114  79]\n",
      "[ 88 256  74]\n"
     ]
    }
   ],
   "source": [
    "# Ekstra satırlar olmadan kod;\n",
    "\n",
    "#Resmi okuma\n",
    "src = cv.imread(\"turkish_liras.png\")\n",
    "#gri yapma\n",
    "gray = cv.cvtColor(src, cv.COLOR_BGR2GRAY)\n",
    "#gürültü azaltma\n",
    "gray = cv.GaussianBlur(gray, (9,9), 2, 2)\n",
    "\n",
    "#Circle Detection\n",
    "circles = cv.HoughCircles(gray,    #blured gray image\n",
    "                          cv.HOUGH_GRADIENT, \n",
    "                          dp        = 1,        # Çözünürlüğü düşürme katsayısı\n",
    "                          minDist   = 50,       # Daireler arası minimum mesafe\n",
    "                          param1    = 100,      # Canny kenar tespit üst sınırı\n",
    "                          param2    = 40,       # Daire tespiti için eşik değeri\n",
    "                          minRadius = 20,       # En küçük daire yarıçapı\n",
    "                          maxRadius = 200)      # En büyük daire yarıçapı\n",
    "if circles is not None:\n",
    "    circles = np.uint16((np.around(circles))) # Daire koordinatlarını tam sayılara yuvarla\n",
    "    for c in circles[0, :]:\n",
    "        print(c)\n",
    "        cx, cy, r = c\n",
    "        cx, cy, r = int(cx), int(cy), int(r) # Tam sayıya dönüştür\n",
    "        cv.circle(src, (cx,cy), 2, (0,255,0), 2, 8, 0) #Merkezleri çiz\n",
    "        cv.circle(src, (cx,cy), r, (0,0,255), 2, 8, 0) #Daireleri çiz\n",
    "\n",
    "#Hoofman Circle Detection Image gösterme\n",
    "cv.imshow(\"Hough Circle Demo\", src)\n",
    "cv.waitKey(0)\n",
    "cv.destroyAllWindows()"
   ]
  },
  {
   "cell_type": "code",
   "execution_count": null,
   "metadata": {},
   "outputs": [],
   "source": []
  }
 ],
 "metadata": {
  "kernelspec": {
   "display_name": "Python 3",
   "language": "python",
   "name": "python3"
  },
  "language_info": {
   "codemirror_mode": {
    "name": "ipython",
    "version": 3
   },
   "file_extension": ".py",
   "mimetype": "text/x-python",
   "name": "python",
   "nbconvert_exporter": "python",
   "pygments_lexer": "ipython3",
   "version": "3.12.4"
  }
 },
 "nbformat": 4,
 "nbformat_minor": 2
}
