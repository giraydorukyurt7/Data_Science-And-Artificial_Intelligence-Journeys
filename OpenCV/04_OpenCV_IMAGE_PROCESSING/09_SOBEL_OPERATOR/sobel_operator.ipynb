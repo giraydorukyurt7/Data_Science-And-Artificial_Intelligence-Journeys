{
 "cells": [
  {
   "cell_type": "code",
   "execution_count": 1,
   "metadata": {},
   "outputs": [],
   "source": [
    "import cv2 as cv\n",
    "import numpy as np"
   ]
  },
  {
   "cell_type": "code",
   "execution_count": 2,
   "metadata": {},
   "outputs": [],
   "source": [
    "src = cv.imread(\"OpenCV.png\")"
   ]
  },
  {
   "cell_type": "code",
   "execution_count": 3,
   "metadata": {},
   "outputs": [
    {
     "name": "stdout",
     "output_type": "stream",
     "text": [
      "600 487\n"
     ]
    }
   ],
   "source": [
    "h,w = src.shape[:2]\n",
    "print(h,w)"
   ]
  },
  {
   "cell_type": "code",
   "execution_count": 9,
   "metadata": {},
   "outputs": [],
   "source": [
    "# x ve y yönünde türevler alarak, \n",
    "# x yönündeki kenarları y yönündeki kenarları \n",
    "# bulmamızı sağlayan bilgileri elde ederiz.\n",
    "\n",
    "x_grad = cv.Sobel(src, cv.CV_32F, 1,0)\n",
    "y_grad = cv.Sobel(src, cv.CV_32F, 0,1)\n",
    "\n",
    "#Dönüştürme, Ölçeklendirme ve mutlak değerini alma;\n",
    "\n",
    "x_grad = cv.convertScaleAbs(x_grad)\n",
    "y_grad = cv.convertScaleAbs(y_grad)\n",
    "\n",
    "cv.imshow(\"x_grad\", x_grad)\n",
    "cv.waitKey(1)\n",
    "cv.imshow(\"y_grad\", y_grad)\n",
    "cv.waitKey(1)\n",
    "\n",
    "\n",
    "#2sini birleştirmek\n",
    "\n",
    "dst =cv.add(x_grad,y_grad, dtype=cv.CV_16S)\n",
    "\n",
    "dst = cv.convertScaleAbs(dst)\n",
    "\n",
    "cv.imshow(\"gradient\", dst)\n",
    "cv.waitKey(10000)\n",
    "cv.destroyAllWindows()"
   ]
  }
 ],
 "metadata": {
  "kernelspec": {
   "display_name": "Python 3",
   "language": "python",
   "name": "python3"
  },
  "language_info": {
   "codemirror_mode": {
    "name": "ipython",
    "version": 3
   },
   "file_extension": ".py",
   "mimetype": "text/x-python",
   "name": "python",
   "nbconvert_exporter": "python",
   "pygments_lexer": "ipython3",
   "version": "3.12.4"
  }
 },
 "nbformat": 4,
 "nbformat_minor": 2
}
