{
 "cells": [
  {
   "cell_type": "code",
   "execution_count": 1,
   "metadata": {},
   "outputs": [],
   "source": [
    "import cv2 as cv\n",
    "import numpy as np"
   ]
  },
  {
   "cell_type": "markdown",
   "metadata": {},
   "source": [
    "* Kenarları koruyarak filtreleme.\n",
    "* ana hatları korur."
   ]
  },
  {
   "cell_type": "code",
   "execution_count": 3,
   "metadata": {},
   "outputs": [],
   "source": [
    "src = cv.imread(\"tear2.png\")\n",
    "cv.imshow(\"input\",src)\n",
    "cv.waitKey(1000)\n",
    "cv.destroyAllWindows()"
   ]
  },
  {
   "cell_type": "code",
   "execution_count": 4,
   "metadata": {},
   "outputs": [
    {
     "name": "stdout",
     "output_type": "stream",
     "text": [
      "610 557\n"
     ]
    }
   ],
   "source": [
    "h, w = src.shape[:2]\n",
    "print(h,w)"
   ]
  },
  {
   "cell_type": "code",
   "execution_count": 10,
   "metadata": {},
   "outputs": [],
   "source": [
    "dst = cv.edgePreservingFilter(src, sigma_s=100, sigma_r=0.4, flags=cv.RECURS_FILTER)\n",
    "\n",
    "result = np.zeros([h,w*2,3],dtype=src.dtype)\n",
    "result[0:h,0:w,:]   = src\n",
    "result[0:h,w:2*w,:] = dst\n",
    "\n",
    "result = cv.resize(result, (w,h//2))\n",
    "cv.imshow(\"result\",result)\n",
    "cv.waitKey(10000)\n",
    "cv.destroyAllWindows()"
   ]
  },
  {
   "cell_type": "code",
   "execution_count": 11,
   "metadata": {},
   "outputs": [],
   "source": [
    "dst = cv.edgePreservingFilter(src, sigma_s=1000, sigma_r=0.4, flags=cv.RECURS_FILTER)\n",
    "\n",
    "result = np.zeros([h,w*2,3],dtype=src.dtype)\n",
    "result[0:h,0:w,:]   = src\n",
    "result[0:h,w:2*w,:] = dst\n",
    "\n",
    "result = cv.resize(result, (w,h//2))\n",
    "cv.imshow(\"result\",result)\n",
    "cv.waitKey(10000)\n",
    "cv.destroyAllWindows()"
   ]
  },
  {
   "cell_type": "code",
   "execution_count": 12,
   "metadata": {},
   "outputs": [],
   "source": [
    "dst = cv.edgePreservingFilter(src, sigma_s=100, sigma_r=0.04, flags=cv.RECURS_FILTER)\n",
    "\n",
    "result = np.zeros([h,w*2,3],dtype=src.dtype)\n",
    "result[0:h,0:w,:]   = src\n",
    "result[0:h,w:2*w,:] = dst\n",
    "\n",
    "result = cv.resize(result, (w,h//2))\n",
    "cv.imshow(\"result\",result)\n",
    "cv.waitKey(10000)\n",
    "cv.destroyAllWindows()"
   ]
  },
  {
   "cell_type": "code",
   "execution_count": 13,
   "metadata": {},
   "outputs": [],
   "source": [
    "dst = cv.edgePreservingFilter(src, sigma_s=100, sigma_r=0.99, flags=cv.RECURS_FILTER)\n",
    "\n",
    "result = np.zeros([h,w*2,3],dtype=src.dtype)\n",
    "result[0:h,0:w,:]   = src\n",
    "result[0:h,w:2*w,:] = dst\n",
    "\n",
    "result = cv.resize(result, (w,h//2))\n",
    "cv.imshow(\"result\",result)\n",
    "cv.waitKey(10000)\n",
    "cv.destroyAllWindows()"
   ]
  },
  {
   "cell_type": "code",
   "execution_count": 14,
   "metadata": {},
   "outputs": [],
   "source": [
    "dst = cv.edgePreservingFilter(src, sigma_s=10000, sigma_r=0.4, flags=cv.RECURS_FILTER)\n",
    "\n",
    "result = np.zeros([h,w*2,3],dtype=src.dtype)\n",
    "result[0:h,0:w,:]   = src\n",
    "result[0:h,w:2*w,:] = dst\n",
    "\n",
    "result = cv.resize(result, (w,h//2))\n",
    "cv.imshow(\"result\",result)\n",
    "cv.waitKey(10000)\n",
    "cv.destroyAllWindows()"
   ]
  },
  {
   "cell_type": "code",
   "execution_count": 15,
   "metadata": {},
   "outputs": [],
   "source": [
    "dst = cv.edgePreservingFilter(src, sigma_s=1000, sigma_r=0.6, flags=cv.RECURS_FILTER)\n",
    "\n",
    "result = np.zeros([h,w*2,3],dtype=src.dtype)\n",
    "result[0:h,0:w,:]   = src\n",
    "result[0:h,w:2*w,:] = dst\n",
    "\n",
    "result = cv.resize(result, (w,h//2))\n",
    "cv.imshow(\"result\",result)\n",
    "cv.waitKey(10000)\n",
    "cv.destroyAllWindows()"
   ]
  },
  {
   "cell_type": "code",
   "execution_count": 16,
   "metadata": {},
   "outputs": [],
   "source": [
    "dst = cv.edgePreservingFilter(src, sigma_s=10, sigma_r=0.9, flags=cv.RECURS_FILTER)\n",
    "\n",
    "result = np.zeros([h,w*2,3],dtype=src.dtype)\n",
    "result[0:h,0:w,:]   = src\n",
    "result[0:h,w:2*w,:] = dst\n",
    "\n",
    "result = cv.resize(result, (w,h//2))\n",
    "cv.imshow(\"result\",result)\n",
    "cv.waitKey(10000)\n",
    "cv.destroyAllWindows()"
   ]
  },
  {
   "cell_type": "code",
   "execution_count": 19,
   "metadata": {},
   "outputs": [],
   "source": [
    "dst = cv.edgePreservingFilter(src, sigma_s=10000, sigma_r=0.2, flags=cv.RECURS_FILTER)\n",
    "\n",
    "result = np.zeros([h,w*2,3],dtype=src.dtype)\n",
    "result[0:h,0:w,:]   = src\n",
    "result[0:h,w:2*w,:] = dst\n",
    "\n",
    "result = cv.resize(result, (w,h//2))\n",
    "cv.imshow(\"result\",result)\n",
    "cv.waitKey(10000)\n",
    "cv.destroyAllWindows()"
   ]
  }
 ],
 "metadata": {
  "kernelspec": {
   "display_name": "Python 3",
   "language": "python",
   "name": "python3"
  },
  "language_info": {
   "codemirror_mode": {
    "name": "ipython",
    "version": 3
   },
   "file_extension": ".py",
   "mimetype": "text/x-python",
   "name": "python",
   "nbconvert_exporter": "python",
   "pygments_lexer": "ipython3",
   "version": "3.12.4"
  }
 },
 "nbformat": 4,
 "nbformat_minor": 2
}
