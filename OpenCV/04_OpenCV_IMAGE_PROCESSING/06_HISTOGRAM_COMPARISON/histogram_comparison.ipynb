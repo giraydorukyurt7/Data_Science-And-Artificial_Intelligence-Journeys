{
 "cells": [
  {
   "cell_type": "markdown",
   "metadata": {},
   "source": [
    "![](histogram_compare_methods.png)"
   ]
  },
  {
   "cell_type": "code",
   "execution_count": 71,
   "metadata": {},
   "outputs": [],
   "source": [
    "import cv2 as cv"
   ]
  },
  {
   "cell_type": "code",
   "execution_count": 72,
   "metadata": {},
   "outputs": [],
   "source": [
    "src1 = cv.imread('OpenCV.png')\n",
    "src2 = cv.imread('lion.png')\n",
    "src3 = cv.imread('python-logo.png')\n",
    "src4 = cv.imread('eiffel.png')"
   ]
  },
  {
   "cell_type": "code",
   "execution_count": 73,
   "metadata": {},
   "outputs": [],
   "source": [
    "#renk uzayını rgb'den hsv'ye geçiriyoruz\n",
    "#çünkü hsv nesne ayırmayı kolaylaştırır.\n",
    "\n",
    "hsv1 = cv.cvtColor(src1, cv.COLOR_BGR2HSV)\n",
    "hsv2 = cv.cvtColor(src2, cv.COLOR_BGR2HSV)\n",
    "hsv3 = cv.cvtColor(src3, cv.COLOR_BGR2HSV)\n",
    "hsv4 = cv.cvtColor(src4, cv.COLOR_BGR2HSV)"
   ]
  },
  {
   "cell_type": "code",
   "execution_count": 74,
   "metadata": {},
   "outputs": [],
   "source": [
    "#histogram hesaplatma\n",
    "\n",
    "hist1 = cv.calcHist([hsv1], [0,1], None, [60,64], [0,180,0,256])\n",
    "hist2 = cv.calcHist([hsv2], [0,1], None, [60,64], [0,180,0,256])\n",
    "hist3 = cv.calcHist([hsv3], [0,1], None, [60,64], [0,180,0,256])\n",
    "hist4 = cv.calcHist([hsv4], [0,1], None, [60,64], [0,180,0,256])"
   ]
  },
  {
   "cell_type": "code",
   "execution_count": 75,
   "metadata": {},
   "outputs": [
    {
     "data": {
      "text/plain": [
       "array([[2.8959659e-01, 2.4573224e-02, 1.6075941e-02, ..., 0.0000000e+00,\n",
       "        0.0000000e+00, 4.4629872e-02],\n",
       "       [0.0000000e+00, 6.1241677e-04, 6.3538239e-03, ..., 3.0620839e-04,\n",
       "        7.6552096e-05, 5.5883029e-03],\n",
       "       [0.0000000e+00, 4.5701601e-02, 4.3940902e-02, ..., 0.0000000e+00,\n",
       "        0.0000000e+00, 4.1338131e-03],\n",
       "       ...,\n",
       "       [0.0000000e+00, 3.5826381e-02, 1.0257981e-02, ..., 0.0000000e+00,\n",
       "        0.0000000e+00, 5.3586467e-04],\n",
       "       [0.0000000e+00, 1.2248335e-03, 5.3586467e-04, ..., 0.0000000e+00,\n",
       "        0.0000000e+00, 9.9517731e-04],\n",
       "       [0.0000000e+00, 0.0000000e+00, 2.0133201e-02, ..., 0.0000000e+00,\n",
       "        0.0000000e+00, 9.9517731e-04]], dtype=float32)"
      ]
     },
     "execution_count": 75,
     "metadata": {},
     "output_type": "execute_result"
    }
   ],
   "source": [
    "#Normalization\n",
    "cv.normalize(hist1,hist1,0,1.0,cv.NORM_MINMAX)\n",
    "cv.normalize(hist2,hist2,0,1.0,cv.NORM_MINMAX)\n",
    "cv.normalize(hist3,hist3,0,1.0,cv.NORM_MINMAX)\n",
    "cv.normalize(hist4,hist4,0,1.0,cv.NORM_MINMAX)"
   ]
  },
  {
   "cell_type": "code",
   "execution_count": 76,
   "metadata": {},
   "outputs": [],
   "source": [
    "# Compare Histograms\n",
    "\n",
    "#HISTCMP_CORREL -->Korelasyon\n",
    "#HISTCMP_CHISQR -->Chi-Square\n",
    "\n",
    "def comparingHist(hist,hist_name,method):\n",
    "    length = len(hist)\n",
    "    print(\"Method No:\"+ str(method))\n",
    "    for i in range(length):\n",
    "        for j in range(length):\n",
    "            print(hist_name[i]+' vs '+hist_name[j]+' : '+str(cv.compareHist(hist[i],hist[j],method)))"
   ]
  },
  {
   "cell_type": "code",
   "execution_count": 77,
   "metadata": {},
   "outputs": [
    {
     "name": "stdout",
     "output_type": "stream",
     "text": [
      "Method No:0\n",
      "OpenCV vs OpenCV : 1.0\n",
      "OpenCV vs lion : 0.02293467345574245\n",
      "OpenCV vs python-logo : 0.9735308867525178\n",
      "OpenCV vs eiffel : 0.09949130457805766\n",
      "lion vs OpenCV : 0.02293467345574245\n",
      "lion vs lion : 1.0\n",
      "lion vs python-logo : 0.019413827464697428\n",
      "lion vs eiffel : 0.014506073699844824\n",
      "python-logo vs OpenCV : 0.9735308867525178\n",
      "python-logo vs lion : 0.019413827464697428\n",
      "python-logo vs python-logo : 1.0\n",
      "python-logo vs eiffel : 0.10004502903414023\n",
      "eiffel vs OpenCV : 0.09949130457805766\n",
      "eiffel vs lion : 0.014506073699844824\n",
      "eiffel vs python-logo : 0.10004502903414023\n",
      "eiffel vs eiffel : 1.0\n"
     ]
    }
   ],
   "source": [
    "hists = [hist1, hist2, hist3, hist4]\n",
    "hist_names = ['OpenCV','lion','python-logo','eiffel']\n",
    "\n",
    "comparingHist(hists,hist_names,cv.HISTCMP_CORREL)"
   ]
  },
  {
   "cell_type": "code",
   "execution_count": 78,
   "metadata": {},
   "outputs": [
    {
     "name": "stdout",
     "output_type": "stream",
     "text": [
      "Method No:1\n",
      "OpenCV vs OpenCV : 0.0\n",
      "OpenCV vs lion : 413.2390695013792\n",
      "OpenCV vs python-logo : 0.4312565592397687\n",
      "OpenCV vs eiffel : 28.06264106316934\n",
      "lion vs OpenCV : 182.5562751774248\n",
      "lion vs lion : 0.0\n",
      "lion vs python-logo : 81.91855765912217\n",
      "lion vs eiffel : 9953.80019471025\n",
      "python-logo vs OpenCV : 0.24005139318974228\n",
      "python-logo vs lion : 67283.73535020578\n",
      "python-logo vs python-logo : 0.0\n",
      "python-logo vs eiffel : 23778.765823095717\n",
      "eiffel vs OpenCV : 32.35720818341605\n",
      "eiffel vs lion : 10307.59551173829\n",
      "eiffel vs python-logo : 31.49363713739539\n",
      "eiffel vs eiffel : 0.0\n"
     ]
    }
   ],
   "source": [
    "comparingHist(hists,hist_names,cv.HISTCMP_CHISQR)"
   ]
  }
 ],
 "metadata": {
  "kernelspec": {
   "display_name": "Python 3",
   "language": "python",
   "name": "python3"
  },
  "language_info": {
   "codemirror_mode": {
    "name": "ipython",
    "version": 3
   },
   "file_extension": ".py",
   "mimetype": "text/x-python",
   "name": "python",
   "nbconvert_exporter": "python",
   "pygments_lexer": "ipython3",
   "version": "3.12.4"
  }
 },
 "nbformat": 4,
 "nbformat_minor": 2
}
