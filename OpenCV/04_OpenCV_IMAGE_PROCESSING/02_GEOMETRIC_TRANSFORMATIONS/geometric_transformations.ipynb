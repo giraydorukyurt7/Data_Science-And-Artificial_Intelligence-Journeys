{
 "cells": [
  {
   "cell_type": "code",
   "execution_count": 22,
   "metadata": {},
   "outputs": [],
   "source": [
    "import cv2 as cv\n",
    "import numpy as np"
   ]
  },
  {
   "cell_type": "code",
   "execution_count": 23,
   "metadata": {},
   "outputs": [],
   "source": [
    "# Shifting\n",
    "\n",
    "img = cv.imread(\"lion.png\")\n",
    "\n",
    "rows = img.shape[0]\n",
    "cols = img.shape[1]\n",
    "\n",
    "M = np.float32([[1, 0, 300], [0, 1, 90]])\n",
    "shifted = cv.warpAffine(img, M, (cols, rows)) # Affine dönüşümü\n",
    "\n",
    "cv.imshow('original', img)\n",
    "cv.imshow('shifted', shifted)\n",
    "cv.waitKey(10000)\n",
    "cv.destroyAllWindows()"
   ]
  },
  {
   "cell_type": "code",
   "execution_count": 24,
   "metadata": {},
   "outputs": [],
   "source": [
    "# rotation\n",
    "\n",
    "M = cv.getRotationMatrix2D((cols/2,rows/2), 90, 1)\n",
    "dst = cv.warpAffine(img, M, (cols,rows))\n",
    "cv.imshow('original', img)\n",
    "cv.imshow('rotated', dst)\n",
    "cv.waitKey(10000)\n",
    "cv.destroyAllWindows()"
   ]
  },
  {
   "cell_type": "code",
   "execution_count": 25,
   "metadata": {},
   "outputs": [],
   "source": [
    "cv.destroyAllWindows()"
   ]
  },
  {
   "cell_type": "code",
   "execution_count": 26,
   "metadata": {},
   "outputs": [],
   "source": [
    "#scaling\n",
    "res = cv.resize(img, None, fx=0.2, fy=0.2, interpolation=cv.INTER_CUBIC)\n",
    "cv.imshow('original', img)\n",
    "cv.imshow('scaled', res)\n",
    "cv.waitKey(10000)\n",
    "cv.destroyAllWindows()"
   ]
  },
  {
   "cell_type": "code",
   "execution_count": 28,
   "metadata": {},
   "outputs": [],
   "source": [
    "#scaled image; shifting and rotation\n",
    "\n",
    "#new rows and columns values;\n",
    "rows_s = res.shape[0]\n",
    "cols_s = res.shape[1]\n",
    "\n",
    "#shifting\n",
    "M = np.float32([[1, 0, 100], [0, 1, 90]])\n",
    "shifted_s = cv.warpAffine(res, M, (cols_s, rows_s))\n",
    "\n",
    "#rotating\n",
    "M = cv.getRotationMatrix2D((cols_s/2,rows_s/2), 90, 1)\n",
    "dst_s = cv.warpAffine(res, M, (cols_s,rows_s))\n",
    "\n",
    "\n",
    "cv.imshow('original', img)\n",
    "cv.imshow('scaled and shifted', shifted_s)\n",
    "cv.imshow('scaled and rotated', dst_s)\n",
    "\n",
    "cv.waitKey(10000)\n",
    "cv.destroyAllWindows()"
   ]
  }
 ],
 "metadata": {
  "kernelspec": {
   "display_name": "Python 3",
   "language": "python",
   "name": "python3"
  },
  "language_info": {
   "codemirror_mode": {
    "name": "ipython",
    "version": 3
   },
   "file_extension": ".py",
   "mimetype": "text/x-python",
   "name": "python",
   "nbconvert_exporter": "python",
   "pygments_lexer": "ipython3",
   "version": "3.12.4"
  }
 },
 "nbformat": 4,
 "nbformat_minor": 2
}
