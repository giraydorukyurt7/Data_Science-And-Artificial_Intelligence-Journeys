{
 "cells": [
  {
   "cell_type": "code",
   "execution_count": 1,
   "metadata": {},
   "outputs": [],
   "source": [
    "import cv2 as cv\n",
    "import numpy as np"
   ]
  },
  {
   "cell_type": "code",
   "execution_count": 2,
   "metadata": {},
   "outputs": [],
   "source": [
    "# Resmi oku\n",
    "#src = cv.imread(\"messi.png\")\n",
    "src = cv.imread(\"cat.png\")\n",
    "\n",
    "# Resmi yeniden boyutlandır\n",
    "src = cv.resize(src, (0,0), fx=0.5, fy=0.5)\n",
    "\n",
    "# ROI Seçimi\n",
    "r   = cv.selectROI('input', src, False)"
   ]
  },
  {
   "cell_type": "code",
   "execution_count": 3,
   "metadata": {},
   "outputs": [],
   "source": [
    "# ROI Kırpma (ilgili bölgenin sadece o kısmını çıkarma)\n",
    "roi = src[int(r[1]):int(r[1]+r[3]),\n",
    "          int(r[0]):int(r[0]+r[2])]"
   ]
  },
  {
   "cell_type": "code",
   "execution_count": 4,
   "metadata": {},
   "outputs": [],
   "source": [
    "# Görüntüye dikdörgen çizme\n",
    "img = src.copy()\n",
    "cv.rectangle(img, \n",
    "             (int(r[0]),  int(r[1])),                            # Dikdörtgenin sol üst köşesi\n",
    "             ((int(r[0]) + int(r[2])), (int(r[1]) + int(r[3]))), # Dikdörtgenin sağ alt köşesi\n",
    "             (255, 0, 0), # Dikdörtgenin rengi (mavi)\n",
    "             2);          # Çizgi kalınlığı"
   ]
  },
  {
   "cell_type": "code",
   "execution_count": 5,
   "metadata": {},
   "outputs": [],
   "source": [
    "# GrabCut algoritması için gerekli maskeler\n",
    "mask = np.zeros(src.shape[:2], dtype=np.uint8) # Maske: başlangıçta siyah (0)\n",
    "bgdmodel = np.zeros((1, 65), np.float64) # Arka plan modeli (boş dizi)\n",
    "fgdmodel = np.zeros((1, 65), np.float64) # Ön plan modeli (boş dizi)"
   ]
  },
  {
   "cell_type": "code",
   "execution_count": 6,
   "metadata": {},
   "outputs": [],
   "source": [
    "# Seçilen bölgeyi arka plandan ayırmak için GrabCut algoritmasını kullanma\n",
    "rect = (int(r[0]), int(r[1]), int(r[2]), int(r[3]))  # ROI'nin rect formatı: (x, y, width, height)\n",
    "cv.grabCut(src, \n",
    "           mask,                        # Güncellenecek maske\n",
    "           rect,                        # Dikdörtgen koordinatları\n",
    "           bgdmodel,                    # Arka plan modeli\n",
    "           fgdmodel,                    # Ön plan modeli\n",
    "           100,                         # İterasyon sayısı\n",
    "           mode=cv.GC_INIT_WITH_RECT);  # Dikdörtgen modu kullan"
   ]
  },
  {
   "cell_type": "markdown",
   "metadata": {},
   "source": [
    "Not: iterasyon sayisi ile uğraşarak iyileştirmeler yapılabilir."
   ]
  },
  {
   "cell_type": "code",
   "execution_count": 7,
   "metadata": {},
   "outputs": [],
   "source": [
    "# Maske ve sonucu oluşturma\n",
    "\n",
    "# Maskeyi güncelle (1 ve 3 olan pikseller ön plandır, geri kalanlar arka plan)\n",
    "mask2 = np.where((mask==1)+(mask==3), \n",
    "                 255, \n",
    "                 0\n",
    "                 ).astype('uint8')\n",
    "\n",
    "# Sonucu bitwise_and ile görüntüye uygula (arka planı sil)\n",
    "result = cv.bitwise_and(src, \n",
    "                        src, \n",
    "                        mask=mask2)"
   ]
  },
  {
   "cell_type": "code",
   "execution_count": 8,
   "metadata": {},
   "outputs": [
    {
     "data": {
      "text/plain": [
       "27"
      ]
     },
     "execution_count": 8,
     "metadata": {},
     "output_type": "execute_result"
    }
   ],
   "source": [
    "# Sonuçları göster\n",
    "cv.imshow('roi', roi)\n",
    "cv.imshow('result', result)\n",
    "cv.waitKey(0)"
   ]
  },
  {
   "cell_type": "code",
   "execution_count": 9,
   "metadata": {},
   "outputs": [],
   "source": [
    "cv.destroyAllWindows()"
   ]
  },
  {
   "cell_type": "markdown",
   "metadata": {},
   "source": [
    "![](ss_of_results_of_grabcut_image_segmentation_1.png)"
   ]
  },
  {
   "cell_type": "markdown",
   "metadata": {},
   "source": [
    "![](ss_of_results_of_grabcut_image_segmentation_2.png)"
   ]
  },
  {
   "cell_type": "markdown",
   "metadata": {},
   "source": [
    "![](ss_of_results_of_grabcut_image_segmentation_3.png)"
   ]
  }
 ],
 "metadata": {
  "kernelspec": {
   "display_name": "Python 3",
   "language": "python",
   "name": "python3"
  },
  "language_info": {
   "codemirror_mode": {
    "name": "ipython",
    "version": 3
   },
   "file_extension": ".py",
   "mimetype": "text/x-python",
   "name": "python",
   "nbconvert_exporter": "python",
   "pygments_lexer": "ipython3",
   "version": "3.12.4"
  }
 },
 "nbformat": 4,
 "nbformat_minor": 2
}
