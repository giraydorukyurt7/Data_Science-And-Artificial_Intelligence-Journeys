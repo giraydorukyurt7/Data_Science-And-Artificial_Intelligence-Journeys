{
 "cells": [
  {
   "cell_type": "code",
   "execution_count": 219,
   "metadata": {},
   "outputs": [],
   "source": [
    "import cv2 as cv\n",
    "import numpy as np\n",
    "import os"
   ]
  },
  {
   "cell_type": "code",
   "execution_count": 220,
   "metadata": {},
   "outputs": [],
   "source": [
    "current_dir = os.getcwd()"
   ]
  },
  {
   "cell_type": "code",
   "execution_count": 221,
   "metadata": {},
   "outputs": [],
   "source": [
    "# kenar tespidi için Canny\n",
    "def canny_demo(image):\n",
    "    t = 100 #threshold\n",
    "    canny_output = cv.Canny(image, t, t*2)\n",
    "    return canny_output"
   ]
  },
  {
   "cell_type": "code",
   "execution_count": 222,
   "metadata": {},
   "outputs": [
    {
     "data": {
      "text/plain": [
       "-1"
      ]
     },
     "execution_count": 222,
     "metadata": {},
     "output_type": "execute_result"
    }
   ],
   "source": [
    "src = cv.imread(\"sudoku.png\")\n",
    "cv.namedWindow(\"input\", cv.WINDOW_AUTOSIZE)\n",
    "cv.imshow(\"input\", src)\n",
    "cv.waitKey(1)"
   ]
  },
  {
   "cell_type": "code",
   "execution_count": 223,
   "metadata": {},
   "outputs": [
    {
     "data": {
      "text/plain": [
       "True"
      ]
     },
     "execution_count": 223,
     "metadata": {},
     "output_type": "execute_result"
    }
   ],
   "source": [
    "binary = canny_demo(src)\n",
    "cv.imshow(\"binary\", binary)\n",
    "cv.waitKey(1)\n",
    "\n",
    "binary_image_path = os.path.join(current_dir, \"binary_image.png\")\n",
    "cv.imwrite(binary_image_path, binary)  # binary görüntüyü kaydet"
   ]
  },
  {
   "cell_type": "code",
   "execution_count": 224,
   "metadata": {},
   "outputs": [
    {
     "data": {
      "text/plain": [
       "True"
      ]
     },
     "execution_count": 224,
     "metadata": {},
     "output_type": "execute_result"
    }
   ],
   "source": [
    "lines = cv.HoughLines(binary, 1, np.pi/180, 122, None, 0 ,0)\n",
    "if lines is not None:\n",
    "    for i in range(0, len(lines)):\n",
    "        rho   = lines[i][0][0]\n",
    "        theta = lines[i][0][1]\n",
    "        a     = np.cos(theta)\n",
    "        b     = np.sin(theta)\n",
    "        x0    = a * rho\n",
    "        y0    = b * rho\n",
    "        pt1   = (int(x0 + 1000 * (-b)), int(y0 + 1000 * a))\n",
    "        pt2   = (int(x0 - 1000 * (-b)), int(y0 - 1000 * a))\n",
    "        cv.line(src, pt1, pt2, (0,0,255), 3, cv.LINE_AA)\n",
    "\n",
    "\n",
    "cv.imshow(\"hough-line-demo\", src)\n",
    "cv.waitKey(0)\n",
    "\n",
    "hough_image_path = os.path.join(current_dir, \"hough_lines_image.png\")\n",
    "cv.imwrite(hough_image_path, src)  # Hough Lines sonucu görüntüyü kayde"
   ]
  },
  {
   "cell_type": "code",
   "execution_count": 225,
   "metadata": {},
   "outputs": [],
   "source": [
    "cv.destroyAllWindows()"
   ]
  }
 ],
 "metadata": {
  "kernelspec": {
   "display_name": "Python 3",
   "language": "python",
   "name": "python3"
  },
  "language_info": {
   "codemirror_mode": {
    "name": "ipython",
    "version": 3
   },
   "file_extension": ".py",
   "mimetype": "text/x-python",
   "name": "python",
   "nbconvert_exporter": "python",
   "pygments_lexer": "ipython3",
   "version": "3.12.4"
  }
 },
 "nbformat": 4,
 "nbformat_minor": 2
}
