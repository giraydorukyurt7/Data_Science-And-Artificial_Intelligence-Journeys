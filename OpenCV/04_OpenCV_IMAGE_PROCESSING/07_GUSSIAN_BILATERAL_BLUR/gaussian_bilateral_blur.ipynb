{
 "cells": [
  {
   "cell_type": "code",
   "execution_count": 4,
   "metadata": {},
   "outputs": [],
   "source": [
    "import cv2 as cv\n",
    "import numpy as np"
   ]
  },
  {
   "cell_type": "code",
   "execution_count": 5,
   "metadata": {},
   "outputs": [],
   "source": [
    "#gürültüyü azaltır.\n",
    "src = cv.imread(\"tear.png\")\n",
    "cv.namedWindow(\"input\", cv.WINDOW_AUTOSIZE)\n",
    "cv.imshow(\"input\",src)\n",
    "cv.waitKey(2000)\n",
    "cv.destroyAllWindows()"
   ]
  },
  {
   "cell_type": "code",
   "execution_count": 6,
   "metadata": {},
   "outputs": [
    {
     "name": "stdout",
     "output_type": "stream",
     "text": [
      "640 495\n"
     ]
    }
   ],
   "source": [
    "h, w = src.shape[:2]\n",
    "print(h,w)"
   ]
  },
  {
   "cell_type": "code",
   "execution_count": 7,
   "metadata": {},
   "outputs": [],
   "source": [
    "dst = cv.bilateralFilter(src, 0, 50, 10) #resim, pixel komşu çapı, renklerin karışma şiddeti(blur şiddeti), kaç pixelin karışacağı."
   ]
  },
  {
   "cell_type": "code",
   "execution_count": 8,
   "metadata": {},
   "outputs": [],
   "source": [
    "result = np.zeros([h,w*2,3],dtype=src.dtype)\n",
    "result[0:h,0:w,:]= src\n",
    "result[0:h,w:2*w,:] = dst\n",
    "cv.imshow(\"result\",result)\n",
    "cv.waitKey(10000)\n",
    "cv.destroyAllWindows()"
   ]
  },
  {
   "cell_type": "code",
   "execution_count": 10,
   "metadata": {},
   "outputs": [],
   "source": [
    "dst = cv.bilateralFilter(src, 0, 200, 20)\n",
    "result = np.zeros([h,w*2,3],dtype=src.dtype)\n",
    "result[0:h,0:w,:]= src\n",
    "result[0:h,w:2*w,:] = dst\n",
    "cv.imshow(\"result\",result)\n",
    "cv.waitKey(10000)\n",
    "cv.destroyAllWindows()"
   ]
  },
  {
   "cell_type": "code",
   "execution_count": 11,
   "metadata": {},
   "outputs": [],
   "source": [
    "dst = cv.bilateralFilter(src, 0, 500, 20)\n",
    "result = np.zeros([h,w*2,3],dtype=src.dtype)\n",
    "result[0:h,0:w,:]= src\n",
    "result[0:h,w:2*w,:] = dst\n",
    "cv.imshow(\"result\",result)\n",
    "cv.waitKey(10000)\n",
    "cv.destroyAllWindows()"
   ]
  },
  {
   "cell_type": "code",
   "execution_count": 12,
   "metadata": {},
   "outputs": [],
   "source": [
    "dst = cv.bilateralFilter(src, 0, 1000, 20)\n",
    "result = np.zeros([h,w*2,3],dtype=src.dtype)\n",
    "result[0:h,0:w,:]= src\n",
    "result[0:h,w:2*w,:] = dst\n",
    "cv.imshow(\"result\",result)\n",
    "cv.waitKey(10000)\n",
    "cv.destroyAllWindows()"
   ]
  },
  {
   "cell_type": "code",
   "execution_count": 13,
   "metadata": {},
   "outputs": [
    {
     "name": "stdout",
     "output_type": "stream",
     "text": [
      "610 557\n"
     ]
    }
   ],
   "source": [
    "src = cv.imread(\"tear2.png\")\n",
    "cv.namedWindow(\"input\", cv.WINDOW_AUTOSIZE)\n",
    "cv.imshow(\"input\",src)\n",
    "cv.waitKey(2000)\n",
    "cv.destroyAllWindows()\n",
    "\n",
    "h, w = src.shape[:2]\n",
    "print(h,w)\n",
    "\n",
    "dst = cv.bilateralFilter(src, 0, 50, 10)\n",
    "result = np.zeros([h,w*2,3],dtype=src.dtype)\n",
    "result[0:h,0:w,:]= src\n",
    "result[0:h,w:2*w,:] = dst\n",
    "cv.imshow(\"result\",result)\n",
    "cv.waitKey(10000)\n",
    "cv.destroyAllWindows()\n",
    "\n",
    "dst = cv.bilateralFilter(src, 0, 200, 20)\n",
    "result = np.zeros([h,w*2,3],dtype=src.dtype)\n",
    "result[0:h,0:w,:]= src\n",
    "result[0:h,w:2*w,:] = dst\n",
    "cv.imshow(\"result\",result)\n",
    "cv.waitKey(10000)\n",
    "cv.destroyAllWindows()\n",
    "\n",
    "dst = cv.bilateralFilter(src, 0, 500, 20)\n",
    "result = np.zeros([h,w*2,3],dtype=src.dtype)\n",
    "result[0:h,0:w,:]= src\n",
    "result[0:h,w:2*w,:] = dst\n",
    "cv.imshow(\"result\",result)\n",
    "cv.waitKey(10000)\n",
    "cv.destroyAllWindows()"
   ]
  }
 ],
 "metadata": {
  "kernelspec": {
   "display_name": "Python 3",
   "language": "python",
   "name": "python3"
  },
  "language_info": {
   "codemirror_mode": {
    "name": "ipython",
    "version": 3
   },
   "file_extension": ".py",
   "mimetype": "text/x-python",
   "name": "python",
   "nbconvert_exporter": "python",
   "pygments_lexer": "ipython3",
   "version": "3.12.4"
  }
 },
 "nbformat": 4,
 "nbformat_minor": 2
}
