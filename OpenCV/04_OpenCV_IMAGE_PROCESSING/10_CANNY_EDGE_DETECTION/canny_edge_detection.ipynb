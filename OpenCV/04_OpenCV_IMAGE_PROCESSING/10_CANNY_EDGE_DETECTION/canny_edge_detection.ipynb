{
 "cells": [
  {
   "cell_type": "code",
   "execution_count": 14,
   "metadata": {},
   "outputs": [],
   "source": [
    "import cv2 as cv\n",
    "import numpy as np"
   ]
  },
  {
   "cell_type": "markdown",
   "metadata": {},
   "source": [
    "* kenar tespiti.\n",
    "* pixellerin renk farklılaşmasından yararlanır."
   ]
  },
  {
   "cell_type": "code",
   "execution_count": 15,
   "metadata": {},
   "outputs": [
    {
     "data": {
      "text/plain": [
       "-1"
      ]
     },
     "execution_count": 15,
     "metadata": {},
     "output_type": "execute_result"
    }
   ],
   "source": [
    "src = cv.imread(\"keanu.png\")\n",
    "cv.imshow(\"Keanu\", src)\n",
    "cv.waitKey(1)"
   ]
  },
  {
   "cell_type": "code",
   "execution_count": 16,
   "metadata": {},
   "outputs": [],
   "source": [
    "edge = cv.Canny(src, 100, 300) #kenarları daha güçlü yapmak için\n",
    "cv.imshow(\"Canny\", edge)\n",
    "cv.waitKey(10000)\n",
    "cv.destroyAllWindows()\n",
    "\n",
    "edge = cv.Canny(src, 1000, 300)\n",
    "cv.imshow(\"Canny2\", edge)\n",
    "cv.waitKey(100)\n",
    "\n",
    "edge = cv.Canny(src, 100, 3000)\n",
    "cv.imshow(\"Canny3\", edge)\n",
    "cv.waitKey(100)\n",
    "\n",
    "edge = cv.Canny(src, 1000, 3000)\n",
    "cv.imshow(\"Canny4\", edge)\n",
    "cv.waitKey(100)\n",
    "\n",
    "edge = cv.Canny(src, 10000, 30)\n",
    "cv.imshow(\"Canny5\", edge)\n",
    "cv.waitKey(100)\n",
    "\n",
    "edge = cv.Canny(src, 10, 3000)\n",
    "cv.imshow(\"Canny6\", edge)\n",
    "cv.waitKey(100)\n",
    "\n",
    "edge = cv.Canny(src, 10, 30)\n",
    "cv.imshow(\"Canny7\", edge)\n",
    "cv.waitKey(100)\n",
    "\n",
    "edge = cv.Canny(src, 1, 3)\n",
    "cv.imshow(\"Canny8\", edge)\n",
    "cv.waitKey(20000)\n",
    "\n",
    "cv.destroyAllWindows()"
   ]
  }
 ],
 "metadata": {
  "kernelspec": {
   "display_name": "Python 3",
   "language": "python",
   "name": "python3"
  },
  "language_info": {
   "codemirror_mode": {
    "name": "ipython",
    "version": 3
   },
   "file_extension": ".py",
   "mimetype": "text/x-python",
   "name": "python",
   "nbconvert_exporter": "python",
   "pygments_lexer": "ipython3",
   "version": "3.12.4"
  }
 },
 "nbformat": 4,
 "nbformat_minor": 2
}
