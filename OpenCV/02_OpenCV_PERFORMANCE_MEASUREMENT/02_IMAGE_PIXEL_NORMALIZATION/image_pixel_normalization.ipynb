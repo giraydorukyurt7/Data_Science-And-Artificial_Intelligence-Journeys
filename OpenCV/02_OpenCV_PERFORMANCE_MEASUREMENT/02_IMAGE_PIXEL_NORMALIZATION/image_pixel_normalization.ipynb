{
 "cells": [
  {
   "cell_type": "code",
   "execution_count": 70,
   "metadata": {},
   "outputs": [],
   "source": [
    "import cv2 as cv\n",
    "import numpy as np"
   ]
  },
  {
   "cell_type": "code",
   "execution_count": 71,
   "metadata": {},
   "outputs": [],
   "source": [
    "path = \"OpenCV.png\"\n",
    "src  = cv.imread(path)"
   ]
  },
  {
   "cell_type": "code",
   "execution_count": 72,
   "metadata": {},
   "outputs": [
    {
     "data": {
      "text/plain": [
       "(600, 487, 3)"
      ]
     },
     "execution_count": 72,
     "metadata": {},
     "output_type": "execute_result"
    }
   ],
   "source": [
    "src.shape"
   ]
  },
  {
   "cell_type": "code",
   "execution_count": 73,
   "metadata": {},
   "outputs": [
    {
     "data": {
      "text/plain": [
       "(600, 487)"
      ]
     },
     "execution_count": 73,
     "metadata": {},
     "output_type": "execute_result"
    }
   ],
   "source": [
    "gray = cv.cvtColor(src, cv.COLOR_BGR2GRAY)\n",
    "cv.imshow(\"gray\", gray)\n",
    "cv.waitKey(1000)\n",
    "cv.destroyAllWindows()\n",
    "gray.shape"
   ]
  },
  {
   "cell_type": "code",
   "execution_count": 74,
   "metadata": {},
   "outputs": [
    {
     "name": "stdout",
     "output_type": "stream",
     "text": [
      "[[255 255 255 ... 255 255 255]\n",
      " [255 255 255 ... 255 255 255]\n",
      " [255 255 255 ... 255 255 255]\n",
      " ...\n",
      " [255 255 255 ... 255 255 255]\n",
      " [255 255 255 ... 255 255 255]\n",
      " [255 255 255 ... 255 255 255]]\n"
     ]
    }
   ],
   "source": [
    "print(gray)"
   ]
  },
  {
   "cell_type": "code",
   "execution_count": 75,
   "metadata": {},
   "outputs": [
    {
     "name": "stdout",
     "output_type": "stream",
     "text": [
      "[[255. 255. 255. ... 255. 255. 255.]\n",
      " [255. 255. 255. ... 255. 255. 255.]\n",
      " [255. 255. 255. ... 255. 255. 255.]\n",
      " ...\n",
      " [255. 255. 255. ... 255. 255. 255.]\n",
      " [255. 255. 255. ... 255. 255. 255.]\n",
      " [255. 255. 255. ... 255. 255. 255.]]\n"
     ]
    }
   ],
   "source": [
    "#ondalik yapmamiz lazim normallestirme icin;\n",
    "gray = np.float32(gray)\n",
    "print(gray)"
   ]
  },
  {
   "cell_type": "code",
   "execution_count": 76,
   "metadata": {},
   "outputs": [
    {
     "name": "stdout",
     "output_type": "stream",
     "text": [
      "0.0 255.0 (42, 477) (0, 0)\n"
     ]
    }
   ],
   "source": [
    "min_value, max_value, min_loc, max_loc = cv.minMaxLoc(gray)\n",
    "print(min_value, max_value, min_loc, max_loc)"
   ]
  },
  {
   "cell_type": "code",
   "execution_count": 77,
   "metadata": {},
   "outputs": [
    {
     "name": "stdout",
     "output_type": "stream",
     "text": [
      "[[188.51469199]] [[94.02781949]]\n"
     ]
    }
   ],
   "source": [
    "means, stddev = cv.meanStdDev(gray)\n",
    "print(means, stddev)"
   ]
  },
  {
   "cell_type": "code",
   "execution_count": 78,
   "metadata": {},
   "outputs": [
    {
     "data": {
      "text/plain": [
       "array([[1., 1., 1., ..., 1., 1., 1.],\n",
       "       [1., 1., 1., ..., 1., 1., 1.],\n",
       "       [1., 1., 1., ..., 1., 1., 1.],\n",
       "       ...,\n",
       "       [1., 1., 1., ..., 1., 1., 1.],\n",
       "       [1., 1., 1., ..., 1., 1., 1.],\n",
       "       [1., 1., 1., ..., 1., 1., 1.]], dtype=float32)"
      ]
     },
     "execution_count": 78,
     "metadata": {},
     "output_type": "execute_result"
    }
   ],
   "source": [
    "dst = np.zeros(gray.shape, dtype=np.float32) # ayni boyutta 0'lar matrisi\n",
    "\n",
    "cv.normalize(gray, dst=dst, alpha=0, beta=1.0, norm_type=cv.NORM_MINMAX)"
   ]
  },
  {
   "cell_type": "code",
   "execution_count": 79,
   "metadata": {},
   "outputs": [
    {
     "data": {
      "text/plain": [
       "array([1.        , 1.        , 1.        , 1.        , 1.        ,\n",
       "       1.        , 1.        , 1.        , 1.        , 1.        ,\n",
       "       1.        , 1.        , 1.        , 1.        , 1.        ,\n",
       "       1.        , 1.        , 1.        , 1.        , 1.        ,\n",
       "       1.        , 1.        , 1.        , 1.        , 1.        ,\n",
       "       1.        , 1.        , 1.        , 1.        , 1.        ,\n",
       "       1.        , 1.        , 1.        , 1.        , 1.        ,\n",
       "       1.        , 1.        , 1.        , 1.        , 1.        ,\n",
       "       1.        , 1.        , 1.        , 1.        , 1.        ,\n",
       "       1.        , 1.        , 1.        , 1.        , 1.        ,\n",
       "       1.        , 1.        , 1.        , 1.        , 1.        ,\n",
       "       1.        , 1.        , 1.        , 1.        , 1.        ,\n",
       "       1.        , 1.        , 1.        , 1.        , 1.        ,\n",
       "       1.        , 1.        , 1.        , 1.        , 1.        ,\n",
       "       1.        , 1.        , 1.        , 1.        , 1.        ,\n",
       "       1.        , 1.        , 1.        , 1.        , 1.        ,\n",
       "       1.        , 1.        , 1.        , 1.        , 1.        ,\n",
       "       1.        , 1.        , 1.        , 1.        , 1.        ,\n",
       "       1.        , 1.        , 1.        , 1.        , 1.        ,\n",
       "       1.        , 1.        , 1.        , 1.        , 1.        ,\n",
       "       1.        , 1.        , 1.        , 1.        , 1.        ,\n",
       "       1.        , 1.        , 1.        , 1.        , 1.        ,\n",
       "       1.        , 1.        , 1.        , 1.        , 1.        ,\n",
       "       1.        , 1.        , 1.        , 1.        , 1.        ,\n",
       "       1.        , 1.        , 1.        , 1.        , 1.        ,\n",
       "       1.        , 1.        , 1.        , 1.        , 1.        ,\n",
       "       1.        , 1.        , 1.        , 1.        , 1.        ,\n",
       "       1.        , 1.        , 1.        , 1.        , 1.        ,\n",
       "       1.        , 1.        , 1.        , 1.        , 1.        ,\n",
       "       1.        , 1.        , 1.        , 1.        , 1.        ,\n",
       "       1.        , 1.        , 1.        , 1.        , 1.        ,\n",
       "       1.        , 1.        , 1.        , 1.        , 1.        ,\n",
       "       1.        , 1.        , 1.        , 1.        , 1.        ,\n",
       "       1.        , 1.        , 1.        , 1.        , 1.        ,\n",
       "       1.        , 1.        , 1.        , 1.        , 1.        ,\n",
       "       1.        , 1.        , 1.        , 1.        , 1.        ,\n",
       "       1.        , 1.        , 1.        , 1.        , 1.        ,\n",
       "       1.        , 1.        , 1.        , 1.        , 1.        ,\n",
       "       1.        , 1.        , 0.9803922 , 0.8588236 , 0.7137255 ,\n",
       "       0.427451  , 0.29803923, 0.29803923, 0.29803923, 0.29803923,\n",
       "       0.29803923, 0.29803923, 0.29803923, 0.29803923, 0.29803923,\n",
       "       0.29803923, 0.29803923, 0.29803923, 0.29803923, 0.29803923,\n",
       "       0.29803923, 0.29803923, 0.29803923, 0.29803923, 0.29803923,\n",
       "       0.29803923, 0.29803923, 0.29803923, 0.29803923, 0.29803923,\n",
       "       0.29803923, 0.29803923, 0.29803923, 0.29803923, 0.29803923,\n",
       "       0.29803923, 0.29803923, 0.29803923, 0.29803923, 0.29803923,\n",
       "       0.29803923, 0.29803923, 0.29803923, 0.29803923, 0.29803923,\n",
       "       0.29803923, 0.29803923, 0.29803923, 0.29803923, 0.29803923,\n",
       "       0.29803923, 0.29803923, 0.29803923, 0.29803923, 0.29803923,\n",
       "       0.29803923, 0.29803923, 0.29803923, 0.29803923, 0.29803923,\n",
       "       0.29803923, 0.29803923, 0.29803923, 0.29803923, 0.29803923,\n",
       "       0.29803923, 0.29803923, 0.29803923, 0.29803923, 0.29803923,\n",
       "       0.29803923, 0.29803923, 0.29803923, 0.29803923, 0.29803923,\n",
       "       0.29803923, 0.29803923, 0.29803923, 0.29803923, 0.29803923,\n",
       "       0.29803923, 0.29803923, 0.29803923, 0.29803923, 0.29803923,\n",
       "       0.29803923, 0.29803923, 0.29803923, 0.29803923, 0.29803923,\n",
       "       0.29803923, 0.29803923, 0.29803923, 0.29803923, 0.29803923,\n",
       "       0.29803923, 0.29803923, 0.29803923, 0.47058827, 0.6627451 ,\n",
       "       0.83921576, 0.98823535, 1.        , 1.        , 1.        ,\n",
       "       1.        , 1.        , 1.        , 1.        , 1.        ,\n",
       "       1.        , 1.        , 1.        , 1.        , 1.        ,\n",
       "       1.        , 1.        , 1.        , 1.        , 1.        ,\n",
       "       1.        , 1.        , 1.        , 1.        , 1.        ,\n",
       "       1.        , 1.        , 1.        , 1.        , 1.        ,\n",
       "       1.        , 1.        , 1.        , 1.        , 1.        ,\n",
       "       1.        , 1.        , 1.        , 1.        , 1.        ,\n",
       "       1.        , 1.        , 1.        , 1.        , 1.        ,\n",
       "       1.        , 1.        , 1.        , 1.        , 1.        ,\n",
       "       1.        , 1.        , 1.        , 1.        , 1.        ,\n",
       "       1.        , 1.        , 1.        , 1.        , 1.        ,\n",
       "       1.        , 1.        , 1.        , 1.        , 1.        ,\n",
       "       1.        , 1.        , 1.        , 1.        , 1.        ,\n",
       "       1.        , 1.        , 1.        , 1.        , 1.        ,\n",
       "       1.        , 1.        , 1.        , 1.        , 1.        ,\n",
       "       1.        , 1.        , 1.        , 1.        , 1.        ,\n",
       "       1.        , 1.        , 1.        , 1.        , 1.        ,\n",
       "       1.        , 1.        , 1.        , 1.        , 1.        ,\n",
       "       1.        , 1.        , 1.        , 1.        , 1.        ,\n",
       "       1.        , 1.        , 1.        , 1.        , 1.        ,\n",
       "       1.        , 1.        , 1.        , 1.        , 1.        ,\n",
       "       1.        , 1.        , 1.        , 1.        , 1.        ,\n",
       "       1.        , 1.        , 1.        , 1.        , 1.        ,\n",
       "       1.        , 1.        , 1.        , 1.        , 1.        ,\n",
       "       1.        , 1.        , 1.        , 1.        , 1.        ,\n",
       "       1.        , 1.        , 1.        , 1.        , 1.        ,\n",
       "       1.        , 1.        , 1.        , 1.        , 1.        ,\n",
       "       1.        , 1.        , 1.        , 1.        , 1.        ,\n",
       "       1.        , 1.        , 1.        , 1.        , 1.        ,\n",
       "       1.        , 1.        , 1.        , 1.        , 1.        ,\n",
       "       1.        , 1.        , 1.        , 1.        , 1.        ,\n",
       "       1.        , 1.        , 1.        , 1.        , 1.        ,\n",
       "       1.        , 1.        , 1.        , 1.        , 1.        ,\n",
       "       1.        , 1.        , 1.        , 1.        , 1.        ,\n",
       "       1.        , 1.        , 1.        , 1.        , 1.        ,\n",
       "       1.        , 1.        , 1.        , 1.        , 1.        ,\n",
       "       1.        , 1.        , 1.        , 1.        , 1.        ,\n",
       "       1.        , 1.        , 1.        , 1.        , 1.        ,\n",
       "       1.        , 1.        ], dtype=float32)"
      ]
     },
     "execution_count": 79,
     "metadata": {},
     "output_type": "execute_result"
    }
   ],
   "source": [
    "dst[10]"
   ]
  },
  {
   "cell_type": "code",
   "execution_count": 80,
   "metadata": {},
   "outputs": [
    {
     "name": "stdout",
     "output_type": "stream",
     "text": [
      "[[255 255 255 ... 255 255 255]\n",
      " [255 255 255 ... 255 255 255]\n",
      " [255 255 255 ... 255 255 255]\n",
      " ...\n",
      " [255 255 255 ... 255 255 255]\n",
      " [255 255 255 ... 255 255 255]\n",
      " [255 255 255 ... 255 255 255]]\n"
     ]
    }
   ],
   "source": [
    "print(np.uint8(dst*255))"
   ]
  },
  {
   "cell_type": "code",
   "execution_count": 81,
   "metadata": {},
   "outputs": [
    {
     "name": "stdout",
     "output_type": "stream",
     "text": [
      "[[188.51469199]] [[94.02781949]]\n"
     ]
    }
   ],
   "source": [
    "means, stddev = cv.meanStdDev(np.uint8(dst*255))\n",
    "print(means,stddev)"
   ]
  },
  {
   "cell_type": "code",
   "execution_count": 82,
   "metadata": {},
   "outputs": [],
   "source": [
    "cv.imshow(\"NORM_MINMAX\", dst)\n",
    "cv.waitKey(2000)\n",
    "cv.destroyAllWindows()"
   ]
  },
  {
   "cell_type": "code",
   "execution_count": 83,
   "metadata": {},
   "outputs": [
    {
     "name": "stdout",
     "output_type": "stream",
     "text": [
      "0.0 1.0 (42, 477) (0, 0)\n",
      "[[0.73927331]] [[0.36873654]]\n"
     ]
    }
   ],
   "source": [
    "min_value, max_value, min_loc, max_loc = cv.minMaxLoc(dst)\n",
    "print(min_value, max_value, min_loc, max_loc)\n",
    "\n",
    "means, stddev = cv.meanStdDev(dst)\n",
    "print(means,stddev)"
   ]
  },
  {
   "cell_type": "code",
   "execution_count": 84,
   "metadata": {},
   "outputs": [],
   "source": [
    "cv.imshow(\"NORM_MINMAX\", np.uint8(dst*255))\n",
    "cv.waitKey(2000)\n",
    "cv.destroyAllWindows()"
   ]
  },
  {
   "cell_type": "markdown",
   "metadata": {},
   "source": [
    "Diğer normalizasyon yöntemleri;"
   ]
  },
  {
   "cell_type": "code",
   "execution_count": 85,
   "metadata": {},
   "outputs": [
    {
     "name": "stdout",
     "output_type": "stream",
     "text": [
      "[[1. 1. 1. ... 1. 1. 1.]\n",
      " [1. 1. 1. ... 1. 1. 1.]\n",
      " [1. 1. 1. ... 1. 1. 1.]\n",
      " ...\n",
      " [1. 1. 1. ... 1. 1. 1.]\n",
      " [1. 1. 1. ... 1. 1. 1.]\n",
      " [1. 1. 1. ... 1. 1. 1.]]\n"
     ]
    }
   ],
   "source": [
    "dst = np.zeros(gray.shape, dtype=np.float32) # ayni boyutta 0'lar matrisi\n",
    "cv.normalize(gray, dst=dst, alpha=1.0, beta=0, norm_type=cv.NORM_INF)\n",
    "print(dst)\n",
    "cv.imshow(\"NORM_INF\", np.uint8(dst*255))\n",
    "cv.waitKey(2000)\n",
    "cv.destroyAllWindows()"
   ]
  },
  {
   "cell_type": "code",
   "execution_count": 86,
   "metadata": {},
   "outputs": [
    {
     "name": "stdout",
     "output_type": "stream",
     "text": [
      "[[4.6292944e-06 4.6292944e-06 4.6292944e-06 ... 4.6292944e-06\n",
      "  4.6292944e-06 4.6292944e-06]\n",
      " [4.6292944e-06 4.6292944e-06 4.6292944e-06 ... 4.6292944e-06\n",
      "  4.6292944e-06 4.6292944e-06]\n",
      " [4.6292944e-06 4.6292944e-06 4.6292944e-06 ... 4.6292944e-06\n",
      "  4.6292944e-06 4.6292944e-06]\n",
      " ...\n",
      " [4.6292944e-06 4.6292944e-06 4.6292944e-06 ... 4.6292944e-06\n",
      "  4.6292944e-06 4.6292944e-06]\n",
      " [4.6292944e-06 4.6292944e-06 4.6292944e-06 ... 4.6292944e-06\n",
      "  4.6292944e-06 4.6292944e-06]\n",
      " [4.6292944e-06 4.6292944e-06 4.6292944e-06 ... 4.6292944e-06\n",
      "  4.6292944e-06 4.6292944e-06]]\n"
     ]
    }
   ],
   "source": [
    "dst = np.zeros(gray.shape, dtype=np.float32) # ayni boyutta 0'lar matrisi\n",
    "cv.normalize(gray, dst=dst, alpha=1.0, beta=0, norm_type=cv.NORM_L1)\n",
    "print(dst)\n",
    "cv.imshow(\"NORM_L1\", np.uint8(dst*10000000))\n",
    "cv.waitKey(2000)\n",
    "cv.destroyAllWindows()"
   ]
  },
  {
   "cell_type": "code",
   "execution_count": 87,
   "metadata": {},
   "outputs": [
    {
     "name": "stdout",
     "output_type": "stream",
     "text": [
      "[[0.00223929 0.00223929 0.00223929 ... 0.00223929 0.00223929 0.00223929]\n",
      " [0.00223929 0.00223929 0.00223929 ... 0.00223929 0.00223929 0.00223929]\n",
      " [0.00223929 0.00223929 0.00223929 ... 0.00223929 0.00223929 0.00223929]\n",
      " ...\n",
      " [0.00223929 0.00223929 0.00223929 ... 0.00223929 0.00223929 0.00223929]\n",
      " [0.00223929 0.00223929 0.00223929 ... 0.00223929 0.00223929 0.00223929]\n",
      " [0.00223929 0.00223929 0.00223929 ... 0.00223929 0.00223929 0.00223929]]\n"
     ]
    }
   ],
   "source": [
    "dst = np.zeros(gray.shape, dtype=np.float32) # ayni boyutta 0'lar matrisi\n",
    "cv.normalize(gray, dst=dst, alpha=1.0, beta=0, norm_type=cv.NORM_L2)\n",
    "print(dst)\n",
    "cv.imshow(\"NORM_L2\", np.uint8(dst*10000))\n",
    "cv.waitKey(2000)\n",
    "cv.destroyAllWindows()"
   ]
  }
 ],
 "metadata": {
  "kernelspec": {
   "display_name": "Python 3",
   "language": "python",
   "name": "python3"
  },
  "language_info": {
   "codemirror_mode": {
    "name": "ipython",
    "version": 3
   },
   "file_extension": ".py",
   "mimetype": "text/x-python",
   "name": "python",
   "nbconvert_exporter": "python",
   "pygments_lexer": "ipython3",
   "version": "3.12.4"
  }
 },
 "nbformat": 4,
 "nbformat_minor": 2
}
