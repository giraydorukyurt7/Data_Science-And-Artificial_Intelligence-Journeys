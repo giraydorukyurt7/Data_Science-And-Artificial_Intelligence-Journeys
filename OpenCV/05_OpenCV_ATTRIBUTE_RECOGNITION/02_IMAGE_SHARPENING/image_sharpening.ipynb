{
 "cells": [
  {
   "cell_type": "code",
   "execution_count": 171,
   "metadata": {},
   "outputs": [],
   "source": [
    "import cv2 as cv\n",
    "import numpy as np"
   ]
  },
  {
   "cell_type": "code",
   "execution_count": 172,
   "metadata": {},
   "outputs": [],
   "source": [
    "src = cv.imread(\"OpenCV.png\")"
   ]
  },
  {
   "cell_type": "code",
   "execution_count": 173,
   "metadata": {},
   "outputs": [],
   "source": [
    "# Keskinleştirme filtresi matrisi oluştur, değiştirerek keskinlik miktarıyla oyna\n",
    "\n",
    "#normal\n",
    "\n",
    "#sharpen_op = np.array([[0,-1,0],[-1,5,-1],[0,-1,0]], dtype=np.float32)\n",
    "\n",
    "#Daha keskin\n",
    "\n",
    "#sharpen_op = np.array([[0,-1,0],[-1,10,-1],[0,-1,0]], dtype=np.float32)  # Merkez değeri 10 yaparak daha keskinleştir\n",
    "\n",
    "#Daha Yumuşak\n",
    "\n",
    "#sharpen_op = np.array([[0,-0.5,0],[-0.5,3,-0.5],[0,-0.5,0]], dtype=np.float32)  # Negatif değerleri küçültüp merkez değeri 3 yaparak daha yumuşak hale getir\n",
    "\n",
    "#Çok Sert\n",
    "\n",
    "sharpen_op = np.array([[0,-0.5,0],[-1,8299000,-1],[0,-1,0]], dtype=np.float32) \n"
   ]
  },
  {
   "cell_type": "code",
   "execution_count": 174,
   "metadata": {},
   "outputs": [],
   "source": [
    "# Keskinleştirme filtresini orijinal görüntüye uygula\n",
    "sharpen_image = cv.filter2D(src, \n",
    "                            cv.CV_32F, \n",
    "                            sharpen_op) #Uygulanacak keskinleştirme filtresi\n",
    "# Mutlak değerlere dönüştür ve 8-bit'e ölçeklendir\n",
    "sharpen_image = cv.convertScaleAbs(sharpen_image)"
   ]
  },
  {
   "cell_type": "code",
   "execution_count": 175,
   "metadata": {},
   "outputs": [],
   "source": [
    "# 2 sonucu yanyana gösterme\n",
    "h, w = src.shape[:2]\n",
    "result = np.zeros([h, w*2, 3], dtype=src.dtype)\n",
    "result[0:h, 0:w  , :] = src\n",
    "result[0:h, w:w*2, :] = sharpen_image"
   ]
  },
  {
   "cell_type": "code",
   "execution_count": 176,
   "metadata": {},
   "outputs": [
    {
     "data": {
      "text/plain": [
       "True"
      ]
     },
     "execution_count": 176,
     "metadata": {},
     "output_type": "execute_result"
    }
   ],
   "source": [
    "cv.imshow(\"sharpen_image\", result)\n",
    "cv.waitKey(0)\n",
    "cv.destroyAllWindows()\n",
    "\n",
    "cv.imwrite(\"Result4.png\", result)"
   ]
  },
  {
   "cell_type": "markdown",
   "metadata": {},
   "source": [
    "for filter:\n",
    "\n",
    "sharpen_op = np.array([[0,-1,0],[-1,5,-1],[0,-1,0]], dtype=np.float32)\n",
    "\n",
    "#-#-#-#-#-#-#-#-#-#-#-#-#-#-#-#-#-#-#-#-#-#-#-#-#-#-#-#-#-#-#-#-#-#-#-#-#-#\n",
    "\n",
    "![](Result1.png)"
   ]
  },
  {
   "cell_type": "markdown",
   "metadata": {},
   "source": [
    "for filter:\n",
    "\n",
    "sharpen_op = np.array([[0,-1,0],[-1,10,-1],[0,-1,0]], dtype=np.float32)\n",
    "\n",
    "#-#-#-#-#-#-#-#-#-#-#-#-#-#-#-#-#-#-#-#-#-#-#-#-#-#-#-#-#-#-#-#-#-#-#-#-#-#\n",
    "\n",
    "![](Result2.png)"
   ]
  },
  {
   "cell_type": "markdown",
   "metadata": {},
   "source": [
    "for filter:\n",
    "\n",
    "sharpen_op = np.array([[0,-0.5,0],[-0.5,3,-0.5],[0,-0.5,0]], dtype=np.float32)\n",
    "\n",
    "#-#-#-#-#-#-#-#-#-#-#-#-#-#-#-#-#-#-#-#-#-#-#-#-#-#-#-#-#-#-#-#-#-#-#-#-#-#\n",
    "\n",
    "![](Result3.png)"
   ]
  },
  {
   "cell_type": "markdown",
   "metadata": {},
   "source": [
    "for filter:\n",
    "\n",
    "sharpen_op = np.array([[0,-0.5,0],[-1,8299000,-1],[0,-1,0]], dtype=np.float32)\n",
    "\n",
    "#-#-#-#-#-#-#-#-#-#-#-#-#-#-#-#-#-#-#-#-#-#-#-#-#-#-#-#-#-#-#-#-#-#-#-#-#-#\n",
    "\n",
    "![](Result4.png)"
   ]
  }
 ],
 "metadata": {
  "kernelspec": {
   "display_name": "Python 3",
   "language": "python",
   "name": "python3"
  },
  "language_info": {
   "codemirror_mode": {
    "name": "ipython",
    "version": 3
   },
   "file_extension": ".py",
   "mimetype": "text/x-python",
   "name": "python",
   "nbconvert_exporter": "python",
   "pygments_lexer": "ipython3",
   "version": "3.12.4"
  }
 },
 "nbformat": 4,
 "nbformat_minor": 2
}
