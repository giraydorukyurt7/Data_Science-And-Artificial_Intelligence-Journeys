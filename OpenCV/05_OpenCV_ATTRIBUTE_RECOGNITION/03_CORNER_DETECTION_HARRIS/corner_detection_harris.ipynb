{
 "cells": [
  {
   "cell_type": "code",
   "execution_count": 1,
   "metadata": {},
   "outputs": [],
   "source": [
    "import cv2 as cv\n",
    "import numpy as np"
   ]
  },
  {
   "cell_type": "code",
   "execution_count": 2,
   "metadata": {},
   "outputs": [],
   "source": [
    "src = cv.imread(\"chessboard.png\")\n",
    "src = cv.resize(src, (0,0), fx=0.4, fy=0.4)"
   ]
  },
  {
   "cell_type": "code",
   "execution_count": 3,
   "metadata": {},
   "outputs": [],
   "source": [
    "def harris(image):\n",
    "    blockSize = 2       # Her bir köşe tespiti için değerlendirilen komşu boyutu.\n",
    "    appertureSize = 3   # Sobel operatörünün kullanacağı türev filtresinin boyutu.\n",
    "    k = 0.04            # Harris köşe tespiti için kullanılan serbest parametre, genellikle 0.04 - 0.06 arasında olur.\n",
    "\n",
    "    gray = cv.cvtColor(image, cv.COLOR_BGR2GRAY) # gri tona çevir,\n",
    "    \n",
    "    # Harris köşe tespiti algoritmasını uygula.\n",
    "    dst  = cv.cornerHarris(gray,            # Gri tonlamalı resim.\n",
    "                           blockSize,       # Köşe tespiti için kullanılan komşu piksellerin boyutu (pencere boyutu).\n",
    "                           appertureSize,   # Sobel türev filtresinin boyutu (genellikle 3, 5 veya 7 olabilir)\n",
    "                           k)               # Harris köşe tespiti için kullanılan serbest parametre.\n",
    "    \n",
    "    dst_norm = np.empty(dst.shape, dtype=np.float32) # Normalleştirilmiş Harris cevaplarını tutacak boş bir dizi oluştur.\n",
    "    \n",
    "     # Harris cevabını 0 ile 255 arasında normalize et.\n",
    "    cv.normalize(dst,                       # Harris cevabı.\n",
    "                 dst_norm,                  # Normalleştirilen Harris cevabı.\n",
    "                 alpha=0,                   # Minimum değeri normalizasyon sonrası 0 yapar.\n",
    "                 beta=255,                  # Maksimum değeri normalizasyon sonrası 255 yapar.\n",
    "                 norm_type=cv.NORM_MINMAX)  # Normalizasyon türü.\n",
    "    \n",
    "    # Harris cevabına göre köşe tespit edilen piksellere yeşil daire ekle.\n",
    "    for i in range(dst_norm.shape[0]):\n",
    "        for j in range(dst_norm.shape[1]):\n",
    "            # Eğer normalleştirilmiş Harris değeri 120'den büyükse, bu bir köşe olarak kabul edilir.\n",
    "            if int(dst_norm[i,j])>120:\n",
    "                # Belirtilen koordinata yeşil renkli (0,255,0) bir daire çiz.\n",
    "                cv.circle(image,\n",
    "                          (j,i),        # Dairenin merkezi (x, y).\n",
    "                          2,            # Dairenin yarıçapı.\n",
    "                          (0,255,0),    # yeşil renkli.\n",
    "                          2)            # Çizilen dairenin kalınlığı.\n",
    "                \n",
    "    return image"
   ]
  },
  {
   "cell_type": "code",
   "execution_count": 4,
   "metadata": {},
   "outputs": [],
   "source": [
    "harris_detection = harris(src.copy())"
   ]
  },
  {
   "cell_type": "code",
   "execution_count": 5,
   "metadata": {},
   "outputs": [],
   "source": [
    "# 2 sonucu yanyana gösterme\n",
    "h, w = src.shape[:2]\n",
    "result = np.zeros([h, w*2, 3], dtype=src.dtype)\n",
    "result[0:h, 0:w  , :] = src\n",
    "result[0:h, w:w*2, :] = harris_detection"
   ]
  },
  {
   "cell_type": "code",
   "execution_count": 6,
   "metadata": {},
   "outputs": [],
   "source": [
    "cv.imshow(\"result\",result)\n",
    "cv.imwrite(\"result1.png\",result)\n",
    "cv.waitKey(0)\n",
    "cv.destroyAllWindows()"
   ]
  },
  {
   "cell_type": "markdown",
   "metadata": {},
   "source": [
    "![](result1.png)"
   ]
  },
  {
   "cell_type": "markdown",
   "metadata": {},
   "source": [
    "![](result2.png)"
   ]
  }
 ],
 "metadata": {
  "kernelspec": {
   "display_name": "Python 3",
   "language": "python",
   "name": "python3"
  },
  "language_info": {
   "codemirror_mode": {
    "name": "ipython",
    "version": 3
   },
   "file_extension": ".py",
   "mimetype": "text/x-python",
   "name": "python",
   "nbconvert_exporter": "python",
   "pygments_lexer": "ipython3",
   "version": "3.12.4"
  }
 },
 "nbformat": 4,
 "nbformat_minor": 2
}
