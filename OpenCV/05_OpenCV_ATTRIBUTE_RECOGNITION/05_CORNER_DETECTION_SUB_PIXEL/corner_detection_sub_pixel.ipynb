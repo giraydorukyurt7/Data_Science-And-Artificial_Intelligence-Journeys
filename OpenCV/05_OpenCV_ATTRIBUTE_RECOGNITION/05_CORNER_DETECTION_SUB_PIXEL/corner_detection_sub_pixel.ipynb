{
 "cells": [
  {
   "cell_type": "markdown",
   "metadata": {},
   "source": [
    " Shi thomas yöntemini hassaslaştırır."
   ]
  },
  {
   "cell_type": "code",
   "execution_count": 46,
   "metadata": {},
   "outputs": [],
   "source": [
    "import cv2 as cv\n",
    "import numpy as np"
   ]
  },
  {
   "cell_type": "code",
   "execution_count": 47,
   "metadata": {},
   "outputs": [],
   "source": [
    "src = cv.imread(\"geometry.png\")"
   ]
  },
  {
   "cell_type": "code",
   "execution_count": 48,
   "metadata": {},
   "outputs": [],
   "source": [
    "def process(image):\n",
    "    # Shi-Thomas start\n",
    "    gray = cv.cvtColor(image, cv.COLOR_BGR2GRAY)\n",
    "    corners = cv.goodFeaturesToTrack(gray, \n",
    "                                     maxCorners=35,     # Tespit edilecek maksimum köşe sayısı.\n",
    "                                     qualityLevel=0.05, # en iyi köşeye göre %5 oranında kalitede olan köşelerin kabul edileceği anlamına gelir.\n",
    "                                     minDistance=10)    # Tespit edilen köşeler arasındaki minimum mesafedir. Eğer iki köşe birbirine çok yakınsa, algoritma sadece birini seçer. \n",
    "    \n",
    "    print(len(corners))\n",
    "    corners = np.float32(corners)\n",
    "\n",
    "    for pt in corners:\n",
    "        print(pt)                       # Köşe koordinatlarını yazdırır.\n",
    "        b = np.random.randint(0, 256)\n",
    "        g = np.random.randint(0, 256)\n",
    "        r = np.random.randint(0, 256)\n",
    "        x = np.int32(pt[0][0])\n",
    "        y = np.int32(pt[0][1])\n",
    "        cv.circle(image,\n",
    "                  (x,y),\n",
    "                  5,\n",
    "                  (int(b), int(g), int(r)),\n",
    "                  2)\n",
    "    # Shi-Thomas end\n",
    "\n",
    "    winSize  = (3 , 3)  # Köşe iyileştirme için kullanılan penceresinin boyutu (3x3).\n",
    "    zeroZone = (-1, -1) # Bu parametre, pencerede merkez bölgesinde iyileştirme yaparken sıfır bölge oluşturulmasını sağlar (-1, -1: sıfır bölge yok).\n",
    "    \n",
    "    criteria = (cv.TermCriteria_EPS + cv.TermCriteria_COUNT, # Hata veya iterasyon sayısına göre sonlanma kriterleri.\n",
    "                400,                                          # Maksimum iterasyon sayısı 40.\n",
    "                0.001)                                       # Hata toleransı; köşe iyileştirme işlemi bu hata değeri altına indiğinde durur.\n",
    "    corners  = cv.cornerSubPix(gray,\n",
    "                               corners,     # Köşe noktaları\n",
    "                               winSize,     # Pencere boyutu\n",
    "                               zeroZone,    # Sıfır bölge\n",
    "                               criteria)    # İyileştirme sonlanma kriterleri\n",
    "    \n",
    "    # Hassaslaştırılmış köşelerin koordinatlarını ekrana yazdırır\n",
    "    for i in range(corners.shape[0]):\n",
    "        print(\" -- Refined Corner [\", i, \"] (\", corners[i, 0, 0], \",\", corners[i, 0, 1], \")\")\n",
    "    return image\n"
   ]
  },
  {
   "cell_type": "code",
   "execution_count": 49,
   "metadata": {},
   "outputs": [
    {
     "name": "stdout",
     "output_type": "stream",
     "text": [
      "35\n",
      "[[203. 193.]]\n",
      "[[162. 223.]]\n",
      "[[277. 119.]]\n",
      "[[ 32. 127.]]\n",
      "[[204. 221.]]\n",
      "[[286. 248.]]\n",
      "[[ 58. 200.]]\n",
      "[[180. 184.]]\n",
      "[[167. 196.]]\n",
      "[[ 15. 278.]]\n",
      "[[201. 132.]]\n",
      "[[238. 172.]]\n",
      "[[249. 267.]]\n",
      "[[ 75. 277.]]\n",
      "[[243. 104.]]\n",
      "[[179.  87.]]\n",
      "[[ 13. 187.]]\n",
      "[[ 92. 276.]]\n",
      "[[140. 244.]]\n",
      "[[ 33. 231.]]\n",
      "[[138. 275.]]\n",
      "[[227. 259.]]\n",
      "[[103. 105.]]\n",
      "[[236. 218.]]\n",
      "[[ 80. 147.]]\n",
      "[[104. 177.]]\n",
      "[[111. 289.]]\n",
      "[[ 32. 202.]]\n",
      "[[ 58. 225.]]\n",
      "[[164. 248.]]\n",
      "[[186. 255.]]\n",
      "[[226. 281.]]\n",
      "[[180. 104.]]\n",
      "[[191. 206.]]\n",
      "[[120. 231.]]\n",
      " -- Refined Corner [ 0 ] ( 203.94954 , 191.48096 )\n",
      " -- Refined Corner [ 1 ] ( 163.07515 , 221.08556 )\n",
      " -- Refined Corner [ 2 ] ( 278.5129 , 117.66606 )\n",
      " -- Refined Corner [ 3 ] ( 30.251785 , 125.67698 )\n",
      " -- Refined Corner [ 4 ] ( 204.11906 , 219.67632 )\n",
      " -- Refined Corner [ 5 ] ( 286.0 , 248.0 )\n",
      " -- Refined Corner [ 6 ] ( 58.472374 , 199.08107 )\n",
      " -- Refined Corner [ 7 ] ( 179.06357 , 183.16353 )\n",
      " -- Refined Corner [ 8 ] ( 164.55482 , 194.82545 )\n",
      " -- Refined Corner [ 9 ] ( 14.30372 , 276.06204 )\n",
      " -- Refined Corner [ 10 ] ( 201.58714 , 133.5207 )\n",
      " -- Refined Corner [ 11 ] ( 237.62402 , 173.99759 )\n",
      " -- Refined Corner [ 12 ] ( 248.84872 , 268.96188 )\n",
      " -- Refined Corner [ 13 ] ( 75.106415 , 275.35544 )\n",
      " -- Refined Corner [ 14 ] ( 243.0 , 104.0 )\n",
      " -- Refined Corner [ 15 ] ( 177.68028 , 84.99731 )\n",
      " -- Refined Corner [ 16 ] ( 10.667928 , 184.96414 )\n",
      " -- Refined Corner [ 17 ] ( 89.574715 , 276.0259 )\n",
      " -- Refined Corner [ 18 ] ( 141.30594 , 243.2656 )\n",
      " -- Refined Corner [ 19 ] ( 33.473602 , 232.8066 )\n",
      " -- Refined Corner [ 20 ] ( 139.20412 , 275.06744 )\n",
      " -- Refined Corner [ 21 ] ( 225.28413 , 256.67453 )\n",
      " -- Refined Corner [ 22 ] ( 104.21162 , 103.22327 )\n",
      " -- Refined Corner [ 23 ] ( 234.9989 , 218.18736 )\n",
      " -- Refined Corner [ 24 ] ( 79.77157 , 147.87051 )\n",
      " -- Refined Corner [ 25 ] ( 103.39494 , 179.08151 )\n",
      " -- Refined Corner [ 26 ] ( 110.19937 , 290.5436 )\n",
      " -- Refined Corner [ 27 ] ( 32.37441 , 203.6912 )\n",
      " -- Refined Corner [ 28 ] ( 58.84062 , 225.78674 )\n",
      " -- Refined Corner [ 29 ] ( 163.37076 , 248.07925 )\n",
      " -- Refined Corner [ 30 ] ( 186.46703 , 256.78656 )\n",
      " -- Refined Corner [ 31 ] ( 226.0 , 281.0 )\n",
      " -- Refined Corner [ 32 ] ( 179.0974 , 103.1373 )\n",
      " -- Refined Corner [ 33 ] ( 190.20088 , 204.62022 )\n",
      " -- Refined Corner [ 34 ] ( 118.275764 , 231.55223 )\n"
     ]
    }
   ],
   "source": [
    "sub_pixel_detection = process(src.copy())"
   ]
  },
  {
   "cell_type": "code",
   "execution_count": 50,
   "metadata": {},
   "outputs": [],
   "source": [
    "# 2 sonucu yanyana gösterme\n",
    "h, w = src.shape[:2]\n",
    "result = np.zeros([h, w*2, 3], dtype=src.dtype)\n",
    "result[0:h, 0:w  , :] = src\n",
    "result[0:h, w:w*2, :] = sub_pixel_detection"
   ]
  },
  {
   "cell_type": "code",
   "execution_count": 51,
   "metadata": {},
   "outputs": [],
   "source": [
    "cv.imshow(\"result\",result)\n",
    "cv.imwrite(\"result1.png\",result)\n",
    "cv.waitKey(0)\n",
    "cv.destroyAllWindows()"
   ]
  },
  {
   "cell_type": "markdown",
   "metadata": {},
   "source": [
    "![](result1.png)"
   ]
  }
 ],
 "metadata": {
  "kernelspec": {
   "display_name": "Python 3",
   "language": "python",
   "name": "python3"
  },
  "language_info": {
   "codemirror_mode": {
    "name": "ipython",
    "version": 3
   },
   "file_extension": ".py",
   "mimetype": "text/x-python",
   "name": "python",
   "nbconvert_exporter": "python",
   "pygments_lexer": "ipython3",
   "version": "3.12.4"
  }
 },
 "nbformat": 4,
 "nbformat_minor": 2
}
