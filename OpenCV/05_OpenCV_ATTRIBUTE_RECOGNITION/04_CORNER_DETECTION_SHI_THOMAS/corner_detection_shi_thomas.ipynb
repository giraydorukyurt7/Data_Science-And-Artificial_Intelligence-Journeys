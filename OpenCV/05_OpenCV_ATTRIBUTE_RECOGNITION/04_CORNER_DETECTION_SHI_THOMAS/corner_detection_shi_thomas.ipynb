{
 "cells": [
  {
   "cell_type": "code",
   "execution_count": 74,
   "metadata": {},
   "outputs": [],
   "source": [
    "import numpy as np\n",
    "import cv2 as cv"
   ]
  },
  {
   "cell_type": "code",
   "execution_count": 75,
   "metadata": {},
   "outputs": [],
   "source": [
    "src = cv.imread(\"geometry.png\")"
   ]
  },
  {
   "cell_type": "code",
   "execution_count": 76,
   "metadata": {},
   "outputs": [],
   "source": [
    "def process(image):\n",
    "    gray = cv.cvtColor(image, cv.COLOR_BGR2GRAY)\n",
    "    corners = cv.goodFeaturesToTrack(gray, \n",
    "                                     maxCorners=35,     # Tespit edilecek maksimum köşe sayısı.\n",
    "                                     qualityLevel=0.05, # en iyi köşeye göre %5 oranında kalitede olan köşelerin kabul edileceği anlamına gelir.\n",
    "                                     minDistance=10)    # Tespit edilen köşeler arasındaki minimum mesafedir. Eğer iki köşe birbirine çok yakınsa, algoritma sadece birini seçer. \n",
    "    for pt in corners:\n",
    "        print(pt)\n",
    "        b = np.random.randint(0, 256)\n",
    "        g = np.random.randint(0, 256)\n",
    "        r = np.random.randint(0, 256)\n",
    "        x = np.int32(pt[0][0])\n",
    "        y = np.int32(pt[0][1])\n",
    "        cv.circle(image,\n",
    "                  (x,y),\n",
    "                  5,\n",
    "                  (int(b), int(g), int(r)),\n",
    "                  2)\n",
    "    return image"
   ]
  },
  {
   "cell_type": "code",
   "execution_count": 77,
   "metadata": {},
   "outputs": [
    {
     "name": "stdout",
     "output_type": "stream",
     "text": [
      "[[203. 193.]]\n",
      "[[162. 223.]]\n",
      "[[277. 119.]]\n",
      "[[ 32. 127.]]\n",
      "[[204. 221.]]\n",
      "[[286. 248.]]\n",
      "[[ 58. 200.]]\n",
      "[[180. 184.]]\n",
      "[[167. 196.]]\n",
      "[[ 15. 278.]]\n",
      "[[201. 132.]]\n",
      "[[238. 172.]]\n",
      "[[249. 267.]]\n",
      "[[ 75. 277.]]\n",
      "[[243. 104.]]\n",
      "[[179.  87.]]\n",
      "[[ 13. 187.]]\n",
      "[[ 92. 276.]]\n",
      "[[140. 244.]]\n",
      "[[ 33. 231.]]\n",
      "[[138. 275.]]\n",
      "[[227. 259.]]\n",
      "[[103. 105.]]\n",
      "[[236. 218.]]\n",
      "[[ 80. 147.]]\n",
      "[[104. 177.]]\n",
      "[[111. 289.]]\n",
      "[[ 32. 202.]]\n",
      "[[ 58. 225.]]\n",
      "[[164. 248.]]\n",
      "[[186. 255.]]\n",
      "[[226. 281.]]\n",
      "[[180. 104.]]\n",
      "[[191. 206.]]\n",
      "[[120. 231.]]\n"
     ]
    }
   ],
   "source": [
    "shi_thomas_detection = process(src.copy())"
   ]
  },
  {
   "cell_type": "code",
   "execution_count": 78,
   "metadata": {},
   "outputs": [],
   "source": [
    "# 2 sonucu yanyana gösterme\n",
    "h, w = src.shape[:2]\n",
    "result = np.zeros([h, w*2, 3], dtype=src.dtype)\n",
    "result[0:h, 0:w  , :] = src\n",
    "result[0:h, w:w*2, :] = shi_thomas_detection"
   ]
  },
  {
   "cell_type": "code",
   "execution_count": 79,
   "metadata": {},
   "outputs": [],
   "source": [
    "cv.imshow(\"result\",result)\n",
    "cv.imwrite(\"result1.png\",result)\n",
    "cv.waitKey(0)\n",
    "cv.destroyAllWindows()"
   ]
  },
  {
   "cell_type": "markdown",
   "metadata": {},
   "source": [
    "![](result1.png)"
   ]
  },
  {
   "cell_type": "markdown",
   "metadata": {},
   "source": [
    "![](result2.png)"
   ]
  }
 ],
 "metadata": {
  "kernelspec": {
   "display_name": "Python 3",
   "language": "python",
   "name": "python3"
  },
  "language_info": {
   "codemirror_mode": {
    "name": "ipython",
    "version": 3
   },
   "file_extension": ".py",
   "mimetype": "text/x-python",
   "name": "python",
   "nbconvert_exporter": "python",
   "pygments_lexer": "ipython3",
   "version": "3.12.4"
  }
 },
 "nbformat": 4,
 "nbformat_minor": 2
}
