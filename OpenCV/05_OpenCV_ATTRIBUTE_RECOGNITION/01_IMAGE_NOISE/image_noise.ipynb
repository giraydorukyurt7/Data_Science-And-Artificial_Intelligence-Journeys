{
 "cells": [
  {
   "cell_type": "code",
   "execution_count": 49,
   "metadata": {},
   "outputs": [],
   "source": [
    "import cv2 as cv\n",
    "import numpy as np"
   ]
  },
  {
   "cell_type": "code",
   "execution_count": 50,
   "metadata": {},
   "outputs": [],
   "source": [
    "src = cv.imread(\"OpenCV.png\")"
   ]
  },
  {
   "cell_type": "code",
   "execution_count": 51,
   "metadata": {},
   "outputs": [],
   "source": [
    "def add_salt_pepper_noise(image):\n",
    "    h, w = image.shape[:2]\n",
    "    nums = 10000000 # arttırarak gürülütüyü arttır\n",
    "    rows = np.random.randint(0, h, nums, dtype=int) #random integer üretme\n",
    "    cols = np.random.randint(0, w, nums, dtype=int) #random integer üretme\n",
    "    for i in range(nums):\n",
    "        if i%2 == 1:\n",
    "            image[rows[i], cols[i]] = (255, 255, 255) #beyaz\n",
    "        else:\n",
    "            image[rows[i], cols[i]] = (0, 0, 0)       #siyah\n",
    "    return image"
   ]
  },
  {
   "cell_type": "code",
   "execution_count": 52,
   "metadata": {},
   "outputs": [],
   "source": [
    "h, w = src.shape[:2]"
   ]
  },
  {
   "cell_type": "code",
   "execution_count": 53,
   "metadata": {},
   "outputs": [],
   "source": [
    "copy = np.copy(src)\n",
    "copy = add_salt_pepper_noise(copy)"
   ]
  },
  {
   "cell_type": "code",
   "execution_count": 54,
   "metadata": {},
   "outputs": [],
   "source": [
    "# 2 sonucu yanyana gösterme\n",
    "result = np.zeros([h, w*2, 3], dtype=src.dtype)\n",
    "result[0:h, 0:w  , :] = src\n",
    "result[0:h, w:w*2, :] = copy"
   ]
  },
  {
   "cell_type": "code",
   "execution_count": 55,
   "metadata": {},
   "outputs": [],
   "source": [
    "cv.imshow(\"result\",result)\n",
    "cv.waitKey(0)\n",
    "cv.destroyAllWindows()"
   ]
  },
  {
   "cell_type": "code",
   "execution_count": 56,
   "metadata": {},
   "outputs": [
    {
     "data": {
      "text/plain": [
       "True"
      ]
     },
     "execution_count": 56,
     "metadata": {},
     "output_type": "execute_result"
    }
   ],
   "source": [
    "cv.imwrite(\"result3.png\",result)"
   ]
  },
  {
   "cell_type": "markdown",
   "metadata": {},
   "source": [
    "Nums = 10.000\n",
    "\n",
    "![](result1.png)"
   ]
  },
  {
   "cell_type": "markdown",
   "metadata": {},
   "source": [
    "Nums = 100.000\n",
    "\n",
    "![](result2.png)"
   ]
  },
  {
   "cell_type": "markdown",
   "metadata": {},
   "source": [
    "Nums = 1.000.000\n",
    "\n",
    "![](result2.png)"
   ]
  },
  {
   "cell_type": "markdown",
   "metadata": {},
   "source": [
    "Nums = 10.000.000\n",
    "\n",
    "![](result3.png)"
   ]
  }
 ],
 "metadata": {
  "kernelspec": {
   "display_name": "Python 3",
   "language": "python",
   "name": "python3"
  },
  "language_info": {
   "codemirror_mode": {
    "name": "ipython",
    "version": 3
   },
   "file_extension": ".py",
   "mimetype": "text/x-python",
   "name": "python",
   "nbconvert_exporter": "python",
   "pygments_lexer": "ipython3",
   "version": "3.12.4"
  }
 },
 "nbformat": 4,
 "nbformat_minor": 2
}
