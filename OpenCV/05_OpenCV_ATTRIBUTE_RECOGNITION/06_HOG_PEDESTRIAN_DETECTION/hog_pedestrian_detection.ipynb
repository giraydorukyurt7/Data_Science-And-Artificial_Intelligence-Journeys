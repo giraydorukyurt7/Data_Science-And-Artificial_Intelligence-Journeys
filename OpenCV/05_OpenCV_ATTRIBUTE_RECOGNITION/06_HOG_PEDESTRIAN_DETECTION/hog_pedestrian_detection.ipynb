{
 "cells": [
  {
   "cell_type": "markdown",
   "metadata": {},
   "source": [
    "# HOG - HISTOGRAM OF ORİENTED GRADIENTS"
   ]
  },
  {
   "cell_type": "code",
   "execution_count": 76,
   "metadata": {},
   "outputs": [],
   "source": [
    "import cv2 as cv\n",
    "import numpy as np"
   ]
  },
  {
   "cell_type": "code",
   "execution_count": 77,
   "metadata": {},
   "outputs": [],
   "source": [
    "img = cv.imread(\"pedestrian.png\")\n",
    "img = cv.resize(img, None, fx=0.8, fy=0.8, interpolation=cv.INTER_CUBIC)\n",
    "src = img.copy()"
   ]
  },
  {
   "cell_type": "code",
   "execution_count": 78,
   "metadata": {},
   "outputs": [],
   "source": [
    "hog = cv.HOGDescriptor()\n",
    "\n",
    "hog.setSVMDetector(cv.HOGDescriptor_getDefaultPeopleDetector())"
   ]
  },
  {
   "cell_type": "code",
   "execution_count": 79,
   "metadata": {},
   "outputs": [],
   "source": [
    "rects, weights = hog.detectMultiScale(src,\n",
    "                                      winStride=(4,4),\n",
    "                                      padding=(8,8),\n",
    "                                      scale=1.25)"
   ]
  },
  {
   "cell_type": "code",
   "execution_count": 80,
   "metadata": {},
   "outputs": [],
   "source": [
    "for (x,y,w,h) in rects:\n",
    "    cv.rectangle(src,\n",
    "                 (x,y),\n",
    "                 (x+w,y+h),\n",
    "                 (0,255,0),\n",
    "                 2)"
   ]
  },
  {
   "cell_type": "code",
   "execution_count": 81,
   "metadata": {},
   "outputs": [],
   "source": [
    "# 2 sonucu yanyana gösterme\n",
    "h, w = src.shape[:2]\n",
    "result = np.zeros([h, w*2, 3], dtype=src.dtype)\n",
    "result[0:h, 0:w  , :] = img\n",
    "result[0:h, w:w*2, :] = src"
   ]
  },
  {
   "cell_type": "code",
   "execution_count": 82,
   "metadata": {},
   "outputs": [],
   "source": [
    "cv.imshow(\"result\",result)\n",
    "cv.imwrite(\"result1.png\",result)\n",
    "cv.waitKey(0)\n",
    "cv.destroyAllWindows()"
   ]
  },
  {
   "cell_type": "markdown",
   "metadata": {},
   "source": [
    "![](result1.png)"
   ]
  }
 ],
 "metadata": {
  "kernelspec": {
   "display_name": "Python 3",
   "language": "python",
   "name": "python3"
  },
  "language_info": {
   "codemirror_mode": {
    "name": "ipython",
    "version": 3
   },
   "file_extension": ".py",
   "mimetype": "text/x-python",
   "name": "python",
   "nbconvert_exporter": "python",
   "pygments_lexer": "ipython3",
   "version": "3.12.4"
  }
 },
 "nbformat": 4,
 "nbformat_minor": 2
}
