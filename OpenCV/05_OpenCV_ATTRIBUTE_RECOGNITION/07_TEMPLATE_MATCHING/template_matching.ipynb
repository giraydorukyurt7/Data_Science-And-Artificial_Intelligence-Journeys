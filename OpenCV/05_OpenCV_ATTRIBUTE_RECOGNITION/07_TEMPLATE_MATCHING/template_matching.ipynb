{
 "cells": [
  {
   "cell_type": "code",
   "execution_count": 9,
   "metadata": {},
   "outputs": [],
   "source": [
    "import cv2 as cv\n",
    "import numpy as np"
   ]
  },
  {
   "cell_type": "code",
   "execution_count": 10,
   "metadata": {},
   "outputs": [],
   "source": [
    "def template_demo():\n",
    "    src = cv.imread(\"OpenCV.png\")\n",
    "    tpl = cv.imread(\"template_1.png\")\n",
    "\n",
    "    cv.imshow(\"input\", src)\n",
    "    cv.imshow(\"tpl\", tpl)\n",
    "\n",
    "    th, tw = tpl.shape[:2] # Şablon görüntüsünün yüksekliğini (th) ve genişliğini (tw).\n",
    "\n",
    "    # Şablon eşleştirme işlemi, TM_CCORR_NORMED yöntemiyle yapılır\n",
    "    result = cv.matchTemplate(src, tpl, method=cv.TM_CCORR_NORMED)\n",
    "\n",
    "    # Eşik değeri belirler; t'nin üzerindeki değerler benzer bölgeler olarak kabul edilir\n",
    "    t = 0.98\n",
    "    loc = np.where(result>t) # Eşik değeri üzerindeki tüm konumları bulur\n",
    "    # Bulunan tüm eşleşmeleri döngü ile işler\n",
    "    for pt in zip(*loc[::-1]):\n",
    "        # Şablonun eşleştiği her noktada dikdörtgen çizer\n",
    "        cv.rectangle(src,                       # Ana görüntü üzerine\n",
    "                     pt,                        # Dikdörtgenin sol üst köşesi (eşleşen konum)\n",
    "                     (pt[0] + tw, pt[1] + th),  # Sağ alt köşe, şablon boyutuyla ayarlanır\n",
    "                     (0, 0, 255),               # Kırmızı renk (BGR formatında)\n",
    "                     1,                         # Çizgi kalınlığı\n",
    "                     8,                         # Çizgi tipi\n",
    "                     0)                         # Köşe dönüşü (yuvarlatma yok)\n",
    "    \n",
    "    cv.imshow(\"first_demo\", src)"
   ]
  },
  {
   "cell_type": "code",
   "execution_count": 11,
   "metadata": {},
   "outputs": [],
   "source": [
    "template_demo()\n",
    "cv.waitKey(0)\n",
    "cv.destroyAllWindows()"
   ]
  },
  {
   "cell_type": "markdown",
   "metadata": {},
   "source": [
    "![](results1.png)"
   ]
  }
 ],
 "metadata": {
  "kernelspec": {
   "display_name": "Python 3",
   "language": "python",
   "name": "python3"
  },
  "language_info": {
   "codemirror_mode": {
    "name": "ipython",
    "version": 3
   },
   "file_extension": ".py",
   "mimetype": "text/x-python",
   "name": "python",
   "nbconvert_exporter": "python",
   "pygments_lexer": "ipython3",
   "version": "3.12.4"
  }
 },
 "nbformat": 4,
 "nbformat_minor": 2
}
