{
 "cells": [
  {
   "cell_type": "markdown",
   "metadata": {},
   "source": [
    "#### dnn-ssd modelini kullanarak kamera ile nesne tespiti yapar."
   ]
  },
  {
   "cell_type": "code",
   "execution_count": 6,
   "metadata": {},
   "outputs": [],
   "source": [
    "import cv2 as cv\n",
    "import numpy as np"
   ]
  },
  {
   "cell_type": "code",
   "execution_count": 7,
   "metadata": {},
   "outputs": [],
   "source": [
    "# Göreceli yol ile dosyalara erişim\n",
    "\n",
    "#path      = \"../00_external_models/GOOGLENET/models/SSD\"\n",
    "\n",
    "model_bin   = \"../00_external_models/GOOGLENET/models/SSD/MobileNetSSD_deploy.caffemodel\"\n",
    "config_text = \"../00_external_models/GOOGLENET/models/SSD/MobileNetSSD_deploy.prototxt\""
   ]
  },
  {
   "cell_type": "code",
   "execution_count": 8,
   "metadata": {},
   "outputs": [],
   "source": [
    "objName = [\"background\", \"aeroplane\", \"bicycle\",\n",
    "           \"bird\", \"boat\", \"bottle\", \"bus\", \"car\", \n",
    "           \"cat\", \"chair\", \"cow\", \"diningtable\", \n",
    "           \"dog\", \"horse\", \"motorbike\", \"person\", \n",
    "           \"pottedplant\", \"sheep\", \"sofa\", \"train\", \n",
    "           \"tvmonitor\"]"
   ]
  },
  {
   "cell_type": "code",
   "execution_count": 9,
   "metadata": {},
   "outputs": [],
   "source": [
    "net = cv.dnn.readNetFromCaffe(config_text, model_bin)"
   ]
  },
  {
   "cell_type": "code",
   "execution_count": 10,
   "metadata": {},
   "outputs": [],
   "source": [
    "cap = cv.VideoCapture(1)"
   ]
  },
  {
   "cell_type": "code",
   "execution_count": 11,
   "metadata": {},
   "outputs": [],
   "source": [
    "while True:\n",
    "    ret, frame = cap.read()\n",
    "    if ret is False:\n",
    "        break\n",
    "    h, w = frame.shape[:2]\n",
    "    \n",
    "    blobImage = cv.dnn.blobFromImage(frame,\n",
    "                                     0.007843,\n",
    "                                     (300, 300),\n",
    "                                     (127.5, 127.5, 127.5),\n",
    "                                     True,\n",
    "                                     False)\n",
    "    net.setInput(blobImage)\n",
    "    cvOut = net.forward()\n",
    "\n",
    "    for detection in cvOut[0, 0, :, :]:\n",
    "        score = float(detection[2])\n",
    "        objIndex = int(detection[1])\n",
    "        if score > 0.5:\n",
    "            left   = detection[3] * w\n",
    "            top    = detection[4] * h\n",
    "            right  = detection[5] * w\n",
    "            bottom = detection[6] * h\n",
    "            cv.rectangle(frame,\n",
    "                         (int(left), int(top)),\n",
    "                         (int(right), int(bottom)),\n",
    "                         (255, 0, 0),\n",
    "                         thickness=2)\n",
    "            cv.putText(frame,\n",
    "                       \"score:%.6f, %s\" % (score,objName[objIndex]),\n",
    "                       (int(left)-10, int(top) - 5),\n",
    "                       cv.FONT_HERSHEY_SIMPLEX,\n",
    "                       0.7,\n",
    "                       (0, 0, 255),\n",
    "                       2,\n",
    "                       8)\n",
    "    \n",
    "    cv.imshow('video-ssd-demo', frame)\n",
    "    c = cv.waitKey(10)\n",
    "    if c == 27:\n",
    "        break"
   ]
  },
  {
   "cell_type": "code",
   "execution_count": 12,
   "metadata": {},
   "outputs": [],
   "source": [
    "cv.waitKey(0)\n",
    "cv.destroyAllWindows()"
   ]
  }
 ],
 "metadata": {
  "kernelspec": {
   "display_name": "Python 3",
   "language": "python",
   "name": "python3"
  },
  "language_info": {
   "codemirror_mode": {
    "name": "ipython",
    "version": 3
   },
   "file_extension": ".py",
   "mimetype": "text/x-python",
   "name": "python",
   "nbconvert_exporter": "python",
   "pygments_lexer": "ipython3",
   "version": "3.12.4"
  }
 },
 "nbformat": 4,
 "nbformat_minor": 2
}
