{
 "cells": [
  {
   "cell_type": "code",
   "execution_count": 1,
   "metadata": {},
   "outputs": [],
   "source": [
    "import cv2 as cv\n",
    "import numpy as np"
   ]
  },
  {
   "cell_type": "code",
   "execution_count": 2,
   "metadata": {},
   "outputs": [],
   "source": [
    "# Göreceli yol ile dosyalara erişim\n",
    "path      = \"../00_external_models/GOOGLENET/models\"\n",
    "\n",
    "#video_path = \"../04_VIDEO_ANALYSIS_BACKGROUND_SUBTRACTION_AND_ROI_EXTRACTION_OF_THE_FOREGROUND/pedestrian.mp4\"\n",
    "\n",
    "bin_model = \"../00_external_models/GOOGLENET/models/bvlc_googlenet.caffemodel\"\n",
    "protxt    = \"../00_external_models/GOOGLENET/models/deploy.prototxt\""
   ]
  },
  {
   "cell_type": "code",
   "execution_count": 3,
   "metadata": {},
   "outputs": [
    {
     "name": "stdout",
     "output_type": "stream",
     "text": [
      "layer id : 1, type : Convolution, name : conv1/7x7_s2\n",
      "layer id : 2, type : ReLU, name : conv1/relu_7x7\n",
      "layer id : 3, type : Pooling, name : pool1/3x3_s2\n",
      "layer id : 4, type : LRN, name : pool1/norm1\n",
      "layer id : 5, type : Convolution, name : conv2/3x3_reduce\n",
      "layer id : 6, type : ReLU, name : conv2/relu_3x3_reduce\n",
      "layer id : 7, type : Convolution, name : conv2/3x3\n",
      "layer id : 8, type : ReLU, name : conv2/relu_3x3\n",
      "layer id : 9, type : LRN, name : conv2/norm2\n",
      "layer id : 10, type : Pooling, name : pool2/3x3_s2\n",
      "layer id : 11, type : Convolution, name : inception_3a/1x1\n",
      "layer id : 12, type : ReLU, name : inception_3a/relu_1x1\n",
      "layer id : 13, type : Convolution, name : inception_3a/3x3_reduce\n",
      "layer id : 14, type : ReLU, name : inception_3a/relu_3x3_reduce\n",
      "layer id : 15, type : Convolution, name : inception_3a/3x3\n",
      "layer id : 16, type : ReLU, name : inception_3a/relu_3x3\n",
      "layer id : 17, type : Convolution, name : inception_3a/5x5_reduce\n",
      "layer id : 18, type : ReLU, name : inception_3a/relu_5x5_reduce\n",
      "layer id : 19, type : Convolution, name : inception_3a/5x5\n",
      "layer id : 20, type : ReLU, name : inception_3a/relu_5x5\n",
      "layer id : 21, type : Pooling, name : inception_3a/pool\n",
      "layer id : 22, type : Convolution, name : inception_3a/pool_proj\n",
      "layer id : 23, type : ReLU, name : inception_3a/relu_pool_proj\n",
      "layer id : 24, type : Concat, name : inception_3a/output\n",
      "layer id : 25, type : Convolution, name : inception_3b/1x1\n",
      "layer id : 26, type : ReLU, name : inception_3b/relu_1x1\n",
      "layer id : 27, type : Convolution, name : inception_3b/3x3_reduce\n",
      "layer id : 28, type : ReLU, name : inception_3b/relu_3x3_reduce\n",
      "layer id : 29, type : Convolution, name : inception_3b/3x3\n",
      "layer id : 30, type : ReLU, name : inception_3b/relu_3x3\n",
      "layer id : 31, type : Convolution, name : inception_3b/5x5_reduce\n",
      "layer id : 32, type : ReLU, name : inception_3b/relu_5x5_reduce\n",
      "layer id : 33, type : Convolution, name : inception_3b/5x5\n",
      "layer id : 34, type : ReLU, name : inception_3b/relu_5x5\n",
      "layer id : 35, type : Pooling, name : inception_3b/pool\n",
      "layer id : 36, type : Convolution, name : inception_3b/pool_proj\n",
      "layer id : 37, type : ReLU, name : inception_3b/relu_pool_proj\n",
      "layer id : 38, type : Concat, name : inception_3b/output\n",
      "layer id : 39, type : Pooling, name : pool3/3x3_s2\n",
      "layer id : 40, type : Convolution, name : inception_4a/1x1\n",
      "layer id : 41, type : ReLU, name : inception_4a/relu_1x1\n",
      "layer id : 42, type : Convolution, name : inception_4a/3x3_reduce\n",
      "layer id : 43, type : ReLU, name : inception_4a/relu_3x3_reduce\n",
      "layer id : 44, type : Convolution, name : inception_4a/3x3\n",
      "layer id : 45, type : ReLU, name : inception_4a/relu_3x3\n",
      "layer id : 46, type : Convolution, name : inception_4a/5x5_reduce\n",
      "layer id : 47, type : ReLU, name : inception_4a/relu_5x5_reduce\n",
      "layer id : 48, type : Convolution, name : inception_4a/5x5\n",
      "layer id : 49, type : ReLU, name : inception_4a/relu_5x5\n",
      "layer id : 50, type : Pooling, name : inception_4a/pool\n",
      "layer id : 51, type : Convolution, name : inception_4a/pool_proj\n",
      "layer id : 52, type : ReLU, name : inception_4a/relu_pool_proj\n",
      "layer id : 53, type : Concat, name : inception_4a/output\n",
      "layer id : 54, type : Convolution, name : inception_4b/1x1\n",
      "layer id : 55, type : ReLU, name : inception_4b/relu_1x1\n",
      "layer id : 56, type : Convolution, name : inception_4b/3x3_reduce\n",
      "layer id : 57, type : ReLU, name : inception_4b/relu_3x3_reduce\n",
      "layer id : 58, type : Convolution, name : inception_4b/3x3\n",
      "layer id : 59, type : ReLU, name : inception_4b/relu_3x3\n",
      "layer id : 60, type : Convolution, name : inception_4b/5x5_reduce\n",
      "layer id : 61, type : ReLU, name : inception_4b/relu_5x5_reduce\n",
      "layer id : 62, type : Convolution, name : inception_4b/5x5\n",
      "layer id : 63, type : ReLU, name : inception_4b/relu_5x5\n",
      "layer id : 64, type : Pooling, name : inception_4b/pool\n",
      "layer id : 65, type : Convolution, name : inception_4b/pool_proj\n",
      "layer id : 66, type : ReLU, name : inception_4b/relu_pool_proj\n",
      "layer id : 67, type : Concat, name : inception_4b/output\n",
      "layer id : 68, type : Convolution, name : inception_4c/1x1\n",
      "layer id : 69, type : ReLU, name : inception_4c/relu_1x1\n",
      "layer id : 70, type : Convolution, name : inception_4c/3x3_reduce\n",
      "layer id : 71, type : ReLU, name : inception_4c/relu_3x3_reduce\n",
      "layer id : 72, type : Convolution, name : inception_4c/3x3\n",
      "layer id : 73, type : ReLU, name : inception_4c/relu_3x3\n",
      "layer id : 74, type : Convolution, name : inception_4c/5x5_reduce\n",
      "layer id : 75, type : ReLU, name : inception_4c/relu_5x5_reduce\n",
      "layer id : 76, type : Convolution, name : inception_4c/5x5\n",
      "layer id : 77, type : ReLU, name : inception_4c/relu_5x5\n",
      "layer id : 78, type : Pooling, name : inception_4c/pool\n",
      "layer id : 79, type : Convolution, name : inception_4c/pool_proj\n",
      "layer id : 80, type : ReLU, name : inception_4c/relu_pool_proj\n",
      "layer id : 81, type : Concat, name : inception_4c/output\n",
      "layer id : 82, type : Convolution, name : inception_4d/1x1\n",
      "layer id : 83, type : ReLU, name : inception_4d/relu_1x1\n",
      "layer id : 84, type : Convolution, name : inception_4d/3x3_reduce\n",
      "layer id : 85, type : ReLU, name : inception_4d/relu_3x3_reduce\n",
      "layer id : 86, type : Convolution, name : inception_4d/3x3\n",
      "layer id : 87, type : ReLU, name : inception_4d/relu_3x3\n",
      "layer id : 88, type : Convolution, name : inception_4d/5x5_reduce\n",
      "layer id : 89, type : ReLU, name : inception_4d/relu_5x5_reduce\n",
      "layer id : 90, type : Convolution, name : inception_4d/5x5\n",
      "layer id : 91, type : ReLU, name : inception_4d/relu_5x5\n",
      "layer id : 92, type : Pooling, name : inception_4d/pool\n",
      "layer id : 93, type : Convolution, name : inception_4d/pool_proj\n",
      "layer id : 94, type : ReLU, name : inception_4d/relu_pool_proj\n",
      "layer id : 95, type : Concat, name : inception_4d/output\n",
      "layer id : 96, type : Convolution, name : inception_4e/1x1\n",
      "layer id : 97, type : ReLU, name : inception_4e/relu_1x1\n",
      "layer id : 98, type : Convolution, name : inception_4e/3x3_reduce\n",
      "layer id : 99, type : ReLU, name : inception_4e/relu_3x3_reduce\n",
      "layer id : 100, type : Convolution, name : inception_4e/3x3\n",
      "layer id : 101, type : ReLU, name : inception_4e/relu_3x3\n",
      "layer id : 102, type : Convolution, name : inception_4e/5x5_reduce\n",
      "layer id : 103, type : ReLU, name : inception_4e/relu_5x5_reduce\n",
      "layer id : 104, type : Convolution, name : inception_4e/5x5\n",
      "layer id : 105, type : ReLU, name : inception_4e/relu_5x5\n",
      "layer id : 106, type : Pooling, name : inception_4e/pool\n",
      "layer id : 107, type : Convolution, name : inception_4e/pool_proj\n",
      "layer id : 108, type : ReLU, name : inception_4e/relu_pool_proj\n",
      "layer id : 109, type : Concat, name : inception_4e/output\n",
      "layer id : 110, type : Pooling, name : pool4/3x3_s2\n",
      "layer id : 111, type : Convolution, name : inception_5a/1x1\n",
      "layer id : 112, type : ReLU, name : inception_5a/relu_1x1\n",
      "layer id : 113, type : Convolution, name : inception_5a/3x3_reduce\n",
      "layer id : 114, type : ReLU, name : inception_5a/relu_3x3_reduce\n",
      "layer id : 115, type : Convolution, name : inception_5a/3x3\n",
      "layer id : 116, type : ReLU, name : inception_5a/relu_3x3\n",
      "layer id : 117, type : Convolution, name : inception_5a/5x5_reduce\n",
      "layer id : 118, type : ReLU, name : inception_5a/relu_5x5_reduce\n",
      "layer id : 119, type : Convolution, name : inception_5a/5x5\n",
      "layer id : 120, type : ReLU, name : inception_5a/relu_5x5\n",
      "layer id : 121, type : Pooling, name : inception_5a/pool\n",
      "layer id : 122, type : Convolution, name : inception_5a/pool_proj\n",
      "layer id : 123, type : ReLU, name : inception_5a/relu_pool_proj\n",
      "layer id : 124, type : Concat, name : inception_5a/output\n",
      "layer id : 125, type : Convolution, name : inception_5b/1x1\n",
      "layer id : 126, type : ReLU, name : inception_5b/relu_1x1\n",
      "layer id : 127, type : Convolution, name : inception_5b/3x3_reduce\n",
      "layer id : 128, type : ReLU, name : inception_5b/relu_3x3_reduce\n",
      "layer id : 129, type : Convolution, name : inception_5b/3x3\n",
      "layer id : 130, type : ReLU, name : inception_5b/relu_3x3\n",
      "layer id : 131, type : Convolution, name : inception_5b/5x5_reduce\n",
      "layer id : 132, type : ReLU, name : inception_5b/relu_5x5_reduce\n",
      "layer id : 133, type : Convolution, name : inception_5b/5x5\n",
      "layer id : 134, type : ReLU, name : inception_5b/relu_5x5\n",
      "layer id : 135, type : Pooling, name : inception_5b/pool\n",
      "layer id : 136, type : Convolution, name : inception_5b/pool_proj\n",
      "layer id : 137, type : ReLU, name : inception_5b/relu_pool_proj\n",
      "layer id : 138, type : Concat, name : inception_5b/output\n",
      "layer id : 139, type : Pooling, name : pool5/7x7_s1\n",
      "layer id : 140, type : Dropout, name : pool5/drop_7x7_s1\n",
      "layer id : 141, type : InnerProduct, name : loss3/classifier\n",
      "layer id : 142, type : Softmax, name : prob\n"
     ]
    }
   ],
   "source": [
    "net = cv.dnn.readNet(bin_model, protxt)\n",
    "layer_names = net.getLayerNames()\n",
    "\n",
    "for name in layer_names:\n",
    "    id = net.getLayerId(name)\n",
    "    layer = net.getLayer(id)\n",
    "    print(\"layer id : %d, type : %s, name : %s\" % (id, layer.type, layer.name))"
   ]
  },
  {
   "cell_type": "markdown",
   "metadata": {},
   "source": [
    "---\n",
    "\n",
    "# GOOGLE NET MODELİ İLE GÖRÜNTÜ SINIFLANDIRMA\n",
    "\n",
    "---"
   ]
  },
  {
   "cell_type": "code",
   "execution_count": 4,
   "metadata": {},
   "outputs": [],
   "source": [
    "with open(\"../00_external_models/GOOGLENET/models/classification_classes_ILSVRC2012.txt\", 'rt') as f:\n",
    "    classes = f.read().split('\\n')"
   ]
  },
  {
   "cell_type": "code",
   "execution_count": 5,
   "metadata": {},
   "outputs": [
    {
     "data": {
      "text/plain": [
       "['tench, Tinca tinca',\n",
       " 'goldfish, Carassius auratus',\n",
       " 'great white shark, white shark, man-eater, man-eating shark, Carcharodon carcharias',\n",
       " 'tiger shark, Galeocerdo cuvieri',\n",
       " 'hammerhead, hammerhead shark']"
      ]
     },
     "execution_count": 5,
     "metadata": {},
     "output_type": "execute_result"
    }
   ],
   "source": [
    "classes[:5]"
   ]
  },
  {
   "cell_type": "code",
   "execution_count": 6,
   "metadata": {},
   "outputs": [],
   "source": [
    "net = cv.dnn.readNetFromCaffe(protxt, bin_model)"
   ]
  },
  {
   "cell_type": "code",
   "execution_count": 7,
   "metadata": {},
   "outputs": [],
   "source": [
    "# nesne tespiti yapmak istediğimiz görseller:\n",
    "\n",
    "#image1 = cv.imread(\"pug.jpg\")\n",
    "#image1 = cv.imread(\"guinea_pig.jpg\")\n",
    "image1 = cv.imread(\"zebra.jpg\")"
   ]
  },
  {
   "cell_type": "code",
   "execution_count": 8,
   "metadata": {},
   "outputs": [],
   "source": [
    "blob = cv.dnn.blobFromImage(image1,\n",
    "                            1.0,\n",
    "                            (224, 224),\n",
    "                            (104, 117, 123),\n",
    "                            False,\n",
    "                            crop=False)"
   ]
  },
  {
   "cell_type": "code",
   "execution_count": 9,
   "metadata": {},
   "outputs": [],
   "source": [
    "result = np.copy(image1)"
   ]
  },
  {
   "cell_type": "code",
   "execution_count": 10,
   "metadata": {},
   "outputs": [],
   "source": [
    "net.setInput(blob)\n",
    "out = net.forward()"
   ]
  },
  {
   "cell_type": "code",
   "execution_count": 11,
   "metadata": {},
   "outputs": [
    {
     "data": {
      "text/plain": [
       "array([4.3838301e-12, 1.3566291e-11, 5.8438165e-10, 7.4265614e-11],\n",
       "      dtype=float32)"
      ]
     },
     "execution_count": 11,
     "metadata": {},
     "output_type": "execute_result"
    }
   ],
   "source": [
    "out = out.flatten()\n",
    "out[1:5]"
   ]
  },
  {
   "cell_type": "code",
   "execution_count": 12,
   "metadata": {},
   "outputs": [
    {
     "data": {
      "text/plain": [
       "340"
      ]
     },
     "execution_count": 12,
     "metadata": {},
     "output_type": "execute_result"
    }
   ],
   "source": [
    "classId = np.argmax(out)\n",
    "classId"
   ]
  },
  {
   "cell_type": "code",
   "execution_count": 13,
   "metadata": {},
   "outputs": [
    {
     "data": {
      "text/plain": [
       "0.99998736"
      ]
     },
     "execution_count": 13,
     "metadata": {},
     "output_type": "execute_result"
    }
   ],
   "source": [
    "confidence = out[classId]\n",
    "confidence"
   ]
  },
  {
   "cell_type": "code",
   "execution_count": 14,
   "metadata": {},
   "outputs": [
    {
     "data": {
      "text/plain": [
       "array([[[231, 233, 243],\n",
       "        [232, 234, 244],\n",
       "        [233, 235, 245],\n",
       "        ...,\n",
       "        [238, 238, 250],\n",
       "        [237, 237, 249],\n",
       "        [237, 237, 249]],\n",
       "\n",
       "       [[231, 233, 243],\n",
       "        [232, 234, 244],\n",
       "        [233, 235, 245],\n",
       "        ...,\n",
       "        [238, 238, 250],\n",
       "        [237, 237, 249],\n",
       "        [237, 237, 249]],\n",
       "\n",
       "       [[231, 233, 243],\n",
       "        [232, 234, 244],\n",
       "        [233, 235, 245],\n",
       "        ...,\n",
       "        [238, 238, 250],\n",
       "        [237, 237, 249],\n",
       "        [237, 237, 249]],\n",
       "\n",
       "       ...,\n",
       "\n",
       "       [[ 85, 113, 154],\n",
       "        [ 56,  92, 132],\n",
       "        [ 50, 102, 143],\n",
       "        ...,\n",
       "        [  0,  23,  39],\n",
       "        [ 29,  43,  66],\n",
       "        [ 23,  32,  59]],\n",
       "\n",
       "       [[ 53,  75, 116],\n",
       "        [ 24,  59,  99],\n",
       "        [ 79, 135, 176],\n",
       "        ...,\n",
       "        [ 29,  42,  58],\n",
       "        [ 83,  90, 117],\n",
       "        [147, 152, 183]],\n",
       "\n",
       "       [[ 52,  71, 109],\n",
       "        [ 45,  75, 116],\n",
       "        [ 59, 115, 156],\n",
       "        ...,\n",
       "        [ 48,  50,  61],\n",
       "        [ 64,  75,  97],\n",
       "        [126, 138, 166]]], dtype=uint8)"
      ]
     },
     "execution_count": 14,
     "metadata": {},
     "output_type": "execute_result"
    }
   ],
   "source": [
    "t, _ = net.getPerfProfile()\n",
    "label = 'cost time: %.2f ms' % (t * 1000.0/cv.getTickFrequency())\n",
    "cv.putText(result,\n",
    "           label,\n",
    "           (0, 160),\n",
    "           cv.FONT_HERSHEY_SIMPLEX,\n",
    "           2,\n",
    "           (255, 255, 0),\n",
    "           10)"
   ]
  },
  {
   "cell_type": "code",
   "execution_count": 15,
   "metadata": {},
   "outputs": [
    {
     "name": "stdout",
     "output_type": "stream",
     "text": [
      "cost time: 74.04 ms\n"
     ]
    }
   ],
   "source": [
    "print(label)"
   ]
  },
  {
   "cell_type": "code",
   "execution_count": 16,
   "metadata": {},
   "outputs": [
    {
     "data": {
      "text/plain": [
       "array([[[231, 233, 243],\n",
       "        [232, 234, 244],\n",
       "        [233, 235, 245],\n",
       "        ...,\n",
       "        [238, 238, 250],\n",
       "        [237, 237, 249],\n",
       "        [237, 237, 249]],\n",
       "\n",
       "       [[231, 233, 243],\n",
       "        [232, 234, 244],\n",
       "        [233, 235, 245],\n",
       "        ...,\n",
       "        [238, 238, 250],\n",
       "        [237, 237, 249],\n",
       "        [237, 237, 249]],\n",
       "\n",
       "       [[231, 233, 243],\n",
       "        [232, 234, 244],\n",
       "        [233, 235, 245],\n",
       "        ...,\n",
       "        [238, 238, 250],\n",
       "        [237, 237, 249],\n",
       "        [237, 237, 249]],\n",
       "\n",
       "       ...,\n",
       "\n",
       "       [[ 85, 113, 154],\n",
       "        [ 56,  92, 132],\n",
       "        [ 50, 102, 143],\n",
       "        ...,\n",
       "        [  0,  23,  39],\n",
       "        [ 29,  43,  66],\n",
       "        [ 23,  32,  59]],\n",
       "\n",
       "       [[ 53,  75, 116],\n",
       "        [ 24,  59,  99],\n",
       "        [ 79, 135, 176],\n",
       "        ...,\n",
       "        [ 29,  42,  58],\n",
       "        [ 83,  90, 117],\n",
       "        [147, 152, 183]],\n",
       "\n",
       "       [[ 52,  71, 109],\n",
       "        [ 45,  75, 116],\n",
       "        [ 59, 115, 156],\n",
       "        ...,\n",
       "        [ 48,  50,  61],\n",
       "        [ 64,  75,  97],\n",
       "        [126, 138, 166]]], dtype=uint8)"
      ]
     },
     "execution_count": 16,
     "metadata": {},
     "output_type": "execute_result"
    }
   ],
   "source": [
    "label = '%s : %.6f' % (classes[classId] if classes else 'class #%d' % classId, confidence)\n",
    "cv.putText(result,\n",
    "           label,\n",
    "           (0, 260),\n",
    "           cv.FONT_HERSHEY_SIMPLEX,\n",
    "           2,\n",
    "           (0, 0, 255),\n",
    "           10)"
   ]
  },
  {
   "cell_type": "code",
   "execution_count": 17,
   "metadata": {},
   "outputs": [
    {
     "name": "stdout",
     "output_type": "stream",
     "text": [
      "zebra : 0.999987\n"
     ]
    }
   ],
   "source": [
    "print(label)"
   ]
  },
  {
   "cell_type": "code",
   "execution_count": 18,
   "metadata": {},
   "outputs": [
    {
     "data": {
      "text/plain": [
       "True"
      ]
     },
     "execution_count": 18,
     "metadata": {},
     "output_type": "execute_result"
    }
   ],
   "source": [
    "show_img = np.hstack((image1, result))\n",
    "cv.namedWindow('demo', cv.WINDOW_NORMAL)\n",
    "cv.imshow(\"demo\", show_img)\n",
    "cv.waitKey(0)\n",
    "cv.destroyAllWindows()\n",
    "cv.imwrite(\"results2.jpg\",show_img)"
   ]
  },
  {
   "cell_type": "markdown",
   "metadata": {},
   "source": [
    "![](results1.jpg)"
   ]
  },
  {
   "cell_type": "markdown",
   "metadata": {},
   "source": [
    "![](results2.jpg)"
   ]
  },
  {
   "cell_type": "markdown",
   "metadata": {},
   "source": [
    "![](results3.jpg)"
   ]
  }
 ],
 "metadata": {
  "kernelspec": {
   "display_name": "Python 3",
   "language": "python",
   "name": "python3"
  },
  "language_info": {
   "codemirror_mode": {
    "name": "ipython",
    "version": 3
   },
   "file_extension": ".py",
   "mimetype": "text/x-python",
   "name": "python",
   "nbconvert_exporter": "python",
   "pygments_lexer": "ipython3",
   "version": "3.12.4"
  }
 },
 "nbformat": 4,
 "nbformat_minor": 2
}
