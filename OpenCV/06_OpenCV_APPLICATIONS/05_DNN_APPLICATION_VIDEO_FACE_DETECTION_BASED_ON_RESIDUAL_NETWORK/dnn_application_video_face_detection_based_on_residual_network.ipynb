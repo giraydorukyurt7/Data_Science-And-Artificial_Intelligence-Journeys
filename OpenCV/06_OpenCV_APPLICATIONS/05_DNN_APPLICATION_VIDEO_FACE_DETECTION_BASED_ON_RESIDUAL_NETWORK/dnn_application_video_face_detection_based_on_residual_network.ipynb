{
 "cells": [
  {
   "cell_type": "code",
   "execution_count": 25,
   "metadata": {},
   "outputs": [],
   "source": [
    "import cv2 as cv"
   ]
  },
  {
   "cell_type": "code",
   "execution_count": 26,
   "metadata": {},
   "outputs": [],
   "source": [
    "# Göreceli yol ile dosyalara erişim\n",
    "\n",
    "#path      = \"../00_external_models/GOOGLENET/models/Face_Detection\"\n",
    "\n",
    "model_bin   = \"../00_external_models/GOOGLENET/models/Face_Detection/res10_300x300_ssd_iter_140000_fp16.caffemodel\"\n",
    "config_text = \"../00_external_models/GOOGLENET/models/Face_Detection/deploy.prototxt\""
   ]
  },
  {
   "cell_type": "code",
   "execution_count": 27,
   "metadata": {},
   "outputs": [],
   "source": [
    "net = cv.dnn.readNetFromCaffe(config_text, model_bin)"
   ]
  },
  {
   "cell_type": "code",
   "execution_count": 28,
   "metadata": {},
   "outputs": [],
   "source": [
    "# set back-end\n",
    "net.setPreferableBackend(cv.dnn.DNN_BACKEND_OPENCV)\n",
    "net.setPreferableTarget(cv.dnn.DNN_TARGET_CPU)"
   ]
  },
  {
   "cell_type": "code",
   "execution_count": 29,
   "metadata": {},
   "outputs": [],
   "source": [
    "cap = cv.VideoCapture(\"friend_group.mp4\")"
   ]
  },
  {
   "cell_type": "code",
   "execution_count": 30,
   "metadata": {},
   "outputs": [
    {
     "name": "stdout",
     "output_type": "stream",
     "text": [
      "Video sonuna ulaşıldı veya dosya okunamıyor.\n"
     ]
    }
   ],
   "source": [
    "while cap.isOpened():\n",
    "    ret, image = cap.read()\n",
    "\n",
    "    if not ret: # Eğer kare alınamadıysa döngüden çık\n",
    "        print(\"Video sonuna ulaşıldı veya dosya okunamıyor.\")\n",
    "        break\n",
    "\n",
    "    image = cv.flip(image, 1)\n",
    "    image = cv.resize(image, (600, 400))\n",
    "    h, w = image.shape[:2]\n",
    "    \n",
    "    blobImage = cv.dnn.blobFromImage(image,\n",
    "                                     1.0,\n",
    "                                     (300, 300),\n",
    "                                     (104.0, 177.0, 123.0),\n",
    "                                     False,\n",
    "                                     False)\n",
    "    net.setInput(blobImage)\n",
    "    cvOut = net.forward()\n",
    "\n",
    "    t, _ = net.getPerfProfile()\n",
    "    fps = 1000 / (t * 1000.0 / cv.getTickFrequency())\n",
    "    label = 'FPS: %.2f' % fps\n",
    "    cv.putText(image,\n",
    "               label,\n",
    "               (0, 15),\n",
    "               cv.FONT_HERSHEY_SIMPLEX,\n",
    "               0.5,\n",
    "               (0, 255, 0))\n",
    "    \n",
    "    for detection in cvOut[0, 0, :, :]:\n",
    "        score = float(detection[2])\n",
    "        objIndex = int(detection[1])\n",
    "        if score > 0.5:\n",
    "            left   = detection[3] * w\n",
    "            top    = detection[4] * h\n",
    "            right  = detection[5] * w\n",
    "            bottom = detection[6] * h\n",
    "            cv.rectangle(image,\n",
    "                         (int(left), int(top)),\n",
    "                         (int(right), int(bottom)),\n",
    "                         (255, 0, 0),\n",
    "                         thickness=2)\n",
    "            cv.putText(image,\n",
    "                       \"score:%.6f\" % score,\n",
    "                       (int(left), int(top)),\n",
    "                       cv.FONT_HERSHEY_SIMPLEX,\n",
    "                       0.5,\n",
    "                       (0, 0, 255),\n",
    "                       1)\n",
    "    \n",
    "    cv.imshow('face-detection-demo', image)\n",
    "    c = cv.waitKey(10)\n",
    "    if c == 27:\n",
    "        break\n",
    "cap.release()\n",
    "cv.destroyAllWindows()"
   ]
  },
  {
   "cell_type": "markdown",
   "metadata": {},
   "source": [
    "![](result1.png)"
   ]
  }
 ],
 "metadata": {
  "kernelspec": {
   "display_name": "Python 3",
   "language": "python",
   "name": "python3"
  },
  "language_info": {
   "codemirror_mode": {
    "name": "ipython",
    "version": 3
   },
   "file_extension": ".py",
   "mimetype": "text/x-python",
   "name": "python",
   "nbconvert_exporter": "python",
   "pygments_lexer": "ipython3",
   "version": "3.12.4"
  }
 },
 "nbformat": 4,
 "nbformat_minor": 2
}
