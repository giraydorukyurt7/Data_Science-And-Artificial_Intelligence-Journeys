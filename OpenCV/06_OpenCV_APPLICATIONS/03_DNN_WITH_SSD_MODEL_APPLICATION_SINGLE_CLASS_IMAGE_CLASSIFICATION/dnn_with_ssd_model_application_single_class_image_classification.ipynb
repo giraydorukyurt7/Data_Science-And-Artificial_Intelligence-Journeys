{
 "cells": [
  {
   "cell_type": "code",
   "execution_count": 19,
   "metadata": {},
   "outputs": [],
   "source": [
    "import cv2 as cv\n",
    "import numpy as np"
   ]
  },
  {
   "cell_type": "code",
   "execution_count": 20,
   "metadata": {},
   "outputs": [],
   "source": [
    "# Göreceli yol ile dosyalara erişim\n",
    "\n",
    "#path      = \"../00_external_models/GOOGLENET/models/SSD\"\n",
    "\n",
    "model_bin   = \"../00_external_models/GOOGLENET/models/SSD/MobileNetSSD_deploy.caffemodel\"\n",
    "config_text = \"../00_external_models/GOOGLENET/models/SSD/MobileNetSSD_deploy.prototxt\""
   ]
  },
  {
   "cell_type": "code",
   "execution_count": 21,
   "metadata": {},
   "outputs": [],
   "source": [
    "objName = [\"background\", \"aeroplane\", \"bicycle\",\n",
    "           \"bird\", \"boat\", \"bottle\", \"bus\", \"car\", \n",
    "           \"cat\", \"chair\", \"cow\", \"diningtable\", \n",
    "           \"dog\", \"horse\", \"motorbike\", \"person\", \n",
    "           \"pottedplant\", \"sheep\", \"sofa\", \"train\", \n",
    "           \"tvmonitor\"]"
   ]
  },
  {
   "cell_type": "code",
   "execution_count": 22,
   "metadata": {},
   "outputs": [],
   "source": [
    "net = cv.dnn.readNetFromCaffe(config_text, model_bin)"
   ]
  },
  {
   "cell_type": "code",
   "execution_count": 23,
   "metadata": {},
   "outputs": [],
   "source": [
    "#src = cv.imread(\"horse.jpg\")\n",
    "#src = cv.imread(\"cat_and_dog.jpg\")\n",
    "#src = cv.imread(\"bus_and_car.jpg\")\n",
    "#src = cv.imread(\"bus_and_car2.jpg\")\n",
    "#src = cv.imread(\"cat_and_bottle.jpg\")\n",
    "#src = cv.imread(\"cows.jpg\")\n",
    "#src = cv.imread(\"sheeps.jpg\")\n",
    "#src = cv.imread(\"birds.jpg\")\n",
    "src = cv.imread(\"aeroplanes.jpg\")\n",
    "image = src.copy()\n",
    "h = image.shape[0]\n",
    "w = image.shape[1]"
   ]
  },
  {
   "cell_type": "code",
   "execution_count": 24,
   "metadata": {},
   "outputs": [],
   "source": [
    "layerNames  = net.getLayerNames()\n",
    "lastLayerId = net.getLayerId(layerNames[-1])\n",
    "lastLayer = net.getLayer(lastLayerId)"
   ]
  },
  {
   "cell_type": "code",
   "execution_count": 25,
   "metadata": {},
   "outputs": [],
   "source": [
    "blobImage = cv.dnn.blobFromImage(image,\n",
    "                                 0.007843,\n",
    "                                 (300, 300),\n",
    "                                 (127.5, 127.5, 127.5),\n",
    "                                 True,\n",
    "                                 False)\n",
    "net.setInput(blobImage)\n",
    "cvOut = net.forward()"
   ]
  },
  {
   "cell_type": "code",
   "execution_count": 26,
   "metadata": {},
   "outputs": [],
   "source": [
    "for detection in cvOut[0, 0, :, :]:\n",
    "    score = float(detection[2])\n",
    "    objIndex = int(detection[1])\n",
    "    if score > 0.5:\n",
    "        left   = detection[3] * w\n",
    "        top    = detection[4] * h\n",
    "        right  = detection[5] * w\n",
    "        bottom = detection[6] * h\n",
    "        cv.rectangle(image,\n",
    "                     (int(left), int(top)),\n",
    "                     (int(right), int(bottom)),\n",
    "                     (255, 0, 0),\n",
    "                     thickness=2)\n",
    "        cv.putText(image,\n",
    "                   \"score:%.6f, %s\" % (score,objName[objIndex]),\n",
    "                   (int(left)-10, int(top) - 5),\n",
    "                   cv.FONT_HERSHEY_SIMPLEX,\n",
    "                   0.4,\n",
    "                   (0, 0, 255),\n",
    "                   2,\n",
    "                   8)"
   ]
  },
  {
   "cell_type": "code",
   "execution_count": 27,
   "metadata": {},
   "outputs": [],
   "source": [
    "show_img = np.hstack((src, image))\n",
    "cv.imshow(\"mobilenet-ssd-demo\", show_img)\n",
    "cv.imwrite(\"result9.jpg\",show_img)\n",
    "cv.waitKey(0)\n",
    "cv.destroyAllWindows()"
   ]
  },
  {
   "cell_type": "markdown",
   "metadata": {},
   "source": [
    "![](result1.jpg)"
   ]
  },
  {
   "cell_type": "markdown",
   "metadata": {},
   "source": [
    "![](result2.jpg)"
   ]
  },
  {
   "cell_type": "markdown",
   "metadata": {},
   "source": [
    "![](result3.jpg)"
   ]
  },
  {
   "cell_type": "markdown",
   "metadata": {},
   "source": [
    "![](result4.jpg)"
   ]
  },
  {
   "cell_type": "markdown",
   "metadata": {},
   "source": [
    "![](result5.jpg)"
   ]
  },
  {
   "cell_type": "markdown",
   "metadata": {},
   "source": [
    "![](result6.jpg)"
   ]
  },
  {
   "cell_type": "markdown",
   "metadata": {},
   "source": [
    "![](result7.jpg)"
   ]
  },
  {
   "cell_type": "markdown",
   "metadata": {},
   "source": [
    "![](result8.jpg)"
   ]
  },
  {
   "cell_type": "markdown",
   "metadata": {},
   "source": [
    "![](result9.jpg)"
   ]
  }
 ],
 "metadata": {
  "kernelspec": {
   "display_name": "Python 3",
   "language": "python",
   "name": "python3"
  },
  "language_info": {
   "codemirror_mode": {
    "name": "ipython",
    "version": 3
   },
   "file_extension": ".py",
   "mimetype": "text/x-python",
   "name": "python",
   "nbconvert_exporter": "python",
   "pygments_lexer": "ipython3",
   "version": "3.12.4"
  }
 },
 "nbformat": 4,
 "nbformat_minor": 2
}
