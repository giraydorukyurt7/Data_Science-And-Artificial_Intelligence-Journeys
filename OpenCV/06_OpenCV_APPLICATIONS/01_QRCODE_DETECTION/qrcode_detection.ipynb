{
 "cells": [
  {
   "cell_type": "code",
   "execution_count": 24,
   "metadata": {},
   "outputs": [],
   "source": [
    "import cv2 as cv\n",
    "import numpy as np"
   ]
  },
  {
   "cell_type": "code",
   "execution_count": 25,
   "metadata": {},
   "outputs": [],
   "source": [
    "src = cv.imread(\"qrcode.png\")"
   ]
  },
  {
   "cell_type": "code",
   "execution_count": 26,
   "metadata": {},
   "outputs": [],
   "source": [
    "gray = cv.cvtColor(src, cv.COLOR_BGR2GRAY)"
   ]
  },
  {
   "cell_type": "code",
   "execution_count": 27,
   "metadata": {},
   "outputs": [],
   "source": [
    "# QR kodlarını algılamak ve çözmek için QRCodeDetector sınıfından bir nesne oluştur.\n",
    "qrcoder = cv.QRCodeDetector()"
   ]
  },
  {
   "cell_type": "code",
   "execution_count": 28,
   "metadata": {},
   "outputs": [],
   "source": [
    "# QR kodunu algılar ve çözerek \n",
    "#\n",
    "# kod bilgilerini 'codeinfo', \n",
    "# köşe noktalarını 'points' \n",
    "# QR kodunun düzgün hizalanmış halini 'straight_qrcode' olarak döndürür.\n",
    "codeinfo, points, straight_qrcode = qrcoder.detectAndDecode(gray)"
   ]
  },
  {
   "cell_type": "code",
   "execution_count": 29,
   "metadata": {},
   "outputs": [
    {
     "name": "stdout",
     "output_type": "stream",
     "text": [
      "[[[ 12.       12.     ]\n",
      "  [385.99194  12.     ]\n",
      "  [389.      386.     ]\n",
      "  [ 12.      386.     ]]]\n"
     ]
    }
   ],
   "source": [
    "print(points)"
   ]
  },
  {
   "cell_type": "code",
   "execution_count": 30,
   "metadata": {},
   "outputs": [],
   "source": [
    "result = np.copy(src)"
   ]
  },
  {
   "cell_type": "code",
   "execution_count": 31,
   "metadata": {},
   "outputs": [
    {
     "data": {
      "text/plain": [
       "array([[[255, 255, 255],\n",
       "        [255, 255, 255],\n",
       "        [255, 255, 255],\n",
       "        ...,\n",
       "        [255, 255, 255],\n",
       "        [255, 255, 255],\n",
       "        [255, 255, 255]],\n",
       "\n",
       "       [[255, 255, 255],\n",
       "        [255, 255, 255],\n",
       "        [255, 255, 255],\n",
       "        ...,\n",
       "        [255, 255, 255],\n",
       "        [255, 255, 255],\n",
       "        [255, 255, 255]],\n",
       "\n",
       "       [[255, 255, 255],\n",
       "        [255, 255, 255],\n",
       "        [255, 255, 255],\n",
       "        ...,\n",
       "        [255, 255, 255],\n",
       "        [255, 255, 255],\n",
       "        [255, 255, 255]],\n",
       "\n",
       "       ...,\n",
       "\n",
       "       [[255, 255, 255],\n",
       "        [255, 255, 255],\n",
       "        [255, 255, 255],\n",
       "        ...,\n",
       "        [255, 255, 255],\n",
       "        [255, 255, 255],\n",
       "        [255, 255, 255]],\n",
       "\n",
       "       [[255, 255, 255],\n",
       "        [255, 255, 255],\n",
       "        [255, 255, 255],\n",
       "        ...,\n",
       "        [255, 255, 255],\n",
       "        [255, 255, 255],\n",
       "        [255, 255, 255]],\n",
       "\n",
       "       [[255, 255, 255],\n",
       "        [255, 255, 255],\n",
       "        [255, 255, 255],\n",
       "        ...,\n",
       "        [255, 255, 255],\n",
       "        [255, 255, 255],\n",
       "        [255, 255, 255]]], dtype=uint8)"
      ]
     },
     "execution_count": 31,
     "metadata": {},
     "output_type": "execute_result"
    }
   ],
   "source": [
    "# QR kodunun köşe noktalarını orijinal görüntü üzerinde \n",
    "# kırmızı renkle çizerek QR kodunun yerini gösterir.\n",
    "cv.drawContours(result,\n",
    "                [np.int32(points)],\n",
    "                0,\n",
    "                (0, 0, 255),\n",
    "                2)"
   ]
  },
  {
   "cell_type": "code",
   "execution_count": 32,
   "metadata": {},
   "outputs": [],
   "source": [
    "cv.imshow(\"result\", result)\n",
    "cv.waitKey(0)\n",
    "cv.destroyAllWindows()"
   ]
  },
  {
   "cell_type": "code",
   "execution_count": 33,
   "metadata": {},
   "outputs": [
    {
     "name": "stdout",
     "output_type": "stream",
     "text": [
      "QRcode information is:\n",
      "https://www.youtube.com/watch?v=dQw4w9WgXcQ\n"
     ]
    }
   ],
   "source": [
    "print(\"QRcode information is:\\n%s\" % codeinfo)"
   ]
  },
  {
   "cell_type": "code",
   "execution_count": 34,
   "metadata": {},
   "outputs": [
    {
     "name": "stdout",
     "output_type": "stream",
     "text": [
      "[[  0   0   0   0   0   0   0 255 255   0 255 255 255 255   0 255   0   0\n",
      "    0   0   0 255   0   0   0   0   0   0   0]\n",
      " [  0 255 255 255 255 255   0 255   0   0 255   0   0   0   0   0 255 255\n",
      "  255 255   0 255   0 255 255 255 255 255   0]\n",
      " [  0 255   0   0   0 255   0 255 255   0   0   0 255 255   0   0   0 255\n",
      "  255   0   0 255   0 255   0   0   0 255   0]\n",
      " [  0 255   0   0   0 255   0 255   0   0 255   0 255   0 255   0   0   0\n",
      "    0   0 255 255   0 255   0   0   0 255   0]\n",
      " [  0 255   0   0   0 255   0 255 255 255   0 255   0   0   0 255 255   0\n",
      "    0   0   0 255   0 255   0   0   0 255   0]\n",
      " [  0 255 255 255 255 255   0 255   0 255   0 255 255 255 255   0   0   0\n",
      "  255 255   0 255   0 255 255 255 255 255   0]\n",
      " [  0   0   0   0   0   0   0 255   0 255   0 255   0 255   0 255   0 255\n",
      "    0 255   0 255   0   0   0   0   0   0   0]\n",
      " [255 255 255 255 255 255 255 255 255 255 255 255   0 255   0 255   0 255\n",
      "  255   0 255 255 255 255 255 255 255 255 255]\n",
      " [  0   0   0   0   0 255   0   0   0   0   0 255   0 255   0   0   0   0\n",
      "  255 255 255   0 255   0 255   0 255   0 255]\n",
      " [255 255   0 255   0   0 255   0 255   0 255 255 255 255   0 255   0 255\n",
      "  255   0   0 255   0   0   0 255 255 255   0]\n",
      " [255   0 255 255   0   0   0 255 255   0 255   0   0   0   0   0   0   0\n",
      "  255 255 255   0   0 255 255 255 255 255 255]\n",
      " [  0 255 255 255 255 255 255 255 255   0   0   0 255 255   0   0 255 255\n",
      "  255   0   0 255 255   0 255   0 255   0 255]\n",
      " [255   0   0   0 255   0   0 255 255   0 255   0 255   0   0   0   0   0\n",
      "  255   0 255 255 255 255 255   0   0 255 255]\n",
      " [255   0   0 255   0 255 255 255 255   0   0 255   0 255 255   0   0 255\n",
      "    0   0 255   0   0 255   0 255 255 255   0]\n",
      " [255   0   0   0 255   0   0   0 255 255 255 255 255   0   0   0 255 255\n",
      "    0 255   0 255   0   0 255   0   0 255 255]\n",
      " [  0   0 255   0   0 255 255 255   0 255 255 255   0 255   0   0   0 255\n",
      "  255 255   0 255   0   0   0 255 255   0 255]\n",
      " [255 255 255 255   0   0   0 255   0   0   0 255   0 255   0   0 255   0\n",
      "  255 255 255 255 255   0 255   0   0 255 255]\n",
      " [  0 255   0   0 255 255 255 255   0 255   0 255 255   0   0 255   0 255\n",
      "  255   0   0 255   0   0   0 255   0 255   0]\n",
      " [  0 255 255   0 255 255   0 255   0   0   0   0   0 255 255   0   0 255\n",
      "  255 255 255 255 255   0 255 255   0 255 255]\n",
      " [  0 255 255 255   0 255 255 255   0   0 255   0 255 255 255   0   0 255\n",
      "    0   0 255 255 255   0   0 255 255   0 255]\n",
      " [  0 255 255 255   0 255   0 255   0 255 255   0 255   0   0 255   0   0\n",
      "  255 255   0   0   0   0   0 255   0   0   0]\n",
      " [255 255 255 255 255 255 255 255   0   0   0 255   0 255 255 255 255 255\n",
      "    0 255   0 255 255 255   0   0   0   0   0]\n",
      " [  0   0   0   0   0   0   0 255   0 255   0 255 255   0 255   0 255   0\n",
      "    0   0   0 255   0 255   0   0   0 255 255]\n",
      " [  0 255 255 255 255 255   0 255 255 255   0 255   0 255   0 255   0 255\n",
      "  255   0   0 255 255 255   0 255 255 255   0]\n",
      " [  0 255   0   0   0 255   0 255   0 255   0 255   0 255   0   0   0   0\n",
      "  255 255   0   0   0   0   0 255   0   0   0]\n",
      " [  0 255   0   0   0 255   0 255   0   0 255 255 255 255   0 255   0   0\n",
      "    0   0 255 255 255   0 255   0   0   0   0]\n",
      " [  0 255   0   0   0 255   0 255   0   0 255   0   0 255 255   0   0 255\n",
      "    0   0 255 255   0   0   0   0   0   0 255]\n",
      " [  0 255 255 255 255 255   0 255   0 255 255   0 255 255   0 255   0 255\n",
      "    0   0   0 255 255   0 255   0 255   0 255]\n",
      " [  0   0   0   0   0   0   0 255   0   0 255   0   0 255 255 255   0   0\n",
      "    0   0 255   0 255   0   0   0   0 255 255]]\n"
     ]
    }
   ],
   "source": [
    "print(straight_qrcode)"
   ]
  }
 ],
 "metadata": {
  "kernelspec": {
   "display_name": "Python 3",
   "language": "python",
   "name": "python3"
  },
  "language_info": {
   "codemirror_mode": {
    "name": "ipython",
    "version": 3
   },
   "file_extension": ".py",
   "mimetype": "text/x-python",
   "name": "python",
   "nbconvert_exporter": "python",
   "pygments_lexer": "ipython3",
   "version": "3.12.4"
  }
 },
 "nbformat": 4,
 "nbformat_minor": 2
}
