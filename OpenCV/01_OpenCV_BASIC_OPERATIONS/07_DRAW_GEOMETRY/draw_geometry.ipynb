{
 "cells": [
  {
   "cell_type": "code",
   "execution_count": 28,
   "metadata": {},
   "outputs": [],
   "source": [
    "import cv2 as cv\n",
    "import numpy as np"
   ]
  },
  {
   "cell_type": "code",
   "execution_count": 29,
   "metadata": {},
   "outputs": [
    {
     "data": {
      "text/plain": [
       "array([[0, 0, 0],\n",
       "       [0, 0, 0],\n",
       "       [0, 0, 0],\n",
       "       ...,\n",
       "       [0, 0, 0],\n",
       "       [0, 0, 0],\n",
       "       [0, 0, 0]], dtype=uint8)"
      ]
     },
     "execution_count": 29,
     "metadata": {},
     "output_type": "execute_result"
    }
   ],
   "source": [
    "image = np.zeros((512,512,3), dtype=np.uint8)\n",
    "image[5]"
   ]
  },
  {
   "cell_type": "code",
   "execution_count": 30,
   "metadata": {},
   "outputs": [],
   "source": [
    "cv.rectangle(image, (100,100),(300,300),(255,0,0),2,cv.LINE_8,0)\n",
    "cv.circle(image, (256,256), 50, (0,0,255),2,cv.LINE_8,0)\n",
    "cv.ellipse(image, (256,256), (150, 50), 360, 0, 360, (0,255,0), 2, cv.LINE_8, 0)\n",
    "cv.imshow(\"image\", image)\n",
    "cv.waitKey(3000)\n",
    "cv.destroyAllWindows()"
   ]
  },
  {
   "cell_type": "code",
   "execution_count": 31,
   "metadata": {},
   "outputs": [],
   "source": [
    "# rastgele şekiller\n",
    "\n",
    "for i in range(100000):\n",
    "    image[:,:,:] = 0\n",
    "    x1 = np.random.rand()*512\n",
    "    x2 = np.random.rand()*512\n",
    "    y1 = np.random.rand()*512\n",
    "    y2 = np.random.rand()*512\n",
    "\n",
    "    b = np.random.rand()*512\n",
    "    g = np.random.rand()*512\n",
    "    r = np.random.rand()*512\n",
    "\n",
    "    cv.line(image, (int(x1), int(y1)), (int(x2), int(y2)), (b,g,r), 4, cv.LINE_8, 0)\n",
    "    cv.rectangle(image, (int(x1), int(y1)), (int(x2), int(y2)), (b,g,r), 1, cv.LINE_8, 0)\n",
    "    cv.imshow(\"image\", image)\n",
    "\n",
    "    c = cv.waitKey(20)\n",
    "    if c == 27:\n",
    "        break # ESC\n",
    "cv.destroyAllWindows()"
   ]
  },
  {
   "cell_type": "code",
   "execution_count": 32,
   "metadata": {},
   "outputs": [],
   "source": [
    "# rastgele şekiller\n",
    "\n",
    "for i in range(100000):\n",
    "    image[:,:,:] = 0\n",
    "    x1 = np.random.rand()*512\n",
    "    x2 = np.random.rand()*512\n",
    "    y1 = np.random.rand()*512\n",
    "    y2 = np.random.rand()*512\n",
    "\n",
    "    b = np.random.rand()*512\n",
    "    g = np.random.rand()*512\n",
    "    r = np.random.rand()*512\n",
    "\n",
    "    cv.line(image, (int(x1), int(y1)), (int(x2), int(y2)), (b,g,r), 4, cv.LINE_8, 0)\n",
    "    cv.line(image, (int(x1), int(y2)), (int(x2), int(y1)), (b,g,r), 4, cv.LINE_8, 0)\n",
    "    cv.rectangle(image, (int(x1), int(y1)), (int(x2), int(y2)), (b,g,r), 1, cv.LINE_8, 0)\n",
    "    cv.imshow(\"image\", image)\n",
    "\n",
    "    c = cv.waitKey(20)\n",
    "    if c == 27:\n",
    "        break # ESC\n",
    "cv.destroyAllWindows()"
   ]
  }
 ],
 "metadata": {
  "kernelspec": {
   "display_name": "Python 3",
   "language": "python",
   "name": "python3"
  },
  "language_info": {
   "codemirror_mode": {
    "name": "ipython",
    "version": 3
   },
   "file_extension": ".py",
   "mimetype": "text/x-python",
   "name": "python",
   "nbconvert_exporter": "python",
   "pygments_lexer": "ipython3",
   "version": "3.12.4"
  }
 },
 "nbformat": 4,
 "nbformat_minor": 2
}
