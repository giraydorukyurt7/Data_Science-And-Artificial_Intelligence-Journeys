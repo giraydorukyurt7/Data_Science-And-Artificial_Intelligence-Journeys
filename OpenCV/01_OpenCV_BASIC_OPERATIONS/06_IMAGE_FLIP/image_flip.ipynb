{
 "cells": [
  {
   "cell_type": "code",
   "execution_count": 25,
   "metadata": {},
   "outputs": [],
   "source": [
    "import cv2 as cv\n",
    "import numpy as np"
   ]
  },
  {
   "cell_type": "code",
   "execution_count": 26,
   "metadata": {},
   "outputs": [],
   "source": [
    "path = \"OpenCV.png\"\n",
    "src = cv.imread(path)"
   ]
  },
  {
   "cell_type": "code",
   "execution_count": 27,
   "metadata": {},
   "outputs": [],
   "source": [
    "cv.namedWindow(\"Normal_Image\", cv.WINDOW_AUTOSIZE)\n",
    "cv.imshow(\"Normal_Image\", src)\n",
    "cv.waitKey(2000)\n",
    "cv.destroyAllWindows()"
   ]
  },
  {
   "cell_type": "code",
   "execution_count": 28,
   "metadata": {},
   "outputs": [],
   "source": [
    "# X flip\n",
    "dst1 = cv.flip(src, 0) # 0 --> x eksenine göre\n",
    "cv.imshow(\"X-flip\", dst1)\n",
    "cv.waitKey(2000)\n",
    "cv.destroyAllWindows()"
   ]
  },
  {
   "cell_type": "code",
   "execution_count": 29,
   "metadata": {},
   "outputs": [],
   "source": [
    "# Y flip\n",
    "dst2 = cv.flip(src, 1) # 1 --> y eksenine göre\n",
    "cv.imshow(\"Y-flip\", dst2)\n",
    "cv.waitKey(2000)\n",
    "cv.destroyAllWindows()"
   ]
  },
  {
   "cell_type": "code",
   "execution_count": 30,
   "metadata": {},
   "outputs": [],
   "source": [
    "# X and Y flip\n",
    "dst3 = cv.flip(src, -1) # -1 --> orijine göre\n",
    "cv.imshow(\"XY-flip\", dst3)\n",
    "cv.waitKey(2000)\n",
    "cv.destroyAllWindows()"
   ]
  },
  {
   "cell_type": "code",
   "execution_count": 31,
   "metadata": {},
   "outputs": [],
   "source": [
    "# rotate\n",
    "dst4 = cv.rotate(src,cv.ROTATE_90_CLOCKWISE)\n",
    "cv.imshow(\"90 degree clockwise\", dst4)\n",
    "cv.waitKey(2000)\n",
    "cv.destroyAllWindows()"
   ]
  }
 ],
 "metadata": {
  "kernelspec": {
   "display_name": "Python 3",
   "language": "python",
   "name": "python3"
  },
  "language_info": {
   "codemirror_mode": {
    "name": "ipython",
    "version": 3
   },
   "file_extension": ".py",
   "mimetype": "text/x-python",
   "name": "python",
   "nbconvert_exporter": "python",
   "pygments_lexer": "ipython3",
   "version": "3.12.4"
  }
 },
 "nbformat": 4,
 "nbformat_minor": 2
}
