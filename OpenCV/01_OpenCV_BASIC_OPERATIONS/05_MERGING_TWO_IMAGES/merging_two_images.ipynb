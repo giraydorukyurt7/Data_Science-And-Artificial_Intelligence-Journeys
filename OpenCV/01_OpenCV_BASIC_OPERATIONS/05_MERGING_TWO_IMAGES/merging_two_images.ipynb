{
 "cells": [
  {
   "cell_type": "code",
   "execution_count": 9,
   "metadata": {},
   "outputs": [],
   "source": [
    "import cv2 as cv\n",
    "import numpy as np"
   ]
  },
  {
   "cell_type": "code",
   "execution_count": 10,
   "metadata": {},
   "outputs": [],
   "source": [
    "path = \"photos/\""
   ]
  },
  {
   "cell_type": "code",
   "execution_count": 11,
   "metadata": {},
   "outputs": [],
   "source": [
    "img1 = cv.imread(path +'lion.png')\n",
    "img2 = cv.imread(path +'OpenCV.png')"
   ]
  },
  {
   "cell_type": "code",
   "execution_count": 17,
   "metadata": {},
   "outputs": [
    {
     "name": "stdout",
     "output_type": "stream",
     "text": [
      "(736, 736, 3, 600, 487, 3)\n"
     ]
    }
   ],
   "source": [
    "print(img1.shape+img2.shape)"
   ]
  },
  {
   "cell_type": "code",
   "execution_count": 19,
   "metadata": {},
   "outputs": [],
   "source": [
    "img2_resized = cv.resize(img2,(img1.shape[0],img1.shape[1]))"
   ]
  },
  {
   "cell_type": "code",
   "execution_count": 12,
   "metadata": {},
   "outputs": [],
   "source": [
    "cv.imshow(\"lion_pic\", img1)\n",
    "cv.waitKey(2000)\n",
    "cv.destroyAllWindows()"
   ]
  },
  {
   "cell_type": "code",
   "execution_count": 13,
   "metadata": {},
   "outputs": [],
   "source": [
    "cv.imshow(\"OpenCV_logo\", img2)\n",
    "cv.waitKey(2000)\n",
    "cv.destroyAllWindows()"
   ]
  },
  {
   "cell_type": "code",
   "execution_count": 22,
   "metadata": {},
   "outputs": [],
   "source": [
    "cv.imshow(\"OpenCV_logo2\", img2_resized)\n",
    "cv.waitKey(2000)\n",
    "cv.destroyAllWindows()"
   ]
  },
  {
   "cell_type": "code",
   "execution_count": 23,
   "metadata": {},
   "outputs": [],
   "source": [
    "horizontal = np.hstack((img2_resized,img1))\n",
    "cv.imshow(\"horizontal_combined\", horizontal)\n",
    "cv.waitKey(2000)\n",
    "cv.destroyAllWindows()"
   ]
  },
  {
   "cell_type": "code",
   "execution_count": 25,
   "metadata": {},
   "outputs": [],
   "source": [
    "vertical = np.vstack((img2_resized,img1))\n",
    "cv.imshow(\"vertical_combined\", vertical)\n",
    "cv.waitKey(2000)\n",
    "cv.destroyAllWindows()"
   ]
  },
  {
   "cell_type": "code",
   "execution_count": 27,
   "metadata": {},
   "outputs": [
    {
     "name": "stdout",
     "output_type": "stream",
     "text": [
      "(1472, 736, 3)\n"
     ]
    }
   ],
   "source": [
    "print(vertical.shape)"
   ]
  },
  {
   "cell_type": "code",
   "execution_count": 33,
   "metadata": {},
   "outputs": [],
   "source": [
    "vertical_resized = cv.resize(vertical,(368,736)) #(x,y)\n",
    "cv.imshow(\"vertical_combined\", vertical_resized)\n",
    "cv.waitKey(2000)\n",
    "cv.destroyAllWindows()"
   ]
  },
  {
   "cell_type": "code",
   "execution_count": 34,
   "metadata": {},
   "outputs": [
    {
     "name": "stdout",
     "output_type": "stream",
     "text": [
      "(736, 368, 3)\n"
     ]
    }
   ],
   "source": [
    "print(vertical_resized.shape)"
   ]
  }
 ],
 "metadata": {
  "kernelspec": {
   "display_name": "Python 3",
   "language": "python",
   "name": "python3"
  },
  "language_info": {
   "codemirror_mode": {
    "name": "ipython",
    "version": 3
   },
   "file_extension": ".py",
   "mimetype": "text/x-python",
   "name": "python",
   "nbconvert_exporter": "python",
   "pygments_lexer": "ipython3",
   "version": "3.12.4"
  }
 },
 "nbformat": 4,
 "nbformat_minor": 2
}
