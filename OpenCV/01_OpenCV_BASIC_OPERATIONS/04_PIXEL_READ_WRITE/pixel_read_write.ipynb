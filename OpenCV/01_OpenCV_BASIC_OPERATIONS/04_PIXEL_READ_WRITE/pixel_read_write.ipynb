{
 "cells": [
  {
   "cell_type": "code",
   "execution_count": 28,
   "metadata": {},
   "outputs": [],
   "source": [
    "import cv2 as cv"
   ]
  },
  {
   "cell_type": "code",
   "execution_count": 29,
   "metadata": {},
   "outputs": [],
   "source": [
    "path = \"OpenCV.png\"\n",
    "img = cv.imread(path)\n",
    "cv.namedWindow(\"img\",cv.WINDOW_AUTOSIZE)"
   ]
  },
  {
   "cell_type": "code",
   "execution_count": 30,
   "metadata": {},
   "outputs": [],
   "source": [
    "cv.destroyAllWindows()"
   ]
  },
  {
   "cell_type": "code",
   "execution_count": 31,
   "metadata": {},
   "outputs": [
    {
     "name": "stdout",
     "output_type": "stream",
     "text": [
      "h,w,ch 600 487 3\n"
     ]
    }
   ],
   "source": [
    "#resmin renklerini reverse yapma\n",
    "h,w,ch = img.shape #ch = rgb bilgisi\n",
    "print(\"h,w,ch\",h,w,ch)"
   ]
  },
  {
   "cell_type": "code",
   "execution_count": 32,
   "metadata": {},
   "outputs": [],
   "source": [
    "for row in range(h):\n",
    "    for col in range(w):\n",
    "        b,g,r = img[row,col] # r g b alfabetik yazılır\n",
    "        b=255-b\n",
    "        g=255-g\n",
    "        r=255-r\n",
    "        img[row,col] = [b,g,r]"
   ]
  },
  {
   "cell_type": "code",
   "execution_count": 33,
   "metadata": {},
   "outputs": [],
   "source": [
    "cv.imshow(\"output\",img)\n",
    "cv.waitKey(10000)\n",
    "cv.destroyAllWindows()"
   ]
  }
 ],
 "metadata": {
  "kernelspec": {
   "display_name": "Python 3",
   "language": "python",
   "name": "python3"
  },
  "language_info": {
   "codemirror_mode": {
    "name": "ipython",
    "version": 3
   },
   "file_extension": ".py",
   "mimetype": "text/x-python",
   "name": "python",
   "nbconvert_exporter": "python",
   "pygments_lexer": "ipython3",
   "version": "3.12.4"
  }
 },
 "nbformat": 4,
 "nbformat_minor": 2
}
