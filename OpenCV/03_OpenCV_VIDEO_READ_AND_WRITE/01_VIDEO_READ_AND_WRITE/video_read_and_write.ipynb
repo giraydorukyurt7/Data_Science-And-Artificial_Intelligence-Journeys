{
 "cells": [
  {
   "cell_type": "code",
   "execution_count": 15,
   "metadata": {},
   "outputs": [],
   "source": [
    "import cv2 as cv\n",
    "import numpy as np"
   ]
  },
  {
   "cell_type": "code",
   "execution_count": 16,
   "metadata": {},
   "outputs": [],
   "source": [
    "capture = cv.VideoCapture(\"ExampleVideo.mp4\")"
   ]
  },
  {
   "cell_type": "code",
   "execution_count": 17,
   "metadata": {},
   "outputs": [],
   "source": [
    "height = capture.get(cv.CAP_PROP_FRAME_HEIGHT)\n",
    "width  = capture.get(cv.CAP_PROP_FRAME_WIDTH)\n",
    "count  = capture.get(cv.CAP_PROP_FRAME_COUNT) #frame sayısı\n",
    "fps    = capture.get(cv.CAP_PROP_FPS)"
   ]
  },
  {
   "cell_type": "code",
   "execution_count": 18,
   "metadata": {},
   "outputs": [
    {
     "name": "stdout",
     "output_type": "stream",
     "text": [
      "Height: 144.0 \n",
      "Width: 256.0 \n",
      "Frame Count: 416.0 \n",
      "FPS: 23.976023976023978\n"
     ]
    }
   ],
   "source": [
    "print(\"Height:\",height,\"\\nWidth:\", width,\"\\nFrame Count:\", count, \"\\nFPS:\", fps)"
   ]
  },
  {
   "cell_type": "code",
   "execution_count": 19,
   "metadata": {},
   "outputs": [],
   "source": [
    "out = cv.VideoWriter(\"ExampleVideo.avi\",\n",
    "                     cv.VideoWriter_fourcc('D','I','V','X'), 15,\n",
    "                     (int(width), int(height)), True)"
   ]
  },
  {
   "cell_type": "code",
   "execution_count": 20,
   "metadata": {},
   "outputs": [],
   "source": [
    "while True:\n",
    "    #kameradan (veya bir kaynaktan) görüntü al\n",
    "    ret, frame = capture.read()\n",
    "\n",
    "    #görüntü başarıyla alındı mı kontrol et\n",
    "    if ret is True:\n",
    "        # okunan görüntüyü ekranda göster;\n",
    "        cv.imshow(\"Video-input\", frame)\n",
    "        out.write(frame)\n",
    "        # 50 sn sonra çık\n",
    "        c = cv.waitKey(50)\n",
    "        if c == 27:\n",
    "            break\n",
    "    else:\n",
    "        break\n",
    "\n",
    "capture.release()\n",
    "out.release()\n",
    "\n",
    "cv.waitKey(1000)\n",
    "cv.destroyAllWindows()"
   ]
  }
 ],
 "metadata": {
  "kernelspec": {
   "display_name": "Python 3",
   "language": "python",
   "name": "python3"
  },
  "language_info": {
   "codemirror_mode": {
    "name": "ipython",
    "version": 3
   },
   "file_extension": ".py",
   "mimetype": "text/x-python",
   "name": "python",
   "nbconvert_exporter": "python",
   "pygments_lexer": "ipython3",
   "version": "3.12.4"
  }
 },
 "nbformat": 4,
 "nbformat_minor": 2
}
