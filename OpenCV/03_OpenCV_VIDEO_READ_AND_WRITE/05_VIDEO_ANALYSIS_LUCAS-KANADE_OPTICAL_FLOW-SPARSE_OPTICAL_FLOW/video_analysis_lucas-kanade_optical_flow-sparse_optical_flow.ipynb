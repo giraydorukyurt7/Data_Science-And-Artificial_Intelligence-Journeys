{
 "cells": [
  {
   "cell_type": "markdown",
   "metadata": {},
   "source": [
    "Lucas-Kanade Algoritması (Sparse Optical Flow)"
   ]
  },
  {
   "cell_type": "code",
   "execution_count": 270,
   "metadata": {},
   "outputs": [],
   "source": [
    "import cv2 as cv\n",
    "import numpy as np"
   ]
  },
  {
   "cell_type": "code",
   "execution_count": 271,
   "metadata": {},
   "outputs": [],
   "source": [
    "# Göreceli yol ile video dosyasına erişim\n",
    "#video_path = \"../04_VIDEO_ANALYSIS_BACKGROUND_SUBTRACTION_AND_ROI_EXTRACTION_OF_THE_FOREGROUND/pedestrian.mp4\"\n",
    "video_path = \"slow_traffic_small.mp4\"\n",
    "# VideoCapture nesnesi ile video dosyasını aç\n",
    "cap = cv.VideoCapture(video_path)"
   ]
  },
  {
   "cell_type": "code",
   "execution_count": 272,
   "metadata": {},
   "outputs": [],
   "source": [
    "ret, frame1 = cap.read() # İlk kareyi oku\n",
    "\n",
    "prvs = cv.cvtColor(frame1, cv.COLOR_BGR2GRAY) # İlk kareyi gri tonlamaya çevir"
   ]
  },
  {
   "cell_type": "code",
   "execution_count": 273,
   "metadata": {},
   "outputs": [],
   "source": [
    "# Lucas-Kanade Algoritması için parametreler\n",
    "lk_params = dict(winSize = (15,15), # Pencere boyutu\n",
    "                 maxLevel = 2,      # Piramit seviyeleri\n",
    "                 criteria = (cv.TERM_CRITERIA_EPS | cv.TERM_CRITERIA_COUNT, 10, 0.03)) # Durma kriterleri\n",
    "\n",
    "# Shi-Tomasi köşe algılama parametreleri\n",
    "feature_params = dict(maxCorners   = 100, # Maksimum köşe sayısı\n",
    "                      qualityLevel = 0.3, # Minimum kalite seviyesi\n",
    "                      minDistance  = 7,   # Köşeler arası minimum mesafe\n",
    "                      blockSize    = 7)   # Pencere boyutu"
   ]
  },
  {
   "cell_type": "code",
   "execution_count": 274,
   "metadata": {},
   "outputs": [],
   "source": [
    "def lucas_kanade_opt_flow(prvs):\n",
    "    # ilk karedeki özellik noktalarını algıla\n",
    "    p0 = cv.goodFeaturesToTrack(prvs,             # 'prvs' gri tonlamalı görüntüdeki köşeleri algıla\n",
    "                                mask = None,      # Maske uygulanmaz, tüm görüntü üzerinde işlem yapılır.  \n",
    "                                **feature_params) # 'feature_params' sözlük parametreleri unpacking ile geçirilir.\n",
    "    \n",
    "    # Noktaları çizmek için rastgele renkler oluştur\n",
    "    color = np.random.randint(0, 255, (100, 3)) # 100 farklı nokta için rastgele renk oluşturulur.\n",
    "\n",
    "    # Noktaları çizmek için mask image oluştur\n",
    "    mask = np.zeros_like(frame1) # Mask, ilk kare ile aynı boyutlarda sıfırlarla dolu bir görüntü oluşturur.\n",
    "\n",
    "    while 1: # Sonsuz döngü\n",
    "        ret, frame2 = cap.read() # Bir sonraki kareyi oku\n",
    "\n",
    "        if not ret: # Eğer kare alınamadıysa döngüden çık\n",
    "            print(\"Video sonuna ulaşıldı veya dosya okunamıyor.\")\n",
    "            break\n",
    "                \n",
    "        nextt = cv.cvtColor(frame2, cv.COLOR_BGR2GRAY) # Yeni kareyi gri tonlamaya çevir\n",
    "        \n",
    "        # Lucas-Kanade optik akışının hesaplanması\n",
    "        p1, st, err = cv.calcOpticalFlowPyrLK(prvs,         # Bir önceki gri kare.\n",
    "                                              nextt,        # Şu anki gri kare.\n",
    "                                              p0,           # Önceki karedeki izlenen özellik noktaları.\n",
    "                                              None,         # Optik akışın hesaplanacağı sonraki noktalar.\n",
    "                                              **lk_params)   # Lucas-Kanade parametreleri unpacking ile geçirilir.\n",
    "\n",
    "        # Sadece iyi izlenilebilen noktaları seç\n",
    "        good_new = p1[st == 1] # Yeni karedeki izlenebilen noktalar.\n",
    "        good_old = p0[st == 1] # Önceki karedeki izlenebilen noktalar.\n",
    "\n",
    "        # İyi izlenen noktalar arasında çizgiler çizilir ve noktalar işaretlenir.\n",
    "        for i, (new, old) in enumerate(zip(good_new, good_old)): # Yeni ve eski noktalar sırasıyla işlenir.\n",
    "            a, b = new.ravel() # Yeni nokta koordinatları (x, y).\n",
    "            c, d = old.ravel() # Eski nokta koordinatları (x, y).\n",
    "            mask    = cv.line(mask,             # Maske üzerinde bir çizgi çizilir.\n",
    "                             (int(a), int(b)),  # Yeni nokta koordinatları.\n",
    "                             (int(c), int(d)),  # Eski nokta koordinatları.\n",
    "                             color[i].tolist(), # Rastgele renk kullanılır.\n",
    "                             2)                 # Çizgi kalınlığı.\n",
    "            \n",
    "            mask    = cv.circle(mask,             # Yeni noktanın üzerine daire çizilir.\n",
    "                               (int(a), int(b)),  # Yeni noktanın koordinatları.\n",
    "                               2,                 # Dairenin yarıçapı.\n",
    "                               color[i].tolist(), # Rastgele renk kullanılır.\n",
    "                               -1)                # Daire dolu çizilir.\n",
    "        \n",
    "        # Maske görüntüsünü orijinal video karesi ile birleştir.\n",
    "        img = cv.add(frame2, mask) # Orijinal kare ile optik akış maskesi birleştirilir.\n",
    "\n",
    "        cv.imshow('Original Video', frame2) # Orijinal video karesi gösterilir.\n",
    "        cv.imshow('Sparse Optical Flow - Lucas-Kanade', img) # Optik akış görüntüsü gösterilir.\n",
    "        \n",
    "        # 'Esc' tuşuna basarak döngüyü sonlandır\n",
    "        k = cv.waitKey(30) & 0xff\n",
    "        if k == 27:\n",
    "            break\n",
    "\n",
    "        prvs = nextt.copy() # Sonraki kareyi bir önceki kare olarak ayarla\n",
    "        p0   = good_new.reshape(-1,1,2)"
   ]
  },
  {
   "cell_type": "code",
   "execution_count": 275,
   "metadata": {},
   "outputs": [
    {
     "name": "stdout",
     "output_type": "stream",
     "text": [
      "Video sonuna ulaşıldı veya dosya okunamıyor.\n"
     ]
    }
   ],
   "source": [
    "lucas_kanade_opt_flow(prvs)"
   ]
  },
  {
   "cell_type": "code",
   "execution_count": 276,
   "metadata": {},
   "outputs": [],
   "source": [
    "cap.release()\n",
    "cv.destroyAllWindows() # Tüm pencereleri kapat"
   ]
  },
  {
   "cell_type": "markdown",
   "metadata": {},
   "source": [
    "![](ss_of_videos_4.png)"
   ]
  },
  {
   "cell_type": "code",
   "execution_count": 277,
   "metadata": {},
   "outputs": [
    {
     "name": "stderr",
     "output_type": "stream",
     "text": [
      "'[]' is not recognized as an internal or external command,\n",
      "operable program or batch file.\n"
     ]
    }
   ],
   "source": [
    "![](ss_of_videos_5.png)"
   ]
  },
  {
   "cell_type": "code",
   "execution_count": null,
   "metadata": {},
   "outputs": [],
   "source": []
  },
  {
   "cell_type": "markdown",
   "metadata": {},
   "source": [
    "mark down ile fotoğraf eklemeye çalışıyorum ama 2. fotoğraf eklenmiyor\n",
    "\n",
    "Hücre 1 (çalışıyor)\n",
    "![](ss_of_videos_4.png)\n",
    "Hücre 2 (çalışmıyor)\n",
    "![](ss_of_videos_5.png)\n",
    "'[]' is not recognized as an internal or external command,\n",
    "operable program or batch file."
   ]
  }
 ],
 "metadata": {
  "kernelspec": {
   "display_name": "Python 3",
   "language": "python",
   "name": "python3"
  },
  "language_info": {
   "codemirror_mode": {
    "name": "ipython",
    "version": 3
   },
   "file_extension": ".py",
   "mimetype": "text/x-python",
   "name": "python",
   "nbconvert_exporter": "python",
   "pygments_lexer": "ipython3",
   "version": "3.12.4"
  }
 },
 "nbformat": 4,
 "nbformat_minor": 2
}
