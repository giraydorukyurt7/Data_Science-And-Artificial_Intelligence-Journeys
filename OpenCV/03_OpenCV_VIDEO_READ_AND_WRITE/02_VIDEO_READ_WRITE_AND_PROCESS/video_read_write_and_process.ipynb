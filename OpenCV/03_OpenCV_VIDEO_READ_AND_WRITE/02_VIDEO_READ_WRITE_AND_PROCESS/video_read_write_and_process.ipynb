{
 "cells": [
  {
   "cell_type": "code",
   "execution_count": 132,
   "metadata": {},
   "outputs": [],
   "source": [
    "import cv2 as cv"
   ]
  },
  {
   "cell_type": "code",
   "execution_count": 133,
   "metadata": {},
   "outputs": [],
   "source": [
    "capture = cv.VideoCapture(0) # 0-> bilgisayarın dahili kamerası\n",
    "                             # 1-> harici kamera\n",
    "\n",
    "#capture = cv.VideoCapture(0) #\n",
    "#capture = cv.VideoCapture(1) #pc kaynaklı problemden ötürü bu gerekebilir.\n",
    "#capture = cv.VideoCapture(0) #"
   ]
  },
  {
   "cell_type": "code",
   "execution_count": 134,
   "metadata": {},
   "outputs": [
    {
     "name": "stdout",
     "output_type": "stream",
     "text": [
      "Height: 0.0 \n",
      "Width: 0.0 \n",
      "Frame Count: -1.0 \n",
      "FPS: 0.0\n"
     ]
    }
   ],
   "source": [
    "height = capture.get(cv.CAP_PROP_FRAME_HEIGHT)\n",
    "width  = capture.get(cv.CAP_PROP_FRAME_WIDTH)\n",
    "count  = capture.get(cv.CAP_PROP_FRAME_COUNT) #frame sayısı\n",
    "fps    = capture.get(cv.CAP_PROP_FPS)\n",
    "\n",
    "print(\"Height:\",height,\"\\nWidth:\", width,\"\\nFrame Count:\", count, \"\\nFPS:\", fps)"
   ]
  },
  {
   "cell_type": "code",
   "execution_count": 135,
   "metadata": {},
   "outputs": [],
   "source": [
    "def process(image, opt=1):\n",
    "    dst = None\n",
    "    if opt == 0:\n",
    "        dst = cv.bitwise_not(image)\n",
    "    if opt == 1:\n",
    "        dst = cv.GaussianBlur(image, (0,0), 15)\n",
    "    if opt == 2:\n",
    "        dst = cv.Canny(image, 100, 200)\n",
    "    return dst"
   ]
  },
  {
   "cell_type": "code",
   "execution_count": 136,
   "metadata": {},
   "outputs": [],
   "source": [
    "index = 0 # opt\n",
    "while True:\n",
    "    ret, frame = capture.read()\n",
    "    if ret is True:\n",
    "        cv.imshow(\"video-input\", frame)\n",
    "        c = cv.waitKey(50)\n",
    "        if c>=49:\n",
    "            index=c-49\n",
    "        result=process(frame,index)\n",
    "        cv.imshow(\"result\",result)\n",
    "        #print(c)\n",
    "        if c == 27: #ESC\n",
    "            break\n",
    "    else:\n",
    "        break\n",
    "cv.destroyAllWindows()"
   ]
  }
 ],
 "metadata": {
  "kernelspec": {
   "display_name": "Python 3",
   "language": "python",
   "name": "python3"
  },
  "language_info": {
   "codemirror_mode": {
    "name": "ipython",
    "version": 3
   },
   "file_extension": ".py",
   "mimetype": "text/x-python",
   "name": "python",
   "nbconvert_exporter": "python",
   "pygments_lexer": "ipython3",
   "version": "3.12.4"
  }
 },
 "nbformat": 4,
 "nbformat_minor": 2
}
