{
 "cells": [
  {
   "cell_type": "code",
   "execution_count": 19,
   "metadata": {},
   "outputs": [],
   "source": [
    "import cv2 as cv\n",
    "import numpy as np"
   ]
  },
  {
   "cell_type": "code",
   "execution_count": 20,
   "metadata": {},
   "outputs": [],
   "source": [
    "cap = cv.VideoCapture(\"pedestrian.mp4\") # Videoyu aç, pedestrian.mp4 dosyasını oku"
   ]
  },
  {
   "cell_type": "markdown",
   "metadata": {},
   "source": [
    "roi; bir bölgeye odaklanmak için kullanılır"
   ]
  },
  {
   "cell_type": "code",
   "execution_count": 21,
   "metadata": {},
   "outputs": [],
   "source": [
    "fgbg = cv.createBackgroundSubtractorMOG2(history=500, \n",
    "                                         varThreshold=100) # Arka plan çıkarma için MOG2 algoritmasını oluştur, \n",
    "                                                           # geçmiş uzunluğu ve hassaslık ayarı"
   ]
  },
  {
   "cell_type": "code",
   "execution_count": 22,
   "metadata": {},
   "outputs": [],
   "source": [
    "def process(image): # Görüntü işleme fonksiyonu\n",
    "    mask = fgbg.apply(image) # Hareketli nesneleri tespit etmek için foreground maskesi uygula\n",
    "    line = cv.getStructuringElement(cv.MORPH_RECT,\n",
    "                                    (1, 5),\n",
    "                                    (-1, -1)) # Dikdörtgen bir morfolojik element oluştur\n",
    "    mask = cv.morphologyEx(mask,\n",
    "                           cv.MORPH_OPEN,\n",
    "                           line) # Gürültüyü azaltmak için morfolojik açma işlemi uygula\n",
    "    cv.imshow(\"mask\", mask) # Maskeyi göster\n",
    "    contours, hierarchy = cv.findContours(mask,\n",
    "                                          cv.RETR_EXTERNAL,\n",
    "                                          cv.CHAIN_APPROX_SIMPLE) # Konturleri bul\n",
    "    for c in range(len(contours)): # Tüm konturları sırayla işle\n",
    "        area = cv.contourArea(contours[c]) # Konturun alanını hesapla\n",
    "        if area < 150: # Eğer alan çok küçükse (önemsizse), işlemeye devam etme\n",
    "            continue\n",
    "        rect = cv.minAreaRect(contours[c]) # Konturu çevreleyen minimum dikdörtgeni bul\n",
    "        cv.ellipse(image, rect, (0, 255, 0), 2, 8) # Dikdörtgenin çevresine elips çiz\n",
    "        cv.circle(image, \n",
    "                  (np.int32(rect[0][0]), np.int32(rect[0][1])),\n",
    "                   2, \n",
    "                   (255, 0 ,0), \n",
    "                   2, \n",
    "                   8, \n",
    "                   0) # Elipsin merkezine bir daire çiz\n",
    "    return image # İşlenmiş görüntüyü döndür"
   ]
  },
  {
   "cell_type": "code",
   "execution_count": 23,
   "metadata": {},
   "outputs": [
    {
     "name": "stdout",
     "output_type": "stream",
     "text": [
      "Video sonuna ulaşıldı veya dosya okunamıyor.\n"
     ]
    }
   ],
   "source": [
    "while True: #işlem sürekli çalışsın diye\n",
    "    ret, frame = cap.read() # Videodan bir kare oku, \n",
    "                            # 'ret' okuma başarılıysa True olur, \n",
    "                            # 'frame' ise alınan kare\n",
    "    \n",
    "    if not ret: # Eğer kare alınamadıysa döngüden çık\n",
    "        print(\"Video sonuna ulaşıldı veya dosya okunamıyor.\")\n",
    "        break\n",
    "    \n",
    "    cv.imshow('input', frame)  # Orijinal video karesini göster\n",
    "    \n",
    "    result = process(frame) # İşlenmiş görüntüyü al\n",
    "    \n",
    "    cv.imshow(\"Result\", result) # İşlenmiş görüntüyü göster\n",
    "\n",
    "    k = cv.waitKey(10)&0xff  # 10 milisaniye bekle ve bir tuş girişini kontrol et\n",
    "    if k ==27:               # Eğer 'Esc' tuşuna basılırsa (ASCII kodu 27), döngüden çık\n",
    "        break"
   ]
  },
  {
   "cell_type": "code",
   "execution_count": 24,
   "metadata": {},
   "outputs": [],
   "source": [
    "cv.destroyAllWindows() # Tüm pencereleri kapat"
   ]
  },
  {
   "cell_type": "markdown",
   "metadata": {},
   "source": [
    "![](ss_of_videos_2.png)"
   ]
  }
 ],
 "metadata": {
  "kernelspec": {
   "display_name": "Python 3",
   "language": "python",
   "name": "python3"
  },
  "language_info": {
   "codemirror_mode": {
    "name": "ipython",
    "version": 3
   },
   "file_extension": ".py",
   "mimetype": "text/x-python",
   "name": "python",
   "nbconvert_exporter": "python",
   "pygments_lexer": "ipython3",
   "version": "3.12.4"
  }
 },
 "nbformat": 4,
 "nbformat_minor": 2
}
