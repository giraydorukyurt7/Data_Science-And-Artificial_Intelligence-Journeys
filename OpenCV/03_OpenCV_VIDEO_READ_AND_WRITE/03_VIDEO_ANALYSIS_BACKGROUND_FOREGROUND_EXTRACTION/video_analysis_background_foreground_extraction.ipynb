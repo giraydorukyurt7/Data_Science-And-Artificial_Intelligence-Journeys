{
 "cells": [
  {
   "cell_type": "code",
   "execution_count": 92,
   "metadata": {},
   "outputs": [],
   "source": [
    "import cv2 as cv"
   ]
  },
  {
   "cell_type": "markdown",
   "metadata": {},
   "source": [
    "Original Video Source:\n",
    "https://www.youtube.com/watch?v=zjk3_68Elso"
   ]
  },
  {
   "cell_type": "code",
   "execution_count": 93,
   "metadata": {},
   "outputs": [],
   "source": [
    "cap = cv.VideoCapture(\"america_road_and_buildings.mp4\")"
   ]
  },
  {
   "cell_type": "code",
   "execution_count": 94,
   "metadata": {},
   "outputs": [],
   "source": [
    "fgbg = cv.createBackgroundSubtractorMOG2(history     =1000, #gecikmelere ne kadar odaklanılmalı.\n",
    "                                         varThreshold=85)  #varyans threshold, hassaslık."
   ]
  },
  {
   "cell_type": "code",
   "execution_count": 95,
   "metadata": {},
   "outputs": [
    {
     "name": "stdout",
     "output_type": "stream",
     "text": [
      "Video sonuna ulaşıldı veya dosya okunamıyor.\n"
     ]
    }
   ],
   "source": [
    "while True:\n",
    "    ret, frame = cap.read() # Videodan bir kare oku, \n",
    "                            # 'ret' okuma başarılıysa True olur, \n",
    "                            # 'frame' ise alınan kare\n",
    "    \n",
    "    if not ret: # Eğer kare alınamadıysa döngüden çık\n",
    "        print(\"Video sonuna ulaşıldı veya dosya okunamıyor.\")\n",
    "        break\n",
    "    \n",
    "    fgmask = fgbg.apply(frame)\n",
    "    background = fgbg.getBackgroundImage()\n",
    "    \n",
    "    cv.imshow('input', frame)  # Orijinal video karesini göster\n",
    "    cv.imshow('mask', fgmask)  # Foreground maskesini (hareketli nesneleri) göster\n",
    "    cv.imshow('background', background) # Çıkarılan arka planı göster\n",
    "    \n",
    "    k = cv.waitKey(10)&0xff  # 10 milisaniye bekle ve bir tuş girişini kontrol et\n",
    "    if k ==27:               # Eğer 'Esc' tuşuna basılırsa (ASCII kodu 27), döngüden çık\n",
    "        break"
   ]
  },
  {
   "cell_type": "code",
   "execution_count": 96,
   "metadata": {},
   "outputs": [],
   "source": [
    "cv.destroyAllWindows()"
   ]
  },
  {
   "cell_type": "markdown",
   "metadata": {},
   "source": [
    "Function Source: https://docs.opencv.org/4.x/d8/d38/tutorial_bgsegm_bg_subtraction.html"
   ]
  },
  {
   "cell_type": "markdown",
   "metadata": {},
   "source": [
    "![](ss_of_videos.png)"
   ]
  }
 ],
 "metadata": {
  "kernelspec": {
   "display_name": "Python 3",
   "language": "python",
   "name": "python3"
  },
  "language_info": {
   "codemirror_mode": {
    "name": "ipython",
    "version": 3
   },
   "file_extension": ".py",
   "mimetype": "text/x-python",
   "name": "python",
   "nbconvert_exporter": "python",
   "pygments_lexer": "ipython3",
   "version": "3.12.4"
  }
 },
 "nbformat": 4,
 "nbformat_minor": 2
}
