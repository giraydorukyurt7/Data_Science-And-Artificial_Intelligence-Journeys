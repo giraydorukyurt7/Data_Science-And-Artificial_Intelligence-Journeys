{
 "cells": [
  {
   "cell_type": "markdown",
   "metadata": {},
   "source": [
    "Farneback Algoritması (Dense Optical Flow)"
   ]
  },
  {
   "cell_type": "code",
   "execution_count": 30,
   "metadata": {},
   "outputs": [],
   "source": [
    "import cv2 as cv\n",
    "import numpy as np"
   ]
  },
  {
   "cell_type": "code",
   "execution_count": 31,
   "metadata": {},
   "outputs": [],
   "source": [
    "# Göreceli yol ile video dosyasına erişim\n",
    "video_path = \"../04_VIDEO_ANALYSIS_BACKGROUND_SUBTRACTION_AND_ROI_EXTRACTION_OF_THE_FOREGROUND/pedestrian.mp4\"\n",
    "# VideoCapture nesnesi ile video dosyasını aç\n",
    "cap = cv.VideoCapture(video_path)"
   ]
  },
  {
   "cell_type": "code",
   "execution_count": 32,
   "metadata": {},
   "outputs": [],
   "source": [
    "ret, frame1 = cap.read() # İlk kareyi oku\n",
    "\n",
    "prvs = cv.cvtColor(frame1, cv.COLOR_BGR2GRAY) # İlk kareyi gri tonlamaya çevir"
   ]
  },
  {
   "cell_type": "code",
   "execution_count": 33,
   "metadata": {},
   "outputs": [],
   "source": [
    "# HSV formatında boş bir görüntü matrisi oluştur ve \n",
    "# doygunluk kanalını (S) 255'e ayarla\n",
    "hsv = np.zeros_like(frame1)\n",
    "hsv[..., 1] = 255"
   ]
  },
  {
   "cell_type": "code",
   "execution_count": 34,
   "metadata": {},
   "outputs": [],
   "source": [
    "def dense_opt_flow(hsv, prvs):\n",
    "    while 1: # Sonsuz döngü\n",
    "        ret, frame2 = cap.read() # Bir sonraki kareyi oku\n",
    "\n",
    "        if not ret: # Eğer kare alınamadıysa döngüden çık\n",
    "            print(\"Video sonuna ulaşıldı veya dosya okunamıyor.\")\n",
    "            break\n",
    "                \n",
    "        nextt = cv.cvtColor(frame2, cv.COLOR_BGR2GRAY) # Yeni kareyi gri tonlamaya çevir\n",
    "        \n",
    "        # Farneback algoritması ile optik akışı hesapla\n",
    "        flow = cv.calcOpticalFlowFarneback(\n",
    "            prvs,       # 'prvs': Önceki kare (gri tonlamalı).\n",
    "            nextt,      # 'nextt': Mevcut kare (gri tonlamalı).\n",
    "            None,       # None: Optik akış hesaplamaları için boş matris (ilk değer).\n",
    "            0.5,        # 'pyr_scale': Görüntü piramidi skalası (küçültme oranı), 0.5 = her seviye yarı boyutta.\n",
    "            3,          # 'levels': Piramitteki seviye sayısı (katman sayısı).\n",
    "            15,         # 'winsize': Optik akışın hesaplanacağı pencere boyutu (büyüklüğü pikseller cinsinden).\n",
    "            3,          # 'iterations': Her piramit seviyesi için algoritmanın kaç iterasyon yapacağı.\n",
    "            5,          # 'poly_n': Optik akışın polinomsal genişletme derecesi (genişleme çevresindeki alan).\n",
    "            1.2,        # 'poly_sigma': Gaussian kerneli için sigma değeri (filtreleme pürüzsüzleştirme).\n",
    "            0)           # 'flags': Ekstra işleme bayrakları, burada sıfır (standart işlem).        \n",
    "        \n",
    "        # Akış vektörlerini polar koordinatlara çevir (büyüklük ve açı)\n",
    "        mag, ang = cv.cartToPolar(flow[..., 0], \n",
    "                                  flow[..., 1])\n",
    "        # Açıyı HSV formatının Hue (renk tonu) kanalına aktar\n",
    "        hsv[..., 0] = ang*180/np.pi/2\n",
    "        # Büyüklüğü normalleştir ve HSV'nin parlaklık (V) kanalına aktar\n",
    "        hsv[..., 2] = cv.normalize(mag,        # 'mag': Normalleştirilecek büyüklük verisi (optik akışın büyüklüğü).\n",
    "                                   None,       # None: Çıkış matrisi, burada None kullanılıyor (yeni bir matris oluşturulacak).\n",
    "                                   0,          # 'alpha': Normalleştirilen değerlerin minimum sınırı.\n",
    "                                   255,        # 'beta': Normalleştirilen değerlerin maksimum sınırı.\n",
    "                                   cv.NORM_MINMAX) # 'norm_type': Normalizasyon tipi, burada minimum ve maksimuma göre normalize edilir.\n",
    "            \n",
    "        # HSV'yi geri BGR formatına çevir\n",
    "        bgr = cv.cvtColor(hsv, cv.COLOR_HSV2BGR)\n",
    "        \n",
    "        # Sonraki kareyi ve optik akış sonuçlarını görüntüle\n",
    "        cv.imshow(\"frame2\", bgr)\n",
    "        cv.imshow(\"frame1\", frame2)\n",
    "        \n",
    "        # 'Esc' tuşuna basarak döngüyü sonlandır\n",
    "        k = cv.waitKey(30) & 0xff\n",
    "        if k == 27:\n",
    "            break\n",
    "\n",
    "        prvs = nextt # Sonraki kareyi bir önceki kare olarak ayarla"
   ]
  },
  {
   "cell_type": "code",
   "execution_count": 35,
   "metadata": {},
   "outputs": [
    {
     "name": "stdout",
     "output_type": "stream",
     "text": [
      "Video sonuna ulaşıldı veya dosya okunamıyor.\n"
     ]
    }
   ],
   "source": [
    "dense_opt_flow(hsv, prvs) # Fonksiyonu çağırarak optik akış işlemini başlat"
   ]
  },
  {
   "cell_type": "code",
   "execution_count": 36,
   "metadata": {},
   "outputs": [],
   "source": [
    "cv.destroyAllWindows() # Tüm pencereleri kapat"
   ]
  },
  {
   "cell_type": "markdown",
   "metadata": {},
   "source": [
    "![](ss_of_videos_3.png)"
   ]
  }
 ],
 "metadata": {
  "kernelspec": {
   "display_name": "Python 3",
   "language": "python",
   "name": "python3"
  },
  "language_info": {
   "codemirror_mode": {
    "name": "ipython",
    "version": 3
   },
   "file_extension": ".py",
   "mimetype": "text/x-python",
   "name": "python",
   "nbconvert_exporter": "python",
   "pygments_lexer": "ipython3",
   "version": "3.12.4"
  }
 },
 "nbformat": 4,
 "nbformat_minor": 2
}
